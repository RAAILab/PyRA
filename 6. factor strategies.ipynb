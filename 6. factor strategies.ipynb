{
 "cells": [
  {
   "cell_type": "markdown",
   "source": [
    "# 6장. 팩터 전략"
   ],
   "metadata": {
    "collapsed": false
   }
  },
  {
   "cell_type": "code",
   "execution_count": 2,
   "metadata": {
    "collapsed": true,
    "ExecuteTime": {
     "end_time": "2023-12-06T21:11:29.049968Z",
     "start_time": "2023-12-06T21:11:28.783573Z"
    }
   },
   "outputs": [],
   "source": [
    "# coding: utf-8\n",
    "from typing import Dict, Optional\n",
    "\n",
    "import pandas as pd\n",
    "import plotly.express as px\n",
    "\n",
    "from data.data_loader import PykrxDataLoader\n",
    "from simulation.account import Account\n",
    "from simulation.broker import Broker\n",
    "from simulation.metric import cagr, mdd, sharpe_ratio, sortino_ratio\n",
    "from simulation.utility import get_lookback_fromdate, rebalance"
   ]
  },
  {
   "cell_type": "markdown",
   "source": [
    "## 1. 팩터 투자"
   ],
   "metadata": {
    "collapsed": false
   }
  },
  {
   "cell_type": "markdown",
   "source": [
    "### 1.1. 유틸리티 함수 정의"
   ],
   "metadata": {
    "collapsed": false
   }
  },
  {
   "cell_type": "code",
   "execution_count": 3,
   "outputs": [],
   "source": [
    "def date_adjust(index_df: pd.DataFrame, df: pd.DataFrame):\n",
    "    new_index = downsample_df(index_df).index\n",
    "    # 원래 인덱스에 새 인덱스 삽입\n",
    "    df.index = df.index.map(lambda x: x.replace(day=new_index[\n",
    "        (new_index.year == x.year) & (new_index.month == x.month)][0].day))\n",
    "\n",
    "    return df\n",
    "\n",
    "\n",
    "def downsample_df(df: pd.DataFrame) -> pd.DataFrame:\n",
    "    data = df.copy()\n",
    "    data.index = pd.to_datetime(data.index)\n",
    "    data['date'] = data.index\n",
    "    data = data.resample('M').apply('last')\n",
    "\n",
    "    return data.set_index(pd.DatetimeIndex(data.date)).drop(columns=['date'])"
   ],
   "metadata": {
    "collapsed": false,
    "ExecuteTime": {
     "end_time": "2023-12-06T21:11:30.174178Z",
     "start_time": "2023-12-06T21:11:30.166848Z"
    }
   }
  },
  {
   "cell_type": "markdown",
   "source": [
    "### 1.2. 팩터 전략 정의하기"
   ],
   "metadata": {
    "collapsed": false
   }
  },
  {
   "cell_type": "markdown",
   "source": [
    "#### 1.2.1. 모멘텀(상대) 전략 정의하기"
   ],
   "metadata": {
    "collapsed": false
   }
  },
  {
   "cell_type": "code",
   "execution_count": 44,
   "outputs": [],
   "source": [
    "def calculate_momentum(ohlcv_data: pd.DataFrame,\n",
    "                       lookback_period: int,\n",
    "                       skip_period: int) -> pd.DataFrame:\n",
    "    # 데이터 재구조화\n",
    "    data = ohlcv_data[['close', 'ticker']].reset_index().set_index(\n",
    "        ['ticker', 'date']).unstack(level=0)['close']\n",
    "\n",
    "    # 팩터 계산(모멘텀)\n",
    "    momentum_data = data.shift(periods=skip_period).rolling(\n",
    "        window=lookback_period).apply(lambda x: x[-1] / x[0] - 1)\n",
    "\n",
    "    return momentum_data"
   ],
   "metadata": {
    "collapsed": false,
    "ExecuteTime": {
     "end_time": "2023-12-07T05:11:17.084335Z",
     "start_time": "2023-12-07T05:11:17.079956Z"
    }
   }
  },
  {
   "cell_type": "markdown",
   "source": [
    "#### 1.2.2. 가치(PER, PBR) 및 배당 전략 정의하기"
   ],
   "metadata": {
    "collapsed": false
   }
  },
  {
   "cell_type": "code",
   "execution_count": 45,
   "outputs": [],
   "source": [
    "def calculate_fundamental(ohlcv_data: pd.DataFrame,\n",
    "                          market_cap_data: pd.DataFrame,\n",
    "                          fundamental_data: pd.DataFrame,\n",
    "                          strategy_name: str,\n",
    "                          lookback_period: int = 12, ) -> pd.DataFrame:\n",
    "    # 룩백 길이 변환\n",
    "    if ohlcv_data.frequency == 'd': lookback_period = int(lookback_period / 21)\n",
    "\n",
    "    # 데이터 재구조화(OHLCV)\n",
    "    data = ohlcv_data[['close', 'ticker']].reset_index().set_index(\n",
    "        ['ticker', 'date']).unstack(level=0)['close']\n",
    "\n",
    "    # 데이터 조정 및 재구조화(기본)\n",
    "    fundamental_data = fundamental_adjuster(fundamental_data=fundamental_data,\n",
    "                                            market_cap_data=market_cap_data)\n",
    "    mapping = {'per': 'EPS', 'pbr': 'BPS', 'dividend': 'DPS'}\n",
    "    target_fundamental = mapping.get(strategy_name)\n",
    "    fundamental_data = fundamental_data[\n",
    "        ['date', target_fundamental, 'ticker']].reset_index().set_index(\n",
    "        ['ticker', 'date']).unstack(level=0)[target_fundamental]\n",
    "\n",
    "    # 펀더멘탈 데이터 날짜 수정\n",
    "    fundamental_data = date_adjust(index_df=data, df=fundamental_data)\n",
    "\n",
    "    # 팩터 계산(PER, PBR, 배당)\n",
    "    if strategy_name == \"per\":\n",
    "        fundamental_data = fundamental_data.rolling(\n",
    "            window=lookback_period).sum()\n",
    "        fundamental_data = data / fundamental_data\n",
    "    elif strategy_name == 'pbr':\n",
    "        fundamental_data = data / fundamental_data\n",
    "    elif strategy_name == 'dividend':\n",
    "        fundamental_data = fundamental_data / data\n",
    "    else:\n",
    "        raise ValueError\n",
    "\n",
    "    return fundamental_data\n",
    "\n",
    "\n",
    "def fundamental_adjuster(fundamental_data: pd.DataFrame,\n",
    "                         market_cap_data: pd.DataFrame) -> pd.DataFrame:\n",
    "    # 현재 주식 수로 나누기\n",
    "    market_cap_data['shares_div'] = market_cap_data['shares'].div(\n",
    "        market_cap_data.groupby('ticker')['shares'].transform('last'))\n",
    "    market_cap_data = market_cap_data[['shares_div', 'ticker']].reset_index()\n",
    "\n",
    "    # 조정\n",
    "    data = fundamental_data.reset_index().merge(\n",
    "        market_cap_data, on=['date', 'ticker']).set_index(['date'])\n",
    "    data['EPS'] = data['shares_div'] * data['EPS']\n",
    "    data['BPS'] = data['shares_div'] * data['BPS']\n",
    "    data['DPS'] = data['shares_div'] * data['DPS']\n",
    "\n",
    "    # 주식 수 바뀐 당일 오류 탐색\n",
    "    changed_row = data.copy()\n",
    "    changed_row['previous'] = changed_row.shares_div.shift(1)\n",
    "    changed_row = changed_row[changed_row.shares_div != changed_row.previous]\n",
    "    changed_row = changed_row.reset_index().set_index(['ticker', 'date'])\n",
    "\n",
    "    # 당일 오류 정정\n",
    "    data = data.reset_index().set_index(['ticker', 'date'])\n",
    "    for i, index in enumerate(data.index):\n",
    "        if index in changed_row.index:\n",
    "            data.loc[index] = data.iloc[i + 1]\n",
    "\n",
    "    return data.reset_index()[['ticker', 'date', 'BPS', 'EPS', 'DPS']]"
   ],
   "metadata": {
    "collapsed": false,
    "ExecuteTime": {
     "end_time": "2023-12-07T05:11:29.349194Z",
     "start_time": "2023-12-07T05:11:29.344498Z"
    }
   }
  },
  {
   "cell_type": "markdown",
   "source": [
    "#### 1.2.3. 소형주 전략 정의하기"
   ],
   "metadata": {
    "collapsed": false
   }
  },
  {
   "cell_type": "code",
   "execution_count": 6,
   "outputs": [],
   "source": [
    "def calculate_small(ohlcv_data: pd.DataFrame,\n",
    "                    market_cap_data: pd.DataFrame) -> pd.DataFrame:\n",
    "    # 데이터 재구조화(OHLCV)\n",
    "    data = ohlcv_data[['close', 'ticker']].reset_index().set_index(\n",
    "        ['ticker', 'date']).unstack(level=0)['close']\n",
    "\n",
    "    # 데이터 재구조화(주식 수)\n",
    "    market_cap_data = market_cap_data[['shares',\n",
    "                                       'ticker']].reset_index().set_index(\n",
    "        ['ticker', 'date']).unstack(level=0)['shares']\n",
    "\n",
    "    # 시장 데이터 날짜 수정\n",
    "    market_cap_data = date_adjust(index_df=data, df=market_cap_data)\n",
    "\n",
    "    # 팩터 계산(시가총액)\n",
    "    market_cap_data = market_cap_data * data\n",
    "\n",
    "    return market_cap_data"
   ],
   "metadata": {
    "collapsed": false,
    "ExecuteTime": {
     "end_time": "2023-12-06T21:11:32.141617Z",
     "start_time": "2023-12-06T21:11:32.135507Z"
    }
   }
  },
  {
   "cell_type": "markdown",
   "source": [
    "#### 1.2.4. 로우볼 전략 정의하기"
   ],
   "metadata": {
    "collapsed": false
   }
  },
  {
   "cell_type": "code",
   "execution_count": 49,
   "outputs": [],
   "source": [
    "def calculate_lowvol(ohlcv_data: pd.DataFrame,\n",
    "                     lookback_period: int) -> pd.DataFrame:\n",
    "    # 데이터 재구조화\n",
    "    data = ohlcv_data[['close', 'ticker']].reset_index().set_index(\n",
    "        ['ticker', 'date']).unstack(level=0)['close']\n",
    "\n",
    "    # 팩터 계산(표준편차)\n",
    "    std_data = data.pct_change().rolling(lookback_period).std()\n",
    "\n",
    "    return std_data"
   ],
   "metadata": {
    "collapsed": false,
    "ExecuteTime": {
     "end_time": "2023-12-07T05:12:18.764014Z",
     "start_time": "2023-12-07T05:12:18.757458Z"
    }
   }
  },
  {
   "cell_type": "markdown",
   "source": [
    "#### 1.2.5. 수급 주체에 따른 투자 전략 정의하기"
   ],
   "metadata": {
    "collapsed": false
   }
  },
  {
   "cell_type": "code",
   "execution_count": 8,
   "outputs": [],
   "source": [
    "def calculate_trader(ohlcv_data: pd.DataFrame,\n",
    "                     market_cap_data: pd.DataFrame,\n",
    "                     trader_data: pd.DataFrame,\n",
    "                     strategy_name: str,\n",
    "                     lookback_period: Optional[int] = 1) -> pd.DataFrame:\n",
    "    # 룩백 길이 변환\n",
    "    if ohlcv_data.frequency == 'd': lookback_period = int(lookback_period / 21)\n",
    "\n",
    "    # 데이터 재구조화(OHLCV)\n",
    "    data = ohlcv_data[['close', 'ticker']].reset_index().set_index(\n",
    "        ['ticker', 'date']).unstack(level=0)['close']\n",
    "\n",
    "    # 데이터 재구조화(주식 수)\n",
    "    market_cap_data = market_cap_data[['shares',\n",
    "                                       'ticker']].reset_index().set_index(\n",
    "        ['ticker', 'date']).unstack(level=0)['shares']\n",
    "\n",
    "    # 데이터 재구조화(수급 주체)\n",
    "    trader_data = trader_data[[strategy_name,\n",
    "                               'ticker']].reset_index().set_index(\n",
    "        ['ticker', 'date']).unstack(level=0)[strategy_name]\n",
    "    trader_data = trader_data.rolling(window=lookback_period).sum()\n",
    "\n",
    "    # 시장 및 수급 주체 데이터 날짜 수정\n",
    "    market_cap_data = date_adjust(index_df=data, df=market_cap_data)\n",
    "    trader_data = date_adjust(index_df=data, df=trader_data)\n",
    "\n",
    "    # 팩터 계산(수급 주체)\n",
    "    market_cap_data = market_cap_data * data\n",
    "    trader_data = trader_data / market_cap_data\n",
    "\n",
    "    return trader_data"
   ],
   "metadata": {
    "collapsed": false,
    "ExecuteTime": {
     "end_time": "2023-12-06T21:11:33.063171Z",
     "start_time": "2023-12-06T21:11:33.057896Z"
    }
   }
  },
  {
   "cell_type": "markdown",
   "source": [
    "#### 1.2.6. 멀티 팩터 투자 전략 정의하기"
   ],
   "metadata": {
    "collapsed": false
   }
  },
  {
   "cell_type": "code",
   "execution_count": 9,
   "outputs": [],
   "source": [
    "def calculate_multifactor(ohlcv_data: pd.DataFrame,\n",
    "                          oracle: bool = False) -> pd.DataFrame:\n",
    "    # 포트폴리오 csv 가져오기\n",
    "    filename = 'factor/ticker_weight_real.csv' if oracle else 'factor/ticker_weight_pred.csv'\n",
    "\n",
    "    # 형태 조정\n",
    "    premade = pd.read_csv(filename, index_col=0)\n",
    "    premade.ticker = premade.ticker.astype(str).str.zfill(6)\n",
    "    premade = premade.set_index(['ticker', 'date']).unstack(level=0).weight\n",
    "    premade.index = pd.to_datetime(premade.index)\n",
    "\n",
    "    # 데이터 크기 맞추기\n",
    "    date_pad = downsample_df(ohlcv_data).drop(columns=ohlcv_data.columns)\n",
    "    padded_premade = pd.concat([date_pad, premade])\n",
    "    padded_premade = padded_premade[\n",
    "        ~padded_premade.index.duplicated(keep='last')]\n",
    "\n",
    "    return padded_premade.sort_index()"
   ],
   "metadata": {
    "collapsed": false,
    "ExecuteTime": {
     "end_time": "2023-12-06T21:11:34.024427Z",
     "start_time": "2023-12-06T21:11:34.019982Z"
    }
   }
  },
  {
   "cell_type": "markdown",
   "source": [
    "### 1.3. 시뮬레이션을 위한 함수 정의하기"
   ],
   "metadata": {
    "collapsed": false
   }
  },
  {
   "cell_type": "code",
   "execution_count": 10,
   "outputs": [],
   "source": [
    "def get_factor_weight(factor_data: pd.DataFrame,\n",
    "                      buying_ratio: float,\n",
    "                      strategy_name: str) -> Optional[Dict]:\n",
    "    # 데이터 중 결측치가 있는지 확인함\n",
    "    if factor_data.isnull().values.any():\n",
    "        return None\n",
    "\n",
    "    # 매수 주식 선정\n",
    "    reverse = {'per', 'pbr', 'small', 'lovwol'}\n",
    "    ratio = buying_ratio if strategy_name in reverse else 1 - buying_ratio\n",
    "    top_quantile = factor_data.quantile(ratio)\n",
    "    if strategy_name in reverse:\n",
    "        stocks_to_buy = factor_data[factor_data <= top_quantile].index.to_list()\n",
    "    else:\n",
    "        stocks_to_buy = factor_data[factor_data >= top_quantile].index.to_list()\n",
    "\n",
    "    # 주식 비율 할당\n",
    "    weights = 1 / len(stocks_to_buy) if stocks_to_buy else 0\n",
    "    portfolio = {ticker: weights if ticker in stocks_to_buy else 0.0 for ticker\n",
    "                 in factor_data.index}\n",
    "\n",
    "    return portfolio"
   ],
   "metadata": {
    "collapsed": false,
    "ExecuteTime": {
     "end_time": "2023-12-06T21:11:34.492159Z",
     "start_time": "2023-12-06T21:11:34.487767Z"
    }
   }
  },
  {
   "cell_type": "markdown",
   "source": [
    "### 1.4. 팩터 투자 전략을 이용한 시뮬레이션 함수 정의하기"
   ],
   "metadata": {
    "collapsed": false
   }
  },
  {
   "cell_type": "code",
   "execution_count": 46,
   "outputs": [],
   "source": [
    "def simulate_factor(ohlcv_data: pd.DataFrame,\n",
    "                    market_cap_data: Optional[pd.DataFrame],\n",
    "                    fundamental_data: Optional[pd.DataFrame],\n",
    "                    trader_data: Optional[pd.DataFrame],\n",
    "                    lookback_period: Optional[int],\n",
    "                    skip_period: Optional[int],\n",
    "                    strategy_name: str,\n",
    "                    buying_ratio: float = 0.1) -> Account:\n",
    "    # 계좌 및 브로커 선언\n",
    "    account = Account(initial_cash=100000000)\n",
    "    broker = Broker()\n",
    "\n",
    "    # 팩터 계산\n",
    "    if strategy_name == 'relative':\n",
    "        factor_data = calculate_momentum(ohlcv_data=ohlcv_data,\n",
    "                                         lookback_period=lookback_period,\n",
    "                                         skip_period=skip_period, )\n",
    "    elif strategy_name in {'per', 'pbr', 'dividend'}:\n",
    "        factor_data = calculate_fundamental(ohlcv_data=ohlcv_data,\n",
    "                                            market_cap_data=market_cap_data,\n",
    "                                            fundamental_data=fundamental_data,\n",
    "                                            lookback_period=lookback_period,\n",
    "                                            strategy_name=strategy_name)\n",
    "    elif strategy_name == 'small':\n",
    "        factor_data = calculate_small(ohlcv_data=ohlcv_data,\n",
    "                                      market_cap_data=market_cap_data)\n",
    "    elif strategy_name in {'individual', 'institutional', 'foreign'}:\n",
    "        factor_data = calculate_trader(ohlcv_data=ohlcv_data,\n",
    "                                       market_cap_data=market_cap_data,\n",
    "                                       trader_data=trader_data,\n",
    "                                       lookback_period=lookback_period,\n",
    "                                       strategy_name=strategy_name)\n",
    "    elif strategy_name == 'lowvol':\n",
    "        factor_data = calculate_lowvol(ohlcv_data=ohlcv_data,\n",
    "                                       lookback_period=lookback_period)\n",
    "    elif strategy_name == 'multifactor':\n",
    "        factor_data = calculate_multifactor(ohlcv_data=ohlcv_data)\n",
    "    else:\n",
    "        raise ValueError\n",
    "\n",
    "    # 월별 리밸런싱 날짜 추출\n",
    "    month_end = downsample_df(ohlcv_data).index\n",
    "\n",
    "    for date, ohlcv in ohlcv_data.groupby(['date']):\n",
    "        # 주문 집행 및 계좌 갱신\n",
    "        transactions = broker.process_order(dt=date, data=ohlcv,\n",
    "                                            orders=account.orders)\n",
    "        account.update_position(transactions=transactions)\n",
    "        account.update_portfolio(dt=date, data=ohlcv)\n",
    "        account.update_order()\n",
    "\n",
    "        # 리밸런싱 날짜가 아닐 경우 넘어가기\n",
    "        if date not in month_end:\n",
    "            continue\n",
    "\n",
    "        # 팩터 전략을 이용하여 포트폴리오 구성\n",
    "        factor_data_slice = factor_data.loc[date]\n",
    "        weights = get_factor_weight(factor_data=factor_data_slice,\n",
    "                                    buying_ratio=buying_ratio,\n",
    "                                    strategy_name=strategy_name)\n",
    "\n",
    "        print(f'Portfolio: {weights}')\n",
    "        if weights is None:\n",
    "            continue\n",
    "\n",
    "        # 포트폴리오 비율 갱신\n",
    "        account.update_weight(dt=date, weight=weights)\n",
    "\n",
    "        # 주문 생성\n",
    "        rebalance(dt=date, data=ohlcv, account=account, weights=weights)\n",
    "\n",
    "    # 리밸런싱 날짜만 남기기\n",
    "    account.account_history = [item for item in account.account_history if\n",
    "                               item['date'].date() in month_end.date]\n",
    "\n",
    "    return account"
   ],
   "metadata": {
    "collapsed": false,
    "ExecuteTime": {
     "end_time": "2023-12-07T05:11:37.467921Z",
     "start_time": "2023-12-07T05:11:37.458307Z"
    }
   }
  },
  {
   "cell_type": "markdown",
   "source": [
    "### 1.5. 데이터 불러오기"
   ],
   "metadata": {
    "collapsed": false
   }
  },
  {
   "cell_type": "code",
   "execution_count": 12,
   "outputs": [
    {
     "name": "stdout",
     "output_type": "stream",
     "text": [
      "주가 데이터: (7035, 7), 기본 데이터: (7035, 7), 주식 수 데이터: (7035, 5), 수급 주체 데이터: (7035, 6)\n"
     ]
    }
   ],
   "source": [
    "# 데이터 시작과 끝 날짜 정의\n",
    "fromdate = '2013-04-01'\n",
    "todate = '2021-12-31'\n",
    "\n",
    "# 투자할 종목 후보 정의\n",
    "ticker_list = ['000660', '005490', '051910', '006400', '005380', '000270',\n",
    "               '012330', '068270', '105560', '096770', '055550', '066570',\n",
    "               '047050', '032830', '015760', '086790', '000810', '033780',\n",
    "               '034730', '034020', '009150', '138040', '010130', '001570',\n",
    "               '010950', '024110', '030200', '051900', '009830', '086280',\n",
    "               '011170', '011070', '012450', '036570', '005830', '161390',\n",
    "               '034220', '004020', '032640', '097950', '000720', '006800',\n",
    "               '006260', '010620', '011780', '078930', '005940', '029780',\n",
    "               '128940', '035250', '016360', '021240', '010120', '052690',\n",
    "               '008770', '071050', '000990', '001450', '020150', '039490',\n",
    "               '111770', '000880', '004370', '036460', '007070', '138930',\n",
    "               '139480', ]\n",
    "\n",
    "# 데이터 불러오기\n",
    "data_loader = PykrxDataLoader(fromdate=fromdate, todate=todate, market=\"KOSPI\")\n",
    "ohlcv_data = data_loader.load_stock_data(ticker_list=ticker_list, freq='m',\n",
    "                                         delay=1)\n",
    "ohlcv_data_day = data_loader.load_stock_data(ticker_list=ticker_list, freq='d',\n",
    "                                             delay=1)\n",
    "fundamental_data = data_loader.load_fundamental_data(ticker_list=ticker_list,\n",
    "                                                     freq='m', delay=1)\n",
    "market_cap_data = data_loader.load_market_cap_data(ticker_list=ticker_list,\n",
    "                                                   freq='m', delay=1)\n",
    "trader_data = data_loader.load_trader_data(ticker_list=ticker_list, freq='m',\n",
    "                                           delay=1)\n",
    "\n",
    "# 데이터 확인하기\n",
    "print(f'주가 데이터: {ohlcv_data.shape}, 기본 데이터: {fundamental_data.shape}, '\n",
    "      f'주식 수 데이터: {market_cap_data.shape}, 수급 주체 데이터: {trader_data.shape}')"
   ],
   "metadata": {
    "collapsed": false,
    "ExecuteTime": {
     "end_time": "2023-12-06T21:54:56.206271Z",
     "start_time": "2023-12-06T21:11:35.176779Z"
    }
   }
  },
  {
   "cell_type": "markdown",
   "source": [
    "### 1.6. 전략 실행하기"
   ],
   "metadata": {
    "collapsed": false
   }
  },
  {
   "cell_type": "code",
   "execution_count": 13,
   "outputs": [],
   "source": [
    "# 시뮬레이션 시작일\n",
    "simulation_fromdate = '2017-02-01'"
   ],
   "metadata": {
    "collapsed": false,
    "ExecuteTime": {
     "end_time": "2023-12-06T21:54:56.212146Z",
     "start_time": "2023-12-06T21:54:56.208379Z"
    }
   }
  },
  {
   "cell_type": "code",
   "execution_count": 16,
   "outputs": [],
   "source": [
    "def df_slicer(df: pd.DataFrame, fromdate: str):\n",
    "    frequency = df.frequency if hasattr(df, 'frequency') else None\n",
    "    sliced_df = df[fromdate:]\n",
    "    sliced_df.__setattr__('frequency', frequency)\n",
    "\n",
    "    return sliced_df"
   ],
   "metadata": {
    "collapsed": false,
    "ExecuteTime": {
     "end_time": "2023-12-07T04:51:18.311051Z",
     "start_time": "2023-12-07T04:51:18.298322Z"
    }
   }
  },
  {
   "cell_type": "markdown",
   "source": [
    "#### 1.6.1. 상대모멘텀 전략 실행하기"
   ],
   "metadata": {
    "collapsed": false
   }
  },
  {
   "cell_type": "code",
   "execution_count": 47,
   "outputs": [
    {
     "name": "stderr",
     "output_type": "stream",
     "text": [
      "/var/folders/j2/p6vmvrcs1kg7j9c8811510sc0000gn/T/ipykernel_87974/888467401.py:44: FutureWarning: In a future version of pandas, a length 1 tuple will be returned when iterating over a groupby with a grouper equal to a list of length 1. Don't supply a list with a single grouper to avoid this warning.\n",
      "  for date, ohlcv in ohlcv_data.groupby(['date']):\n"
     ]
    },
    {
     "name": "stdout",
     "output_type": "stream",
     "text": [
      "Portfolio: None\n",
      "Portfolio: None\n",
      "Portfolio: None\n",
      "Portfolio: None\n",
      "Portfolio: {'000270': 0.0, '000660': 0.0, '000720': 0.0, '000810': 0.0, '000880': 0.0, '000990': 0.0, '001450': 0.0, '001570': 0.0, '004020': 0.14285714285714285, '004370': 0.0, '005380': 0.0, '005490': 0.0, '005830': 0.0, '005940': 0.0, '006260': 0.0, '006400': 0.14285714285714285, '006800': 0.14285714285714285, '007070': 0.0, '008770': 0.0, '009150': 0.0, '009830': 0.0, '010120': 0.0, '010130': 0.0, '010620': 0.0, '010950': 0.0, '011070': 0.14285714285714285, '011170': 0.0, '011780': 0.0, '012330': 0.0, '012450': 0.0, '015760': 0.0, '016360': 0.0, '020150': 0.14285714285714285, '021240': 0.0, '024110': 0.0, '029780': 0.0, '030200': 0.0, '032640': 0.0, '032830': 0.0, '033780': 0.0, '034020': 0.0, '034220': 0.0, '034730': 0.0, '035250': 0.0, '036460': 0.0, '036570': 0.0, '039490': 0.0, '047050': 0.0, '051900': 0.0, '051910': 0.14285714285714285, '052690': 0.0, '055550': 0.0, '066570': 0.14285714285714285, '068270': 0.0, '071050': 0.0, '078930': 0.0, '086280': 0.0, '086790': 0.0, '096770': 0.0, '097950': 0.0, '105560': 0.0, '111770': 0.0, '128940': 0.0, '138040': 0.0, '138930': 0.0, '139480': 0.0, '161390': 0.0}\n",
      "Portfolio: {'000270': 0.0, '000660': 0.0, '000720': 0.0, '000810': 0.0, '000880': 0.0, '000990': 0.0, '001450': 0.0, '001570': 0.0, '004020': 0.0, '004370': 0.0, '005380': 0.0, '005490': 0.0, '005830': 0.0, '005940': 0.14285714285714285, '006260': 0.0, '006400': 0.14285714285714285, '006800': 0.0, '007070': 0.0, '008770': 0.0, '009150': 0.14285714285714285, '009830': 0.0, '010120': 0.0, '010130': 0.0, '010620': 0.14285714285714285, '010950': 0.0, '011070': 0.14285714285714285, '011170': 0.0, '011780': 0.0, '012330': 0.0, '012450': 0.0, '015760': 0.0, '016360': 0.0, '020150': 0.0, '021240': 0.0, '024110': 0.0, '029780': 0.0, '030200': 0.0, '032640': 0.14285714285714285, '032830': 0.0, '033780': 0.0, '034020': 0.0, '034220': 0.0, '034730': 0.0, '035250': 0.0, '036460': 0.0, '036570': 0.0, '039490': 0.0, '047050': 0.0, '051900': 0.0, '051910': 0.0, '052690': 0.0, '055550': 0.0, '066570': 0.14285714285714285, '068270': 0.0, '071050': 0.0, '078930': 0.0, '086280': 0.0, '086790': 0.0, '096770': 0.0, '097950': 0.0, '105560': 0.0, '111770': 0.0, '128940': 0.0, '138040': 0.0, '138930': 0.0, '139480': 0.0, '161390': 0.0}\n",
      "Portfolio: {'000270': 0.0, '000660': 0.0, '000720': 0.14285714285714285, '000810': 0.0, '000880': 0.0, '000990': 0.0, '001450': 0.0, '001570': 0.0, '004020': 0.0, '004370': 0.0, '005380': 0.0, '005490': 0.0, '005830': 0.0, '005940': 0.0, '006260': 0.0, '006400': 0.0, '006800': 0.0, '007070': 0.0, '008770': 0.0, '009150': 0.0, '009830': 0.0, '010120': 0.14285714285714285, '010130': 0.0, '010620': 0.0, '010950': 0.0, '011070': 0.14285714285714285, '011170': 0.0, '011780': 0.0, '012330': 0.0, '012450': 0.0, '015760': 0.0, '016360': 0.0, '020150': 0.14285714285714285, '021240': 0.0, '024110': 0.0, '029780': 0.0, '030200': 0.0, '032640': 0.14285714285714285, '032830': 0.0, '033780': 0.0, '034020': 0.0, '034220': 0.0, '034730': 0.0, '035250': 0.0, '036460': 0.0, '036570': 0.0, '039490': 0.0, '047050': 0.0, '051900': 0.0, '051910': 0.0, '052690': 0.0, '055550': 0.0, '066570': 0.14285714285714285, '068270': 0.0, '071050': 0.0, '078930': 0.0, '086280': 0.0, '086790': 0.0, '096770': 0.0, '097950': 0.0, '105560': 0.0, '111770': 0.14285714285714285, '128940': 0.0, '138040': 0.0, '138930': 0.0, '139480': 0.0, '161390': 0.0}\n",
      "Portfolio: {'000270': 0.0, '000660': 0.0, '000720': 0.0, '000810': 0.0, '000880': 0.14285714285714285, '000990': 0.0, '001450': 0.0, '001570': 0.0, '004020': 0.0, '004370': 0.0, '005380': 0.0, '005490': 0.0, '005830': 0.0, '005940': 0.0, '006260': 0.0, '006400': 0.0, '006800': 0.0, '007070': 0.0, '008770': 0.0, '009150': 0.14285714285714285, '009830': 0.0, '010120': 0.0, '010130': 0.0, '010620': 0.0, '010950': 0.0, '011070': 0.0, '011170': 0.0, '011780': 0.0, '012330': 0.0, '012450': 0.0, '015760': 0.0, '016360': 0.0, '020150': 0.14285714285714285, '021240': 0.0, '024110': 0.0, '029780': 0.0, '030200': 0.0, '032640': 0.0, '032830': 0.0, '033780': 0.0, '034020': 0.0, '034220': 0.0, '034730': 0.0, '035250': 0.0, '036460': 0.0, '036570': 0.14285714285714285, '039490': 0.0, '047050': 0.0, '051900': 0.0, '051910': 0.0, '052690': 0.0, '055550': 0.0, '066570': 0.14285714285714285, '068270': 0.0, '071050': 0.14285714285714285, '078930': 0.14285714285714285, '086280': 0.0, '086790': 0.0, '096770': 0.0, '097950': 0.0, '105560': 0.0, '111770': 0.0, '128940': 0.0, '138040': 0.0, '138930': 0.0, '139480': 0.0, '161390': 0.0}\n",
      "Portfolio: {'000270': 0.0, '000660': 0.14285714285714285, '000720': 0.0, '000810': 0.0, '000880': 0.14285714285714285, '000990': 0.0, '001450': 0.0, '001570': 0.0, '004020': 0.0, '004370': 0.0, '005380': 0.0, '005490': 0.0, '005830': 0.0, '005940': 0.0, '006260': 0.0, '006400': 0.0, '006800': 0.0, '007070': 0.0, '008770': 0.14285714285714285, '009150': 0.14285714285714285, '009830': 0.0, '010120': 0.0, '010130': 0.0, '010620': 0.0, '010950': 0.0, '011070': 0.0, '011170': 0.0, '011780': 0.0, '012330': 0.0, '012450': 0.0, '015760': 0.0, '016360': 0.0, '020150': 0.14285714285714285, '021240': 0.0, '024110': 0.0, '029780': 0.0, '030200': 0.0, '032640': 0.0, '032830': 0.0, '033780': 0.0, '034020': 0.0, '034220': 0.0, '034730': 0.0, '035250': 0.0, '036460': 0.0, '036570': 0.14285714285714285, '039490': 0.0, '047050': 0.0, '051900': 0.0, '051910': 0.0, '052690': 0.0, '055550': 0.0, '066570': 0.0, '068270': 0.0, '071050': 0.14285714285714285, '078930': 0.0, '086280': 0.0, '086790': 0.0, '096770': 0.0, '097950': 0.0, '105560': 0.0, '111770': 0.0, '128940': 0.0, '138040': 0.0, '138930': 0.0, '139480': 0.0, '161390': 0.0}\n",
      "Portfolio: {'000270': 0.0, '000660': 0.0, '000720': 0.0, '000810': 0.0, '000880': 0.0, '000990': 0.0, '001450': 0.14285714285714285, '001570': 0.0, '004020': 0.0, '004370': 0.0, '005380': 0.0, '005490': 0.0, '005830': 0.0, '005940': 0.0, '006260': 0.14285714285714285, '006400': 0.0, '006800': 0.0, '007070': 0.0, '008770': 0.0, '009150': 0.0, '009830': 0.14285714285714285, '010120': 0.0, '010130': 0.0, '010620': 0.0, '010950': 0.0, '011070': 0.0, '011170': 0.0, '011780': 0.0, '012330': 0.0, '012450': 0.0, '015760': 0.0, '016360': 0.0, '020150': 0.14285714285714285, '021240': 0.0, '024110': 0.0, '029780': 0.0, '030200': 0.0, '032640': 0.0, '032830': 0.0, '033780': 0.0, '034020': 0.0, '034220': 0.0, '034730': 0.0, '035250': 0.0, '036460': 0.0, '036570': 0.0, '039490': 0.0, '047050': 0.0, '051900': 0.0, '051910': 0.0, '052690': 0.0, '055550': 0.0, '066570': 0.0, '068270': 0.0, '071050': 0.14285714285714285, '078930': 0.14285714285714285, '086280': 0.0, '086790': 0.14285714285714285, '096770': 0.0, '097950': 0.0, '105560': 0.0, '111770': 0.0, '128940': 0.0, '138040': 0.0, '138930': 0.0, '139480': 0.0, '161390': 0.0}\n",
      "Portfolio: {'000270': 0.0, '000660': 0.0, '000720': 0.0, '000810': 0.0, '000880': 0.0, '000990': 0.0, '001450': 0.0, '001570': 0.0, '004020': 0.0, '004370': 0.0, '005380': 0.0, '005490': 0.14285714285714285, '005830': 0.0, '005940': 0.0, '006260': 0.0, '006400': 0.14285714285714285, '006800': 0.0, '007070': 0.0, '008770': 0.0, '009150': 0.14285714285714285, '009830': 0.0, '010120': 0.0, '010130': 0.0, '010620': 0.0, '010950': 0.14285714285714285, '011070': 0.14285714285714285, '011170': 0.0, '011780': 0.0, '012330': 0.0, '012450': 0.0, '015760': 0.0, '016360': 0.0, '020150': 0.14285714285714285, '021240': 0.0, '024110': 0.0, '029780': 0.0, '030200': 0.0, '032640': 0.0, '032830': 0.0, '033780': 0.0, '034020': 0.0, '034220': 0.0, '034730': 0.0, '035250': 0.0, '036460': 0.0, '036570': 0.0, '039490': 0.0, '047050': 0.0, '051900': 0.0, '051910': 0.14285714285714285, '052690': 0.0, '055550': 0.0, '066570': 0.0, '068270': 0.0, '071050': 0.0, '078930': 0.0, '086280': 0.0, '086790': 0.0, '096770': 0.0, '097950': 0.0, '105560': 0.0, '111770': 0.0, '128940': 0.0, '138040': 0.0, '138930': 0.0, '139480': 0.0, '161390': 0.0}\n",
      "Portfolio: {'000270': 0.0, '000660': 0.14285714285714285, '000720': 0.0, '000810': 0.0, '000880': 0.0, '000990': 0.0, '001450': 0.0, '001570': 0.0, '004020': 0.0, '004370': 0.0, '005380': 0.0, '005490': 0.0, '005830': 0.0, '005940': 0.0, '006260': 0.0, '006400': 0.0, '006800': 0.0, '007070': 0.0, '008770': 0.0, '009150': 0.0, '009830': 0.14285714285714285, '010120': 0.0, '010130': 0.0, '010620': 0.0, '010950': 0.14285714285714285, '011070': 0.0, '011170': 0.0, '011780': 0.0, '012330': 0.0, '012450': 0.0, '015760': 0.0, '016360': 0.0, '020150': 0.0, '021240': 0.0, '024110': 0.0, '029780': 0.0, '030200': 0.0, '032640': 0.0, '032830': 0.0, '033780': 0.0, '034020': 0.0, '034220': 0.0, '034730': 0.0, '035250': 0.0, '036460': 0.0, '036570': 0.0, '039490': 0.0, '047050': 0.0, '051900': 0.0, '051910': 0.14285714285714285, '052690': 0.0, '055550': 0.0, '066570': 0.0, '068270': 0.14285714285714285, '071050': 0.0, '078930': 0.0, '086280': 0.0, '086790': 0.14285714285714285, '096770': 0.14285714285714285, '097950': 0.0, '105560': 0.0, '111770': 0.0, '128940': 0.0, '138040': 0.0, '138930': 0.0, '139480': 0.0, '161390': 0.0}\n",
      "Portfolio: {'000270': 0.0, '000660': 0.14285714285714285, '000720': 0.0, '000810': 0.0, '000880': 0.0, '000990': 0.0, '001450': 0.0, '001570': 0.0, '004020': 0.0, '004370': 0.0, '005380': 0.0, '005490': 0.0, '005830': 0.0, '005940': 0.0, '006260': 0.0, '006400': 0.14285714285714285, '006800': 0.0, '007070': 0.0, '008770': 0.0, '009150': 0.0, '009830': 0.0, '010120': 0.0, '010130': 0.0, '010620': 0.0, '010950': 0.0, '011070': 0.0, '011170': 0.0, '011780': 0.0, '012330': 0.0, '012450': 0.0, '015760': 0.0, '016360': 0.0, '020150': 0.0, '021240': 0.0, '024110': 0.0, '029780': 0.0, '030200': 0.0, '032640': 0.0, '032830': 0.0, '033780': 0.0, '034020': 0.0, '034220': 0.0, '034730': 0.0, '035250': 0.0, '036460': 0.0, '036570': 0.0, '039490': 0.0, '047050': 0.0, '051900': 0.0, '051910': 0.14285714285714285, '052690': 0.0, '055550': 0.0, '066570': 0.14285714285714285, '068270': 0.14285714285714285, '071050': 0.0, '078930': 0.0, '086280': 0.0, '086790': 0.0, '096770': 0.14285714285714285, '097950': 0.0, '105560': 0.0, '111770': 0.0, '128940': 0.14285714285714285, '138040': 0.0, '138930': 0.0, '139480': 0.0, '161390': 0.0}\n",
      "Portfolio: {'000270': 0.0, '000660': 0.14285714285714285, '000720': 0.0, '000810': 0.0, '000880': 0.0, '000990': 0.0, '001450': 0.0, '001570': 0.0, '004020': 0.0, '004370': 0.0, '005380': 0.0, '005490': 0.0, '005830': 0.0, '005940': 0.0, '006260': 0.0, '006400': 0.0, '006800': 0.0, '007070': 0.0, '008770': 0.14285714285714285, '009150': 0.0, '009830': 0.0, '010120': 0.0, '010130': 0.0, '010620': 0.0, '010950': 0.0, '011070': 0.0, '011170': 0.0, '011780': 0.0, '012330': 0.0, '012450': 0.0, '015760': 0.0, '016360': 0.0, '020150': 0.0, '021240': 0.0, '024110': 0.0, '029780': 0.0, '030200': 0.0, '032640': 0.0, '032830': 0.0, '033780': 0.0, '034020': 0.0, '034220': 0.0, '034730': 0.0, '035250': 0.0, '036460': 0.0, '036570': 0.14285714285714285, '039490': 0.0, '047050': 0.0, '051900': 0.14285714285714285, '051910': 0.0, '052690': 0.0, '055550': 0.0, '066570': 0.14285714285714285, '068270': 0.14285714285714285, '071050': 0.0, '078930': 0.0, '086280': 0.0, '086790': 0.0, '096770': 0.0, '097950': 0.0, '105560': 0.0, '111770': 0.0, '128940': 0.14285714285714285, '138040': 0.0, '138930': 0.0, '139480': 0.0, '161390': 0.0}\n",
      "Portfolio: {'000270': 0.0, '000660': 0.0, '000720': 0.0, '000810': 0.0, '000880': 0.0, '000990': 0.0, '001450': 0.0, '001570': 0.0, '004020': 0.0, '004370': 0.0, '005380': 0.0, '005490': 0.0, '005830': 0.0, '005940': 0.0, '006260': 0.0, '006400': 0.0, '006800': 0.0, '007070': 0.0, '008770': 0.14285714285714285, '009150': 0.0, '009830': 0.0, '010120': 0.0, '010130': 0.0, '010620': 0.0, '010950': 0.0, '011070': 0.0, '011170': 0.0, '011780': 0.14285714285714285, '012330': 0.0, '012450': 0.0, '015760': 0.0, '016360': 0.0, '020150': 0.0, '021240': 0.0, '024110': 0.0, '029780': 0.0, '030200': 0.0, '032640': 0.0, '032830': 0.0, '033780': 0.0, '034020': 0.0, '034220': 0.0, '034730': 0.0, '035250': 0.0, '036460': 0.0, '036570': 0.0, '039490': 0.0, '047050': 0.0, '051900': 0.14285714285714285, '051910': 0.0, '052690': 0.14285714285714285, '055550': 0.0, '066570': 0.14285714285714285, '068270': 0.14285714285714285, '071050': 0.0, '078930': 0.0, '086280': 0.0, '086790': 0.0, '096770': 0.0, '097950': 0.0, '105560': 0.0, '111770': 0.0, '128940': 0.14285714285714285, '138040': 0.0, '138930': 0.0, '139480': 0.0, '161390': 0.0}\n",
      "Portfolio: {'000270': 0.0, '000660': 0.0, '000720': 0.0, '000810': 0.0, '000880': 0.0, '000990': 0.0, '001450': 0.0, '001570': 0.0, '004020': 0.0, '004370': 0.0, '005380': 0.0, '005490': 0.0, '005830': 0.0, '005940': 0.0, '006260': 0.0, '006400': 0.0, '006800': 0.0, '007070': 0.0, '008770': 0.14285714285714285, '009150': 0.0, '009830': 0.0, '010120': 0.0, '010130': 0.0, '010620': 0.0, '010950': 0.0, '011070': 0.0, '011170': 0.0, '011780': 0.14285714285714285, '012330': 0.0, '012450': 0.0, '015760': 0.0, '016360': 0.0, '020150': 0.0, '021240': 0.0, '024110': 0.0, '029780': 0.0, '030200': 0.0, '032640': 0.0, '032830': 0.0, '033780': 0.0, '034020': 0.0, '034220': 0.0, '034730': 0.0, '035250': 0.0, '036460': 0.0, '036570': 0.0, '039490': 0.14285714285714285, '047050': 0.0, '051900': 0.0, '051910': 0.0, '052690': 0.14285714285714285, '055550': 0.0, '066570': 0.0, '068270': 0.14285714285714285, '071050': 0.14285714285714285, '078930': 0.0, '086280': 0.0, '086790': 0.0, '096770': 0.0, '097950': 0.0, '105560': 0.0, '111770': 0.0, '128940': 0.0, '138040': 0.0, '138930': 0.0, '139480': 0.14285714285714285, '161390': 0.0}\n",
      "Portfolio: {'000270': 0.0, '000660': 0.0, '000720': 0.0, '000810': 0.0, '000880': 0.0, '000990': 0.0, '001450': 0.0, '001570': 0.14285714285714285, '004020': 0.0, '004370': 0.0, '005380': 0.0, '005490': 0.0, '005830': 0.0, '005940': 0.0, '006260': 0.0, '006400': 0.0, '006800': 0.0, '007070': 0.0, '008770': 0.0, '009150': 0.0, '009830': 0.0, '010120': 0.0, '010130': 0.0, '010620': 0.14285714285714285, '010950': 0.0, '011070': 0.0, '011170': 0.14285714285714285, '011780': 0.0, '012330': 0.0, '012450': 0.0, '015760': 0.0, '016360': 0.0, '020150': 0.0, '021240': 0.0, '024110': 0.0, '029780': 0.0, '030200': 0.0, '032640': 0.0, '032830': 0.0, '033780': 0.0, '034020': 0.0, '034220': 0.0, '034730': 0.0, '035250': 0.0, '036460': 0.0, '036570': 0.0, '039490': 0.14285714285714285, '047050': 0.0, '051900': 0.0, '051910': 0.0, '052690': 0.14285714285714285, '055550': 0.0, '066570': 0.0, '068270': 0.14285714285714285, '071050': 0.0, '078930': 0.0, '086280': 0.0, '086790': 0.0, '096770': 0.0, '097950': 0.0, '105560': 0.0, '111770': 0.0, '128940': 0.0, '138040': 0.0, '138930': 0.14285714285714285, '139480': 0.0, '161390': 0.0}\n",
      "Portfolio: {'000270': 0.0, '000660': 0.0, '000720': 0.0, '000810': 0.0, '000880': 0.0, '000990': 0.14285714285714285, '001450': 0.0, '001570': 0.0, '004020': 0.0, '004370': 0.0, '005380': 0.0, '005490': 0.0, '005830': 0.0, '005940': 0.0, '006260': 0.0, '006400': 0.0, '006800': 0.0, '007070': 0.0, '008770': 0.0, '009150': 0.0, '009830': 0.0, '010120': 0.0, '010130': 0.0, '010620': 0.14285714285714285, '010950': 0.0, '011070': 0.0, '011170': 0.0, '011780': 0.0, '012330': 0.0, '012450': 0.0, '015760': 0.0, '016360': 0.0, '020150': 0.0, '021240': 0.0, '024110': 0.0, '029780': 0.0, '030200': 0.0, '032640': 0.0, '032830': 0.0, '033780': 0.0, '034020': 0.0, '034220': 0.0, '034730': 0.0, '035250': 0.0, '036460': 0.0, '036570': 0.0, '039490': 0.14285714285714285, '047050': 0.14285714285714285, '051900': 0.0, '051910': 0.0, '052690': 0.14285714285714285, '055550': 0.0, '066570': 0.0, '068270': 0.14285714285714285, '071050': 0.0, '078930': 0.0, '086280': 0.14285714285714285, '086790': 0.0, '096770': 0.0, '097950': 0.0, '105560': 0.0, '111770': 0.0, '128940': 0.0, '138040': 0.0, '138930': 0.0, '139480': 0.0, '161390': 0.0}\n",
      "Portfolio: {'000270': 0.0, '000660': 0.14285714285714285, '000720': 0.14285714285714285, '000810': 0.0, '000880': 0.0, '000990': 0.0, '001450': 0.0, '001570': 0.0, '004020': 0.0, '004370': 0.0, '005380': 0.0, '005490': 0.0, '005830': 0.0, '005940': 0.0, '006260': 0.0, '006400': 0.0, '006800': 0.0, '007070': 0.0, '008770': 0.14285714285714285, '009150': 0.14285714285714285, '009830': 0.0, '010120': 0.0, '010130': 0.0, '010620': 0.0, '010950': 0.0, '011070': 0.0, '011170': 0.0, '011780': 0.0, '012330': 0.0, '012450': 0.0, '015760': 0.0, '016360': 0.0, '020150': 0.0, '021240': 0.0, '024110': 0.0, '029780': 0.0, '030200': 0.0, '032640': 0.0, '032830': 0.0, '033780': 0.0, '034020': 0.0, '034220': 0.0, '034730': 0.0, '035250': 0.0, '036460': 0.0, '036570': 0.0, '039490': 0.0, '047050': 0.0, '051900': 0.14285714285714285, '051910': 0.0, '052690': 0.14285714285714285, '055550': 0.0, '066570': 0.0, '068270': 0.0, '071050': 0.0, '078930': 0.0, '086280': 0.14285714285714285, '086790': 0.0, '096770': 0.0, '097950': 0.0, '105560': 0.0, '111770': 0.0, '128940': 0.0, '138040': 0.0, '138930': 0.0, '139480': 0.0, '161390': 0.0}\n",
      "Portfolio: {'000270': 0.0, '000660': 0.14285714285714285, '000720': 0.14285714285714285, '000810': 0.0, '000880': 0.0, '000990': 0.0, '001450': 0.0, '001570': 0.0, '004020': 0.0, '004370': 0.0, '005380': 0.0, '005490': 0.0, '005830': 0.0, '005940': 0.0, '006260': 0.0, '006400': 0.0, '006800': 0.0, '007070': 0.0, '008770': 0.14285714285714285, '009150': 0.14285714285714285, '009830': 0.0, '010120': 0.14285714285714285, '010130': 0.0, '010620': 0.0, '010950': 0.0, '011070': 0.0, '011170': 0.0, '011780': 0.0, '012330': 0.0, '012450': 0.0, '015760': 0.0, '016360': 0.0, '020150': 0.0, '021240': 0.0, '024110': 0.0, '029780': 0.0, '030200': 0.0, '032640': 0.0, '032830': 0.0, '033780': 0.0, '034020': 0.0, '034220': 0.0, '034730': 0.0, '035250': 0.0, '036460': 0.14285714285714285, '036570': 0.0, '039490': 0.0, '047050': 0.0, '051900': 0.0, '051910': 0.0, '052690': 0.14285714285714285, '055550': 0.0, '066570': 0.0, '068270': 0.0, '071050': 0.0, '078930': 0.0, '086280': 0.0, '086790': 0.0, '096770': 0.0, '097950': 0.0, '105560': 0.0, '111770': 0.0, '128940': 0.0, '138040': 0.0, '138930': 0.0, '139480': 0.0, '161390': 0.0}\n",
      "Portfolio: {'000270': 0.0, '000660': 0.0, '000720': 0.14285714285714285, '000810': 0.0, '000880': 0.0, '000990': 0.14285714285714285, '001450': 0.0, '001570': 0.0, '004020': 0.0, '004370': 0.0, '005380': 0.0, '005490': 0.0, '005830': 0.0, '005940': 0.0, '006260': 0.0, '006400': 0.0, '006800': 0.0, '007070': 0.14285714285714285, '008770': 0.14285714285714285, '009150': 0.14285714285714285, '009830': 0.0, '010120': 0.0, '010130': 0.0, '010620': 0.0, '010950': 0.0, '011070': 0.0, '011170': 0.0, '011780': 0.0, '012330': 0.0, '012450': 0.0, '015760': 0.0, '016360': 0.0, '020150': 0.0, '021240': 0.0, '024110': 0.0, '029780': 0.0, '030200': 0.0, '032640': 0.0, '032830': 0.0, '033780': 0.0, '034020': 0.0, '034220': 0.0, '034730': 0.0, '035250': 0.0, '036460': 0.14285714285714285, '036570': 0.0, '039490': 0.0, '047050': 0.0, '051900': 0.0, '051910': 0.0, '052690': 0.0, '055550': 0.0, '066570': 0.0, '068270': 0.0, '071050': 0.0, '078930': 0.0, '086280': 0.0, '086790': 0.0, '096770': 0.0, '097950': 0.0, '105560': 0.0, '111770': 0.14285714285714285, '128940': 0.0, '138040': 0.0, '138930': 0.0, '139480': 0.0, '161390': 0.0}\n",
      "Portfolio: {'000270': 0.0, '000660': 0.0, '000720': 0.0, '000810': 0.0, '000880': 0.0, '000990': 0.14285714285714285, '001450': 0.0, '001570': 0.0, '004020': 0.0, '004370': 0.0, '005380': 0.0, '005490': 0.0, '005830': 0.0, '005940': 0.0, '006260': 0.0, '006400': 0.14285714285714285, '006800': 0.0, '007070': 0.0, '008770': 0.0, '009150': 0.14285714285714285, '009830': 0.0, '010120': 0.0, '010130': 0.0, '010620': 0.0, '010950': 0.0, '011070': 0.14285714285714285, '011170': 0.0, '011780': 0.0, '012330': 0.0, '012450': 0.0, '015760': 0.0, '016360': 0.0, '020150': 0.14285714285714285, '021240': 0.0, '024110': 0.0, '029780': 0.0, '030200': 0.0, '032640': 0.14285714285714285, '032830': 0.0, '033780': 0.14285714285714285, '034020': 0.0, '034220': 0.0, '034730': 0.0, '035250': 0.0, '036460': 0.0, '036570': 0.0, '039490': 0.0, '047050': 0.0, '051900': 0.0, '051910': 0.0, '052690': 0.0, '055550': 0.0, '066570': 0.0, '068270': 0.0, '071050': 0.0, '078930': 0.0, '086280': 0.0, '086790': 0.0, '096770': 0.0, '097950': 0.0, '105560': 0.0, '111770': 0.0, '128940': 0.0, '138040': 0.0, '138930': 0.0, '139480': 0.0, '161390': 0.0}\n",
      "Portfolio: {'000270': 0.0, '000660': 0.0, '000720': 0.0, '000810': 0.0, '000880': 0.0, '000990': 0.14285714285714285, '001450': 0.0, '001570': 0.0, '004020': 0.0, '004370': 0.0, '005380': 0.0, '005490': 0.0, '005830': 0.0, '005940': 0.0, '006260': 0.0, '006400': 0.14285714285714285, '006800': 0.0, '007070': 0.0, '008770': 0.0, '009150': 0.14285714285714285, '009830': 0.0, '010120': 0.0, '010130': 0.0, '010620': 0.0, '010950': 0.14285714285714285, '011070': 0.0, '011170': 0.0, '011780': 0.0, '012330': 0.0, '012450': 0.0, '015760': 0.0, '016360': 0.0, '020150': 0.14285714285714285, '021240': 0.0, '024110': 0.0, '029780': 0.0, '030200': 0.0, '032640': 0.14285714285714285, '032830': 0.0, '033780': 0.0, '034020': 0.0, '034220': 0.0, '034730': 0.0, '035250': 0.0, '036460': 0.0, '036570': 0.14285714285714285, '039490': 0.0, '047050': 0.0, '051900': 0.0, '051910': 0.0, '052690': 0.0, '055550': 0.0, '066570': 0.0, '068270': 0.0, '071050': 0.0, '078930': 0.0, '086280': 0.0, '086790': 0.0, '096770': 0.0, '097950': 0.0, '105560': 0.0, '111770': 0.0, '128940': 0.0, '138040': 0.0, '138930': 0.0, '139480': 0.0, '161390': 0.0}\n",
      "Portfolio: {'000270': 0.0, '000660': 0.0, '000720': 0.14285714285714285, '000810': 0.0, '000880': 0.0, '000990': 0.0, '001450': 0.14285714285714285, '001570': 0.0, '004020': 0.0, '004370': 0.0, '005380': 0.0, '005490': 0.0, '005830': 0.14285714285714285, '005940': 0.0, '006260': 0.0, '006400': 0.0, '006800': 0.0, '007070': 0.0, '008770': 0.0, '009150': 0.0, '009830': 0.0, '010120': 0.0, '010130': 0.0, '010620': 0.0, '010950': 0.14285714285714285, '011070': 0.0, '011170': 0.0, '011780': 0.0, '012330': 0.0, '012450': 0.0, '015760': 0.0, '016360': 0.0, '020150': 0.14285714285714285, '021240': 0.0, '024110': 0.0, '029780': 0.0, '030200': 0.0, '032640': 0.14285714285714285, '032830': 0.0, '033780': 0.0, '034020': 0.0, '034220': 0.0, '034730': 0.0, '035250': 0.0, '036460': 0.0, '036570': 0.14285714285714285, '039490': 0.0, '047050': 0.0, '051900': 0.0, '051910': 0.0, '052690': 0.0, '055550': 0.0, '066570': 0.0, '068270': 0.0, '071050': 0.0, '078930': 0.0, '086280': 0.0, '086790': 0.0, '096770': 0.0, '097950': 0.0, '105560': 0.0, '111770': 0.0, '128940': 0.0, '138040': 0.0, '138930': 0.0, '139480': 0.0, '161390': 0.0}\n",
      "Portfolio: {'000270': 0.0, '000660': 0.0, '000720': 0.0, '000810': 0.0, '000880': 0.0, '000990': 0.0, '001450': 0.14285714285714285, '001570': 0.14285714285714285, '004020': 0.0, '004370': 0.0, '005380': 0.0, '005490': 0.0, '005830': 0.0, '005940': 0.0, '006260': 0.0, '006400': 0.0, '006800': 0.0, '007070': 0.14285714285714285, '008770': 0.0, '009150': 0.0, '009830': 0.0, '010120': 0.0, '010130': 0.0, '010620': 0.0, '010950': 0.0, '011070': 0.0, '011170': 0.0, '011780': 0.0, '012330': 0.0, '012450': 0.14285714285714285, '015760': 0.0, '016360': 0.0, '020150': 0.0, '021240': 0.0, '024110': 0.0, '029780': 0.0, '030200': 0.0, '032640': 0.0, '032830': 0.0, '033780': 0.0, '034020': 0.0, '034220': 0.0, '034730': 0.0, '035250': 0.14285714285714285, '036460': 0.0, '036570': 0.14285714285714285, '039490': 0.0, '047050': 0.0, '051900': 0.0, '051910': 0.0, '052690': 0.0, '055550': 0.0, '066570': 0.0, '068270': 0.0, '071050': 0.0, '078930': 0.0, '086280': 0.0, '086790': 0.0, '096770': 0.0, '097950': 0.0, '105560': 0.0, '111770': 0.14285714285714285, '128940': 0.0, '138040': 0.0, '138930': 0.0, '139480': 0.0, '161390': 0.0}\n",
      "Portfolio: {'000270': 0.0, '000660': 0.0, '000720': 0.0, '000810': 0.0, '000880': 0.0, '000990': 0.0, '001450': 0.14285714285714285, '001570': 0.14285714285714285, '004020': 0.0, '004370': 0.0, '005380': 0.0, '005490': 0.0, '005830': 0.0, '005940': 0.0, '006260': 0.0, '006400': 0.0, '006800': 0.0, '007070': 0.0, '008770': 0.0, '009150': 0.0, '009830': 0.0, '010120': 0.0, '010130': 0.0, '010620': 0.14285714285714285, '010950': 0.0, '011070': 0.0, '011170': 0.0, '011780': 0.0, '012330': 0.0, '012450': 0.14285714285714285, '015760': 0.0, '016360': 0.0, '020150': 0.0, '021240': 0.0, '024110': 0.0, '029780': 0.0, '030200': 0.0, '032640': 0.14285714285714285, '032830': 0.0, '033780': 0.0, '034020': 0.0, '034220': 0.0, '034730': 0.0, '035250': 0.0, '036460': 0.0, '036570': 0.14285714285714285, '039490': 0.0, '047050': 0.0, '051900': 0.0, '051910': 0.0, '052690': 0.0, '055550': 0.0, '066570': 0.0, '068270': 0.0, '071050': 0.0, '078930': 0.0, '086280': 0.0, '086790': 0.0, '096770': 0.0, '097950': 0.0, '105560': 0.0, '111770': 0.14285714285714285, '128940': 0.0, '138040': 0.0, '138930': 0.0, '139480': 0.0, '161390': 0.0}\n",
      "Portfolio: {'000270': 0.0, '000660': 0.0, '000720': 0.0, '000810': 0.0, '000880': 0.0, '000990': 0.0, '001450': 0.0, '001570': 0.0, '004020': 0.0, '004370': 0.14285714285714285, '005380': 0.0, '005490': 0.0, '005830': 0.0, '005940': 0.0, '006260': 0.0, '006400': 0.0, '006800': 0.0, '007070': 0.0, '008770': 0.0, '009150': 0.0, '009830': 0.14285714285714285, '010120': 0.0, '010130': 0.0, '010620': 0.14285714285714285, '010950': 0.0, '011070': 0.0, '011170': 0.0, '011780': 0.0, '012330': 0.0, '012450': 0.14285714285714285, '015760': 0.14285714285714285, '016360': 0.0, '020150': 0.0, '021240': 0.0, '024110': 0.0, '029780': 0.0, '030200': 0.0, '032640': 0.14285714285714285, '032830': 0.0, '033780': 0.0, '034020': 0.0, '034220': 0.0, '034730': 0.0, '035250': 0.14285714285714285, '036460': 0.0, '036570': 0.0, '039490': 0.0, '047050': 0.0, '051900': 0.0, '051910': 0.0, '052690': 0.0, '055550': 0.0, '066570': 0.0, '068270': 0.0, '071050': 0.0, '078930': 0.0, '086280': 0.0, '086790': 0.0, '096770': 0.0, '097950': 0.0, '105560': 0.0, '111770': 0.0, '128940': 0.0, '138040': 0.0, '138930': 0.0, '139480': 0.0, '161390': 0.0}\n",
      "Portfolio: {'000270': 0.14285714285714285, '000660': 0.0, '000720': 0.14285714285714285, '000810': 0.0, '000880': 0.0, '000990': 0.0, '001450': 0.0, '001570': 0.0, '004020': 0.0, '004370': 0.0, '005380': 0.0, '005490': 0.0, '005830': 0.0, '005940': 0.0, '006260': 0.0, '006400': 0.0, '006800': 0.0, '007070': 0.0, '008770': 0.0, '009150': 0.0, '009830': 0.14285714285714285, '010120': 0.0, '010130': 0.0, '010620': 0.14285714285714285, '010950': 0.0, '011070': 0.0, '011170': 0.0, '011780': 0.0, '012330': 0.0, '012450': 0.0, '015760': 0.0, '016360': 0.0, '020150': 0.0, '021240': 0.0, '024110': 0.0, '029780': 0.0, '030200': 0.0, '032640': 0.0, '032830': 0.0, '033780': 0.0, '034020': 0.0, '034220': 0.0, '034730': 0.0, '035250': 0.0, '036460': 0.0, '036570': 0.0, '039490': 0.14285714285714285, '047050': 0.0, '051900': 0.0, '051910': 0.0, '052690': 0.14285714285714285, '055550': 0.0, '066570': 0.0, '068270': 0.0, '071050': 0.0, '078930': 0.0, '086280': 0.14285714285714285, '086790': 0.0, '096770': 0.0, '097950': 0.0, '105560': 0.0, '111770': 0.0, '128940': 0.0, '138040': 0.0, '138930': 0.0, '139480': 0.0, '161390': 0.0}\n",
      "Portfolio: {'000270': 0.14285714285714285, '000660': 0.0, '000720': 0.0, '000810': 0.0, '000880': 0.0, '000990': 0.0, '001450': 0.0, '001570': 0.0, '004020': 0.0, '004370': 0.0, '005380': 0.14285714285714285, '005490': 0.0, '005830': 0.0, '005940': 0.0, '006260': 0.0, '006400': 0.0, '006800': 0.0, '007070': 0.0, '008770': 0.0, '009150': 0.0, '009830': 0.14285714285714285, '010120': 0.0, '010130': 0.0, '010620': 0.0, '010950': 0.0, '011070': 0.0, '011170': 0.0, '011780': 0.0, '012330': 0.14285714285714285, '012450': 0.0, '015760': 0.0, '016360': 0.14285714285714285, '020150': 0.0, '021240': 0.0, '024110': 0.0, '029780': 0.0, '030200': 0.0, '032640': 0.0, '032830': 0.0, '033780': 0.0, '034020': 0.0, '034220': 0.0, '034730': 0.0, '035250': 0.0, '036460': 0.0, '036570': 0.0, '039490': 0.0, '047050': 0.0, '051900': 0.0, '051910': 0.0, '052690': 0.14285714285714285, '055550': 0.0, '066570': 0.0, '068270': 0.0, '071050': 0.0, '078930': 0.0, '086280': 0.14285714285714285, '086790': 0.0, '096770': 0.0, '097950': 0.0, '105560': 0.0, '111770': 0.0, '128940': 0.0, '138040': 0.0, '138930': 0.0, '139480': 0.0, '161390': 0.0}\n",
      "Portfolio: {'000270': 0.0, '000660': 0.14285714285714285, '000720': 0.0, '000810': 0.0, '000880': 0.0, '000990': 0.14285714285714285, '001450': 0.0, '001570': 0.0, '004020': 0.0, '004370': 0.0, '005380': 0.0, '005490': 0.0, '005830': 0.0, '005940': 0.0, '006260': 0.0, '006400': 0.0, '006800': 0.0, '007070': 0.0, '008770': 0.14285714285714285, '009150': 0.0, '009830': 0.0, '010120': 0.0, '010130': 0.0, '010620': 0.0, '010950': 0.0, '011070': 0.14285714285714285, '011170': 0.0, '011780': 0.0, '012330': 0.0, '012450': 0.0, '015760': 0.0, '016360': 0.0, '020150': 0.0, '021240': 0.14285714285714285, '024110': 0.0, '029780': 0.0, '030200': 0.0, '032640': 0.0, '032830': 0.0, '033780': 0.0, '034020': 0.0, '034220': 0.0, '034730': 0.0, '035250': 0.0, '036460': 0.0, '036570': 0.0, '039490': 0.0, '047050': 0.0, '051900': 0.14285714285714285, '051910': 0.0, '052690': 0.0, '055550': 0.0, '066570': 0.14285714285714285, '068270': 0.0, '071050': 0.0, '078930': 0.0, '086280': 0.0, '086790': 0.0, '096770': 0.0, '097950': 0.0, '105560': 0.0, '111770': 0.0, '128940': 0.0, '138040': 0.0, '138930': 0.0, '139480': 0.0, '161390': 0.0}\n",
      "Portfolio: {'000270': 0.14285714285714285, '000660': 0.0, '000720': 0.0, '000810': 0.0, '000880': 0.0, '000990': 0.14285714285714285, '001450': 0.0, '001570': 0.0, '004020': 0.0, '004370': 0.0, '005380': 0.0, '005490': 0.0, '005830': 0.0, '005940': 0.0, '006260': 0.0, '006400': 0.0, '006800': 0.0, '007070': 0.0, '008770': 0.14285714285714285, '009150': 0.0, '009830': 0.0, '010120': 0.0, '010130': 0.0, '010620': 0.0, '010950': 0.0, '011070': 0.14285714285714285, '011170': 0.0, '011780': 0.0, '012330': 0.0, '012450': 0.0, '015760': 0.0, '016360': 0.0, '020150': 0.0, '021240': 0.0, '024110': 0.0, '029780': 0.0, '030200': 0.0, '032640': 0.0, '032830': 0.0, '033780': 0.0, '034020': 0.0, '034220': 0.0, '034730': 0.0, '035250': 0.0, '036460': 0.0, '036570': 0.14285714285714285, '039490': 0.0, '047050': 0.0, '051900': 0.14285714285714285, '051910': 0.0, '052690': 0.0, '055550': 0.0, '066570': 0.0, '068270': 0.0, '071050': 0.0, '078930': 0.0, '086280': 0.14285714285714285, '086790': 0.0, '096770': 0.0, '097950': 0.0, '105560': 0.0, '111770': 0.0, '128940': 0.0, '138040': 0.0, '138930': 0.0, '139480': 0.0, '161390': 0.0}\n",
      "Portfolio: {'000270': 0.14285714285714285, '000660': 0.0, '000720': 0.0, '000810': 0.0, '000880': 0.0, '000990': 0.14285714285714285, '001450': 0.0, '001570': 0.0, '004020': 0.0, '004370': 0.0, '005380': 0.0, '005490': 0.0, '005830': 0.0, '005940': 0.0, '006260': 0.0, '006400': 0.0, '006800': 0.0, '007070': 0.0, '008770': 0.14285714285714285, '009150': 0.0, '009830': 0.0, '010120': 0.0, '010130': 0.0, '010620': 0.0, '010950': 0.0, '011070': 0.0, '011170': 0.0, '011780': 0.0, '012330': 0.0, '012450': 0.0, '015760': 0.0, '016360': 0.0, '020150': 0.0, '021240': 0.0, '024110': 0.0, '029780': 0.0, '030200': 0.0, '032640': 0.0, '032830': 0.0, '033780': 0.0, '034020': 0.0, '034220': 0.0, '034730': 0.0, '035250': 0.0, '036460': 0.0, '036570': 0.0, '039490': 0.0, '047050': 0.0, '051900': 0.0, '051910': 0.0, '052690': 0.0, '055550': 0.0, '066570': 0.0, '068270': 0.0, '071050': 0.14285714285714285, '078930': 0.0, '086280': 0.14285714285714285, '086790': 0.0, '096770': 0.0, '097950': 0.0, '105560': 0.0, '111770': 0.14285714285714285, '128940': 0.0, '138040': 0.14285714285714285, '138930': 0.0, '139480': 0.0, '161390': 0.0}\n",
      "Portfolio: {'000270': 0.14285714285714285, '000660': 0.0, '000720': 0.0, '000810': 0.0, '000880': 0.0, '000990': 0.14285714285714285, '001450': 0.0, '001570': 0.0, '004020': 0.0, '004370': 0.0, '005380': 0.14285714285714285, '005490': 0.0, '005830': 0.0, '005940': 0.0, '006260': 0.0, '006400': 0.0, '006800': 0.0, '007070': 0.0, '008770': 0.0, '009150': 0.0, '009830': 0.0, '010120': 0.0, '010130': 0.0, '010620': 0.0, '010950': 0.0, '011070': 0.0, '011170': 0.0, '011780': 0.0, '012330': 0.0, '012450': 0.0, '015760': 0.0, '016360': 0.14285714285714285, '020150': 0.0, '021240': 0.0, '024110': 0.0, '029780': 0.0, '030200': 0.0, '032640': 0.0, '032830': 0.0, '033780': 0.0, '034020': 0.0, '034220': 0.0, '034730': 0.0, '035250': 0.0, '036460': 0.0, '036570': 0.0, '039490': 0.0, '047050': 0.0, '051900': 0.0, '051910': 0.0, '052690': 0.0, '055550': 0.0, '066570': 0.0, '068270': 0.0, '071050': 0.14285714285714285, '078930': 0.0, '086280': 0.14285714285714285, '086790': 0.0, '096770': 0.0, '097950': 0.0, '105560': 0.0, '111770': 0.14285714285714285, '128940': 0.0, '138040': 0.0, '138930': 0.0, '139480': 0.0, '161390': 0.0}\n",
      "Portfolio: {'000270': 0.0, '000660': 0.0, '000720': 0.0, '000810': 0.0, '000880': 0.0, '000990': 0.0, '001450': 0.0, '001570': 0.0, '004020': 0.0, '004370': 0.0, '005380': 0.0, '005490': 0.0, '005830': 0.0, '005940': 0.0, '006260': 0.0, '006400': 0.14285714285714285, '006800': 0.0, '007070': 0.0, '008770': 0.0, '009150': 0.0, '009830': 0.0, '010120': 0.0, '010130': 0.0, '010620': 0.0, '010950': 0.14285714285714285, '011070': 0.0, '011170': 0.0, '011780': 0.0, '012330': 0.0, '012450': 0.14285714285714285, '015760': 0.0, '016360': 0.0, '020150': 0.0, '021240': 0.14285714285714285, '024110': 0.0, '029780': 0.0, '030200': 0.0, '032640': 0.0, '032830': 0.0, '033780': 0.0, '034020': 0.0, '034220': 0.0, '034730': 0.0, '035250': 0.0, '036460': 0.0, '036570': 0.0, '039490': 0.0, '047050': 0.14285714285714285, '051900': 0.0, '051910': 0.0, '052690': 0.0, '055550': 0.0, '066570': 0.0, '068270': 0.0, '071050': 0.14285714285714285, '078930': 0.0, '086280': 0.0, '086790': 0.0, '096770': 0.0, '097950': 0.0, '105560': 0.0, '111770': 0.0, '128940': 0.0, '138040': 0.14285714285714285, '138930': 0.0, '139480': 0.0, '161390': 0.0}\n",
      "Portfolio: {'000270': 0.0, '000660': 0.14285714285714285, '000720': 0.0, '000810': 0.0, '000880': 0.0, '000990': 0.0, '001450': 0.0, '001570': 0.0, '004020': 0.0, '004370': 0.0, '005380': 0.0, '005490': 0.0, '005830': 0.0, '005940': 0.0, '006260': 0.0, '006400': 0.14285714285714285, '006800': 0.0, '007070': 0.0, '008770': 0.0, '009150': 0.0, '009830': 0.0, '010120': 0.0, '010130': 0.0, '010620': 0.0, '010950': 0.14285714285714285, '011070': 0.0, '011170': 0.0, '011780': 0.0, '012330': 0.14285714285714285, '012450': 0.14285714285714285, '015760': 0.0, '016360': 0.0, '020150': 0.14285714285714285, '021240': 0.0, '024110': 0.0, '029780': 0.0, '030200': 0.0, '032640': 0.0, '032830': 0.0, '033780': 0.0, '034020': 0.0, '034220': 0.0, '034730': 0.0, '035250': 0.0, '036460': 0.0, '036570': 0.14285714285714285, '039490': 0.0, '047050': 0.0, '051900': 0.0, '051910': 0.0, '052690': 0.0, '055550': 0.0, '066570': 0.0, '068270': 0.0, '071050': 0.0, '078930': 0.0, '086280': 0.0, '086790': 0.0, '096770': 0.0, '097950': 0.0, '105560': 0.0, '111770': 0.0, '128940': 0.0, '138040': 0.0, '138930': 0.0, '139480': 0.0, '161390': 0.0}\n",
      "Portfolio: {'000270': 0.0, '000660': 0.14285714285714285, '000720': 0.0, '000810': 0.0, '000880': 0.0, '000990': 0.0, '001450': 0.0, '001570': 0.0, '004020': 0.0, '004370': 0.0, '005380': 0.0, '005490': 0.0, '005830': 0.0, '005940': 0.0, '006260': 0.0, '006400': 0.0, '006800': 0.0, '007070': 0.0, '008770': 0.0, '009150': 0.0, '009830': 0.0, '010120': 0.0, '010130': 0.0, '010620': 0.0, '010950': 0.14285714285714285, '011070': 0.0, '011170': 0.0, '011780': 0.0, '012330': 0.0, '012450': 0.14285714285714285, '015760': 0.0, '016360': 0.0, '020150': 0.0, '021240': 0.14285714285714285, '024110': 0.0, '029780': 0.0, '030200': 0.0, '032640': 0.0, '032830': 0.0, '033780': 0.0, '034020': 0.14285714285714285, '034220': 0.0, '034730': 0.0, '035250': 0.0, '036460': 0.0, '036570': 0.14285714285714285, '039490': 0.0, '047050': 0.0, '051900': 0.0, '051910': 0.0, '052690': 0.14285714285714285, '055550': 0.0, '066570': 0.0, '068270': 0.0, '071050': 0.0, '078930': 0.0, '086280': 0.0, '086790': 0.0, '096770': 0.0, '097950': 0.0, '105560': 0.0, '111770': 0.0, '128940': 0.0, '138040': 0.0, '138930': 0.0, '139480': 0.0, '161390': 0.0}\n",
      "Portfolio: {'000270': 0.0, '000660': 0.0, '000720': 0.0, '000810': 0.0, '000880': 0.0, '000990': 0.14285714285714285, '001450': 0.0, '001570': 0.14285714285714285, '004020': 0.0, '004370': 0.0, '005380': 0.0, '005490': 0.0, '005830': 0.0, '005940': 0.0, '006260': 0.0, '006400': 0.0, '006800': 0.0, '007070': 0.0, '008770': 0.0, '009150': 0.14285714285714285, '009830': 0.0, '010120': 0.0, '010130': 0.0, '010620': 0.0, '010950': 0.0, '011070': 0.0, '011170': 0.0, '011780': 0.0, '012330': 0.0, '012450': 0.14285714285714285, '015760': 0.0, '016360': 0.0, '020150': 0.0, '021240': 0.0, '024110': 0.0, '029780': 0.0, '030200': 0.0, '032640': 0.0, '032830': 0.0, '033780': 0.0, '034020': 0.0, '034220': 0.0, '034730': 0.14285714285714285, '035250': 0.0, '036460': 0.0, '036570': 0.0, '039490': 0.0, '047050': 0.0, '051900': 0.0, '051910': 0.0, '052690': 0.0, '055550': 0.0, '066570': 0.0, '068270': 0.14285714285714285, '071050': 0.0, '078930': 0.0, '086280': 0.0, '086790': 0.0, '096770': 0.0, '097950': 0.0, '105560': 0.0, '111770': 0.0, '128940': 0.14285714285714285, '138040': 0.0, '138930': 0.0, '139480': 0.0, '161390': 0.0}\n",
      "Portfolio: {'000270': 0.0, '000660': 0.0, '000720': 0.0, '000810': 0.0, '000880': 0.0, '000990': 0.14285714285714285, '001450': 0.14285714285714285, '001570': 0.0, '004020': 0.0, '004370': 0.0, '005380': 0.0, '005490': 0.0, '005830': 0.14285714285714285, '005940': 0.0, '006260': 0.0, '006400': 0.0, '006800': 0.0, '007070': 0.0, '008770': 0.0, '009150': 0.14285714285714285, '009830': 0.0, '010120': 0.0, '010130': 0.0, '010620': 0.0, '010950': 0.0, '011070': 0.14285714285714285, '011170': 0.0, '011780': 0.0, '012330': 0.0, '012450': 0.0, '015760': 0.0, '016360': 0.0, '020150': 0.0, '021240': 0.0, '024110': 0.0, '029780': 0.0, '030200': 0.0, '032640': 0.0, '032830': 0.0, '033780': 0.0, '034020': 0.0, '034220': 0.0, '034730': 0.14285714285714285, '035250': 0.0, '036460': 0.0, '036570': 0.0, '039490': 0.0, '047050': 0.0, '051900': 0.0, '051910': 0.0, '052690': 0.0, '055550': 0.0, '066570': 0.0, '068270': 0.0, '071050': 0.0, '078930': 0.0, '086280': 0.0, '086790': 0.0, '096770': 0.0, '097950': 0.0, '105560': 0.0, '111770': 0.0, '128940': 0.14285714285714285, '138040': 0.0, '138930': 0.0, '139480': 0.0, '161390': 0.0}\n",
      "Portfolio: {'000270': 0.0, '000660': 0.14285714285714285, '000720': 0.0, '000810': 0.0, '000880': 0.0, '000990': 0.14285714285714285, '001450': 0.0, '001570': 0.0, '004020': 0.0, '004370': 0.0, '005380': 0.0, '005490': 0.0, '005830': 0.0, '005940': 0.0, '006260': 0.0, '006400': 0.0, '006800': 0.0, '007070': 0.0, '008770': 0.0, '009150': 0.14285714285714285, '009830': 0.0, '010120': 0.0, '010130': 0.0, '010620': 0.0, '010950': 0.0, '011070': 0.14285714285714285, '011170': 0.0, '011780': 0.0, '012330': 0.0, '012450': 0.0, '015760': 0.0, '016360': 0.0, '020150': 0.0, '021240': 0.0, '024110': 0.0, '029780': 0.0, '030200': 0.0, '032640': 0.0, '032830': 0.0, '033780': 0.0, '034020': 0.0, '034220': 0.14285714285714285, '034730': 0.14285714285714285, '035250': 0.0, '036460': 0.0, '036570': 0.0, '039490': 0.14285714285714285, '047050': 0.0, '051900': 0.0, '051910': 0.0, '052690': 0.0, '055550': 0.0, '066570': 0.0, '068270': 0.0, '071050': 0.0, '078930': 0.0, '086280': 0.0, '086790': 0.0, '096770': 0.0, '097950': 0.0, '105560': 0.0, '111770': 0.0, '128940': 0.0, '138040': 0.0, '138930': 0.0, '139480': 0.0, '161390': 0.0}\n",
      "Portfolio: {'000270': 0.0, '000660': 0.0, '000720': 0.0, '000810': 0.0, '000880': 0.0, '000990': 0.14285714285714285, '001450': 0.0, '001570': 0.0, '004020': 0.0, '004370': 0.0, '005380': 0.0, '005490': 0.0, '005830': 0.0, '005940': 0.0, '006260': 0.0, '006400': 0.14285714285714285, '006800': 0.0, '007070': 0.0, '008770': 0.14285714285714285, '009150': 0.0, '009830': 0.0, '010120': 0.0, '010130': 0.0, '010620': 0.0, '010950': 0.0, '011070': 0.14285714285714285, '011170': 0.0, '011780': 0.0, '012330': 0.0, '012450': 0.0, '015760': 0.0, '016360': 0.0, '020150': 0.14285714285714285, '021240': 0.0, '024110': 0.0, '029780': 0.0, '030200': 0.0, '032640': 0.0, '032830': 0.0, '033780': 0.0, '034020': 0.0, '034220': 0.0, '034730': 0.0, '035250': 0.0, '036460': 0.0, '036570': 0.14285714285714285, '039490': 0.0, '047050': 0.0, '051900': 0.0, '051910': 0.14285714285714285, '052690': 0.0, '055550': 0.0, '066570': 0.0, '068270': 0.0, '071050': 0.0, '078930': 0.0, '086280': 0.0, '086790': 0.0, '096770': 0.0, '097950': 0.0, '105560': 0.0, '111770': 0.0, '128940': 0.0, '138040': 0.0, '138930': 0.0, '139480': 0.0, '161390': 0.0}\n",
      "Portfolio: {'000270': 0.0, '000660': 0.0, '000720': 0.0, '000810': 0.0, '000880': 0.0, '000990': 0.14285714285714285, '001450': 0.0, '001570': 0.14285714285714285, '004020': 0.0, '004370': 0.0, '005380': 0.0, '005490': 0.0, '005830': 0.0, '005940': 0.0, '006260': 0.0, '006400': 0.14285714285714285, '006800': 0.0, '007070': 0.0, '008770': 0.0, '009150': 0.14285714285714285, '009830': 0.0, '010120': 0.0, '010130': 0.0, '010620': 0.0, '010950': 0.0, '011070': 0.0, '011170': 0.0, '011780': 0.0, '012330': 0.0, '012450': 0.0, '015760': 0.0, '016360': 0.0, '020150': 0.14285714285714285, '021240': 0.0, '024110': 0.0, '029780': 0.0, '030200': 0.0, '032640': 0.0, '032830': 0.0, '033780': 0.0, '034020': 0.0, '034220': 0.0, '034730': 0.0, '035250': 0.0, '036460': 0.0, '036570': 0.14285714285714285, '039490': 0.0, '047050': 0.0, '051900': 0.0, '051910': 0.14285714285714285, '052690': 0.0, '055550': 0.0, '066570': 0.0, '068270': 0.0, '071050': 0.0, '078930': 0.0, '086280': 0.0, '086790': 0.0, '096770': 0.0, '097950': 0.0, '105560': 0.0, '111770': 0.0, '128940': 0.0, '138040': 0.0, '138930': 0.0, '139480': 0.0, '161390': 0.0}\n",
      "Portfolio: {'000270': 0.0, '000660': 0.14285714285714285, '000720': 0.0, '000810': 0.0, '000880': 0.0, '000990': 0.0, '001450': 0.0, '001570': 0.0, '004020': 0.0, '004370': 0.14285714285714285, '005380': 0.0, '005490': 0.0, '005830': 0.0, '005940': 0.0, '006260': 0.0, '006400': 0.14285714285714285, '006800': 0.0, '007070': 0.0, '008770': 0.0, '009150': 0.0, '009830': 0.0, '010120': 0.0, '010130': 0.0, '010620': 0.0, '010950': 0.0, '011070': 0.0, '011170': 0.0, '011780': 0.0, '012330': 0.0, '012450': 0.0, '015760': 0.0, '016360': 0.0, '020150': 0.0, '021240': 0.0, '024110': 0.0, '029780': 0.0, '030200': 0.0, '032640': 0.0, '032830': 0.0, '033780': 0.0, '034020': 0.0, '034220': 0.0, '034730': 0.0, '035250': 0.0, '036460': 0.0, '036570': 0.14285714285714285, '039490': 0.0, '047050': 0.0, '051900': 0.14285714285714285, '051910': 0.14285714285714285, '052690': 0.0, '055550': 0.0, '066570': 0.0, '068270': 0.14285714285714285, '071050': 0.0, '078930': 0.0, '086280': 0.0, '086790': 0.0, '096770': 0.0, '097950': 0.0, '105560': 0.0, '111770': 0.0, '128940': 0.0, '138040': 0.0, '138930': 0.0, '139480': 0.0, '161390': 0.0}\n",
      "Portfolio: {'000270': 0.0, '000660': 0.0, '000720': 0.0, '000810': 0.0, '000880': 0.0, '000990': 0.0, '001450': 0.14285714285714285, '001570': 0.0, '004020': 0.0, '004370': 0.14285714285714285, '005380': 0.0, '005490': 0.0, '005830': 0.0, '005940': 0.0, '006260': 0.0, '006400': 0.0, '006800': 0.0, '007070': 0.0, '008770': 0.0, '009150': 0.0, '009830': 0.0, '010120': 0.0, '010130': 0.0, '010620': 0.0, '010950': 0.0, '011070': 0.0, '011170': 0.14285714285714285, '011780': 0.0, '012330': 0.0, '012450': 0.0, '015760': 0.0, '016360': 0.0, '020150': 0.0, '021240': 0.0, '024110': 0.0, '029780': 0.0, '030200': 0.0, '032640': 0.0, '032830': 0.0, '033780': 0.0, '034020': 0.0, '034220': 0.0, '034730': 0.0, '035250': 0.0, '036460': 0.0, '036570': 0.0, '039490': 0.0, '047050': 0.0, '051900': 0.14285714285714285, '051910': 0.14285714285714285, '052690': 0.0, '055550': 0.0, '066570': 0.0, '068270': 0.14285714285714285, '071050': 0.0, '078930': 0.0, '086280': 0.0, '086790': 0.0, '096770': 0.0, '097950': 0.14285714285714285, '105560': 0.0, '111770': 0.0, '128940': 0.0, '138040': 0.0, '138930': 0.0, '139480': 0.0, '161390': 0.0}\n",
      "Portfolio: {'000270': 0.0, '000660': 0.0, '000720': 0.0, '000810': 0.0, '000880': 0.0, '000990': 0.14285714285714285, '001450': 0.0, '001570': 0.0, '004020': 0.0, '004370': 0.14285714285714285, '005380': 0.0, '005490': 0.0, '005830': 0.0, '005940': 0.0, '006260': 0.0, '006400': 0.14285714285714285, '006800': 0.0, '007070': 0.0, '008770': 0.0, '009150': 0.0, '009830': 0.0, '010120': 0.0, '010130': 0.0, '010620': 0.0, '010950': 0.0, '011070': 0.0, '011170': 0.0, '011780': 0.0, '012330': 0.0, '012450': 0.0, '015760': 0.0, '016360': 0.0, '020150': 0.0, '021240': 0.0, '024110': 0.0, '029780': 0.0, '030200': 0.0, '032640': 0.0, '032830': 0.0, '033780': 0.0, '034020': 0.0, '034220': 0.0, '034730': 0.14285714285714285, '035250': 0.0, '036460': 0.0, '036570': 0.14285714285714285, '039490': 0.14285714285714285, '047050': 0.0, '051900': 0.0, '051910': 0.0, '052690': 0.0, '055550': 0.0, '066570': 0.0, '068270': 0.14285714285714285, '071050': 0.0, '078930': 0.0, '086280': 0.0, '086790': 0.0, '096770': 0.0, '097950': 0.0, '105560': 0.0, '111770': 0.0, '128940': 0.0, '138040': 0.0, '138930': 0.0, '139480': 0.0, '161390': 0.0}\n",
      "Portfolio: {'000270': 0.0, '000660': 0.0, '000720': 0.0, '000810': 0.0, '000880': 0.0, '000990': 0.0, '001450': 0.0, '001570': 0.14285714285714285, '004020': 0.0, '004370': 0.0, '005380': 0.0, '005490': 0.0, '005830': 0.0, '005940': 0.0, '006260': 0.0, '006400': 0.14285714285714285, '006800': 0.0, '007070': 0.0, '008770': 0.0, '009150': 0.0, '009830': 0.0, '010120': 0.0, '010130': 0.0, '010620': 0.0, '010950': 0.0, '011070': 0.14285714285714285, '011170': 0.0, '011780': 0.0, '012330': 0.0, '012450': 0.0, '015760': 0.0, '016360': 0.0, '020150': 0.14285714285714285, '021240': 0.0, '024110': 0.0, '029780': 0.0, '030200': 0.0, '032640': 0.0, '032830': 0.0, '033780': 0.0, '034020': 0.0, '034220': 0.0, '034730': 0.14285714285714285, '035250': 0.0, '036460': 0.0, '036570': 0.0, '039490': 0.0, '047050': 0.0, '051900': 0.0, '051910': 0.14285714285714285, '052690': 0.0, '055550': 0.0, '066570': 0.0, '068270': 0.0, '071050': 0.0, '078930': 0.0, '086280': 0.0, '086790': 0.0, '096770': 0.0, '097950': 0.14285714285714285, '105560': 0.0, '111770': 0.0, '128940': 0.0, '138040': 0.0, '138930': 0.0, '139480': 0.0, '161390': 0.0}\n",
      "Portfolio: {'000270': 0.14285714285714285, '000660': 0.0, '000720': 0.0, '000810': 0.0, '000880': 0.0, '000990': 0.0, '001450': 0.0, '001570': 0.14285714285714285, '004020': 0.0, '004370': 0.0, '005380': 0.0, '005490': 0.0, '005830': 0.0, '005940': 0.0, '006260': 0.0, '006400': 0.0, '006800': 0.0, '007070': 0.0, '008770': 0.0, '009150': 0.0, '009830': 0.14285714285714285, '010120': 0.14285714285714285, '010130': 0.0, '010620': 0.0, '010950': 0.0, '011070': 0.0, '011170': 0.0, '011780': 0.0, '012330': 0.0, '012450': 0.0, '015760': 0.0, '016360': 0.0, '020150': 0.0, '021240': 0.0, '024110': 0.0, '029780': 0.0, '030200': 0.0, '032640': 0.0, '032830': 0.0, '033780': 0.0, '034020': 0.14285714285714285, '034220': 0.0, '034730': 0.0, '035250': 0.0, '036460': 0.0, '036570': 0.0, '039490': 0.0, '047050': 0.0, '051900': 0.0, '051910': 0.14285714285714285, '052690': 0.0, '055550': 0.0, '066570': 0.0, '068270': 0.14285714285714285, '071050': 0.0, '078930': 0.0, '086280': 0.0, '086790': 0.0, '096770': 0.0, '097950': 0.0, '105560': 0.0, '111770': 0.0, '128940': 0.0, '138040': 0.0, '138930': 0.0, '139480': 0.0, '161390': 0.0}\n",
      "Portfolio: {'000270': 0.0, '000660': 0.0, '000720': 0.0, '000810': 0.0, '000880': 0.0, '000990': 0.0, '001450': 0.0, '001570': 0.0, '004020': 0.0, '004370': 0.0, '005380': 0.14285714285714285, '005490': 0.0, '005830': 0.0, '005940': 0.0, '006260': 0.0, '006400': 0.0, '006800': 0.0, '007070': 0.0, '008770': 0.0, '009150': 0.0, '009830': 0.14285714285714285, '010120': 0.0, '010130': 0.0, '010620': 0.0, '010950': 0.0, '011070': 0.0, '011170': 0.0, '011780': 0.14285714285714285, '012330': 0.0, '012450': 0.0, '015760': 0.0, '016360': 0.0, '020150': 0.0, '021240': 0.0, '024110': 0.0, '029780': 0.0, '030200': 0.0, '032640': 0.0, '032830': 0.0, '033780': 0.0, '034020': 0.14285714285714285, '034220': 0.0, '034730': 0.0, '035250': 0.0, '036460': 0.0, '036570': 0.0, '039490': 0.0, '047050': 0.0, '051900': 0.0, '051910': 0.14285714285714285, '052690': 0.0, '055550': 0.0, '066570': 0.14285714285714285, '068270': 0.0, '071050': 0.0, '078930': 0.0, '086280': 0.0, '086790': 0.0, '096770': 0.0, '097950': 0.14285714285714285, '105560': 0.0, '111770': 0.0, '128940': 0.0, '138040': 0.0, '138930': 0.0, '139480': 0.0, '161390': 0.0}\n",
      "Portfolio: {'000270': 0.0, '000660': 0.0, '000720': 0.0, '000810': 0.0, '000880': 0.0, '000990': 0.0, '001450': 0.0, '001570': 0.0, '004020': 0.0, '004370': 0.0, '005380': 0.14285714285714285, '005490': 0.0, '005830': 0.0, '005940': 0.0, '006260': 0.14285714285714285, '006400': 0.0, '006800': 0.0, '007070': 0.0, '008770': 0.0, '009150': 0.0, '009830': 0.14285714285714285, '010120': 0.0, '010130': 0.0, '010620': 0.0, '010950': 0.0, '011070': 0.0, '011170': 0.0, '011780': 0.0, '012330': 0.0, '012450': 0.0, '015760': 0.0, '016360': 0.0, '020150': 0.0, '021240': 0.0, '024110': 0.0, '029780': 0.0, '030200': 0.0, '032640': 0.0, '032830': 0.0, '033780': 0.0, '034020': 0.14285714285714285, '034220': 0.0, '034730': 0.0, '035250': 0.0, '036460': 0.0, '036570': 0.0, '039490': 0.0, '047050': 0.0, '051900': 0.0, '051910': 0.0, '052690': 0.0, '055550': 0.0, '066570': 0.14285714285714285, '068270': 0.0, '071050': 0.14285714285714285, '078930': 0.0, '086280': 0.14285714285714285, '086790': 0.0, '096770': 0.0, '097950': 0.0, '105560': 0.0, '111770': 0.0, '128940': 0.0, '138040': 0.0, '138930': 0.0, '139480': 0.0, '161390': 0.0}\n",
      "Portfolio: {'000270': 0.0, '000660': 0.0, '000720': 0.0, '000810': 0.0, '000880': 0.0, '000990': 0.0, '001450': 0.0, '001570': 0.0, '004020': 0.0, '004370': 0.0, '005380': 0.14285714285714285, '005490': 0.0, '005830': 0.0, '005940': 0.0, '006260': 0.0, '006400': 0.0, '006800': 0.0, '007070': 0.0, '008770': 0.0, '009150': 0.0, '009830': 0.14285714285714285, '010120': 0.0, '010130': 0.0, '010620': 0.0, '010950': 0.0, '011070': 0.0, '011170': 0.14285714285714285, '011780': 0.14285714285714285, '012330': 0.0, '012450': 0.0, '015760': 0.0, '016360': 0.0, '020150': 0.0, '021240': 0.0, '024110': 0.0, '029780': 0.0, '030200': 0.0, '032640': 0.0, '032830': 0.0, '033780': 0.0, '034020': 0.14285714285714285, '034220': 0.0, '034730': 0.0, '035250': 0.0, '036460': 0.0, '036570': 0.0, '039490': 0.0, '047050': 0.0, '051900': 0.0, '051910': 0.0, '052690': 0.0, '055550': 0.0, '066570': 0.0, '068270': 0.0, '071050': 0.14285714285714285, '078930': 0.0, '086280': 0.14285714285714285, '086790': 0.0, '096770': 0.0, '097950': 0.0, '105560': 0.0, '111770': 0.0, '128940': 0.0, '138040': 0.0, '138930': 0.0, '139480': 0.0, '161390': 0.0}\n",
      "Portfolio: {'000270': 0.14285714285714285, '000660': 0.0, '000720': 0.0, '000810': 0.0, '000880': 0.0, '000990': 0.0, '001450': 0.0, '001570': 0.0, '004020': 0.0, '004370': 0.0, '005380': 0.0, '005490': 0.0, '005830': 0.0, '005940': 0.0, '006260': 0.14285714285714285, '006400': 0.0, '006800': 0.0, '007070': 0.0, '008770': 0.0, '009150': 0.0, '009830': 0.0, '010120': 0.0, '010130': 0.0, '010620': 0.14285714285714285, '010950': 0.0, '011070': 0.0, '011170': 0.14285714285714285, '011780': 0.14285714285714285, '012330': 0.0, '012450': 0.0, '015760': 0.0, '016360': 0.0, '020150': 0.0, '021240': 0.0, '024110': 0.0, '029780': 0.0, '030200': 0.0, '032640': 0.0, '032830': 0.0, '033780': 0.0, '034020': 0.14285714285714285, '034220': 0.0, '034730': 0.0, '035250': 0.0, '036460': 0.0, '036570': 0.0, '039490': 0.0, '047050': 0.0, '051900': 0.0, '051910': 0.0, '052690': 0.0, '055550': 0.0, '066570': 0.0, '068270': 0.0, '071050': 0.0, '078930': 0.0, '086280': 0.0, '086790': 0.0, '096770': 0.0, '097950': 0.0, '105560': 0.0, '111770': 0.0, '128940': 0.0, '138040': 0.0, '138930': 0.0, '139480': 0.14285714285714285, '161390': 0.0}\n",
      "Portfolio: {'000270': 0.14285714285714285, '000660': 0.0, '000720': 0.0, '000810': 0.0, '000880': 0.0, '000990': 0.0, '001450': 0.0, '001570': 0.0, '004020': 0.14285714285714285, '004370': 0.0, '005380': 0.0, '005490': 0.0, '005830': 0.0, '005940': 0.0, '006260': 0.0, '006400': 0.14285714285714285, '006800': 0.0, '007070': 0.0, '008770': 0.0, '009150': 0.0, '009830': 0.0, '010120': 0.0, '010130': 0.0, '010620': 0.14285714285714285, '010950': 0.0, '011070': 0.0, '011170': 0.0, '011780': 0.14285714285714285, '012330': 0.0, '012450': 0.0, '015760': 0.0, '016360': 0.0, '020150': 0.0, '021240': 0.0, '024110': 0.0, '029780': 0.0, '030200': 0.0, '032640': 0.0, '032830': 0.0, '033780': 0.0, '034020': 0.0, '034220': 0.0, '034730': 0.0, '035250': 0.0, '036460': 0.0, '036570': 0.0, '039490': 0.0, '047050': 0.0, '051900': 0.0, '051910': 0.0, '052690': 0.0, '055550': 0.0, '066570': 0.14285714285714285, '068270': 0.14285714285714285, '071050': 0.0, '078930': 0.0, '086280': 0.0, '086790': 0.0, '096770': 0.0, '097950': 0.0, '105560': 0.0, '111770': 0.0, '128940': 0.0, '138040': 0.0, '138930': 0.0, '139480': 0.0, '161390': 0.0}\n",
      "Portfolio: {'000270': 0.14285714285714285, '000660': 0.0, '000720': 0.0, '000810': 0.0, '000880': 0.0, '000990': 0.14285714285714285, '001450': 0.0, '001570': 0.0, '004020': 0.0, '004370': 0.0, '005380': 0.0, '005490': 0.0, '005830': 0.0, '005940': 0.0, '006260': 0.0, '006400': 0.14285714285714285, '006800': 0.0, '007070': 0.0, '008770': 0.0, '009150': 0.0, '009830': 0.0, '010120': 0.0, '010130': 0.0, '010620': 0.0, '010950': 0.0, '011070': 0.0, '011170': 0.0, '011780': 0.0, '012330': 0.0, '012450': 0.14285714285714285, '015760': 0.0, '016360': 0.0, '020150': 0.0, '021240': 0.0, '024110': 0.0, '029780': 0.0, '030200': 0.0, '032640': 0.0, '032830': 0.0, '033780': 0.0, '034020': 0.0, '034220': 0.0, '034730': 0.14285714285714285, '035250': 0.0, '036460': 0.0, '036570': 0.0, '039490': 0.0, '047050': 0.0, '051900': 0.0, '051910': 0.0, '052690': 0.0, '055550': 0.0, '066570': 0.14285714285714285, '068270': 0.0, '071050': 0.0, '078930': 0.0, '086280': 0.0, '086790': 0.0, '096770': 0.14285714285714285, '097950': 0.0, '105560': 0.0, '111770': 0.0, '128940': 0.0, '138040': 0.0, '138930': 0.0, '139480': 0.0, '161390': 0.0}\n",
      "Portfolio: {'000270': 0.0, '000660': 0.0, '000720': 0.0, '000810': 0.0, '000880': 0.0, '000990': 0.14285714285714285, '001450': 0.0, '001570': 0.0, '004020': 0.0, '004370': 0.0, '005380': 0.0, '005490': 0.0, '005830': 0.0, '005940': 0.0, '006260': 0.0, '006400': 0.0, '006800': 0.0, '007070': 0.0, '008770': 0.0, '009150': 0.0, '009830': 0.0, '010120': 0.0, '010130': 0.0, '010620': 0.0, '010950': 0.0, '011070': 0.0, '011170': 0.0, '011780': 0.14285714285714285, '012330': 0.0, '012450': 0.0, '015760': 0.0, '016360': 0.0, '020150': 0.14285714285714285, '021240': 0.0, '024110': 0.0, '029780': 0.0, '030200': 0.0, '032640': 0.0, '032830': 0.0, '033780': 0.0, '034020': 0.0, '034220': 0.14285714285714285, '034730': 0.0, '035250': 0.0, '036460': 0.0, '036570': 0.0, '039490': 0.0, '047050': 0.14285714285714285, '051900': 0.0, '051910': 0.0, '052690': 0.0, '055550': 0.0, '066570': 0.14285714285714285, '068270': 0.0, '071050': 0.0, '078930': 0.0, '086280': 0.0, '086790': 0.0, '096770': 0.14285714285714285, '097950': 0.0, '105560': 0.0, '111770': 0.0, '128940': 0.0, '138040': 0.0, '138930': 0.0, '139480': 0.0, '161390': 0.0}\n",
      "Portfolio: {'000270': 0.14285714285714285, '000660': 0.0, '000720': 0.0, '000810': 0.0, '000880': 0.0, '000990': 0.0, '001450': 0.0, '001570': 0.0, '004020': 0.0, '004370': 0.0, '005380': 0.0, '005490': 0.0, '005830': 0.0, '005940': 0.0, '006260': 0.0, '006400': 0.0, '006800': 0.0, '007070': 0.0, '008770': 0.0, '009150': 0.0, '009830': 0.0, '010120': 0.0, '010130': 0.0, '010620': 0.14285714285714285, '010950': 0.0, '011070': 0.0, '011170': 0.0, '011780': 0.14285714285714285, '012330': 0.0, '012450': 0.14285714285714285, '015760': 0.0, '016360': 0.0, '020150': 0.14285714285714285, '021240': 0.0, '024110': 0.0, '029780': 0.0, '030200': 0.0, '032640': 0.0, '032830': 0.0, '033780': 0.0, '034020': 0.0, '034220': 0.0, '034730': 0.0, '035250': 0.0, '036460': 0.0, '036570': 0.0, '039490': 0.0, '047050': 0.14285714285714285, '051900': 0.0, '051910': 0.0, '052690': 0.0, '055550': 0.0, '066570': 0.0, '068270': 0.0, '071050': 0.0, '078930': 0.0, '086280': 0.0, '086790': 0.0, '096770': 0.0, '097950': 0.0, '105560': 0.0, '111770': 0.0, '128940': 0.0, '138040': 0.14285714285714285, '138930': 0.0, '139480': 0.0, '161390': 0.0}\n",
      "Portfolio: {'000270': 0.0, '000660': 0.0, '000720': 0.0, '000810': 0.0, '000880': 0.0, '000990': 0.0, '001450': 0.0, '001570': 0.0, '004020': 0.14285714285714285, '004370': 0.0, '005380': 0.0, '005490': 0.14285714285714285, '005830': 0.0, '005940': 0.0, '006260': 0.0, '006400': 0.0, '006800': 0.0, '007070': 0.0, '008770': 0.0, '009150': 0.0, '009830': 0.0, '010120': 0.0, '010130': 0.0, '010620': 0.14285714285714285, '010950': 0.0, '011070': 0.0, '011170': 0.0, '011780': 0.0, '012330': 0.0, '012450': 0.0, '015760': 0.0, '016360': 0.0, '020150': 0.0, '021240': 0.0, '024110': 0.0, '029780': 0.0, '030200': 0.0, '032640': 0.0, '032830': 0.0, '033780': 0.0, '034020': 0.0, '034220': 0.0, '034730': 0.0, '035250': 0.0, '036460': 0.0, '036570': 0.0, '039490': 0.0, '047050': 0.14285714285714285, '051900': 0.0, '051910': 0.0, '052690': 0.14285714285714285, '055550': 0.0, '066570': 0.0, '068270': 0.0, '071050': 0.14285714285714285, '078930': 0.0, '086280': 0.0, '086790': 0.0, '096770': 0.0, '097950': 0.0, '105560': 0.0, '111770': 0.0, '128940': 0.0, '138040': 0.14285714285714285, '138930': 0.0, '139480': 0.0, '161390': 0.0}\n",
      "Portfolio: {'000270': 0.0, '000660': 0.0, '000720': 0.14285714285714285, '000810': 0.0, '000880': 0.0, '000990': 0.0, '001450': 0.0, '001570': 0.0, '004020': 0.0, '004370': 0.0, '005380': 0.0, '005490': 0.0, '005830': 0.0, '005940': 0.0, '006260': 0.0, '006400': 0.0, '006800': 0.0, '007070': 0.0, '008770': 0.0, '009150': 0.0, '009830': 0.0, '010120': 0.0, '010130': 0.0, '010620': 0.14285714285714285, '010950': 0.0, '011070': 0.0, '011170': 0.0, '011780': 0.0, '012330': 0.0, '012450': 0.0, '015760': 0.0, '016360': 0.0, '020150': 0.0, '021240': 0.0, '024110': 0.0, '029780': 0.0, '030200': 0.14285714285714285, '032640': 0.0, '032830': 0.0, '033780': 0.0, '034020': 0.14285714285714285, '034220': 0.0, '034730': 0.0, '035250': 0.0, '036460': 0.0, '036570': 0.0, '039490': 0.0, '047050': 0.0, '051900': 0.0, '051910': 0.0, '052690': 0.14285714285714285, '055550': 0.0, '066570': 0.0, '068270': 0.0, '071050': 0.0, '078930': 0.0, '086280': 0.0, '086790': 0.0, '096770': 0.0, '097950': 0.0, '105560': 0.14285714285714285, '111770': 0.0, '128940': 0.0, '138040': 0.14285714285714285, '138930': 0.0, '139480': 0.0, '161390': 0.0}\n",
      "Portfolio: {'000270': 0.0, '000660': 0.0, '000720': 0.14285714285714285, '000810': 0.0, '000880': 0.0, '000990': 0.0, '001450': 0.0, '001570': 0.14285714285714285, '004020': 0.0, '004370': 0.0, '005380': 0.0, '005490': 0.0, '005830': 0.0, '005940': 0.0, '006260': 0.0, '006400': 0.0, '006800': 0.0, '007070': 0.0, '008770': 0.0, '009150': 0.0, '009830': 0.0, '010120': 0.0, '010130': 0.0, '010620': 0.14285714285714285, '010950': 0.14285714285714285, '011070': 0.0, '011170': 0.0, '011780': 0.0, '012330': 0.0, '012450': 0.0, '015760': 0.0, '016360': 0.0, '020150': 0.0, '021240': 0.0, '024110': 0.0, '029780': 0.0, '030200': 0.0, '032640': 0.0, '032830': 0.0, '033780': 0.0, '034020': 0.14285714285714285, '034220': 0.0, '034730': 0.0, '035250': 0.0, '036460': 0.0, '036570': 0.0, '039490': 0.0, '047050': 0.0, '051900': 0.0, '051910': 0.0, '052690': 0.14285714285714285, '055550': 0.0, '066570': 0.0, '068270': 0.0, '071050': 0.0, '078930': 0.0, '086280': 0.0, '086790': 0.0, '096770': 0.0, '097950': 0.0, '105560': 0.0, '111770': 0.0, '128940': 0.0, '138040': 0.14285714285714285, '138930': 0.0, '139480': 0.0, '161390': 0.0}\n",
      "Portfolio: {'000270': 0.0, '000660': 0.0, '000720': 0.0, '000810': 0.0, '000880': 0.0, '000990': 0.0, '001450': 0.0, '001570': 0.0, '004020': 0.0, '004370': 0.0, '005380': 0.0, '005490': 0.0, '005830': 0.0, '005940': 0.0, '006260': 0.0, '006400': 0.0, '006800': 0.0, '007070': 0.0, '008770': 0.0, '009150': 0.0, '009830': 0.0, '010120': 0.0, '010130': 0.14285714285714285, '010620': 0.0, '010950': 0.0, '011070': 0.0, '011170': 0.0, '011780': 0.0, '012330': 0.0, '012450': 0.14285714285714285, '015760': 0.0, '016360': 0.0, '020150': 0.0, '021240': 0.14285714285714285, '024110': 0.0, '029780': 0.0, '030200': 0.0, '032640': 0.0, '032830': 0.0, '033780': 0.0, '034020': 0.14285714285714285, '034220': 0.0, '034730': 0.0, '035250': 0.0, '036460': 0.0, '036570': 0.0, '039490': 0.0, '047050': 0.14285714285714285, '051900': 0.0, '051910': 0.0, '052690': 0.14285714285714285, '055550': 0.0, '066570': 0.0, '068270': 0.0, '071050': 0.0, '078930': 0.0, '086280': 0.0, '086790': 0.0, '096770': 0.0, '097950': 0.0, '105560': 0.0, '111770': 0.0, '128940': 0.0, '138040': 0.14285714285714285, '138930': 0.0, '139480': 0.0, '161390': 0.0}\n",
      "Portfolio: {'000270': 0.0, '000660': 0.0, '000720': 0.0, '000810': 0.0, '000880': 0.0, '000990': 0.14285714285714285, '001450': 0.0, '001570': 0.0, '004020': 0.0, '004370': 0.0, '005380': 0.0, '005490': 0.0, '005830': 0.14285714285714285, '005940': 0.0, '006260': 0.0, '006400': 0.14285714285714285, '006800': 0.0, '007070': 0.0, '008770': 0.0, '009150': 0.0, '009830': 0.0, '010120': 0.14285714285714285, '010130': 0.14285714285714285, '010620': 0.0, '010950': 0.0, '011070': 0.0, '011170': 0.0, '011780': 0.0, '012330': 0.0, '012450': 0.0, '015760': 0.0, '016360': 0.0, '020150': 0.14285714285714285, '021240': 0.0, '024110': 0.0, '029780': 0.0, '030200': 0.0, '032640': 0.0, '032830': 0.0, '033780': 0.0, '034020': 0.0, '034220': 0.0, '034730': 0.0, '035250': 0.0, '036460': 0.0, '036570': 0.0, '039490': 0.0, '047050': 0.0, '051900': 0.0, '051910': 0.0, '052690': 0.0, '055550': 0.0, '066570': 0.0, '068270': 0.0, '071050': 0.0, '078930': 0.0, '086280': 0.0, '086790': 0.0, '096770': 0.0, '097950': 0.0, '105560': 0.0, '111770': 0.0, '128940': 0.0, '138040': 0.14285714285714285, '138930': 0.0, '139480': 0.0, '161390': 0.0}\n",
      "Portfolio: {'000270': 0.0, '000660': 0.0, '000720': 0.0, '000810': 0.0, '000880': 0.14285714285714285, '000990': 0.0, '001450': 0.0, '001570': 0.0, '004020': 0.0, '004370': 0.0, '005380': 0.0, '005490': 0.0, '005830': 0.14285714285714285, '005940': 0.0, '006260': 0.0, '006400': 0.0, '006800': 0.0, '007070': 0.0, '008770': 0.0, '009150': 0.0, '009830': 0.0, '010120': 0.14285714285714285, '010130': 0.14285714285714285, '010620': 0.0, '010950': 0.0, '011070': 0.0, '011170': 0.0, '011780': 0.0, '012330': 0.0, '012450': 0.0, '015760': 0.0, '016360': 0.0, '020150': 0.14285714285714285, '021240': 0.0, '024110': 0.0, '029780': 0.0, '030200': 0.0, '032640': 0.0, '032830': 0.0, '033780': 0.0, '034020': 0.0, '034220': 0.0, '034730': 0.0, '035250': 0.0, '036460': 0.14285714285714285, '036570': 0.0, '039490': 0.0, '047050': 0.0, '051900': 0.0, '051910': 0.0, '052690': 0.0, '055550': 0.0, '066570': 0.0, '068270': 0.0, '071050': 0.0, '078930': 0.0, '086280': 0.0, '086790': 0.0, '096770': 0.0, '097950': 0.0, '105560': 0.0, '111770': 0.0, '128940': 0.0, '138040': 0.14285714285714285, '138930': 0.0, '139480': 0.0, '161390': 0.0}\n",
      "Portfolio: {'000270': 0.0, '000660': 0.0, '000720': 0.0, '000810': 0.0, '000880': 0.14285714285714285, '000990': 0.0, '001450': 0.0, '001570': 0.0, '004020': 0.0, '004370': 0.0, '005380': 0.0, '005490': 0.0, '005830': 0.0, '005940': 0.0, '006260': 0.0, '006400': 0.0, '006800': 0.0, '007070': 0.0, '008770': 0.0, '009150': 0.0, '009830': 0.0, '010120': 0.0, '010130': 0.0, '010620': 0.0, '010950': 0.0, '011070': 0.0, '011170': 0.0, '011780': 0.0, '012330': 0.0, '012450': 0.0, '015760': 0.0, '016360': 0.0, '020150': 0.14285714285714285, '021240': 0.0, '024110': 0.0, '029780': 0.0, '030200': 0.0, '032640': 0.0, '032830': 0.0, '033780': 0.0, '034020': 0.0, '034220': 0.0, '034730': 0.0, '035250': 0.0, '036460': 0.14285714285714285, '036570': 0.0, '039490': 0.0, '047050': 0.0, '051900': 0.0, '051910': 0.0, '052690': 0.14285714285714285, '055550': 0.0, '066570': 0.0, '068270': 0.0, '071050': 0.0, '078930': 0.0, '086280': 0.0, '086790': 0.0, '096770': 0.0, '097950': 0.0, '105560': 0.0, '111770': 0.14285714285714285, '128940': 0.0, '138040': 0.14285714285714285, '138930': 0.14285714285714285, '139480': 0.0, '161390': 0.0}\n",
      "Portfolio: {'000270': 0.0, '000660': 0.14285714285714285, '000720': 0.0, '000810': 0.0, '000880': 0.0, '000990': 0.14285714285714285, '001450': 0.0, '001570': 0.0, '004020': 0.0, '004370': 0.0, '005380': 0.0, '005490': 0.0, '005830': 0.0, '005940': 0.0, '006260': 0.0, '006400': 0.0, '006800': 0.0, '007070': 0.0, '008770': 0.0, '009150': 0.0, '009830': 0.0, '010120': 0.0, '010130': 0.0, '010620': 0.0, '010950': 0.0, '011070': 0.14285714285714285, '011170': 0.0, '011780': 0.0, '012330': 0.0, '012450': 0.0, '015760': 0.0, '016360': 0.0, '020150': 0.14285714285714285, '021240': 0.0, '024110': 0.0, '029780': 0.0, '030200': 0.0, '032640': 0.0, '032830': 0.0, '033780': 0.0, '034020': 0.0, '034220': 0.0, '034730': 0.0, '035250': 0.0, '036460': 0.0, '036570': 0.14285714285714285, '039490': 0.0, '047050': 0.0, '051900': 0.0, '051910': 0.0, '052690': 0.14285714285714285, '055550': 0.0, '066570': 0.0, '068270': 0.0, '071050': 0.0, '078930': 0.0, '086280': 0.0, '086790': 0.0, '096770': 0.0, '097950': 0.0, '105560': 0.0, '111770': 0.0, '128940': 0.0, '138040': 0.14285714285714285, '138930': 0.0, '139480': 0.0, '161390': 0.0}\n"
     ]
    }
   ],
   "source": [
    "# 룩백 기간, 생략 기간 정의\n",
    "lookback = 3\n",
    "offset = 1\n",
    "total_lookback = get_lookback_fromdate(fromdate=simulation_fromdate,\n",
    "                                       lookback=lookback + offset, freq='m')\n",
    "\n",
    "# 매수 비율 정의\n",
    "ratio = 0.1\n",
    "\n",
    "# 전략 정의\n",
    "strategy = 'relative'\n",
    "\n",
    "# 상대모멘텀 전략 실행하기\n",
    "account_relative = simulate_factor(\n",
    "    ohlcv_data=df_slicer(df=ohlcv_data_day, fromdate=total_lookback),\n",
    "    market_cap_data=None,\n",
    "    fundamental_data=None,\n",
    "    trader_data=None,\n",
    "    lookback_period=lookback * 21,\n",
    "    skip_period=offset * 21,\n",
    "    strategy_name=strategy,\n",
    "    buying_ratio=ratio)"
   ],
   "metadata": {
    "collapsed": false,
    "ExecuteTime": {
     "end_time": "2023-12-07T05:11:47.242845Z",
     "start_time": "2023-12-07T05:11:44.451054Z"
    }
   }
  },
  {
   "cell_type": "markdown",
   "source": [
    "#### 1.6.2. PER 가치 전략 실행하기"
   ],
   "metadata": {
    "collapsed": false
   }
  },
  {
   "cell_type": "code",
   "execution_count": 51,
   "outputs": [
    {
     "name": "stderr",
     "output_type": "stream",
     "text": [
      "/var/folders/j2/p6vmvrcs1kg7j9c8811510sc0000gn/T/ipykernel_87974/888467401.py:44: FutureWarning: In a future version of pandas, a length 1 tuple will be returned when iterating over a groupby with a grouper equal to a list of length 1. Don't supply a list with a single grouper to avoid this warning.\n",
      "  for date, ohlcv in ohlcv_data.groupby(['date']):\n"
     ]
    },
    {
     "name": "stdout",
     "output_type": "stream",
     "text": [
      "Portfolio: None\n",
      "Portfolio: None\n",
      "Portfolio: None\n",
      "Portfolio: None\n",
      "Portfolio: None\n",
      "Portfolio: None\n",
      "Portfolio: None\n",
      "Portfolio: None\n",
      "Portfolio: None\n",
      "Portfolio: None\n",
      "Portfolio: None\n",
      "Portfolio: {'000270': 0.14285714285714285, '000660': 0.0, '000720': 0.0, '000810': 0.0, '000880': 0.0, '000990': 0.14285714285714285, '001450': 0.0, '001570': 0.0, '004020': 0.0, '004370': 0.0, '005380': 0.14285714285714285, '005490': 0.0, '005830': 0.0, '005940': 0.0, '006260': 0.0, '006400': 0.0, '006800': 0.0, '007070': 0.0, '008770': 0.0, '009150': 0.0, '009830': 0.0, '010120': 0.0, '010130': 0.0, '010620': 0.0, '010950': 0.0, '011070': 0.0, '011170': 0.0, '011780': 0.0, '012330': 0.14285714285714285, '012450': 0.0, '015760': 0.14285714285714285, '016360': 0.0, '020150': 0.0, '021240': 0.0, '024110': 0.0, '029780': 0.0, '030200': 0.0, '032640': 0.0, '032830': 0.0, '033780': 0.0, '034020': 0.0, '034220': 0.0, '034730': 0.14285714285714285, '035250': 0.0, '036460': 0.0, '036570': 0.0, '039490': 0.0, '047050': 0.0, '051900': 0.0, '051910': 0.0, '052690': 0.0, '055550': 0.0, '066570': 0.0, '068270': 0.0, '071050': 0.0, '078930': 0.0, '086280': 0.0, '086790': 0.0, '096770': 0.0, '097950': 0.0, '105560': 0.0, '111770': 0.0, '128940': 0.0, '138040': 0.0, '138930': 0.14285714285714285, '139480': 0.0, '161390': 0.0}\n",
      "Portfolio: {'000270': 0.14285714285714285, '000660': 0.0, '000720': 0.0, '000810': 0.0, '000880': 0.0, '000990': 0.14285714285714285, '001450': 0.0, '001570': 0.0, '004020': 0.0, '004370': 0.0, '005380': 0.14285714285714285, '005490': 0.0, '005830': 0.0, '005940': 0.0, '006260': 0.0, '006400': 0.0, '006800': 0.0, '007070': 0.0, '008770': 0.0, '009150': 0.0, '009830': 0.0, '010120': 0.0, '010130': 0.0, '010620': 0.0, '010950': 0.0, '011070': 0.0, '011170': 0.0, '011780': 0.0, '012330': 0.14285714285714285, '012450': 0.0, '015760': 0.14285714285714285, '016360': 0.0, '020150': 0.0, '021240': 0.0, '024110': 0.0, '029780': 0.0, '030200': 0.0, '032640': 0.0, '032830': 0.0, '033780': 0.0, '034020': 0.0, '034220': 0.0, '034730': 0.14285714285714285, '035250': 0.0, '036460': 0.0, '036570': 0.0, '039490': 0.0, '047050': 0.0, '051900': 0.0, '051910': 0.0, '052690': 0.0, '055550': 0.0, '066570': 0.0, '068270': 0.0, '071050': 0.0, '078930': 0.0, '086280': 0.0, '086790': 0.0, '096770': 0.0, '097950': 0.0, '105560': 0.0, '111770': 0.0, '128940': 0.0, '138040': 0.0, '138930': 0.14285714285714285, '139480': 0.0, '161390': 0.0}\n",
      "Portfolio: {'000270': 0.14285714285714285, '000660': 0.0, '000720': 0.0, '000810': 0.0, '000880': 0.0, '000990': 0.14285714285714285, '001450': 0.0, '001570': 0.0, '004020': 0.0, '004370': 0.0, '005380': 0.14285714285714285, '005490': 0.0, '005830': 0.0, '005940': 0.0, '006260': 0.0, '006400': 0.0, '006800': 0.0, '007070': 0.0, '008770': 0.0, '009150': 0.0, '009830': 0.0, '010120': 0.0, '010130': 0.0, '010620': 0.0, '010950': 0.0, '011070': 0.0, '011170': 0.0, '011780': 0.0, '012330': 0.14285714285714285, '012450': 0.0, '015760': 0.14285714285714285, '016360': 0.0, '020150': 0.0, '021240': 0.0, '024110': 0.0, '029780': 0.0, '030200': 0.0, '032640': 0.0, '032830': 0.0, '033780': 0.0, '034020': 0.0, '034220': 0.0, '034730': 0.14285714285714285, '035250': 0.0, '036460': 0.0, '036570': 0.0, '039490': 0.0, '047050': 0.0, '051900': 0.0, '051910': 0.0, '052690': 0.0, '055550': 0.0, '066570': 0.0, '068270': 0.0, '071050': 0.0, '078930': 0.0, '086280': 0.0, '086790': 0.0, '096770': 0.0, '097950': 0.0, '105560': 0.0, '111770': 0.0, '128940': 0.0, '138040': 0.0, '138930': 0.14285714285714285, '139480': 0.0, '161390': 0.0}\n",
      "Portfolio: {'000270': 0.14285714285714285, '000660': 0.0, '000720': 0.0, '000810': 0.0, '000880': 0.0, '000990': 0.14285714285714285, '001450': 0.0, '001570': 0.0, '004020': 0.0, '004370': 0.0, '005380': 0.14285714285714285, '005490': 0.0, '005830': 0.0, '005940': 0.0, '006260': 0.0, '006400': 0.0, '006800': 0.0, '007070': 0.0, '008770': 0.0, '009150': 0.0, '009830': 0.0, '010120': 0.0, '010130': 0.0, '010620': 0.0, '010950': 0.0, '011070': 0.0, '011170': 0.0, '011780': 0.0, '012330': 0.14285714285714285, '012450': 0.0, '015760': 0.14285714285714285, '016360': 0.0, '020150': 0.0, '021240': 0.0, '024110': 0.0, '029780': 0.0, '030200': 0.0, '032640': 0.0, '032830': 0.0, '033780': 0.0, '034020': 0.0, '034220': 0.0, '034730': 0.14285714285714285, '035250': 0.0, '036460': 0.0, '036570': 0.0, '039490': 0.0, '047050': 0.0, '051900': 0.0, '051910': 0.0, '052690': 0.0, '055550': 0.0, '066570': 0.0, '068270': 0.0, '071050': 0.0, '078930': 0.0, '086280': 0.0, '086790': 0.0, '096770': 0.0, '097950': 0.0, '105560': 0.0, '111770': 0.0, '128940': 0.0, '138040': 0.0, '138930': 0.14285714285714285, '139480': 0.0, '161390': 0.0}\n",
      "Portfolio: {'000270': 0.14285714285714285, '000660': 0.0, '000720': 0.0, '000810': 0.0, '000880': 0.0, '000990': 0.14285714285714285, '001450': 0.0, '001570': 0.0, '004020': 0.0, '004370': 0.0, '005380': 0.14285714285714285, '005490': 0.0, '005830': 0.0, '005940': 0.0, '006260': 0.0, '006400': 0.0, '006800': 0.0, '007070': 0.0, '008770': 0.0, '009150': 0.0, '009830': 0.0, '010120': 0.0, '010130': 0.0, '010620': 0.0, '010950': 0.0, '011070': 0.0, '011170': 0.0, '011780': 0.0, '012330': 0.14285714285714285, '012450': 0.0, '015760': 0.14285714285714285, '016360': 0.0, '020150': 0.0, '021240': 0.0, '024110': 0.0, '029780': 0.0, '030200': 0.0, '032640': 0.0, '032830': 0.0, '033780': 0.0, '034020': 0.0, '034220': 0.0, '034730': 0.14285714285714285, '035250': 0.0, '036460': 0.0, '036570': 0.0, '039490': 0.0, '047050': 0.0, '051900': 0.0, '051910': 0.0, '052690': 0.0, '055550': 0.0, '066570': 0.0, '068270': 0.0, '071050': 0.0, '078930': 0.0, '086280': 0.0, '086790': 0.0, '096770': 0.0, '097950': 0.0, '105560': 0.0, '111770': 0.0, '128940': 0.0, '138040': 0.0, '138930': 0.14285714285714285, '139480': 0.0, '161390': 0.0}\n",
      "Portfolio: {'000270': 0.14285714285714285, '000660': 0.0, '000720': 0.0, '000810': 0.0, '000880': 0.0, '000990': 0.14285714285714285, '001450': 0.0, '001570': 0.0, '004020': 0.0, '004370': 0.0, '005380': 0.14285714285714285, '005490': 0.0, '005830': 0.0, '005940': 0.0, '006260': 0.0, '006400': 0.0, '006800': 0.0, '007070': 0.0, '008770': 0.0, '009150': 0.0, '009830': 0.0, '010120': 0.0, '010130': 0.0, '010620': 0.0, '010950': 0.0, '011070': 0.0, '011170': 0.0, '011780': 0.0, '012330': 0.14285714285714285, '012450': 0.0, '015760': 0.14285714285714285, '016360': 0.0, '020150': 0.0, '021240': 0.0, '024110': 0.0, '029780': 0.0, '030200': 0.0, '032640': 0.0, '032830': 0.0, '033780': 0.0, '034020': 0.0, '034220': 0.0, '034730': 0.14285714285714285, '035250': 0.0, '036460': 0.0, '036570': 0.0, '039490': 0.0, '047050': 0.0, '051900': 0.0, '051910': 0.0, '052690': 0.0, '055550': 0.0, '066570': 0.0, '068270': 0.0, '071050': 0.0, '078930': 0.0, '086280': 0.0, '086790': 0.0, '096770': 0.0, '097950': 0.0, '105560': 0.0, '111770': 0.0, '128940': 0.0, '138040': 0.0, '138930': 0.14285714285714285, '139480': 0.0, '161390': 0.0}\n",
      "Portfolio: {'000270': 0.14285714285714285, '000660': 0.0, '000720': 0.0, '000810': 0.0, '000880': 0.0, '000990': 0.14285714285714285, '001450': 0.0, '001570': 0.0, '004020': 0.0, '004370': 0.0, '005380': 0.14285714285714285, '005490': 0.0, '005830': 0.0, '005940': 0.0, '006260': 0.0, '006400': 0.0, '006800': 0.0, '007070': 0.0, '008770': 0.0, '009150': 0.0, '009830': 0.0, '010120': 0.0, '010130': 0.0, '010620': 0.0, '010950': 0.0, '011070': 0.0, '011170': 0.0, '011780': 0.0, '012330': 0.14285714285714285, '012450': 0.0, '015760': 0.14285714285714285, '016360': 0.0, '020150': 0.0, '021240': 0.0, '024110': 0.0, '029780': 0.0, '030200': 0.0, '032640': 0.0, '032830': 0.0, '033780': 0.0, '034020': 0.0, '034220': 0.0, '034730': 0.14285714285714285, '035250': 0.0, '036460': 0.0, '036570': 0.0, '039490': 0.0, '047050': 0.0, '051900': 0.0, '051910': 0.0, '052690': 0.0, '055550': 0.0, '066570': 0.0, '068270': 0.0, '071050': 0.0, '078930': 0.0, '086280': 0.0, '086790': 0.0, '096770': 0.0, '097950': 0.0, '105560': 0.0, '111770': 0.0, '128940': 0.0, '138040': 0.0, '138930': 0.14285714285714285, '139480': 0.0, '161390': 0.0}\n",
      "Portfolio: {'000270': 0.14285714285714285, '000660': 0.0, '000720': 0.0, '000810': 0.0, '000880': 0.0, '000990': 0.14285714285714285, '001450': 0.0, '001570': 0.0, '004020': 0.0, '004370': 0.0, '005380': 0.14285714285714285, '005490': 0.0, '005830': 0.0, '005940': 0.0, '006260': 0.0, '006400': 0.0, '006800': 0.0, '007070': 0.0, '008770': 0.0, '009150': 0.0, '009830': 0.0, '010120': 0.0, '010130': 0.0, '010620': 0.0, '010950': 0.0, '011070': 0.0, '011170': 0.0, '011780': 0.0, '012330': 0.14285714285714285, '012450': 0.0, '015760': 0.14285714285714285, '016360': 0.0, '020150': 0.0, '021240': 0.0, '024110': 0.0, '029780': 0.0, '030200': 0.0, '032640': 0.0, '032830': 0.0, '033780': 0.0, '034020': 0.0, '034220': 0.0, '034730': 0.14285714285714285, '035250': 0.0, '036460': 0.0, '036570': 0.0, '039490': 0.0, '047050': 0.0, '051900': 0.0, '051910': 0.0, '052690': 0.0, '055550': 0.0, '066570': 0.0, '068270': 0.0, '071050': 0.0, '078930': 0.0, '086280': 0.0, '086790': 0.0, '096770': 0.0, '097950': 0.0, '105560': 0.0, '111770': 0.0, '128940': 0.0, '138040': 0.0, '138930': 0.14285714285714285, '139480': 0.0, '161390': 0.0}\n",
      "Portfolio: {'000270': 0.14285714285714285, '000660': 0.0, '000720': 0.0, '000810': 0.0, '000880': 0.0, '000990': 0.14285714285714285, '001450': 0.0, '001570': 0.0, '004020': 0.0, '004370': 0.0, '005380': 0.14285714285714285, '005490': 0.0, '005830': 0.0, '005940': 0.0, '006260': 0.0, '006400': 0.0, '006800': 0.0, '007070': 0.0, '008770': 0.0, '009150': 0.0, '009830': 0.0, '010120': 0.0, '010130': 0.0, '010620': 0.0, '010950': 0.0, '011070': 0.0, '011170': 0.0, '011780': 0.0, '012330': 0.14285714285714285, '012450': 0.0, '015760': 0.14285714285714285, '016360': 0.0, '020150': 0.0, '021240': 0.0, '024110': 0.0, '029780': 0.0, '030200': 0.0, '032640': 0.0, '032830': 0.0, '033780': 0.0, '034020': 0.0, '034220': 0.0, '034730': 0.14285714285714285, '035250': 0.0, '036460': 0.0, '036570': 0.0, '039490': 0.0, '047050': 0.0, '051900': 0.0, '051910': 0.0, '052690': 0.0, '055550': 0.0, '066570': 0.0, '068270': 0.0, '071050': 0.0, '078930': 0.0, '086280': 0.0, '086790': 0.0, '096770': 0.0, '097950': 0.0, '105560': 0.0, '111770': 0.0, '128940': 0.0, '138040': 0.0, '138930': 0.14285714285714285, '139480': 0.0, '161390': 0.0}\n",
      "Portfolio: {'000270': 0.14285714285714285, '000660': 0.0, '000720': 0.0, '000810': 0.0, '000880': 0.0, '000990': 0.14285714285714285, '001450': 0.0, '001570': 0.0, '004020': 0.0, '004370': 0.0, '005380': 0.14285714285714285, '005490': 0.0, '005830': 0.0, '005940': 0.0, '006260': 0.0, '006400': 0.0, '006800': 0.0, '007070': 0.0, '008770': 0.0, '009150': 0.0, '009830': 0.0, '010120': 0.0, '010130': 0.0, '010620': 0.0, '010950': 0.0, '011070': 0.0, '011170': 0.14285714285714285, '011780': 0.0, '012330': 0.0, '012450': 0.0, '015760': 0.14285714285714285, '016360': 0.0, '020150': 0.0, '021240': 0.0, '024110': 0.0, '029780': 0.0, '030200': 0.0, '032640': 0.0, '032830': 0.0, '033780': 0.0, '034020': 0.0, '034220': 0.0, '034730': 0.14285714285714285, '035250': 0.0, '036460': 0.0, '036570': 0.0, '039490': 0.0, '047050': 0.0, '051900': 0.0, '051910': 0.0, '052690': 0.0, '055550': 0.0, '066570': 0.0, '068270': 0.0, '071050': 0.0, '078930': 0.0, '086280': 0.0, '086790': 0.0, '096770': 0.0, '097950': 0.0, '105560': 0.0, '111770': 0.0, '128940': 0.0, '138040': 0.0, '138930': 0.14285714285714285, '139480': 0.0, '161390': 0.0}\n",
      "Portfolio: {'000270': 0.14285714285714285, '000660': 0.0, '000720': 0.0, '000810': 0.0, '000880': 0.0, '000990': 0.14285714285714285, '001450': 0.0, '001570': 0.0, '004020': 0.0, '004370': 0.0, '005380': 0.14285714285714285, '005490': 0.0, '005830': 0.0, '005940': 0.0, '006260': 0.0, '006400': 0.0, '006800': 0.0, '007070': 0.0, '008770': 0.0, '009150': 0.0, '009830': 0.0, '010120': 0.0, '010130': 0.0, '010620': 0.0, '010950': 0.0, '011070': 0.0, '011170': 0.0, '011780': 0.0, '012330': 0.0, '012450': 0.14285714285714285, '015760': 0.14285714285714285, '016360': 0.0, '020150': 0.0, '021240': 0.0, '024110': 0.0, '029780': 0.0, '030200': 0.0, '032640': 0.0, '032830': 0.0, '033780': 0.0, '034020': 0.0, '034220': 0.0, '034730': 0.14285714285714285, '035250': 0.0, '036460': 0.0, '036570': 0.0, '039490': 0.0, '047050': 0.0, '051900': 0.0, '051910': 0.0, '052690': 0.0, '055550': 0.0, '066570': 0.0, '068270': 0.0, '071050': 0.0, '078930': 0.0, '086280': 0.0, '086790': 0.0, '096770': 0.0, '097950': 0.0, '105560': 0.0, '111770': 0.0, '128940': 0.0, '138040': 0.0, '138930': 0.14285714285714285, '139480': 0.0, '161390': 0.0}\n",
      "Portfolio: {'000270': 0.14285714285714285, '000660': 0.0, '000720': 0.0, '000810': 0.0, '000880': 0.0, '000990': 0.14285714285714285, '001450': 0.0, '001570': 0.0, '004020': 0.0, '004370': 0.0, '005380': 0.14285714285714285, '005490': 0.0, '005830': 0.0, '005940': 0.0, '006260': 0.0, '006400': 0.0, '006800': 0.0, '007070': 0.0, '008770': 0.0, '009150': 0.0, '009830': 0.0, '010120': 0.0, '010130': 0.0, '010620': 0.0, '010950': 0.0, '011070': 0.0, '011170': 0.0, '011780': 0.0, '012330': 0.14285714285714285, '012450': 0.14285714285714285, '015760': 0.14285714285714285, '016360': 0.0, '020150': 0.0, '021240': 0.0, '024110': 0.0, '029780': 0.0, '030200': 0.0, '032640': 0.0, '032830': 0.0, '033780': 0.0, '034020': 0.0, '034220': 0.0, '034730': 0.0, '035250': 0.0, '036460': 0.0, '036570': 0.0, '039490': 0.0, '047050': 0.0, '051900': 0.0, '051910': 0.0, '052690': 0.0, '055550': 0.0, '066570': 0.0, '068270': 0.0, '071050': 0.0, '078930': 0.0, '086280': 0.0, '086790': 0.0, '096770': 0.0, '097950': 0.0, '105560': 0.0, '111770': 0.0, '128940': 0.0, '138040': 0.0, '138930': 0.14285714285714285, '139480': 0.0, '161390': 0.0}\n",
      "Portfolio: {'000270': 0.14285714285714285, '000660': 0.0, '000720': 0.0, '000810': 0.0, '000880': 0.0, '000990': 0.14285714285714285, '001450': 0.0, '001570': 0.0, '004020': 0.0, '004370': 0.0, '005380': 0.14285714285714285, '005490': 0.0, '005830': 0.0, '005940': 0.0, '006260': 0.0, '006400': 0.0, '006800': 0.0, '007070': 0.0, '008770': 0.0, '009150': 0.0, '009830': 0.0, '010120': 0.0, '010130': 0.0, '010620': 0.0, '010950': 0.0, '011070': 0.0, '011170': 0.0, '011780': 0.0, '012330': 0.14285714285714285, '012450': 0.14285714285714285, '015760': 0.14285714285714285, '016360': 0.0, '020150': 0.0, '021240': 0.0, '024110': 0.0, '029780': 0.0, '030200': 0.0, '032640': 0.0, '032830': 0.0, '033780': 0.0, '034020': 0.0, '034220': 0.0, '034730': 0.0, '035250': 0.0, '036460': 0.0, '036570': 0.0, '039490': 0.0, '047050': 0.0, '051900': 0.0, '051910': 0.0, '052690': 0.0, '055550': 0.0, '066570': 0.0, '068270': 0.0, '071050': 0.0, '078930': 0.0, '086280': 0.0, '086790': 0.0, '096770': 0.0, '097950': 0.0, '105560': 0.0, '111770': 0.0, '128940': 0.0, '138040': 0.0, '138930': 0.14285714285714285, '139480': 0.0, '161390': 0.0}\n",
      "Portfolio: {'000270': 0.14285714285714285, '000660': 0.0, '000720': 0.0, '000810': 0.0, '000880': 0.14285714285714285, '000990': 0.14285714285714285, '001450': 0.0, '001570': 0.0, '004020': 0.0, '004370': 0.0, '005380': 0.14285714285714285, '005490': 0.0, '005830': 0.0, '005940': 0.0, '006260': 0.0, '006400': 0.0, '006800': 0.0, '007070': 0.0, '008770': 0.0, '009150': 0.0, '009830': 0.0, '010120': 0.0, '010130': 0.0, '010620': 0.0, '010950': 0.0, '011070': 0.0, '011170': 0.0, '011780': 0.0, '012330': 0.0, '012450': 0.14285714285714285, '015760': 0.14285714285714285, '016360': 0.0, '020150': 0.0, '021240': 0.0, '024110': 0.0, '029780': 0.0, '030200': 0.0, '032640': 0.0, '032830': 0.0, '033780': 0.0, '034020': 0.0, '034220': 0.0, '034730': 0.0, '035250': 0.0, '036460': 0.0, '036570': 0.0, '039490': 0.0, '047050': 0.0, '051900': 0.0, '051910': 0.0, '052690': 0.0, '055550': 0.0, '066570': 0.0, '068270': 0.0, '071050': 0.0, '078930': 0.0, '086280': 0.0, '086790': 0.0, '096770': 0.0, '097950': 0.0, '105560': 0.0, '111770': 0.0, '128940': 0.0, '138040': 0.0, '138930': 0.14285714285714285, '139480': 0.0, '161390': 0.0}\n",
      "Portfolio: {'000270': 0.14285714285714285, '000660': 0.0, '000720': 0.0, '000810': 0.0, '000880': 0.14285714285714285, '000990': 0.14285714285714285, '001450': 0.0, '001570': 0.0, '004020': 0.0, '004370': 0.0, '005380': 0.0, '005490': 0.0, '005830': 0.0, '005940': 0.0, '006260': 0.0, '006400': 0.0, '006800': 0.0, '007070': 0.0, '008770': 0.0, '009150': 0.0, '009830': 0.0, '010120': 0.0, '010130': 0.0, '010620': 0.0, '010950': 0.0, '011070': 0.0, '011170': 0.0, '011780': 0.0, '012330': 0.0, '012450': 0.14285714285714285, '015760': 0.14285714285714285, '016360': 0.0, '020150': 0.0, '021240': 0.0, '024110': 0.0, '029780': 0.0, '030200': 0.0, '032640': 0.0, '032830': 0.0, '033780': 0.0, '034020': 0.0, '034220': 0.0, '034730': 0.0, '035250': 0.0, '036460': 0.0, '036570': 0.0, '039490': 0.0, '047050': 0.0, '051900': 0.0, '051910': 0.0, '052690': 0.0, '055550': 0.0, '066570': 0.0, '068270': 0.0, '071050': 0.0, '078930': 0.0, '086280': 0.0, '086790': 0.0, '096770': 0.0, '097950': 0.0, '105560': 0.0, '111770': 0.0, '128940': 0.0, '138040': 0.0, '138930': 0.14285714285714285, '139480': 0.0, '161390': 0.14285714285714285}\n",
      "Portfolio: {'000270': 0.14285714285714285, '000660': 0.0, '000720': 0.0, '000810': 0.0, '000880': 0.14285714285714285, '000990': 0.0, '001450': 0.0, '001570': 0.0, '004020': 0.0, '004370': 0.0, '005380': 0.0, '005490': 0.0, '005830': 0.0, '005940': 0.0, '006260': 0.0, '006400': 0.0, '006800': 0.0, '007070': 0.0, '008770': 0.0, '009150': 0.0, '009830': 0.14285714285714285, '010120': 0.0, '010130': 0.0, '010620': 0.0, '010950': 0.0, '011070': 0.0, '011170': 0.0, '011780': 0.0, '012330': 0.0, '012450': 0.14285714285714285, '015760': 0.14285714285714285, '016360': 0.0, '020150': 0.0, '021240': 0.0, '024110': 0.0, '029780': 0.0, '030200': 0.0, '032640': 0.0, '032830': 0.0, '033780': 0.0, '034020': 0.0, '034220': 0.0, '034730': 0.0, '035250': 0.0, '036460': 0.0, '036570': 0.0, '039490': 0.0, '047050': 0.0, '051900': 0.0, '051910': 0.0, '052690': 0.0, '055550': 0.0, '066570': 0.0, '068270': 0.0, '071050': 0.0, '078930': 0.0, '086280': 0.0, '086790': 0.0, '096770': 0.0, '097950': 0.0, '105560': 0.0, '111770': 0.0, '128940': 0.0, '138040': 0.0, '138930': 0.14285714285714285, '139480': 0.0, '161390': 0.14285714285714285}\n",
      "Portfolio: {'000270': 0.14285714285714285, '000660': 0.0, '000720': 0.0, '000810': 0.0, '000880': 0.14285714285714285, '000990': 0.0, '001450': 0.0, '001570': 0.0, '004020': 0.0, '004370': 0.0, '005380': 0.0, '005490': 0.0, '005830': 0.0, '005940': 0.0, '006260': 0.0, '006400': 0.0, '006800': 0.0, '007070': 0.0, '008770': 0.0, '009150': 0.0, '009830': 0.14285714285714285, '010120': 0.0, '010130': 0.0, '010620': 0.0, '010950': 0.0, '011070': 0.0, '011170': 0.14285714285714285, '011780': 0.0, '012330': 0.0, '012450': 0.14285714285714285, '015760': 0.14285714285714285, '016360': 0.0, '020150': 0.0, '021240': 0.0, '024110': 0.0, '029780': 0.0, '030200': 0.0, '032640': 0.0, '032830': 0.0, '033780': 0.0, '034020': 0.0, '034220': 0.0, '034730': 0.0, '035250': 0.0, '036460': 0.0, '036570': 0.0, '039490': 0.0, '047050': 0.0, '051900': 0.0, '051910': 0.0, '052690': 0.0, '055550': 0.0, '066570': 0.0, '068270': 0.0, '071050': 0.0, '078930': 0.14285714285714285, '086280': 0.0, '086790': 0.0, '096770': 0.0, '097950': 0.0, '105560': 0.0, '111770': 0.0, '128940': 0.0, '138040': 0.0, '138930': 0.0, '139480': 0.0, '161390': 0.0}\n",
      "Portfolio: {'000270': 0.14285714285714285, '000660': 0.0, '000720': 0.0, '000810': 0.0, '000880': 0.14285714285714285, '000990': 0.0, '001450': 0.0, '001570': 0.0, '004020': 0.0, '004370': 0.0, '005380': 0.0, '005490': 0.0, '005830': 0.0, '005940': 0.0, '006260': 0.0, '006400': 0.0, '006800': 0.0, '007070': 0.0, '008770': 0.0, '009150': 0.0, '009830': 0.14285714285714285, '010120': 0.0, '010130': 0.0, '010620': 0.0, '010950': 0.0, '011070': 0.0, '011170': 0.0, '011780': 0.0, '012330': 0.0, '012450': 0.14285714285714285, '015760': 0.14285714285714285, '016360': 0.0, '020150': 0.0, '021240': 0.0, '024110': 0.0, '029780': 0.0, '030200': 0.0, '032640': 0.0, '032830': 0.0, '033780': 0.0, '034020': 0.0, '034220': 0.0, '034730': 0.0, '035250': 0.0, '036460': 0.0, '036570': 0.0, '039490': 0.0, '047050': 0.0, '051900': 0.0, '051910': 0.0, '052690': 0.0, '055550': 0.0, '066570': 0.0, '068270': 0.0, '071050': 0.0, '078930': 0.14285714285714285, '086280': 0.0, '086790': 0.0, '096770': 0.0, '097950': 0.0, '105560': 0.0, '111770': 0.0, '128940': 0.0, '138040': 0.14285714285714285, '138930': 0.0, '139480': 0.0, '161390': 0.0}\n",
      "Portfolio: {'000270': 0.0, '000660': 0.0, '000720': 0.0, '000810': 0.0, '000880': 0.14285714285714285, '000990': 0.0, '001450': 0.0, '001570': 0.0, '004020': 0.0, '004370': 0.0, '005380': 0.0, '005490': 0.0, '005830': 0.0, '005940': 0.0, '006260': 0.0, '006400': 0.0, '006800': 0.0, '007070': 0.0, '008770': 0.0, '009150': 0.0, '009830': 0.14285714285714285, '010120': 0.0, '010130': 0.0, '010620': 0.0, '010950': 0.0, '011070': 0.0, '011170': 0.14285714285714285, '011780': 0.0, '012330': 0.0, '012450': 0.14285714285714285, '015760': 0.14285714285714285, '016360': 0.0, '020150': 0.0, '021240': 0.0, '024110': 0.0, '029780': 0.0, '030200': 0.0, '032640': 0.0, '032830': 0.0, '033780': 0.0, '034020': 0.0, '034220': 0.0, '034730': 0.0, '035250': 0.0, '036460': 0.0, '036570': 0.0, '039490': 0.0, '047050': 0.0, '051900': 0.0, '051910': 0.0, '052690': 0.0, '055550': 0.0, '066570': 0.0, '068270': 0.0, '071050': 0.0, '078930': 0.14285714285714285, '086280': 0.0, '086790': 0.0, '096770': 0.0, '097950': 0.0, '105560': 0.0, '111770': 0.0, '128940': 0.0, '138040': 0.14285714285714285, '138930': 0.0, '139480': 0.0, '161390': 0.0}\n",
      "Portfolio: {'000270': 0.0, '000660': 0.0, '000720': 0.0, '000810': 0.0, '000880': 0.14285714285714285, '000990': 0.0, '001450': 0.0, '001570': 0.0, '004020': 0.0, '004370': 0.0, '005380': 0.0, '005490': 0.0, '005830': 0.0, '005940': 0.0, '006260': 0.0, '006400': 0.0, '006800': 0.0, '007070': 0.0, '008770': 0.0, '009150': 0.0, '009830': 0.14285714285714285, '010120': 0.0, '010130': 0.0, '010620': 0.0, '010950': 0.0, '011070': 0.0, '011170': 0.14285714285714285, '011780': 0.0, '012330': 0.0, '012450': 0.0, '015760': 0.14285714285714285, '016360': 0.0, '020150': 0.0, '021240': 0.0, '024110': 0.0, '029780': 0.0, '030200': 0.0, '032640': 0.0, '032830': 0.0, '033780': 0.0, '034020': 0.0, '034220': 0.14285714285714285, '034730': 0.0, '035250': 0.0, '036460': 0.0, '036570': 0.0, '039490': 0.0, '047050': 0.0, '051900': 0.0, '051910': 0.0, '052690': 0.0, '055550': 0.0, '066570': 0.0, '068270': 0.0, '071050': 0.0, '078930': 0.14285714285714285, '086280': 0.0, '086790': 0.0, '096770': 0.0, '097950': 0.0, '105560': 0.0, '111770': 0.0, '128940': 0.0, '138040': 0.14285714285714285, '138930': 0.0, '139480': 0.0, '161390': 0.0}\n",
      "Portfolio: {'000270': 0.0, '000660': 0.0, '000720': 0.0, '000810': 0.0, '000880': 0.14285714285714285, '000990': 0.14285714285714285, '001450': 0.0, '001570': 0.0, '004020': 0.0, '004370': 0.0, '005380': 0.0, '005490': 0.0, '005830': 0.0, '005940': 0.0, '006260': 0.0, '006400': 0.0, '006800': 0.0, '007070': 0.0, '008770': 0.0, '009150': 0.0, '009830': 0.14285714285714285, '010120': 0.0, '010130': 0.0, '010620': 0.0, '010950': 0.0, '011070': 0.0, '011170': 0.14285714285714285, '011780': 0.0, '012330': 0.0, '012450': 0.0, '015760': 0.14285714285714285, '016360': 0.0, '020150': 0.0, '021240': 0.0, '024110': 0.0, '029780': 0.0, '030200': 0.0, '032640': 0.0, '032830': 0.0, '033780': 0.0, '034020': 0.0, '034220': 0.14285714285714285, '034730': 0.0, '035250': 0.0, '036460': 0.0, '036570': 0.0, '039490': 0.0, '047050': 0.0, '051900': 0.0, '051910': 0.0, '052690': 0.0, '055550': 0.0, '066570': 0.0, '068270': 0.0, '071050': 0.0, '078930': 0.0, '086280': 0.0, '086790': 0.0, '096770': 0.0, '097950': 0.0, '105560': 0.0, '111770': 0.0, '128940': 0.0, '138040': 0.14285714285714285, '138930': 0.0, '139480': 0.0, '161390': 0.0}\n",
      "Portfolio: {'000270': 0.0, '000660': 0.0, '000720': 0.0, '000810': 0.0, '000880': 0.14285714285714285, '000990': 0.14285714285714285, '001450': 0.0, '001570': 0.0, '004020': 0.0, '004370': 0.0, '005380': 0.0, '005490': 0.0, '005830': 0.0, '005940': 0.0, '006260': 0.0, '006400': 0.0, '006800': 0.0, '007070': 0.0, '008770': 0.0, '009150': 0.0, '009830': 0.14285714285714285, '010120': 0.0, '010130': 0.0, '010620': 0.0, '010950': 0.0, '011070': 0.0, '011170': 0.14285714285714285, '011780': 0.0, '012330': 0.0, '012450': 0.0, '015760': 0.14285714285714285, '016360': 0.0, '020150': 0.0, '021240': 0.0, '024110': 0.0, '029780': 0.0, '030200': 0.0, '032640': 0.0, '032830': 0.0, '033780': 0.0, '034020': 0.0, '034220': 0.14285714285714285, '034730': 0.0, '035250': 0.0, '036460': 0.0, '036570': 0.0, '039490': 0.0, '047050': 0.0, '051900': 0.0, '051910': 0.0, '052690': 0.0, '055550': 0.0, '066570': 0.0, '068270': 0.0, '071050': 0.0, '078930': 0.0, '086280': 0.0, '086790': 0.0, '096770': 0.0, '097950': 0.0, '105560': 0.0, '111770': 0.0, '128940': 0.0, '138040': 0.14285714285714285, '138930': 0.0, '139480': 0.0, '161390': 0.0}\n",
      "Portfolio: {'000270': 0.0, '000660': 0.0, '000720': 0.0, '000810': 0.0, '000880': 0.14285714285714285, '000990': 0.14285714285714285, '001450': 0.0, '001570': 0.0, '004020': 0.0, '004370': 0.0, '005380': 0.0, '005490': 0.0, '005830': 0.0, '005940': 0.0, '006260': 0.0, '006400': 0.0, '006800': 0.0, '007070': 0.0, '008770': 0.0, '009150': 0.0, '009830': 0.14285714285714285, '010120': 0.0, '010130': 0.0, '010620': 0.0, '010950': 0.0, '011070': 0.0, '011170': 0.14285714285714285, '011780': 0.0, '012330': 0.0, '012450': 0.0, '015760': 0.0, '016360': 0.0, '020150': 0.0, '021240': 0.0, '024110': 0.0, '029780': 0.0, '030200': 0.0, '032640': 0.0, '032830': 0.0, '033780': 0.0, '034020': 0.0, '034220': 0.14285714285714285, '034730': 0.0, '035250': 0.0, '036460': 0.0, '036570': 0.0, '039490': 0.0, '047050': 0.0, '051900': 0.0, '051910': 0.0, '052690': 0.0, '055550': 0.0, '066570': 0.0, '068270': 0.0, '071050': 0.0, '078930': 0.14285714285714285, '086280': 0.0, '086790': 0.0, '096770': 0.0, '097950': 0.0, '105560': 0.0, '111770': 0.0, '128940': 0.0, '138040': 0.14285714285714285, '138930': 0.0, '139480': 0.0, '161390': 0.0}\n",
      "Portfolio: {'000270': 0.0, '000660': 0.0, '000720': 0.0, '000810': 0.0, '000880': 0.0, '000990': 0.14285714285714285, '001450': 0.0, '001570': 0.0, '004020': 0.0, '004370': 0.0, '005380': 0.0, '005490': 0.0, '005830': 0.0, '005940': 0.0, '006260': 0.0, '006400': 0.0, '006800': 0.0, '007070': 0.0, '008770': 0.0, '009150': 0.0, '009830': 0.14285714285714285, '010120': 0.0, '010130': 0.0, '010620': 0.0, '010950': 0.0, '011070': 0.0, '011170': 0.14285714285714285, '011780': 0.0, '012330': 0.0, '012450': 0.0, '015760': 0.0, '016360': 0.0, '020150': 0.0, '021240': 0.0, '024110': 0.0, '029780': 0.0, '030200': 0.0, '032640': 0.0, '032830': 0.0, '033780': 0.0, '034020': 0.0, '034220': 0.14285714285714285, '034730': 0.0, '035250': 0.0, '036460': 0.0, '036570': 0.0, '039490': 0.0, '047050': 0.0, '051900': 0.0, '051910': 0.0, '052690': 0.0, '055550': 0.0, '066570': 0.0, '068270': 0.0, '071050': 0.0, '078930': 0.14285714285714285, '086280': 0.0, '086790': 0.0, '096770': 0.0, '097950': 0.0, '105560': 0.0, '111770': 0.0, '128940': 0.0, '138040': 0.14285714285714285, '138930': 0.14285714285714285, '139480': 0.0, '161390': 0.0}\n",
      "Portfolio: {'000270': 0.0, '000660': 0.14285714285714285, '000720': 0.0, '000810': 0.0, '000880': 0.0, '000990': 0.14285714285714285, '001450': 0.0, '001570': 0.14285714285714285, '004020': 0.0, '004370': 0.0, '005380': 0.0, '005490': 0.0, '005830': 0.0, '005940': 0.0, '006260': 0.0, '006400': 0.0, '006800': 0.0, '007070': 0.0, '008770': 0.0, '009150': 0.0, '009830': 0.0, '010120': 0.0, '010130': 0.0, '010620': 0.0, '010950': 0.0, '011070': 0.0, '011170': 0.14285714285714285, '011780': 0.0, '012330': 0.0, '012450': 0.0, '015760': 0.0, '016360': 0.0, '020150': 0.0, '021240': 0.0, '024110': 0.0, '029780': 0.0, '030200': 0.0, '032640': 0.0, '032830': 0.0, '033780': 0.0, '034020': 0.0, '034220': 0.14285714285714285, '034730': 0.0, '035250': 0.0, '036460': 0.0, '036570': 0.0, '039490': 0.0, '047050': 0.0, '051900': 0.0, '051910': 0.0, '052690': 0.0, '055550': 0.0, '066570': 0.0, '068270': 0.0, '071050': 0.0, '078930': 0.14285714285714285, '086280': 0.0, '086790': 0.0, '096770': 0.0, '097950': 0.0, '105560': 0.0, '111770': 0.0, '128940': 0.0, '138040': 0.14285714285714285, '138930': 0.0, '139480': 0.0, '161390': 0.0}\n",
      "Portfolio: {'000270': 0.0, '000660': 0.0, '000720': 0.0, '000810': 0.0, '000880': 0.0, '000990': 0.14285714285714285, '001450': 0.0, '001570': 0.14285714285714285, '004020': 0.0, '004370': 0.0, '005380': 0.0, '005490': 0.0, '005830': 0.0, '005940': 0.0, '006260': 0.14285714285714285, '006400': 0.0, '006800': 0.0, '007070': 0.0, '008770': 0.0, '009150': 0.0, '009830': 0.14285714285714285, '010120': 0.0, '010130': 0.0, '010620': 0.0, '010950': 0.0, '011070': 0.0, '011170': 0.14285714285714285, '011780': 0.0, '012330': 0.0, '012450': 0.0, '015760': 0.0, '016360': 0.0, '020150': 0.0, '021240': 0.0, '024110': 0.0, '029780': 0.0, '030200': 0.0, '032640': 0.0, '032830': 0.0, '033780': 0.0, '034020': 0.0, '034220': 0.14285714285714285, '034730': 0.0, '035250': 0.0, '036460': 0.0, '036570': 0.0, '039490': 0.0, '047050': 0.0, '051900': 0.0, '051910': 0.0, '052690': 0.0, '055550': 0.0, '066570': 0.0, '068270': 0.0, '071050': 0.0, '078930': 0.14285714285714285, '086280': 0.0, '086790': 0.0, '096770': 0.0, '097950': 0.0, '105560': 0.0, '111770': 0.0, '128940': 0.0, '138040': 0.0, '138930': 0.0, '139480': 0.0, '161390': 0.0}\n",
      "Portfolio: {'000270': 0.0, '000660': 0.0, '000720': 0.0, '000810': 0.0, '000880': 0.0, '000990': 0.0, '001450': 0.0, '001570': 0.0, '004020': 0.0, '004370': 0.0, '005380': 0.0, '005490': 0.0, '005830': 0.0, '005940': 0.0, '006260': 0.14285714285714285, '006400': 0.0, '006800': 0.0, '007070': 0.0, '008770': 0.0, '009150': 0.0, '009830': 0.14285714285714285, '010120': 0.0, '010130': 0.0, '010620': 0.14285714285714285, '010950': 0.0, '011070': 0.0, '011170': 0.14285714285714285, '011780': 0.0, '012330': 0.0, '012450': 0.0, '015760': 0.0, '016360': 0.0, '020150': 0.0, '021240': 0.0, '024110': 0.0, '029780': 0.0, '030200': 0.0, '032640': 0.0, '032830': 0.0, '033780': 0.0, '034020': 0.0, '034220': 0.14285714285714285, '034730': 0.0, '035250': 0.0, '036460': 0.0, '036570': 0.0, '039490': 0.0, '047050': 0.0, '051900': 0.0, '051910': 0.0, '052690': 0.0, '055550': 0.0, '066570': 0.0, '068270': 0.0, '071050': 0.0, '078930': 0.14285714285714285, '086280': 0.0, '086790': 0.0, '096770': 0.0, '097950': 0.0, '105560': 0.0, '111770': 0.0, '128940': 0.0, '138040': 0.14285714285714285, '138930': 0.0, '139480': 0.0, '161390': 0.0}\n",
      "Portfolio: {'000270': 0.0, '000660': 0.14285714285714285, '000720': 0.0, '000810': 0.0, '000880': 0.14285714285714285, '000990': 0.0, '001450': 0.0, '001570': 0.14285714285714285, '004020': 0.0, '004370': 0.0, '005380': 0.0, '005490': 0.0, '005830': 0.0, '005940': 0.0, '006260': 0.14285714285714285, '006400': 0.0, '006800': 0.0, '007070': 0.0, '008770': 0.0, '009150': 0.0, '009830': 0.0, '010120': 0.0, '010130': 0.0, '010620': 0.14285714285714285, '010950': 0.0, '011070': 0.0, '011170': 0.14285714285714285, '011780': 0.0, '012330': 0.0, '012450': 0.0, '015760': 0.0, '016360': 0.0, '020150': 0.0, '021240': 0.0, '024110': 0.0, '029780': 0.0, '030200': 0.0, '032640': 0.0, '032830': 0.0, '033780': 0.0, '034020': 0.0, '034220': 0.14285714285714285, '034730': 0.0, '035250': 0.0, '036460': 0.0, '036570': 0.0, '039490': 0.0, '047050': 0.0, '051900': 0.0, '051910': 0.0, '052690': 0.0, '055550': 0.0, '066570': 0.0, '068270': 0.0, '071050': 0.0, '078930': 0.0, '086280': 0.0, '086790': 0.0, '096770': 0.0, '097950': 0.0, '105560': 0.0, '111770': 0.0, '128940': 0.0, '138040': 0.0, '138930': 0.0, '139480': 0.0, '161390': 0.0}\n",
      "Portfolio: {'000270': 0.0, '000660': 0.14285714285714285, '000720': 0.0, '000810': 0.0, '000880': 0.14285714285714285, '000990': 0.0, '001450': 0.0, '001570': 0.14285714285714285, '004020': 0.0, '004370': 0.0, '005380': 0.0, '005490': 0.0, '005830': 0.0, '005940': 0.0, '006260': 0.14285714285714285, '006400': 0.0, '006800': 0.0, '007070': 0.0, '008770': 0.0, '009150': 0.0, '009830': 0.0, '010120': 0.0, '010130': 0.0, '010620': 0.0, '010950': 0.0, '011070': 0.0, '011170': 0.14285714285714285, '011780': 0.0, '012330': 0.0, '012450': 0.0, '015760': 0.0, '016360': 0.0, '020150': 0.0, '021240': 0.0, '024110': 0.0, '029780': 0.0, '030200': 0.0, '032640': 0.0, '032830': 0.0, '033780': 0.0, '034020': 0.0, '034220': 0.14285714285714285, '034730': 0.0, '035250': 0.0, '036460': 0.0, '036570': 0.0, '039490': 0.0, '047050': 0.0, '051900': 0.0, '051910': 0.0, '052690': 0.0, '055550': 0.0, '066570': 0.0, '068270': 0.0, '071050': 0.0, '078930': 0.14285714285714285, '086280': 0.0, '086790': 0.0, '096770': 0.0, '097950': 0.0, '105560': 0.0, '111770': 0.0, '128940': 0.0, '138040': 0.0, '138930': 0.0, '139480': 0.0, '161390': 0.0}\n",
      "Portfolio: {'000270': 0.0, '000660': 0.14285714285714285, '000720': 0.0, '000810': 0.0, '000880': 0.14285714285714285, '000990': 0.0, '001450': 0.0, '001570': 0.14285714285714285, '004020': 0.0, '004370': 0.0, '005380': 0.0, '005490': 0.0, '005830': 0.0, '005940': 0.0, '006260': 0.14285714285714285, '006400': 0.0, '006800': 0.0, '007070': 0.0, '008770': 0.0, '009150': 0.0, '009830': 0.0, '010120': 0.0, '010130': 0.0, '010620': 0.14285714285714285, '010950': 0.0, '011070': 0.0, '011170': 0.14285714285714285, '011780': 0.0, '012330': 0.0, '012450': 0.0, '015760': 0.0, '016360': 0.0, '020150': 0.0, '021240': 0.0, '024110': 0.0, '029780': 0.0, '030200': 0.0, '032640': 0.0, '032830': 0.0, '033780': 0.0, '034020': 0.0, '034220': 0.14285714285714285, '034730': 0.0, '035250': 0.0, '036460': 0.0, '036570': 0.0, '039490': 0.0, '047050': 0.0, '051900': 0.0, '051910': 0.0, '052690': 0.0, '055550': 0.0, '066570': 0.0, '068270': 0.0, '071050': 0.0, '078930': 0.0, '086280': 0.0, '086790': 0.0, '096770': 0.0, '097950': 0.0, '105560': 0.0, '111770': 0.0, '128940': 0.0, '138040': 0.0, '138930': 0.0, '139480': 0.0, '161390': 0.0}\n",
      "Portfolio: {'000270': 0.0, '000660': 0.14285714285714285, '000720': 0.0, '000810': 0.0, '000880': 0.14285714285714285, '000990': 0.0, '001450': 0.14285714285714285, '001570': 0.0, '004020': 0.0, '004370': 0.0, '005380': 0.0, '005490': 0.0, '005830': 0.0, '005940': 0.0, '006260': 0.14285714285714285, '006400': 0.0, '006800': 0.0, '007070': 0.0, '008770': 0.0, '009150': 0.0, '009830': 0.0, '010120': 0.0, '010130': 0.0, '010620': 0.0, '010950': 0.0, '011070': 0.0, '011170': 0.14285714285714285, '011780': 0.0, '012330': 0.0, '012450': 0.0, '015760': 0.0, '016360': 0.0, '020150': 0.0, '021240': 0.0, '024110': 0.0, '029780': 0.0, '030200': 0.0, '032640': 0.0, '032830': 0.0, '033780': 0.0, '034020': 0.0, '034220': 0.14285714285714285, '034730': 0.0, '035250': 0.0, '036460': 0.0, '036570': 0.0, '039490': 0.0, '047050': 0.0, '051900': 0.0, '051910': 0.0, '052690': 0.0, '055550': 0.0, '066570': 0.0, '068270': 0.0, '071050': 0.0, '078930': 0.0, '086280': 0.0, '086790': 0.14285714285714285, '096770': 0.0, '097950': 0.0, '105560': 0.0, '111770': 0.0, '128940': 0.0, '138040': 0.0, '138930': 0.0, '139480': 0.0, '161390': 0.0}\n",
      "Portfolio: {'000270': 0.0, '000660': 0.14285714285714285, '000720': 0.0, '000810': 0.0, '000880': 0.14285714285714285, '000990': 0.0, '001450': 0.14285714285714285, '001570': 0.14285714285714285, '004020': 0.0, '004370': 0.0, '005380': 0.0, '005490': 0.0, '005830': 0.0, '005940': 0.0, '006260': 0.14285714285714285, '006400': 0.0, '006800': 0.0, '007070': 0.0, '008770': 0.0, '009150': 0.0, '009830': 0.0, '010120': 0.0, '010130': 0.0, '010620': 0.0, '010950': 0.0, '011070': 0.0, '011170': 0.14285714285714285, '011780': 0.0, '012330': 0.0, '012450': 0.0, '015760': 0.0, '016360': 0.0, '020150': 0.0, '021240': 0.0, '024110': 0.0, '029780': 0.0, '030200': 0.0, '032640': 0.0, '032830': 0.0, '033780': 0.0, '034020': 0.0, '034220': 0.14285714285714285, '034730': 0.0, '035250': 0.0, '036460': 0.0, '036570': 0.0, '039490': 0.0, '047050': 0.0, '051900': 0.0, '051910': 0.0, '052690': 0.0, '055550': 0.0, '066570': 0.0, '068270': 0.0, '071050': 0.0, '078930': 0.0, '086280': 0.0, '086790': 0.0, '096770': 0.0, '097950': 0.0, '105560': 0.0, '111770': 0.0, '128940': 0.0, '138040': 0.0, '138930': 0.0, '139480': 0.0, '161390': 0.0}\n",
      "Portfolio: {'000270': 0.0, '000660': 0.14285714285714285, '000720': 0.0, '000810': 0.0, '000880': 0.14285714285714285, '000990': 0.0, '001450': 0.14285714285714285, '001570': 0.14285714285714285, '004020': 0.0, '004370': 0.0, '005380': 0.0, '005490': 0.0, '005830': 0.0, '005940': 0.0, '006260': 0.14285714285714285, '006400': 0.0, '006800': 0.0, '007070': 0.0, '008770': 0.0, '009150': 0.0, '009830': 0.0, '010120': 0.0, '010130': 0.0, '010620': 0.0, '010950': 0.0, '011070': 0.0, '011170': 0.14285714285714285, '011780': 0.0, '012330': 0.0, '012450': 0.0, '015760': 0.0, '016360': 0.0, '020150': 0.0, '021240': 0.0, '024110': 0.0, '029780': 0.0, '030200': 0.0, '032640': 0.0, '032830': 0.0, '033780': 0.0, '034020': 0.0, '034220': 0.0, '034730': 0.0, '035250': 0.0, '036460': 0.0, '036570': 0.0, '039490': 0.0, '047050': 0.0, '051900': 0.0, '051910': 0.0, '052690': 0.0, '055550': 0.0, '066570': 0.0, '068270': 0.0, '071050': 0.0, '078930': 0.0, '086280': 0.0, '086790': 0.14285714285714285, '096770': 0.0, '097950': 0.0, '105560': 0.0, '111770': 0.0, '128940': 0.0, '138040': 0.0, '138930': 0.0, '139480': 0.0, '161390': 0.0}\n",
      "Portfolio: {'000270': 0.0, '000660': 0.14285714285714285, '000720': 0.0, '000810': 0.0, '000880': 0.14285714285714285, '000990': 0.0, '001450': 0.0, '001570': 0.14285714285714285, '004020': 0.0, '004370': 0.0, '005380': 0.0, '005490': 0.0, '005830': 0.0, '005940': 0.0, '006260': 0.14285714285714285, '006400': 0.0, '006800': 0.0, '007070': 0.0, '008770': 0.0, '009150': 0.0, '009830': 0.0, '010120': 0.0, '010130': 0.0, '010620': 0.0, '010950': 0.0, '011070': 0.0, '011170': 0.14285714285714285, '011780': 0.0, '012330': 0.0, '012450': 0.0, '015760': 0.0, '016360': 0.0, '020150': 0.0, '021240': 0.0, '024110': 0.0, '029780': 0.0, '030200': 0.0, '032640': 0.0, '032830': 0.0, '033780': 0.0, '034020': 0.0, '034220': 0.0, '034730': 0.0, '035250': 0.0, '036460': 0.0, '036570': 0.0, '039490': 0.0, '047050': 0.0, '051900': 0.0, '051910': 0.0, '052690': 0.0, '055550': 0.0, '066570': 0.0, '068270': 0.0, '071050': 0.0, '078930': 0.14285714285714285, '086280': 0.0, '086790': 0.14285714285714285, '096770': 0.0, '097950': 0.0, '105560': 0.0, '111770': 0.0, '128940': 0.0, '138040': 0.0, '138930': 0.0, '139480': 0.0, '161390': 0.0}\n",
      "Portfolio: {'000270': 0.0, '000660': 0.14285714285714285, '000720': 0.0, '000810': 0.0, '000880': 0.14285714285714285, '000990': 0.0, '001450': 0.0, '001570': 0.14285714285714285, '004020': 0.0, '004370': 0.0, '005380': 0.0, '005490': 0.0, '005830': 0.0, '005940': 0.0, '006260': 0.14285714285714285, '006400': 0.0, '006800': 0.0, '007070': 0.0, '008770': 0.0, '009150': 0.0, '009830': 0.0, '010120': 0.0, '010130': 0.0, '010620': 0.0, '010950': 0.0, '011070': 0.0, '011170': 0.14285714285714285, '011780': 0.0, '012330': 0.0, '012450': 0.0, '015760': 0.0, '016360': 0.0, '020150': 0.0, '021240': 0.0, '024110': 0.0, '029780': 0.0, '030200': 0.0, '032640': 0.0, '032830': 0.0, '033780': 0.0, '034020': 0.0, '034220': 0.0, '034730': 0.0, '035250': 0.0, '036460': 0.0, '036570': 0.0, '039490': 0.0, '047050': 0.0, '051900': 0.0, '051910': 0.0, '052690': 0.0, '055550': 0.0, '066570': 0.0, '068270': 0.0, '071050': 0.0, '078930': 0.0, '086280': 0.0, '086790': 0.14285714285714285, '096770': 0.0, '097950': 0.0, '105560': 0.0, '111770': 0.0, '128940': 0.0, '138040': 0.14285714285714285, '138930': 0.0, '139480': 0.0, '161390': 0.0}\n",
      "Portfolio: {'000270': 0.0, '000660': 0.14285714285714285, '000720': 0.0, '000810': 0.0, '000880': 0.14285714285714285, '000990': 0.0, '001450': 0.14285714285714285, '001570': 0.0, '004020': 0.0, '004370': 0.0, '005380': 0.0, '005490': 0.0, '005830': 0.0, '005940': 0.0, '006260': 0.14285714285714285, '006400': 0.0, '006800': 0.0, '007070': 0.0, '008770': 0.0, '009150': 0.0, '009830': 0.0, '010120': 0.0, '010130': 0.0, '010620': 0.0, '010950': 0.0, '011070': 0.0, '011170': 0.14285714285714285, '011780': 0.14285714285714285, '012330': 0.0, '012450': 0.0, '015760': 0.0, '016360': 0.0, '020150': 0.0, '021240': 0.0, '024110': 0.0, '029780': 0.0, '030200': 0.0, '032640': 0.0, '032830': 0.0, '033780': 0.0, '034020': 0.0, '034220': 0.0, '034730': 0.0, '035250': 0.0, '036460': 0.0, '036570': 0.0, '039490': 0.0, '047050': 0.0, '051900': 0.0, '051910': 0.0, '052690': 0.0, '055550': 0.0, '066570': 0.0, '068270': 0.0, '071050': 0.0, '078930': 0.0, '086280': 0.0, '086790': 0.0, '096770': 0.0, '097950': 0.0, '105560': 0.0, '111770': 0.0, '128940': 0.0, '138040': 0.14285714285714285, '138930': 0.0, '139480': 0.0, '161390': 0.0}\n",
      "Portfolio: {'000270': 0.0, '000660': 0.14285714285714285, '000720': 0.0, '000810': 0.0, '000880': 0.14285714285714285, '000990': 0.0, '001450': 0.0, '001570': 0.0, '004020': 0.0, '004370': 0.0, '005380': 0.0, '005490': 0.0, '005830': 0.0, '005940': 0.0, '006260': 0.14285714285714285, '006400': 0.0, '006800': 0.0, '007070': 0.0, '008770': 0.0, '009150': 0.0, '009830': 0.0, '010120': 0.0, '010130': 0.0, '010620': 0.0, '010950': 0.0, '011070': 0.0, '011170': 0.14285714285714285, '011780': 0.14285714285714285, '012330': 0.0, '012450': 0.0, '015760': 0.0, '016360': 0.0, '020150': 0.0, '021240': 0.0, '024110': 0.0, '029780': 0.0, '030200': 0.0, '032640': 0.0, '032830': 0.0, '033780': 0.0, '034020': 0.0, '034220': 0.0, '034730': 0.0, '035250': 0.0, '036460': 0.0, '036570': 0.0, '039490': 0.0, '047050': 0.0, '051900': 0.0, '051910': 0.0, '052690': 0.0, '055550': 0.0, '066570': 0.0, '068270': 0.0, '071050': 0.0, '078930': 0.14285714285714285, '086280': 0.0, '086790': 0.0, '096770': 0.0, '097950': 0.0, '105560': 0.0, '111770': 0.0, '128940': 0.0, '138040': 0.0, '138930': 0.14285714285714285, '139480': 0.0, '161390': 0.0}\n",
      "Portfolio: {'000270': 0.0, '000660': 0.14285714285714285, '000720': 0.0, '000810': 0.0, '000880': 0.14285714285714285, '000990': 0.0, '001450': 0.0, '001570': 0.0, '004020': 0.0, '004370': 0.0, '005380': 0.0, '005490': 0.0, '005830': 0.0, '005940': 0.0, '006260': 0.14285714285714285, '006400': 0.0, '006800': 0.0, '007070': 0.0, '008770': 0.0, '009150': 0.0, '009830': 0.0, '010120': 0.0, '010130': 0.0, '010620': 0.0, '010950': 0.0, '011070': 0.0, '011170': 0.0, '011780': 0.14285714285714285, '012330': 0.0, '012450': 0.0, '015760': 0.0, '016360': 0.0, '020150': 0.0, '021240': 0.0, '024110': 0.0, '029780': 0.0, '030200': 0.0, '032640': 0.0, '032830': 0.0, '033780': 0.0, '034020': 0.0, '034220': 0.0, '034730': 0.0, '035250': 0.0, '036460': 0.0, '036570': 0.0, '039490': 0.0, '047050': 0.0, '051900': 0.0, '051910': 0.0, '052690': 0.0, '055550': 0.0, '066570': 0.0, '068270': 0.0, '071050': 0.0, '078930': 0.14285714285714285, '086280': 0.0, '086790': 0.14285714285714285, '096770': 0.0, '097950': 0.0, '105560': 0.0, '111770': 0.0, '128940': 0.0, '138040': 0.0, '138930': 0.14285714285714285, '139480': 0.0, '161390': 0.0}\n",
      "Portfolio: {'000270': 0.0, '000660': 0.14285714285714285, '000720': 0.0, '000810': 0.0, '000880': 0.14285714285714285, '000990': 0.0, '001450': 0.0, '001570': 0.0, '004020': 0.0, '004370': 0.0, '005380': 0.0, '005490': 0.0, '005830': 0.0, '005940': 0.0, '006260': 0.14285714285714285, '006400': 0.0, '006800': 0.0, '007070': 0.0, '008770': 0.0, '009150': 0.0, '009830': 0.0, '010120': 0.0, '010130': 0.0, '010620': 0.0, '010950': 0.0, '011070': 0.0, '011170': 0.0, '011780': 0.0, '012330': 0.0, '012450': 0.0, '015760': 0.0, '016360': 0.0, '020150': 0.0, '021240': 0.0, '024110': 0.14285714285714285, '029780': 0.0, '030200': 0.0, '032640': 0.0, '032830': 0.0, '033780': 0.0, '034020': 0.0, '034220': 0.0, '034730': 0.0, '035250': 0.0, '036460': 0.0, '036570': 0.0, '039490': 0.0, '047050': 0.0, '051900': 0.0, '051910': 0.0, '052690': 0.0, '055550': 0.0, '066570': 0.0, '068270': 0.0, '071050': 0.0, '078930': 0.14285714285714285, '086280': 0.0, '086790': 0.14285714285714285, '096770': 0.0, '097950': 0.0, '105560': 0.0, '111770': 0.0, '128940': 0.0, '138040': 0.0, '138930': 0.14285714285714285, '139480': 0.0, '161390': 0.0}\n",
      "Portfolio: {'000270': 0.0, '000660': 0.14285714285714285, '000720': 0.0, '000810': 0.0, '000880': 0.14285714285714285, '000990': 0.0, '001450': 0.0, '001570': 0.0, '004020': 0.0, '004370': 0.0, '005380': 0.0, '005490': 0.0, '005830': 0.0, '005940': 0.0, '006260': 0.14285714285714285, '006400': 0.0, '006800': 0.0, '007070': 0.0, '008770': 0.0, '009150': 0.0, '009830': 0.0, '010120': 0.0, '010130': 0.0, '010620': 0.0, '010950': 0.0, '011070': 0.0, '011170': 0.0, '011780': 0.14285714285714285, '012330': 0.0, '012450': 0.0, '015760': 0.0, '016360': 0.0, '020150': 0.0, '021240': 0.0, '024110': 0.0, '029780': 0.0, '030200': 0.0, '032640': 0.0, '032830': 0.0, '033780': 0.0, '034020': 0.0, '034220': 0.0, '034730': 0.0, '035250': 0.0, '036460': 0.0, '036570': 0.0, '039490': 0.0, '047050': 0.0, '051900': 0.0, '051910': 0.0, '052690': 0.0, '055550': 0.0, '066570': 0.0, '068270': 0.0, '071050': 0.0, '078930': 0.14285714285714285, '086280': 0.0, '086790': 0.14285714285714285, '096770': 0.0, '097950': 0.0, '105560': 0.0, '111770': 0.0, '128940': 0.0, '138040': 0.0, '138930': 0.14285714285714285, '139480': 0.0, '161390': 0.0}\n",
      "Portfolio: {'000270': 0.0, '000660': 0.0, '000720': 0.0, '000810': 0.0, '000880': 0.14285714285714285, '000990': 0.0, '001450': 0.0, '001570': 0.0, '004020': 0.0, '004370': 0.0, '005380': 0.0, '005490': 0.0, '005830': 0.0, '005940': 0.0, '006260': 0.14285714285714285, '006400': 0.0, '006800': 0.0, '007070': 0.0, '008770': 0.0, '009150': 0.0, '009830': 0.0, '010120': 0.0, '010130': 0.0, '010620': 0.0, '010950': 0.0, '011070': 0.0, '011170': 0.14285714285714285, '011780': 0.0, '012330': 0.0, '012450': 0.0, '015760': 0.0, '016360': 0.0, '020150': 0.0, '021240': 0.0, '024110': 0.0, '029780': 0.0, '030200': 0.0, '032640': 0.0, '032830': 0.0, '033780': 0.0, '034020': 0.0, '034220': 0.0, '034730': 0.0, '035250': 0.0, '036460': 0.0, '036570': 0.0, '039490': 0.0, '047050': 0.0, '051900': 0.0, '051910': 0.0, '052690': 0.0, '055550': 0.0, '066570': 0.0, '068270': 0.0, '071050': 0.0, '078930': 0.14285714285714285, '086280': 0.0, '086790': 0.14285714285714285, '096770': 0.0, '097950': 0.0, '105560': 0.0, '111770': 0.0, '128940': 0.0, '138040': 0.14285714285714285, '138930': 0.14285714285714285, '139480': 0.0, '161390': 0.0}\n",
      "Portfolio: {'000270': 0.0, '000660': 0.0, '000720': 0.0, '000810': 0.0, '000880': 0.0, '000990': 0.0, '001450': 0.0, '001570': 0.0, '004020': 0.0, '004370': 0.0, '005380': 0.0, '005490': 0.0, '005830': 0.0, '005940': 0.0, '006260': 0.14285714285714285, '006400': 0.0, '006800': 0.0, '007070': 0.0, '008770': 0.0, '009150': 0.0, '009830': 0.0, '010120': 0.0, '010130': 0.0, '010620': 0.0, '010950': 0.0, '011070': 0.0, '011170': 0.14285714285714285, '011780': 0.0, '012330': 0.0, '012450': 0.0, '015760': 0.0, '016360': 0.0, '020150': 0.0, '021240': 0.0, '024110': 0.14285714285714285, '029780': 0.0, '030200': 0.0, '032640': 0.0, '032830': 0.0, '033780': 0.0, '034020': 0.0, '034220': 0.0, '034730': 0.0, '035250': 0.0, '036460': 0.0, '036570': 0.0, '039490': 0.0, '047050': 0.0, '051900': 0.0, '051910': 0.0, '052690': 0.0, '055550': 0.0, '066570': 0.0, '068270': 0.0, '071050': 0.0, '078930': 0.14285714285714285, '086280': 0.0, '086790': 0.14285714285714285, '096770': 0.0, '097950': 0.0, '105560': 0.0, '111770': 0.0, '128940': 0.0, '138040': 0.14285714285714285, '138930': 0.14285714285714285, '139480': 0.0, '161390': 0.0}\n",
      "Portfolio: {'000270': 0.0, '000660': 0.0, '000720': 0.0, '000810': 0.0, '000880': 0.0, '000990': 0.0, '001450': 0.0, '001570': 0.0, '004020': 0.0, '004370': 0.0, '005380': 0.0, '005490': 0.0, '005830': 0.0, '005940': 0.0, '006260': 0.14285714285714285, '006400': 0.0, '006800': 0.0, '007070': 0.0, '008770': 0.0, '009150': 0.0, '009830': 0.0, '010120': 0.0, '010130': 0.0, '010620': 0.0, '010950': 0.0, '011070': 0.0, '011170': 0.0, '011780': 0.0, '012330': 0.0, '012450': 0.0, '015760': 0.0, '016360': 0.0, '020150': 0.0, '021240': 0.0, '024110': 0.14285714285714285, '029780': 0.0, '030200': 0.0, '032640': 0.0, '032830': 0.0, '033780': 0.0, '034020': 0.0, '034220': 0.0, '034730': 0.0, '035250': 0.0, '036460': 0.0, '036570': 0.0, '039490': 0.0, '047050': 0.0, '051900': 0.0, '051910': 0.0, '052690': 0.0, '055550': 0.0, '066570': 0.0, '068270': 0.0, '071050': 0.0, '078930': 0.14285714285714285, '086280': 0.0, '086790': 0.14285714285714285, '096770': 0.0, '097950': 0.0, '105560': 0.14285714285714285, '111770': 0.0, '128940': 0.0, '138040': 0.14285714285714285, '138930': 0.14285714285714285, '139480': 0.0, '161390': 0.0}\n",
      "Portfolio: {'000270': 0.0, '000660': 0.0, '000720': 0.0, '000810': 0.0, '000880': 0.0, '000990': 0.0, '001450': 0.0, '001570': 0.0, '004020': 0.0, '004370': 0.0, '005380': 0.0, '005490': 0.0, '005830': 0.0, '005940': 0.0, '006260': 0.0, '006400': 0.0, '006800': 0.0, '007070': 0.0, '008770': 0.0, '009150': 0.0, '009830': 0.0, '010120': 0.0, '010130': 0.0, '010620': 0.0, '010950': 0.0, '011070': 0.0, '011170': 0.0, '011780': 0.0, '012330': 0.0, '012450': 0.0, '015760': 0.0, '016360': 0.0, '020150': 0.0, '021240': 0.0, '024110': 0.14285714285714285, '029780': 0.0, '030200': 0.0, '032640': 0.0, '032830': 0.0, '033780': 0.0, '034020': 0.0, '034220': 0.0, '034730': 0.0, '035250': 0.0, '036460': 0.0, '036570': 0.0, '039490': 0.0, '047050': 0.0, '051900': 0.0, '051910': 0.0, '052690': 0.0, '055550': 0.14285714285714285, '066570': 0.0, '068270': 0.0, '071050': 0.0, '078930': 0.14285714285714285, '086280': 0.0, '086790': 0.14285714285714285, '096770': 0.0, '097950': 0.0, '105560': 0.14285714285714285, '111770': 0.0, '128940': 0.0, '138040': 0.14285714285714285, '138930': 0.14285714285714285, '139480': 0.0, '161390': 0.0}\n",
      "Portfolio: {'000270': 0.0, '000660': 0.0, '000720': 0.0, '000810': 0.0, '000880': 0.0, '000990': 0.0, '001450': 0.0, '001570': 0.0, '004020': 0.0, '004370': 0.0, '005380': 0.0, '005490': 0.0, '005830': 0.0, '005940': 0.0, '006260': 0.0, '006400': 0.0, '006800': 0.0, '007070': 0.0, '008770': 0.0, '009150': 0.0, '009830': 0.0, '010120': 0.0, '010130': 0.0, '010620': 0.0, '010950': 0.0, '011070': 0.0, '011170': 0.0, '011780': 0.0, '012330': 0.0, '012450': 0.0, '015760': 0.0, '016360': 0.0, '020150': 0.0, '021240': 0.0, '024110': 0.14285714285714285, '029780': 0.0, '030200': 0.0, '032640': 0.0, '032830': 0.0, '033780': 0.0, '034020': 0.0, '034220': 0.0, '034730': 0.0, '035250': 0.0, '036460': 0.0, '036570': 0.0, '039490': 0.0, '047050': 0.0, '051900': 0.0, '051910': 0.0, '052690': 0.0, '055550': 0.14285714285714285, '066570': 0.0, '068270': 0.0, '071050': 0.0, '078930': 0.14285714285714285, '086280': 0.0, '086790': 0.14285714285714285, '096770': 0.0, '097950': 0.0, '105560': 0.14285714285714285, '111770': 0.0, '128940': 0.0, '138040': 0.14285714285714285, '138930': 0.14285714285714285, '139480': 0.0, '161390': 0.0}\n",
      "Portfolio: {'000270': 0.0, '000660': 0.0, '000720': 0.0, '000810': 0.0, '000880': 0.0, '000990': 0.0, '001450': 0.0, '001570': 0.0, '004020': 0.0, '004370': 0.0, '005380': 0.0, '005490': 0.0, '005830': 0.0, '005940': 0.0, '006260': 0.0, '006400': 0.0, '006800': 0.0, '007070': 0.0, '008770': 0.0, '009150': 0.0, '009830': 0.0, '010120': 0.0, '010130': 0.0, '010620': 0.0, '010950': 0.0, '011070': 0.0, '011170': 0.0, '011780': 0.0, '012330': 0.0, '012450': 0.0, '015760': 0.0, '016360': 0.0, '020150': 0.0, '021240': 0.0, '024110': 0.14285714285714285, '029780': 0.0, '030200': 0.0, '032640': 0.0, '032830': 0.0, '033780': 0.0, '034020': 0.0, '034220': 0.0, '034730': 0.0, '035250': 0.0, '036460': 0.0, '036570': 0.0, '039490': 0.0, '047050': 0.0, '051900': 0.0, '051910': 0.0, '052690': 0.0, '055550': 0.14285714285714285, '066570': 0.0, '068270': 0.0, '071050': 0.0, '078930': 0.14285714285714285, '086280': 0.0, '086790': 0.14285714285714285, '096770': 0.0, '097950': 0.0, '105560': 0.14285714285714285, '111770': 0.0, '128940': 0.0, '138040': 0.14285714285714285, '138930': 0.14285714285714285, '139480': 0.0, '161390': 0.0}\n",
      "Portfolio: {'000270': 0.0, '000660': 0.0, '000720': 0.0, '000810': 0.0, '000880': 0.0, '000990': 0.0, '001450': 0.0, '001570': 0.0, '004020': 0.0, '004370': 0.0, '005380': 0.0, '005490': 0.0, '005830': 0.0, '005940': 0.0, '006260': 0.0, '006400': 0.0, '006800': 0.0, '007070': 0.0, '008770': 0.0, '009150': 0.0, '009830': 0.0, '010120': 0.0, '010130': 0.0, '010620': 0.0, '010950': 0.0, '011070': 0.0, '011170': 0.0, '011780': 0.0, '012330': 0.0, '012450': 0.0, '015760': 0.0, '016360': 0.0, '020150': 0.0, '021240': 0.0, '024110': 0.14285714285714285, '029780': 0.0, '030200': 0.0, '032640': 0.0, '032830': 0.0, '033780': 0.0, '034020': 0.0, '034220': 0.0, '034730': 0.0, '035250': 0.0, '036460': 0.0, '036570': 0.0, '039490': 0.0, '047050': 0.0, '051900': 0.0, '051910': 0.0, '052690': 0.0, '055550': 0.14285714285714285, '066570': 0.0, '068270': 0.0, '071050': 0.0, '078930': 0.14285714285714285, '086280': 0.0, '086790': 0.14285714285714285, '096770': 0.0, '097950': 0.0, '105560': 0.14285714285714285, '111770': 0.0, '128940': 0.0, '138040': 0.14285714285714285, '138930': 0.14285714285714285, '139480': 0.0, '161390': 0.0}\n",
      "Portfolio: {'000270': 0.0, '000660': 0.0, '000720': 0.0, '000810': 0.0, '000880': 0.0, '000990': 0.0, '001450': 0.0, '001570': 0.0, '004020': 0.0, '004370': 0.0, '005380': 0.0, '005490': 0.0, '005830': 0.0, '005940': 0.0, '006260': 0.0, '006400': 0.0, '006800': 0.0, '007070': 0.0, '008770': 0.0, '009150': 0.0, '009830': 0.0, '010120': 0.0, '010130': 0.0, '010620': 0.0, '010950': 0.0, '011070': 0.0, '011170': 0.0, '011780': 0.0, '012330': 0.0, '012450': 0.0, '015760': 0.0, '016360': 0.0, '020150': 0.0, '021240': 0.0, '024110': 0.14285714285714285, '029780': 0.0, '030200': 0.0, '032640': 0.0, '032830': 0.0, '033780': 0.0, '034020': 0.0, '034220': 0.0, '034730': 0.0, '035250': 0.0, '036460': 0.0, '036570': 0.0, '039490': 0.0, '047050': 0.0, '051900': 0.0, '051910': 0.0, '052690': 0.0, '055550': 0.14285714285714285, '066570': 0.0, '068270': 0.0, '071050': 0.0, '078930': 0.14285714285714285, '086280': 0.0, '086790': 0.14285714285714285, '096770': 0.0, '097950': 0.0, '105560': 0.14285714285714285, '111770': 0.0, '128940': 0.0, '138040': 0.14285714285714285, '138930': 0.14285714285714285, '139480': 0.0, '161390': 0.0}\n",
      "Portfolio: {'000270': 0.0, '000660': 0.0, '000720': 0.0, '000810': 0.0, '000880': 0.0, '000990': 0.0, '001450': 0.0, '001570': 0.0, '004020': 0.0, '004370': 0.0, '005380': 0.0, '005490': 0.0, '005830': 0.0, '005940': 0.0, '006260': 0.0, '006400': 0.0, '006800': 0.0, '007070': 0.0, '008770': 0.0, '009150': 0.0, '009830': 0.0, '010120': 0.0, '010130': 0.0, '010620': 0.0, '010950': 0.0, '011070': 0.0, '011170': 0.0, '011780': 0.0, '012330': 0.0, '012450': 0.0, '015760': 0.0, '016360': 0.0, '020150': 0.0, '021240': 0.0, '024110': 0.14285714285714285, '029780': 0.0, '030200': 0.0, '032640': 0.0, '032830': 0.0, '033780': 0.0, '034020': 0.0, '034220': 0.0, '034730': 0.0, '035250': 0.0, '036460': 0.0, '036570': 0.0, '039490': 0.0, '047050': 0.0, '051900': 0.0, '051910': 0.0, '052690': 0.0, '055550': 0.14285714285714285, '066570': 0.0, '068270': 0.0, '071050': 0.0, '078930': 0.14285714285714285, '086280': 0.0, '086790': 0.14285714285714285, '096770': 0.0, '097950': 0.0, '105560': 0.14285714285714285, '111770': 0.0, '128940': 0.0, '138040': 0.14285714285714285, '138930': 0.14285714285714285, '139480': 0.0, '161390': 0.0}\n",
      "Portfolio: {'000270': 0.0, '000660': 0.0, '000720': 0.0, '000810': 0.0, '000880': 0.0, '000990': 0.0, '001450': 0.0, '001570': 0.0, '004020': 0.0, '004370': 0.0, '005380': 0.0, '005490': 0.0, '005830': 0.0, '005940': 0.0, '006260': 0.0, '006400': 0.0, '006800': 0.0, '007070': 0.0, '008770': 0.0, '009150': 0.0, '009830': 0.0, '010120': 0.0, '010130': 0.0, '010620': 0.0, '010950': 0.0, '011070': 0.0, '011170': 0.0, '011780': 0.0, '012330': 0.0, '012450': 0.0, '015760': 0.0, '016360': 0.0, '020150': 0.0, '021240': 0.0, '024110': 0.14285714285714285, '029780': 0.0, '030200': 0.0, '032640': 0.0, '032830': 0.0, '033780': 0.0, '034020': 0.0, '034220': 0.0, '034730': 0.0, '035250': 0.0, '036460': 0.0, '036570': 0.0, '039490': 0.0, '047050': 0.0, '051900': 0.0, '051910': 0.0, '052690': 0.0, '055550': 0.14285714285714285, '066570': 0.0, '068270': 0.0, '071050': 0.14285714285714285, '078930': 0.14285714285714285, '086280': 0.0, '086790': 0.14285714285714285, '096770': 0.0, '097950': 0.0, '105560': 0.0, '111770': 0.0, '128940': 0.0, '138040': 0.14285714285714285, '138930': 0.14285714285714285, '139480': 0.0, '161390': 0.0}\n",
      "Portfolio: {'000270': 0.0, '000660': 0.0, '000720': 0.0, '000810': 0.0, '000880': 0.0, '000990': 0.0, '001450': 0.0, '001570': 0.0, '004020': 0.0, '004370': 0.0, '005380': 0.0, '005490': 0.0, '005830': 0.0, '005940': 0.0, '006260': 0.0, '006400': 0.0, '006800': 0.0, '007070': 0.0, '008770': 0.0, '009150': 0.0, '009830': 0.0, '010120': 0.0, '010130': 0.0, '010620': 0.0, '010950': 0.0, '011070': 0.0, '011170': 0.0, '011780': 0.0, '012330': 0.0, '012450': 0.0, '015760': 0.0, '016360': 0.0, '020150': 0.0, '021240': 0.0, '024110': 0.14285714285714285, '029780': 0.0, '030200': 0.0, '032640': 0.0, '032830': 0.0, '033780': 0.0, '034020': 0.0, '034220': 0.0, '034730': 0.0, '035250': 0.0, '036460': 0.0, '036570': 0.0, '039490': 0.0, '047050': 0.0, '051900': 0.0, '051910': 0.0, '052690': 0.0, '055550': 0.14285714285714285, '066570': 0.0, '068270': 0.0, '071050': 0.0, '078930': 0.14285714285714285, '086280': 0.0, '086790': 0.14285714285714285, '096770': 0.0, '097950': 0.0, '105560': 0.14285714285714285, '111770': 0.0, '128940': 0.0, '138040': 0.14285714285714285, '138930': 0.14285714285714285, '139480': 0.0, '161390': 0.0}\n",
      "Portfolio: {'000270': 0.0, '000660': 0.0, '000720': 0.0, '000810': 0.0, '000880': 0.0, '000990': 0.0, '001450': 0.0, '001570': 0.0, '004020': 0.0, '004370': 0.0, '005380': 0.0, '005490': 0.0, '005830': 0.0, '005940': 0.0, '006260': 0.0, '006400': 0.0, '006800': 0.0, '007070': 0.0, '008770': 0.0, '009150': 0.0, '009830': 0.0, '010120': 0.0, '010130': 0.0, '010620': 0.0, '010950': 0.0, '011070': 0.0, '011170': 0.0, '011780': 0.0, '012330': 0.0, '012450': 0.0, '015760': 0.0, '016360': 0.0, '020150': 0.0, '021240': 0.0, '024110': 0.14285714285714285, '029780': 0.0, '030200': 0.0, '032640': 0.0, '032830': 0.0, '033780': 0.0, '034020': 0.0, '034220': 0.0, '034730': 0.0, '035250': 0.0, '036460': 0.0, '036570': 0.0, '039490': 0.0, '047050': 0.0, '051900': 0.0, '051910': 0.0, '052690': 0.0, '055550': 0.14285714285714285, '066570': 0.0, '068270': 0.0, '071050': 0.14285714285714285, '078930': 0.0, '086280': 0.0, '086790': 0.14285714285714285, '096770': 0.0, '097950': 0.0, '105560': 0.14285714285714285, '111770': 0.0, '128940': 0.0, '138040': 0.14285714285714285, '138930': 0.14285714285714285, '139480': 0.0, '161390': 0.0}\n",
      "Portfolio: {'000270': 0.0, '000660': 0.0, '000720': 0.0, '000810': 0.0, '000880': 0.0, '000990': 0.0, '001450': 0.0, '001570': 0.0, '004020': 0.0, '004370': 0.0, '005380': 0.0, '005490': 0.0, '005830': 0.0, '005940': 0.0, '006260': 0.0, '006400': 0.0, '006800': 0.0, '007070': 0.0, '008770': 0.0, '009150': 0.0, '009830': 0.0, '010120': 0.0, '010130': 0.0, '010620': 0.0, '010950': 0.0, '011070': 0.0, '011170': 0.0, '011780': 0.0, '012330': 0.0, '012450': 0.0, '015760': 0.0, '016360': 0.0, '020150': 0.0, '021240': 0.0, '024110': 0.14285714285714285, '029780': 0.0, '030200': 0.0, '032640': 0.0, '032830': 0.0, '033780': 0.0, '034020': 0.0, '034220': 0.0, '034730': 0.0, '035250': 0.0, '036460': 0.0, '036570': 0.0, '039490': 0.0, '047050': 0.0, '051900': 0.0, '051910': 0.0, '052690': 0.0, '055550': 0.14285714285714285, '066570': 0.0, '068270': 0.0, '071050': 0.14285714285714285, '078930': 0.0, '086280': 0.0, '086790': 0.14285714285714285, '096770': 0.0, '097950': 0.0, '105560': 0.14285714285714285, '111770': 0.0, '128940': 0.0, '138040': 0.14285714285714285, '138930': 0.14285714285714285, '139480': 0.0, '161390': 0.0}\n",
      "Portfolio: {'000270': 0.0, '000660': 0.0, '000720': 0.0, '000810': 0.0, '000880': 0.0, '000990': 0.0, '001450': 0.0, '001570': 0.0, '004020': 0.0, '004370': 0.0, '005380': 0.0, '005490': 0.0, '005830': 0.0, '005940': 0.0, '006260': 0.0, '006400': 0.0, '006800': 0.0, '007070': 0.0, '008770': 0.0, '009150': 0.0, '009830': 0.0, '010120': 0.0, '010130': 0.0, '010620': 0.0, '010950': 0.0, '011070': 0.0, '011170': 0.0, '011780': 0.0, '012330': 0.0, '012450': 0.0, '015760': 0.0, '016360': 0.0, '020150': 0.0, '021240': 0.0, '024110': 0.14285714285714285, '029780': 0.0, '030200': 0.0, '032640': 0.0, '032830': 0.0, '033780': 0.0, '034020': 0.0, '034220': 0.0, '034730': 0.0, '035250': 0.0, '036460': 0.0, '036570': 0.0, '039490': 0.14285714285714285, '047050': 0.0, '051900': 0.0, '051910': 0.0, '052690': 0.0, '055550': 0.14285714285714285, '066570': 0.0, '068270': 0.0, '071050': 0.14285714285714285, '078930': 0.0, '086280': 0.0, '086790': 0.14285714285714285, '096770': 0.0, '097950': 0.0, '105560': 0.14285714285714285, '111770': 0.0, '128940': 0.0, '138040': 0.0, '138930': 0.14285714285714285, '139480': 0.0, '161390': 0.0}\n",
      "Portfolio: {'000270': 0.0, '000660': 0.0, '000720': 0.0, '000810': 0.0, '000880': 0.0, '000990': 0.0, '001450': 0.0, '001570': 0.0, '004020': 0.0, '004370': 0.0, '005380': 0.0, '005490': 0.0, '005830': 0.0, '005940': 0.0, '006260': 0.0, '006400': 0.0, '006800': 0.0, '007070': 0.0, '008770': 0.0, '009150': 0.0, '009830': 0.0, '010120': 0.0, '010130': 0.0, '010620': 0.0, '010950': 0.0, '011070': 0.0, '011170': 0.0, '011780': 0.0, '012330': 0.0, '012450': 0.0, '015760': 0.0, '016360': 0.0, '020150': 0.0, '021240': 0.0, '024110': 0.14285714285714285, '029780': 0.0, '030200': 0.0, '032640': 0.0, '032830': 0.0, '033780': 0.0, '034020': 0.0, '034220': 0.0, '034730': 0.0, '035250': 0.0, '036460': 0.0, '036570': 0.0, '039490': 0.14285714285714285, '047050': 0.0, '051900': 0.0, '051910': 0.0, '052690': 0.0, '055550': 0.14285714285714285, '066570': 0.0, '068270': 0.0, '071050': 0.14285714285714285, '078930': 0.0, '086280': 0.0, '086790': 0.14285714285714285, '096770': 0.0, '097950': 0.0, '105560': 0.14285714285714285, '111770': 0.0, '128940': 0.0, '138040': 0.0, '138930': 0.14285714285714285, '139480': 0.0, '161390': 0.0}\n",
      "Portfolio: {'000270': 0.0, '000660': 0.0, '000720': 0.0, '000810': 0.0, '000880': 0.0, '000990': 0.0, '001450': 0.0, '001570': 0.0, '004020': 0.0, '004370': 0.0, '005380': 0.0, '005490': 0.0, '005830': 0.0, '005940': 0.0, '006260': 0.0, '006400': 0.0, '006800': 0.0, '007070': 0.0, '008770': 0.0, '009150': 0.0, '009830': 0.0, '010120': 0.0, '010130': 0.0, '010620': 0.0, '010950': 0.0, '011070': 0.0, '011170': 0.0, '011780': 0.0, '012330': 0.0, '012450': 0.0, '015760': 0.0, '016360': 0.0, '020150': 0.0, '021240': 0.0, '024110': 0.14285714285714285, '029780': 0.0, '030200': 0.0, '032640': 0.0, '032830': 0.0, '033780': 0.0, '034020': 0.0, '034220': 0.0, '034730': 0.0, '035250': 0.0, '036460': 0.0, '036570': 0.0, '039490': 0.14285714285714285, '047050': 0.0, '051900': 0.0, '051910': 0.0, '052690': 0.0, '055550': 0.14285714285714285, '066570': 0.0, '068270': 0.0, '071050': 0.14285714285714285, '078930': 0.0, '086280': 0.0, '086790': 0.14285714285714285, '096770': 0.0, '097950': 0.0, '105560': 0.14285714285714285, '111770': 0.0, '128940': 0.0, '138040': 0.0, '138930': 0.14285714285714285, '139480': 0.0, '161390': 0.0}\n",
      "Portfolio: {'000270': 0.0, '000660': 0.0, '000720': 0.0, '000810': 0.0, '000880': 0.0, '000990': 0.0, '001450': 0.0, '001570': 0.0, '004020': 0.0, '004370': 0.0, '005380': 0.0, '005490': 0.0, '005830': 0.0, '005940': 0.0, '006260': 0.0, '006400': 0.0, '006800': 0.0, '007070': 0.0, '008770': 0.0, '009150': 0.0, '009830': 0.0, '010120': 0.0, '010130': 0.0, '010620': 0.0, '010950': 0.0, '011070': 0.0, '011170': 0.0, '011780': 0.0, '012330': 0.0, '012450': 0.0, '015760': 0.0, '016360': 0.0, '020150': 0.0, '021240': 0.0, '024110': 0.14285714285714285, '029780': 0.0, '030200': 0.0, '032640': 0.0, '032830': 0.0, '033780': 0.0, '034020': 0.0, '034220': 0.0, '034730': 0.0, '035250': 0.0, '036460': 0.0, '036570': 0.0, '039490': 0.14285714285714285, '047050': 0.0, '051900': 0.0, '051910': 0.0, '052690': 0.0, '055550': 0.14285714285714285, '066570': 0.0, '068270': 0.0, '071050': 0.14285714285714285, '078930': 0.0, '086280': 0.0, '086790': 0.14285714285714285, '096770': 0.0, '097950': 0.0, '105560': 0.14285714285714285, '111770': 0.0, '128940': 0.0, '138040': 0.0, '138930': 0.14285714285714285, '139480': 0.0, '161390': 0.0}\n",
      "Portfolio: {'000270': 0.0, '000660': 0.0, '000720': 0.0, '000810': 0.0, '000880': 0.0, '000990': 0.0, '001450': 0.0, '001570': 0.0, '004020': 0.0, '004370': 0.0, '005380': 0.0, '005490': 0.0, '005830': 0.0, '005940': 0.0, '006260': 0.0, '006400': 0.0, '006800': 0.0, '007070': 0.0, '008770': 0.0, '009150': 0.0, '009830': 0.0, '010120': 0.0, '010130': 0.0, '010620': 0.0, '010950': 0.0, '011070': 0.0, '011170': 0.0, '011780': 0.0, '012330': 0.0, '012450': 0.0, '015760': 0.0, '016360': 0.0, '020150': 0.0, '021240': 0.0, '024110': 0.14285714285714285, '029780': 0.0, '030200': 0.0, '032640': 0.0, '032830': 0.0, '033780': 0.0, '034020': 0.0, '034220': 0.0, '034730': 0.0, '035250': 0.0, '036460': 0.0, '036570': 0.0, '039490': 0.14285714285714285, '047050': 0.0, '051900': 0.0, '051910': 0.0, '052690': 0.0, '055550': 0.14285714285714285, '066570': 0.0, '068270': 0.0, '071050': 0.14285714285714285, '078930': 0.0, '086280': 0.0, '086790': 0.14285714285714285, '096770': 0.0, '097950': 0.0, '105560': 0.14285714285714285, '111770': 0.0, '128940': 0.0, '138040': 0.0, '138930': 0.14285714285714285, '139480': 0.0, '161390': 0.0}\n",
      "Portfolio: {'000270': 0.0, '000660': 0.0, '000720': 0.0, '000810': 0.0, '000880': 0.0, '000990': 0.0, '001450': 0.14285714285714285, '001570': 0.0, '004020': 0.0, '004370': 0.0, '005380': 0.0, '005490': 0.0, '005830': 0.0, '005940': 0.0, '006260': 0.0, '006400': 0.0, '006800': 0.0, '007070': 0.0, '008770': 0.0, '009150': 0.0, '009830': 0.0, '010120': 0.0, '010130': 0.0, '010620': 0.0, '010950': 0.0, '011070': 0.0, '011170': 0.0, '011780': 0.0, '012330': 0.0, '012450': 0.0, '015760': 0.0, '016360': 0.0, '020150': 0.0, '021240': 0.0, '024110': 0.14285714285714285, '029780': 0.0, '030200': 0.0, '032640': 0.0, '032830': 0.0, '033780': 0.0, '034020': 0.0, '034220': 0.0, '034730': 0.0, '035250': 0.0, '036460': 0.0, '036570': 0.0, '039490': 0.14285714285714285, '047050': 0.0, '051900': 0.0, '051910': 0.0, '052690': 0.0, '055550': 0.14285714285714285, '066570': 0.0, '068270': 0.0, '071050': 0.14285714285714285, '078930': 0.0, '086280': 0.0, '086790': 0.14285714285714285, '096770': 0.0, '097950': 0.0, '105560': 0.0, '111770': 0.0, '128940': 0.0, '138040': 0.0, '138930': 0.14285714285714285, '139480': 0.0, '161390': 0.0}\n"
     ]
    }
   ],
   "source": [
    "# 룩백 기간, 생략 기간 정의\n",
    "lookback = 12\n",
    "offset = 0\n",
    "total_lookback = get_lookback_fromdate(fromdate=simulation_fromdate,\n",
    "                                       lookback=lookback + offset, freq='m')\n",
    "\n",
    "# 매수 비율 정의\n",
    "ratio = 0.1\n",
    "\n",
    "# 전략 정의\n",
    "strategy = 'per'\n",
    "\n",
    "# PER 가치 전략 실행하기\n",
    "account_per = simulate_factor(\n",
    "    ohlcv_data=df_slicer(df=ohlcv_data_day, fromdate=total_lookback),\n",
    "    market_cap_data=df_slicer(df=market_cap_data, fromdate=total_lookback),\n",
    "    fundamental_data=df_slicer(df=fundamental_data, fromdate=total_lookback),\n",
    "    trader_data=None,\n",
    "    lookback_period=lookback * 21,\n",
    "    skip_period=offset * 21,\n",
    "    strategy_name=strategy,\n",
    "    buying_ratio=ratio)"
   ],
   "metadata": {
    "collapsed": false,
    "ExecuteTime": {
     "end_time": "2023-12-07T05:12:56.940838Z",
     "start_time": "2023-12-07T05:12:54.885547Z"
    }
   }
  },
  {
   "cell_type": "markdown",
   "source": [
    "#### 1.6.3. PBR 가치 전략 실행하기"
   ],
   "metadata": {
    "collapsed": false
   }
  },
  {
   "cell_type": "code",
   "execution_count": 20,
   "outputs": [
    {
     "name": "stderr",
     "output_type": "stream",
     "text": [
      "/var/folders/j2/p6vmvrcs1kg7j9c8811510sc0000gn/T/ipykernel_87974/888467401.py:44: FutureWarning: In a future version of pandas, a length 1 tuple will be returned when iterating over a groupby with a grouper equal to a list of length 1. Don't supply a list with a single grouper to avoid this warning.\n",
      "  for date, ohlcv in ohlcv_data.groupby(['date']):\n"
     ]
    },
    {
     "name": "stdout",
     "output_type": "stream",
     "text": [
      "Portfolio: {'000270': 0.0, '000660': 0.0, '000720': 0.0, '000810': 0.0, '000880': 0.0, '000990': 0.0, '001450': 0.0, '001570': 0.0, '004020': 0.14285714285714285, '004370': 0.0, '005380': 0.0, '005490': 0.14285714285714285, '005830': 0.0, '005940': 0.0, '006260': 0.0, '006400': 0.0, '006800': 0.0, '007070': 0.0, '008770': 0.0, '009150': 0.0, '009830': 0.0, '010120': 0.0, '010130': 0.0, '010620': 0.0, '010950': 0.0, '011070': 0.0, '011170': 0.0, '011780': 0.0, '012330': 0.0, '012450': 0.0, '015760': 0.14285714285714285, '016360': 0.0, '020150': 0.0, '021240': 0.0, '024110': 0.14285714285714285, '029780': 0.0, '030200': 0.0, '032640': 0.0, '032830': 0.0, '033780': 0.0, '034020': 0.0, '034220': 0.0, '034730': 0.0, '035250': 0.0, '036460': 0.14285714285714285, '036570': 0.0, '039490': 0.0, '047050': 0.0, '051900': 0.0, '051910': 0.0, '052690': 0.0, '055550': 0.0, '066570': 0.0, '068270': 0.0, '071050': 0.0, '078930': 0.0, '086280': 0.0, '086790': 0.14285714285714285, '096770': 0.0, '097950': 0.0, '105560': 0.0, '111770': 0.0, '128940': 0.0, '138040': 0.0, '138930': 0.14285714285714285, '139480': 0.0, '161390': 0.0}\n",
      "Portfolio: {'000270': 0.0, '000660': 0.0, '000720': 0.0, '000810': 0.0, '000880': 0.0, '000990': 0.0, '001450': 0.0, '001570': 0.0, '004020': 0.14285714285714285, '004370': 0.0, '005380': 0.0, '005490': 0.14285714285714285, '005830': 0.0, '005940': 0.0, '006260': 0.0, '006400': 0.0, '006800': 0.0, '007070': 0.0, '008770': 0.0, '009150': 0.0, '009830': 0.0, '010120': 0.0, '010130': 0.0, '010620': 0.0, '010950': 0.0, '011070': 0.0, '011170': 0.0, '011780': 0.0, '012330': 0.0, '012450': 0.0, '015760': 0.14285714285714285, '016360': 0.0, '020150': 0.0, '021240': 0.0, '024110': 0.14285714285714285, '029780': 0.0, '030200': 0.0, '032640': 0.0, '032830': 0.0, '033780': 0.0, '034020': 0.0, '034220': 0.0, '034730': 0.0, '035250': 0.0, '036460': 0.14285714285714285, '036570': 0.0, '039490': 0.0, '047050': 0.0, '051900': 0.0, '051910': 0.0, '052690': 0.0, '055550': 0.0, '066570': 0.0, '068270': 0.0, '071050': 0.0, '078930': 0.0, '086280': 0.0, '086790': 0.14285714285714285, '096770': 0.0, '097950': 0.0, '105560': 0.0, '111770': 0.0, '128940': 0.0, '138040': 0.0, '138930': 0.14285714285714285, '139480': 0.0, '161390': 0.0}\n",
      "Portfolio: {'000270': 0.14285714285714285, '000660': 0.0, '000720': 0.0, '000810': 0.0, '000880': 0.0, '000990': 0.0, '001450': 0.0, '001570': 0.0, '004020': 0.14285714285714285, '004370': 0.0, '005380': 0.0, '005490': 0.14285714285714285, '005830': 0.0, '005940': 0.0, '006260': 0.0, '006400': 0.0, '006800': 0.0, '007070': 0.0, '008770': 0.0, '009150': 0.0, '009830': 0.0, '010120': 0.0, '010130': 0.0, '010620': 0.0, '010950': 0.0, '011070': 0.0, '011170': 0.0, '011780': 0.0, '012330': 0.0, '012450': 0.0, '015760': 0.14285714285714285, '016360': 0.0, '020150': 0.0, '021240': 0.0, '024110': 0.0, '029780': 0.0, '030200': 0.0, '032640': 0.0, '032830': 0.0, '033780': 0.0, '034020': 0.0, '034220': 0.0, '034730': 0.0, '035250': 0.0, '036460': 0.14285714285714285, '036570': 0.0, '039490': 0.0, '047050': 0.0, '051900': 0.0, '051910': 0.0, '052690': 0.0, '055550': 0.0, '066570': 0.0, '068270': 0.0, '071050': 0.0, '078930': 0.0, '086280': 0.0, '086790': 0.14285714285714285, '096770': 0.0, '097950': 0.0, '105560': 0.0, '111770': 0.0, '128940': 0.0, '138040': 0.0, '138930': 0.14285714285714285, '139480': 0.0, '161390': 0.0}\n",
      "Portfolio: {'000270': 0.14285714285714285, '000660': 0.0, '000720': 0.0, '000810': 0.0, '000880': 0.0, '000990': 0.0, '001450': 0.0, '001570': 0.0, '004020': 0.14285714285714285, '004370': 0.0, '005380': 0.0, '005490': 0.14285714285714285, '005830': 0.0, '005940': 0.0, '006260': 0.0, '006400': 0.0, '006800': 0.0, '007070': 0.0, '008770': 0.0, '009150': 0.0, '009830': 0.0, '010120': 0.0, '010130': 0.0, '010620': 0.0, '010950': 0.0, '011070': 0.0, '011170': 0.0, '011780': 0.0, '012330': 0.0, '012450': 0.0, '015760': 0.14285714285714285, '016360': 0.0, '020150': 0.0, '021240': 0.0, '024110': 0.0, '029780': 0.0, '030200': 0.0, '032640': 0.0, '032830': 0.0, '033780': 0.0, '034020': 0.0, '034220': 0.0, '034730': 0.0, '035250': 0.0, '036460': 0.14285714285714285, '036570': 0.0, '039490': 0.0, '047050': 0.0, '051900': 0.0, '051910': 0.0, '052690': 0.0, '055550': 0.0, '066570': 0.0, '068270': 0.0, '071050': 0.0, '078930': 0.0, '086280': 0.0, '086790': 0.14285714285714285, '096770': 0.0, '097950': 0.0, '105560': 0.0, '111770': 0.0, '128940': 0.0, '138040': 0.0, '138930': 0.14285714285714285, '139480': 0.0, '161390': 0.0}\n",
      "Portfolio: {'000270': 0.14285714285714285, '000660': 0.0, '000720': 0.0, '000810': 0.0, '000880': 0.0, '000990': 0.0, '001450': 0.0, '001570': 0.0, '004020': 0.14285714285714285, '004370': 0.0, '005380': 0.0, '005490': 0.14285714285714285, '005830': 0.0, '005940': 0.0, '006260': 0.0, '006400': 0.0, '006800': 0.0, '007070': 0.0, '008770': 0.0, '009150': 0.0, '009830': 0.0, '010120': 0.0, '010130': 0.0, '010620': 0.0, '010950': 0.0, '011070': 0.0, '011170': 0.0, '011780': 0.0, '012330': 0.0, '012450': 0.0, '015760': 0.14285714285714285, '016360': 0.0, '020150': 0.0, '021240': 0.0, '024110': 0.0, '029780': 0.0, '030200': 0.0, '032640': 0.0, '032830': 0.0, '033780': 0.0, '034020': 0.0, '034220': 0.0, '034730': 0.0, '035250': 0.0, '036460': 0.14285714285714285, '036570': 0.0, '039490': 0.0, '047050': 0.0, '051900': 0.0, '051910': 0.0, '052690': 0.0, '055550': 0.0, '066570': 0.0, '068270': 0.0, '071050': 0.0, '078930': 0.0, '086280': 0.0, '086790': 0.14285714285714285, '096770': 0.0, '097950': 0.0, '105560': 0.0, '111770': 0.0, '128940': 0.0, '138040': 0.0, '138930': 0.14285714285714285, '139480': 0.0, '161390': 0.0}\n",
      "Portfolio: {'000270': 0.14285714285714285, '000660': 0.0, '000720': 0.0, '000810': 0.0, '000880': 0.0, '000990': 0.0, '001450': 0.0, '001570': 0.0, '004020': 0.14285714285714285, '004370': 0.0, '005380': 0.14285714285714285, '005490': 0.0, '005830': 0.0, '005940': 0.0, '006260': 0.0, '006400': 0.0, '006800': 0.0, '007070': 0.0, '008770': 0.0, '009150': 0.0, '009830': 0.0, '010120': 0.0, '010130': 0.0, '010620': 0.0, '010950': 0.0, '011070': 0.0, '011170': 0.0, '011780': 0.0, '012330': 0.0, '012450': 0.0, '015760': 0.14285714285714285, '016360': 0.0, '020150': 0.0, '021240': 0.0, '024110': 0.0, '029780': 0.0, '030200': 0.0, '032640': 0.0, '032830': 0.0, '033780': 0.0, '034020': 0.0, '034220': 0.0, '034730': 0.0, '035250': 0.0, '036460': 0.14285714285714285, '036570': 0.0, '039490': 0.0, '047050': 0.0, '051900': 0.0, '051910': 0.0, '052690': 0.0, '055550': 0.0, '066570': 0.0, '068270': 0.0, '071050': 0.0, '078930': 0.0, '086280': 0.0, '086790': 0.14285714285714285, '096770': 0.0, '097950': 0.0, '105560': 0.0, '111770': 0.0, '128940': 0.0, '138040': 0.0, '138930': 0.14285714285714285, '139480': 0.0, '161390': 0.0}\n",
      "Portfolio: {'000270': 0.14285714285714285, '000660': 0.0, '000720': 0.0, '000810': 0.0, '000880': 0.0, '000990': 0.0, '001450': 0.0, '001570': 0.0, '004020': 0.14285714285714285, '004370': 0.0, '005380': 0.14285714285714285, '005490': 0.0, '005830': 0.0, '005940': 0.0, '006260': 0.0, '006400': 0.0, '006800': 0.0, '007070': 0.0, '008770': 0.0, '009150': 0.0, '009830': 0.0, '010120': 0.0, '010130': 0.0, '010620': 0.0, '010950': 0.0, '011070': 0.0, '011170': 0.0, '011780': 0.0, '012330': 0.0, '012450': 0.0, '015760': 0.14285714285714285, '016360': 0.0, '020150': 0.0, '021240': 0.0, '024110': 0.0, '029780': 0.14285714285714285, '030200': 0.0, '032640': 0.0, '032830': 0.0, '033780': 0.0, '034020': 0.0, '034220': 0.0, '034730': 0.0, '035250': 0.0, '036460': 0.14285714285714285, '036570': 0.0, '039490': 0.0, '047050': 0.0, '051900': 0.0, '051910': 0.0, '052690': 0.0, '055550': 0.0, '066570': 0.0, '068270': 0.0, '071050': 0.0, '078930': 0.0, '086280': 0.0, '086790': 0.0, '096770': 0.0, '097950': 0.0, '105560': 0.0, '111770': 0.0, '128940': 0.0, '138040': 0.0, '138930': 0.14285714285714285, '139480': 0.0, '161390': 0.0}\n",
      "Portfolio: {'000270': 0.14285714285714285, '000660': 0.0, '000720': 0.0, '000810': 0.0, '000880': 0.0, '000990': 0.0, '001450': 0.0, '001570': 0.0, '004020': 0.14285714285714285, '004370': 0.0, '005380': 0.14285714285714285, '005490': 0.0, '005830': 0.0, '005940': 0.0, '006260': 0.0, '006400': 0.0, '006800': 0.0, '007070': 0.0, '008770': 0.0, '009150': 0.0, '009830': 0.0, '010120': 0.0, '010130': 0.0, '010620': 0.0, '010950': 0.0, '011070': 0.0, '011170': 0.0, '011780': 0.0, '012330': 0.0, '012450': 0.0, '015760': 0.14285714285714285, '016360': 0.0, '020150': 0.0, '021240': 0.0, '024110': 0.0, '029780': 0.0, '030200': 0.0, '032640': 0.0, '032830': 0.0, '033780': 0.0, '034020': 0.0, '034220': 0.0, '034730': 0.0, '035250': 0.0, '036460': 0.14285714285714285, '036570': 0.0, '039490': 0.0, '047050': 0.0, '051900': 0.0, '051910': 0.0, '052690': 0.0, '055550': 0.0, '066570': 0.0, '068270': 0.0, '071050': 0.0, '078930': 0.0, '086280': 0.0, '086790': 0.14285714285714285, '096770': 0.0, '097950': 0.0, '105560': 0.0, '111770': 0.0, '128940': 0.0, '138040': 0.0, '138930': 0.14285714285714285, '139480': 0.0, '161390': 0.0}\n",
      "Portfolio: {'000270': 0.14285714285714285, '000660': 0.0, '000720': 0.0, '000810': 0.0, '000880': 0.0, '000990': 0.0, '001450': 0.0, '001570': 0.0, '004020': 0.14285714285714285, '004370': 0.0, '005380': 0.0, '005490': 0.0, '005830': 0.0, '005940': 0.0, '006260': 0.0, '006400': 0.0, '006800': 0.0, '007070': 0.0, '008770': 0.0, '009150': 0.0, '009830': 0.0, '010120': 0.0, '010130': 0.0, '010620': 0.0, '010950': 0.0, '011070': 0.0, '011170': 0.0, '011780': 0.0, '012330': 0.0, '012450': 0.0, '015760': 0.14285714285714285, '016360': 0.0, '020150': 0.0, '021240': 0.0, '024110': 0.0, '029780': 0.14285714285714285, '030200': 0.0, '032640': 0.0, '032830': 0.0, '033780': 0.0, '034020': 0.0, '034220': 0.0, '034730': 0.0, '035250': 0.0, '036460': 0.14285714285714285, '036570': 0.0, '039490': 0.0, '047050': 0.0, '051900': 0.0, '051910': 0.0, '052690': 0.0, '055550': 0.0, '066570': 0.0, '068270': 0.0, '071050': 0.0, '078930': 0.0, '086280': 0.0, '086790': 0.14285714285714285, '096770': 0.0, '097950': 0.0, '105560': 0.0, '111770': 0.0, '128940': 0.0, '138040': 0.0, '138930': 0.14285714285714285, '139480': 0.0, '161390': 0.0}\n",
      "Portfolio: {'000270': 0.14285714285714285, '000660': 0.0, '000720': 0.14285714285714285, '000810': 0.0, '000880': 0.0, '000990': 0.0, '001450': 0.0, '001570': 0.0, '004020': 0.14285714285714285, '004370': 0.0, '005380': 0.0, '005490': 0.0, '005830': 0.0, '005940': 0.0, '006260': 0.0, '006400': 0.0, '006800': 0.0, '007070': 0.0, '008770': 0.0, '009150': 0.0, '009830': 0.0, '010120': 0.0, '010130': 0.0, '010620': 0.0, '010950': 0.0, '011070': 0.0, '011170': 0.0, '011780': 0.0, '012330': 0.0, '012450': 0.0, '015760': 0.14285714285714285, '016360': 0.0, '020150': 0.0, '021240': 0.0, '024110': 0.0, '029780': 0.0, '030200': 0.0, '032640': 0.0, '032830': 0.0, '033780': 0.0, '034020': 0.0, '034220': 0.0, '034730': 0.0, '035250': 0.0, '036460': 0.14285714285714285, '036570': 0.0, '039490': 0.0, '047050': 0.0, '051900': 0.0, '051910': 0.0, '052690': 0.0, '055550': 0.0, '066570': 0.0, '068270': 0.0, '071050': 0.0, '078930': 0.0, '086280': 0.0, '086790': 0.14285714285714285, '096770': 0.0, '097950': 0.0, '105560': 0.0, '111770': 0.0, '128940': 0.0, '138040': 0.0, '138930': 0.14285714285714285, '139480': 0.0, '161390': 0.0}\n",
      "Portfolio: {'000270': 0.14285714285714285, '000660': 0.0, '000720': 0.14285714285714285, '000810': 0.0, '000880': 0.0, '000990': 0.0, '001450': 0.0, '001570': 0.0, '004020': 0.14285714285714285, '004370': 0.0, '005380': 0.14285714285714285, '005490': 0.0, '005830': 0.0, '005940': 0.0, '006260': 0.0, '006400': 0.0, '006800': 0.0, '007070': 0.0, '008770': 0.0, '009150': 0.0, '009830': 0.0, '010120': 0.0, '010130': 0.0, '010620': 0.0, '010950': 0.0, '011070': 0.0, '011170': 0.0, '011780': 0.0, '012330': 0.0, '012450': 0.0, '015760': 0.14285714285714285, '016360': 0.0, '020150': 0.0, '021240': 0.0, '024110': 0.0, '029780': 0.0, '030200': 0.0, '032640': 0.0, '032830': 0.0, '033780': 0.0, '034020': 0.0, '034220': 0.0, '034730': 0.0, '035250': 0.0, '036460': 0.14285714285714285, '036570': 0.0, '039490': 0.0, '047050': 0.0, '051900': 0.0, '051910': 0.0, '052690': 0.0, '055550': 0.0, '066570': 0.0, '068270': 0.0, '071050': 0.0, '078930': 0.0, '086280': 0.0, '086790': 0.0, '096770': 0.0, '097950': 0.0, '105560': 0.0, '111770': 0.0, '128940': 0.0, '138040': 0.0, '138930': 0.14285714285714285, '139480': 0.0, '161390': 0.0}\n",
      "Portfolio: {'000270': 0.14285714285714285, '000660': 0.0, '000720': 0.0, '000810': 0.0, '000880': 0.0, '000990': 0.0, '001450': 0.0, '001570': 0.0, '004020': 0.14285714285714285, '004370': 0.0, '005380': 0.14285714285714285, '005490': 0.0, '005830': 0.0, '005940': 0.0, '006260': 0.0, '006400': 0.0, '006800': 0.0, '007070': 0.0, '008770': 0.0, '009150': 0.0, '009830': 0.0, '010120': 0.0, '010130': 0.0, '010620': 0.0, '010950': 0.0, '011070': 0.0, '011170': 0.0, '011780': 0.0, '012330': 0.0, '012450': 0.0, '015760': 0.14285714285714285, '016360': 0.0, '020150': 0.0, '021240': 0.0, '024110': 0.0, '029780': 0.0, '030200': 0.14285714285714285, '032640': 0.0, '032830': 0.0, '033780': 0.0, '034020': 0.0, '034220': 0.0, '034730': 0.0, '035250': 0.0, '036460': 0.14285714285714285, '036570': 0.0, '039490': 0.0, '047050': 0.0, '051900': 0.0, '051910': 0.0, '052690': 0.0, '055550': 0.0, '066570': 0.0, '068270': 0.0, '071050': 0.0, '078930': 0.0, '086280': 0.0, '086790': 0.0, '096770': 0.0, '097950': 0.0, '105560': 0.0, '111770': 0.0, '128940': 0.0, '138040': 0.0, '138930': 0.14285714285714285, '139480': 0.0, '161390': 0.0}\n",
      "Portfolio: {'000270': 0.14285714285714285, '000660': 0.0, '000720': 0.0, '000810': 0.0, '000880': 0.0, '000990': 0.0, '001450': 0.0, '001570': 0.0, '004020': 0.14285714285714285, '004370': 0.0, '005380': 0.0, '005490': 0.0, '005830': 0.0, '005940': 0.0, '006260': 0.0, '006400': 0.0, '006800': 0.0, '007070': 0.0, '008770': 0.0, '009150': 0.0, '009830': 0.0, '010120': 0.0, '010130': 0.0, '010620': 0.0, '010950': 0.0, '011070': 0.0, '011170': 0.0, '011780': 0.0, '012330': 0.0, '012450': 0.0, '015760': 0.14285714285714285, '016360': 0.0, '020150': 0.0, '021240': 0.0, '024110': 0.0, '029780': 0.14285714285714285, '030200': 0.14285714285714285, '032640': 0.0, '032830': 0.0, '033780': 0.0, '034020': 0.0, '034220': 0.0, '034730': 0.0, '035250': 0.0, '036460': 0.14285714285714285, '036570': 0.0, '039490': 0.0, '047050': 0.0, '051900': 0.0, '051910': 0.0, '052690': 0.0, '055550': 0.0, '066570': 0.0, '068270': 0.0, '071050': 0.0, '078930': 0.0, '086280': 0.0, '086790': 0.0, '096770': 0.0, '097950': 0.0, '105560': 0.0, '111770': 0.0, '128940': 0.0, '138040': 0.0, '138930': 0.14285714285714285, '139480': 0.0, '161390': 0.0}\n",
      "Portfolio: {'000270': 0.14285714285714285, '000660': 0.0, '000720': 0.0, '000810': 0.0, '000880': 0.0, '000990': 0.0, '001450': 0.0, '001570': 0.0, '004020': 0.14285714285714285, '004370': 0.0, '005380': 0.14285714285714285, '005490': 0.0, '005830': 0.0, '005940': 0.0, '006260': 0.0, '006400': 0.0, '006800': 0.0, '007070': 0.0, '008770': 0.0, '009150': 0.0, '009830': 0.0, '010120': 0.0, '010130': 0.0, '010620': 0.0, '010950': 0.0, '011070': 0.0, '011170': 0.0, '011780': 0.0, '012330': 0.0, '012450': 0.0, '015760': 0.14285714285714285, '016360': 0.0, '020150': 0.0, '021240': 0.0, '024110': 0.0, '029780': 0.0, '030200': 0.0, '032640': 0.0, '032830': 0.0, '033780': 0.0, '034020': 0.0, '034220': 0.0, '034730': 0.0, '035250': 0.0, '036460': 0.14285714285714285, '036570': 0.0, '039490': 0.0, '047050': 0.0, '051900': 0.0, '051910': 0.0, '052690': 0.0, '055550': 0.0, '066570': 0.0, '068270': 0.0, '071050': 0.0, '078930': 0.0, '086280': 0.0, '086790': 0.14285714285714285, '096770': 0.0, '097950': 0.0, '105560': 0.0, '111770': 0.0, '128940': 0.0, '138040': 0.0, '138930': 0.14285714285714285, '139480': 0.0, '161390': 0.0}\n",
      "Portfolio: {'000270': 0.14285714285714285, '000660': 0.0, '000720': 0.0, '000810': 0.0, '000880': 0.0, '000990': 0.0, '001450': 0.0, '001570': 0.0, '004020': 0.14285714285714285, '004370': 0.0, '005380': 0.0, '005490': 0.0, '005830': 0.0, '005940': 0.0, '006260': 0.0, '006400': 0.0, '006800': 0.0, '007070': 0.0, '008770': 0.0, '009150': 0.0, '009830': 0.0, '010120': 0.0, '010130': 0.0, '010620': 0.0, '010950': 0.0, '011070': 0.0, '011170': 0.0, '011780': 0.0, '012330': 0.0, '012450': 0.14285714285714285, '015760': 0.14285714285714285, '016360': 0.0, '020150': 0.0, '021240': 0.0, '024110': 0.0, '029780': 0.0, '030200': 0.14285714285714285, '032640': 0.0, '032830': 0.0, '033780': 0.0, '034020': 0.0, '034220': 0.0, '034730': 0.0, '035250': 0.0, '036460': 0.14285714285714285, '036570': 0.0, '039490': 0.0, '047050': 0.0, '051900': 0.0, '051910': 0.0, '052690': 0.0, '055550': 0.0, '066570': 0.0, '068270': 0.0, '071050': 0.0, '078930': 0.0, '086280': 0.0, '086790': 0.0, '096770': 0.0, '097950': 0.0, '105560': 0.0, '111770': 0.0, '128940': 0.0, '138040': 0.0, '138930': 0.14285714285714285, '139480': 0.0, '161390': 0.0}\n",
      "Portfolio: {'000270': 0.14285714285714285, '000660': 0.0, '000720': 0.0, '000810': 0.0, '000880': 0.0, '000990': 0.0, '001450': 0.0, '001570': 0.0, '004020': 0.14285714285714285, '004370': 0.0, '005380': 0.14285714285714285, '005490': 0.0, '005830': 0.0, '005940': 0.0, '006260': 0.0, '006400': 0.0, '006800': 0.0, '007070': 0.0, '008770': 0.0, '009150': 0.0, '009830': 0.0, '010120': 0.0, '010130': 0.0, '010620': 0.0, '010950': 0.0, '011070': 0.0, '011170': 0.0, '011780': 0.0, '012330': 0.0, '012450': 0.0, '015760': 0.14285714285714285, '016360': 0.0, '020150': 0.0, '021240': 0.0, '024110': 0.0, '029780': 0.0, '030200': 0.0, '032640': 0.0, '032830': 0.0, '033780': 0.0, '034020': 0.0, '034220': 0.14285714285714285, '034730': 0.0, '035250': 0.0, '036460': 0.0, '036570': 0.0, '039490': 0.0, '047050': 0.0, '051900': 0.0, '051910': 0.0, '052690': 0.0, '055550': 0.0, '066570': 0.0, '068270': 0.0, '071050': 0.0, '078930': 0.0, '086280': 0.0, '086790': 0.14285714285714285, '096770': 0.0, '097950': 0.0, '105560': 0.0, '111770': 0.0, '128940': 0.0, '138040': 0.0, '138930': 0.14285714285714285, '139480': 0.0, '161390': 0.0}\n",
      "Portfolio: {'000270': 0.14285714285714285, '000660': 0.0, '000720': 0.0, '000810': 0.0, '000880': 0.0, '000990': 0.0, '001450': 0.0, '001570': 0.0, '004020': 0.14285714285714285, '004370': 0.0, '005380': 0.14285714285714285, '005490': 0.0, '005830': 0.0, '005940': 0.0, '006260': 0.0, '006400': 0.0, '006800': 0.0, '007070': 0.0, '008770': 0.0, '009150': 0.0, '009830': 0.0, '010120': 0.0, '010130': 0.0, '010620': 0.0, '010950': 0.0, '011070': 0.0, '011170': 0.0, '011780': 0.0, '012330': 0.0, '012450': 0.0, '015760': 0.14285714285714285, '016360': 0.0, '020150': 0.0, '021240': 0.0, '024110': 0.0, '029780': 0.0, '030200': 0.0, '032640': 0.0, '032830': 0.0, '033780': 0.0, '034020': 0.0, '034220': 0.14285714285714285, '034730': 0.0, '035250': 0.0, '036460': 0.0, '036570': 0.0, '039490': 0.0, '047050': 0.0, '051900': 0.0, '051910': 0.0, '052690': 0.0, '055550': 0.0, '066570': 0.0, '068270': 0.0, '071050': 0.0, '078930': 0.0, '086280': 0.0, '086790': 0.14285714285714285, '096770': 0.0, '097950': 0.0, '105560': 0.0, '111770': 0.0, '128940': 0.0, '138040': 0.0, '138930': 0.14285714285714285, '139480': 0.0, '161390': 0.0}\n",
      "Portfolio: {'000270': 0.14285714285714285, '000660': 0.0, '000720': 0.0, '000810': 0.0, '000880': 0.0, '000990': 0.0, '001450': 0.0, '001570': 0.0, '004020': 0.14285714285714285, '004370': 0.0, '005380': 0.14285714285714285, '005490': 0.0, '005830': 0.0, '005940': 0.0, '006260': 0.0, '006400': 0.0, '006800': 0.0, '007070': 0.0, '008770': 0.0, '009150': 0.0, '009830': 0.0, '010120': 0.0, '010130': 0.0, '010620': 0.0, '010950': 0.0, '011070': 0.0, '011170': 0.0, '011780': 0.0, '012330': 0.0, '012450': 0.14285714285714285, '015760': 0.14285714285714285, '016360': 0.0, '020150': 0.0, '021240': 0.0, '024110': 0.0, '029780': 0.0, '030200': 0.0, '032640': 0.0, '032830': 0.0, '033780': 0.0, '034020': 0.0, '034220': 0.14285714285714285, '034730': 0.0, '035250': 0.0, '036460': 0.0, '036570': 0.0, '039490': 0.0, '047050': 0.0, '051900': 0.0, '051910': 0.0, '052690': 0.0, '055550': 0.0, '066570': 0.0, '068270': 0.0, '071050': 0.0, '078930': 0.0, '086280': 0.0, '086790': 0.0, '096770': 0.0, '097950': 0.0, '105560': 0.0, '111770': 0.0, '128940': 0.0, '138040': 0.0, '138930': 0.14285714285714285, '139480': 0.0, '161390': 0.0}\n",
      "Portfolio: {'000270': 0.14285714285714285, '000660': 0.0, '000720': 0.0, '000810': 0.0, '000880': 0.0, '000990': 0.0, '001450': 0.0, '001570': 0.0, '004020': 0.14285714285714285, '004370': 0.0, '005380': 0.14285714285714285, '005490': 0.0, '005830': 0.0, '005940': 0.0, '006260': 0.0, '006400': 0.0, '006800': 0.0, '007070': 0.0, '008770': 0.0, '009150': 0.0, '009830': 0.0, '010120': 0.0, '010130': 0.0, '010620': 0.0, '010950': 0.0, '011070': 0.0, '011170': 0.0, '011780': 0.0, '012330': 0.0, '012450': 0.0, '015760': 0.14285714285714285, '016360': 0.0, '020150': 0.0, '021240': 0.0, '024110': 0.0, '029780': 0.0, '030200': 0.0, '032640': 0.0, '032830': 0.0, '033780': 0.0, '034020': 0.0, '034220': 0.14285714285714285, '034730': 0.0, '035250': 0.0, '036460': 0.0, '036570': 0.0, '039490': 0.0, '047050': 0.0, '051900': 0.0, '051910': 0.0, '052690': 0.0, '055550': 0.0, '066570': 0.0, '068270': 0.0, '071050': 0.0, '078930': 0.0, '086280': 0.0, '086790': 0.14285714285714285, '096770': 0.0, '097950': 0.0, '105560': 0.0, '111770': 0.0, '128940': 0.0, '138040': 0.0, '138930': 0.14285714285714285, '139480': 0.0, '161390': 0.0}\n",
      "Portfolio: {'000270': 0.14285714285714285, '000660': 0.0, '000720': 0.0, '000810': 0.0, '000880': 0.0, '000990': 0.0, '001450': 0.0, '001570': 0.0, '004020': 0.14285714285714285, '004370': 0.0, '005380': 0.14285714285714285, '005490': 0.0, '005830': 0.0, '005940': 0.0, '006260': 0.0, '006400': 0.0, '006800': 0.0, '007070': 0.0, '008770': 0.0, '009150': 0.0, '009830': 0.0, '010120': 0.0, '010130': 0.0, '010620': 0.0, '010950': 0.0, '011070': 0.0, '011170': 0.0, '011780': 0.0, '012330': 0.0, '012450': 0.0, '015760': 0.14285714285714285, '016360': 0.0, '020150': 0.0, '021240': 0.0, '024110': 0.0, '029780': 0.0, '030200': 0.0, '032640': 0.0, '032830': 0.0, '033780': 0.0, '034020': 0.0, '034220': 0.14285714285714285, '034730': 0.0, '035250': 0.0, '036460': 0.0, '036570': 0.0, '039490': 0.0, '047050': 0.0, '051900': 0.0, '051910': 0.0, '052690': 0.0, '055550': 0.0, '066570': 0.0, '068270': 0.0, '071050': 0.0, '078930': 0.0, '086280': 0.0, '086790': 0.14285714285714285, '096770': 0.0, '097950': 0.0, '105560': 0.0, '111770': 0.0, '128940': 0.0, '138040': 0.0, '138930': 0.14285714285714285, '139480': 0.0, '161390': 0.0}\n",
      "Portfolio: {'000270': 0.14285714285714285, '000660': 0.0, '000720': 0.0, '000810': 0.0, '000880': 0.0, '000990': 0.0, '001450': 0.0, '001570': 0.0, '004020': 0.14285714285714285, '004370': 0.0, '005380': 0.14285714285714285, '005490': 0.0, '005830': 0.0, '005940': 0.0, '006260': 0.0, '006400': 0.0, '006800': 0.0, '007070': 0.0, '008770': 0.0, '009150': 0.0, '009830': 0.0, '010120': 0.0, '010130': 0.0, '010620': 0.0, '010950': 0.0, '011070': 0.0, '011170': 0.0, '011780': 0.0, '012330': 0.0, '012450': 0.0, '015760': 0.14285714285714285, '016360': 0.0, '020150': 0.0, '021240': 0.0, '024110': 0.0, '029780': 0.0, '030200': 0.0, '032640': 0.0, '032830': 0.0, '033780': 0.0, '034020': 0.0, '034220': 0.14285714285714285, '034730': 0.0, '035250': 0.0, '036460': 0.0, '036570': 0.0, '039490': 0.0, '047050': 0.0, '051900': 0.0, '051910': 0.0, '052690': 0.0, '055550': 0.0, '066570': 0.0, '068270': 0.0, '071050': 0.0, '078930': 0.0, '086280': 0.0, '086790': 0.14285714285714285, '096770': 0.0, '097950': 0.0, '105560': 0.0, '111770': 0.0, '128940': 0.0, '138040': 0.0, '138930': 0.14285714285714285, '139480': 0.0, '161390': 0.0}\n",
      "Portfolio: {'000270': 0.14285714285714285, '000660': 0.0, '000720': 0.0, '000810': 0.0, '000880': 0.0, '000990': 0.0, '001450': 0.0, '001570': 0.0, '004020': 0.14285714285714285, '004370': 0.0, '005380': 0.14285714285714285, '005490': 0.0, '005830': 0.0, '005940': 0.0, '006260': 0.0, '006400': 0.0, '006800': 0.0, '007070': 0.0, '008770': 0.0, '009150': 0.0, '009830': 0.0, '010120': 0.0, '010130': 0.0, '010620': 0.0, '010950': 0.0, '011070': 0.0, '011170': 0.0, '011780': 0.0, '012330': 0.0, '012450': 0.0, '015760': 0.14285714285714285, '016360': 0.0, '020150': 0.0, '021240': 0.0, '024110': 0.0, '029780': 0.0, '030200': 0.0, '032640': 0.0, '032830': 0.0, '033780': 0.0, '034020': 0.0, '034220': 0.14285714285714285, '034730': 0.0, '035250': 0.0, '036460': 0.0, '036570': 0.0, '039490': 0.0, '047050': 0.0, '051900': 0.0, '051910': 0.0, '052690': 0.0, '055550': 0.0, '066570': 0.0, '068270': 0.0, '071050': 0.0, '078930': 0.0, '086280': 0.0, '086790': 0.14285714285714285, '096770': 0.0, '097950': 0.0, '105560': 0.0, '111770': 0.0, '128940': 0.0, '138040': 0.0, '138930': 0.14285714285714285, '139480': 0.0, '161390': 0.0}\n",
      "Portfolio: {'000270': 0.0, '000660': 0.0, '000720': 0.0, '000810': 0.0, '000880': 0.0, '000990': 0.0, '001450': 0.0, '001570': 0.0, '004020': 0.14285714285714285, '004370': 0.0, '005380': 0.14285714285714285, '005490': 0.14285714285714285, '005830': 0.0, '005940': 0.0, '006260': 0.0, '006400': 0.0, '006800': 0.0, '007070': 0.0, '008770': 0.0, '009150': 0.0, '009830': 0.0, '010120': 0.0, '010130': 0.0, '010620': 0.0, '010950': 0.0, '011070': 0.0, '011170': 0.0, '011780': 0.0, '012330': 0.0, '012450': 0.0, '015760': 0.14285714285714285, '016360': 0.0, '020150': 0.0, '021240': 0.0, '024110': 0.0, '029780': 0.0, '030200': 0.0, '032640': 0.0, '032830': 0.0, '033780': 0.0, '034020': 0.0, '034220': 0.14285714285714285, '034730': 0.0, '035250': 0.0, '036460': 0.0, '036570': 0.0, '039490': 0.0, '047050': 0.0, '051900': 0.0, '051910': 0.0, '052690': 0.0, '055550': 0.0, '066570': 0.0, '068270': 0.0, '071050': 0.0, '078930': 0.0, '086280': 0.0, '086790': 0.14285714285714285, '096770': 0.0, '097950': 0.0, '105560': 0.0, '111770': 0.0, '128940': 0.0, '138040': 0.0, '138930': 0.14285714285714285, '139480': 0.0, '161390': 0.0}\n",
      "Portfolio: {'000270': 0.0, '000660': 0.0, '000720': 0.0, '000810': 0.0, '000880': 0.0, '000990': 0.0, '001450': 0.0, '001570': 0.0, '004020': 0.14285714285714285, '004370': 0.0, '005380': 0.14285714285714285, '005490': 0.14285714285714285, '005830': 0.0, '005940': 0.0, '006260': 0.0, '006400': 0.0, '006800': 0.0, '007070': 0.0, '008770': 0.0, '009150': 0.0, '009830': 0.0, '010120': 0.0, '010130': 0.0, '010620': 0.0, '010950': 0.0, '011070': 0.0, '011170': 0.0, '011780': 0.0, '012330': 0.0, '012450': 0.0, '015760': 0.14285714285714285, '016360': 0.0, '020150': 0.0, '021240': 0.0, '024110': 0.0, '029780': 0.0, '030200': 0.0, '032640': 0.0, '032830': 0.0, '033780': 0.0, '034020': 0.0, '034220': 0.14285714285714285, '034730': 0.0, '035250': 0.0, '036460': 0.0, '036570': 0.0, '039490': 0.0, '047050': 0.0, '051900': 0.0, '051910': 0.0, '052690': 0.0, '055550': 0.0, '066570': 0.0, '068270': 0.0, '071050': 0.0, '078930': 0.0, '086280': 0.0, '086790': 0.14285714285714285, '096770': 0.0, '097950': 0.0, '105560': 0.0, '111770': 0.0, '128940': 0.0, '138040': 0.0, '138930': 0.14285714285714285, '139480': 0.0, '161390': 0.0}\n",
      "Portfolio: {'000270': 0.0, '000660': 0.0, '000720': 0.0, '000810': 0.0, '000880': 0.0, '000990': 0.0, '001450': 0.0, '001570': 0.0, '004020': 0.14285714285714285, '004370': 0.0, '005380': 0.14285714285714285, '005490': 0.14285714285714285, '005830': 0.0, '005940': 0.0, '006260': 0.0, '006400': 0.0, '006800': 0.0, '007070': 0.0, '008770': 0.0, '009150': 0.0, '009830': 0.0, '010120': 0.0, '010130': 0.0, '010620': 0.0, '010950': 0.0, '011070': 0.0, '011170': 0.0, '011780': 0.0, '012330': 0.0, '012450': 0.0, '015760': 0.14285714285714285, '016360': 0.0, '020150': 0.0, '021240': 0.0, '024110': 0.0, '029780': 0.0, '030200': 0.0, '032640': 0.0, '032830': 0.0, '033780': 0.0, '034020': 0.0, '034220': 0.14285714285714285, '034730': 0.0, '035250': 0.0, '036460': 0.0, '036570': 0.0, '039490': 0.0, '047050': 0.0, '051900': 0.0, '051910': 0.0, '052690': 0.0, '055550': 0.0, '066570': 0.0, '068270': 0.0, '071050': 0.0, '078930': 0.0, '086280': 0.0, '086790': 0.14285714285714285, '096770': 0.0, '097950': 0.0, '105560': 0.0, '111770': 0.0, '128940': 0.0, '138040': 0.0, '138930': 0.14285714285714285, '139480': 0.0, '161390': 0.0}\n",
      "Portfolio: {'000270': 0.0, '000660': 0.0, '000720': 0.0, '000810': 0.0, '000880': 0.0, '000990': 0.0, '001450': 0.0, '001570': 0.0, '004020': 0.14285714285714285, '004370': 0.0, '005380': 0.14285714285714285, '005490': 0.14285714285714285, '005830': 0.0, '005940': 0.0, '006260': 0.0, '006400': 0.0, '006800': 0.0, '007070': 0.0, '008770': 0.0, '009150': 0.0, '009830': 0.0, '010120': 0.0, '010130': 0.0, '010620': 0.0, '010950': 0.0, '011070': 0.0, '011170': 0.0, '011780': 0.0, '012330': 0.0, '012450': 0.0, '015760': 0.14285714285714285, '016360': 0.0, '020150': 0.0, '021240': 0.0, '024110': 0.0, '029780': 0.0, '030200': 0.0, '032640': 0.0, '032830': 0.0, '033780': 0.0, '034020': 0.0, '034220': 0.14285714285714285, '034730': 0.0, '035250': 0.0, '036460': 0.0, '036570': 0.0, '039490': 0.0, '047050': 0.0, '051900': 0.0, '051910': 0.0, '052690': 0.0, '055550': 0.0, '066570': 0.0, '068270': 0.0, '071050': 0.0, '078930': 0.0, '086280': 0.0, '086790': 0.14285714285714285, '096770': 0.0, '097950': 0.0, '105560': 0.0, '111770': 0.0, '128940': 0.0, '138040': 0.0, '138930': 0.14285714285714285, '139480': 0.0, '161390': 0.0}\n",
      "Portfolio: {'000270': 0.0, '000660': 0.0, '000720': 0.0, '000810': 0.0, '000880': 0.0, '000990': 0.0, '001450': 0.0, '001570': 0.0, '004020': 0.14285714285714285, '004370': 0.0, '005380': 0.0, '005490': 0.14285714285714285, '005830': 0.0, '005940': 0.0, '006260': 0.0, '006400': 0.0, '006800': 0.0, '007070': 0.0, '008770': 0.0, '009150': 0.0, '009830': 0.0, '010120': 0.0, '010130': 0.0, '010620': 0.0, '010950': 0.0, '011070': 0.0, '011170': 0.0, '011780': 0.0, '012330': 0.0, '012450': 0.0, '015760': 0.14285714285714285, '016360': 0.0, '020150': 0.0, '021240': 0.0, '024110': 0.0, '029780': 0.0, '030200': 0.0, '032640': 0.0, '032830': 0.0, '033780': 0.0, '034020': 0.0, '034220': 0.14285714285714285, '034730': 0.0, '035250': 0.0, '036460': 0.14285714285714285, '036570': 0.0, '039490': 0.0, '047050': 0.0, '051900': 0.0, '051910': 0.0, '052690': 0.0, '055550': 0.0, '066570': 0.0, '068270': 0.0, '071050': 0.0, '078930': 0.0, '086280': 0.0, '086790': 0.14285714285714285, '096770': 0.0, '097950': 0.0, '105560': 0.0, '111770': 0.0, '128940': 0.0, '138040': 0.0, '138930': 0.14285714285714285, '139480': 0.0, '161390': 0.0}\n",
      "Portfolio: {'000270': 0.0, '000660': 0.0, '000720': 0.0, '000810': 0.0, '000880': 0.0, '000990': 0.0, '001450': 0.0, '001570': 0.0, '004020': 0.14285714285714285, '004370': 0.0, '005380': 0.0, '005490': 0.0, '005830': 0.0, '005940': 0.0, '006260': 0.14285714285714285, '006400': 0.0, '006800': 0.0, '007070': 0.0, '008770': 0.0, '009150': 0.0, '009830': 0.0, '010120': 0.0, '010130': 0.0, '010620': 0.0, '010950': 0.0, '011070': 0.0, '011170': 0.0, '011780': 0.0, '012330': 0.0, '012450': 0.0, '015760': 0.14285714285714285, '016360': 0.0, '020150': 0.0, '021240': 0.0, '024110': 0.0, '029780': 0.0, '030200': 0.0, '032640': 0.0, '032830': 0.0, '033780': 0.0, '034020': 0.0, '034220': 0.14285714285714285, '034730': 0.0, '035250': 0.0, '036460': 0.14285714285714285, '036570': 0.0, '039490': 0.0, '047050': 0.0, '051900': 0.0, '051910': 0.0, '052690': 0.0, '055550': 0.0, '066570': 0.0, '068270': 0.0, '071050': 0.0, '078930': 0.0, '086280': 0.0, '086790': 0.14285714285714285, '096770': 0.0, '097950': 0.0, '105560': 0.0, '111770': 0.0, '128940': 0.0, '138040': 0.0, '138930': 0.14285714285714285, '139480': 0.0, '161390': 0.0}\n",
      "Portfolio: {'000270': 0.0, '000660': 0.0, '000720': 0.0, '000810': 0.0, '000880': 0.0, '000990': 0.0, '001450': 0.0, '001570': 0.0, '004020': 0.14285714285714285, '004370': 0.0, '005380': 0.0, '005490': 0.0, '005830': 0.0, '005940': 0.0, '006260': 0.0, '006400': 0.0, '006800': 0.0, '007070': 0.0, '008770': 0.0, '009150': 0.0, '009830': 0.0, '010120': 0.0, '010130': 0.0, '010620': 0.0, '010950': 0.0, '011070': 0.0, '011170': 0.0, '011780': 0.0, '012330': 0.0, '012450': 0.0, '015760': 0.14285714285714285, '016360': 0.0, '020150': 0.0, '021240': 0.0, '024110': 0.0, '029780': 0.0, '030200': 0.0, '032640': 0.0, '032830': 0.0, '033780': 0.0, '034020': 0.0, '034220': 0.14285714285714285, '034730': 0.0, '035250': 0.0, '036460': 0.14285714285714285, '036570': 0.0, '039490': 0.0, '047050': 0.0, '051900': 0.0, '051910': 0.0, '052690': 0.0, '055550': 0.0, '066570': 0.0, '068270': 0.0, '071050': 0.0, '078930': 0.0, '086280': 0.0, '086790': 0.14285714285714285, '096770': 0.0, '097950': 0.0, '105560': 0.0, '111770': 0.0, '128940': 0.0, '138040': 0.0, '138930': 0.14285714285714285, '139480': 0.14285714285714285, '161390': 0.0}\n",
      "Portfolio: {'000270': 0.0, '000660': 0.0, '000720': 0.0, '000810': 0.0, '000880': 0.0, '000990': 0.0, '001450': 0.0, '001570': 0.0, '004020': 0.14285714285714285, '004370': 0.0, '005380': 0.0, '005490': 0.0, '005830': 0.0, '005940': 0.0, '006260': 0.14285714285714285, '006400': 0.0, '006800': 0.0, '007070': 0.0, '008770': 0.0, '009150': 0.0, '009830': 0.0, '010120': 0.0, '010130': 0.0, '010620': 0.0, '010950': 0.0, '011070': 0.0, '011170': 0.0, '011780': 0.0, '012330': 0.0, '012450': 0.0, '015760': 0.14285714285714285, '016360': 0.0, '020150': 0.0, '021240': 0.0, '024110': 0.0, '029780': 0.0, '030200': 0.0, '032640': 0.0, '032830': 0.0, '033780': 0.0, '034020': 0.0, '034220': 0.14285714285714285, '034730': 0.0, '035250': 0.0, '036460': 0.0, '036570': 0.0, '039490': 0.0, '047050': 0.0, '051900': 0.0, '051910': 0.0, '052690': 0.0, '055550': 0.0, '066570': 0.0, '068270': 0.0, '071050': 0.0, '078930': 0.0, '086280': 0.0, '086790': 0.14285714285714285, '096770': 0.0, '097950': 0.0, '105560': 0.0, '111770': 0.0, '128940': 0.0, '138040': 0.0, '138930': 0.14285714285714285, '139480': 0.14285714285714285, '161390': 0.0}\n",
      "Portfolio: {'000270': 0.0, '000660': 0.0, '000720': 0.0, '000810': 0.0, '000880': 0.0, '000990': 0.0, '001450': 0.0, '001570': 0.0, '004020': 0.14285714285714285, '004370': 0.0, '005380': 0.0, '005490': 0.14285714285714285, '005830': 0.0, '005940': 0.0, '006260': 0.0, '006400': 0.0, '006800': 0.0, '007070': 0.0, '008770': 0.0, '009150': 0.0, '009830': 0.0, '010120': 0.0, '010130': 0.0, '010620': 0.0, '010950': 0.0, '011070': 0.0, '011170': 0.0, '011780': 0.0, '012330': 0.0, '012450': 0.0, '015760': 0.14285714285714285, '016360': 0.0, '020150': 0.0, '021240': 0.0, '024110': 0.0, '029780': 0.0, '030200': 0.0, '032640': 0.0, '032830': 0.0, '033780': 0.0, '034020': 0.0, '034220': 0.14285714285714285, '034730': 0.0, '035250': 0.0, '036460': 0.0, '036570': 0.0, '039490': 0.0, '047050': 0.0, '051900': 0.0, '051910': 0.0, '052690': 0.0, '055550': 0.0, '066570': 0.0, '068270': 0.0, '071050': 0.0, '078930': 0.0, '086280': 0.0, '086790': 0.14285714285714285, '096770': 0.0, '097950': 0.0, '105560': 0.0, '111770': 0.0, '128940': 0.0, '138040': 0.0, '138930': 0.14285714285714285, '139480': 0.14285714285714285, '161390': 0.0}\n",
      "Portfolio: {'000270': 0.0, '000660': 0.0, '000720': 0.0, '000810': 0.0, '000880': 0.0, '000990': 0.0, '001450': 0.0, '001570': 0.0, '004020': 0.14285714285714285, '004370': 0.0, '005380': 0.0, '005490': 0.0, '005830': 0.0, '005940': 0.0, '006260': 0.0, '006400': 0.0, '006800': 0.0, '007070': 0.0, '008770': 0.0, '009150': 0.0, '009830': 0.0, '010120': 0.0, '010130': 0.0, '010620': 0.0, '010950': 0.0, '011070': 0.0, '011170': 0.0, '011780': 0.0, '012330': 0.0, '012450': 0.0, '015760': 0.14285714285714285, '016360': 0.0, '020150': 0.0, '021240': 0.0, '024110': 0.0, '029780': 0.0, '030200': 0.0, '032640': 0.0, '032830': 0.0, '033780': 0.0, '034020': 0.0, '034220': 0.14285714285714285, '034730': 0.0, '035250': 0.0, '036460': 0.14285714285714285, '036570': 0.0, '039490': 0.0, '047050': 0.0, '051900': 0.0, '051910': 0.0, '052690': 0.0, '055550': 0.0, '066570': 0.0, '068270': 0.0, '071050': 0.0, '078930': 0.0, '086280': 0.0, '086790': 0.14285714285714285, '096770': 0.0, '097950': 0.0, '105560': 0.0, '111770': 0.0, '128940': 0.0, '138040': 0.0, '138930': 0.14285714285714285, '139480': 0.14285714285714285, '161390': 0.0}\n",
      "Portfolio: {'000270': 0.0, '000660': 0.0, '000720': 0.0, '000810': 0.0, '000880': 0.0, '000990': 0.0, '001450': 0.0, '001570': 0.0, '004020': 0.14285714285714285, '004370': 0.0, '005380': 0.0, '005490': 0.14285714285714285, '005830': 0.0, '005940': 0.0, '006260': 0.0, '006400': 0.0, '006800': 0.0, '007070': 0.0, '008770': 0.0, '009150': 0.0, '009830': 0.0, '010120': 0.0, '010130': 0.0, '010620': 0.0, '010950': 0.0, '011070': 0.0, '011170': 0.0, '011780': 0.0, '012330': 0.0, '012450': 0.0, '015760': 0.14285714285714285, '016360': 0.0, '020150': 0.0, '021240': 0.0, '024110': 0.0, '029780': 0.0, '030200': 0.0, '032640': 0.0, '032830': 0.0, '033780': 0.0, '034020': 0.0, '034220': 0.14285714285714285, '034730': 0.0, '035250': 0.0, '036460': 0.0, '036570': 0.0, '039490': 0.0, '047050': 0.0, '051900': 0.0, '051910': 0.0, '052690': 0.0, '055550': 0.0, '066570': 0.0, '068270': 0.0, '071050': 0.0, '078930': 0.0, '086280': 0.0, '086790': 0.14285714285714285, '096770': 0.0, '097950': 0.0, '105560': 0.0, '111770': 0.0, '128940': 0.0, '138040': 0.0, '138930': 0.14285714285714285, '139480': 0.14285714285714285, '161390': 0.0}\n",
      "Portfolio: {'000270': 0.0, '000660': 0.0, '000720': 0.0, '000810': 0.0, '000880': 0.0, '000990': 0.0, '001450': 0.0, '001570': 0.0, '004020': 0.14285714285714285, '004370': 0.0, '005380': 0.0, '005490': 0.0, '005830': 0.0, '005940': 0.0, '006260': 0.0, '006400': 0.0, '006800': 0.0, '007070': 0.0, '008770': 0.0, '009150': 0.0, '009830': 0.0, '010120': 0.0, '010130': 0.0, '010620': 0.0, '010950': 0.0, '011070': 0.0, '011170': 0.0, '011780': 0.0, '012330': 0.0, '012450': 0.0, '015760': 0.14285714285714285, '016360': 0.0, '020150': 0.0, '021240': 0.0, '024110': 0.0, '029780': 0.0, '030200': 0.0, '032640': 0.0, '032830': 0.0, '033780': 0.0, '034020': 0.0, '034220': 0.14285714285714285, '034730': 0.0, '035250': 0.0, '036460': 0.14285714285714285, '036570': 0.0, '039490': 0.0, '047050': 0.0, '051900': 0.0, '051910': 0.0, '052690': 0.0, '055550': 0.0, '066570': 0.0, '068270': 0.0, '071050': 0.0, '078930': 0.0, '086280': 0.0, '086790': 0.14285714285714285, '096770': 0.0, '097950': 0.0, '105560': 0.0, '111770': 0.0, '128940': 0.0, '138040': 0.0, '138930': 0.14285714285714285, '139480': 0.14285714285714285, '161390': 0.0}\n",
      "Portfolio: {'000270': 0.0, '000660': 0.0, '000720': 0.0, '000810': 0.0, '000880': 0.0, '000990': 0.0, '001450': 0.0, '001570': 0.0, '004020': 0.14285714285714285, '004370': 0.0, '005380': 0.0, '005490': 0.0, '005830': 0.0, '005940': 0.0, '006260': 0.0, '006400': 0.0, '006800': 0.0, '007070': 0.0, '008770': 0.0, '009150': 0.0, '009830': 0.0, '010120': 0.0, '010130': 0.0, '010620': 0.0, '010950': 0.0, '011070': 0.0, '011170': 0.0, '011780': 0.0, '012330': 0.0, '012450': 0.0, '015760': 0.14285714285714285, '016360': 0.0, '020150': 0.0, '021240': 0.0, '024110': 0.0, '029780': 0.0, '030200': 0.0, '032640': 0.0, '032830': 0.0, '033780': 0.0, '034020': 0.0, '034220': 0.14285714285714285, '034730': 0.0, '035250': 0.0, '036460': 0.14285714285714285, '036570': 0.0, '039490': 0.0, '047050': 0.0, '051900': 0.0, '051910': 0.0, '052690': 0.0, '055550': 0.0, '066570': 0.0, '068270': 0.0, '071050': 0.0, '078930': 0.0, '086280': 0.0, '086790': 0.14285714285714285, '096770': 0.0, '097950': 0.0, '105560': 0.0, '111770': 0.0, '128940': 0.0, '138040': 0.0, '138930': 0.14285714285714285, '139480': 0.14285714285714285, '161390': 0.0}\n",
      "Portfolio: {'000270': 0.0, '000660': 0.0, '000720': 0.0, '000810': 0.0, '000880': 0.0, '000990': 0.0, '001450': 0.0, '001570': 0.0, '004020': 0.14285714285714285, '004370': 0.0, '005380': 0.0, '005490': 0.0, '005830': 0.0, '005940': 0.0, '006260': 0.0, '006400': 0.0, '006800': 0.0, '007070': 0.0, '008770': 0.0, '009150': 0.0, '009830': 0.0, '010120': 0.0, '010130': 0.0, '010620': 0.0, '010950': 0.0, '011070': 0.0, '011170': 0.0, '011780': 0.0, '012330': 0.0, '012450': 0.0, '015760': 0.14285714285714285, '016360': 0.0, '020150': 0.0, '021240': 0.0, '024110': 0.0, '029780': 0.0, '030200': 0.0, '032640': 0.0, '032830': 0.0, '033780': 0.0, '034020': 0.0, '034220': 0.14285714285714285, '034730': 0.0, '035250': 0.0, '036460': 0.14285714285714285, '036570': 0.0, '039490': 0.0, '047050': 0.0, '051900': 0.0, '051910': 0.0, '052690': 0.0, '055550': 0.0, '066570': 0.0, '068270': 0.0, '071050': 0.0, '078930': 0.0, '086280': 0.0, '086790': 0.14285714285714285, '096770': 0.0, '097950': 0.0, '105560': 0.0, '111770': 0.0, '128940': 0.0, '138040': 0.0, '138930': 0.14285714285714285, '139480': 0.14285714285714285, '161390': 0.0}\n",
      "Portfolio: {'000270': 0.0, '000660': 0.0, '000720': 0.0, '000810': 0.0, '000880': 0.0, '000990': 0.0, '001450': 0.0, '001570': 0.0, '004020': 0.14285714285714285, '004370': 0.0, '005380': 0.0, '005490': 0.0, '005830': 0.0, '005940': 0.0, '006260': 0.0, '006400': 0.0, '006800': 0.0, '007070': 0.0, '008770': 0.0, '009150': 0.0, '009830': 0.0, '010120': 0.0, '010130': 0.0, '010620': 0.0, '010950': 0.0, '011070': 0.0, '011170': 0.0, '011780': 0.0, '012330': 0.0, '012450': 0.0, '015760': 0.14285714285714285, '016360': 0.0, '020150': 0.0, '021240': 0.0, '024110': 0.0, '029780': 0.0, '030200': 0.0, '032640': 0.0, '032830': 0.0, '033780': 0.0, '034020': 0.0, '034220': 0.14285714285714285, '034730': 0.0, '035250': 0.0, '036460': 0.14285714285714285, '036570': 0.0, '039490': 0.0, '047050': 0.0, '051900': 0.0, '051910': 0.0, '052690': 0.0, '055550': 0.0, '066570': 0.0, '068270': 0.0, '071050': 0.0, '078930': 0.0, '086280': 0.0, '086790': 0.14285714285714285, '096770': 0.0, '097950': 0.0, '105560': 0.0, '111770': 0.0, '128940': 0.0, '138040': 0.0, '138930': 0.14285714285714285, '139480': 0.14285714285714285, '161390': 0.0}\n",
      "Portfolio: {'000270': 0.0, '000660': 0.0, '000720': 0.0, '000810': 0.0, '000880': 0.0, '000990': 0.0, '001450': 0.0, '001570': 0.0, '004020': 0.14285714285714285, '004370': 0.0, '005380': 0.0, '005490': 0.0, '005830': 0.0, '005940': 0.0, '006260': 0.14285714285714285, '006400': 0.0, '006800': 0.0, '007070': 0.0, '008770': 0.0, '009150': 0.0, '009830': 0.0, '010120': 0.0, '010130': 0.0, '010620': 0.0, '010950': 0.0, '011070': 0.0, '011170': 0.0, '011780': 0.0, '012330': 0.0, '012450': 0.0, '015760': 0.14285714285714285, '016360': 0.0, '020150': 0.0, '021240': 0.0, '024110': 0.0, '029780': 0.0, '030200': 0.0, '032640': 0.0, '032830': 0.0, '033780': 0.0, '034020': 0.0, '034220': 0.14285714285714285, '034730': 0.0, '035250': 0.0, '036460': 0.14285714285714285, '036570': 0.0, '039490': 0.0, '047050': 0.0, '051900': 0.0, '051910': 0.0, '052690': 0.0, '055550': 0.0, '066570': 0.0, '068270': 0.0, '071050': 0.0, '078930': 0.0, '086280': 0.0, '086790': 0.14285714285714285, '096770': 0.0, '097950': 0.0, '105560': 0.0, '111770': 0.0, '128940': 0.0, '138040': 0.0, '138930': 0.14285714285714285, '139480': 0.0, '161390': 0.0}\n",
      "Portfolio: {'000270': 0.0, '000660': 0.0, '000720': 0.0, '000810': 0.0, '000880': 0.0, '000990': 0.0, '001450': 0.0, '001570': 0.0, '004020': 0.14285714285714285, '004370': 0.0, '005380': 0.0, '005490': 0.0, '005830': 0.0, '005940': 0.0, '006260': 0.0, '006400': 0.0, '006800': 0.0, '007070': 0.0, '008770': 0.0, '009150': 0.0, '009830': 0.0, '010120': 0.0, '010130': 0.0, '010620': 0.0, '010950': 0.0, '011070': 0.0, '011170': 0.0, '011780': 0.0, '012330': 0.0, '012450': 0.0, '015760': 0.14285714285714285, '016360': 0.0, '020150': 0.0, '021240': 0.0, '024110': 0.14285714285714285, '029780': 0.0, '030200': 0.0, '032640': 0.0, '032830': 0.0, '033780': 0.0, '034020': 0.0, '034220': 0.14285714285714285, '034730': 0.0, '035250': 0.0, '036460': 0.14285714285714285, '036570': 0.0, '039490': 0.0, '047050': 0.0, '051900': 0.0, '051910': 0.0, '052690': 0.0, '055550': 0.0, '066570': 0.0, '068270': 0.0, '071050': 0.0, '078930': 0.0, '086280': 0.0, '086790': 0.14285714285714285, '096770': 0.0, '097950': 0.0, '105560': 0.0, '111770': 0.0, '128940': 0.0, '138040': 0.0, '138930': 0.14285714285714285, '139480': 0.0, '161390': 0.0}\n",
      "Portfolio: {'000270': 0.0, '000660': 0.0, '000720': 0.0, '000810': 0.0, '000880': 0.0, '000990': 0.0, '001450': 0.0, '001570': 0.0, '004020': 0.14285714285714285, '004370': 0.0, '005380': 0.0, '005490': 0.0, '005830': 0.0, '005940': 0.0, '006260': 0.0, '006400': 0.0, '006800': 0.0, '007070': 0.0, '008770': 0.0, '009150': 0.0, '009830': 0.0, '010120': 0.0, '010130': 0.0, '010620': 0.0, '010950': 0.0, '011070': 0.0, '011170': 0.0, '011780': 0.0, '012330': 0.0, '012450': 0.0, '015760': 0.14285714285714285, '016360': 0.0, '020150': 0.0, '021240': 0.0, '024110': 0.14285714285714285, '029780': 0.0, '030200': 0.0, '032640': 0.0, '032830': 0.14285714285714285, '033780': 0.0, '034020': 0.0, '034220': 0.14285714285714285, '034730': 0.0, '035250': 0.0, '036460': 0.0, '036570': 0.0, '039490': 0.0, '047050': 0.0, '051900': 0.0, '051910': 0.0, '052690': 0.0, '055550': 0.0, '066570': 0.0, '068270': 0.0, '071050': 0.0, '078930': 0.0, '086280': 0.0, '086790': 0.14285714285714285, '096770': 0.0, '097950': 0.0, '105560': 0.0, '111770': 0.0, '128940': 0.0, '138040': 0.0, '138930': 0.14285714285714285, '139480': 0.0, '161390': 0.0}\n",
      "Portfolio: {'000270': 0.0, '000660': 0.0, '000720': 0.0, '000810': 0.0, '000880': 0.0, '000990': 0.0, '001450': 0.0, '001570': 0.0, '004020': 0.14285714285714285, '004370': 0.0, '005380': 0.0, '005490': 0.0, '005830': 0.0, '005940': 0.0, '006260': 0.0, '006400': 0.0, '006800': 0.0, '007070': 0.0, '008770': 0.0, '009150': 0.0, '009830': 0.0, '010120': 0.0, '010130': 0.0, '010620': 0.0, '010950': 0.0, '011070': 0.0, '011170': 0.0, '011780': 0.0, '012330': 0.0, '012450': 0.0, '015760': 0.14285714285714285, '016360': 0.0, '020150': 0.0, '021240': 0.0, '024110': 0.14285714285714285, '029780': 0.0, '030200': 0.0, '032640': 0.0, '032830': 0.14285714285714285, '033780': 0.0, '034020': 0.0, '034220': 0.0, '034730': 0.0, '035250': 0.0, '036460': 0.14285714285714285, '036570': 0.0, '039490': 0.0, '047050': 0.0, '051900': 0.0, '051910': 0.0, '052690': 0.0, '055550': 0.0, '066570': 0.0, '068270': 0.0, '071050': 0.0, '078930': 0.0, '086280': 0.0, '086790': 0.14285714285714285, '096770': 0.0, '097950': 0.0, '105560': 0.0, '111770': 0.0, '128940': 0.0, '138040': 0.0, '138930': 0.14285714285714285, '139480': 0.0, '161390': 0.0}\n",
      "Portfolio: {'000270': 0.0, '000660': 0.0, '000720': 0.0, '000810': 0.0, '000880': 0.0, '000990': 0.0, '001450': 0.0, '001570': 0.0, '004020': 0.14285714285714285, '004370': 0.0, '005380': 0.0, '005490': 0.0, '005830': 0.0, '005940': 0.0, '006260': 0.0, '006400': 0.0, '006800': 0.0, '007070': 0.0, '008770': 0.0, '009150': 0.0, '009830': 0.0, '010120': 0.0, '010130': 0.0, '010620': 0.0, '010950': 0.0, '011070': 0.0, '011170': 0.0, '011780': 0.0, '012330': 0.0, '012450': 0.0, '015760': 0.14285714285714285, '016360': 0.0, '020150': 0.0, '021240': 0.0, '024110': 0.14285714285714285, '029780': 0.0, '030200': 0.0, '032640': 0.0, '032830': 0.14285714285714285, '033780': 0.0, '034020': 0.0, '034220': 0.0, '034730': 0.0, '035250': 0.0, '036460': 0.14285714285714285, '036570': 0.0, '039490': 0.0, '047050': 0.0, '051900': 0.0, '051910': 0.0, '052690': 0.0, '055550': 0.0, '066570': 0.0, '068270': 0.0, '071050': 0.0, '078930': 0.0, '086280': 0.0, '086790': 0.14285714285714285, '096770': 0.0, '097950': 0.0, '105560': 0.0, '111770': 0.0, '128940': 0.0, '138040': 0.0, '138930': 0.14285714285714285, '139480': 0.0, '161390': 0.0}\n",
      "Portfolio: {'000270': 0.0, '000660': 0.0, '000720': 0.0, '000810': 0.0, '000880': 0.0, '000990': 0.0, '001450': 0.0, '001570': 0.0, '004020': 0.14285714285714285, '004370': 0.0, '005380': 0.0, '005490': 0.0, '005830': 0.0, '005940': 0.0, '006260': 0.0, '006400': 0.0, '006800': 0.0, '007070': 0.0, '008770': 0.0, '009150': 0.0, '009830': 0.0, '010120': 0.0, '010130': 0.0, '010620': 0.0, '010950': 0.0, '011070': 0.0, '011170': 0.0, '011780': 0.0, '012330': 0.0, '012450': 0.0, '015760': 0.14285714285714285, '016360': 0.0, '020150': 0.0, '021240': 0.0, '024110': 0.14285714285714285, '029780': 0.0, '030200': 0.0, '032640': 0.0, '032830': 0.14285714285714285, '033780': 0.0, '034020': 0.0, '034220': 0.0, '034730': 0.0, '035250': 0.0, '036460': 0.14285714285714285, '036570': 0.0, '039490': 0.0, '047050': 0.0, '051900': 0.0, '051910': 0.0, '052690': 0.0, '055550': 0.0, '066570': 0.0, '068270': 0.0, '071050': 0.0, '078930': 0.0, '086280': 0.0, '086790': 0.14285714285714285, '096770': 0.0, '097950': 0.0, '105560': 0.0, '111770': 0.0, '128940': 0.0, '138040': 0.0, '138930': 0.14285714285714285, '139480': 0.0, '161390': 0.0}\n",
      "Portfolio: {'000270': 0.0, '000660': 0.0, '000720': 0.0, '000810': 0.0, '000880': 0.0, '000990': 0.0, '001450': 0.0, '001570': 0.0, '004020': 0.14285714285714285, '004370': 0.0, '005380': 0.0, '005490': 0.0, '005830': 0.0, '005940': 0.0, '006260': 0.0, '006400': 0.0, '006800': 0.0, '007070': 0.0, '008770': 0.0, '009150': 0.0, '009830': 0.0, '010120': 0.0, '010130': 0.0, '010620': 0.0, '010950': 0.0, '011070': 0.0, '011170': 0.0, '011780': 0.0, '012330': 0.0, '012450': 0.0, '015760': 0.14285714285714285, '016360': 0.0, '020150': 0.0, '021240': 0.0, '024110': 0.14285714285714285, '029780': 0.0, '030200': 0.0, '032640': 0.0, '032830': 0.0, '033780': 0.0, '034020': 0.0, '034220': 0.0, '034730': 0.0, '035250': 0.0, '036460': 0.14285714285714285, '036570': 0.0, '039490': 0.0, '047050': 0.0, '051900': 0.0, '051910': 0.0, '052690': 0.0, '055550': 0.0, '066570': 0.0, '068270': 0.0, '071050': 0.0, '078930': 0.14285714285714285, '086280': 0.0, '086790': 0.14285714285714285, '096770': 0.0, '097950': 0.0, '105560': 0.0, '111770': 0.0, '128940': 0.0, '138040': 0.0, '138930': 0.14285714285714285, '139480': 0.0, '161390': 0.0}\n",
      "Portfolio: {'000270': 0.0, '000660': 0.0, '000720': 0.0, '000810': 0.0, '000880': 0.0, '000990': 0.0, '001450': 0.0, '001570': 0.0, '004020': 0.14285714285714285, '004370': 0.0, '005380': 0.0, '005490': 0.0, '005830': 0.0, '005940': 0.0, '006260': 0.0, '006400': 0.0, '006800': 0.0, '007070': 0.0, '008770': 0.0, '009150': 0.0, '009830': 0.0, '010120': 0.0, '010130': 0.0, '010620': 0.0, '010950': 0.0, '011070': 0.0, '011170': 0.0, '011780': 0.0, '012330': 0.0, '012450': 0.0, '015760': 0.14285714285714285, '016360': 0.0, '020150': 0.0, '021240': 0.0, '024110': 0.14285714285714285, '029780': 0.0, '030200': 0.0, '032640': 0.0, '032830': 0.0, '033780': 0.0, '034020': 0.0, '034220': 0.0, '034730': 0.0, '035250': 0.0, '036460': 0.14285714285714285, '036570': 0.0, '039490': 0.0, '047050': 0.0, '051900': 0.0, '051910': 0.0, '052690': 0.0, '055550': 0.0, '066570': 0.0, '068270': 0.0, '071050': 0.0, '078930': 0.14285714285714285, '086280': 0.0, '086790': 0.14285714285714285, '096770': 0.0, '097950': 0.0, '105560': 0.0, '111770': 0.0, '128940': 0.0, '138040': 0.0, '138930': 0.14285714285714285, '139480': 0.0, '161390': 0.0}\n",
      "Portfolio: {'000270': 0.0, '000660': 0.0, '000720': 0.0, '000810': 0.0, '000880': 0.0, '000990': 0.0, '001450': 0.0, '001570': 0.0, '004020': 0.14285714285714285, '004370': 0.0, '005380': 0.0, '005490': 0.0, '005830': 0.0, '005940': 0.0, '006260': 0.0, '006400': 0.0, '006800': 0.0, '007070': 0.0, '008770': 0.0, '009150': 0.0, '009830': 0.0, '010120': 0.0, '010130': 0.0, '010620': 0.0, '010950': 0.0, '011070': 0.0, '011170': 0.0, '011780': 0.0, '012330': 0.0, '012450': 0.0, '015760': 0.14285714285714285, '016360': 0.0, '020150': 0.0, '021240': 0.0, '024110': 0.14285714285714285, '029780': 0.0, '030200': 0.0, '032640': 0.0, '032830': 0.0, '033780': 0.0, '034020': 0.0, '034220': 0.0, '034730': 0.0, '035250': 0.0, '036460': 0.14285714285714285, '036570': 0.0, '039490': 0.0, '047050': 0.0, '051900': 0.0, '051910': 0.0, '052690': 0.0, '055550': 0.0, '066570': 0.0, '068270': 0.0, '071050': 0.0, '078930': 0.14285714285714285, '086280': 0.0, '086790': 0.14285714285714285, '096770': 0.0, '097950': 0.0, '105560': 0.0, '111770': 0.0, '128940': 0.0, '138040': 0.0, '138930': 0.14285714285714285, '139480': 0.0, '161390': 0.0}\n",
      "Portfolio: {'000270': 0.0, '000660': 0.0, '000720': 0.0, '000810': 0.0, '000880': 0.0, '000990': 0.0, '001450': 0.0, '001570': 0.0, '004020': 0.14285714285714285, '004370': 0.0, '005380': 0.0, '005490': 0.0, '005830': 0.0, '005940': 0.0, '006260': 0.0, '006400': 0.0, '006800': 0.0, '007070': 0.0, '008770': 0.0, '009150': 0.0, '009830': 0.0, '010120': 0.0, '010130': 0.0, '010620': 0.0, '010950': 0.0, '011070': 0.0, '011170': 0.0, '011780': 0.0, '012330': 0.0, '012450': 0.0, '015760': 0.14285714285714285, '016360': 0.0, '020150': 0.0, '021240': 0.0, '024110': 0.14285714285714285, '029780': 0.0, '030200': 0.0, '032640': 0.0, '032830': 0.0, '033780': 0.0, '034020': 0.0, '034220': 0.0, '034730': 0.0, '035250': 0.0, '036460': 0.14285714285714285, '036570': 0.0, '039490': 0.0, '047050': 0.0, '051900': 0.0, '051910': 0.0, '052690': 0.0, '055550': 0.0, '066570': 0.0, '068270': 0.0, '071050': 0.0, '078930': 0.14285714285714285, '086280': 0.0, '086790': 0.14285714285714285, '096770': 0.0, '097950': 0.0, '105560': 0.0, '111770': 0.0, '128940': 0.0, '138040': 0.0, '138930': 0.14285714285714285, '139480': 0.0, '161390': 0.0}\n",
      "Portfolio: {'000270': 0.0, '000660': 0.0, '000720': 0.0, '000810': 0.0, '000880': 0.0, '000990': 0.0, '001450': 0.0, '001570': 0.0, '004020': 0.14285714285714285, '004370': 0.0, '005380': 0.0, '005490': 0.0, '005830': 0.0, '005940': 0.0, '006260': 0.0, '006400': 0.0, '006800': 0.0, '007070': 0.0, '008770': 0.0, '009150': 0.0, '009830': 0.0, '010120': 0.0, '010130': 0.0, '010620': 0.0, '010950': 0.0, '011070': 0.0, '011170': 0.0, '011780': 0.0, '012330': 0.0, '012450': 0.0, '015760': 0.14285714285714285, '016360': 0.0, '020150': 0.0, '021240': 0.0, '024110': 0.14285714285714285, '029780': 0.0, '030200': 0.0, '032640': 0.0, '032830': 0.0, '033780': 0.0, '034020': 0.0, '034220': 0.0, '034730': 0.0, '035250': 0.0, '036460': 0.14285714285714285, '036570': 0.0, '039490': 0.0, '047050': 0.0, '051900': 0.0, '051910': 0.0, '052690': 0.0, '055550': 0.14285714285714285, '066570': 0.0, '068270': 0.0, '071050': 0.0, '078930': 0.0, '086280': 0.0, '086790': 0.14285714285714285, '096770': 0.0, '097950': 0.0, '105560': 0.0, '111770': 0.0, '128940': 0.0, '138040': 0.0, '138930': 0.14285714285714285, '139480': 0.0, '161390': 0.0}\n",
      "Portfolio: {'000270': 0.0, '000660': 0.0, '000720': 0.0, '000810': 0.0, '000880': 0.0, '000990': 0.0, '001450': 0.0, '001570': 0.0, '004020': 0.14285714285714285, '004370': 0.0, '005380': 0.0, '005490': 0.0, '005830': 0.0, '005940': 0.0, '006260': 0.0, '006400': 0.0, '006800': 0.0, '007070': 0.0, '008770': 0.0, '009150': 0.0, '009830': 0.0, '010120': 0.0, '010130': 0.0, '010620': 0.0, '010950': 0.0, '011070': 0.0, '011170': 0.0, '011780': 0.0, '012330': 0.0, '012450': 0.0, '015760': 0.14285714285714285, '016360': 0.0, '020150': 0.0, '021240': 0.0, '024110': 0.14285714285714285, '029780': 0.0, '030200': 0.0, '032640': 0.0, '032830': 0.0, '033780': 0.0, '034020': 0.0, '034220': 0.0, '034730': 0.0, '035250': 0.0, '036460': 0.14285714285714285, '036570': 0.0, '039490': 0.0, '047050': 0.0, '051900': 0.0, '051910': 0.0, '052690': 0.0, '055550': 0.14285714285714285, '066570': 0.0, '068270': 0.0, '071050': 0.0, '078930': 0.0, '086280': 0.0, '086790': 0.14285714285714285, '096770': 0.0, '097950': 0.0, '105560': 0.0, '111770': 0.0, '128940': 0.0, '138040': 0.0, '138930': 0.14285714285714285, '139480': 0.0, '161390': 0.0}\n",
      "Portfolio: {'000270': 0.0, '000660': 0.0, '000720': 0.0, '000810': 0.0, '000880': 0.0, '000990': 0.0, '001450': 0.0, '001570': 0.0, '004020': 0.14285714285714285, '004370': 0.0, '005380': 0.0, '005490': 0.0, '005830': 0.0, '005940': 0.0, '006260': 0.0, '006400': 0.0, '006800': 0.0, '007070': 0.0, '008770': 0.0, '009150': 0.0, '009830': 0.0, '010120': 0.0, '010130': 0.0, '010620': 0.0, '010950': 0.0, '011070': 0.0, '011170': 0.0, '011780': 0.0, '012330': 0.0, '012450': 0.0, '015760': 0.14285714285714285, '016360': 0.0, '020150': 0.0, '021240': 0.0, '024110': 0.14285714285714285, '029780': 0.0, '030200': 0.0, '032640': 0.0, '032830': 0.14285714285714285, '033780': 0.0, '034020': 0.0, '034220': 0.0, '034730': 0.0, '035250': 0.0, '036460': 0.14285714285714285, '036570': 0.0, '039490': 0.0, '047050': 0.0, '051900': 0.0, '051910': 0.0, '052690': 0.0, '055550': 0.0, '066570': 0.0, '068270': 0.0, '071050': 0.0, '078930': 0.14285714285714285, '086280': 0.0, '086790': 0.0, '096770': 0.0, '097950': 0.0, '105560': 0.0, '111770': 0.0, '128940': 0.0, '138040': 0.0, '138930': 0.14285714285714285, '139480': 0.0, '161390': 0.0}\n",
      "Portfolio: {'000270': 0.0, '000660': 0.0, '000720': 0.0, '000810': 0.0, '000880': 0.0, '000990': 0.0, '001450': 0.0, '001570': 0.0, '004020': 0.14285714285714285, '004370': 0.0, '005380': 0.0, '005490': 0.0, '005830': 0.0, '005940': 0.0, '006260': 0.0, '006400': 0.0, '006800': 0.0, '007070': 0.0, '008770': 0.0, '009150': 0.0, '009830': 0.0, '010120': 0.0, '010130': 0.0, '010620': 0.0, '010950': 0.0, '011070': 0.0, '011170': 0.0, '011780': 0.0, '012330': 0.0, '012450': 0.0, '015760': 0.14285714285714285, '016360': 0.0, '020150': 0.0, '021240': 0.0, '024110': 0.14285714285714285, '029780': 0.0, '030200': 0.0, '032640': 0.0, '032830': 0.14285714285714285, '033780': 0.0, '034020': 0.0, '034220': 0.0, '034730': 0.0, '035250': 0.0, '036460': 0.14285714285714285, '036570': 0.0, '039490': 0.0, '047050': 0.0, '051900': 0.0, '051910': 0.0, '052690': 0.0, '055550': 0.0, '066570': 0.0, '068270': 0.0, '071050': 0.0, '078930': 0.14285714285714285, '086280': 0.0, '086790': 0.0, '096770': 0.0, '097950': 0.0, '105560': 0.0, '111770': 0.0, '128940': 0.0, '138040': 0.0, '138930': 0.14285714285714285, '139480': 0.0, '161390': 0.0}\n",
      "Portfolio: {'000270': 0.0, '000660': 0.0, '000720': 0.0, '000810': 0.0, '000880': 0.0, '000990': 0.0, '001450': 0.14285714285714285, '001570': 0.0, '004020': 0.14285714285714285, '004370': 0.0, '005380': 0.0, '005490': 0.0, '005830': 0.0, '005940': 0.0, '006260': 0.0, '006400': 0.0, '006800': 0.0, '007070': 0.0, '008770': 0.0, '009150': 0.0, '009830': 0.0, '010120': 0.0, '010130': 0.0, '010620': 0.0, '010950': 0.0, '011070': 0.0, '011170': 0.0, '011780': 0.0, '012330': 0.0, '012450': 0.0, '015760': 0.14285714285714285, '016360': 0.0, '020150': 0.0, '021240': 0.0, '024110': 0.14285714285714285, '029780': 0.0, '030200': 0.0, '032640': 0.0, '032830': 0.14285714285714285, '033780': 0.0, '034020': 0.0, '034220': 0.0, '034730': 0.0, '035250': 0.0, '036460': 0.14285714285714285, '036570': 0.0, '039490': 0.0, '047050': 0.0, '051900': 0.0, '051910': 0.0, '052690': 0.0, '055550': 0.0, '066570': 0.0, '068270': 0.0, '071050': 0.0, '078930': 0.0, '086280': 0.0, '086790': 0.0, '096770': 0.0, '097950': 0.0, '105560': 0.0, '111770': 0.0, '128940': 0.0, '138040': 0.0, '138930': 0.14285714285714285, '139480': 0.0, '161390': 0.0}\n",
      "Portfolio: {'000270': 0.0, '000660': 0.0, '000720': 0.0, '000810': 0.0, '000880': 0.0, '000990': 0.0, '001450': 0.0, '001570': 0.0, '004020': 0.14285714285714285, '004370': 0.0, '005380': 0.0, '005490': 0.0, '005830': 0.0, '005940': 0.0, '006260': 0.0, '006400': 0.0, '006800': 0.0, '007070': 0.0, '008770': 0.0, '009150': 0.0, '009830': 0.0, '010120': 0.0, '010130': 0.0, '010620': 0.0, '010950': 0.0, '011070': 0.0, '011170': 0.0, '011780': 0.0, '012330': 0.0, '012450': 0.0, '015760': 0.14285714285714285, '016360': 0.0, '020150': 0.0, '021240': 0.0, '024110': 0.14285714285714285, '029780': 0.0, '030200': 0.0, '032640': 0.0, '032830': 0.14285714285714285, '033780': 0.0, '034020': 0.0, '034220': 0.0, '034730': 0.0, '035250': 0.0, '036460': 0.14285714285714285, '036570': 0.0, '039490': 0.0, '047050': 0.0, '051900': 0.0, '051910': 0.0, '052690': 0.0, '055550': 0.0, '066570': 0.0, '068270': 0.0, '071050': 0.0, '078930': 0.0, '086280': 0.0, '086790': 0.14285714285714285, '096770': 0.0, '097950': 0.0, '105560': 0.0, '111770': 0.0, '128940': 0.0, '138040': 0.0, '138930': 0.14285714285714285, '139480': 0.0, '161390': 0.0}\n",
      "Portfolio: {'000270': 0.0, '000660': 0.0, '000720': 0.0, '000810': 0.0, '000880': 0.0, '000990': 0.0, '001450': 0.0, '001570': 0.0, '004020': 0.14285714285714285, '004370': 0.0, '005380': 0.0, '005490': 0.0, '005830': 0.0, '005940': 0.0, '006260': 0.0, '006400': 0.0, '006800': 0.0, '007070': 0.0, '008770': 0.0, '009150': 0.0, '009830': 0.0, '010120': 0.0, '010130': 0.0, '010620': 0.0, '010950': 0.0, '011070': 0.0, '011170': 0.0, '011780': 0.0, '012330': 0.0, '012450': 0.0, '015760': 0.14285714285714285, '016360': 0.0, '020150': 0.0, '021240': 0.0, '024110': 0.14285714285714285, '029780': 0.0, '030200': 0.0, '032640': 0.0, '032830': 0.14285714285714285, '033780': 0.0, '034020': 0.0, '034220': 0.0, '034730': 0.0, '035250': 0.0, '036460': 0.14285714285714285, '036570': 0.0, '039490': 0.0, '047050': 0.0, '051900': 0.0, '051910': 0.0, '052690': 0.0, '055550': 0.0, '066570': 0.0, '068270': 0.0, '071050': 0.0, '078930': 0.0, '086280': 0.0, '086790': 0.14285714285714285, '096770': 0.0, '097950': 0.0, '105560': 0.0, '111770': 0.0, '128940': 0.0, '138040': 0.0, '138930': 0.14285714285714285, '139480': 0.0, '161390': 0.0}\n",
      "Portfolio: {'000270': 0.0, '000660': 0.0, '000720': 0.0, '000810': 0.0, '000880': 0.0, '000990': 0.0, '001450': 0.0, '001570': 0.0, '004020': 0.14285714285714285, '004370': 0.0, '005380': 0.0, '005490': 0.0, '005830': 0.0, '005940': 0.0, '006260': 0.0, '006400': 0.0, '006800': 0.0, '007070': 0.0, '008770': 0.0, '009150': 0.0, '009830': 0.0, '010120': 0.0, '010130': 0.0, '010620': 0.0, '010950': 0.0, '011070': 0.0, '011170': 0.0, '011780': 0.0, '012330': 0.0, '012450': 0.0, '015760': 0.14285714285714285, '016360': 0.0, '020150': 0.0, '021240': 0.0, '024110': 0.14285714285714285, '029780': 0.0, '030200': 0.0, '032640': 0.0, '032830': 0.14285714285714285, '033780': 0.0, '034020': 0.0, '034220': 0.0, '034730': 0.0, '035250': 0.0, '036460': 0.14285714285714285, '036570': 0.0, '039490': 0.0, '047050': 0.0, '051900': 0.0, '051910': 0.0, '052690': 0.0, '055550': 0.0, '066570': 0.0, '068270': 0.0, '071050': 0.0, '078930': 0.0, '086280': 0.0, '086790': 0.14285714285714285, '096770': 0.0, '097950': 0.0, '105560': 0.0, '111770': 0.0, '128940': 0.0, '138040': 0.0, '138930': 0.14285714285714285, '139480': 0.0, '161390': 0.0}\n",
      "Portfolio: {'000270': 0.0, '000660': 0.0, '000720': 0.0, '000810': 0.0, '000880': 0.0, '000990': 0.0, '001450': 0.14285714285714285, '001570': 0.0, '004020': 0.14285714285714285, '004370': 0.0, '005380': 0.0, '005490': 0.0, '005830': 0.0, '005940': 0.0, '006260': 0.0, '006400': 0.0, '006800': 0.0, '007070': 0.0, '008770': 0.0, '009150': 0.0, '009830': 0.0, '010120': 0.0, '010130': 0.0, '010620': 0.0, '010950': 0.0, '011070': 0.0, '011170': 0.0, '011780': 0.0, '012330': 0.0, '012450': 0.0, '015760': 0.14285714285714285, '016360': 0.0, '020150': 0.0, '021240': 0.0, '024110': 0.14285714285714285, '029780': 0.0, '030200': 0.0, '032640': 0.0, '032830': 0.14285714285714285, '033780': 0.0, '034020': 0.0, '034220': 0.0, '034730': 0.0, '035250': 0.0, '036460': 0.0, '036570': 0.0, '039490': 0.0, '047050': 0.0, '051900': 0.0, '051910': 0.0, '052690': 0.0, '055550': 0.0, '066570': 0.0, '068270': 0.0, '071050': 0.0, '078930': 0.0, '086280': 0.0, '086790': 0.14285714285714285, '096770': 0.0, '097950': 0.0, '105560': 0.0, '111770': 0.0, '128940': 0.0, '138040': 0.0, '138930': 0.14285714285714285, '139480': 0.0, '161390': 0.0}\n",
      "Portfolio: {'000270': 0.0, '000660': 0.0, '000720': 0.0, '000810': 0.0, '000880': 0.0, '000990': 0.0, '001450': 0.0, '001570': 0.0, '004020': 0.14285714285714285, '004370': 0.0, '005380': 0.0, '005490': 0.0, '005830': 0.0, '005940': 0.0, '006260': 0.0, '006400': 0.0, '006800': 0.0, '007070': 0.0, '008770': 0.0, '009150': 0.0, '009830': 0.0, '010120': 0.0, '010130': 0.0, '010620': 0.0, '010950': 0.0, '011070': 0.0, '011170': 0.0, '011780': 0.0, '012330': 0.0, '012450': 0.0, '015760': 0.14285714285714285, '016360': 0.0, '020150': 0.0, '021240': 0.0, '024110': 0.14285714285714285, '029780': 0.0, '030200': 0.0, '032640': 0.0, '032830': 0.14285714285714285, '033780': 0.0, '034020': 0.0, '034220': 0.0, '034730': 0.0, '035250': 0.0, '036460': 0.0, '036570': 0.0, '039490': 0.0, '047050': 0.0, '051900': 0.0, '051910': 0.0, '052690': 0.0, '055550': 0.14285714285714285, '066570': 0.0, '068270': 0.0, '071050': 0.0, '078930': 0.0, '086280': 0.0, '086790': 0.14285714285714285, '096770': 0.0, '097950': 0.0, '105560': 0.0, '111770': 0.0, '128940': 0.0, '138040': 0.0, '138930': 0.14285714285714285, '139480': 0.0, '161390': 0.0}\n",
      "Portfolio: {'000270': 0.0, '000660': 0.0, '000720': 0.0, '000810': 0.0, '000880': 0.0, '000990': 0.0, '001450': 0.0, '001570': 0.0, '004020': 0.14285714285714285, '004370': 0.0, '005380': 0.0, '005490': 0.0, '005830': 0.0, '005940': 0.0, '006260': 0.0, '006400': 0.0, '006800': 0.0, '007070': 0.0, '008770': 0.0, '009150': 0.0, '009830': 0.0, '010120': 0.0, '010130': 0.0, '010620': 0.0, '010950': 0.0, '011070': 0.0, '011170': 0.0, '011780': 0.0, '012330': 0.0, '012450': 0.0, '015760': 0.14285714285714285, '016360': 0.0, '020150': 0.0, '021240': 0.0, '024110': 0.14285714285714285, '029780': 0.0, '030200': 0.0, '032640': 0.0, '032830': 0.14285714285714285, '033780': 0.0, '034020': 0.0, '034220': 0.0, '034730': 0.0, '035250': 0.0, '036460': 0.0, '036570': 0.0, '039490': 0.0, '047050': 0.0, '051900': 0.0, '051910': 0.0, '052690': 0.0, '055550': 0.14285714285714285, '066570': 0.0, '068270': 0.0, '071050': 0.0, '078930': 0.0, '086280': 0.0, '086790': 0.14285714285714285, '096770': 0.0, '097950': 0.0, '105560': 0.0, '111770': 0.0, '128940': 0.0, '138040': 0.0, '138930': 0.14285714285714285, '139480': 0.0, '161390': 0.0}\n",
      "Portfolio: {'000270': 0.0, '000660': 0.0, '000720': 0.0, '000810': 0.0, '000880': 0.0, '000990': 0.0, '001450': 0.0, '001570': 0.0, '004020': 0.14285714285714285, '004370': 0.0, '005380': 0.0, '005490': 0.0, '005830': 0.0, '005940': 0.0, '006260': 0.0, '006400': 0.0, '006800': 0.0, '007070': 0.0, '008770': 0.0, '009150': 0.0, '009830': 0.0, '010120': 0.0, '010130': 0.0, '010620': 0.0, '010950': 0.0, '011070': 0.0, '011170': 0.0, '011780': 0.0, '012330': 0.0, '012450': 0.0, '015760': 0.14285714285714285, '016360': 0.0, '020150': 0.0, '021240': 0.0, '024110': 0.14285714285714285, '029780': 0.0, '030200': 0.0, '032640': 0.0, '032830': 0.14285714285714285, '033780': 0.0, '034020': 0.14285714285714285, '034220': 0.0, '034730': 0.0, '035250': 0.0, '036460': 0.0, '036570': 0.0, '039490': 0.0, '047050': 0.0, '051900': 0.0, '051910': 0.0, '052690': 0.0, '055550': 0.0, '066570': 0.0, '068270': 0.0, '071050': 0.0, '078930': 0.0, '086280': 0.0, '086790': 0.14285714285714285, '096770': 0.0, '097950': 0.0, '105560': 0.0, '111770': 0.0, '128940': 0.0, '138040': 0.0, '138930': 0.14285714285714285, '139480': 0.0, '161390': 0.0}\n"
     ]
    }
   ],
   "source": [
    "# 룩백 기간, 생략 기간 정의\n",
    "lookback = 1\n",
    "offset = 0\n",
    "total_lookback = get_lookback_fromdate(fromdate=simulation_fromdate,\n",
    "                                       lookback=lookback + offset, freq='m')\n",
    "\n",
    "# 매수 비율 정의\n",
    "ratio = 0.1\n",
    "\n",
    "# 전략 정의\n",
    "strategy = 'pbr'\n",
    "\n",
    "# PBR 가치 전략 실행하기\n",
    "account_pbr = simulate_factor(\n",
    "    ohlcv_data=df_slicer(df=ohlcv_data_day, fromdate=total_lookback),\n",
    "    market_cap_data=df_slicer(df=market_cap_data, fromdate=total_lookback),\n",
    "    fundamental_data=df_slicer(df=fundamental_data, fromdate=total_lookback),\n",
    "    trader_data=None,\n",
    "    lookback_period=lookback * 21,\n",
    "    skip_period=offset * 21,\n",
    "    strategy_name=strategy,\n",
    "    buying_ratio=ratio)"
   ],
   "metadata": {
    "collapsed": false,
    "ExecuteTime": {
     "end_time": "2023-12-07T04:52:42.224514Z",
     "start_time": "2023-12-07T04:52:40.697017Z"
    }
   }
  },
  {
   "cell_type": "markdown",
   "source": [
    "#### 1.6.4. 배당 전략 실행하기"
   ],
   "metadata": {
    "collapsed": false
   }
  },
  {
   "cell_type": "code",
   "execution_count": 21,
   "outputs": [
    {
     "name": "stderr",
     "output_type": "stream",
     "text": [
      "/var/folders/j2/p6vmvrcs1kg7j9c8811510sc0000gn/T/ipykernel_87974/888467401.py:44: FutureWarning: In a future version of pandas, a length 1 tuple will be returned when iterating over a groupby with a grouper equal to a list of length 1. Don't supply a list with a single grouper to avoid this warning.\n",
      "  for date, ohlcv in ohlcv_data.groupby(['date']):\n"
     ]
    },
    {
     "name": "stdout",
     "output_type": "stream",
     "text": [
      "Portfolio: {'000270': 0.0, '000660': 0.0, '000720': 0.0, '000810': 0.0, '000880': 0.0, '000990': 0.0, '001450': 0.0, '001570': 0.0, '004020': 0.0, '004370': 0.0, '005380': 0.0, '005490': 0.0, '005830': 0.0, '005940': 0.14285714285714285, '006260': 0.0, '006400': 0.0, '006800': 0.14285714285714285, '007070': 0.0, '008770': 0.0, '009150': 0.0, '009830': 0.0, '010120': 0.0, '010130': 0.0, '010620': 0.0, '010950': 0.0, '011070': 0.0, '011170': 0.0, '011780': 0.0, '012330': 0.0, '012450': 0.0, '015760': 0.14285714285714285, '016360': 0.0, '020150': 0.0, '021240': 0.14285714285714285, '024110': 0.0, '029780': 0.14285714285714285, '030200': 0.0, '032640': 0.0, '032830': 0.0, '033780': 0.14285714285714285, '034020': 0.0, '034220': 0.0, '034730': 0.0, '035250': 0.0, '036460': 0.0, '036570': 0.0, '039490': 0.0, '047050': 0.0, '051900': 0.0, '051910': 0.0, '052690': 0.0, '055550': 0.0, '066570': 0.0, '068270': 0.0, '071050': 0.0, '078930': 0.0, '086280': 0.0, '086790': 0.0, '096770': 0.14285714285714285, '097950': 0.0, '105560': 0.0, '111770': 0.0, '128940': 0.0, '138040': 0.0, '138930': 0.0, '139480': 0.0, '161390': 0.0}\n",
      "Portfolio: {'000270': 0.0, '000660': 0.0, '000720': 0.0, '000810': 0.0, '000880': 0.0, '000990': 0.0, '001450': 0.0, '001570': 0.0, '004020': 0.0, '004370': 0.0, '005380': 0.0, '005490': 0.0, '005830': 0.0, '005940': 0.14285714285714285, '006260': 0.0, '006400': 0.0, '006800': 0.14285714285714285, '007070': 0.0, '008770': 0.0, '009150': 0.0, '009830': 0.0, '010120': 0.0, '010130': 0.0, '010620': 0.0, '010950': 0.0, '011070': 0.0, '011170': 0.0, '011780': 0.0, '012330': 0.0, '012450': 0.0, '015760': 0.14285714285714285, '016360': 0.14285714285714285, '020150': 0.0, '021240': 0.14285714285714285, '024110': 0.0, '029780': 0.14285714285714285, '030200': 0.0, '032640': 0.0, '032830': 0.0, '033780': 0.14285714285714285, '034020': 0.0, '034220': 0.0, '034730': 0.0, '035250': 0.0, '036460': 0.0, '036570': 0.0, '039490': 0.0, '047050': 0.0, '051900': 0.0, '051910': 0.0, '052690': 0.0, '055550': 0.0, '066570': 0.0, '068270': 0.0, '071050': 0.0, '078930': 0.0, '086280': 0.0, '086790': 0.0, '096770': 0.0, '097950': 0.0, '105560': 0.0, '111770': 0.0, '128940': 0.0, '138040': 0.0, '138930': 0.0, '139480': 0.0, '161390': 0.0}\n",
      "Portfolio: {'000270': 0.14285714285714285, '000660': 0.0, '000720': 0.0, '000810': 0.0, '000880': 0.0, '000990': 0.0, '001450': 0.0, '001570': 0.0, '004020': 0.0, '004370': 0.0, '005380': 0.0, '005490': 0.14285714285714285, '005830': 0.0, '005940': 0.0, '006260': 0.0, '006400': 0.0, '006800': 0.14285714285714285, '007070': 0.0, '008770': 0.0, '009150': 0.0, '009830': 0.0, '010120': 0.0, '010130': 0.0, '010620': 0.0, '010950': 0.0, '011070': 0.0, '011170': 0.0, '011780': 0.0, '012330': 0.0, '012450': 0.0, '015760': 0.14285714285714285, '016360': 0.0, '020150': 0.0, '021240': 0.14285714285714285, '024110': 0.0, '029780': 0.14285714285714285, '030200': 0.0, '032640': 0.0, '032830': 0.0, '033780': 0.14285714285714285, '034020': 0.0, '034220': 0.0, '034730': 0.0, '035250': 0.0, '036460': 0.0, '036570': 0.0, '039490': 0.0, '047050': 0.0, '051900': 0.0, '051910': 0.0, '052690': 0.0, '055550': 0.0, '066570': 0.0, '068270': 0.0, '071050': 0.0, '078930': 0.0, '086280': 0.0, '086790': 0.0, '096770': 0.0, '097950': 0.0, '105560': 0.0, '111770': 0.0, '128940': 0.0, '138040': 0.0, '138930': 0.0, '139480': 0.0, '161390': 0.0}\n",
      "Portfolio: {'000270': 0.0, '000660': 0.0, '000720': 0.0, '000810': 0.0, '000880': 0.0, '000990': 0.0, '001450': 0.14285714285714285, '001570': 0.0, '004020': 0.0, '004370': 0.0, '005380': 0.0, '005490': 0.0, '005830': 0.0, '005940': 0.0, '006260': 0.0, '006400': 0.0, '006800': 0.0, '007070': 0.0, '008770': 0.0, '009150': 0.0, '009830': 0.0, '010120': 0.0, '010130': 0.0, '010620': 0.0, '010950': 0.14285714285714285, '011070': 0.0, '011170': 0.0, '011780': 0.0, '012330': 0.0, '012450': 0.0, '015760': 0.14285714285714285, '016360': 0.0, '020150': 0.0, '021240': 0.14285714285714285, '024110': 0.0, '029780': 0.14285714285714285, '030200': 0.0, '032640': 0.0, '032830': 0.0, '033780': 0.14285714285714285, '034020': 0.0, '034220': 0.0, '034730': 0.0, '035250': 0.0, '036460': 0.0, '036570': 0.0, '039490': 0.0, '047050': 0.0, '051900': 0.0, '051910': 0.0, '052690': 0.0, '055550': 0.0, '066570': 0.0, '068270': 0.0, '071050': 0.0, '078930': 0.0, '086280': 0.0, '086790': 0.0, '096770': 0.14285714285714285, '097950': 0.0, '105560': 0.0, '111770': 0.0, '128940': 0.0, '138040': 0.0, '138930': 0.0, '139480': 0.0, '161390': 0.0}\n",
      "Portfolio: {'000270': 0.0, '000660': 0.0, '000720': 0.0, '000810': 0.0, '000880': 0.0, '000990': 0.0, '001450': 0.14285714285714285, '001570': 0.0, '004020': 0.0, '004370': 0.0, '005380': 0.0, '005490': 0.0, '005830': 0.0, '005940': 0.0, '006260': 0.0, '006400': 0.0, '006800': 0.0, '007070': 0.0, '008770': 0.0, '009150': 0.0, '009830': 0.0, '010120': 0.0, '010130': 0.0, '010620': 0.0, '010950': 0.14285714285714285, '011070': 0.0, '011170': 0.0, '011780': 0.0, '012330': 0.0, '012450': 0.0, '015760': 0.14285714285714285, '016360': 0.0, '020150': 0.0, '021240': 0.14285714285714285, '024110': 0.0, '029780': 0.14285714285714285, '030200': 0.0, '032640': 0.0, '032830': 0.0, '033780': 0.14285714285714285, '034020': 0.0, '034220': 0.0, '034730': 0.0, '035250': 0.0, '036460': 0.0, '036570': 0.0, '039490': 0.0, '047050': 0.0, '051900': 0.0, '051910': 0.0, '052690': 0.0, '055550': 0.0, '066570': 0.0, '068270': 0.0, '071050': 0.0, '078930': 0.0, '086280': 0.0, '086790': 0.0, '096770': 0.14285714285714285, '097950': 0.0, '105560': 0.0, '111770': 0.0, '128940': 0.0, '138040': 0.0, '138930': 0.0, '139480': 0.0, '161390': 0.0}\n",
      "Portfolio: {'000270': 0.14285714285714285, '000660': 0.0, '000720': 0.0, '000810': 0.0, '000880': 0.0, '000990': 0.0, '001450': 0.0, '001570': 0.0, '004020': 0.0, '004370': 0.0, '005380': 0.0, '005490': 0.0, '005830': 0.0, '005940': 0.0, '006260': 0.0, '006400': 0.0, '006800': 0.0, '007070': 0.0, '008770': 0.0, '009150': 0.0, '009830': 0.0, '010120': 0.0, '010130': 0.0, '010620': 0.0, '010950': 0.14285714285714285, '011070': 0.0, '011170': 0.0, '011780': 0.0, '012330': 0.0, '012450': 0.0, '015760': 0.14285714285714285, '016360': 0.0, '020150': 0.0, '021240': 0.14285714285714285, '024110': 0.0, '029780': 0.14285714285714285, '030200': 0.0, '032640': 0.0, '032830': 0.0, '033780': 0.14285714285714285, '034020': 0.0, '034220': 0.0, '034730': 0.0, '035250': 0.0, '036460': 0.0, '036570': 0.0, '039490': 0.0, '047050': 0.0, '051900': 0.0, '051910': 0.0, '052690': 0.0, '055550': 0.0, '066570': 0.0, '068270': 0.0, '071050': 0.0, '078930': 0.0, '086280': 0.0, '086790': 0.0, '096770': 0.14285714285714285, '097950': 0.0, '105560': 0.0, '111770': 0.0, '128940': 0.0, '138040': 0.0, '138930': 0.0, '139480': 0.0, '161390': 0.0}\n",
      "Portfolio: {'000270': 0.14285714285714285, '000660': 0.0, '000720': 0.0, '000810': 0.0, '000880': 0.0, '000990': 0.0, '001450': 0.0, '001570': 0.0, '004020': 0.0, '004370': 0.0, '005380': 0.0, '005490': 0.0, '005830': 0.0, '005940': 0.0, '006260': 0.0, '006400': 0.0, '006800': 0.0, '007070': 0.0, '008770': 0.0, '009150': 0.0, '009830': 0.0, '010120': 0.0, '010130': 0.0, '010620': 0.0, '010950': 0.14285714285714285, '011070': 0.0, '011170': 0.0, '011780': 0.0, '012330': 0.0, '012450': 0.0, '015760': 0.14285714285714285, '016360': 0.0, '020150': 0.0, '021240': 0.14285714285714285, '024110': 0.0, '029780': 0.14285714285714285, '030200': 0.0, '032640': 0.0, '032830': 0.0, '033780': 0.14285714285714285, '034020': 0.0, '034220': 0.0, '034730': 0.0, '035250': 0.0, '036460': 0.0, '036570': 0.0, '039490': 0.0, '047050': 0.0, '051900': 0.0, '051910': 0.0, '052690': 0.0, '055550': 0.0, '066570': 0.0, '068270': 0.0, '071050': 0.0, '078930': 0.0, '086280': 0.0, '086790': 0.0, '096770': 0.14285714285714285, '097950': 0.0, '105560': 0.0, '111770': 0.0, '128940': 0.0, '138040': 0.0, '138930': 0.0, '139480': 0.0, '161390': 0.0}\n",
      "Portfolio: {'000270': 0.14285714285714285, '000660': 0.0, '000720': 0.0, '000810': 0.0, '000880': 0.0, '000990': 0.0, '001450': 0.0, '001570': 0.0, '004020': 0.0, '004370': 0.0, '005380': 0.0, '005490': 0.0, '005830': 0.0, '005940': 0.0, '006260': 0.0, '006400': 0.0, '006800': 0.0, '007070': 0.0, '008770': 0.0, '009150': 0.0, '009830': 0.0, '010120': 0.0, '010130': 0.0, '010620': 0.0, '010950': 0.14285714285714285, '011070': 0.0, '011170': 0.0, '011780': 0.0, '012330': 0.0, '012450': 0.0, '015760': 0.14285714285714285, '016360': 0.0, '020150': 0.0, '021240': 0.14285714285714285, '024110': 0.0, '029780': 0.14285714285714285, '030200': 0.0, '032640': 0.0, '032830': 0.0, '033780': 0.14285714285714285, '034020': 0.0, '034220': 0.0, '034730': 0.0, '035250': 0.0, '036460': 0.0, '036570': 0.0, '039490': 0.0, '047050': 0.0, '051900': 0.0, '051910': 0.0, '052690': 0.0, '055550': 0.0, '066570': 0.0, '068270': 0.0, '071050': 0.0, '078930': 0.0, '086280': 0.0, '086790': 0.0, '096770': 0.14285714285714285, '097950': 0.0, '105560': 0.0, '111770': 0.0, '128940': 0.0, '138040': 0.0, '138930': 0.0, '139480': 0.0, '161390': 0.0}\n",
      "Portfolio: {'000270': 0.14285714285714285, '000660': 0.0, '000720': 0.0, '000810': 0.0, '000880': 0.0, '000990': 0.0, '001450': 0.0, '001570': 0.0, '004020': 0.0, '004370': 0.0, '005380': 0.0, '005490': 0.0, '005830': 0.0, '005940': 0.0, '006260': 0.0, '006400': 0.0, '006800': 0.0, '007070': 0.0, '008770': 0.0, '009150': 0.0, '009830': 0.0, '010120': 0.0, '010130': 0.0, '010620': 0.0, '010950': 0.14285714285714285, '011070': 0.0, '011170': 0.0, '011780': 0.0, '012330': 0.0, '012450': 0.0, '015760': 0.14285714285714285, '016360': 0.0, '020150': 0.0, '021240': 0.14285714285714285, '024110': 0.0, '029780': 0.14285714285714285, '030200': 0.0, '032640': 0.0, '032830': 0.0, '033780': 0.14285714285714285, '034020': 0.0, '034220': 0.0, '034730': 0.0, '035250': 0.0, '036460': 0.0, '036570': 0.0, '039490': 0.0, '047050': 0.0, '051900': 0.0, '051910': 0.0, '052690': 0.0, '055550': 0.0, '066570': 0.0, '068270': 0.0, '071050': 0.0, '078930': 0.0, '086280': 0.0, '086790': 0.0, '096770': 0.14285714285714285, '097950': 0.0, '105560': 0.0, '111770': 0.0, '128940': 0.0, '138040': 0.0, '138930': 0.0, '139480': 0.0, '161390': 0.0}\n",
      "Portfolio: {'000270': 0.14285714285714285, '000660': 0.0, '000720': 0.0, '000810': 0.0, '000880': 0.0, '000990': 0.0, '001450': 0.14285714285714285, '001570': 0.0, '004020': 0.0, '004370': 0.0, '005380': 0.0, '005490': 0.0, '005830': 0.0, '005940': 0.0, '006260': 0.0, '006400': 0.0, '006800': 0.0, '007070': 0.0, '008770': 0.0, '009150': 0.0, '009830': 0.0, '010120': 0.0, '010130': 0.0, '010620': 0.0, '010950': 0.14285714285714285, '011070': 0.0, '011170': 0.0, '011780': 0.0, '012330': 0.0, '012450': 0.0, '015760': 0.14285714285714285, '016360': 0.0, '020150': 0.0, '021240': 0.14285714285714285, '024110': 0.0, '029780': 0.14285714285714285, '030200': 0.0, '032640': 0.0, '032830': 0.0, '033780': 0.0, '034020': 0.0, '034220': 0.0, '034730': 0.0, '035250': 0.0, '036460': 0.0, '036570': 0.0, '039490': 0.0, '047050': 0.0, '051900': 0.0, '051910': 0.0, '052690': 0.0, '055550': 0.0, '066570': 0.0, '068270': 0.0, '071050': 0.0, '078930': 0.0, '086280': 0.0, '086790': 0.0, '096770': 0.14285714285714285, '097950': 0.0, '105560': 0.0, '111770': 0.0, '128940': 0.0, '138040': 0.0, '138930': 0.0, '139480': 0.0, '161390': 0.0}\n",
      "Portfolio: {'000270': 0.14285714285714285, '000660': 0.0, '000720': 0.0, '000810': 0.0, '000880': 0.0, '000990': 0.0, '001450': 0.0, '001570': 0.0, '004020': 0.0, '004370': 0.0, '005380': 0.0, '005490': 0.0, '005830': 0.0, '005940': 0.0, '006260': 0.0, '006400': 0.0, '006800': 0.0, '007070': 0.0, '008770': 0.0, '009150': 0.0, '009830': 0.0, '010120': 0.0, '010130': 0.0, '010620': 0.0, '010950': 0.14285714285714285, '011070': 0.0, '011170': 0.0, '011780': 0.0, '012330': 0.0, '012450': 0.0, '015760': 0.14285714285714285, '016360': 0.0, '020150': 0.0, '021240': 0.14285714285714285, '024110': 0.0, '029780': 0.14285714285714285, '030200': 0.0, '032640': 0.0, '032830': 0.0, '033780': 0.14285714285714285, '034020': 0.0, '034220': 0.0, '034730': 0.0, '035250': 0.0, '036460': 0.0, '036570': 0.0, '039490': 0.0, '047050': 0.0, '051900': 0.0, '051910': 0.0, '052690': 0.0, '055550': 0.0, '066570': 0.0, '068270': 0.0, '071050': 0.0, '078930': 0.0, '086280': 0.0, '086790': 0.0, '096770': 0.14285714285714285, '097950': 0.0, '105560': 0.0, '111770': 0.0, '128940': 0.0, '138040': 0.0, '138930': 0.0, '139480': 0.0, '161390': 0.0}\n",
      "Portfolio: {'000270': 0.14285714285714285, '000660': 0.0, '000720': 0.0, '000810': 0.0, '000880': 0.0, '000990': 0.0, '001450': 0.0, '001570': 0.0, '004020': 0.0, '004370': 0.0, '005380': 0.0, '005490': 0.0, '005830': 0.0, '005940': 0.0, '006260': 0.0, '006400': 0.0, '006800': 0.0, '007070': 0.0, '008770': 0.0, '009150': 0.0, '009830': 0.0, '010120': 0.0, '010130': 0.0, '010620': 0.0, '010950': 0.14285714285714285, '011070': 0.0, '011170': 0.0, '011780': 0.0, '012330': 0.0, '012450': 0.0, '015760': 0.14285714285714285, '016360': 0.0, '020150': 0.0, '021240': 0.14285714285714285, '024110': 0.0, '029780': 0.14285714285714285, '030200': 0.0, '032640': 0.0, '032830': 0.0, '033780': 0.14285714285714285, '034020': 0.0, '034220': 0.0, '034730': 0.0, '035250': 0.0, '036460': 0.0, '036570': 0.0, '039490': 0.0, '047050': 0.0, '051900': 0.0, '051910': 0.0, '052690': 0.0, '055550': 0.0, '066570': 0.0, '068270': 0.0, '071050': 0.0, '078930': 0.0, '086280': 0.0, '086790': 0.0, '096770': 0.14285714285714285, '097950': 0.0, '105560': 0.0, '111770': 0.0, '128940': 0.0, '138040': 0.0, '138930': 0.0, '139480': 0.0, '161390': 0.0}\n",
      "Portfolio: {'000270': 0.0, '000660': 0.0, '000720': 0.0, '000810': 0.0, '000880': 0.0, '000990': 0.0, '001450': 0.14285714285714285, '001570': 0.0, '004020': 0.0, '004370': 0.0, '005380': 0.0, '005490': 0.0, '005830': 0.0, '005940': 0.0, '006260': 0.0, '006400': 0.0, '006800': 0.0, '007070': 0.0, '008770': 0.0, '009150': 0.0, '009830': 0.0, '010120': 0.0, '010130': 0.0, '010620': 0.0, '010950': 0.14285714285714285, '011070': 0.0, '011170': 0.0, '011780': 0.0, '012330': 0.0, '012450': 0.0, '015760': 0.14285714285714285, '016360': 0.0, '020150': 0.0, '021240': 0.14285714285714285, '024110': 0.0, '029780': 0.14285714285714285, '030200': 0.0, '032640': 0.0, '032830': 0.0, '033780': 0.14285714285714285, '034020': 0.0, '034220': 0.0, '034730': 0.0, '035250': 0.14285714285714285, '036460': 0.0, '036570': 0.0, '039490': 0.0, '047050': 0.0, '051900': 0.0, '051910': 0.0, '052690': 0.0, '055550': 0.0, '066570': 0.0, '068270': 0.0, '071050': 0.0, '078930': 0.0, '086280': 0.0, '086790': 0.0, '096770': 0.0, '097950': 0.0, '105560': 0.0, '111770': 0.0, '128940': 0.0, '138040': 0.0, '138930': 0.0, '139480': 0.0, '161390': 0.0}\n",
      "Portfolio: {'000270': 0.14285714285714285, '000660': 0.0, '000720': 0.0, '000810': 0.0, '000880': 0.0, '000990': 0.0, '001450': 0.0, '001570': 0.0, '004020': 0.0, '004370': 0.0, '005380': 0.0, '005490': 0.0, '005830': 0.0, '005940': 0.0, '006260': 0.0, '006400': 0.0, '006800': 0.0, '007070': 0.0, '008770': 0.0, '009150': 0.0, '009830': 0.0, '010120': 0.0, '010130': 0.0, '010620': 0.0, '010950': 0.14285714285714285, '011070': 0.0, '011170': 0.0, '011780': 0.0, '012330': 0.0, '012450': 0.0, '015760': 0.14285714285714285, '016360': 0.0, '020150': 0.0, '021240': 0.14285714285714285, '024110': 0.0, '029780': 0.14285714285714285, '030200': 0.0, '032640': 0.0, '032830': 0.0, '033780': 0.14285714285714285, '034020': 0.0, '034220': 0.0, '034730': 0.0, '035250': 0.14285714285714285, '036460': 0.0, '036570': 0.0, '039490': 0.0, '047050': 0.0, '051900': 0.0, '051910': 0.0, '052690': 0.0, '055550': 0.0, '066570': 0.0, '068270': 0.0, '071050': 0.0, '078930': 0.0, '086280': 0.0, '086790': 0.0, '096770': 0.0, '097950': 0.0, '105560': 0.0, '111770': 0.0, '128940': 0.0, '138040': 0.0, '138930': 0.0, '139480': 0.0, '161390': 0.0}\n",
      "Portfolio: {'000270': 0.0, '000660': 0.0, '000720': 0.0, '000810': 0.0, '000880': 0.0, '000990': 0.0, '001450': 0.14285714285714285, '001570': 0.0, '004020': 0.0, '004370': 0.0, '005380': 0.0, '005490': 0.0, '005830': 0.0, '005940': 0.0, '006260': 0.0, '006400': 0.0, '006800': 0.0, '007070': 0.0, '008770': 0.0, '009150': 0.0, '009830': 0.0, '010120': 0.0, '010130': 0.0, '010620': 0.0, '010950': 0.14285714285714285, '011070': 0.0, '011170': 0.0, '011780': 0.0, '012330': 0.0, '012450': 0.0, '015760': 0.14285714285714285, '016360': 0.0, '020150': 0.0, '021240': 0.14285714285714285, '024110': 0.0, '029780': 0.14285714285714285, '030200': 0.0, '032640': 0.0, '032830': 0.0, '033780': 0.14285714285714285, '034020': 0.0, '034220': 0.0, '034730': 0.0, '035250': 0.0, '036460': 0.0, '036570': 0.0, '039490': 0.0, '047050': 0.0, '051900': 0.0, '051910': 0.0, '052690': 0.0, '055550': 0.0, '066570': 0.0, '068270': 0.0, '071050': 0.0, '078930': 0.0, '086280': 0.0, '086790': 0.0, '096770': 0.0, '097950': 0.0, '105560': 0.0, '111770': 0.0, '128940': 0.0, '138040': 0.14285714285714285, '138930': 0.0, '139480': 0.0, '161390': 0.0}\n",
      "Portfolio: {'000270': 0.0, '000660': 0.0, '000720': 0.0, '000810': 0.14285714285714285, '000880': 0.0, '000990': 0.0, '001450': 0.14285714285714285, '001570': 0.0, '004020': 0.0, '004370': 0.0, '005380': 0.0, '005490': 0.0, '005830': 0.14285714285714285, '005940': 0.0, '006260': 0.0, '006400': 0.0, '006800': 0.0, '007070': 0.0, '008770': 0.0, '009150': 0.0, '009830': 0.0, '010120': 0.0, '010130': 0.0, '010620': 0.0, '010950': 0.14285714285714285, '011070': 0.0, '011170': 0.0, '011780': 0.0, '012330': 0.0, '012450': 0.0, '015760': 0.0, '016360': 0.0, '020150': 0.0, '021240': 0.0, '024110': 0.0, '029780': 0.14285714285714285, '030200': 0.0, '032640': 0.0, '032830': 0.0, '033780': 0.14285714285714285, '034020': 0.0, '034220': 0.0, '034730': 0.0, '035250': 0.0, '036460': 0.0, '036570': 0.0, '039490': 0.0, '047050': 0.0, '051900': 0.0, '051910': 0.0, '052690': 0.0, '055550': 0.0, '066570': 0.0, '068270': 0.0, '071050': 0.0, '078930': 0.0, '086280': 0.0, '086790': 0.0, '096770': 0.14285714285714285, '097950': 0.0, '105560': 0.0, '111770': 0.0, '128940': 0.0, '138040': 0.0, '138930': 0.0, '139480': 0.0, '161390': 0.0}\n",
      "Portfolio: {'000270': 0.0, '000660': 0.0, '000720': 0.0, '000810': 0.14285714285714285, '000880': 0.0, '000990': 0.0, '001450': 0.14285714285714285, '001570': 0.0, '004020': 0.0, '004370': 0.0, '005380': 0.0, '005490': 0.0, '005830': 0.14285714285714285, '005940': 0.0, '006260': 0.0, '006400': 0.0, '006800': 0.0, '007070': 0.0, '008770': 0.0, '009150': 0.0, '009830': 0.0, '010120': 0.0, '010130': 0.0, '010620': 0.0, '010950': 0.14285714285714285, '011070': 0.0, '011170': 0.0, '011780': 0.0, '012330': 0.0, '012450': 0.0, '015760': 0.0, '016360': 0.0, '020150': 0.0, '021240': 0.0, '024110': 0.0, '029780': 0.14285714285714285, '030200': 0.0, '032640': 0.0, '032830': 0.0, '033780': 0.0, '034020': 0.0, '034220': 0.0, '034730': 0.0, '035250': 0.0, '036460': 0.0, '036570': 0.0, '039490': 0.0, '047050': 0.0, '051900': 0.0, '051910': 0.0, '052690': 0.0, '055550': 0.0, '066570': 0.0, '068270': 0.0, '071050': 0.0, '078930': 0.0, '086280': 0.0, '086790': 0.0, '096770': 0.14285714285714285, '097950': 0.0, '105560': 0.0, '111770': 0.0, '128940': 0.0, '138040': 0.14285714285714285, '138930': 0.0, '139480': 0.0, '161390': 0.0}\n",
      "Portfolio: {'000270': 0.0, '000660': 0.0, '000720': 0.0, '000810': 0.14285714285714285, '000880': 0.0, '000990': 0.0, '001450': 0.14285714285714285, '001570': 0.0, '004020': 0.0, '004370': 0.0, '005380': 0.0, '005490': 0.0, '005830': 0.0, '005940': 0.0, '006260': 0.0, '006400': 0.0, '006800': 0.0, '007070': 0.0, '008770': 0.0, '009150': 0.0, '009830': 0.0, '010120': 0.0, '010130': 0.0, '010620': 0.0, '010950': 0.14285714285714285, '011070': 0.0, '011170': 0.0, '011780': 0.0, '012330': 0.0, '012450': 0.0, '015760': 0.0, '016360': 0.0, '020150': 0.0, '021240': 0.0, '024110': 0.0, '029780': 0.14285714285714285, '030200': 0.0, '032640': 0.0, '032830': 0.0, '033780': 0.0, '034020': 0.0, '034220': 0.0, '034730': 0.0, '035250': 0.14285714285714285, '036460': 0.0, '036570': 0.0, '039490': 0.0, '047050': 0.0, '051900': 0.0, '051910': 0.0, '052690': 0.0, '055550': 0.0, '066570': 0.0, '068270': 0.0, '071050': 0.0, '078930': 0.0, '086280': 0.0, '086790': 0.0, '096770': 0.14285714285714285, '097950': 0.0, '105560': 0.0, '111770': 0.0, '128940': 0.0, '138040': 0.14285714285714285, '138930': 0.0, '139480': 0.0, '161390': 0.0}\n",
      "Portfolio: {'000270': 0.0, '000660': 0.0, '000720': 0.0, '000810': 0.14285714285714285, '000880': 0.0, '000990': 0.0, '001450': 0.14285714285714285, '001570': 0.0, '004020': 0.0, '004370': 0.0, '005380': 0.0, '005490': 0.0, '005830': 0.0, '005940': 0.0, '006260': 0.0, '006400': 0.0, '006800': 0.0, '007070': 0.0, '008770': 0.0, '009150': 0.0, '009830': 0.0, '010120': 0.0, '010130': 0.0, '010620': 0.0, '010950': 0.14285714285714285, '011070': 0.0, '011170': 0.0, '011780': 0.0, '012330': 0.0, '012450': 0.0, '015760': 0.0, '016360': 0.0, '020150': 0.0, '021240': 0.0, '024110': 0.0, '029780': 0.14285714285714285, '030200': 0.0, '032640': 0.0, '032830': 0.0, '033780': 0.14285714285714285, '034020': 0.0, '034220': 0.0, '034730': 0.0, '035250': 0.0, '036460': 0.0, '036570': 0.0, '039490': 0.0, '047050': 0.0, '051900': 0.0, '051910': 0.0, '052690': 0.0, '055550': 0.0, '066570': 0.0, '068270': 0.0, '071050': 0.0, '078930': 0.0, '086280': 0.0, '086790': 0.0, '096770': 0.14285714285714285, '097950': 0.0, '105560': 0.0, '111770': 0.0, '128940': 0.0, '138040': 0.14285714285714285, '138930': 0.0, '139480': 0.0, '161390': 0.0}\n",
      "Portfolio: {'000270': 0.0, '000660': 0.0, '000720': 0.0, '000810': 0.0, '000880': 0.0, '000990': 0.0, '001450': 0.0, '001570': 0.0, '004020': 0.0, '004370': 0.0, '005380': 0.0, '005490': 0.0, '005830': 0.0, '005940': 0.0, '006260': 0.0, '006400': 0.0, '006800': 0.0, '007070': 0.0, '008770': 0.0, '009150': 0.0, '009830': 0.0, '010120': 0.0, '010130': 0.0, '010620': 0.0, '010950': 0.14285714285714285, '011070': 0.0, '011170': 0.14285714285714285, '011780': 0.0, '012330': 0.0, '012450': 0.0, '015760': 0.0, '016360': 0.0, '020150': 0.0, '021240': 0.14285714285714285, '024110': 0.0, '029780': 0.14285714285714285, '030200': 0.0, '032640': 0.0, '032830': 0.0, '033780': 0.14285714285714285, '034020': 0.0, '034220': 0.0, '034730': 0.0, '035250': 0.0, '036460': 0.0, '036570': 0.0, '039490': 0.0, '047050': 0.0, '051900': 0.0, '051910': 0.0, '052690': 0.0, '055550': 0.0, '066570': 0.0, '068270': 0.0, '071050': 0.0, '078930': 0.0, '086280': 0.0, '086790': 0.0, '096770': 0.14285714285714285, '097950': 0.0, '105560': 0.0, '111770': 0.0, '128940': 0.0, '138040': 0.14285714285714285, '138930': 0.0, '139480': 0.0, '161390': 0.0}\n",
      "Portfolio: {'000270': 0.0, '000660': 0.0, '000720': 0.0, '000810': 0.0, '000880': 0.0, '000990': 0.0, '001450': 0.0, '001570': 0.0, '004020': 0.0, '004370': 0.0, '005380': 0.0, '005490': 0.0, '005830': 0.0, '005940': 0.0, '006260': 0.0, '006400': 0.0, '006800': 0.0, '007070': 0.0, '008770': 0.0, '009150': 0.0, '009830': 0.0, '010120': 0.0, '010130': 0.0, '010620': 0.0, '010950': 0.14285714285714285, '011070': 0.0, '011170': 0.14285714285714285, '011780': 0.0, '012330': 0.0, '012450': 0.0, '015760': 0.0, '016360': 0.0, '020150': 0.0, '021240': 0.14285714285714285, '024110': 0.0, '029780': 0.14285714285714285, '030200': 0.0, '032640': 0.0, '032830': 0.0, '033780': 0.0, '034020': 0.0, '034220': 0.0, '034730': 0.0, '035250': 0.0, '036460': 0.0, '036570': 0.0, '039490': 0.0, '047050': 0.0, '051900': 0.0, '051910': 0.0, '052690': 0.0, '055550': 0.0, '066570': 0.0, '068270': 0.0, '071050': 0.0, '078930': 0.0, '086280': 0.0, '086790': 0.14285714285714285, '096770': 0.0, '097950': 0.0, '105560': 0.14285714285714285, '111770': 0.0, '128940': 0.0, '138040': 0.14285714285714285, '138930': 0.0, '139480': 0.0, '161390': 0.0}\n",
      "Portfolio: {'000270': 0.0, '000660': 0.0, '000720': 0.0, '000810': 0.0, '000880': 0.0, '000990': 0.0, '001450': 0.0, '001570': 0.0, '004020': 0.0, '004370': 0.0, '005380': 0.0, '005490': 0.0, '005830': 0.0, '005940': 0.0, '006260': 0.0, '006400': 0.0, '006800': 0.0, '007070': 0.0, '008770': 0.0, '009150': 0.0, '009830': 0.0, '010120': 0.0, '010130': 0.0, '010620': 0.0, '010950': 0.14285714285714285, '011070': 0.0, '011170': 0.0, '011780': 0.0, '012330': 0.0, '012450': 0.0, '015760': 0.0, '016360': 0.0, '020150': 0.0, '021240': 0.14285714285714285, '024110': 0.0, '029780': 0.14285714285714285, '030200': 0.0, '032640': 0.0, '032830': 0.0, '033780': 0.0, '034020': 0.0, '034220': 0.0, '034730': 0.0, '035250': 0.0, '036460': 0.0, '036570': 0.0, '039490': 0.0, '047050': 0.0, '051900': 0.0, '051910': 0.0, '052690': 0.0, '055550': 0.0, '066570': 0.0, '068270': 0.0, '071050': 0.0, '078930': 0.0, '086280': 0.0, '086790': 0.14285714285714285, '096770': 0.14285714285714285, '097950': 0.0, '105560': 0.14285714285714285, '111770': 0.0, '128940': 0.0, '138040': 0.14285714285714285, '138930': 0.0, '139480': 0.0, '161390': 0.0}\n",
      "Portfolio: {'000270': 0.0, '000660': 0.0, '000720': 0.0, '000810': 0.0, '000880': 0.0, '000990': 0.0, '001450': 0.0, '001570': 0.0, '004020': 0.0, '004370': 0.0, '005380': 0.0, '005490': 0.0, '005830': 0.0, '005940': 0.0, '006260': 0.0, '006400': 0.0, '006800': 0.0, '007070': 0.0, '008770': 0.0, '009150': 0.0, '009830': 0.0, '010120': 0.0, '010130': 0.0, '010620': 0.0, '010950': 0.14285714285714285, '011070': 0.0, '011170': 0.0, '011780': 0.0, '012330': 0.0, '012450': 0.0, '015760': 0.0, '016360': 0.0, '020150': 0.0, '021240': 0.14285714285714285, '024110': 0.0, '029780': 0.14285714285714285, '030200': 0.0, '032640': 0.0, '032830': 0.0, '033780': 0.0, '034020': 0.0, '034220': 0.0, '034730': 0.0, '035250': 0.0, '036460': 0.0, '036570': 0.0, '039490': 0.0, '047050': 0.0, '051900': 0.0, '051910': 0.0, '052690': 0.0, '055550': 0.0, '066570': 0.0, '068270': 0.0, '071050': 0.0, '078930': 0.0, '086280': 0.0, '086790': 0.14285714285714285, '096770': 0.14285714285714285, '097950': 0.0, '105560': 0.14285714285714285, '111770': 0.0, '128940': 0.0, '138040': 0.14285714285714285, '138930': 0.0, '139480': 0.0, '161390': 0.0}\n",
      "Portfolio: {'000270': 0.0, '000660': 0.0, '000720': 0.0, '000810': 0.0, '000880': 0.0, '000990': 0.0, '001450': 0.14285714285714285, '001570': 0.0, '004020': 0.0, '004370': 0.0, '005380': 0.0, '005490': 0.0, '005830': 0.0, '005940': 0.0, '006260': 0.0, '006400': 0.0, '006800': 0.0, '007070': 0.0, '008770': 0.0, '009150': 0.0, '009830': 0.0, '010120': 0.0, '010130': 0.0, '010620': 0.0, '010950': 0.14285714285714285, '011070': 0.0, '011170': 0.0, '011780': 0.0, '012330': 0.0, '012450': 0.0, '015760': 0.0, '016360': 0.0, '020150': 0.0, '021240': 0.0, '024110': 0.0, '029780': 0.14285714285714285, '030200': 0.0, '032640': 0.0, '032830': 0.0, '033780': 0.14285714285714285, '034020': 0.0, '034220': 0.0, '034730': 0.0, '035250': 0.0, '036460': 0.0, '036570': 0.0, '039490': 0.0, '047050': 0.0, '051900': 0.0, '051910': 0.0, '052690': 0.0, '055550': 0.0, '066570': 0.0, '068270': 0.0, '071050': 0.0, '078930': 0.0, '086280': 0.0, '086790': 0.0, '096770': 0.14285714285714285, '097950': 0.0, '105560': 0.14285714285714285, '111770': 0.0, '128940': 0.0, '138040': 0.14285714285714285, '138930': 0.0, '139480': 0.0, '161390': 0.0}\n",
      "Portfolio: {'000270': 0.0, '000660': 0.0, '000720': 0.0, '000810': 0.0, '000880': 0.0, '000990': 0.0, '001450': 0.14285714285714285, '001570': 0.0, '004020': 0.0, '004370': 0.0, '005380': 0.0, '005490': 0.0, '005830': 0.0, '005940': 0.0, '006260': 0.0, '006400': 0.0, '006800': 0.0, '007070': 0.0, '008770': 0.0, '009150': 0.0, '009830': 0.0, '010120': 0.0, '010130': 0.0, '010620': 0.0, '010950': 0.14285714285714285, '011070': 0.0, '011170': 0.0, '011780': 0.0, '012330': 0.0, '012450': 0.0, '015760': 0.0, '016360': 0.0, '020150': 0.0, '021240': 0.0, '024110': 0.0, '029780': 0.14285714285714285, '030200': 0.0, '032640': 0.0, '032830': 0.0, '033780': 0.0, '034020': 0.0, '034220': 0.0, '034730': 0.0, '035250': 0.0, '036460': 0.0, '036570': 0.0, '039490': 0.0, '047050': 0.0, '051900': 0.0, '051910': 0.0, '052690': 0.0, '055550': 0.0, '066570': 0.0, '068270': 0.0, '071050': 0.0, '078930': 0.0, '086280': 0.0, '086790': 0.14285714285714285, '096770': 0.14285714285714285, '097950': 0.0, '105560': 0.14285714285714285, '111770': 0.0, '128940': 0.0, '138040': 0.14285714285714285, '138930': 0.0, '139480': 0.0, '161390': 0.0}\n",
      "Portfolio: {'000270': 0.0, '000660': 0.0, '000720': 0.0, '000810': 0.0, '000880': 0.0, '000990': 0.0, '001450': 0.14285714285714285, '001570': 0.0, '004020': 0.0, '004370': 0.0, '005380': 0.0, '005490': 0.0, '005830': 0.0, '005940': 0.0, '006260': 0.0, '006400': 0.0, '006800': 0.0, '007070': 0.0, '008770': 0.0, '009150': 0.0, '009830': 0.0, '010120': 0.0, '010130': 0.0, '010620': 0.0, '010950': 0.14285714285714285, '011070': 0.0, '011170': 0.0, '011780': 0.0, '012330': 0.0, '012450': 0.0, '015760': 0.0, '016360': 0.0, '020150': 0.0, '021240': 0.0, '024110': 0.0, '029780': 0.14285714285714285, '030200': 0.0, '032640': 0.0, '032830': 0.0, '033780': 0.14285714285714285, '034020': 0.0, '034220': 0.0, '034730': 0.0, '035250': 0.0, '036460': 0.0, '036570': 0.0, '039490': 0.0, '047050': 0.0, '051900': 0.0, '051910': 0.0, '052690': 0.0, '055550': 0.0, '066570': 0.0, '068270': 0.0, '071050': 0.0, '078930': 0.0, '086280': 0.0, '086790': 0.14285714285714285, '096770': 0.14285714285714285, '097950': 0.0, '105560': 0.14285714285714285, '111770': 0.0, '128940': 0.0, '138040': 0.0, '138930': 0.0, '139480': 0.0, '161390': 0.0}\n",
      "Portfolio: {'000270': 0.0, '000660': 0.0, '000720': 0.0, '000810': 0.0, '000880': 0.0, '000990': 0.0, '001450': 0.125, '001570': 0.0, '004020': 0.0, '004370': 0.0, '005380': 0.0, '005490': 0.0, '005830': 0.0, '005940': 0.0, '006260': 0.0, '006400': 0.0, '006800': 0.0, '007070': 0.0, '008770': 0.0, '009150': 0.0, '009830': 0.0, '010120': 0.0, '010130': 0.0, '010620': 0.0, '010950': 0.125, '011070': 0.0, '011170': 0.0, '011780': 0.0, '012330': 0.0, '012450': 0.0, '015760': 0.0, '016360': 0.0, '020150': 0.0, '021240': 0.0, '024110': 0.0, '029780': 0.125, '030200': 0.0, '032640': 0.0, '032830': 0.0, '033780': 0.125, '034020': 0.0, '034220': 0.0, '034730': 0.0, '035250': 0.0, '036460': 0.0, '036570': 0.0, '039490': 0.0, '047050': 0.0, '051900': 0.0, '051910': 0.0, '052690': 0.0, '055550': 0.0, '066570': 0.0, '068270': 0.0, '071050': 0.0, '078930': 0.0, '086280': 0.0, '086790': 0.125, '096770': 0.125, '097950': 0.0, '105560': 0.125, '111770': 0.0, '128940': 0.0, '138040': 0.125, '138930': 0.0, '139480': 0.0, '161390': 0.0}\n",
      "Portfolio: {'000270': 0.0, '000660': 0.0, '000720': 0.0, '000810': 0.14285714285714285, '000880': 0.0, '000990': 0.0, '001450': 0.0, '001570': 0.0, '004020': 0.0, '004370': 0.0, '005380': 0.0, '005490': 0.0, '005830': 0.0, '005940': 0.0, '006260': 0.0, '006400': 0.0, '006800': 0.0, '007070': 0.0, '008770': 0.0, '009150': 0.0, '009830': 0.0, '010120': 0.0, '010130': 0.0, '010620': 0.0, '010950': 0.0, '011070': 0.0, '011170': 0.0, '011780': 0.0, '012330': 0.0, '012450': 0.0, '015760': 0.0, '016360': 0.0, '020150': 0.0, '021240': 0.14285714285714285, '024110': 0.0, '029780': 0.14285714285714285, '030200': 0.0, '032640': 0.0, '032830': 0.0, '033780': 0.0, '034020': 0.0, '034220': 0.0, '034730': 0.0, '035250': 0.0, '036460': 0.0, '036570': 0.0, '039490': 0.0, '047050': 0.0, '051900': 0.0, '051910': 0.0, '052690': 0.0, '055550': 0.0, '066570': 0.0, '068270': 0.0, '071050': 0.0, '078930': 0.0, '086280': 0.0, '086790': 0.14285714285714285, '096770': 0.14285714285714285, '097950': 0.0, '105560': 0.14285714285714285, '111770': 0.0, '128940': 0.0, '138040': 0.0, '138930': 0.14285714285714285, '139480': 0.0, '161390': 0.0}\n",
      "Portfolio: {'000270': 0.0, '000660': 0.0, '000720': 0.0, '000810': 0.14285714285714285, '000880': 0.0, '000990': 0.0, '001450': 0.0, '001570': 0.0, '004020': 0.0, '004370': 0.0, '005380': 0.0, '005490': 0.0, '005830': 0.0, '005940': 0.0, '006260': 0.0, '006400': 0.0, '006800': 0.0, '007070': 0.0, '008770': 0.0, '009150': 0.0, '009830': 0.0, '010120': 0.0, '010130': 0.0, '010620': 0.0, '010950': 0.0, '011070': 0.0, '011170': 0.14285714285714285, '011780': 0.0, '012330': 0.0, '012450': 0.0, '015760': 0.0, '016360': 0.0, '020150': 0.0, '021240': 0.14285714285714285, '024110': 0.0, '029780': 0.14285714285714285, '030200': 0.0, '032640': 0.0, '032830': 0.0, '033780': 0.0, '034020': 0.0, '034220': 0.0, '034730': 0.0, '035250': 0.0, '036460': 0.0, '036570': 0.0, '039490': 0.0, '047050': 0.0, '051900': 0.0, '051910': 0.0, '052690': 0.0, '055550': 0.0, '066570': 0.0, '068270': 0.0, '071050': 0.0, '078930': 0.0, '086280': 0.0, '086790': 0.14285714285714285, '096770': 0.14285714285714285, '097950': 0.0, '105560': 0.14285714285714285, '111770': 0.0, '128940': 0.0, '138040': 0.0, '138930': 0.0, '139480': 0.0, '161390': 0.0}\n",
      "Portfolio: {'000270': 0.0, '000660': 0.0, '000720': 0.0, '000810': 0.14285714285714285, '000880': 0.0, '000990': 0.0, '001450': 0.0, '001570': 0.0, '004020': 0.0, '004370': 0.0, '005380': 0.0, '005490': 0.14285714285714285, '005830': 0.0, '005940': 0.0, '006260': 0.0, '006400': 0.0, '006800': 0.0, '007070': 0.0, '008770': 0.0, '009150': 0.0, '009830': 0.0, '010120': 0.0, '010130': 0.0, '010620': 0.0, '010950': 0.0, '011070': 0.0, '011170': 0.14285714285714285, '011780': 0.0, '012330': 0.0, '012450': 0.0, '015760': 0.0, '016360': 0.0, '020150': 0.0, '021240': 0.0, '024110': 0.0, '029780': 0.14285714285714285, '030200': 0.0, '032640': 0.0, '032830': 0.0, '033780': 0.0, '034020': 0.0, '034220': 0.0, '034730': 0.0, '035250': 0.0, '036460': 0.0, '036570': 0.0, '039490': 0.0, '047050': 0.0, '051900': 0.0, '051910': 0.0, '052690': 0.0, '055550': 0.0, '066570': 0.0, '068270': 0.0, '071050': 0.0, '078930': 0.0, '086280': 0.0, '086790': 0.14285714285714285, '096770': 0.14285714285714285, '097950': 0.0, '105560': 0.14285714285714285, '111770': 0.0, '128940': 0.0, '138040': 0.0, '138930': 0.0, '139480': 0.0, '161390': 0.0}\n",
      "Portfolio: {'000270': 0.0, '000660': 0.0, '000720': 0.0, '000810': 0.14285714285714285, '000880': 0.0, '000990': 0.0, '001450': 0.14285714285714285, '001570': 0.0, '004020': 0.0, '004370': 0.0, '005380': 0.0, '005490': 0.14285714285714285, '005830': 0.0, '005940': 0.0, '006260': 0.0, '006400': 0.0, '006800': 0.0, '007070': 0.0, '008770': 0.0, '009150': 0.0, '009830': 0.0, '010120': 0.0, '010130': 0.0, '010620': 0.0, '010950': 0.0, '011070': 0.0, '011170': 0.0, '011780': 0.0, '012330': 0.0, '012450': 0.0, '015760': 0.0, '016360': 0.0, '020150': 0.0, '021240': 0.0, '024110': 0.0, '029780': 0.14285714285714285, '030200': 0.0, '032640': 0.0, '032830': 0.0, '033780': 0.0, '034020': 0.0, '034220': 0.0, '034730': 0.0, '035250': 0.0, '036460': 0.0, '036570': 0.0, '039490': 0.0, '047050': 0.0, '051900': 0.0, '051910': 0.0, '052690': 0.0, '055550': 0.0, '066570': 0.0, '068270': 0.0, '071050': 0.0, '078930': 0.0, '086280': 0.0, '086790': 0.14285714285714285, '096770': 0.14285714285714285, '097950': 0.0, '105560': 0.14285714285714285, '111770': 0.0, '128940': 0.0, '138040': 0.0, '138930': 0.0, '139480': 0.0, '161390': 0.0}\n",
      "Portfolio: {'000270': 0.0, '000660': 0.0, '000720': 0.0, '000810': 0.14285714285714285, '000880': 0.0, '000990': 0.0, '001450': 0.0, '001570': 0.0, '004020': 0.0, '004370': 0.0, '005380': 0.0, '005490': 0.14285714285714285, '005830': 0.0, '005940': 0.0, '006260': 0.0, '006400': 0.0, '006800': 0.0, '007070': 0.0, '008770': 0.0, '009150': 0.0, '009830': 0.0, '010120': 0.0, '010130': 0.0, '010620': 0.0, '010950': 0.0, '011070': 0.0, '011170': 0.14285714285714285, '011780': 0.0, '012330': 0.0, '012450': 0.0, '015760': 0.0, '016360': 0.0, '020150': 0.0, '021240': 0.0, '024110': 0.0, '029780': 0.14285714285714285, '030200': 0.0, '032640': 0.0, '032830': 0.0, '033780': 0.0, '034020': 0.0, '034220': 0.0, '034730': 0.0, '035250': 0.0, '036460': 0.0, '036570': 0.0, '039490': 0.0, '047050': 0.0, '051900': 0.0, '051910': 0.0, '052690': 0.0, '055550': 0.0, '066570': 0.0, '068270': 0.0, '071050': 0.0, '078930': 0.0, '086280': 0.0, '086790': 0.14285714285714285, '096770': 0.14285714285714285, '097950': 0.0, '105560': 0.14285714285714285, '111770': 0.0, '128940': 0.0, '138040': 0.0, '138930': 0.0, '139480': 0.0, '161390': 0.0}\n",
      "Portfolio: {'000270': 0.0, '000660': 0.0, '000720': 0.0, '000810': 0.14285714285714285, '000880': 0.0, '000990': 0.0, '001450': 0.0, '001570': 0.0, '004020': 0.0, '004370': 0.0, '005380': 0.0, '005490': 0.14285714285714285, '005830': 0.0, '005940': 0.0, '006260': 0.0, '006400': 0.0, '006800': 0.0, '007070': 0.0, '008770': 0.0, '009150': 0.0, '009830': 0.0, '010120': 0.0, '010130': 0.0, '010620': 0.0, '010950': 0.0, '011070': 0.0, '011170': 0.14285714285714285, '011780': 0.0, '012330': 0.0, '012450': 0.0, '015760': 0.0, '016360': 0.0, '020150': 0.0, '021240': 0.0, '024110': 0.0, '029780': 0.14285714285714285, '030200': 0.0, '032640': 0.0, '032830': 0.0, '033780': 0.0, '034020': 0.0, '034220': 0.0, '034730': 0.0, '035250': 0.0, '036460': 0.0, '036570': 0.0, '039490': 0.0, '047050': 0.0, '051900': 0.0, '051910': 0.0, '052690': 0.0, '055550': 0.0, '066570': 0.0, '068270': 0.0, '071050': 0.0, '078930': 0.0, '086280': 0.0, '086790': 0.14285714285714285, '096770': 0.14285714285714285, '097950': 0.0, '105560': 0.14285714285714285, '111770': 0.0, '128940': 0.0, '138040': 0.0, '138930': 0.0, '139480': 0.0, '161390': 0.0}\n",
      "Portfolio: {'000270': 0.0, '000660': 0.0, '000720': 0.0, '000810': 0.14285714285714285, '000880': 0.0, '000990': 0.0, '001450': 0.0, '001570': 0.0, '004020': 0.0, '004370': 0.0, '005380': 0.0, '005490': 0.14285714285714285, '005830': 0.0, '005940': 0.0, '006260': 0.0, '006400': 0.0, '006800': 0.0, '007070': 0.0, '008770': 0.0, '009150': 0.0, '009830': 0.0, '010120': 0.0, '010130': 0.0, '010620': 0.0, '010950': 0.0, '011070': 0.0, '011170': 0.14285714285714285, '011780': 0.0, '012330': 0.0, '012450': 0.0, '015760': 0.0, '016360': 0.0, '020150': 0.0, '021240': 0.0, '024110': 0.14285714285714285, '029780': 0.14285714285714285, '030200': 0.0, '032640': 0.0, '032830': 0.0, '033780': 0.0, '034020': 0.0, '034220': 0.0, '034730': 0.0, '035250': 0.0, '036460': 0.0, '036570': 0.0, '039490': 0.0, '047050': 0.0, '051900': 0.0, '051910': 0.0, '052690': 0.0, '055550': 0.0, '066570': 0.0, '068270': 0.0, '071050': 0.0, '078930': 0.0, '086280': 0.0, '086790': 0.14285714285714285, '096770': 0.14285714285714285, '097950': 0.0, '105560': 0.0, '111770': 0.0, '128940': 0.0, '138040': 0.0, '138930': 0.0, '139480': 0.0, '161390': 0.0}\n",
      "Portfolio: {'000270': 0.0, '000660': 0.0, '000720': 0.0, '000810': 0.14285714285714285, '000880': 0.0, '000990': 0.0, '001450': 0.0, '001570': 0.0, '004020': 0.0, '004370': 0.0, '005380': 0.0, '005490': 0.14285714285714285, '005830': 0.0, '005940': 0.0, '006260': 0.0, '006400': 0.0, '006800': 0.0, '007070': 0.0, '008770': 0.0, '009150': 0.0, '009830': 0.0, '010120': 0.0, '010130': 0.0, '010620': 0.0, '010950': 0.0, '011070': 0.0, '011170': 0.14285714285714285, '011780': 0.0, '012330': 0.0, '012450': 0.0, '015760': 0.0, '016360': 0.0, '020150': 0.0, '021240': 0.0, '024110': 0.14285714285714285, '029780': 0.0, '030200': 0.0, '032640': 0.0, '032830': 0.0, '033780': 0.14285714285714285, '034020': 0.0, '034220': 0.0, '034730': 0.0, '035250': 0.0, '036460': 0.0, '036570': 0.0, '039490': 0.0, '047050': 0.0, '051900': 0.0, '051910': 0.0, '052690': 0.0, '055550': 0.0, '066570': 0.0, '068270': 0.0, '071050': 0.0, '078930': 0.0, '086280': 0.0, '086790': 0.14285714285714285, '096770': 0.14285714285714285, '097950': 0.0, '105560': 0.0, '111770': 0.0, '128940': 0.0, '138040': 0.0, '138930': 0.0, '139480': 0.0, '161390': 0.0}\n",
      "Portfolio: {'000270': 0.0, '000660': 0.0, '000720': 0.0, '000810': 0.14285714285714285, '000880': 0.0, '000990': 0.0, '001450': 0.14285714285714285, '001570': 0.0, '004020': 0.0, '004370': 0.0, '005380': 0.0, '005490': 0.0, '005830': 0.14285714285714285, '005940': 0.0, '006260': 0.0, '006400': 0.0, '006800': 0.0, '007070': 0.0, '008770': 0.0, '009150': 0.0, '009830': 0.0, '010120': 0.0, '010130': 0.0, '010620': 0.0, '010950': 0.0, '011070': 0.0, '011170': 0.14285714285714285, '011780': 0.0, '012330': 0.0, '012450': 0.0, '015760': 0.0, '016360': 0.0, '020150': 0.0, '021240': 0.0, '024110': 0.14285714285714285, '029780': 0.0, '030200': 0.0, '032640': 0.0, '032830': 0.0, '033780': 0.0, '034020': 0.0, '034220': 0.0, '034730': 0.0, '035250': 0.0, '036460': 0.0, '036570': 0.0, '039490': 0.0, '047050': 0.0, '051900': 0.0, '051910': 0.0, '052690': 0.0, '055550': 0.0, '066570': 0.0, '068270': 0.0, '071050': 0.0, '078930': 0.0, '086280': 0.0, '086790': 0.14285714285714285, '096770': 0.14285714285714285, '097950': 0.0, '105560': 0.0, '111770': 0.0, '128940': 0.0, '138040': 0.0, '138930': 0.0, '139480': 0.0, '161390': 0.0}\n",
      "Portfolio: {'000270': 0.0, '000660': 0.0, '000720': 0.0, '000810': 0.14285714285714285, '000880': 0.0, '000990': 0.0, '001450': 0.0, '001570': 0.0, '004020': 0.0, '004370': 0.0, '005380': 0.0, '005490': 0.14285714285714285, '005830': 0.0, '005940': 0.0, '006260': 0.0, '006400': 0.0, '006800': 0.0, '007070': 0.0, '008770': 0.0, '009150': 0.0, '009830': 0.0, '010120': 0.0, '010130': 0.0, '010620': 0.0, '010950': 0.0, '011070': 0.0, '011170': 0.14285714285714285, '011780': 0.0, '012330': 0.0, '012450': 0.0, '015760': 0.0, '016360': 0.0, '020150': 0.0, '021240': 0.14285714285714285, '024110': 0.14285714285714285, '029780': 0.0, '030200': 0.0, '032640': 0.0, '032830': 0.0, '033780': 0.0, '034020': 0.0, '034220': 0.0, '034730': 0.0, '035250': 0.0, '036460': 0.0, '036570': 0.0, '039490': 0.0, '047050': 0.0, '051900': 0.0, '051910': 0.0, '052690': 0.0, '055550': 0.0, '066570': 0.0, '068270': 0.0, '071050': 0.0, '078930': 0.0, '086280': 0.0, '086790': 0.14285714285714285, '096770': 0.14285714285714285, '097950': 0.0, '105560': 0.0, '111770': 0.0, '128940': 0.0, '138040': 0.0, '138930': 0.0, '139480': 0.0, '161390': 0.0}\n",
      "Portfolio: {'000270': 0.0, '000660': 0.0, '000720': 0.0, '000810': 0.14285714285714285, '000880': 0.0, '000990': 0.0, '001450': 0.0, '001570': 0.0, '004020': 0.0, '004370': 0.0, '005380': 0.0, '005490': 0.0, '005830': 0.0, '005940': 0.0, '006260': 0.0, '006400': 0.0, '006800': 0.0, '007070': 0.0, '008770': 0.0, '009150': 0.0, '009830': 0.0, '010120': 0.0, '010130': 0.0, '010620': 0.0, '010950': 0.0, '011070': 0.0, '011170': 0.0, '011780': 0.0, '012330': 0.0, '012450': 0.0, '015760': 0.0, '016360': 0.0, '020150': 0.0, '021240': 0.14285714285714285, '024110': 0.14285714285714285, '029780': 0.0, '030200': 0.0, '032640': 0.0, '032830': 0.0, '033780': 0.0, '034020': 0.0, '034220': 0.0, '034730': 0.0, '035250': 0.0, '036460': 0.14285714285714285, '036570': 0.0, '039490': 0.0, '047050': 0.0, '051900': 0.0, '051910': 0.0, '052690': 0.0, '055550': 0.0, '066570': 0.0, '068270': 0.0, '071050': 0.0, '078930': 0.0, '086280': 0.0, '086790': 0.14285714285714285, '096770': 0.14285714285714285, '097950': 0.0, '105560': 0.0, '111770': 0.0, '128940': 0.0, '138040': 0.0, '138930': 0.14285714285714285, '139480': 0.0, '161390': 0.0}\n",
      "Portfolio: {'000270': 0.0, '000660': 0.0, '000720': 0.0, '000810': 0.14285714285714285, '000880': 0.0, '000990': 0.0, '001450': 0.0, '001570': 0.0, '004020': 0.0, '004370': 0.0, '005380': 0.0, '005490': 0.0, '005830': 0.0, '005940': 0.0, '006260': 0.0, '006400': 0.0, '006800': 0.0, '007070': 0.0, '008770': 0.0, '009150': 0.0, '009830': 0.0, '010120': 0.0, '010130': 0.0, '010620': 0.0, '010950': 0.0, '011070': 0.0, '011170': 0.0, '011780': 0.0, '012330': 0.0, '012450': 0.0, '015760': 0.0, '016360': 0.0, '020150': 0.0, '021240': 0.14285714285714285, '024110': 0.14285714285714285, '029780': 0.0, '030200': 0.0, '032640': 0.0, '032830': 0.0, '033780': 0.0, '034020': 0.0, '034220': 0.0, '034730': 0.0, '035250': 0.0, '036460': 0.0, '036570': 0.0, '039490': 0.0, '047050': 0.0, '051900': 0.0, '051910': 0.0, '052690': 0.0, '055550': 0.0, '066570': 0.0, '068270': 0.0, '071050': 0.0, '078930': 0.0, '086280': 0.0, '086790': 0.14285714285714285, '096770': 0.14285714285714285, '097950': 0.0, '105560': 0.14285714285714285, '111770': 0.0, '128940': 0.0, '138040': 0.0, '138930': 0.14285714285714285, '139480': 0.0, '161390': 0.0}\n",
      "Portfolio: {'000270': 0.0, '000660': 0.0, '000720': 0.0, '000810': 0.0, '000880': 0.0, '000990': 0.0, '001450': 0.0, '001570': 0.0, '004020': 0.0, '004370': 0.0, '005380': 0.0, '005490': 0.0, '005830': 0.0, '005940': 0.0, '006260': 0.0, '006400': 0.0, '006800': 0.0, '007070': 0.0, '008770': 0.0, '009150': 0.0, '009830': 0.0, '010120': 0.0, '010130': 0.0, '010620': 0.0, '010950': 0.0, '011070': 0.0, '011170': 0.0, '011780': 0.0, '012330': 0.0, '012450': 0.0, '015760': 0.0, '016360': 0.14285714285714285, '020150': 0.0, '021240': 0.0, '024110': 0.14285714285714285, '029780': 0.0, '030200': 0.0, '032640': 0.0, '032830': 0.14285714285714285, '033780': 0.0, '034020': 0.0, '034220': 0.0, '034730': 0.0, '035250': 0.0, '036460': 0.0, '036570': 0.0, '039490': 0.0, '047050': 0.0, '051900': 0.0, '051910': 0.0, '052690': 0.0, '055550': 0.14285714285714285, '066570': 0.0, '068270': 0.0, '071050': 0.0, '078930': 0.0, '086280': 0.0, '086790': 0.14285714285714285, '096770': 0.0, '097950': 0.0, '105560': 0.14285714285714285, '111770': 0.0, '128940': 0.0, '138040': 0.0, '138930': 0.14285714285714285, '139480': 0.0, '161390': 0.0}\n",
      "Portfolio: {'000270': 0.0, '000660': 0.0, '000720': 0.0, '000810': 0.0, '000880': 0.0, '000990': 0.0, '001450': 0.0, '001570': 0.0, '004020': 0.0, '004370': 0.0, '005380': 0.0, '005490': 0.0, '005830': 0.0, '005940': 0.0, '006260': 0.0, '006400': 0.0, '006800': 0.0, '007070': 0.0, '008770': 0.0, '009150': 0.0, '009830': 0.0, '010120': 0.0, '010130': 0.0, '010620': 0.0, '010950': 0.0, '011070': 0.0, '011170': 0.0, '011780': 0.0, '012330': 0.0, '012450': 0.0, '015760': 0.0, '016360': 0.14285714285714285, '020150': 0.0, '021240': 0.0, '024110': 0.14285714285714285, '029780': 0.0, '030200': 0.0, '032640': 0.0, '032830': 0.0, '033780': 0.0, '034020': 0.0, '034220': 0.0, '034730': 0.0, '035250': 0.0, '036460': 0.0, '036570': 0.0, '039490': 0.0, '047050': 0.0, '051900': 0.0, '051910': 0.0, '052690': 0.0, '055550': 0.14285714285714285, '066570': 0.0, '068270': 0.0, '071050': 0.14285714285714285, '078930': 0.0, '086280': 0.0, '086790': 0.14285714285714285, '096770': 0.0, '097950': 0.0, '105560': 0.14285714285714285, '111770': 0.0, '128940': 0.0, '138040': 0.0, '138930': 0.14285714285714285, '139480': 0.0, '161390': 0.0}\n",
      "Portfolio: {'000270': 0.0, '000660': 0.0, '000720': 0.0, '000810': 0.0, '000880': 0.0, '000990': 0.0, '001450': 0.0, '001570': 0.0, '004020': 0.0, '004370': 0.0, '005380': 0.0, '005490': 0.0, '005830': 0.0, '005940': 0.0, '006260': 0.0, '006400': 0.0, '006800': 0.0, '007070': 0.0, '008770': 0.0, '009150': 0.0, '009830': 0.0, '010120': 0.0, '010130': 0.0, '010620': 0.0, '010950': 0.0, '011070': 0.0, '011170': 0.0, '011780': 0.0, '012330': 0.0, '012450': 0.0, '015760': 0.0, '016360': 0.14285714285714285, '020150': 0.0, '021240': 0.0, '024110': 0.14285714285714285, '029780': 0.0, '030200': 0.0, '032640': 0.0, '032830': 0.0, '033780': 0.0, '034020': 0.0, '034220': 0.0, '034730': 0.0, '035250': 0.0, '036460': 0.0, '036570': 0.0, '039490': 0.0, '047050': 0.0, '051900': 0.0, '051910': 0.0, '052690': 0.0, '055550': 0.0, '066570': 0.0, '068270': 0.0, '071050': 0.14285714285714285, '078930': 0.0, '086280': 0.0, '086790': 0.14285714285714285, '096770': 0.0, '097950': 0.0, '105560': 0.14285714285714285, '111770': 0.0, '128940': 0.0, '138040': 0.14285714285714285, '138930': 0.14285714285714285, '139480': 0.0, '161390': 0.0}\n",
      "Portfolio: {'000270': 0.0, '000660': 0.0, '000720': 0.0, '000810': 0.0, '000880': 0.0, '000990': 0.0, '001450': 0.0, '001570': 0.0, '004020': 0.0, '004370': 0.0, '005380': 0.0, '005490': 0.0, '005830': 0.0, '005940': 0.0, '006260': 0.0, '006400': 0.0, '006800': 0.0, '007070': 0.0, '008770': 0.0, '009150': 0.0, '009830': 0.0, '010120': 0.0, '010130': 0.0, '010620': 0.0, '010950': 0.0, '011070': 0.0, '011170': 0.0, '011780': 0.0, '012330': 0.0, '012450': 0.0, '015760': 0.0, '016360': 0.0, '020150': 0.0, '021240': 0.0, '024110': 0.14285714285714285, '029780': 0.0, '030200': 0.0, '032640': 0.0, '032830': 0.0, '033780': 0.0, '034020': 0.0, '034220': 0.0, '034730': 0.0, '035250': 0.0, '036460': 0.0, '036570': 0.0, '039490': 0.0, '047050': 0.0, '051900': 0.0, '051910': 0.0, '052690': 0.0, '055550': 0.14285714285714285, '066570': 0.0, '068270': 0.0, '071050': 0.0, '078930': 0.14285714285714285, '086280': 0.0, '086790': 0.14285714285714285, '096770': 0.0, '097950': 0.0, '105560': 0.14285714285714285, '111770': 0.0, '128940': 0.0, '138040': 0.14285714285714285, '138930': 0.14285714285714285, '139480': 0.0, '161390': 0.0}\n",
      "Portfolio: {'000270': 0.0, '000660': 0.0, '000720': 0.0, '000810': 0.0, '000880': 0.0, '000990': 0.0, '001450': 0.0, '001570': 0.0, '004020': 0.0, '004370': 0.0, '005380': 0.0, '005490': 0.0, '005830': 0.0, '005940': 0.0, '006260': 0.0, '006400': 0.0, '006800': 0.0, '007070': 0.0, '008770': 0.0, '009150': 0.0, '009830': 0.0, '010120': 0.0, '010130': 0.0, '010620': 0.0, '010950': 0.0, '011070': 0.0, '011170': 0.0, '011780': 0.0, '012330': 0.0, '012450': 0.0, '015760': 0.0, '016360': 0.0, '020150': 0.0, '021240': 0.0, '024110': 0.14285714285714285, '029780': 0.0, '030200': 0.0, '032640': 0.0, '032830': 0.0, '033780': 0.0, '034020': 0.0, '034220': 0.0, '034730': 0.0, '035250': 0.0, '036460': 0.0, '036570': 0.0, '039490': 0.0, '047050': 0.0, '051900': 0.0, '051910': 0.0, '052690': 0.0, '055550': 0.14285714285714285, '066570': 0.0, '068270': 0.0, '071050': 0.0, '078930': 0.14285714285714285, '086280': 0.0, '086790': 0.14285714285714285, '096770': 0.0, '097950': 0.0, '105560': 0.14285714285714285, '111770': 0.0, '128940': 0.0, '138040': 0.14285714285714285, '138930': 0.14285714285714285, '139480': 0.0, '161390': 0.0}\n",
      "Portfolio: {'000270': 0.0, '000660': 0.0, '000720': 0.0, '000810': 0.0, '000880': 0.0, '000990': 0.0, '001450': 0.0, '001570': 0.0, '004020': 0.0, '004370': 0.0, '005380': 0.0, '005490': 0.0, '005830': 0.0, '005940': 0.0, '006260': 0.0, '006400': 0.0, '006800': 0.0, '007070': 0.0, '008770': 0.0, '009150': 0.0, '009830': 0.0, '010120': 0.0, '010130': 0.0, '010620': 0.0, '010950': 0.0, '011070': 0.0, '011170': 0.0, '011780': 0.0, '012330': 0.0, '012450': 0.0, '015760': 0.0, '016360': 0.0, '020150': 0.0, '021240': 0.0, '024110': 0.14285714285714285, '029780': 0.0, '030200': 0.0, '032640': 0.0, '032830': 0.0, '033780': 0.0, '034020': 0.0, '034220': 0.0, '034730': 0.0, '035250': 0.0, '036460': 0.0, '036570': 0.0, '039490': 0.0, '047050': 0.0, '051900': 0.0, '051910': 0.0, '052690': 0.0, '055550': 0.14285714285714285, '066570': 0.0, '068270': 0.0, '071050': 0.0, '078930': 0.14285714285714285, '086280': 0.0, '086790': 0.14285714285714285, '096770': 0.0, '097950': 0.0, '105560': 0.14285714285714285, '111770': 0.0, '128940': 0.0, '138040': 0.14285714285714285, '138930': 0.14285714285714285, '139480': 0.0, '161390': 0.0}\n",
      "Portfolio: {'000270': 0.0, '000660': 0.0, '000720': 0.0, '000810': 0.0, '000880': 0.0, '000990': 0.0, '001450': 0.0, '001570': 0.0, '004020': 0.0, '004370': 0.0, '005380': 0.0, '005490': 0.0, '005830': 0.0, '005940': 0.0, '006260': 0.0, '006400': 0.0, '006800': 0.0, '007070': 0.0, '008770': 0.0, '009150': 0.0, '009830': 0.0, '010120': 0.0, '010130': 0.0, '010620': 0.0, '010950': 0.0, '011070': 0.0, '011170': 0.0, '011780': 0.0, '012330': 0.0, '012450': 0.0, '015760': 0.0, '016360': 0.0, '020150': 0.0, '021240': 0.0, '024110': 0.14285714285714285, '029780': 0.0, '030200': 0.0, '032640': 0.0, '032830': 0.0, '033780': 0.14285714285714285, '034020': 0.0, '034220': 0.0, '034730': 0.0, '035250': 0.0, '036460': 0.0, '036570': 0.0, '039490': 0.0, '047050': 0.0, '051900': 0.0, '051910': 0.0, '052690': 0.0, '055550': 0.14285714285714285, '066570': 0.0, '068270': 0.0, '071050': 0.0, '078930': 0.14285714285714285, '086280': 0.0, '086790': 0.14285714285714285, '096770': 0.0, '097950': 0.0, '105560': 0.0, '111770': 0.0, '128940': 0.0, '138040': 0.14285714285714285, '138930': 0.14285714285714285, '139480': 0.0, '161390': 0.0}\n",
      "Portfolio: {'000270': 0.0, '000660': 0.0, '000720': 0.0, '000810': 0.0, '000880': 0.0, '000990': 0.0, '001450': 0.0, '001570': 0.0, '004020': 0.0, '004370': 0.0, '005380': 0.0, '005490': 0.0, '005830': 0.0, '005940': 0.0, '006260': 0.0, '006400': 0.0, '006800': 0.0, '007070': 0.0, '008770': 0.0, '009150': 0.0, '009830': 0.0, '010120': 0.0, '010130': 0.0, '010620': 0.0, '010950': 0.0, '011070': 0.0, '011170': 0.0, '011780': 0.0, '012330': 0.0, '012450': 0.0, '015760': 0.0, '016360': 0.0, '020150': 0.0, '021240': 0.0, '024110': 0.14285714285714285, '029780': 0.0, '030200': 0.0, '032640': 0.0, '032830': 0.0, '033780': 0.14285714285714285, '034020': 0.0, '034220': 0.0, '034730': 0.0, '035250': 0.0, '036460': 0.0, '036570': 0.0, '039490': 0.0, '047050': 0.0, '051900': 0.0, '051910': 0.0, '052690': 0.0, '055550': 0.14285714285714285, '066570': 0.0, '068270': 0.0, '071050': 0.0, '078930': 0.0, '086280': 0.0, '086790': 0.14285714285714285, '096770': 0.0, '097950': 0.0, '105560': 0.14285714285714285, '111770': 0.0, '128940': 0.0, '138040': 0.14285714285714285, '138930': 0.14285714285714285, '139480': 0.0, '161390': 0.0}\n",
      "Portfolio: {'000270': 0.0, '000660': 0.0, '000720': 0.0, '000810': 0.0, '000880': 0.0, '000990': 0.0, '001450': 0.0, '001570': 0.0, '004020': 0.0, '004370': 0.0, '005380': 0.0, '005490': 0.0, '005830': 0.0, '005940': 0.0, '006260': 0.0, '006400': 0.0, '006800': 0.0, '007070': 0.0, '008770': 0.0, '009150': 0.0, '009830': 0.0, '010120': 0.0, '010130': 0.0, '010620': 0.0, '010950': 0.0, '011070': 0.0, '011170': 0.0, '011780': 0.0, '012330': 0.0, '012450': 0.0, '015760': 0.0, '016360': 0.0, '020150': 0.0, '021240': 0.0, '024110': 0.14285714285714285, '029780': 0.0, '030200': 0.0, '032640': 0.0, '032830': 0.0, '033780': 0.14285714285714285, '034020': 0.0, '034220': 0.0, '034730': 0.0, '035250': 0.0, '036460': 0.0, '036570': 0.0, '039490': 0.0, '047050': 0.0, '051900': 0.0, '051910': 0.0, '052690': 0.0, '055550': 0.14285714285714285, '066570': 0.0, '068270': 0.0, '071050': 0.0, '078930': 0.0, '086280': 0.0, '086790': 0.14285714285714285, '096770': 0.0, '097950': 0.0, '105560': 0.14285714285714285, '111770': 0.0, '128940': 0.0, '138040': 0.14285714285714285, '138930': 0.14285714285714285, '139480': 0.0, '161390': 0.0}\n",
      "Portfolio: {'000270': 0.0, '000660': 0.0, '000720': 0.0, '000810': 0.14285714285714285, '000880': 0.0, '000990': 0.0, '001450': 0.0, '001570': 0.0, '004020': 0.0, '004370': 0.0, '005380': 0.0, '005490': 0.0, '005830': 0.0, '005940': 0.0, '006260': 0.0, '006400': 0.0, '006800': 0.0, '007070': 0.0, '008770': 0.0, '009150': 0.0, '009830': 0.0, '010120': 0.0, '010130': 0.0, '010620': 0.0, '010950': 0.0, '011070': 0.0, '011170': 0.0, '011780': 0.0, '012330': 0.0, '012450': 0.0, '015760': 0.0, '016360': 0.0, '020150': 0.0, '021240': 0.0, '024110': 0.14285714285714285, '029780': 0.0, '030200': 0.0, '032640': 0.0, '032830': 0.0, '033780': 0.14285714285714285, '034020': 0.0, '034220': 0.0, '034730': 0.0, '035250': 0.0, '036460': 0.0, '036570': 0.0, '039490': 0.0, '047050': 0.0, '051900': 0.0, '051910': 0.0, '052690': 0.0, '055550': 0.14285714285714285, '066570': 0.0, '068270': 0.0, '071050': 0.0, '078930': 0.0, '086280': 0.0, '086790': 0.14285714285714285, '096770': 0.0, '097950': 0.0, '105560': 0.14285714285714285, '111770': 0.0, '128940': 0.0, '138040': 0.0, '138930': 0.14285714285714285, '139480': 0.0, '161390': 0.0}\n",
      "Portfolio: {'000270': 0.0, '000660': 0.0, '000720': 0.0, '000810': 0.0, '000880': 0.0, '000990': 0.0, '001450': 0.0, '001570': 0.0, '004020': 0.0, '004370': 0.0, '005380': 0.0, '005490': 0.0, '005830': 0.0, '005940': 0.0, '006260': 0.0, '006400': 0.0, '006800': 0.0, '007070': 0.0, '008770': 0.0, '009150': 0.0, '009830': 0.0, '010120': 0.0, '010130': 0.0, '010620': 0.0, '010950': 0.0, '011070': 0.0, '011170': 0.0, '011780': 0.0, '012330': 0.0, '012450': 0.0, '015760': 0.0, '016360': 0.0, '020150': 0.0, '021240': 0.0, '024110': 0.14285714285714285, '029780': 0.14285714285714285, '030200': 0.0, '032640': 0.0, '032830': 0.0, '033780': 0.14285714285714285, '034020': 0.0, '034220': 0.0, '034730': 0.0, '035250': 0.0, '036460': 0.0, '036570': 0.0, '039490': 0.0, '047050': 0.0, '051900': 0.0, '051910': 0.0, '052690': 0.0, '055550': 0.14285714285714285, '066570': 0.0, '068270': 0.0, '071050': 0.0, '078930': 0.14285714285714285, '086280': 0.0, '086790': 0.14285714285714285, '096770': 0.0, '097950': 0.0, '105560': 0.0, '111770': 0.0, '128940': 0.0, '138040': 0.0, '138930': 0.14285714285714285, '139480': 0.0, '161390': 0.0}\n",
      "Portfolio: {'000270': 0.0, '000660': 0.0, '000720': 0.0, '000810': 0.0, '000880': 0.0, '000990': 0.0, '001450': 0.0, '001570': 0.0, '004020': 0.0, '004370': 0.0, '005380': 0.0, '005490': 0.0, '005830': 0.0, '005940': 0.0, '006260': 0.0, '006400': 0.0, '006800': 0.0, '007070': 0.0, '008770': 0.0, '009150': 0.0, '009830': 0.0, '010120': 0.0, '010130': 0.0, '010620': 0.0, '010950': 0.0, '011070': 0.0, '011170': 0.0, '011780': 0.0, '012330': 0.0, '012450': 0.0, '015760': 0.0, '016360': 0.0, '020150': 0.0, '021240': 0.0, '024110': 0.14285714285714285, '029780': 0.14285714285714285, '030200': 0.0, '032640': 0.0, '032830': 0.0, '033780': 0.14285714285714285, '034020': 0.0, '034220': 0.0, '034730': 0.0, '035250': 0.0, '036460': 0.0, '036570': 0.0, '039490': 0.0, '047050': 0.0, '051900': 0.0, '051910': 0.0, '052690': 0.0, '055550': 0.14285714285714285, '066570': 0.0, '068270': 0.0, '071050': 0.0, '078930': 0.14285714285714285, '086280': 0.0, '086790': 0.14285714285714285, '096770': 0.0, '097950': 0.0, '105560': 0.0, '111770': 0.0, '128940': 0.0, '138040': 0.0, '138930': 0.14285714285714285, '139480': 0.0, '161390': 0.0}\n",
      "Portfolio: {'000270': 0.0, '000660': 0.0, '000720': 0.0, '000810': 0.0, '000880': 0.0, '000990': 0.0, '001450': 0.0, '001570': 0.0, '004020': 0.0, '004370': 0.0, '005380': 0.0, '005490': 0.0, '005830': 0.0, '005940': 0.14285714285714285, '006260': 0.0, '006400': 0.0, '006800': 0.0, '007070': 0.0, '008770': 0.0, '009150': 0.0, '009830': 0.0, '010120': 0.0, '010130': 0.0, '010620': 0.0, '010950': 0.0, '011070': 0.0, '011170': 0.0, '011780': 0.0, '012330': 0.0, '012450': 0.0, '015760': 0.14285714285714285, '016360': 0.14285714285714285, '020150': 0.0, '021240': 0.0, '024110': 0.14285714285714285, '029780': 0.14285714285714285, '030200': 0.0, '032640': 0.0, '032830': 0.0, '033780': 0.14285714285714285, '034020': 0.0, '034220': 0.0, '034730': 0.0, '035250': 0.0, '036460': 0.0, '036570': 0.0, '039490': 0.0, '047050': 0.0, '051900': 0.0, '051910': 0.0, '052690': 0.0, '055550': 0.0, '066570': 0.0, '068270': 0.0, '071050': 0.0, '078930': 0.0, '086280': 0.0, '086790': 0.0, '096770': 0.0, '097950': 0.0, '105560': 0.0, '111770': 0.0, '128940': 0.0, '138040': 0.14285714285714285, '138930': 0.0, '139480': 0.0, '161390': 0.0}\n",
      "Portfolio: {'000270': 0.0, '000660': 0.0, '000720': 0.0, '000810': 0.0, '000880': 0.0, '000990': 0.0, '001450': 0.0, '001570': 0.0, '004020': 0.0, '004370': 0.0, '005380': 0.0, '005490': 0.0, '005830': 0.0, '005940': 0.125, '006260': 0.0, '006400': 0.0, '006800': 0.0, '007070': 0.0, '008770': 0.0, '009150': 0.0, '009830': 0.0, '010120': 0.0, '010130': 0.0, '010620': 0.0, '010950': 0.0, '011070': 0.0, '011170': 0.0, '011780': 0.0, '012330': 0.0, '012450': 0.0, '015760': 0.125, '016360': 0.125, '020150': 0.0, '021240': 0.0, '024110': 0.125, '029780': 0.125, '030200': 0.125, '032640': 0.0, '032830': 0.0, '033780': 0.125, '034020': 0.0, '034220': 0.0, '034730': 0.0, '035250': 0.0, '036460': 0.0, '036570': 0.0, '039490': 0.0, '047050': 0.0, '051900': 0.0, '051910': 0.0, '052690': 0.0, '055550': 0.0, '066570': 0.0, '068270': 0.0, '071050': 0.0, '078930': 0.0, '086280': 0.0, '086790': 0.0, '096770': 0.0, '097950': 0.0, '105560': 0.0, '111770': 0.0, '128940': 0.0, '138040': 0.125, '138930': 0.0, '139480': 0.0, '161390': 0.0}\n",
      "Portfolio: {'000270': 0.0, '000660': 0.0, '000720': 0.0, '000810': 0.0, '000880': 0.0, '000990': 0.0, '001450': 0.0, '001570': 0.0, '004020': 0.0, '004370': 0.0, '005380': 0.0, '005490': 0.0, '005830': 0.0, '005940': 0.14285714285714285, '006260': 0.0, '006400': 0.0, '006800': 0.0, '007070': 0.0, '008770': 0.0, '009150': 0.0, '009830': 0.0, '010120': 0.0, '010130': 0.0, '010620': 0.0, '010950': 0.0, '011070': 0.0, '011170': 0.0, '011780': 0.0, '012330': 0.0, '012450': 0.0, '015760': 0.14285714285714285, '016360': 0.14285714285714285, '020150': 0.0, '021240': 0.0, '024110': 0.14285714285714285, '029780': 0.14285714285714285, '030200': 0.0, '032640': 0.0, '032830': 0.0, '033780': 0.14285714285714285, '034020': 0.0, '034220': 0.0, '034730': 0.0, '035250': 0.0, '036460': 0.0, '036570': 0.0, '039490': 0.0, '047050': 0.0, '051900': 0.0, '051910': 0.0, '052690': 0.0, '055550': 0.0, '066570': 0.0, '068270': 0.0, '071050': 0.0, '078930': 0.14285714285714285, '086280': 0.0, '086790': 0.0, '096770': 0.0, '097950': 0.0, '105560': 0.0, '111770': 0.0, '128940': 0.0, '138040': 0.0, '138930': 0.0, '139480': 0.0, '161390': 0.0}\n",
      "Portfolio: {'000270': 0.0, '000660': 0.0, '000720': 0.0, '000810': 0.0, '000880': 0.0, '000990': 0.0, '001450': 0.0, '001570': 0.0, '004020': 0.0, '004370': 0.0, '005380': 0.0, '005490': 0.0, '005830': 0.0, '005940': 0.14285714285714285, '006260': 0.0, '006400': 0.0, '006800': 0.0, '007070': 0.0, '008770': 0.0, '009150': 0.0, '009830': 0.0, '010120': 0.0, '010130': 0.0, '010620': 0.0, '010950': 0.0, '011070': 0.0, '011170': 0.0, '011780': 0.0, '012330': 0.0, '012450': 0.0, '015760': 0.14285714285714285, '016360': 0.14285714285714285, '020150': 0.0, '021240': 0.0, '024110': 0.14285714285714285, '029780': 0.14285714285714285, '030200': 0.0, '032640': 0.0, '032830': 0.0, '033780': 0.14285714285714285, '034020': 0.0, '034220': 0.0, '034730': 0.0, '035250': 0.0, '036460': 0.0, '036570': 0.0, '039490': 0.0, '047050': 0.0, '051900': 0.0, '051910': 0.0, '052690': 0.0, '055550': 0.0, '066570': 0.0, '068270': 0.0, '071050': 0.0, '078930': 0.14285714285714285, '086280': 0.0, '086790': 0.0, '096770': 0.0, '097950': 0.0, '105560': 0.0, '111770': 0.0, '128940': 0.0, '138040': 0.0, '138930': 0.0, '139480': 0.0, '161390': 0.0}\n",
      "Portfolio: {'000270': 0.0, '000660': 0.0, '000720': 0.0, '000810': 0.0, '000880': 0.0, '000990': 0.0, '001450': 0.0, '001570': 0.0, '004020': 0.0, '004370': 0.0, '005380': 0.0, '005490': 0.0, '005830': 0.0, '005940': 0.14285714285714285, '006260': 0.0, '006400': 0.0, '006800': 0.0, '007070': 0.0, '008770': 0.0, '009150': 0.0, '009830': 0.0, '010120': 0.0, '010130': 0.0, '010620': 0.0, '010950': 0.0, '011070': 0.0, '011170': 0.0, '011780': 0.0, '012330': 0.0, '012450': 0.0, '015760': 0.14285714285714285, '016360': 0.14285714285714285, '020150': 0.0, '021240': 0.0, '024110': 0.14285714285714285, '029780': 0.14285714285714285, '030200': 0.0, '032640': 0.0, '032830': 0.0, '033780': 0.14285714285714285, '034020': 0.0, '034220': 0.0, '034730': 0.0, '035250': 0.0, '036460': 0.0, '036570': 0.0, '039490': 0.0, '047050': 0.0, '051900': 0.0, '051910': 0.0, '052690': 0.0, '055550': 0.0, '066570': 0.0, '068270': 0.0, '071050': 0.0, '078930': 0.14285714285714285, '086280': 0.0, '086790': 0.0, '096770': 0.0, '097950': 0.0, '105560': 0.0, '111770': 0.0, '128940': 0.0, '138040': 0.0, '138930': 0.0, '139480': 0.0, '161390': 0.0}\n",
      "Portfolio: {'000270': 0.0, '000660': 0.0, '000720': 0.0, '000810': 0.0, '000880': 0.0, '000990': 0.0, '001450': 0.0, '001570': 0.0, '004020': 0.0, '004370': 0.0, '005380': 0.0, '005490': 0.0, '005830': 0.0, '005940': 0.14285714285714285, '006260': 0.0, '006400': 0.0, '006800': 0.0, '007070': 0.0, '008770': 0.0, '009150': 0.0, '009830': 0.0, '010120': 0.0, '010130': 0.0, '010620': 0.0, '010950': 0.0, '011070': 0.0, '011170': 0.0, '011780': 0.0, '012330': 0.0, '012450': 0.0, '015760': 0.14285714285714285, '016360': 0.14285714285714285, '020150': 0.0, '021240': 0.0, '024110': 0.0, '029780': 0.14285714285714285, '030200': 0.14285714285714285, '032640': 0.0, '032830': 0.0, '033780': 0.14285714285714285, '034020': 0.0, '034220': 0.0, '034730': 0.0, '035250': 0.0, '036460': 0.0, '036570': 0.0, '039490': 0.0, '047050': 0.0, '051900': 0.0, '051910': 0.0, '052690': 0.0, '055550': 0.0, '066570': 0.0, '068270': 0.0, '071050': 0.0, '078930': 0.14285714285714285, '086280': 0.0, '086790': 0.0, '096770': 0.0, '097950': 0.0, '105560': 0.0, '111770': 0.0, '128940': 0.0, '138040': 0.0, '138930': 0.0, '139480': 0.0, '161390': 0.0}\n",
      "Portfolio: {'000270': 0.0, '000660': 0.0, '000720': 0.0, '000810': 0.0, '000880': 0.0, '000990': 0.0, '001450': 0.0, '001570': 0.0, '004020': 0.0, '004370': 0.0, '005380': 0.0, '005490': 0.0, '005830': 0.0, '005940': 0.14285714285714285, '006260': 0.0, '006400': 0.0, '006800': 0.0, '007070': 0.0, '008770': 0.0, '009150': 0.0, '009830': 0.0, '010120': 0.0, '010130': 0.0, '010620': 0.0, '010950': 0.0, '011070': 0.0, '011170': 0.0, '011780': 0.0, '012330': 0.0, '012450': 0.0, '015760': 0.14285714285714285, '016360': 0.14285714285714285, '020150': 0.0, '021240': 0.0, '024110': 0.0, '029780': 0.14285714285714285, '030200': 0.0, '032640': 0.0, '032830': 0.0, '033780': 0.14285714285714285, '034020': 0.0, '034220': 0.0, '034730': 0.0, '035250': 0.0, '036460': 0.0, '036570': 0.0, '039490': 0.0, '047050': 0.0, '051900': 0.0, '051910': 0.0, '052690': 0.0, '055550': 0.0, '066570': 0.0, '068270': 0.0, '071050': 0.0, '078930': 0.14285714285714285, '086280': 0.0, '086790': 0.14285714285714285, '096770': 0.0, '097950': 0.0, '105560': 0.0, '111770': 0.0, '128940': 0.0, '138040': 0.0, '138930': 0.0, '139480': 0.0, '161390': 0.0}\n",
      "Portfolio: {'000270': 0.0, '000660': 0.0, '000720': 0.0, '000810': 0.0, '000880': 0.0, '000990': 0.0, '001450': 0.0, '001570': 0.0, '004020': 0.0, '004370': 0.0, '005380': 0.0, '005490': 0.0, '005830': 0.0, '005940': 0.14285714285714285, '006260': 0.0, '006400': 0.0, '006800': 0.0, '007070': 0.0, '008770': 0.0, '009150': 0.0, '009830': 0.0, '010120': 0.0, '010130': 0.0, '010620': 0.0, '010950': 0.0, '011070': 0.0, '011170': 0.0, '011780': 0.0, '012330': 0.0, '012450': 0.0, '015760': 0.14285714285714285, '016360': 0.14285714285714285, '020150': 0.0, '021240': 0.0, '024110': 0.14285714285714285, '029780': 0.14285714285714285, '030200': 0.0, '032640': 0.0, '032830': 0.0, '033780': 0.14285714285714285, '034020': 0.0, '034220': 0.0, '034730': 0.0, '035250': 0.0, '036460': 0.0, '036570': 0.0, '039490': 0.0, '047050': 0.0, '051900': 0.0, '051910': 0.0, '052690': 0.0, '055550': 0.0, '066570': 0.0, '068270': 0.0, '071050': 0.0, '078930': 0.14285714285714285, '086280': 0.0, '086790': 0.0, '096770': 0.0, '097950': 0.0, '105560': 0.0, '111770': 0.0, '128940': 0.0, '138040': 0.0, '138930': 0.0, '139480': 0.0, '161390': 0.0}\n"
     ]
    }
   ],
   "source": [
    "# 룩백 기간, 생략 기간 정의\n",
    "lookback = 1\n",
    "offset = 0\n",
    "total_lookback = get_lookback_fromdate(fromdate=simulation_fromdate,\n",
    "                                       lookback=lookback + offset, freq='m')\n",
    "\n",
    "# 매수 비율 정의\n",
    "ratio = 0.1\n",
    "\n",
    "# 전략 정의\n",
    "strategy = 'dividend'\n",
    "\n",
    "# 배당 전략 실행하기\n",
    "account_dividend = simulate_factor(\n",
    "    ohlcv_data=df_slicer(df=ohlcv_data_day, fromdate=total_lookback),\n",
    "    market_cap_data=df_slicer(df=market_cap_data, fromdate=total_lookback),\n",
    "    fundamental_data=df_slicer(df=fundamental_data, fromdate=total_lookback),\n",
    "    trader_data=None,\n",
    "    lookback_period=lookback * 21,\n",
    "    skip_period=offset * 21,\n",
    "    strategy_name=strategy,\n",
    "    buying_ratio=ratio)"
   ],
   "metadata": {
    "collapsed": false,
    "ExecuteTime": {
     "end_time": "2023-12-07T04:52:44.923699Z",
     "start_time": "2023-12-07T04:52:43.265094Z"
    }
   }
  },
  {
   "cell_type": "markdown",
   "source": [
    "#### 1.6.5. 소형주 전략 실행하기"
   ],
   "metadata": {
    "collapsed": false
   }
  },
  {
   "cell_type": "code",
   "execution_count": 22,
   "outputs": [
    {
     "name": "stderr",
     "output_type": "stream",
     "text": [
      "/var/folders/j2/p6vmvrcs1kg7j9c8811510sc0000gn/T/ipykernel_87974/888467401.py:44: FutureWarning: In a future version of pandas, a length 1 tuple will be returned when iterating over a groupby with a grouper equal to a list of length 1. Don't supply a list with a single grouper to avoid this warning.\n",
      "  for date, ohlcv in ohlcv_data.groupby(['date']):\n"
     ]
    },
    {
     "name": "stdout",
     "output_type": "stream",
     "text": [
      "Portfolio: {'000270': 0.0, '000660': 0.0, '000720': 0.0, '000810': 0.0, '000880': 0.0, '000990': 0.14285714285714285, '001450': 0.0, '001570': 0.14285714285714285, '004020': 0.0, '004370': 0.0, '005380': 0.0, '005490': 0.0, '005830': 0.0, '005940': 0.0, '006260': 0.0, '006400': 0.0, '006800': 0.0, '007070': 0.0, '008770': 0.0, '009150': 0.0, '009830': 0.0, '010120': 0.14285714285714285, '010130': 0.0, '010620': 0.14285714285714285, '010950': 0.0, '011070': 0.0, '011170': 0.0, '011780': 0.0, '012330': 0.0, '012450': 0.0, '015760': 0.0, '016360': 0.0, '020150': 0.14285714285714285, '021240': 0.0, '024110': 0.0, '029780': 0.0, '030200': 0.0, '032640': 0.0, '032830': 0.0, '033780': 0.0, '034020': 0.0, '034220': 0.0, '034730': 0.0, '035250': 0.0, '036460': 0.0, '036570': 0.0, '039490': 0.0, '047050': 0.0, '051900': 0.0, '051910': 0.0, '052690': 0.14285714285714285, '055550': 0.0, '066570': 0.0, '068270': 0.0, '071050': 0.0, '078930': 0.0, '086280': 0.0, '086790': 0.0, '096770': 0.0, '097950': 0.0, '105560': 0.0, '111770': 0.14285714285714285, '128940': 0.0, '138040': 0.0, '138930': 0.0, '139480': 0.0, '161390': 0.0}\n",
      "Portfolio: {'000270': 0.0, '000660': 0.0, '000720': 0.0, '000810': 0.0, '000880': 0.0, '000990': 0.14285714285714285, '001450': 0.0, '001570': 0.14285714285714285, '004020': 0.0, '004370': 0.0, '005380': 0.0, '005490': 0.0, '005830': 0.0, '005940': 0.0, '006260': 0.0, '006400': 0.0, '006800': 0.0, '007070': 0.0, '008770': 0.0, '009150': 0.0, '009830': 0.0, '010120': 0.14285714285714285, '010130': 0.0, '010620': 0.0, '010950': 0.0, '011070': 0.0, '011170': 0.0, '011780': 0.0, '012330': 0.0, '012450': 0.0, '015760': 0.0, '016360': 0.0, '020150': 0.14285714285714285, '021240': 0.0, '024110': 0.0, '029780': 0.0, '030200': 0.0, '032640': 0.0, '032830': 0.0, '033780': 0.0, '034020': 0.0, '034220': 0.0, '034730': 0.0, '035250': 0.0, '036460': 0.0, '036570': 0.0, '039490': 0.0, '047050': 0.0, '051900': 0.0, '051910': 0.0, '052690': 0.14285714285714285, '055550': 0.0, '066570': 0.0, '068270': 0.0, '071050': 0.0, '078930': 0.0, '086280': 0.0, '086790': 0.0, '096770': 0.0, '097950': 0.0, '105560': 0.0, '111770': 0.14285714285714285, '128940': 0.0, '138040': 0.14285714285714285, '138930': 0.0, '139480': 0.0, '161390': 0.0}\n",
      "Portfolio: {'000270': 0.0, '000660': 0.0, '000720': 0.0, '000810': 0.0, '000880': 0.0, '000990': 0.14285714285714285, '001450': 0.0, '001570': 0.14285714285714285, '004020': 0.0, '004370': 0.0, '005380': 0.0, '005490': 0.0, '005830': 0.0, '005940': 0.0, '006260': 0.0, '006400': 0.0, '006800': 0.0, '007070': 0.0, '008770': 0.0, '009150': 0.0, '009830': 0.0, '010120': 0.14285714285714285, '010130': 0.0, '010620': 0.14285714285714285, '010950': 0.0, '011070': 0.0, '011170': 0.0, '011780': 0.0, '012330': 0.0, '012450': 0.0, '015760': 0.0, '016360': 0.0, '020150': 0.14285714285714285, '021240': 0.0, '024110': 0.0, '029780': 0.0, '030200': 0.0, '032640': 0.0, '032830': 0.0, '033780': 0.0, '034020': 0.0, '034220': 0.0, '034730': 0.0, '035250': 0.0, '036460': 0.0, '036570': 0.0, '039490': 0.0, '047050': 0.0, '051900': 0.0, '051910': 0.0, '052690': 0.14285714285714285, '055550': 0.0, '066570': 0.0, '068270': 0.0, '071050': 0.0, '078930': 0.0, '086280': 0.0, '086790': 0.0, '096770': 0.0, '097950': 0.0, '105560': 0.0, '111770': 0.14285714285714285, '128940': 0.0, '138040': 0.0, '138930': 0.0, '139480': 0.0, '161390': 0.0}\n",
      "Portfolio: {'000270': 0.0, '000660': 0.0, '000720': 0.0, '000810': 0.0, '000880': 0.0, '000990': 0.14285714285714285, '001450': 0.0, '001570': 0.14285714285714285, '004020': 0.0, '004370': 0.0, '005380': 0.0, '005490': 0.0, '005830': 0.0, '005940': 0.0, '006260': 0.0, '006400': 0.0, '006800': 0.0, '007070': 0.0, '008770': 0.0, '009150': 0.0, '009830': 0.0, '010120': 0.14285714285714285, '010130': 0.0, '010620': 0.14285714285714285, '010950': 0.0, '011070': 0.0, '011170': 0.0, '011780': 0.0, '012330': 0.0, '012450': 0.0, '015760': 0.0, '016360': 0.0, '020150': 0.14285714285714285, '021240': 0.0, '024110': 0.0, '029780': 0.0, '030200': 0.0, '032640': 0.0, '032830': 0.0, '033780': 0.0, '034020': 0.0, '034220': 0.0, '034730': 0.0, '035250': 0.0, '036460': 0.0, '036570': 0.0, '039490': 0.0, '047050': 0.0, '051900': 0.0, '051910': 0.0, '052690': 0.14285714285714285, '055550': 0.0, '066570': 0.0, '068270': 0.0, '071050': 0.0, '078930': 0.0, '086280': 0.0, '086790': 0.0, '096770': 0.0, '097950': 0.0, '105560': 0.0, '111770': 0.14285714285714285, '128940': 0.0, '138040': 0.0, '138930': 0.0, '139480': 0.0, '161390': 0.0}\n",
      "Portfolio: {'000270': 0.0, '000660': 0.0, '000720': 0.0, '000810': 0.0, '000880': 0.0, '000990': 0.14285714285714285, '001450': 0.0, '001570': 0.14285714285714285, '004020': 0.0, '004370': 0.0, '005380': 0.0, '005490': 0.0, '005830': 0.0, '005940': 0.0, '006260': 0.0, '006400': 0.0, '006800': 0.0, '007070': 0.0, '008770': 0.0, '009150': 0.0, '009830': 0.0, '010120': 0.14285714285714285, '010130': 0.0, '010620': 0.14285714285714285, '010950': 0.0, '011070': 0.0, '011170': 0.0, '011780': 0.0, '012330': 0.0, '012450': 0.0, '015760': 0.0, '016360': 0.0, '020150': 0.14285714285714285, '021240': 0.0, '024110': 0.0, '029780': 0.0, '030200': 0.0, '032640': 0.0, '032830': 0.0, '033780': 0.0, '034020': 0.0, '034220': 0.0, '034730': 0.0, '035250': 0.0, '036460': 0.0, '036570': 0.0, '039490': 0.0, '047050': 0.0, '051900': 0.0, '051910': 0.0, '052690': 0.14285714285714285, '055550': 0.0, '066570': 0.0, '068270': 0.0, '071050': 0.0, '078930': 0.0, '086280': 0.0, '086790': 0.0, '096770': 0.0, '097950': 0.0, '105560': 0.0, '111770': 0.14285714285714285, '128940': 0.0, '138040': 0.0, '138930': 0.0, '139480': 0.0, '161390': 0.0}\n",
      "Portfolio: {'000270': 0.0, '000660': 0.0, '000720': 0.0, '000810': 0.0, '000880': 0.0, '000990': 0.14285714285714285, '001450': 0.0, '001570': 0.14285714285714285, '004020': 0.0, '004370': 0.0, '005380': 0.0, '005490': 0.0, '005830': 0.0, '005940': 0.0, '006260': 0.0, '006400': 0.0, '006800': 0.0, '007070': 0.0, '008770': 0.0, '009150': 0.0, '009830': 0.0, '010120': 0.14285714285714285, '010130': 0.0, '010620': 0.14285714285714285, '010950': 0.0, '011070': 0.0, '011170': 0.0, '011780': 0.0, '012330': 0.0, '012450': 0.0, '015760': 0.0, '016360': 0.0, '020150': 0.14285714285714285, '021240': 0.0, '024110': 0.0, '029780': 0.0, '030200': 0.0, '032640': 0.0, '032830': 0.0, '033780': 0.0, '034020': 0.0, '034220': 0.0, '034730': 0.0, '035250': 0.0, '036460': 0.0, '036570': 0.0, '039490': 0.0, '047050': 0.0, '051900': 0.0, '051910': 0.0, '052690': 0.14285714285714285, '055550': 0.0, '066570': 0.0, '068270': 0.0, '071050': 0.0, '078930': 0.0, '086280': 0.0, '086790': 0.0, '096770': 0.0, '097950': 0.0, '105560': 0.0, '111770': 0.14285714285714285, '128940': 0.0, '138040': 0.0, '138930': 0.0, '139480': 0.0, '161390': 0.0}\n",
      "Portfolio: {'000270': 0.0, '000660': 0.0, '000720': 0.0, '000810': 0.0, '000880': 0.0, '000990': 0.14285714285714285, '001450': 0.0, '001570': 0.14285714285714285, '004020': 0.0, '004370': 0.0, '005380': 0.0, '005490': 0.0, '005830': 0.0, '005940': 0.0, '006260': 0.0, '006400': 0.0, '006800': 0.0, '007070': 0.0, '008770': 0.0, '009150': 0.0, '009830': 0.0, '010120': 0.0, '010130': 0.0, '010620': 0.14285714285714285, '010950': 0.0, '011070': 0.0, '011170': 0.0, '011780': 0.0, '012330': 0.0, '012450': 0.0, '015760': 0.0, '016360': 0.0, '020150': 0.14285714285714285, '021240': 0.0, '024110': 0.0, '029780': 0.0, '030200': 0.0, '032640': 0.0, '032830': 0.0, '033780': 0.0, '034020': 0.14285714285714285, '034220': 0.0, '034730': 0.0, '035250': 0.0, '036460': 0.0, '036570': 0.0, '039490': 0.0, '047050': 0.0, '051900': 0.0, '051910': 0.0, '052690': 0.14285714285714285, '055550': 0.0, '066570': 0.0, '068270': 0.0, '071050': 0.0, '078930': 0.0, '086280': 0.0, '086790': 0.0, '096770': 0.0, '097950': 0.0, '105560': 0.0, '111770': 0.14285714285714285, '128940': 0.0, '138040': 0.0, '138930': 0.0, '139480': 0.0, '161390': 0.0}\n",
      "Portfolio: {'000270': 0.0, '000660': 0.0, '000720': 0.0, '000810': 0.0, '000880': 0.0, '000990': 0.14285714285714285, '001450': 0.0, '001570': 0.14285714285714285, '004020': 0.0, '004370': 0.0, '005380': 0.0, '005490': 0.0, '005830': 0.0, '005940': 0.0, '006260': 0.0, '006400': 0.0, '006800': 0.0, '007070': 0.0, '008770': 0.0, '009150': 0.0, '009830': 0.0, '010120': 0.0, '010130': 0.0, '010620': 0.14285714285714285, '010950': 0.0, '011070': 0.0, '011170': 0.0, '011780': 0.0, '012330': 0.0, '012450': 0.0, '015760': 0.0, '016360': 0.0, '020150': 0.0, '021240': 0.0, '024110': 0.0, '029780': 0.0, '030200': 0.0, '032640': 0.0, '032830': 0.0, '033780': 0.0, '034020': 0.14285714285714285, '034220': 0.0, '034730': 0.0, '035250': 0.0, '036460': 0.0, '036570': 0.0, '039490': 0.14285714285714285, '047050': 0.0, '051900': 0.0, '051910': 0.0, '052690': 0.14285714285714285, '055550': 0.0, '066570': 0.0, '068270': 0.0, '071050': 0.0, '078930': 0.0, '086280': 0.0, '086790': 0.0, '096770': 0.0, '097950': 0.0, '105560': 0.0, '111770': 0.14285714285714285, '128940': 0.0, '138040': 0.0, '138930': 0.0, '139480': 0.0, '161390': 0.0}\n",
      "Portfolio: {'000270': 0.0, '000660': 0.0, '000720': 0.0, '000810': 0.0, '000880': 0.0, '000990': 0.14285714285714285, '001450': 0.0, '001570': 0.14285714285714285, '004020': 0.0, '004370': 0.0, '005380': 0.0, '005490': 0.0, '005830': 0.0, '005940': 0.0, '006260': 0.0, '006400': 0.0, '006800': 0.0, '007070': 0.0, '008770': 0.0, '009150': 0.0, '009830': 0.0, '010120': 0.0, '010130': 0.0, '010620': 0.14285714285714285, '010950': 0.0, '011070': 0.0, '011170': 0.0, '011780': 0.0, '012330': 0.0, '012450': 0.0, '015760': 0.0, '016360': 0.0, '020150': 0.14285714285714285, '021240': 0.0, '024110': 0.0, '029780': 0.0, '030200': 0.0, '032640': 0.0, '032830': 0.0, '033780': 0.0, '034020': 0.0, '034220': 0.0, '034730': 0.0, '035250': 0.0, '036460': 0.0, '036570': 0.0, '039490': 0.14285714285714285, '047050': 0.0, '051900': 0.0, '051910': 0.0, '052690': 0.14285714285714285, '055550': 0.0, '066570': 0.0, '068270': 0.0, '071050': 0.0, '078930': 0.0, '086280': 0.0, '086790': 0.0, '096770': 0.0, '097950': 0.0, '105560': 0.0, '111770': 0.14285714285714285, '128940': 0.0, '138040': 0.0, '138930': 0.0, '139480': 0.0, '161390': 0.0}\n",
      "Portfolio: {'000270': 0.0, '000660': 0.0, '000720': 0.0, '000810': 0.0, '000880': 0.0, '000990': 0.14285714285714285, '001450': 0.0, '001570': 0.14285714285714285, '004020': 0.0, '004370': 0.0, '005380': 0.0, '005490': 0.0, '005830': 0.0, '005940': 0.0, '006260': 0.0, '006400': 0.0, '006800': 0.0, '007070': 0.0, '008770': 0.0, '009150': 0.0, '009830': 0.0, '010120': 0.0, '010130': 0.0, '010620': 0.14285714285714285, '010950': 0.0, '011070': 0.0, '011170': 0.0, '011780': 0.0, '012330': 0.0, '012450': 0.0, '015760': 0.0, '016360': 0.0, '020150': 0.0, '021240': 0.0, '024110': 0.0, '029780': 0.0, '030200': 0.0, '032640': 0.0, '032830': 0.0, '033780': 0.0, '034020': 0.14285714285714285, '034220': 0.0, '034730': 0.0, '035250': 0.0, '036460': 0.0, '036570': 0.0, '039490': 0.14285714285714285, '047050': 0.0, '051900': 0.0, '051910': 0.0, '052690': 0.14285714285714285, '055550': 0.0, '066570': 0.0, '068270': 0.0, '071050': 0.0, '078930': 0.0, '086280': 0.0, '086790': 0.0, '096770': 0.0, '097950': 0.0, '105560': 0.0, '111770': 0.14285714285714285, '128940': 0.0, '138040': 0.0, '138930': 0.0, '139480': 0.0, '161390': 0.0}\n",
      "Portfolio: {'000270': 0.0, '000660': 0.0, '000720': 0.0, '000810': 0.0, '000880': 0.0, '000990': 0.14285714285714285, '001450': 0.0, '001570': 0.14285714285714285, '004020': 0.0, '004370': 0.0, '005380': 0.0, '005490': 0.0, '005830': 0.0, '005940': 0.0, '006260': 0.0, '006400': 0.0, '006800': 0.0, '007070': 0.0, '008770': 0.0, '009150': 0.0, '009830': 0.0, '010120': 0.0, '010130': 0.0, '010620': 0.14285714285714285, '010950': 0.0, '011070': 0.0, '011170': 0.0, '011780': 0.0, '012330': 0.0, '012450': 0.0, '015760': 0.0, '016360': 0.0, '020150': 0.14285714285714285, '021240': 0.0, '024110': 0.0, '029780': 0.0, '030200': 0.0, '032640': 0.0, '032830': 0.0, '033780': 0.0, '034020': 0.14285714285714285, '034220': 0.0, '034730': 0.0, '035250': 0.0, '036460': 0.0, '036570': 0.0, '039490': 0.0, '047050': 0.0, '051900': 0.0, '051910': 0.0, '052690': 0.14285714285714285, '055550': 0.0, '066570': 0.0, '068270': 0.0, '071050': 0.0, '078930': 0.0, '086280': 0.0, '086790': 0.0, '096770': 0.0, '097950': 0.0, '105560': 0.0, '111770': 0.14285714285714285, '128940': 0.0, '138040': 0.0, '138930': 0.0, '139480': 0.0, '161390': 0.0}\n",
      "Portfolio: {'000270': 0.0, '000660': 0.0, '000720': 0.0, '000810': 0.0, '000880': 0.0, '000990': 0.14285714285714285, '001450': 0.0, '001570': 0.14285714285714285, '004020': 0.0, '004370': 0.0, '005380': 0.0, '005490': 0.0, '005830': 0.0, '005940': 0.0, '006260': 0.0, '006400': 0.0, '006800': 0.0, '007070': 0.0, '008770': 0.0, '009150': 0.0, '009830': 0.0, '010120': 0.0, '010130': 0.0, '010620': 0.14285714285714285, '010950': 0.0, '011070': 0.0, '011170': 0.0, '011780': 0.0, '012330': 0.0, '012450': 0.14285714285714285, '015760': 0.0, '016360': 0.0, '020150': 0.0, '021240': 0.0, '024110': 0.0, '029780': 0.0, '030200': 0.0, '032640': 0.0, '032830': 0.0, '033780': 0.0, '034020': 0.14285714285714285, '034220': 0.0, '034730': 0.0, '035250': 0.0, '036460': 0.0, '036570': 0.0, '039490': 0.0, '047050': 0.0, '051900': 0.0, '051910': 0.0, '052690': 0.14285714285714285, '055550': 0.0, '066570': 0.0, '068270': 0.0, '071050': 0.0, '078930': 0.0, '086280': 0.0, '086790': 0.0, '096770': 0.0, '097950': 0.0, '105560': 0.0, '111770': 0.14285714285714285, '128940': 0.0, '138040': 0.0, '138930': 0.0, '139480': 0.0, '161390': 0.0}\n",
      "Portfolio: {'000270': 0.0, '000660': 0.0, '000720': 0.0, '000810': 0.0, '000880': 0.0, '000990': 0.14285714285714285, '001450': 0.0, '001570': 0.14285714285714285, '004020': 0.0, '004370': 0.0, '005380': 0.0, '005490': 0.0, '005830': 0.0, '005940': 0.0, '006260': 0.0, '006400': 0.0, '006800': 0.0, '007070': 0.0, '008770': 0.0, '009150': 0.0, '009830': 0.0, '010120': 0.0, '010130': 0.0, '010620': 0.14285714285714285, '010950': 0.0, '011070': 0.0, '011170': 0.0, '011780': 0.0, '012330': 0.0, '012450': 0.0, '015760': 0.0, '016360': 0.0, '020150': 0.14285714285714285, '021240': 0.0, '024110': 0.0, '029780': 0.0, '030200': 0.0, '032640': 0.0, '032830': 0.0, '033780': 0.0, '034020': 0.14285714285714285, '034220': 0.0, '034730': 0.0, '035250': 0.0, '036460': 0.0, '036570': 0.0, '039490': 0.0, '047050': 0.0, '051900': 0.0, '051910': 0.0, '052690': 0.14285714285714285, '055550': 0.0, '066570': 0.0, '068270': 0.0, '071050': 0.0, '078930': 0.0, '086280': 0.0, '086790': 0.0, '096770': 0.0, '097950': 0.0, '105560': 0.0, '111770': 0.14285714285714285, '128940': 0.0, '138040': 0.0, '138930': 0.0, '139480': 0.0, '161390': 0.0}\n",
      "Portfolio: {'000270': 0.0, '000660': 0.0, '000720': 0.0, '000810': 0.0, '000880': 0.0, '000990': 0.14285714285714285, '001450': 0.0, '001570': 0.14285714285714285, '004020': 0.0, '004370': 0.0, '005380': 0.0, '005490': 0.0, '005830': 0.0, '005940': 0.0, '006260': 0.0, '006400': 0.0, '006800': 0.0, '007070': 0.0, '008770': 0.0, '009150': 0.0, '009830': 0.0, '010120': 0.0, '010130': 0.0, '010620': 0.14285714285714285, '010950': 0.0, '011070': 0.0, '011170': 0.0, '011780': 0.0, '012330': 0.0, '012450': 0.14285714285714285, '015760': 0.0, '016360': 0.0, '020150': 0.0, '021240': 0.0, '024110': 0.0, '029780': 0.0, '030200': 0.0, '032640': 0.0, '032830': 0.0, '033780': 0.0, '034020': 0.14285714285714285, '034220': 0.0, '034730': 0.0, '035250': 0.0, '036460': 0.0, '036570': 0.0, '039490': 0.0, '047050': 0.0, '051900': 0.0, '051910': 0.0, '052690': 0.14285714285714285, '055550': 0.0, '066570': 0.0, '068270': 0.0, '071050': 0.0, '078930': 0.0, '086280': 0.0, '086790': 0.0, '096770': 0.0, '097950': 0.0, '105560': 0.0, '111770': 0.14285714285714285, '128940': 0.0, '138040': 0.0, '138930': 0.0, '139480': 0.0, '161390': 0.0}\n",
      "Portfolio: {'000270': 0.0, '000660': 0.0, '000720': 0.0, '000810': 0.0, '000880': 0.0, '000990': 0.14285714285714285, '001450': 0.0, '001570': 0.14285714285714285, '004020': 0.0, '004370': 0.0, '005380': 0.0, '005490': 0.0, '005830': 0.0, '005940': 0.0, '006260': 0.0, '006400': 0.0, '006800': 0.0, '007070': 0.0, '008770': 0.0, '009150': 0.0, '009830': 0.0, '010120': 0.0, '010130': 0.0, '010620': 0.14285714285714285, '010950': 0.0, '011070': 0.0, '011170': 0.0, '011780': 0.0, '012330': 0.0, '012450': 0.14285714285714285, '015760': 0.0, '016360': 0.0, '020150': 0.14285714285714285, '021240': 0.0, '024110': 0.0, '029780': 0.0, '030200': 0.0, '032640': 0.0, '032830': 0.0, '033780': 0.0, '034020': 0.0, '034220': 0.0, '034730': 0.0, '035250': 0.0, '036460': 0.0, '036570': 0.0, '039490': 0.0, '047050': 0.0, '051900': 0.0, '051910': 0.0, '052690': 0.14285714285714285, '055550': 0.0, '066570': 0.0, '068270': 0.0, '071050': 0.0, '078930': 0.0, '086280': 0.0, '086790': 0.0, '096770': 0.0, '097950': 0.0, '105560': 0.0, '111770': 0.14285714285714285, '128940': 0.0, '138040': 0.0, '138930': 0.0, '139480': 0.0, '161390': 0.0}\n",
      "Portfolio: {'000270': 0.0, '000660': 0.0, '000720': 0.0, '000810': 0.0, '000880': 0.0, '000990': 0.14285714285714285, '001450': 0.0, '001570': 0.14285714285714285, '004020': 0.0, '004370': 0.0, '005380': 0.0, '005490': 0.0, '005830': 0.0, '005940': 0.0, '006260': 0.0, '006400': 0.0, '006800': 0.0, '007070': 0.0, '008770': 0.0, '009150': 0.0, '009830': 0.0, '010120': 0.0, '010130': 0.0, '010620': 0.14285714285714285, '010950': 0.0, '011070': 0.0, '011170': 0.0, '011780': 0.0, '012330': 0.0, '012450': 0.14285714285714285, '015760': 0.0, '016360': 0.0, '020150': 0.14285714285714285, '021240': 0.0, '024110': 0.0, '029780': 0.0, '030200': 0.0, '032640': 0.0, '032830': 0.0, '033780': 0.0, '034020': 0.0, '034220': 0.0, '034730': 0.0, '035250': 0.0, '036460': 0.0, '036570': 0.0, '039490': 0.0, '047050': 0.0, '051900': 0.0, '051910': 0.0, '052690': 0.14285714285714285, '055550': 0.0, '066570': 0.0, '068270': 0.0, '071050': 0.0, '078930': 0.0, '086280': 0.0, '086790': 0.0, '096770': 0.0, '097950': 0.0, '105560': 0.0, '111770': 0.14285714285714285, '128940': 0.0, '138040': 0.0, '138930': 0.0, '139480': 0.0, '161390': 0.0}\n",
      "Portfolio: {'000270': 0.0, '000660': 0.0, '000720': 0.0, '000810': 0.0, '000880': 0.0, '000990': 0.14285714285714285, '001450': 0.0, '001570': 0.14285714285714285, '004020': 0.0, '004370': 0.0, '005380': 0.0, '005490': 0.0, '005830': 0.0, '005940': 0.0, '006260': 0.0, '006400': 0.0, '006800': 0.0, '007070': 0.0, '008770': 0.0, '009150': 0.0, '009830': 0.0, '010120': 0.0, '010130': 0.0, '010620': 0.14285714285714285, '010950': 0.0, '011070': 0.0, '011170': 0.0, '011780': 0.0, '012330': 0.0, '012450': 0.14285714285714285, '015760': 0.0, '016360': 0.0, '020150': 0.0, '021240': 0.0, '024110': 0.0, '029780': 0.0, '030200': 0.0, '032640': 0.0, '032830': 0.0, '033780': 0.0, '034020': 0.14285714285714285, '034220': 0.0, '034730': 0.0, '035250': 0.0, '036460': 0.0, '036570': 0.0, '039490': 0.0, '047050': 0.0, '051900': 0.0, '051910': 0.0, '052690': 0.14285714285714285, '055550': 0.0, '066570': 0.0, '068270': 0.0, '071050': 0.0, '078930': 0.0, '086280': 0.0, '086790': 0.0, '096770': 0.0, '097950': 0.0, '105560': 0.0, '111770': 0.14285714285714285, '128940': 0.0, '138040': 0.0, '138930': 0.0, '139480': 0.0, '161390': 0.0}\n",
      "Portfolio: {'000270': 0.0, '000660': 0.0, '000720': 0.0, '000810': 0.0, '000880': 0.0, '000990': 0.14285714285714285, '001450': 0.0, '001570': 0.14285714285714285, '004020': 0.0, '004370': 0.0, '005380': 0.0, '005490': 0.0, '005830': 0.0, '005940': 0.0, '006260': 0.0, '006400': 0.0, '006800': 0.0, '007070': 0.0, '008770': 0.0, '009150': 0.0, '009830': 0.0, '010120': 0.0, '010130': 0.0, '010620': 0.14285714285714285, '010950': 0.0, '011070': 0.0, '011170': 0.0, '011780': 0.0, '012330': 0.0, '012450': 0.14285714285714285, '015760': 0.0, '016360': 0.0, '020150': 0.0, '021240': 0.0, '024110': 0.0, '029780': 0.0, '030200': 0.0, '032640': 0.0, '032830': 0.0, '033780': 0.0, '034020': 0.14285714285714285, '034220': 0.0, '034730': 0.0, '035250': 0.0, '036460': 0.0, '036570': 0.0, '039490': 0.0, '047050': 0.0, '051900': 0.0, '051910': 0.0, '052690': 0.14285714285714285, '055550': 0.0, '066570': 0.0, '068270': 0.0, '071050': 0.0, '078930': 0.0, '086280': 0.0, '086790': 0.0, '096770': 0.0, '097950': 0.0, '105560': 0.0, '111770': 0.14285714285714285, '128940': 0.0, '138040': 0.0, '138930': 0.0, '139480': 0.0, '161390': 0.0}\n",
      "Portfolio: {'000270': 0.0, '000660': 0.0, '000720': 0.0, '000810': 0.0, '000880': 0.0, '000990': 0.14285714285714285, '001450': 0.0, '001570': 0.14285714285714285, '004020': 0.0, '004370': 0.14285714285714285, '005380': 0.0, '005490': 0.0, '005830': 0.0, '005940': 0.0, '006260': 0.0, '006400': 0.0, '006800': 0.0, '007070': 0.0, '008770': 0.0, '009150': 0.0, '009830': 0.0, '010120': 0.0, '010130': 0.0, '010620': 0.14285714285714285, '010950': 0.0, '011070': 0.0, '011170': 0.0, '011780': 0.0, '012330': 0.0, '012450': 0.14285714285714285, '015760': 0.0, '016360': 0.0, '020150': 0.0, '021240': 0.0, '024110': 0.0, '029780': 0.0, '030200': 0.0, '032640': 0.0, '032830': 0.0, '033780': 0.0, '034020': 0.14285714285714285, '034220': 0.0, '034730': 0.0, '035250': 0.0, '036460': 0.0, '036570': 0.0, '039490': 0.0, '047050': 0.0, '051900': 0.0, '051910': 0.0, '052690': 0.14285714285714285, '055550': 0.0, '066570': 0.0, '068270': 0.0, '071050': 0.0, '078930': 0.0, '086280': 0.0, '086790': 0.0, '096770': 0.0, '097950': 0.0, '105560': 0.0, '111770': 0.0, '128940': 0.0, '138040': 0.0, '138930': 0.0, '139480': 0.0, '161390': 0.0}\n",
      "Portfolio: {'000270': 0.0, '000660': 0.0, '000720': 0.0, '000810': 0.0, '000880': 0.0, '000990': 0.14285714285714285, '001450': 0.0, '001570': 0.14285714285714285, '004020': 0.0, '004370': 0.14285714285714285, '005380': 0.0, '005490': 0.0, '005830': 0.0, '005940': 0.0, '006260': 0.0, '006400': 0.0, '006800': 0.0, '007070': 0.0, '008770': 0.0, '009150': 0.0, '009830': 0.0, '010120': 0.0, '010130': 0.0, '010620': 0.14285714285714285, '010950': 0.0, '011070': 0.0, '011170': 0.0, '011780': 0.0, '012330': 0.0, '012450': 0.14285714285714285, '015760': 0.0, '016360': 0.0, '020150': 0.0, '021240': 0.0, '024110': 0.0, '029780': 0.0, '030200': 0.0, '032640': 0.0, '032830': 0.0, '033780': 0.0, '034020': 0.14285714285714285, '034220': 0.0, '034730': 0.0, '035250': 0.0, '036460': 0.0, '036570': 0.0, '039490': 0.0, '047050': 0.0, '051900': 0.0, '051910': 0.0, '052690': 0.14285714285714285, '055550': 0.0, '066570': 0.0, '068270': 0.0, '071050': 0.0, '078930': 0.0, '086280': 0.0, '086790': 0.0, '096770': 0.0, '097950': 0.0, '105560': 0.0, '111770': 0.0, '128940': 0.0, '138040': 0.0, '138930': 0.0, '139480': 0.0, '161390': 0.0}\n",
      "Portfolio: {'000270': 0.0, '000660': 0.0, '000720': 0.0, '000810': 0.0, '000880': 0.0, '000990': 0.14285714285714285, '001450': 0.0, '001570': 0.14285714285714285, '004020': 0.0, '004370': 0.14285714285714285, '005380': 0.0, '005490': 0.0, '005830': 0.0, '005940': 0.0, '006260': 0.0, '006400': 0.0, '006800': 0.0, '007070': 0.0, '008770': 0.0, '009150': 0.0, '009830': 0.0, '010120': 0.0, '010130': 0.0, '010620': 0.14285714285714285, '010950': 0.0, '011070': 0.0, '011170': 0.0, '011780': 0.0, '012330': 0.0, '012450': 0.0, '015760': 0.0, '016360': 0.0, '020150': 0.0, '021240': 0.0, '024110': 0.0, '029780': 0.0, '030200': 0.0, '032640': 0.0, '032830': 0.0, '033780': 0.0, '034020': 0.14285714285714285, '034220': 0.0, '034730': 0.0, '035250': 0.0, '036460': 0.0, '036570': 0.0, '039490': 0.0, '047050': 0.0, '051900': 0.0, '051910': 0.0, '052690': 0.14285714285714285, '055550': 0.0, '066570': 0.0, '068270': 0.0, '071050': 0.0, '078930': 0.0, '086280': 0.0, '086790': 0.0, '096770': 0.0, '097950': 0.0, '105560': 0.0, '111770': 0.0, '128940': 0.0, '138040': 0.14285714285714285, '138930': 0.0, '139480': 0.0, '161390': 0.0}\n",
      "Portfolio: {'000270': 0.0, '000660': 0.0, '000720': 0.0, '000810': 0.0, '000880': 0.0, '000990': 0.14285714285714285, '001450': 0.0, '001570': 0.14285714285714285, '004020': 0.0, '004370': 0.14285714285714285, '005380': 0.0, '005490': 0.0, '005830': 0.0, '005940': 0.0, '006260': 0.0, '006400': 0.0, '006800': 0.0, '007070': 0.0, '008770': 0.0, '009150': 0.0, '009830': 0.0, '010120': 0.14285714285714285, '010130': 0.0, '010620': 0.14285714285714285, '010950': 0.0, '011070': 0.0, '011170': 0.0, '011780': 0.0, '012330': 0.0, '012450': 0.0, '015760': 0.0, '016360': 0.0, '020150': 0.0, '021240': 0.0, '024110': 0.0, '029780': 0.0, '030200': 0.0, '032640': 0.0, '032830': 0.0, '033780': 0.0, '034020': 0.14285714285714285, '034220': 0.0, '034730': 0.0, '035250': 0.0, '036460': 0.0, '036570': 0.0, '039490': 0.0, '047050': 0.0, '051900': 0.0, '051910': 0.0, '052690': 0.14285714285714285, '055550': 0.0, '066570': 0.0, '068270': 0.0, '071050': 0.0, '078930': 0.0, '086280': 0.0, '086790': 0.0, '096770': 0.0, '097950': 0.0, '105560': 0.0, '111770': 0.0, '128940': 0.0, '138040': 0.0, '138930': 0.0, '139480': 0.0, '161390': 0.0}\n",
      "Portfolio: {'000270': 0.0, '000660': 0.0, '000720': 0.0, '000810': 0.0, '000880': 0.0, '000990': 0.14285714285714285, '001450': 0.0, '001570': 0.14285714285714285, '004020': 0.0, '004370': 0.14285714285714285, '005380': 0.0, '005490': 0.0, '005830': 0.0, '005940': 0.0, '006260': 0.14285714285714285, '006400': 0.0, '006800': 0.0, '007070': 0.0, '008770': 0.0, '009150': 0.0, '009830': 0.0, '010120': 0.14285714285714285, '010130': 0.0, '010620': 0.0, '010950': 0.0, '011070': 0.0, '011170': 0.0, '011780': 0.0, '012330': 0.0, '012450': 0.0, '015760': 0.0, '016360': 0.0, '020150': 0.0, '021240': 0.0, '024110': 0.0, '029780': 0.0, '030200': 0.0, '032640': 0.0, '032830': 0.0, '033780': 0.0, '034020': 0.14285714285714285, '034220': 0.0, '034730': 0.0, '035250': 0.0, '036460': 0.0, '036570': 0.0, '039490': 0.0, '047050': 0.0, '051900': 0.0, '051910': 0.0, '052690': 0.14285714285714285, '055550': 0.0, '066570': 0.0, '068270': 0.0, '071050': 0.0, '078930': 0.0, '086280': 0.0, '086790': 0.0, '096770': 0.0, '097950': 0.0, '105560': 0.0, '111770': 0.0, '128940': 0.0, '138040': 0.0, '138930': 0.0, '139480': 0.0, '161390': 0.0}\n",
      "Portfolio: {'000270': 0.0, '000660': 0.0, '000720': 0.0, '000810': 0.0, '000880': 0.0, '000990': 0.14285714285714285, '001450': 0.0, '001570': 0.14285714285714285, '004020': 0.0, '004370': 0.0, '005380': 0.0, '005490': 0.0, '005830': 0.0, '005940': 0.0, '006260': 0.0, '006400': 0.0, '006800': 0.0, '007070': 0.0, '008770': 0.0, '009150': 0.0, '009830': 0.0, '010120': 0.14285714285714285, '010130': 0.0, '010620': 0.0, '010950': 0.0, '011070': 0.0, '011170': 0.0, '011780': 0.0, '012330': 0.0, '012450': 0.14285714285714285, '015760': 0.0, '016360': 0.0, '020150': 0.0, '021240': 0.0, '024110': 0.0, '029780': 0.0, '030200': 0.0, '032640': 0.0, '032830': 0.0, '033780': 0.0, '034020': 0.14285714285714285, '034220': 0.0, '034730': 0.0, '035250': 0.0, '036460': 0.0, '036570': 0.0, '039490': 0.0, '047050': 0.0, '051900': 0.0, '051910': 0.0, '052690': 0.14285714285714285, '055550': 0.0, '066570': 0.0, '068270': 0.0, '071050': 0.0, '078930': 0.0, '086280': 0.0, '086790': 0.0, '096770': 0.0, '097950': 0.0, '105560': 0.0, '111770': 0.14285714285714285, '128940': 0.0, '138040': 0.0, '138930': 0.0, '139480': 0.0, '161390': 0.0}\n",
      "Portfolio: {'000270': 0.0, '000660': 0.0, '000720': 0.0, '000810': 0.0, '000880': 0.0, '000990': 0.14285714285714285, '001450': 0.0, '001570': 0.14285714285714285, '004020': 0.0, '004370': 0.14285714285714285, '005380': 0.0, '005490': 0.0, '005830': 0.0, '005940': 0.0, '006260': 0.0, '006400': 0.0, '006800': 0.0, '007070': 0.0, '008770': 0.0, '009150': 0.0, '009830': 0.0, '010120': 0.14285714285714285, '010130': 0.0, '010620': 0.0, '010950': 0.0, '011070': 0.0, '011170': 0.0, '011780': 0.0, '012330': 0.0, '012450': 0.0, '015760': 0.0, '016360': 0.0, '020150': 0.0, '021240': 0.0, '024110': 0.0, '029780': 0.0, '030200': 0.0, '032640': 0.0, '032830': 0.0, '033780': 0.0, '034020': 0.14285714285714285, '034220': 0.0, '034730': 0.0, '035250': 0.0, '036460': 0.0, '036570': 0.0, '039490': 0.0, '047050': 0.0, '051900': 0.0, '051910': 0.0, '052690': 0.14285714285714285, '055550': 0.0, '066570': 0.0, '068270': 0.0, '071050': 0.0, '078930': 0.0, '086280': 0.0, '086790': 0.0, '096770': 0.0, '097950': 0.0, '105560': 0.0, '111770': 0.14285714285714285, '128940': 0.0, '138040': 0.0, '138930': 0.0, '139480': 0.0, '161390': 0.0}\n",
      "Portfolio: {'000270': 0.0, '000660': 0.0, '000720': 0.0, '000810': 0.0, '000880': 0.0, '000990': 0.14285714285714285, '001450': 0.0, '001570': 0.14285714285714285, '004020': 0.0, '004370': 0.0, '005380': 0.0, '005490': 0.0, '005830': 0.0, '005940': 0.0, '006260': 0.14285714285714285, '006400': 0.0, '006800': 0.0, '007070': 0.0, '008770': 0.0, '009150': 0.0, '009830': 0.0, '010120': 0.14285714285714285, '010130': 0.0, '010620': 0.0, '010950': 0.0, '011070': 0.0, '011170': 0.0, '011780': 0.0, '012330': 0.0, '012450': 0.0, '015760': 0.0, '016360': 0.0, '020150': 0.0, '021240': 0.0, '024110': 0.0, '029780': 0.0, '030200': 0.0, '032640': 0.0, '032830': 0.0, '033780': 0.0, '034020': 0.14285714285714285, '034220': 0.0, '034730': 0.0, '035250': 0.0, '036460': 0.0, '036570': 0.0, '039490': 0.0, '047050': 0.0, '051900': 0.0, '051910': 0.0, '052690': 0.14285714285714285, '055550': 0.0, '066570': 0.0, '068270': 0.0, '071050': 0.0, '078930': 0.0, '086280': 0.0, '086790': 0.0, '096770': 0.0, '097950': 0.0, '105560': 0.0, '111770': 0.14285714285714285, '128940': 0.0, '138040': 0.0, '138930': 0.0, '139480': 0.0, '161390': 0.0}\n",
      "Portfolio: {'000270': 0.0, '000660': 0.0, '000720': 0.0, '000810': 0.0, '000880': 0.0, '000990': 0.14285714285714285, '001450': 0.0, '001570': 0.14285714285714285, '004020': 0.0, '004370': 0.0, '005380': 0.0, '005490': 0.0, '005830': 0.0, '005940': 0.0, '006260': 0.14285714285714285, '006400': 0.0, '006800': 0.0, '007070': 0.0, '008770': 0.0, '009150': 0.0, '009830': 0.0, '010120': 0.14285714285714285, '010130': 0.0, '010620': 0.0, '010950': 0.0, '011070': 0.0, '011170': 0.0, '011780': 0.0, '012330': 0.0, '012450': 0.14285714285714285, '015760': 0.0, '016360': 0.0, '020150': 0.0, '021240': 0.0, '024110': 0.0, '029780': 0.0, '030200': 0.0, '032640': 0.0, '032830': 0.0, '033780': 0.0, '034020': 0.14285714285714285, '034220': 0.0, '034730': 0.0, '035250': 0.0, '036460': 0.0, '036570': 0.0, '039490': 0.0, '047050': 0.0, '051900': 0.0, '051910': 0.0, '052690': 0.14285714285714285, '055550': 0.0, '066570': 0.0, '068270': 0.0, '071050': 0.0, '078930': 0.0, '086280': 0.0, '086790': 0.0, '096770': 0.0, '097950': 0.0, '105560': 0.0, '111770': 0.0, '128940': 0.0, '138040': 0.0, '138930': 0.0, '139480': 0.0, '161390': 0.0}\n",
      "Portfolio: {'000270': 0.0, '000660': 0.0, '000720': 0.0, '000810': 0.0, '000880': 0.0, '000990': 0.14285714285714285, '001450': 0.0, '001570': 0.14285714285714285, '004020': 0.0, '004370': 0.14285714285714285, '005380': 0.0, '005490': 0.0, '005830': 0.0, '005940': 0.0, '006260': 0.14285714285714285, '006400': 0.0, '006800': 0.0, '007070': 0.0, '008770': 0.0, '009150': 0.0, '009830': 0.0, '010120': 0.14285714285714285, '010130': 0.0, '010620': 0.0, '010950': 0.0, '011070': 0.0, '011170': 0.0, '011780': 0.0, '012330': 0.0, '012450': 0.0, '015760': 0.0, '016360': 0.0, '020150': 0.0, '021240': 0.0, '024110': 0.0, '029780': 0.0, '030200': 0.0, '032640': 0.0, '032830': 0.0, '033780': 0.0, '034020': 0.14285714285714285, '034220': 0.0, '034730': 0.0, '035250': 0.0, '036460': 0.0, '036570': 0.0, '039490': 0.0, '047050': 0.0, '051900': 0.0, '051910': 0.0, '052690': 0.14285714285714285, '055550': 0.0, '066570': 0.0, '068270': 0.0, '071050': 0.0, '078930': 0.0, '086280': 0.0, '086790': 0.0, '096770': 0.0, '097950': 0.0, '105560': 0.0, '111770': 0.0, '128940': 0.0, '138040': 0.0, '138930': 0.0, '139480': 0.0, '161390': 0.0}\n",
      "Portfolio: {'000270': 0.0, '000660': 0.0, '000720': 0.0, '000810': 0.0, '000880': 0.0, '000990': 0.14285714285714285, '001450': 0.0, '001570': 0.14285714285714285, '004020': 0.0, '004370': 0.14285714285714285, '005380': 0.0, '005490': 0.0, '005830': 0.0, '005940': 0.0, '006260': 0.14285714285714285, '006400': 0.0, '006800': 0.0, '007070': 0.0, '008770': 0.0, '009150': 0.0, '009830': 0.0, '010120': 0.14285714285714285, '010130': 0.0, '010620': 0.0, '010950': 0.0, '011070': 0.0, '011170': 0.0, '011780': 0.0, '012330': 0.0, '012450': 0.0, '015760': 0.0, '016360': 0.0, '020150': 0.0, '021240': 0.0, '024110': 0.0, '029780': 0.0, '030200': 0.0, '032640': 0.0, '032830': 0.0, '033780': 0.0, '034020': 0.14285714285714285, '034220': 0.0, '034730': 0.0, '035250': 0.0, '036460': 0.0, '036570': 0.0, '039490': 0.0, '047050': 0.0, '051900': 0.0, '051910': 0.0, '052690': 0.14285714285714285, '055550': 0.0, '066570': 0.0, '068270': 0.0, '071050': 0.0, '078930': 0.0, '086280': 0.0, '086790': 0.0, '096770': 0.0, '097950': 0.0, '105560': 0.0, '111770': 0.0, '128940': 0.0, '138040': 0.0, '138930': 0.0, '139480': 0.0, '161390': 0.0}\n",
      "Portfolio: {'000270': 0.0, '000660': 0.0, '000720': 0.0, '000810': 0.0, '000880': 0.0, '000990': 0.14285714285714285, '001450': 0.0, '001570': 0.14285714285714285, '004020': 0.0, '004370': 0.14285714285714285, '005380': 0.0, '005490': 0.0, '005830': 0.0, '005940': 0.0, '006260': 0.14285714285714285, '006400': 0.0, '006800': 0.0, '007070': 0.0, '008770': 0.0, '009150': 0.0, '009830': 0.0, '010120': 0.14285714285714285, '010130': 0.0, '010620': 0.0, '010950': 0.0, '011070': 0.0, '011170': 0.0, '011780': 0.0, '012330': 0.0, '012450': 0.0, '015760': 0.0, '016360': 0.0, '020150': 0.0, '021240': 0.0, '024110': 0.0, '029780': 0.0, '030200': 0.0, '032640': 0.0, '032830': 0.0, '033780': 0.0, '034020': 0.14285714285714285, '034220': 0.0, '034730': 0.0, '035250': 0.0, '036460': 0.0, '036570': 0.0, '039490': 0.0, '047050': 0.0, '051900': 0.0, '051910': 0.0, '052690': 0.14285714285714285, '055550': 0.0, '066570': 0.0, '068270': 0.0, '071050': 0.0, '078930': 0.0, '086280': 0.0, '086790': 0.0, '096770': 0.0, '097950': 0.0, '105560': 0.0, '111770': 0.0, '128940': 0.0, '138040': 0.0, '138930': 0.0, '139480': 0.0, '161390': 0.0}\n",
      "Portfolio: {'000270': 0.0, '000660': 0.0, '000720': 0.0, '000810': 0.0, '000880': 0.0, '000990': 0.14285714285714285, '001450': 0.0, '001570': 0.14285714285714285, '004020': 0.0, '004370': 0.0, '005380': 0.0, '005490': 0.0, '005830': 0.0, '005940': 0.0, '006260': 0.14285714285714285, '006400': 0.0, '006800': 0.0, '007070': 0.0, '008770': 0.0, '009150': 0.0, '009830': 0.0, '010120': 0.14285714285714285, '010130': 0.0, '010620': 0.0, '010950': 0.0, '011070': 0.0, '011170': 0.0, '011780': 0.0, '012330': 0.0, '012450': 0.0, '015760': 0.0, '016360': 0.0, '020150': 0.0, '021240': 0.0, '024110': 0.0, '029780': 0.0, '030200': 0.0, '032640': 0.0, '032830': 0.0, '033780': 0.0, '034020': 0.14285714285714285, '034220': 0.0, '034730': 0.0, '035250': 0.0, '036460': 0.0, '036570': 0.0, '039490': 0.14285714285714285, '047050': 0.0, '051900': 0.0, '051910': 0.0, '052690': 0.14285714285714285, '055550': 0.0, '066570': 0.0, '068270': 0.0, '071050': 0.0, '078930': 0.0, '086280': 0.0, '086790': 0.0, '096770': 0.0, '097950': 0.0, '105560': 0.0, '111770': 0.0, '128940': 0.0, '138040': 0.0, '138930': 0.0, '139480': 0.0, '161390': 0.0}\n",
      "Portfolio: {'000270': 0.0, '000660': 0.0, '000720': 0.0, '000810': 0.0, '000880': 0.0, '000990': 0.14285714285714285, '001450': 0.0, '001570': 0.14285714285714285, '004020': 0.0, '004370': 0.14285714285714285, '005380': 0.0, '005490': 0.0, '005830': 0.0, '005940': 0.0, '006260': 0.0, '006400': 0.0, '006800': 0.0, '007070': 0.0, '008770': 0.0, '009150': 0.0, '009830': 0.0, '010120': 0.14285714285714285, '010130': 0.0, '010620': 0.0, '010950': 0.0, '011070': 0.0, '011170': 0.0, '011780': 0.0, '012330': 0.0, '012450': 0.0, '015760': 0.0, '016360': 0.0, '020150': 0.0, '021240': 0.0, '024110': 0.0, '029780': 0.0, '030200': 0.0, '032640': 0.0, '032830': 0.0, '033780': 0.0, '034020': 0.14285714285714285, '034220': 0.0, '034730': 0.0, '035250': 0.0, '036460': 0.0, '036570': 0.0, '039490': 0.14285714285714285, '047050': 0.0, '051900': 0.0, '051910': 0.0, '052690': 0.14285714285714285, '055550': 0.0, '066570': 0.0, '068270': 0.0, '071050': 0.0, '078930': 0.0, '086280': 0.0, '086790': 0.0, '096770': 0.0, '097950': 0.0, '105560': 0.0, '111770': 0.0, '128940': 0.0, '138040': 0.0, '138930': 0.0, '139480': 0.0, '161390': 0.0}\n",
      "Portfolio: {'000270': 0.0, '000660': 0.0, '000720': 0.0, '000810': 0.0, '000880': 0.0, '000990': 0.14285714285714285, '001450': 0.0, '001570': 0.14285714285714285, '004020': 0.0, '004370': 0.14285714285714285, '005380': 0.0, '005490': 0.0, '005830': 0.0, '005940': 0.0, '006260': 0.0, '006400': 0.0, '006800': 0.0, '007070': 0.0, '008770': 0.0, '009150': 0.0, '009830': 0.0, '010120': 0.14285714285714285, '010130': 0.0, '010620': 0.0, '010950': 0.0, '011070': 0.0, '011170': 0.0, '011780': 0.0, '012330': 0.0, '012450': 0.0, '015760': 0.0, '016360': 0.0, '020150': 0.0, '021240': 0.0, '024110': 0.0, '029780': 0.0, '030200': 0.0, '032640': 0.0, '032830': 0.0, '033780': 0.0, '034020': 0.14285714285714285, '034220': 0.0, '034730': 0.0, '035250': 0.0, '036460': 0.0, '036570': 0.0, '039490': 0.14285714285714285, '047050': 0.0, '051900': 0.0, '051910': 0.0, '052690': 0.14285714285714285, '055550': 0.0, '066570': 0.0, '068270': 0.0, '071050': 0.0, '078930': 0.0, '086280': 0.0, '086790': 0.0, '096770': 0.0, '097950': 0.0, '105560': 0.0, '111770': 0.0, '128940': 0.0, '138040': 0.0, '138930': 0.0, '139480': 0.0, '161390': 0.0}\n",
      "Portfolio: {'000270': 0.0, '000660': 0.0, '000720': 0.0, '000810': 0.0, '000880': 0.0, '000990': 0.14285714285714285, '001450': 0.0, '001570': 0.14285714285714285, '004020': 0.0, '004370': 0.14285714285714285, '005380': 0.0, '005490': 0.0, '005830': 0.0, '005940': 0.0, '006260': 0.14285714285714285, '006400': 0.0, '006800': 0.0, '007070': 0.0, '008770': 0.0, '009150': 0.0, '009830': 0.0, '010120': 0.14285714285714285, '010130': 0.0, '010620': 0.0, '010950': 0.0, '011070': 0.0, '011170': 0.0, '011780': 0.0, '012330': 0.0, '012450': 0.0, '015760': 0.0, '016360': 0.0, '020150': 0.0, '021240': 0.0, '024110': 0.0, '029780': 0.0, '030200': 0.0, '032640': 0.0, '032830': 0.0, '033780': 0.0, '034020': 0.14285714285714285, '034220': 0.0, '034730': 0.0, '035250': 0.0, '036460': 0.0, '036570': 0.0, '039490': 0.0, '047050': 0.0, '051900': 0.0, '051910': 0.0, '052690': 0.14285714285714285, '055550': 0.0, '066570': 0.0, '068270': 0.0, '071050': 0.0, '078930': 0.0, '086280': 0.0, '086790': 0.0, '096770': 0.0, '097950': 0.0, '105560': 0.0, '111770': 0.0, '128940': 0.0, '138040': 0.0, '138930': 0.0, '139480': 0.0, '161390': 0.0}\n",
      "Portfolio: {'000270': 0.0, '000660': 0.0, '000720': 0.0, '000810': 0.0, '000880': 0.0, '000990': 0.14285714285714285, '001450': 0.0, '001570': 0.14285714285714285, '004020': 0.0, '004370': 0.14285714285714285, '005380': 0.0, '005490': 0.0, '005830': 0.0, '005940': 0.0, '006260': 0.14285714285714285, '006400': 0.0, '006800': 0.0, '007070': 0.0, '008770': 0.0, '009150': 0.0, '009830': 0.0, '010120': 0.0, '010130': 0.0, '010620': 0.0, '010950': 0.0, '011070': 0.0, '011170': 0.0, '011780': 0.0, '012330': 0.0, '012450': 0.0, '015760': 0.0, '016360': 0.0, '020150': 0.0, '021240': 0.0, '024110': 0.0, '029780': 0.0, '030200': 0.0, '032640': 0.0, '032830': 0.0, '033780': 0.0, '034020': 0.14285714285714285, '034220': 0.0, '034730': 0.0, '035250': 0.0, '036460': 0.0, '036570': 0.0, '039490': 0.0, '047050': 0.0, '051900': 0.0, '051910': 0.0, '052690': 0.14285714285714285, '055550': 0.0, '066570': 0.0, '068270': 0.0, '071050': 0.0, '078930': 0.0, '086280': 0.0, '086790': 0.0, '096770': 0.0, '097950': 0.0, '105560': 0.0, '111770': 0.14285714285714285, '128940': 0.0, '138040': 0.0, '138930': 0.0, '139480': 0.0, '161390': 0.0}\n",
      "Portfolio: {'000270': 0.0, '000660': 0.0, '000720': 0.0, '000810': 0.0, '000880': 0.0, '000990': 0.14285714285714285, '001450': 0.0, '001570': 0.14285714285714285, '004020': 0.0, '004370': 0.14285714285714285, '005380': 0.0, '005490': 0.0, '005830': 0.0, '005940': 0.0, '006260': 0.14285714285714285, '006400': 0.0, '006800': 0.0, '007070': 0.0, '008770': 0.0, '009150': 0.0, '009830': 0.0, '010120': 0.0, '010130': 0.0, '010620': 0.0, '010950': 0.0, '011070': 0.0, '011170': 0.0, '011780': 0.0, '012330': 0.0, '012450': 0.0, '015760': 0.0, '016360': 0.0, '020150': 0.0, '021240': 0.0, '024110': 0.0, '029780': 0.0, '030200': 0.0, '032640': 0.0, '032830': 0.0, '033780': 0.0, '034020': 0.14285714285714285, '034220': 0.0, '034730': 0.0, '035250': 0.0, '036460': 0.0, '036570': 0.0, '039490': 0.0, '047050': 0.0, '051900': 0.0, '051910': 0.0, '052690': 0.14285714285714285, '055550': 0.0, '066570': 0.0, '068270': 0.0, '071050': 0.0, '078930': 0.0, '086280': 0.0, '086790': 0.0, '096770': 0.0, '097950': 0.0, '105560': 0.0, '111770': 0.14285714285714285, '128940': 0.0, '138040': 0.0, '138930': 0.0, '139480': 0.0, '161390': 0.0}\n",
      "Portfolio: {'000270': 0.0, '000660': 0.0, '000720': 0.0, '000810': 0.0, '000880': 0.0, '000990': 0.14285714285714285, '001450': 0.0, '001570': 0.14285714285714285, '004020': 0.0, '004370': 0.0, '005380': 0.0, '005490': 0.0, '005830': 0.0, '005940': 0.0, '006260': 0.14285714285714285, '006400': 0.0, '006800': 0.0, '007070': 0.0, '008770': 0.0, '009150': 0.0, '009830': 0.0, '010120': 0.14285714285714285, '010130': 0.0, '010620': 0.0, '010950': 0.0, '011070': 0.0, '011170': 0.0, '011780': 0.0, '012330': 0.0, '012450': 0.0, '015760': 0.0, '016360': 0.0, '020150': 0.0, '021240': 0.0, '024110': 0.0, '029780': 0.0, '030200': 0.0, '032640': 0.0, '032830': 0.0, '033780': 0.0, '034020': 0.14285714285714285, '034220': 0.0, '034730': 0.0, '035250': 0.0, '036460': 0.0, '036570': 0.0, '039490': 0.0, '047050': 0.0, '051900': 0.0, '051910': 0.0, '052690': 0.14285714285714285, '055550': 0.0, '066570': 0.0, '068270': 0.0, '071050': 0.0, '078930': 0.0, '086280': 0.0, '086790': 0.0, '096770': 0.0, '097950': 0.0, '105560': 0.0, '111770': 0.14285714285714285, '128940': 0.0, '138040': 0.0, '138930': 0.0, '139480': 0.0, '161390': 0.0}\n",
      "Portfolio: {'000270': 0.0, '000660': 0.0, '000720': 0.0, '000810': 0.0, '000880': 0.0, '000990': 0.14285714285714285, '001450': 0.0, '001570': 0.14285714285714285, '004020': 0.0, '004370': 0.0, '005380': 0.0, '005490': 0.0, '005830': 0.0, '005940': 0.0, '006260': 0.14285714285714285, '006400': 0.0, '006800': 0.0, '007070': 0.0, '008770': 0.0, '009150': 0.0, '009830': 0.0, '010120': 0.14285714285714285, '010130': 0.0, '010620': 0.0, '010950': 0.0, '011070': 0.0, '011170': 0.0, '011780': 0.0, '012330': 0.0, '012450': 0.0, '015760': 0.0, '016360': 0.0, '020150': 0.0, '021240': 0.0, '024110': 0.0, '029780': 0.0, '030200': 0.0, '032640': 0.0, '032830': 0.0, '033780': 0.0, '034020': 0.14285714285714285, '034220': 0.0, '034730': 0.0, '035250': 0.0, '036460': 0.0, '036570': 0.0, '039490': 0.0, '047050': 0.0, '051900': 0.0, '051910': 0.0, '052690': 0.14285714285714285, '055550': 0.0, '066570': 0.0, '068270': 0.0, '071050': 0.0, '078930': 0.0, '086280': 0.0, '086790': 0.0, '096770': 0.0, '097950': 0.0, '105560': 0.0, '111770': 0.14285714285714285, '128940': 0.0, '138040': 0.0, '138930': 0.0, '139480': 0.0, '161390': 0.0}\n",
      "Portfolio: {'000270': 0.0, '000660': 0.0, '000720': 0.0, '000810': 0.0, '000880': 0.0, '000990': 0.14285714285714285, '001450': 0.0, '001570': 0.14285714285714285, '004020': 0.0, '004370': 0.0, '005380': 0.0, '005490': 0.0, '005830': 0.0, '005940': 0.0, '006260': 0.14285714285714285, '006400': 0.0, '006800': 0.0, '007070': 0.0, '008770': 0.0, '009150': 0.0, '009830': 0.0, '010120': 0.14285714285714285, '010130': 0.0, '010620': 0.0, '010950': 0.0, '011070': 0.0, '011170': 0.0, '011780': 0.0, '012330': 0.0, '012450': 0.0, '015760': 0.0, '016360': 0.0, '020150': 0.0, '021240': 0.0, '024110': 0.0, '029780': 0.0, '030200': 0.0, '032640': 0.0, '032830': 0.0, '033780': 0.0, '034020': 0.14285714285714285, '034220': 0.0, '034730': 0.0, '035250': 0.0, '036460': 0.0, '036570': 0.0, '039490': 0.0, '047050': 0.0, '051900': 0.0, '051910': 0.0, '052690': 0.14285714285714285, '055550': 0.0, '066570': 0.0, '068270': 0.0, '071050': 0.0, '078930': 0.0, '086280': 0.0, '086790': 0.0, '096770': 0.0, '097950': 0.0, '105560': 0.0, '111770': 0.14285714285714285, '128940': 0.0, '138040': 0.0, '138930': 0.0, '139480': 0.0, '161390': 0.0}\n",
      "Portfolio: {'000270': 0.0, '000660': 0.0, '000720': 0.0, '000810': 0.0, '000880': 0.0, '000990': 0.14285714285714285, '001450': 0.0, '001570': 0.14285714285714285, '004020': 0.0, '004370': 0.0, '005380': 0.0, '005490': 0.0, '005830': 0.0, '005940': 0.0, '006260': 0.14285714285714285, '006400': 0.0, '006800': 0.0, '007070': 0.0, '008770': 0.0, '009150': 0.0, '009830': 0.0, '010120': 0.0, '010130': 0.0, '010620': 0.14285714285714285, '010950': 0.0, '011070': 0.0, '011170': 0.0, '011780': 0.0, '012330': 0.0, '012450': 0.14285714285714285, '015760': 0.0, '016360': 0.0, '020150': 0.0, '021240': 0.0, '024110': 0.0, '029780': 0.0, '030200': 0.0, '032640': 0.0, '032830': 0.0, '033780': 0.0, '034020': 0.14285714285714285, '034220': 0.0, '034730': 0.0, '035250': 0.0, '036460': 0.0, '036570': 0.0, '039490': 0.0, '047050': 0.0, '051900': 0.0, '051910': 0.0, '052690': 0.14285714285714285, '055550': 0.0, '066570': 0.0, '068270': 0.0, '071050': 0.0, '078930': 0.0, '086280': 0.0, '086790': 0.0, '096770': 0.0, '097950': 0.0, '105560': 0.0, '111770': 0.0, '128940': 0.0, '138040': 0.0, '138930': 0.0, '139480': 0.0, '161390': 0.0}\n",
      "Portfolio: {'000270': 0.0, '000660': 0.0, '000720': 0.0, '000810': 0.0, '000880': 0.0, '000990': 0.0, '001450': 0.0, '001570': 0.14285714285714285, '004020': 0.0, '004370': 0.0, '005380': 0.0, '005490': 0.0, '005830': 0.0, '005940': 0.0, '006260': 0.14285714285714285, '006400': 0.0, '006800': 0.0, '007070': 0.0, '008770': 0.0, '009150': 0.0, '009830': 0.0, '010120': 0.0, '010130': 0.0, '010620': 0.14285714285714285, '010950': 0.0, '011070': 0.0, '011170': 0.0, '011780': 0.0, '012330': 0.0, '012450': 0.14285714285714285, '015760': 0.0, '016360': 0.0, '020150': 0.0, '021240': 0.0, '024110': 0.0, '029780': 0.0, '030200': 0.0, '032640': 0.0, '032830': 0.0, '033780': 0.0, '034020': 0.14285714285714285, '034220': 0.0, '034730': 0.0, '035250': 0.0, '036460': 0.0, '036570': 0.0, '039490': 0.0, '047050': 0.0, '051900': 0.0, '051910': 0.0, '052690': 0.14285714285714285, '055550': 0.0, '066570': 0.0, '068270': 0.0, '071050': 0.0, '078930': 0.0, '086280': 0.0, '086790': 0.0, '096770': 0.0, '097950': 0.0, '105560': 0.0, '111770': 0.14285714285714285, '128940': 0.0, '138040': 0.0, '138930': 0.0, '139480': 0.0, '161390': 0.0}\n",
      "Portfolio: {'000270': 0.0, '000660': 0.0, '000720': 0.0, '000810': 0.0, '000880': 0.0, '000990': 0.0, '001450': 0.0, '001570': 0.14285714285714285, '004020': 0.0, '004370': 0.0, '005380': 0.0, '005490': 0.0, '005830': 0.0, '005940': 0.0, '006260': 0.14285714285714285, '006400': 0.0, '006800': 0.0, '007070': 0.0, '008770': 0.0, '009150': 0.0, '009830': 0.0, '010120': 0.0, '010130': 0.0, '010620': 0.14285714285714285, '010950': 0.0, '011070': 0.0, '011170': 0.0, '011780': 0.0, '012330': 0.0, '012450': 0.14285714285714285, '015760': 0.0, '016360': 0.0, '020150': 0.0, '021240': 0.0, '024110': 0.0, '029780': 0.0, '030200': 0.0, '032640': 0.0, '032830': 0.0, '033780': 0.0, '034020': 0.0, '034220': 0.0, '034730': 0.0, '035250': 0.0, '036460': 0.0, '036570': 0.0, '039490': 0.0, '047050': 0.0, '051900': 0.0, '051910': 0.0, '052690': 0.14285714285714285, '055550': 0.0, '066570': 0.0, '068270': 0.0, '071050': 0.0, '078930': 0.0, '086280': 0.0, '086790': 0.0, '096770': 0.0, '097950': 0.0, '105560': 0.0, '111770': 0.14285714285714285, '128940': 0.0, '138040': 0.14285714285714285, '138930': 0.0, '139480': 0.0, '161390': 0.0}\n",
      "Portfolio: {'000270': 0.0, '000660': 0.0, '000720': 0.0, '000810': 0.0, '000880': 0.0, '000990': 0.0, '001450': 0.0, '001570': 0.14285714285714285, '004020': 0.0, '004370': 0.0, '005380': 0.0, '005490': 0.0, '005830': 0.0, '005940': 0.0, '006260': 0.14285714285714285, '006400': 0.0, '006800': 0.0, '007070': 0.0, '008770': 0.0, '009150': 0.0, '009830': 0.0, '010120': 0.0, '010130': 0.0, '010620': 0.14285714285714285, '010950': 0.0, '011070': 0.0, '011170': 0.0, '011780': 0.0, '012330': 0.0, '012450': 0.14285714285714285, '015760': 0.0, '016360': 0.0, '020150': 0.0, '021240': 0.0, '024110': 0.0, '029780': 0.0, '030200': 0.0, '032640': 0.0, '032830': 0.0, '033780': 0.0, '034020': 0.0, '034220': 0.0, '034730': 0.0, '035250': 0.0, '036460': 0.0, '036570': 0.0, '039490': 0.0, '047050': 0.0, '051900': 0.0, '051910': 0.0, '052690': 0.14285714285714285, '055550': 0.0, '066570': 0.0, '068270': 0.0, '071050': 0.0, '078930': 0.0, '086280': 0.0, '086790': 0.0, '096770': 0.0, '097950': 0.0, '105560': 0.0, '111770': 0.14285714285714285, '128940': 0.0, '138040': 0.14285714285714285, '138930': 0.0, '139480': 0.0, '161390': 0.0}\n",
      "Portfolio: {'000270': 0.0, '000660': 0.0, '000720': 0.0, '000810': 0.0, '000880': 0.0, '000990': 0.0, '001450': 0.0, '001570': 0.14285714285714285, '004020': 0.0, '004370': 0.0, '005380': 0.0, '005490': 0.0, '005830': 0.0, '005940': 0.0, '006260': 0.0, '006400': 0.0, '006800': 0.0, '007070': 0.0, '008770': 0.0, '009150': 0.0, '009830': 0.0, '010120': 0.0, '010130': 0.0, '010620': 0.14285714285714285, '010950': 0.0, '011070': 0.0, '011170': 0.0, '011780': 0.0, '012330': 0.0, '012450': 0.14285714285714285, '015760': 0.0, '016360': 0.0, '020150': 0.0, '021240': 0.0, '024110': 0.0, '029780': 0.0, '030200': 0.0, '032640': 0.0, '032830': 0.0, '033780': 0.0, '034020': 0.0, '034220': 0.0, '034730': 0.0, '035250': 0.0, '036460': 0.0, '036570': 0.0, '039490': 0.0, '047050': 0.0, '051900': 0.0, '051910': 0.0, '052690': 0.14285714285714285, '055550': 0.0, '066570': 0.0, '068270': 0.0, '071050': 0.0, '078930': 0.0, '086280': 0.0, '086790': 0.0, '096770': 0.0, '097950': 0.0, '105560': 0.0, '111770': 0.14285714285714285, '128940': 0.0, '138040': 0.14285714285714285, '138930': 0.14285714285714285, '139480': 0.0, '161390': 0.0}\n",
      "Portfolio: {'000270': 0.0, '000660': 0.0, '000720': 0.0, '000810': 0.0, '000880': 0.0, '000990': 0.14285714285714285, '001450': 0.0, '001570': 0.14285714285714285, '004020': 0.0, '004370': 0.0, '005380': 0.0, '005490': 0.0, '005830': 0.0, '005940': 0.0, '006260': 0.0, '006400': 0.0, '006800': 0.0, '007070': 0.0, '008770': 0.0, '009150': 0.0, '009830': 0.0, '010120': 0.0, '010130': 0.0, '010620': 0.14285714285714285, '010950': 0.0, '011070': 0.0, '011170': 0.0, '011780': 0.0, '012330': 0.0, '012450': 0.14285714285714285, '015760': 0.0, '016360': 0.0, '020150': 0.0, '021240': 0.0, '024110': 0.0, '029780': 0.0, '030200': 0.0, '032640': 0.0, '032830': 0.0, '033780': 0.0, '034020': 0.0, '034220': 0.0, '034730': 0.0, '035250': 0.0, '036460': 0.0, '036570': 0.0, '039490': 0.0, '047050': 0.0, '051900': 0.0, '051910': 0.0, '052690': 0.14285714285714285, '055550': 0.0, '066570': 0.0, '068270': 0.0, '071050': 0.0, '078930': 0.0, '086280': 0.0, '086790': 0.0, '096770': 0.0, '097950': 0.0, '105560': 0.0, '111770': 0.14285714285714285, '128940': 0.0, '138040': 0.14285714285714285, '138930': 0.0, '139480': 0.0, '161390': 0.0}\n",
      "Portfolio: {'000270': 0.0, '000660': 0.0, '000720': 0.0, '000810': 0.0, '000880': 0.0, '000990': 0.14285714285714285, '001450': 0.0, '001570': 0.14285714285714285, '004020': 0.0, '004370': 0.0, '005380': 0.0, '005490': 0.0, '005830': 0.0, '005940': 0.0, '006260': 0.0, '006400': 0.0, '006800': 0.0, '007070': 0.0, '008770': 0.0, '009150': 0.0, '009830': 0.0, '010120': 0.0, '010130': 0.0, '010620': 0.0, '010950': 0.0, '011070': 0.0, '011170': 0.0, '011780': 0.0, '012330': 0.0, '012450': 0.14285714285714285, '015760': 0.0, '016360': 0.0, '020150': 0.0, '021240': 0.0, '024110': 0.0, '029780': 0.0, '030200': 0.0, '032640': 0.0, '032830': 0.0, '033780': 0.0, '034020': 0.0, '034220': 0.0, '034730': 0.0, '035250': 0.0, '036460': 0.0, '036570': 0.0, '039490': 0.0, '047050': 0.14285714285714285, '051900': 0.0, '051910': 0.0, '052690': 0.14285714285714285, '055550': 0.0, '066570': 0.0, '068270': 0.0, '071050': 0.0, '078930': 0.0, '086280': 0.0, '086790': 0.0, '096770': 0.0, '097950': 0.0, '105560': 0.0, '111770': 0.14285714285714285, '128940': 0.0, '138040': 0.14285714285714285, '138930': 0.0, '139480': 0.0, '161390': 0.0}\n",
      "Portfolio: {'000270': 0.0, '000660': 0.0, '000720': 0.0, '000810': 0.0, '000880': 0.0, '000990': 0.0, '001450': 0.0, '001570': 0.14285714285714285, '004020': 0.0, '004370': 0.14285714285714285, '005380': 0.0, '005490': 0.0, '005830': 0.0, '005940': 0.0, '006260': 0.0, '006400': 0.0, '006800': 0.0, '007070': 0.0, '008770': 0.0, '009150': 0.0, '009830': 0.0, '010120': 0.0, '010130': 0.0, '010620': 0.0, '010950': 0.0, '011070': 0.0, '011170': 0.0, '011780': 0.0, '012330': 0.0, '012450': 0.14285714285714285, '015760': 0.0, '016360': 0.0, '020150': 0.0, '021240': 0.0, '024110': 0.0, '029780': 0.0, '030200': 0.0, '032640': 0.0, '032830': 0.0, '033780': 0.0, '034020': 0.0, '034220': 0.0, '034730': 0.0, '035250': 0.0, '036460': 0.0, '036570': 0.0, '039490': 0.0, '047050': 0.14285714285714285, '051900': 0.0, '051910': 0.0, '052690': 0.14285714285714285, '055550': 0.0, '066570': 0.0, '068270': 0.0, '071050': 0.0, '078930': 0.0, '086280': 0.0, '086790': 0.0, '096770': 0.0, '097950': 0.0, '105560': 0.0, '111770': 0.14285714285714285, '128940': 0.0, '138040': 0.14285714285714285, '138930': 0.0, '139480': 0.0, '161390': 0.0}\n",
      "Portfolio: {'000270': 0.0, '000660': 0.0, '000720': 0.0, '000810': 0.0, '000880': 0.0, '000990': 0.0, '001450': 0.14285714285714285, '001570': 0.14285714285714285, '004020': 0.0, '004370': 0.14285714285714285, '005380': 0.0, '005490': 0.0, '005830': 0.0, '005940': 0.0, '006260': 0.0, '006400': 0.0, '006800': 0.0, '007070': 0.0, '008770': 0.0, '009150': 0.0, '009830': 0.0, '010120': 0.0, '010130': 0.0, '010620': 0.14285714285714285, '010950': 0.0, '011070': 0.0, '011170': 0.0, '011780': 0.0, '012330': 0.0, '012450': 0.0, '015760': 0.0, '016360': 0.0, '020150': 0.0, '021240': 0.0, '024110': 0.0, '029780': 0.0, '030200': 0.0, '032640': 0.0, '032830': 0.0, '033780': 0.0, '034020': 0.0, '034220': 0.0, '034730': 0.0, '035250': 0.0, '036460': 0.0, '036570': 0.0, '039490': 0.0, '047050': 0.0, '051900': 0.0, '051910': 0.0, '052690': 0.14285714285714285, '055550': 0.0, '066570': 0.0, '068270': 0.0, '071050': 0.0, '078930': 0.0, '086280': 0.0, '086790': 0.0, '096770': 0.0, '097950': 0.0, '105560': 0.0, '111770': 0.14285714285714285, '128940': 0.0, '138040': 0.14285714285714285, '138930': 0.0, '139480': 0.0, '161390': 0.0}\n",
      "Portfolio: {'000270': 0.0, '000660': 0.0, '000720': 0.0, '000810': 0.0, '000880': 0.0, '000990': 0.0, '001450': 0.0, '001570': 0.14285714285714285, '004020': 0.0, '004370': 0.14285714285714285, '005380': 0.0, '005490': 0.0, '005830': 0.0, '005940': 0.0, '006260': 0.0, '006400': 0.0, '006800': 0.0, '007070': 0.0, '008770': 0.0, '009150': 0.0, '009830': 0.0, '010120': 0.14285714285714285, '010130': 0.0, '010620': 0.0, '010950': 0.0, '011070': 0.0, '011170': 0.0, '011780': 0.0, '012330': 0.0, '012450': 0.14285714285714285, '015760': 0.0, '016360': 0.0, '020150': 0.0, '021240': 0.0, '024110': 0.0, '029780': 0.0, '030200': 0.0, '032640': 0.0, '032830': 0.0, '033780': 0.0, '034020': 0.0, '034220': 0.0, '034730': 0.0, '035250': 0.0, '036460': 0.0, '036570': 0.0, '039490': 0.0, '047050': 0.0, '051900': 0.0, '051910': 0.0, '052690': 0.14285714285714285, '055550': 0.0, '066570': 0.0, '068270': 0.0, '071050': 0.0, '078930': 0.0, '086280': 0.0, '086790': 0.0, '096770': 0.0, '097950': 0.0, '105560': 0.0, '111770': 0.14285714285714285, '128940': 0.0, '138040': 0.14285714285714285, '138930': 0.0, '139480': 0.0, '161390': 0.0}\n",
      "Portfolio: {'000270': 0.0, '000660': 0.0, '000720': 0.0, '000810': 0.0, '000880': 0.0, '000990': 0.0, '001450': 0.14285714285714285, '001570': 0.14285714285714285, '004020': 0.0, '004370': 0.14285714285714285, '005380': 0.0, '005490': 0.0, '005830': 0.0, '005940': 0.0, '006260': 0.0, '006400': 0.0, '006800': 0.0, '007070': 0.0, '008770': 0.0, '009150': 0.0, '009830': 0.0, '010120': 0.14285714285714285, '010130': 0.0, '010620': 0.0, '010950': 0.0, '011070': 0.0, '011170': 0.0, '011780': 0.0, '012330': 0.0, '012450': 0.14285714285714285, '015760': 0.0, '016360': 0.0, '020150': 0.0, '021240': 0.0, '024110': 0.0, '029780': 0.0, '030200': 0.0, '032640': 0.0, '032830': 0.0, '033780': 0.0, '034020': 0.0, '034220': 0.0, '034730': 0.0, '035250': 0.0, '036460': 0.0, '036570': 0.0, '039490': 0.0, '047050': 0.0, '051900': 0.0, '051910': 0.0, '052690': 0.14285714285714285, '055550': 0.0, '066570': 0.0, '068270': 0.0, '071050': 0.0, '078930': 0.0, '086280': 0.0, '086790': 0.0, '096770': 0.0, '097950': 0.0, '105560': 0.0, '111770': 0.14285714285714285, '128940': 0.0, '138040': 0.0, '138930': 0.0, '139480': 0.0, '161390': 0.0}\n",
      "Portfolio: {'000270': 0.0, '000660': 0.0, '000720': 0.0, '000810': 0.0, '000880': 0.0, '000990': 0.0, '001450': 0.14285714285714285, '001570': 0.14285714285714285, '004020': 0.0, '004370': 0.14285714285714285, '005380': 0.0, '005490': 0.0, '005830': 0.0, '005940': 0.0, '006260': 0.0, '006400': 0.0, '006800': 0.0, '007070': 0.0, '008770': 0.0, '009150': 0.0, '009830': 0.0, '010120': 0.14285714285714285, '010130': 0.0, '010620': 0.0, '010950': 0.0, '011070': 0.0, '011170': 0.0, '011780': 0.0, '012330': 0.0, '012450': 0.14285714285714285, '015760': 0.0, '016360': 0.0, '020150': 0.0, '021240': 0.0, '024110': 0.0, '029780': 0.0, '030200': 0.0, '032640': 0.0, '032830': 0.0, '033780': 0.0, '034020': 0.0, '034220': 0.0, '034730': 0.0, '035250': 0.0, '036460': 0.0, '036570': 0.0, '039490': 0.0, '047050': 0.0, '051900': 0.0, '051910': 0.0, '052690': 0.14285714285714285, '055550': 0.0, '066570': 0.0, '068270': 0.0, '071050': 0.0, '078930': 0.0, '086280': 0.0, '086790': 0.0, '096770': 0.0, '097950': 0.0, '105560': 0.0, '111770': 0.14285714285714285, '128940': 0.0, '138040': 0.0, '138930': 0.0, '139480': 0.0, '161390': 0.0}\n",
      "Portfolio: {'000270': 0.0, '000660': 0.0, '000720': 0.0, '000810': 0.0, '000880': 0.0, '000990': 0.0, '001450': 0.14285714285714285, '001570': 0.14285714285714285, '004020': 0.0, '004370': 0.14285714285714285, '005380': 0.0, '005490': 0.0, '005830': 0.0, '005940': 0.0, '006260': 0.14285714285714285, '006400': 0.0, '006800': 0.0, '007070': 0.0, '008770': 0.0, '009150': 0.0, '009830': 0.0, '010120': 0.14285714285714285, '010130': 0.0, '010620': 0.0, '010950': 0.0, '011070': 0.0, '011170': 0.0, '011780': 0.0, '012330': 0.0, '012450': 0.0, '015760': 0.0, '016360': 0.0, '020150': 0.0, '021240': 0.0, '024110': 0.0, '029780': 0.0, '030200': 0.0, '032640': 0.0, '032830': 0.0, '033780': 0.0, '034020': 0.0, '034220': 0.0, '034730': 0.0, '035250': 0.0, '036460': 0.0, '036570': 0.0, '039490': 0.0, '047050': 0.0, '051900': 0.0, '051910': 0.0, '052690': 0.14285714285714285, '055550': 0.0, '066570': 0.0, '068270': 0.0, '071050': 0.0, '078930': 0.0, '086280': 0.0, '086790': 0.0, '096770': 0.0, '097950': 0.0, '105560': 0.0, '111770': 0.14285714285714285, '128940': 0.0, '138040': 0.0, '138930': 0.0, '139480': 0.0, '161390': 0.0}\n",
      "Portfolio: {'000270': 0.0, '000660': 0.0, '000720': 0.0, '000810': 0.0, '000880': 0.0, '000990': 0.0, '001450': 0.14285714285714285, '001570': 0.14285714285714285, '004020': 0.0, '004370': 0.14285714285714285, '005380': 0.0, '005490': 0.0, '005830': 0.0, '005940': 0.0, '006260': 0.14285714285714285, '006400': 0.0, '006800': 0.0, '007070': 0.0, '008770': 0.0, '009150': 0.0, '009830': 0.0, '010120': 0.14285714285714285, '010130': 0.0, '010620': 0.0, '010950': 0.0, '011070': 0.0, '011170': 0.0, '011780': 0.0, '012330': 0.0, '012450': 0.0, '015760': 0.0, '016360': 0.0, '020150': 0.0, '021240': 0.0, '024110': 0.0, '029780': 0.0, '030200': 0.0, '032640': 0.0, '032830': 0.0, '033780': 0.0, '034020': 0.0, '034220': 0.0, '034730': 0.0, '035250': 0.0, '036460': 0.0, '036570': 0.0, '039490': 0.0, '047050': 0.0, '051900': 0.0, '051910': 0.0, '052690': 0.14285714285714285, '055550': 0.0, '066570': 0.0, '068270': 0.0, '071050': 0.0, '078930': 0.0, '086280': 0.0, '086790': 0.0, '096770': 0.0, '097950': 0.0, '105560': 0.0, '111770': 0.14285714285714285, '128940': 0.0, '138040': 0.0, '138930': 0.0, '139480': 0.0, '161390': 0.0}\n",
      "Portfolio: {'000270': 0.0, '000660': 0.0, '000720': 0.0, '000810': 0.0, '000880': 0.14285714285714285, '000990': 0.0, '001450': 0.14285714285714285, '001570': 0.14285714285714285, '004020': 0.0, '004370': 0.14285714285714285, '005380': 0.0, '005490': 0.0, '005830': 0.0, '005940': 0.0, '006260': 0.0, '006400': 0.0, '006800': 0.0, '007070': 0.0, '008770': 0.0, '009150': 0.0, '009830': 0.0, '010120': 0.14285714285714285, '010130': 0.0, '010620': 0.0, '010950': 0.0, '011070': 0.0, '011170': 0.0, '011780': 0.0, '012330': 0.0, '012450': 0.0, '015760': 0.0, '016360': 0.0, '020150': 0.0, '021240': 0.0, '024110': 0.0, '029780': 0.0, '030200': 0.0, '032640': 0.0, '032830': 0.0, '033780': 0.0, '034020': 0.0, '034220': 0.0, '034730': 0.0, '035250': 0.0, '036460': 0.0, '036570': 0.0, '039490': 0.0, '047050': 0.0, '051900': 0.0, '051910': 0.0, '052690': 0.14285714285714285, '055550': 0.0, '066570': 0.0, '068270': 0.0, '071050': 0.0, '078930': 0.0, '086280': 0.0, '086790': 0.0, '096770': 0.0, '097950': 0.0, '105560': 0.0, '111770': 0.14285714285714285, '128940': 0.0, '138040': 0.0, '138930': 0.0, '139480': 0.0, '161390': 0.0}\n",
      "Portfolio: {'000270': 0.0, '000660': 0.0, '000720': 0.0, '000810': 0.0, '000880': 0.0, '000990': 0.0, '001450': 0.14285714285714285, '001570': 0.14285714285714285, '004020': 0.0, '004370': 0.14285714285714285, '005380': 0.0, '005490': 0.0, '005830': 0.0, '005940': 0.0, '006260': 0.14285714285714285, '006400': 0.0, '006800': 0.0, '007070': 0.0, '008770': 0.0, '009150': 0.0, '009830': 0.0, '010120': 0.14285714285714285, '010130': 0.0, '010620': 0.0, '010950': 0.0, '011070': 0.0, '011170': 0.0, '011780': 0.0, '012330': 0.0, '012450': 0.0, '015760': 0.0, '016360': 0.0, '020150': 0.0, '021240': 0.0, '024110': 0.0, '029780': 0.0, '030200': 0.0, '032640': 0.0, '032830': 0.0, '033780': 0.0, '034020': 0.0, '034220': 0.0, '034730': 0.0, '035250': 0.0, '036460': 0.0, '036570': 0.0, '039490': 0.0, '047050': 0.0, '051900': 0.0, '051910': 0.0, '052690': 0.14285714285714285, '055550': 0.0, '066570': 0.0, '068270': 0.0, '071050': 0.0, '078930': 0.0, '086280': 0.0, '086790': 0.0, '096770': 0.0, '097950': 0.0, '105560': 0.0, '111770': 0.14285714285714285, '128940': 0.0, '138040': 0.0, '138930': 0.0, '139480': 0.0, '161390': 0.0}\n",
      "Portfolio: {'000270': 0.0, '000660': 0.0, '000720': 0.0, '000810': 0.0, '000880': 0.0, '000990': 0.0, '001450': 0.14285714285714285, '001570': 0.14285714285714285, '004020': 0.0, '004370': 0.14285714285714285, '005380': 0.0, '005490': 0.0, '005830': 0.0, '005940': 0.0, '006260': 0.14285714285714285, '006400': 0.0, '006800': 0.0, '007070': 0.0, '008770': 0.0, '009150': 0.0, '009830': 0.0, '010120': 0.14285714285714285, '010130': 0.0, '010620': 0.0, '010950': 0.0, '011070': 0.0, '011170': 0.0, '011780': 0.0, '012330': 0.0, '012450': 0.0, '015760': 0.0, '016360': 0.0, '020150': 0.0, '021240': 0.0, '024110': 0.0, '029780': 0.0, '030200': 0.0, '032640': 0.0, '032830': 0.0, '033780': 0.0, '034020': 0.0, '034220': 0.0, '034730': 0.0, '035250': 0.0, '036460': 0.0, '036570': 0.0, '039490': 0.0, '047050': 0.0, '051900': 0.0, '051910': 0.0, '052690': 0.14285714285714285, '055550': 0.0, '066570': 0.0, '068270': 0.0, '071050': 0.0, '078930': 0.0, '086280': 0.0, '086790': 0.0, '096770': 0.0, '097950': 0.0, '105560': 0.0, '111770': 0.14285714285714285, '128940': 0.0, '138040': 0.0, '138930': 0.0, '139480': 0.0, '161390': 0.0}\n",
      "Portfolio: {'000270': 0.0, '000660': 0.0, '000720': 0.0, '000810': 0.0, '000880': 0.0, '000990': 0.0, '001450': 0.14285714285714285, '001570': 0.14285714285714285, '004020': 0.0, '004370': 0.14285714285714285, '005380': 0.0, '005490': 0.0, '005830': 0.0, '005940': 0.0, '006260': 0.14285714285714285, '006400': 0.0, '006800': 0.0, '007070': 0.0, '008770': 0.0, '009150': 0.0, '009830': 0.0, '010120': 0.14285714285714285, '010130': 0.0, '010620': 0.0, '010950': 0.0, '011070': 0.0, '011170': 0.0, '011780': 0.0, '012330': 0.0, '012450': 0.14285714285714285, '015760': 0.0, '016360': 0.0, '020150': 0.0, '021240': 0.0, '024110': 0.0, '029780': 0.0, '030200': 0.0, '032640': 0.0, '032830': 0.0, '033780': 0.0, '034020': 0.0, '034220': 0.0, '034730': 0.0, '035250': 0.0, '036460': 0.0, '036570': 0.0, '039490': 0.0, '047050': 0.0, '051900': 0.0, '051910': 0.0, '052690': 0.0, '055550': 0.0, '066570': 0.0, '068270': 0.0, '071050': 0.0, '078930': 0.0, '086280': 0.0, '086790': 0.0, '096770': 0.0, '097950': 0.0, '105560': 0.0, '111770': 0.14285714285714285, '128940': 0.0, '138040': 0.0, '138930': 0.0, '139480': 0.0, '161390': 0.0}\n",
      "Portfolio: {'000270': 0.0, '000660': 0.0, '000720': 0.0, '000810': 0.0, '000880': 0.0, '000990': 0.0, '001450': 0.14285714285714285, '001570': 0.14285714285714285, '004020': 0.0, '004370': 0.14285714285714285, '005380': 0.0, '005490': 0.0, '005830': 0.0, '005940': 0.0, '006260': 0.14285714285714285, '006400': 0.0, '006800': 0.0, '007070': 0.0, '008770': 0.0, '009150': 0.0, '009830': 0.0, '010120': 0.14285714285714285, '010130': 0.0, '010620': 0.0, '010950': 0.0, '011070': 0.0, '011170': 0.0, '011780': 0.0, '012330': 0.0, '012450': 0.14285714285714285, '015760': 0.0, '016360': 0.0, '020150': 0.0, '021240': 0.0, '024110': 0.0, '029780': 0.0, '030200': 0.0, '032640': 0.0, '032830': 0.0, '033780': 0.0, '034020': 0.0, '034220': 0.0, '034730': 0.0, '035250': 0.0, '036460': 0.0, '036570': 0.0, '039490': 0.0, '047050': 0.0, '051900': 0.0, '051910': 0.0, '052690': 0.0, '055550': 0.0, '066570': 0.0, '068270': 0.0, '071050': 0.0, '078930': 0.0, '086280': 0.0, '086790': 0.0, '096770': 0.0, '097950': 0.0, '105560': 0.0, '111770': 0.14285714285714285, '128940': 0.0, '138040': 0.0, '138930': 0.0, '139480': 0.0, '161390': 0.0}\n",
      "Portfolio: {'000270': 0.0, '000660': 0.0, '000720': 0.0, '000810': 0.0, '000880': 0.14285714285714285, '000990': 0.0, '001450': 0.14285714285714285, '001570': 0.14285714285714285, '004020': 0.0, '004370': 0.14285714285714285, '005380': 0.0, '005490': 0.0, '005830': 0.0, '005940': 0.0, '006260': 0.14285714285714285, '006400': 0.0, '006800': 0.0, '007070': 0.0, '008770': 0.0, '009150': 0.0, '009830': 0.0, '010120': 0.14285714285714285, '010130': 0.0, '010620': 0.0, '010950': 0.0, '011070': 0.0, '011170': 0.0, '011780': 0.0, '012330': 0.0, '012450': 0.0, '015760': 0.0, '016360': 0.0, '020150': 0.0, '021240': 0.0, '024110': 0.0, '029780': 0.0, '030200': 0.0, '032640': 0.0, '032830': 0.0, '033780': 0.0, '034020': 0.0, '034220': 0.0, '034730': 0.0, '035250': 0.0, '036460': 0.0, '036570': 0.0, '039490': 0.0, '047050': 0.0, '051900': 0.0, '051910': 0.0, '052690': 0.0, '055550': 0.0, '066570': 0.0, '068270': 0.0, '071050': 0.0, '078930': 0.0, '086280': 0.0, '086790': 0.0, '096770': 0.0, '097950': 0.0, '105560': 0.0, '111770': 0.14285714285714285, '128940': 0.0, '138040': 0.0, '138930': 0.0, '139480': 0.0, '161390': 0.0}\n"
     ]
    }
   ],
   "source": [
    "# 룩백 기간, 생략 기간 정의\n",
    "lookback = 1\n",
    "offset = 0\n",
    "total_lookback = get_lookback_fromdate(fromdate=simulation_fromdate,\n",
    "                                       lookback=lookback + offset, freq='m')\n",
    "\n",
    "# 매수 비율 정의\n",
    "ratio = 0.1\n",
    "\n",
    "# 전략 정의\n",
    "strategy = 'small'\n",
    "\n",
    "# 소형주 전략 실행하기\n",
    "account_small = simulate_factor(\n",
    "    ohlcv_data=df_slicer(df=ohlcv_data_day, fromdate=total_lookback),\n",
    "    market_cap_data=df_slicer(df=market_cap_data, fromdate=total_lookback),\n",
    "    fundamental_data=None,\n",
    "    trader_data=None,\n",
    "    lookback_period=lookback * 21,\n",
    "    skip_period=offset * 21,\n",
    "    strategy_name=strategy,\n",
    "    buying_ratio=ratio)"
   ],
   "metadata": {
    "collapsed": false,
    "ExecuteTime": {
     "end_time": "2023-12-07T04:52:47.457843Z",
     "start_time": "2023-12-07T04:52:46.108180Z"
    }
   }
  },
  {
   "cell_type": "markdown",
   "source": [
    "#### 1.6.6. 로우볼 전략 실행하기"
   ],
   "metadata": {
    "collapsed": false
   }
  },
  {
   "cell_type": "code",
   "execution_count": 50,
   "outputs": [
    {
     "name": "stderr",
     "output_type": "stream",
     "text": [
      "/var/folders/j2/p6vmvrcs1kg7j9c8811510sc0000gn/T/ipykernel_87974/888467401.py:44: FutureWarning: In a future version of pandas, a length 1 tuple will be returned when iterating over a groupby with a grouper equal to a list of length 1. Don't supply a list with a single grouper to avoid this warning.\n",
      "  for date, ohlcv in ohlcv_data.groupby(['date']):\n"
     ]
    },
    {
     "name": "stdout",
     "output_type": "stream",
     "text": [
      "Portfolio: None\n",
      "Portfolio: None\n",
      "Portfolio: None\n",
      "Portfolio: {'000270': 0.0, '000660': 0.0, '000720': 0.0, '000810': 0.0, '000880': 0.0, '000990': 0.0, '001450': 0.0, '001570': 0.14285714285714285, '004020': 0.0, '004370': 0.0, '005380': 0.0, '005490': 0.0, '005830': 0.0, '005940': 0.0, '006260': 0.0, '006400': 0.0, '006800': 0.0, '007070': 0.0, '008770': 0.0, '009150': 0.0, '009830': 0.0, '010120': 0.0, '010130': 0.0, '010620': 0.0, '010950': 0.0, '011070': 0.0, '011170': 0.0, '011780': 0.14285714285714285, '012330': 0.0, '012450': 0.14285714285714285, '015760': 0.0, '016360': 0.0, '020150': 0.14285714285714285, '021240': 0.0, '024110': 0.0, '029780': 0.0, '030200': 0.0, '032640': 0.0, '032830': 0.0, '033780': 0.0, '034020': 0.0, '034220': 0.0, '034730': 0.0, '035250': 0.0, '036460': 0.0, '036570': 0.14285714285714285, '039490': 0.0, '047050': 0.0, '051900': 0.0, '051910': 0.0, '052690': 0.0, '055550': 0.0, '066570': 0.0, '068270': 0.0, '071050': 0.0, '078930': 0.0, '086280': 0.0, '086790': 0.0, '096770': 0.0, '097950': 0.0, '105560': 0.0, '111770': 0.14285714285714285, '128940': 0.14285714285714285, '138040': 0.0, '138930': 0.0, '139480': 0.0, '161390': 0.0}\n",
      "Portfolio: {'000270': 0.0, '000660': 0.14285714285714285, '000720': 0.0, '000810': 0.0, '000880': 0.0, '000990': 0.0, '001450': 0.0, '001570': 0.14285714285714285, '004020': 0.0, '004370': 0.0, '005380': 0.0, '005490': 0.0, '005830': 0.0, '005940': 0.0, '006260': 0.0, '006400': 0.0, '006800': 0.0, '007070': 0.0, '008770': 0.14285714285714285, '009150': 0.0, '009830': 0.0, '010120': 0.0, '010130': 0.0, '010620': 0.14285714285714285, '010950': 0.0, '011070': 0.0, '011170': 0.0, '011780': 0.14285714285714285, '012330': 0.0, '012450': 0.0, '015760': 0.0, '016360': 0.0, '020150': 0.14285714285714285, '021240': 0.0, '024110': 0.0, '029780': 0.0, '030200': 0.0, '032640': 0.0, '032830': 0.0, '033780': 0.0, '034020': 0.0, '034220': 0.0, '034730': 0.0, '035250': 0.0, '036460': 0.0, '036570': 0.0, '039490': 0.0, '047050': 0.0, '051900': 0.0, '051910': 0.0, '052690': 0.14285714285714285, '055550': 0.0, '066570': 0.0, '068270': 0.0, '071050': 0.0, '078930': 0.0, '086280': 0.0, '086790': 0.0, '096770': 0.0, '097950': 0.0, '105560': 0.0, '111770': 0.0, '128940': 0.0, '138040': 0.0, '138930': 0.0, '139480': 0.0, '161390': 0.0}\n",
      "Portfolio: {'000270': 0.0, '000660': 0.0, '000720': 0.0, '000810': 0.0, '000880': 0.0, '000990': 0.0, '001450': 0.0, '001570': 0.14285714285714285, '004020': 0.0, '004370': 0.0, '005380': 0.0, '005490': 0.0, '005830': 0.0, '005940': 0.0, '006260': 0.0, '006400': 0.0, '006800': 0.0, '007070': 0.0, '008770': 0.14285714285714285, '009150': 0.0, '009830': 0.0, '010120': 0.0, '010130': 0.0, '010620': 0.14285714285714285, '010950': 0.0, '011070': 0.0, '011170': 0.0, '011780': 0.0, '012330': 0.0, '012450': 0.0, '015760': 0.0, '016360': 0.0, '020150': 0.0, '021240': 0.0, '024110': 0.0, '029780': 0.0, '030200': 0.0, '032640': 0.0, '032830': 0.0, '033780': 0.0, '034020': 0.14285714285714285, '034220': 0.0, '034730': 0.0, '035250': 0.0, '036460': 0.0, '036570': 0.14285714285714285, '039490': 0.0, '047050': 0.0, '051900': 0.0, '051910': 0.0, '052690': 0.14285714285714285, '055550': 0.0, '066570': 0.0, '068270': 0.0, '071050': 0.0, '078930': 0.0, '086280': 0.0, '086790': 0.0, '096770': 0.0, '097950': 0.0, '105560': 0.0, '111770': 0.14285714285714285, '128940': 0.0, '138040': 0.0, '138930': 0.0, '139480': 0.0, '161390': 0.0}\n",
      "Portfolio: {'000270': 0.0, '000660': 0.0, '000720': 0.0, '000810': 0.0, '000880': 0.0, '000990': 0.0, '001450': 0.0, '001570': 0.14285714285714285, '004020': 0.0, '004370': 0.0, '005380': 0.14285714285714285, '005490': 0.0, '005830': 0.0, '005940': 0.0, '006260': 0.0, '006400': 0.0, '006800': 0.0, '007070': 0.0, '008770': 0.14285714285714285, '009150': 0.0, '009830': 0.0, '010120': 0.0, '010130': 0.0, '010620': 0.14285714285714285, '010950': 0.0, '011070': 0.14285714285714285, '011170': 0.0, '011780': 0.0, '012330': 0.0, '012450': 0.0, '015760': 0.0, '016360': 0.0, '020150': 0.14285714285714285, '021240': 0.0, '024110': 0.0, '029780': 0.0, '030200': 0.0, '032640': 0.0, '032830': 0.0, '033780': 0.0, '034020': 0.14285714285714285, '034220': 0.0, '034730': 0.0, '035250': 0.0, '036460': 0.0, '036570': 0.0, '039490': 0.0, '047050': 0.0, '051900': 0.0, '051910': 0.0, '052690': 0.0, '055550': 0.0, '066570': 0.0, '068270': 0.0, '071050': 0.0, '078930': 0.0, '086280': 0.0, '086790': 0.0, '096770': 0.0, '097950': 0.0, '105560': 0.0, '111770': 0.0, '128940': 0.0, '138040': 0.0, '138930': 0.0, '139480': 0.0, '161390': 0.0}\n",
      "Portfolio: {'000270': 0.0, '000660': 0.0, '000720': 0.0, '000810': 0.0, '000880': 0.0, '000990': 0.14285714285714285, '001450': 0.0, '001570': 0.14285714285714285, '004020': 0.0, '004370': 0.0, '005380': 0.0, '005490': 0.0, '005830': 0.0, '005940': 0.0, '006260': 0.0, '006400': 0.0, '006800': 0.0, '007070': 0.0, '008770': 0.0, '009150': 0.0, '009830': 0.0, '010120': 0.0, '010130': 0.0, '010620': 0.14285714285714285, '010950': 0.0, '011070': 0.14285714285714285, '011170': 0.0, '011780': 0.0, '012330': 0.0, '012450': 0.0, '015760': 0.0, '016360': 0.0, '020150': 0.14285714285714285, '021240': 0.0, '024110': 0.0, '029780': 0.0, '030200': 0.0, '032640': 0.0, '032830': 0.0, '033780': 0.0, '034020': 0.14285714285714285, '034220': 0.0, '034730': 0.0, '035250': 0.0, '036460': 0.0, '036570': 0.14285714285714285, '039490': 0.0, '047050': 0.0, '051900': 0.0, '051910': 0.0, '052690': 0.0, '055550': 0.0, '066570': 0.0, '068270': 0.0, '071050': 0.0, '078930': 0.0, '086280': 0.0, '086790': 0.0, '096770': 0.0, '097950': 0.0, '105560': 0.0, '111770': 0.0, '128940': 0.0, '138040': 0.0, '138930': 0.0, '139480': 0.0, '161390': 0.0}\n",
      "Portfolio: {'000270': 0.0, '000660': 0.0, '000720': 0.0, '000810': 0.0, '000880': 0.0, '000990': 0.0, '001450': 0.0, '001570': 0.0, '004020': 0.0, '004370': 0.0, '005380': 0.0, '005490': 0.0, '005830': 0.0, '005940': 0.0, '006260': 0.0, '006400': 0.14285714285714285, '006800': 0.0, '007070': 0.0, '008770': 0.0, '009150': 0.14285714285714285, '009830': 0.0, '010120': 0.0, '010130': 0.0, '010620': 0.0, '010950': 0.0, '011070': 0.14285714285714285, '011170': 0.0, '011780': 0.0, '012330': 0.0, '012450': 0.0, '015760': 0.0, '016360': 0.0, '020150': 0.14285714285714285, '021240': 0.0, '024110': 0.0, '029780': 0.0, '030200': 0.0, '032640': 0.0, '032830': 0.0, '033780': 0.0, '034020': 0.0, '034220': 0.14285714285714285, '034730': 0.0, '035250': 0.0, '036460': 0.0, '036570': 0.14285714285714285, '039490': 0.0, '047050': 0.0, '051900': 0.0, '051910': 0.0, '052690': 0.0, '055550': 0.0, '066570': 0.0, '068270': 0.0, '071050': 0.0, '078930': 0.0, '086280': 0.0, '086790': 0.0, '096770': 0.0, '097950': 0.0, '105560': 0.0, '111770': 0.0, '128940': 0.14285714285714285, '138040': 0.0, '138930': 0.0, '139480': 0.0, '161390': 0.0}\n",
      "Portfolio: {'000270': 0.0, '000660': 0.0, '000720': 0.0, '000810': 0.0, '000880': 0.0, '000990': 0.14285714285714285, '001450': 0.0, '001570': 0.0, '004020': 0.0, '004370': 0.0, '005380': 0.0, '005490': 0.0, '005830': 0.0, '005940': 0.0, '006260': 0.0, '006400': 0.14285714285714285, '006800': 0.0, '007070': 0.0, '008770': 0.0, '009150': 0.14285714285714285, '009830': 0.0, '010120': 0.0, '010130': 0.0, '010620': 0.14285714285714285, '010950': 0.0, '011070': 0.14285714285714285, '011170': 0.0, '011780': 0.0, '012330': 0.0, '012450': 0.0, '015760': 0.0, '016360': 0.0, '020150': 0.14285714285714285, '021240': 0.0, '024110': 0.0, '029780': 0.0, '030200': 0.0, '032640': 0.0, '032830': 0.0, '033780': 0.0, '034020': 0.0, '034220': 0.0, '034730': 0.0, '035250': 0.0, '036460': 0.0, '036570': 0.14285714285714285, '039490': 0.0, '047050': 0.0, '051900': 0.0, '051910': 0.0, '052690': 0.0, '055550': 0.0, '066570': 0.0, '068270': 0.0, '071050': 0.0, '078930': 0.0, '086280': 0.0, '086790': 0.0, '096770': 0.0, '097950': 0.0, '105560': 0.0, '111770': 0.0, '128940': 0.0, '138040': 0.0, '138930': 0.0, '139480': 0.0, '161390': 0.0}\n",
      "Portfolio: {'000270': 0.0, '000660': 0.0, '000720': 0.0, '000810': 0.0, '000880': 0.0, '000990': 0.14285714285714285, '001450': 0.0, '001570': 0.0, '004020': 0.0, '004370': 0.0, '005380': 0.0, '005490': 0.0, '005830': 0.0, '005940': 0.0, '006260': 0.0, '006400': 0.14285714285714285, '006800': 0.0, '007070': 0.14285714285714285, '008770': 0.0, '009150': 0.0, '009830': 0.0, '010120': 0.0, '010130': 0.0, '010620': 0.14285714285714285, '010950': 0.0, '011070': 0.14285714285714285, '011170': 0.0, '011780': 0.0, '012330': 0.0, '012450': 0.0, '015760': 0.0, '016360': 0.0, '020150': 0.14285714285714285, '021240': 0.0, '024110': 0.0, '029780': 0.0, '030200': 0.0, '032640': 0.0, '032830': 0.0, '033780': 0.0, '034020': 0.0, '034220': 0.0, '034730': 0.0, '035250': 0.0, '036460': 0.0, '036570': 0.0, '039490': 0.0, '047050': 0.0, '051900': 0.0, '051910': 0.0, '052690': 0.0, '055550': 0.0, '066570': 0.0, '068270': 0.14285714285714285, '071050': 0.0, '078930': 0.0, '086280': 0.0, '086790': 0.0, '096770': 0.0, '097950': 0.0, '105560': 0.0, '111770': 0.0, '128940': 0.0, '138040': 0.0, '138930': 0.0, '139480': 0.0, '161390': 0.0}\n",
      "Portfolio: {'000270': 0.0, '000660': 0.0, '000720': 0.0, '000810': 0.0, '000880': 0.0, '000990': 0.14285714285714285, '001450': 0.0, '001570': 0.0, '004020': 0.0, '004370': 0.0, '005380': 0.0, '005490': 0.0, '005830': 0.0, '005940': 0.0, '006260': 0.0, '006400': 0.0, '006800': 0.0, '007070': 0.0, '008770': 0.0, '009150': 0.0, '009830': 0.0, '010120': 0.0, '010130': 0.0, '010620': 0.14285714285714285, '010950': 0.0, '011070': 0.14285714285714285, '011170': 0.0, '011780': 0.0, '012330': 0.0, '012450': 0.14285714285714285, '015760': 0.0, '016360': 0.0, '020150': 0.14285714285714285, '021240': 0.0, '024110': 0.0, '029780': 0.0, '030200': 0.0, '032640': 0.0, '032830': 0.0, '033780': 0.0, '034020': 0.0, '034220': 0.0, '034730': 0.0, '035250': 0.0, '036460': 0.0, '036570': 0.0, '039490': 0.0, '047050': 0.0, '051900': 0.0, '051910': 0.0, '052690': 0.0, '055550': 0.0, '066570': 0.14285714285714285, '068270': 0.14285714285714285, '071050': 0.0, '078930': 0.0, '086280': 0.0, '086790': 0.0, '096770': 0.0, '097950': 0.0, '105560': 0.0, '111770': 0.0, '128940': 0.0, '138040': 0.0, '138930': 0.0, '139480': 0.0, '161390': 0.0}\n",
      "Portfolio: {'000270': 0.0, '000660': 0.0, '000720': 0.0, '000810': 0.0, '000880': 0.0, '000990': 0.14285714285714285, '001450': 0.0, '001570': 0.0, '004020': 0.0, '004370': 0.0, '005380': 0.0, '005490': 0.0, '005830': 0.0, '005940': 0.0, '006260': 0.0, '006400': 0.0, '006800': 0.0, '007070': 0.0, '008770': 0.0, '009150': 0.0, '009830': 0.0, '010120': 0.0, '010130': 0.0, '010620': 0.14285714285714285, '010950': 0.0, '011070': 0.0, '011170': 0.0, '011780': 0.0, '012330': 0.0, '012450': 0.0, '015760': 0.0, '016360': 0.0, '020150': 0.14285714285714285, '021240': 0.0, '024110': 0.0, '029780': 0.0, '030200': 0.0, '032640': 0.0, '032830': 0.0, '033780': 0.0, '034020': 0.0, '034220': 0.0, '034730': 0.0, '035250': 0.0, '036460': 0.0, '036570': 0.14285714285714285, '039490': 0.0, '047050': 0.0, '051900': 0.0, '051910': 0.0, '052690': 0.14285714285714285, '055550': 0.0, '066570': 0.0, '068270': 0.14285714285714285, '071050': 0.0, '078930': 0.0, '086280': 0.0, '086790': 0.0, '096770': 0.0, '097950': 0.0, '105560': 0.0, '111770': 0.0, '128940': 0.14285714285714285, '138040': 0.0, '138930': 0.0, '139480': 0.0, '161390': 0.0}\n",
      "Portfolio: {'000270': 0.0, '000660': 0.0, '000720': 0.0, '000810': 0.0, '000880': 0.0, '000990': 0.0, '001450': 0.0, '001570': 0.0, '004020': 0.0, '004370': 0.0, '005380': 0.0, '005490': 0.0, '005830': 0.0, '005940': 0.0, '006260': 0.0, '006400': 0.0, '006800': 0.0, '007070': 0.0, '008770': 0.14285714285714285, '009150': 0.0, '009830': 0.0, '010120': 0.0, '010130': 0.0, '010620': 0.14285714285714285, '010950': 0.0, '011070': 0.14285714285714285, '011170': 0.0, '011780': 0.0, '012330': 0.0, '012450': 0.0, '015760': 0.0, '016360': 0.0, '020150': 0.14285714285714285, '021240': 0.0, '024110': 0.0, '029780': 0.0, '030200': 0.0, '032640': 0.0, '032830': 0.0, '033780': 0.0, '034020': 0.0, '034220': 0.0, '034730': 0.0, '035250': 0.0, '036460': 0.0, '036570': 0.0, '039490': 0.0, '047050': 0.0, '051900': 0.0, '051910': 0.0, '052690': 0.14285714285714285, '055550': 0.0, '066570': 0.0, '068270': 0.14285714285714285, '071050': 0.0, '078930': 0.0, '086280': 0.0, '086790': 0.0, '096770': 0.0, '097950': 0.0, '105560': 0.0, '111770': 0.0, '128940': 0.14285714285714285, '138040': 0.0, '138930': 0.0, '139480': 0.0, '161390': 0.0}\n",
      "Portfolio: {'000270': 0.0, '000660': 0.0, '000720': 0.0, '000810': 0.0, '000880': 0.0, '000990': 0.14285714285714285, '001450': 0.0, '001570': 0.0, '004020': 0.0, '004370': 0.0, '005380': 0.0, '005490': 0.0, '005830': 0.0, '005940': 0.0, '006260': 0.0, '006400': 0.0, '006800': 0.0, '007070': 0.0, '008770': 0.0, '009150': 0.0, '009830': 0.0, '010120': 0.0, '010130': 0.0, '010620': 0.14285714285714285, '010950': 0.0, '011070': 0.14285714285714285, '011170': 0.0, '011780': 0.0, '012330': 0.0, '012450': 0.0, '015760': 0.0, '016360': 0.0, '020150': 0.14285714285714285, '021240': 0.0, '024110': 0.0, '029780': 0.0, '030200': 0.0, '032640': 0.0, '032830': 0.0, '033780': 0.0, '034020': 0.0, '034220': 0.0, '034730': 0.0, '035250': 0.0, '036460': 0.0, '036570': 0.0, '039490': 0.0, '047050': 0.14285714285714285, '051900': 0.0, '051910': 0.0, '052690': 0.14285714285714285, '055550': 0.0, '066570': 0.0, '068270': 0.14285714285714285, '071050': 0.0, '078930': 0.0, '086280': 0.0, '086790': 0.0, '096770': 0.0, '097950': 0.0, '105560': 0.0, '111770': 0.0, '128940': 0.0, '138040': 0.0, '138930': 0.0, '139480': 0.0, '161390': 0.0}\n",
      "Portfolio: {'000270': 0.0, '000660': 0.0, '000720': 0.0, '000810': 0.0, '000880': 0.0, '000990': 0.14285714285714285, '001450': 0.0, '001570': 0.0, '004020': 0.0, '004370': 0.0, '005380': 0.0, '005490': 0.0, '005830': 0.0, '005940': 0.0, '006260': 0.0, '006400': 0.0, '006800': 0.0, '007070': 0.0, '008770': 0.0, '009150': 0.0, '009830': 0.0, '010120': 0.0, '010130': 0.0, '010620': 0.14285714285714285, '010950': 0.0, '011070': 0.14285714285714285, '011170': 0.0, '011780': 0.0, '012330': 0.0, '012450': 0.0, '015760': 0.0, '016360': 0.0, '020150': 0.0, '021240': 0.0, '024110': 0.0, '029780': 0.0, '030200': 0.0, '032640': 0.0, '032830': 0.0, '033780': 0.0, '034020': 0.0, '034220': 0.0, '034730': 0.0, '035250': 0.0, '036460': 0.0, '036570': 0.0, '039490': 0.14285714285714285, '047050': 0.14285714285714285, '051900': 0.0, '051910': 0.0, '052690': 0.14285714285714285, '055550': 0.0, '066570': 0.0, '068270': 0.14285714285714285, '071050': 0.0, '078930': 0.0, '086280': 0.0, '086790': 0.0, '096770': 0.0, '097950': 0.0, '105560': 0.0, '111770': 0.0, '128940': 0.0, '138040': 0.0, '138930': 0.0, '139480': 0.0, '161390': 0.0}\n",
      "Portfolio: {'000270': 0.0, '000660': 0.0, '000720': 0.0, '000810': 0.0, '000880': 0.0, '000990': 0.14285714285714285, '001450': 0.0, '001570': 0.0, '004020': 0.0, '004370': 0.0, '005380': 0.0, '005490': 0.0, '005830': 0.0, '005940': 0.0, '006260': 0.0, '006400': 0.0, '006800': 0.0, '007070': 0.0, '008770': 0.0, '009150': 0.0, '009830': 0.0, '010120': 0.0, '010130': 0.0, '010620': 0.14285714285714285, '010950': 0.0, '011070': 0.0, '011170': 0.0, '011780': 0.14285714285714285, '012330': 0.0, '012450': 0.0, '015760': 0.0, '016360': 0.0, '020150': 0.0, '021240': 0.0, '024110': 0.0, '029780': 0.0, '030200': 0.0, '032640': 0.0, '032830': 0.0, '033780': 0.0, '034020': 0.0, '034220': 0.0, '034730': 0.0, '035250': 0.0, '036460': 0.0, '036570': 0.0, '039490': 0.14285714285714285, '047050': 0.14285714285714285, '051900': 0.0, '051910': 0.0, '052690': 0.14285714285714285, '055550': 0.0, '066570': 0.0, '068270': 0.14285714285714285, '071050': 0.0, '078930': 0.0, '086280': 0.0, '086790': 0.0, '096770': 0.0, '097950': 0.0, '105560': 0.0, '111770': 0.0, '128940': 0.0, '138040': 0.0, '138930': 0.0, '139480': 0.0, '161390': 0.0}\n",
      "Portfolio: {'000270': 0.0, '000660': 0.0, '000720': 0.14285714285714285, '000810': 0.0, '000880': 0.0, '000990': 0.0, '001450': 0.0, '001570': 0.0, '004020': 0.0, '004370': 0.0, '005380': 0.0, '005490': 0.0, '005830': 0.0, '005940': 0.0, '006260': 0.0, '006400': 0.0, '006800': 0.0, '007070': 0.0, '008770': 0.0, '009150': 0.0, '009830': 0.0, '010120': 0.0, '010130': 0.0, '010620': 0.14285714285714285, '010950': 0.0, '011070': 0.0, '011170': 0.0, '011780': 0.14285714285714285, '012330': 0.0, '012450': 0.0, '015760': 0.0, '016360': 0.0, '020150': 0.0, '021240': 0.0, '024110': 0.0, '029780': 0.0, '030200': 0.0, '032640': 0.0, '032830': 0.0, '033780': 0.0, '034020': 0.0, '034220': 0.0, '034730': 0.0, '035250': 0.0, '036460': 0.0, '036570': 0.0, '039490': 0.0, '047050': 0.0, '051900': 0.0, '051910': 0.0, '052690': 0.14285714285714285, '055550': 0.0, '066570': 0.0, '068270': 0.14285714285714285, '071050': 0.0, '078930': 0.0, '086280': 0.14285714285714285, '086790': 0.0, '096770': 0.0, '097950': 0.0, '105560': 0.0, '111770': 0.0, '128940': 0.14285714285714285, '138040': 0.0, '138930': 0.0, '139480': 0.0, '161390': 0.0}\n",
      "Portfolio: {'000270': 0.0, '000660': 0.0, '000720': 0.14285714285714285, '000810': 0.0, '000880': 0.0, '000990': 0.0, '001450': 0.0, '001570': 0.0, '004020': 0.14285714285714285, '004370': 0.0, '005380': 0.0, '005490': 0.0, '005830': 0.0, '005940': 0.0, '006260': 0.0, '006400': 0.0, '006800': 0.0, '007070': 0.0, '008770': 0.0, '009150': 0.0, '009830': 0.0, '010120': 0.14285714285714285, '010130': 0.0, '010620': 0.0, '010950': 0.0, '011070': 0.0, '011170': 0.0, '011780': 0.0, '012330': 0.0, '012450': 0.14285714285714285, '015760': 0.0, '016360': 0.0, '020150': 0.0, '021240': 0.0, '024110': 0.0, '029780': 0.0, '030200': 0.0, '032640': 0.0, '032830': 0.0, '033780': 0.0, '034020': 0.0, '034220': 0.0, '034730': 0.0, '035250': 0.0, '036460': 0.0, '036570': 0.0, '039490': 0.0, '047050': 0.0, '051900': 0.0, '051910': 0.0, '052690': 0.14285714285714285, '055550': 0.0, '066570': 0.0, '068270': 0.14285714285714285, '071050': 0.0, '078930': 0.0, '086280': 0.14285714285714285, '086790': 0.0, '096770': 0.0, '097950': 0.0, '105560': 0.0, '111770': 0.0, '128940': 0.0, '138040': 0.0, '138930': 0.0, '139480': 0.0, '161390': 0.0}\n",
      "Portfolio: {'000270': 0.0, '000660': 0.0, '000720': 0.14285714285714285, '000810': 0.0, '000880': 0.0, '000990': 0.0, '001450': 0.0, '001570': 0.0, '004020': 0.14285714285714285, '004370': 0.0, '005380': 0.0, '005490': 0.0, '005830': 0.0, '005940': 0.0, '006260': 0.0, '006400': 0.0, '006800': 0.0, '007070': 0.0, '008770': 0.0, '009150': 0.0, '009830': 0.0, '010120': 0.14285714285714285, '010130': 0.0, '010620': 0.0, '010950': 0.0, '011070': 0.0, '011170': 0.0, '011780': 0.0, '012330': 0.0, '012450': 0.14285714285714285, '015760': 0.0, '016360': 0.0, '020150': 0.0, '021240': 0.0, '024110': 0.0, '029780': 0.0, '030200': 0.0, '032640': 0.0, '032830': 0.0, '033780': 0.0, '034020': 0.0, '034220': 0.0, '034730': 0.0, '035250': 0.0, '036460': 0.0, '036570': 0.0, '039490': 0.0, '047050': 0.14285714285714285, '051900': 0.0, '051910': 0.0, '052690': 0.14285714285714285, '055550': 0.0, '066570': 0.0, '068270': 0.14285714285714285, '071050': 0.0, '078930': 0.0, '086280': 0.0, '086790': 0.0, '096770': 0.0, '097950': 0.0, '105560': 0.0, '111770': 0.0, '128940': 0.0, '138040': 0.0, '138930': 0.0, '139480': 0.0, '161390': 0.0}\n",
      "Portfolio: {'000270': 0.0, '000660': 0.0, '000720': 0.14285714285714285, '000810': 0.0, '000880': 0.0, '000990': 0.0, '001450': 0.0, '001570': 0.0, '004020': 0.14285714285714285, '004370': 0.0, '005380': 0.0, '005490': 0.0, '005830': 0.0, '005940': 0.0, '006260': 0.0, '006400': 0.0, '006800': 0.0, '007070': 0.0, '008770': 0.0, '009150': 0.0, '009830': 0.0, '010120': 0.14285714285714285, '010130': 0.0, '010620': 0.0, '010950': 0.0, '011070': 0.0, '011170': 0.0, '011780': 0.0, '012330': 0.0, '012450': 0.14285714285714285, '015760': 0.0, '016360': 0.0, '020150': 0.14285714285714285, '021240': 0.0, '024110': 0.0, '029780': 0.0, '030200': 0.0, '032640': 0.0, '032830': 0.0, '033780': 0.0, '034020': 0.0, '034220': 0.0, '034730': 0.0, '035250': 0.0, '036460': 0.0, '036570': 0.0, '039490': 0.0, '047050': 0.14285714285714285, '051900': 0.0, '051910': 0.0, '052690': 0.14285714285714285, '055550': 0.0, '066570': 0.0, '068270': 0.0, '071050': 0.0, '078930': 0.0, '086280': 0.0, '086790': 0.0, '096770': 0.0, '097950': 0.0, '105560': 0.0, '111770': 0.0, '128940': 0.0, '138040': 0.0, '138930': 0.0, '139480': 0.0, '161390': 0.0}\n",
      "Portfolio: {'000270': 0.0, '000660': 0.0, '000720': 0.14285714285714285, '000810': 0.0, '000880': 0.0, '000990': 0.14285714285714285, '001450': 0.0, '001570': 0.0, '004020': 0.0, '004370': 0.0, '005380': 0.0, '005490': 0.0, '005830': 0.0, '005940': 0.0, '006260': 0.0, '006400': 0.0, '006800': 0.0, '007070': 0.14285714285714285, '008770': 0.14285714285714285, '009150': 0.14285714285714285, '009830': 0.0, '010120': 0.0, '010130': 0.0, '010620': 0.0, '010950': 0.0, '011070': 0.0, '011170': 0.0, '011780': 0.0, '012330': 0.0, '012450': 0.0, '015760': 0.0, '016360': 0.0, '020150': 0.14285714285714285, '021240': 0.0, '024110': 0.0, '029780': 0.0, '030200': 0.0, '032640': 0.0, '032830': 0.0, '033780': 0.0, '034020': 0.0, '034220': 0.0, '034730': 0.0, '035250': 0.0, '036460': 0.0, '036570': 0.0, '039490': 0.0, '047050': 0.0, '051900': 0.0, '051910': 0.0, '052690': 0.14285714285714285, '055550': 0.0, '066570': 0.0, '068270': 0.0, '071050': 0.0, '078930': 0.0, '086280': 0.0, '086790': 0.0, '096770': 0.0, '097950': 0.0, '105560': 0.0, '111770': 0.0, '128940': 0.0, '138040': 0.0, '138930': 0.0, '139480': 0.0, '161390': 0.0}\n",
      "Portfolio: {'000270': 0.0, '000660': 0.0, '000720': 0.14285714285714285, '000810': 0.0, '000880': 0.0, '000990': 0.14285714285714285, '001450': 0.0, '001570': 0.0, '004020': 0.0, '004370': 0.0, '005380': 0.0, '005490': 0.0, '005830': 0.0, '005940': 0.0, '006260': 0.0, '006400': 0.0, '006800': 0.0, '007070': 0.14285714285714285, '008770': 0.14285714285714285, '009150': 0.14285714285714285, '009830': 0.0, '010120': 0.0, '010130': 0.0, '010620': 0.0, '010950': 0.0, '011070': 0.0, '011170': 0.0, '011780': 0.0, '012330': 0.0, '012450': 0.14285714285714285, '015760': 0.0, '016360': 0.0, '020150': 0.14285714285714285, '021240': 0.0, '024110': 0.0, '029780': 0.0, '030200': 0.0, '032640': 0.0, '032830': 0.0, '033780': 0.0, '034020': 0.0, '034220': 0.0, '034730': 0.0, '035250': 0.0, '036460': 0.0, '036570': 0.0, '039490': 0.0, '047050': 0.0, '051900': 0.0, '051910': 0.0, '052690': 0.0, '055550': 0.0, '066570': 0.0, '068270': 0.0, '071050': 0.0, '078930': 0.0, '086280': 0.0, '086790': 0.0, '096770': 0.0, '097950': 0.0, '105560': 0.0, '111770': 0.0, '128940': 0.0, '138040': 0.0, '138930': 0.0, '139480': 0.0, '161390': 0.0}\n",
      "Portfolio: {'000270': 0.0, '000660': 0.0, '000720': 0.14285714285714285, '000810': 0.0, '000880': 0.0, '000990': 0.14285714285714285, '001450': 0.0, '001570': 0.0, '004020': 0.0, '004370': 0.0, '005380': 0.0, '005490': 0.0, '005830': 0.0, '005940': 0.0, '006260': 0.0, '006400': 0.0, '006800': 0.0, '007070': 0.0, '008770': 0.14285714285714285, '009150': 0.0, '009830': 0.0, '010120': 0.0, '010130': 0.0, '010620': 0.0, '010950': 0.0, '011070': 0.0, '011170': 0.0, '011780': 0.14285714285714285, '012330': 0.0, '012450': 0.14285714285714285, '015760': 0.0, '016360': 0.0, '020150': 0.14285714285714285, '021240': 0.14285714285714285, '024110': 0.0, '029780': 0.0, '030200': 0.0, '032640': 0.0, '032830': 0.0, '033780': 0.0, '034020': 0.0, '034220': 0.0, '034730': 0.0, '035250': 0.0, '036460': 0.0, '036570': 0.0, '039490': 0.0, '047050': 0.0, '051900': 0.0, '051910': 0.0, '052690': 0.0, '055550': 0.0, '066570': 0.0, '068270': 0.0, '071050': 0.0, '078930': 0.0, '086280': 0.0, '086790': 0.0, '096770': 0.0, '097950': 0.0, '105560': 0.0, '111770': 0.0, '128940': 0.0, '138040': 0.0, '138930': 0.0, '139480': 0.0, '161390': 0.0}\n",
      "Portfolio: {'000270': 0.0, '000660': 0.0, '000720': 0.14285714285714285, '000810': 0.0, '000880': 0.0, '000990': 0.0, '001450': 0.0, '001570': 0.0, '004020': 0.0, '004370': 0.0, '005380': 0.0, '005490': 0.0, '005830': 0.0, '005940': 0.0, '006260': 0.0, '006400': 0.0, '006800': 0.0, '007070': 0.0, '008770': 0.14285714285714285, '009150': 0.14285714285714285, '009830': 0.0, '010120': 0.0, '010130': 0.0, '010620': 0.0, '010950': 0.0, '011070': 0.0, '011170': 0.0, '011780': 0.0, '012330': 0.0, '012450': 0.14285714285714285, '015760': 0.0, '016360': 0.0, '020150': 0.14285714285714285, '021240': 0.14285714285714285, '024110': 0.0, '029780': 0.0, '030200': 0.0, '032640': 0.0, '032830': 0.0, '033780': 0.0, '034020': 0.0, '034220': 0.0, '034730': 0.0, '035250': 0.0, '036460': 0.0, '036570': 0.0, '039490': 0.0, '047050': 0.0, '051900': 0.0, '051910': 0.0, '052690': 0.0, '055550': 0.0, '066570': 0.0, '068270': 0.14285714285714285, '071050': 0.0, '078930': 0.0, '086280': 0.0, '086790': 0.0, '096770': 0.0, '097950': 0.0, '105560': 0.0, '111770': 0.0, '128940': 0.0, '138040': 0.0, '138930': 0.0, '139480': 0.0, '161390': 0.0}\n",
      "Portfolio: {'000270': 0.0, '000660': 0.0, '000720': 0.14285714285714285, '000810': 0.0, '000880': 0.0, '000990': 0.14285714285714285, '001450': 0.0, '001570': 0.0, '004020': 0.0, '004370': 0.0, '005380': 0.0, '005490': 0.0, '005830': 0.0, '005940': 0.0, '006260': 0.0, '006400': 0.0, '006800': 0.0, '007070': 0.0, '008770': 0.14285714285714285, '009150': 0.14285714285714285, '009830': 0.0, '010120': 0.0, '010130': 0.0, '010620': 0.0, '010950': 0.0, '011070': 0.0, '011170': 0.0, '011780': 0.0, '012330': 0.0, '012450': 0.0, '015760': 0.0, '016360': 0.0, '020150': 0.14285714285714285, '021240': 0.14285714285714285, '024110': 0.0, '029780': 0.0, '030200': 0.0, '032640': 0.0, '032830': 0.0, '033780': 0.0, '034020': 0.0, '034220': 0.0, '034730': 0.0, '035250': 0.0, '036460': 0.0, '036570': 0.0, '039490': 0.0, '047050': 0.0, '051900': 0.0, '051910': 0.0, '052690': 0.0, '055550': 0.0, '066570': 0.0, '068270': 0.14285714285714285, '071050': 0.0, '078930': 0.0, '086280': 0.0, '086790': 0.0, '096770': 0.0, '097950': 0.0, '105560': 0.0, '111770': 0.0, '128940': 0.0, '138040': 0.0, '138930': 0.0, '139480': 0.0, '161390': 0.0}\n",
      "Portfolio: {'000270': 0.0, '000660': 0.0, '000720': 0.0, '000810': 0.0, '000880': 0.0, '000990': 0.14285714285714285, '001450': 0.0, '001570': 0.0, '004020': 0.0, '004370': 0.0, '005380': 0.0, '005490': 0.0, '005830': 0.0, '005940': 0.0, '006260': 0.0, '006400': 0.0, '006800': 0.0, '007070': 0.0, '008770': 0.14285714285714285, '009150': 0.14285714285714285, '009830': 0.0, '010120': 0.0, '010130': 0.0, '010620': 0.0, '010950': 0.0, '011070': 0.0, '011170': 0.0, '011780': 0.0, '012330': 0.0, '012450': 0.0, '015760': 0.0, '016360': 0.0, '020150': 0.14285714285714285, '021240': 0.0, '024110': 0.0, '029780': 0.0, '030200': 0.0, '032640': 0.0, '032830': 0.0, '033780': 0.0, '034020': 0.0, '034220': 0.0, '034730': 0.0, '035250': 0.0, '036460': 0.0, '036570': 0.0, '039490': 0.14285714285714285, '047050': 0.0, '051900': 0.0, '051910': 0.0, '052690': 0.14285714285714285, '055550': 0.0, '066570': 0.0, '068270': 0.14285714285714285, '071050': 0.0, '078930': 0.0, '086280': 0.0, '086790': 0.0, '096770': 0.0, '097950': 0.0, '105560': 0.0, '111770': 0.0, '128940': 0.0, '138040': 0.0, '138930': 0.0, '139480': 0.0, '161390': 0.0}\n",
      "Portfolio: {'000270': 0.0, '000660': 0.14285714285714285, '000720': 0.0, '000810': 0.0, '000880': 0.0, '000990': 0.14285714285714285, '001450': 0.0, '001570': 0.0, '004020': 0.0, '004370': 0.0, '005380': 0.0, '005490': 0.0, '005830': 0.0, '005940': 0.0, '006260': 0.0, '006400': 0.0, '006800': 0.0, '007070': 0.0, '008770': 0.0, '009150': 0.14285714285714285, '009830': 0.0, '010120': 0.0, '010130': 0.0, '010620': 0.0, '010950': 0.0, '011070': 0.0, '011170': 0.0, '011780': 0.0, '012330': 0.0, '012450': 0.0, '015760': 0.0, '016360': 0.0, '020150': 0.14285714285714285, '021240': 0.0, '024110': 0.0, '029780': 0.0, '030200': 0.0, '032640': 0.0, '032830': 0.0, '033780': 0.0, '034020': 0.14285714285714285, '034220': 0.0, '034730': 0.0, '035250': 0.0, '036460': 0.0, '036570': 0.0, '039490': 0.14285714285714285, '047050': 0.0, '051900': 0.0, '051910': 0.0, '052690': 0.14285714285714285, '055550': 0.0, '066570': 0.0, '068270': 0.0, '071050': 0.0, '078930': 0.0, '086280': 0.0, '086790': 0.0, '096770': 0.0, '097950': 0.0, '105560': 0.0, '111770': 0.0, '128940': 0.0, '138040': 0.0, '138930': 0.0, '139480': 0.0, '161390': 0.0}\n",
      "Portfolio: {'000270': 0.0, '000660': 0.14285714285714285, '000720': 0.0, '000810': 0.0, '000880': 0.0, '000990': 0.14285714285714285, '001450': 0.0, '001570': 0.0, '004020': 0.0, '004370': 0.0, '005380': 0.0, '005490': 0.0, '005830': 0.0, '005940': 0.0, '006260': 0.0, '006400': 0.0, '006800': 0.0, '007070': 0.0, '008770': 0.0, '009150': 0.14285714285714285, '009830': 0.0, '010120': 0.0, '010130': 0.0, '010620': 0.0, '010950': 0.0, '011070': 0.14285714285714285, '011170': 0.0, '011780': 0.0, '012330': 0.0, '012450': 0.0, '015760': 0.0, '016360': 0.0, '020150': 0.14285714285714285, '021240': 0.0, '024110': 0.0, '029780': 0.0, '030200': 0.0, '032640': 0.0, '032830': 0.0, '033780': 0.0, '034020': 0.0, '034220': 0.0, '034730': 0.0, '035250': 0.0, '036460': 0.0, '036570': 0.0, '039490': 0.0, '047050': 0.0, '051900': 0.0, '051910': 0.0, '052690': 0.14285714285714285, '055550': 0.0, '066570': 0.0, '068270': 0.0, '071050': 0.0, '078930': 0.0, '086280': 0.0, '086790': 0.0, '096770': 0.0, '097950': 0.0, '105560': 0.0, '111770': 0.14285714285714285, '128940': 0.0, '138040': 0.0, '138930': 0.0, '139480': 0.0, '161390': 0.0}\n",
      "Portfolio: {'000270': 0.0, '000660': 0.14285714285714285, '000720': 0.0, '000810': 0.0, '000880': 0.0, '000990': 0.14285714285714285, '001450': 0.0, '001570': 0.0, '004020': 0.0, '004370': 0.0, '005380': 0.0, '005490': 0.0, '005830': 0.0, '005940': 0.0, '006260': 0.0, '006400': 0.0, '006800': 0.0, '007070': 0.0, '008770': 0.14285714285714285, '009150': 0.0, '009830': 0.0, '010120': 0.0, '010130': 0.0, '010620': 0.0, '010950': 0.0, '011070': 0.14285714285714285, '011170': 0.0, '011780': 0.0, '012330': 0.0, '012450': 0.0, '015760': 0.0, '016360': 0.0, '020150': 0.0, '021240': 0.0, '024110': 0.0, '029780': 0.0, '030200': 0.0, '032640': 0.0, '032830': 0.0, '033780': 0.0, '034020': 0.14285714285714285, '034220': 0.0, '034730': 0.0, '035250': 0.0, '036460': 0.0, '036570': 0.0, '039490': 0.0, '047050': 0.0, '051900': 0.0, '051910': 0.0, '052690': 0.14285714285714285, '055550': 0.0, '066570': 0.0, '068270': 0.0, '071050': 0.0, '078930': 0.0, '086280': 0.0, '086790': 0.0, '096770': 0.0, '097950': 0.0, '105560': 0.0, '111770': 0.14285714285714285, '128940': 0.0, '138040': 0.0, '138930': 0.0, '139480': 0.0, '161390': 0.0}\n",
      "Portfolio: {'000270': 0.0, '000660': 0.0, '000720': 0.0, '000810': 0.0, '000880': 0.0, '000990': 0.14285714285714285, '001450': 0.0, '001570': 0.0, '004020': 0.0, '004370': 0.0, '005380': 0.0, '005490': 0.0, '005830': 0.0, '005940': 0.0, '006260': 0.0, '006400': 0.0, '006800': 0.0, '007070': 0.0, '008770': 0.14285714285714285, '009150': 0.0, '009830': 0.0, '010120': 0.0, '010130': 0.0, '010620': 0.0, '010950': 0.0, '011070': 0.14285714285714285, '011170': 0.0, '011780': 0.0, '012330': 0.0, '012450': 0.0, '015760': 0.0, '016360': 0.0, '020150': 0.14285714285714285, '021240': 0.0, '024110': 0.0, '029780': 0.0, '030200': 0.0, '032640': 0.0, '032830': 0.0, '033780': 0.0, '034020': 0.14285714285714285, '034220': 0.0, '034730': 0.0, '035250': 0.0, '036460': 0.0, '036570': 0.0, '039490': 0.0, '047050': 0.0, '051900': 0.0, '051910': 0.0, '052690': 0.0, '055550': 0.0, '066570': 0.0, '068270': 0.14285714285714285, '071050': 0.0, '078930': 0.0, '086280': 0.0, '086790': 0.0, '096770': 0.0, '097950': 0.0, '105560': 0.0, '111770': 0.14285714285714285, '128940': 0.0, '138040': 0.0, '138930': 0.0, '139480': 0.0, '161390': 0.0}\n",
      "Portfolio: {'000270': 0.0, '000660': 0.0, '000720': 0.0, '000810': 0.0, '000880': 0.0, '000990': 0.14285714285714285, '001450': 0.0, '001570': 0.0, '004020': 0.0, '004370': 0.0, '005380': 0.0, '005490': 0.0, '005830': 0.0, '005940': 0.0, '006260': 0.0, '006400': 0.0, '006800': 0.0, '007070': 0.0, '008770': 0.14285714285714285, '009150': 0.0, '009830': 0.0, '010120': 0.0, '010130': 0.0, '010620': 0.0, '010950': 0.0, '011070': 0.14285714285714285, '011170': 0.0, '011780': 0.0, '012330': 0.0, '012450': 0.0, '015760': 0.0, '016360': 0.0, '020150': 0.14285714285714285, '021240': 0.0, '024110': 0.0, '029780': 0.0, '030200': 0.0, '032640': 0.0, '032830': 0.0, '033780': 0.0, '034020': 0.14285714285714285, '034220': 0.0, '034730': 0.0, '035250': 0.0, '036460': 0.0, '036570': 0.0, '039490': 0.0, '047050': 0.0, '051900': 0.0, '051910': 0.0, '052690': 0.0, '055550': 0.0, '066570': 0.0, '068270': 0.14285714285714285, '071050': 0.0, '078930': 0.0, '086280': 0.0, '086790': 0.0, '096770': 0.0, '097950': 0.0, '105560': 0.0, '111770': 0.14285714285714285, '128940': 0.0, '138040': 0.0, '138930': 0.0, '139480': 0.0, '161390': 0.0}\n",
      "Portfolio: {'000270': 0.0, '000660': 0.0, '000720': 0.0, '000810': 0.0, '000880': 0.0, '000990': 0.14285714285714285, '001450': 0.0, '001570': 0.0, '004020': 0.0, '004370': 0.0, '005380': 0.0, '005490': 0.0, '005830': 0.0, '005940': 0.0, '006260': 0.0, '006400': 0.0, '006800': 0.0, '007070': 0.0, '008770': 0.14285714285714285, '009150': 0.0, '009830': 0.0, '010120': 0.0, '010130': 0.0, '010620': 0.0, '010950': 0.0, '011070': 0.14285714285714285, '011170': 0.0, '011780': 0.0, '012330': 0.0, '012450': 0.0, '015760': 0.0, '016360': 0.0, '020150': 0.14285714285714285, '021240': 0.0, '024110': 0.0, '029780': 0.0, '030200': 0.0, '032640': 0.0, '032830': 0.0, '033780': 0.0, '034020': 0.0, '034220': 0.0, '034730': 0.0, '035250': 0.0, '036460': 0.0, '036570': 0.0, '039490': 0.0, '047050': 0.0, '051900': 0.0, '051910': 0.0, '052690': 0.0, '055550': 0.0, '066570': 0.0, '068270': 0.14285714285714285, '071050': 0.0, '078930': 0.0, '086280': 0.0, '086790': 0.0, '096770': 0.0, '097950': 0.0, '105560': 0.0, '111770': 0.14285714285714285, '128940': 0.14285714285714285, '138040': 0.0, '138930': 0.0, '139480': 0.0, '161390': 0.0}\n",
      "Portfolio: {'000270': 0.0, '000660': 0.0, '000720': 0.0, '000810': 0.0, '000880': 0.0, '000990': 0.14285714285714285, '001450': 0.0, '001570': 0.0, '004020': 0.0, '004370': 0.0, '005380': 0.0, '005490': 0.0, '005830': 0.0, '005940': 0.0, '006260': 0.0, '006400': 0.0, '006800': 0.0, '007070': 0.0, '008770': 0.0, '009150': 0.0, '009830': 0.0, '010120': 0.0, '010130': 0.0, '010620': 0.0, '010950': 0.0, '011070': 0.14285714285714285, '011170': 0.0, '011780': 0.0, '012330': 0.0, '012450': 0.14285714285714285, '015760': 0.0, '016360': 0.0, '020150': 0.0, '021240': 0.0, '024110': 0.0, '029780': 0.0, '030200': 0.0, '032640': 0.0, '032830': 0.0, '033780': 0.0, '034020': 0.14285714285714285, '034220': 0.14285714285714285, '034730': 0.0, '035250': 0.0, '036460': 0.0, '036570': 0.0, '039490': 0.0, '047050': 0.0, '051900': 0.0, '051910': 0.0, '052690': 0.0, '055550': 0.0, '066570': 0.0, '068270': 0.14285714285714285, '071050': 0.0, '078930': 0.0, '086280': 0.0, '086790': 0.0, '096770': 0.0, '097950': 0.0, '105560': 0.0, '111770': 0.0, '128940': 0.14285714285714285, '138040': 0.0, '138930': 0.0, '139480': 0.0, '161390': 0.0}\n",
      "Portfolio: {'000270': 0.0, '000660': 0.0, '000720': 0.0, '000810': 0.0, '000880': 0.0, '000990': 0.14285714285714285, '001450': 0.0, '001570': 0.0, '004020': 0.0, '004370': 0.0, '005380': 0.0, '005490': 0.0, '005830': 0.0, '005940': 0.0, '006260': 0.0, '006400': 0.0, '006800': 0.0, '007070': 0.0, '008770': 0.0, '009150': 0.0, '009830': 0.0, '010120': 0.0, '010130': 0.0, '010620': 0.0, '010950': 0.0, '011070': 0.14285714285714285, '011170': 0.0, '011780': 0.0, '012330': 0.0, '012450': 0.14285714285714285, '015760': 0.0, '016360': 0.0, '020150': 0.0, '021240': 0.0, '024110': 0.0, '029780': 0.0, '030200': 0.0, '032640': 0.0, '032830': 0.0, '033780': 0.0, '034020': 0.14285714285714285, '034220': 0.0, '034730': 0.0, '035250': 0.0, '036460': 0.0, '036570': 0.0, '039490': 0.0, '047050': 0.0, '051900': 0.0, '051910': 0.0, '052690': 0.14285714285714285, '055550': 0.0, '066570': 0.0, '068270': 0.14285714285714285, '071050': 0.0, '078930': 0.0, '086280': 0.0, '086790': 0.0, '096770': 0.0, '097950': 0.0, '105560': 0.0, '111770': 0.0, '128940': 0.14285714285714285, '138040': 0.0, '138930': 0.0, '139480': 0.0, '161390': 0.0}\n",
      "Portfolio: {'000270': 0.0, '000660': 0.0, '000720': 0.0, '000810': 0.0, '000880': 0.0, '000990': 0.0, '001450': 0.0, '001570': 0.14285714285714285, '004020': 0.0, '004370': 0.0, '005380': 0.0, '005490': 0.0, '005830': 0.0, '005940': 0.0, '006260': 0.0, '006400': 0.0, '006800': 0.0, '007070': 0.0, '008770': 0.0, '009150': 0.0, '009830': 0.0, '010120': 0.0, '010130': 0.0, '010620': 0.0, '010950': 0.0, '011070': 0.14285714285714285, '011170': 0.0, '011780': 0.0, '012330': 0.0, '012450': 0.14285714285714285, '015760': 0.0, '016360': 0.0, '020150': 0.0, '021240': 0.0, '024110': 0.0, '029780': 0.0, '030200': 0.0, '032640': 0.0, '032830': 0.0, '033780': 0.0, '034020': 0.14285714285714285, '034220': 0.0, '034730': 0.0, '035250': 0.0, '036460': 0.0, '036570': 0.0, '039490': 0.0, '047050': 0.0, '051900': 0.0, '051910': 0.0, '052690': 0.14285714285714285, '055550': 0.0, '066570': 0.0, '068270': 0.14285714285714285, '071050': 0.0, '078930': 0.0, '086280': 0.0, '086790': 0.0, '096770': 0.0, '097950': 0.0, '105560': 0.0, '111770': 0.0, '128940': 0.14285714285714285, '138040': 0.0, '138930': 0.0, '139480': 0.0, '161390': 0.0}\n",
      "Portfolio: {'000270': 0.0, '000660': 0.0, '000720': 0.0, '000810': 0.0, '000880': 0.0, '000990': 0.0, '001450': 0.0, '001570': 0.14285714285714285, '004020': 0.0, '004370': 0.0, '005380': 0.0, '005490': 0.0, '005830': 0.14285714285714285, '005940': 0.0, '006260': 0.0, '006400': 0.0, '006800': 0.0, '007070': 0.0, '008770': 0.0, '009150': 0.0, '009830': 0.0, '010120': 0.0, '010130': 0.0, '010620': 0.0, '010950': 0.0, '011070': 0.14285714285714285, '011170': 0.0, '011780': 0.0, '012330': 0.0, '012450': 0.0, '015760': 0.0, '016360': 0.0, '020150': 0.14285714285714285, '021240': 0.0, '024110': 0.0, '029780': 0.0, '030200': 0.0, '032640': 0.0, '032830': 0.0, '033780': 0.0, '034020': 0.0, '034220': 0.0, '034730': 0.0, '035250': 0.0, '036460': 0.0, '036570': 0.0, '039490': 0.0, '047050': 0.0, '051900': 0.0, '051910': 0.0, '052690': 0.14285714285714285, '055550': 0.0, '066570': 0.0, '068270': 0.0, '071050': 0.0, '078930': 0.0, '086280': 0.0, '086790': 0.0, '096770': 0.0, '097950': 0.0, '105560': 0.0, '111770': 0.0, '128940': 0.0, '138040': 0.0, '138930': 0.0, '139480': 0.14285714285714285, '161390': 0.14285714285714285}\n",
      "Portfolio: {'000270': 0.0, '000660': 0.0, '000720': 0.0, '000810': 0.0, '000880': 0.0, '000990': 0.14285714285714285, '001450': 0.0, '001570': 0.14285714285714285, '004020': 0.0, '004370': 0.0, '005380': 0.0, '005490': 0.0, '005830': 0.14285714285714285, '005940': 0.0, '006260': 0.0, '006400': 0.0, '006800': 0.0, '007070': 0.0, '008770': 0.0, '009150': 0.0, '009830': 0.0, '010120': 0.0, '010130': 0.0, '010620': 0.0, '010950': 0.0, '011070': 0.0, '011170': 0.0, '011780': 0.0, '012330': 0.0, '012450': 0.0, '015760': 0.0, '016360': 0.0, '020150': 0.14285714285714285, '021240': 0.0, '024110': 0.0, '029780': 0.0, '030200': 0.0, '032640': 0.0, '032830': 0.0, '033780': 0.0, '034020': 0.0, '034220': 0.14285714285714285, '034730': 0.0, '035250': 0.0, '036460': 0.0, '036570': 0.0, '039490': 0.0, '047050': 0.0, '051900': 0.0, '051910': 0.0, '052690': 0.0, '055550': 0.0, '066570': 0.0, '068270': 0.0, '071050': 0.0, '078930': 0.0, '086280': 0.0, '086790': 0.0, '096770': 0.0, '097950': 0.0, '105560': 0.0, '111770': 0.0, '128940': 0.14285714285714285, '138040': 0.0, '138930': 0.0, '139480': 0.14285714285714285, '161390': 0.0}\n",
      "Portfolio: {'000270': 0.0, '000660': 0.0, '000720': 0.0, '000810': 0.0, '000880': 0.0, '000990': 0.14285714285714285, '001450': 0.0, '001570': 0.0, '004020': 0.0, '004370': 0.0, '005380': 0.0, '005490': 0.0, '005830': 0.14285714285714285, '005940': 0.0, '006260': 0.0, '006400': 0.0, '006800': 0.0, '007070': 0.0, '008770': 0.14285714285714285, '009150': 0.0, '009830': 0.14285714285714285, '010120': 0.0, '010130': 0.0, '010620': 0.0, '010950': 0.0, '011070': 0.0, '011170': 0.0, '011780': 0.14285714285714285, '012330': 0.0, '012450': 0.0, '015760': 0.0, '016360': 0.0, '020150': 0.14285714285714285, '021240': 0.0, '024110': 0.0, '029780': 0.0, '030200': 0.0, '032640': 0.0, '032830': 0.0, '033780': 0.0, '034020': 0.0, '034220': 0.14285714285714285, '034730': 0.0, '035250': 0.0, '036460': 0.0, '036570': 0.0, '039490': 0.0, '047050': 0.0, '051900': 0.0, '051910': 0.0, '052690': 0.0, '055550': 0.0, '066570': 0.0, '068270': 0.0, '071050': 0.0, '078930': 0.0, '086280': 0.0, '086790': 0.0, '096770': 0.0, '097950': 0.0, '105560': 0.0, '111770': 0.0, '128940': 0.0, '138040': 0.0, '138930': 0.0, '139480': 0.0, '161390': 0.0}\n",
      "Portfolio: {'000270': 0.0, '000660': 0.0, '000720': 0.0, '000810': 0.0, '000880': 0.0, '000990': 0.14285714285714285, '001450': 0.0, '001570': 0.14285714285714285, '004020': 0.0, '004370': 0.0, '005380': 0.0, '005490': 0.0, '005830': 0.0, '005940': 0.0, '006260': 0.0, '006400': 0.14285714285714285, '006800': 0.0, '007070': 0.0, '008770': 0.14285714285714285, '009150': 0.0, '009830': 0.14285714285714285, '010120': 0.0, '010130': 0.0, '010620': 0.14285714285714285, '010950': 0.0, '011070': 0.0, '011170': 0.0, '011780': 0.0, '012330': 0.0, '012450': 0.0, '015760': 0.0, '016360': 0.0, '020150': 0.0, '021240': 0.14285714285714285, '024110': 0.0, '029780': 0.0, '030200': 0.0, '032640': 0.0, '032830': 0.0, '033780': 0.0, '034020': 0.0, '034220': 0.0, '034730': 0.0, '035250': 0.0, '036460': 0.0, '036570': 0.0, '039490': 0.0, '047050': 0.0, '051900': 0.0, '051910': 0.0, '052690': 0.0, '055550': 0.0, '066570': 0.0, '068270': 0.0, '071050': 0.0, '078930': 0.0, '086280': 0.0, '086790': 0.0, '096770': 0.0, '097950': 0.0, '105560': 0.0, '111770': 0.0, '128940': 0.0, '138040': 0.0, '138930': 0.0, '139480': 0.0, '161390': 0.0}\n",
      "Portfolio: {'000270': 0.0, '000660': 0.0, '000720': 0.0, '000810': 0.0, '000880': 0.0, '000990': 0.0, '001450': 0.0, '001570': 0.0, '004020': 0.0, '004370': 0.0, '005380': 0.0, '005490': 0.0, '005830': 0.0, '005940': 0.0, '006260': 0.0, '006400': 0.0, '006800': 0.0, '007070': 0.0, '008770': 0.0, '009150': 0.0, '009830': 0.14285714285714285, '010120': 0.0, '010130': 0.0, '010620': 0.0, '010950': 0.0, '011070': 0.14285714285714285, '011170': 0.14285714285714285, '011780': 0.14285714285714285, '012330': 0.0, '012450': 0.0, '015760': 0.0, '016360': 0.0, '020150': 0.0, '021240': 0.0, '024110': 0.0, '029780': 0.0, '030200': 0.0, '032640': 0.0, '032830': 0.0, '033780': 0.0, '034020': 0.0, '034220': 0.0, '034730': 0.14285714285714285, '035250': 0.0, '036460': 0.0, '036570': 0.0, '039490': 0.0, '047050': 0.0, '051900': 0.0, '051910': 0.0, '052690': 0.0, '055550': 0.0, '066570': 0.0, '068270': 0.0, '071050': 0.14285714285714285, '078930': 0.0, '086280': 0.0, '086790': 0.0, '096770': 0.14285714285714285, '097950': 0.0, '105560': 0.0, '111770': 0.0, '128940': 0.0, '138040': 0.0, '138930': 0.0, '139480': 0.0, '161390': 0.0}\n",
      "Portfolio: {'000270': 0.0, '000660': 0.0, '000720': 0.0, '000810': 0.0, '000880': 0.0, '000990': 0.0, '001450': 0.0, '001570': 0.0, '004020': 0.0, '004370': 0.0, '005380': 0.0, '005490': 0.0, '005830': 0.0, '005940': 0.0, '006260': 0.0, '006400': 0.0, '006800': 0.14285714285714285, '007070': 0.0, '008770': 0.0, '009150': 0.0, '009830': 0.14285714285714285, '010120': 0.0, '010130': 0.0, '010620': 0.0, '010950': 0.0, '011070': 0.14285714285714285, '011170': 0.14285714285714285, '011780': 0.0, '012330': 0.0, '012450': 0.0, '015760': 0.0, '016360': 0.0, '020150': 0.0, '021240': 0.0, '024110': 0.0, '029780': 0.0, '030200': 0.0, '032640': 0.0, '032830': 0.0, '033780': 0.0, '034020': 0.0, '034220': 0.0, '034730': 0.0, '035250': 0.0, '036460': 0.0, '036570': 0.0, '039490': 0.0, '047050': 0.0, '051900': 0.0, '051910': 0.0, '052690': 0.0, '055550': 0.0, '066570': 0.0, '068270': 0.0, '071050': 0.14285714285714285, '078930': 0.0, '086280': 0.0, '086790': 0.0, '096770': 0.14285714285714285, '097950': 0.14285714285714285, '105560': 0.0, '111770': 0.0, '128940': 0.0, '138040': 0.0, '138930': 0.0, '139480': 0.0, '161390': 0.0}\n",
      "Portfolio: {'000270': 0.0, '000660': 0.0, '000720': 0.0, '000810': 0.0, '000880': 0.0, '000990': 0.0, '001450': 0.0, '001570': 0.0, '004020': 0.0, '004370': 0.0, '005380': 0.0, '005490': 0.0, '005830': 0.0, '005940': 0.0, '006260': 0.0, '006400': 0.0, '006800': 0.14285714285714285, '007070': 0.0, '008770': 0.0, '009150': 0.0, '009830': 0.14285714285714285, '010120': 0.0, '010130': 0.0, '010620': 0.0, '010950': 0.0, '011070': 0.14285714285714285, '011170': 0.0, '011780': 0.0, '012330': 0.0, '012450': 0.0, '015760': 0.0, '016360': 0.0, '020150': 0.0, '021240': 0.0, '024110': 0.0, '029780': 0.0, '030200': 0.0, '032640': 0.0, '032830': 0.0, '033780': 0.0, '034020': 0.14285714285714285, '034220': 0.0, '034730': 0.14285714285714285, '035250': 0.0, '036460': 0.0, '036570': 0.0, '039490': 0.0, '047050': 0.0, '051900': 0.0, '051910': 0.0, '052690': 0.0, '055550': 0.0, '066570': 0.0, '068270': 0.0, '071050': 0.14285714285714285, '078930': 0.0, '086280': 0.0, '086790': 0.0, '096770': 0.14285714285714285, '097950': 0.0, '105560': 0.0, '111770': 0.0, '128940': 0.0, '138040': 0.0, '138930': 0.0, '139480': 0.0, '161390': 0.0}\n",
      "Portfolio: {'000270': 0.0, '000660': 0.0, '000720': 0.0, '000810': 0.0, '000880': 0.14285714285714285, '000990': 0.14285714285714285, '001450': 0.0, '001570': 0.14285714285714285, '004020': 0.14285714285714285, '004370': 0.0, '005380': 0.0, '005490': 0.0, '005830': 0.0, '005940': 0.0, '006260': 0.0, '006400': 0.0, '006800': 0.0, '007070': 0.0, '008770': 0.0, '009150': 0.0, '009830': 0.0, '010120': 0.0, '010130': 0.0, '010620': 0.0, '010950': 0.14285714285714285, '011070': 0.0, '011170': 0.0, '011780': 0.0, '012330': 0.0, '012450': 0.14285714285714285, '015760': 0.0, '016360': 0.0, '020150': 0.0, '021240': 0.0, '024110': 0.0, '029780': 0.0, '030200': 0.0, '032640': 0.0, '032830': 0.0, '033780': 0.0, '034020': 0.14285714285714285, '034220': 0.0, '034730': 0.0, '035250': 0.0, '036460': 0.0, '036570': 0.0, '039490': 0.0, '047050': 0.0, '051900': 0.0, '051910': 0.0, '052690': 0.0, '055550': 0.0, '066570': 0.0, '068270': 0.0, '071050': 0.0, '078930': 0.0, '086280': 0.0, '086790': 0.0, '096770': 0.0, '097950': 0.0, '105560': 0.0, '111770': 0.0, '128940': 0.0, '138040': 0.0, '138930': 0.0, '139480': 0.0, '161390': 0.0}\n",
      "Portfolio: {'000270': 0.0, '000660': 0.0, '000720': 0.0, '000810': 0.0, '000880': 0.14285714285714285, '000990': 0.14285714285714285, '001450': 0.0, '001570': 0.14285714285714285, '004020': 0.14285714285714285, '004370': 0.0, '005380': 0.0, '005490': 0.0, '005830': 0.0, '005940': 0.0, '006260': 0.0, '006400': 0.0, '006800': 0.0, '007070': 0.0, '008770': 0.0, '009150': 0.0, '009830': 0.14285714285714285, '010120': 0.0, '010130': 0.0, '010620': 0.0, '010950': 0.0, '011070': 0.0, '011170': 0.0, '011780': 0.0, '012330': 0.0, '012450': 0.0, '015760': 0.0, '016360': 0.0, '020150': 0.0, '021240': 0.0, '024110': 0.0, '029780': 0.0, '030200': 0.0, '032640': 0.0, '032830': 0.0, '033780': 0.0, '034020': 0.14285714285714285, '034220': 0.0, '034730': 0.14285714285714285, '035250': 0.0, '036460': 0.0, '036570': 0.0, '039490': 0.0, '047050': 0.0, '051900': 0.0, '051910': 0.0, '052690': 0.0, '055550': 0.0, '066570': 0.0, '068270': 0.0, '071050': 0.0, '078930': 0.0, '086280': 0.0, '086790': 0.0, '096770': 0.0, '097950': 0.0, '105560': 0.0, '111770': 0.0, '128940': 0.0, '138040': 0.0, '138930': 0.0, '139480': 0.0, '161390': 0.0}\n",
      "Portfolio: {'000270': 0.0, '000660': 0.0, '000720': 0.0, '000810': 0.0, '000880': 0.14285714285714285, '000990': 0.0, '001450': 0.0, '001570': 0.14285714285714285, '004020': 0.0, '004370': 0.0, '005380': 0.0, '005490': 0.0, '005830': 0.0, '005940': 0.0, '006260': 0.0, '006400': 0.0, '006800': 0.0, '007070': 0.0, '008770': 0.0, '009150': 0.0, '009830': 0.0, '010120': 0.0, '010130': 0.0, '010620': 0.0, '010950': 0.0, '011070': 0.0, '011170': 0.0, '011780': 0.0, '012330': 0.0, '012450': 0.0, '015760': 0.0, '016360': 0.0, '020150': 0.0, '021240': 0.0, '024110': 0.0, '029780': 0.0, '030200': 0.0, '032640': 0.0, '032830': 0.14285714285714285, '033780': 0.0, '034020': 0.14285714285714285, '034220': 0.0, '034730': 0.0, '035250': 0.0, '036460': 0.0, '036570': 0.0, '039490': 0.0, '047050': 0.0, '051900': 0.0, '051910': 0.0, '052690': 0.0, '055550': 0.0, '066570': 0.0, '068270': 0.0, '071050': 0.0, '078930': 0.0, '086280': 0.0, '086790': 0.0, '096770': 0.14285714285714285, '097950': 0.0, '105560': 0.0, '111770': 0.0, '128940': 0.14285714285714285, '138040': 0.0, '138930': 0.0, '139480': 0.0, '161390': 0.14285714285714285}\n",
      "Portfolio: {'000270': 0.0, '000660': 0.0, '000720': 0.0, '000810': 0.0, '000880': 0.0, '000990': 0.0, '001450': 0.0, '001570': 0.14285714285714285, '004020': 0.0, '004370': 0.0, '005380': 0.0, '005490': 0.0, '005830': 0.0, '005940': 0.0, '006260': 0.14285714285714285, '006400': 0.0, '006800': 0.0, '007070': 0.0, '008770': 0.0, '009150': 0.0, '009830': 0.14285714285714285, '010120': 0.0, '010130': 0.0, '010620': 0.0, '010950': 0.0, '011070': 0.0, '011170': 0.0, '011780': 0.0, '012330': 0.0, '012450': 0.0, '015760': 0.0, '016360': 0.0, '020150': 0.0, '021240': 0.0, '024110': 0.0, '029780': 0.0, '030200': 0.0, '032640': 0.0, '032830': 0.14285714285714285, '033780': 0.0, '034020': 0.14285714285714285, '034220': 0.0, '034730': 0.0, '035250': 0.0, '036460': 0.0, '036570': 0.0, '039490': 0.0, '047050': 0.0, '051900': 0.0, '051910': 0.0, '052690': 0.0, '055550': 0.0, '066570': 0.0, '068270': 0.0, '071050': 0.0, '078930': 0.0, '086280': 0.0, '086790': 0.0, '096770': 0.14285714285714285, '097950': 0.0, '105560': 0.0, '111770': 0.0, '128940': 0.14285714285714285, '138040': 0.0, '138930': 0.0, '139480': 0.0, '161390': 0.0}\n",
      "Portfolio: {'000270': 0.0, '000660': 0.0, '000720': 0.0, '000810': 0.0, '000880': 0.0, '000990': 0.0, '001450': 0.0, '001570': 0.14285714285714285, '004020': 0.0, '004370': 0.0, '005380': 0.0, '005490': 0.0, '005830': 0.0, '005940': 0.0, '006260': 0.14285714285714285, '006400': 0.0, '006800': 0.0, '007070': 0.0, '008770': 0.0, '009150': 0.0, '009830': 0.14285714285714285, '010120': 0.0, '010130': 0.0, '010620': 0.0, '010950': 0.0, '011070': 0.0, '011170': 0.0, '011780': 0.0, '012330': 0.0, '012450': 0.0, '015760': 0.0, '016360': 0.0, '020150': 0.0, '021240': 0.0, '024110': 0.0, '029780': 0.0, '030200': 0.0, '032640': 0.0, '032830': 0.14285714285714285, '033780': 0.0, '034020': 0.14285714285714285, '034220': 0.0, '034730': 0.0, '035250': 0.0, '036460': 0.0, '036570': 0.0, '039490': 0.0, '047050': 0.0, '051900': 0.0, '051910': 0.0, '052690': 0.0, '055550': 0.0, '066570': 0.0, '068270': 0.0, '071050': 0.0, '078930': 0.0, '086280': 0.0, '086790': 0.0, '096770': 0.14285714285714285, '097950': 0.0, '105560': 0.0, '111770': 0.0, '128940': 0.14285714285714285, '138040': 0.0, '138930': 0.0, '139480': 0.0, '161390': 0.0}\n",
      "Portfolio: {'000270': 0.0, '000660': 0.0, '000720': 0.0, '000810': 0.0, '000880': 0.0, '000990': 0.0, '001450': 0.0, '001570': 0.14285714285714285, '004020': 0.0, '004370': 0.0, '005380': 0.0, '005490': 0.0, '005830': 0.0, '005940': 0.0, '006260': 0.14285714285714285, '006400': 0.0, '006800': 0.0, '007070': 0.0, '008770': 0.0, '009150': 0.0, '009830': 0.14285714285714285, '010120': 0.14285714285714285, '010130': 0.0, '010620': 0.0, '010950': 0.0, '011070': 0.0, '011170': 0.14285714285714285, '011780': 0.14285714285714285, '012330': 0.0, '012450': 0.0, '015760': 0.0, '016360': 0.0, '020150': 0.0, '021240': 0.0, '024110': 0.0, '029780': 0.0, '030200': 0.0, '032640': 0.0, '032830': 0.0, '033780': 0.0, '034020': 0.0, '034220': 0.0, '034730': 0.0, '035250': 0.0, '036460': 0.0, '036570': 0.0, '039490': 0.0, '047050': 0.0, '051900': 0.0, '051910': 0.0, '052690': 0.0, '055550': 0.0, '066570': 0.0, '068270': 0.0, '071050': 0.14285714285714285, '078930': 0.0, '086280': 0.0, '086790': 0.0, '096770': 0.0, '097950': 0.0, '105560': 0.0, '111770': 0.0, '128940': 0.0, '138040': 0.0, '138930': 0.0, '139480': 0.0, '161390': 0.0}\n",
      "Portfolio: {'000270': 0.0, '000660': 0.0, '000720': 0.0, '000810': 0.0, '000880': 0.0, '000990': 0.0, '001450': 0.0, '001570': 0.14285714285714285, '004020': 0.0, '004370': 0.0, '005380': 0.0, '005490': 0.0, '005830': 0.0, '005940': 0.0, '006260': 0.0, '006400': 0.0, '006800': 0.0, '007070': 0.0, '008770': 0.0, '009150': 0.0, '009830': 0.14285714285714285, '010120': 0.0, '010130': 0.0, '010620': 0.14285714285714285, '010950': 0.0, '011070': 0.0, '011170': 0.0, '011780': 0.14285714285714285, '012330': 0.0, '012450': 0.0, '015760': 0.0, '016360': 0.0, '020150': 0.0, '021240': 0.0, '024110': 0.0, '029780': 0.0, '030200': 0.0, '032640': 0.0, '032830': 0.0, '033780': 0.0, '034020': 0.0, '034220': 0.0, '034730': 0.0, '035250': 0.0, '036460': 0.0, '036570': 0.0, '039490': 0.0, '047050': 0.0, '051900': 0.0, '051910': 0.0, '052690': 0.0, '055550': 0.0, '066570': 0.14285714285714285, '068270': 0.14285714285714285, '071050': 0.0, '078930': 0.0, '086280': 0.14285714285714285, '086790': 0.0, '096770': 0.0, '097950': 0.0, '105560': 0.0, '111770': 0.0, '128940': 0.0, '138040': 0.0, '138930': 0.0, '139480': 0.0, '161390': 0.0}\n",
      "Portfolio: {'000270': 0.0, '000660': 0.0, '000720': 0.0, '000810': 0.0, '000880': 0.0, '000990': 0.0, '001450': 0.0, '001570': 0.14285714285714285, '004020': 0.0, '004370': 0.0, '005380': 0.14285714285714285, '005490': 0.0, '005830': 0.0, '005940': 0.0, '006260': 0.0, '006400': 0.0, '006800': 0.0, '007070': 0.0, '008770': 0.0, '009150': 0.0, '009830': 0.0, '010120': 0.0, '010130': 0.0, '010620': 0.0, '010950': 0.0, '011070': 0.0, '011170': 0.0, '011780': 0.14285714285714285, '012330': 0.14285714285714285, '012450': 0.0, '015760': 0.0, '016360': 0.0, '020150': 0.0, '021240': 0.0, '024110': 0.0, '029780': 0.0, '030200': 0.0, '032640': 0.0, '032830': 0.0, '033780': 0.0, '034020': 0.0, '034220': 0.0, '034730': 0.0, '035250': 0.0, '036460': 0.0, '036570': 0.0, '039490': 0.0, '047050': 0.0, '051900': 0.0, '051910': 0.0, '052690': 0.0, '055550': 0.0, '066570': 0.14285714285714285, '068270': 0.14285714285714285, '071050': 0.0, '078930': 0.0, '086280': 0.0, '086790': 0.0, '096770': 0.14285714285714285, '097950': 0.0, '105560': 0.0, '111770': 0.0, '128940': 0.0, '138040': 0.0, '138930': 0.0, '139480': 0.0, '161390': 0.0}\n",
      "Portfolio: {'000270': 0.14285714285714285, '000660': 0.0, '000720': 0.0, '000810': 0.0, '000880': 0.0, '000990': 0.0, '001450': 0.0, '001570': 0.14285714285714285, '004020': 0.0, '004370': 0.0, '005380': 0.0, '005490': 0.0, '005830': 0.0, '005940': 0.0, '006260': 0.0, '006400': 0.0, '006800': 0.0, '007070': 0.0, '008770': 0.0, '009150': 0.0, '009830': 0.0, '010120': 0.0, '010130': 0.0, '010620': 0.0, '010950': 0.0, '011070': 0.0, '011170': 0.0, '011780': 0.14285714285714285, '012330': 0.0, '012450': 0.0, '015760': 0.0, '016360': 0.0, '020150': 0.0, '021240': 0.0, '024110': 0.0, '029780': 0.0, '030200': 0.0, '032640': 0.0, '032830': 0.0, '033780': 0.0, '034020': 0.0, '034220': 0.0, '034730': 0.0, '035250': 0.0, '036460': 0.0, '036570': 0.0, '039490': 0.0, '047050': 0.14285714285714285, '051900': 0.0, '051910': 0.0, '052690': 0.0, '055550': 0.0, '066570': 0.14285714285714285, '068270': 0.14285714285714285, '071050': 0.0, '078930': 0.0, '086280': 0.0, '086790': 0.0, '096770': 0.14285714285714285, '097950': 0.0, '105560': 0.0, '111770': 0.0, '128940': 0.0, '138040': 0.0, '138930': 0.0, '139480': 0.0, '161390': 0.0}\n",
      "Portfolio: {'000270': 0.14285714285714285, '000660': 0.0, '000720': 0.0, '000810': 0.0, '000880': 0.0, '000990': 0.0, '001450': 0.0, '001570': 0.0, '004020': 0.0, '004370': 0.0, '005380': 0.0, '005490': 0.0, '005830': 0.0, '005940': 0.0, '006260': 0.0, '006400': 0.0, '006800': 0.0, '007070': 0.0, '008770': 0.0, '009150': 0.0, '009830': 0.0, '010120': 0.0, '010130': 0.0, '010620': 0.0, '010950': 0.0, '011070': 0.0, '011170': 0.0, '011780': 0.14285714285714285, '012330': 0.14285714285714285, '012450': 0.0, '015760': 0.0, '016360': 0.0, '020150': 0.0, '021240': 0.0, '024110': 0.0, '029780': 0.0, '030200': 0.0, '032640': 0.0, '032830': 0.0, '033780': 0.0, '034020': 0.0, '034220': 0.0, '034730': 0.0, '035250': 0.0, '036460': 0.0, '036570': 0.0, '039490': 0.0, '047050': 0.14285714285714285, '051900': 0.0, '051910': 0.0, '052690': 0.0, '055550': 0.0, '066570': 0.14285714285714285, '068270': 0.0, '071050': 0.0, '078930': 0.0, '086280': 0.14285714285714285, '086790': 0.0, '096770': 0.14285714285714285, '097950': 0.0, '105560': 0.0, '111770': 0.0, '128940': 0.0, '138040': 0.0, '138930': 0.0, '139480': 0.0, '161390': 0.0}\n",
      "Portfolio: {'000270': 0.14285714285714285, '000660': 0.0, '000720': 0.0, '000810': 0.0, '000880': 0.0, '000990': 0.0, '001450': 0.0, '001570': 0.14285714285714285, '004020': 0.0, '004370': 0.0, '005380': 0.0, '005490': 0.0, '005830': 0.0, '005940': 0.0, '006260': 0.0, '006400': 0.0, '006800': 0.0, '007070': 0.0, '008770': 0.0, '009150': 0.0, '009830': 0.0, '010120': 0.0, '010130': 0.0, '010620': 0.0, '010950': 0.0, '011070': 0.0, '011170': 0.0, '011780': 0.14285714285714285, '012330': 0.0, '012450': 0.0, '015760': 0.0, '016360': 0.0, '020150': 0.0, '021240': 0.0, '024110': 0.0, '029780': 0.0, '030200': 0.0, '032640': 0.0, '032830': 0.0, '033780': 0.0, '034020': 0.0, '034220': 0.0, '034730': 0.0, '035250': 0.0, '036460': 0.0, '036570': 0.0, '039490': 0.0, '047050': 0.14285714285714285, '051900': 0.0, '051910': 0.0, '052690': 0.14285714285714285, '055550': 0.0, '066570': 0.0, '068270': 0.0, '071050': 0.0, '078930': 0.0, '086280': 0.0, '086790': 0.0, '096770': 0.14285714285714285, '097950': 0.0, '105560': 0.0, '111770': 0.0, '128940': 0.0, '138040': 0.0, '138930': 0.0, '139480': 0.0, '161390': 0.14285714285714285}\n",
      "Portfolio: {'000270': 0.0, '000660': 0.0, '000720': 0.0, '000810': 0.0, '000880': 0.0, '000990': 0.0, '001450': 0.0, '001570': 0.0, '004020': 0.0, '004370': 0.0, '005380': 0.0, '005490': 0.0, '005830': 0.0, '005940': 0.0, '006260': 0.0, '006400': 0.0, '006800': 0.0, '007070': 0.0, '008770': 0.0, '009150': 0.0, '009830': 0.0, '010120': 0.0, '010130': 0.0, '010620': 0.14285714285714285, '010950': 0.0, '011070': 0.0, '011170': 0.0, '011780': 0.14285714285714285, '012330': 0.0, '012450': 0.0, '015760': 0.0, '016360': 0.0, '020150': 0.0, '021240': 0.0, '024110': 0.0, '029780': 0.0, '030200': 0.0, '032640': 0.0, '032830': 0.0, '033780': 0.0, '034020': 0.14285714285714285, '034220': 0.0, '034730': 0.0, '035250': 0.0, '036460': 0.0, '036570': 0.0, '039490': 0.0, '047050': 0.14285714285714285, '051900': 0.0, '051910': 0.0, '052690': 0.14285714285714285, '055550': 0.0, '066570': 0.0, '068270': 0.0, '071050': 0.0, '078930': 0.0, '086280': 0.0, '086790': 0.0, '096770': 0.14285714285714285, '097950': 0.0, '105560': 0.0, '111770': 0.0, '128940': 0.0, '138040': 0.14285714285714285, '138930': 0.0, '139480': 0.0, '161390': 0.0}\n",
      "Portfolio: {'000270': 0.0, '000660': 0.0, '000720': 0.0, '000810': 0.0, '000880': 0.0, '000990': 0.0, '001450': 0.0, '001570': 0.0, '004020': 0.0, '004370': 0.0, '005380': 0.0, '005490': 0.0, '005830': 0.0, '005940': 0.0, '006260': 0.0, '006400': 0.0, '006800': 0.0, '007070': 0.0, '008770': 0.0, '009150': 0.0, '009830': 0.0, '010120': 0.0, '010130': 0.0, '010620': 0.14285714285714285, '010950': 0.0, '011070': 0.0, '011170': 0.0, '011780': 0.14285714285714285, '012330': 0.0, '012450': 0.0, '015760': 0.0, '016360': 0.0, '020150': 0.0, '021240': 0.0, '024110': 0.0, '029780': 0.0, '030200': 0.0, '032640': 0.0, '032830': 0.0, '033780': 0.0, '034020': 0.14285714285714285, '034220': 0.0, '034730': 0.0, '035250': 0.0, '036460': 0.0, '036570': 0.0, '039490': 0.0, '047050': 0.14285714285714285, '051900': 0.0, '051910': 0.0, '052690': 0.14285714285714285, '055550': 0.0, '066570': 0.0, '068270': 0.0, '071050': 0.0, '078930': 0.0, '086280': 0.0, '086790': 0.0, '096770': 0.14285714285714285, '097950': 0.0, '105560': 0.0, '111770': 0.0, '128940': 0.0, '138040': 0.14285714285714285, '138930': 0.0, '139480': 0.0, '161390': 0.0}\n",
      "Portfolio: {'000270': 0.0, '000660': 0.0, '000720': 0.0, '000810': 0.0, '000880': 0.0, '000990': 0.0, '001450': 0.0, '001570': 0.0, '004020': 0.0, '004370': 0.0, '005380': 0.0, '005490': 0.0, '005830': 0.0, '005940': 0.0, '006260': 0.0, '006400': 0.0, '006800': 0.0, '007070': 0.0, '008770': 0.0, '009150': 0.0, '009830': 0.0, '010120': 0.0, '010130': 0.0, '010620': 0.0, '010950': 0.0, '011070': 0.0, '011170': 0.0, '011780': 0.14285714285714285, '012330': 0.0, '012450': 0.14285714285714285, '015760': 0.0, '016360': 0.0, '020150': 0.0, '021240': 0.0, '024110': 0.0, '029780': 0.0, '030200': 0.0, '032640': 0.0, '032830': 0.0, '033780': 0.0, '034020': 0.14285714285714285, '034220': 0.0, '034730': 0.0, '035250': 0.0, '036460': 0.0, '036570': 0.0, '039490': 0.0, '047050': 0.14285714285714285, '051900': 0.0, '051910': 0.0, '052690': 0.14285714285714285, '055550': 0.0, '066570': 0.0, '068270': 0.0, '071050': 0.14285714285714285, '078930': 0.0, '086280': 0.0, '086790': 0.0, '096770': 0.0, '097950': 0.0, '105560': 0.0, '111770': 0.0, '128940': 0.0, '138040': 0.14285714285714285, '138930': 0.0, '139480': 0.0, '161390': 0.0}\n",
      "Portfolio: {'000270': 0.0, '000660': 0.0, '000720': 0.0, '000810': 0.0, '000880': 0.0, '000990': 0.0, '001450': 0.0, '001570': 0.14285714285714285, '004020': 0.0, '004370': 0.0, '005380': 0.0, '005490': 0.0, '005830': 0.0, '005940': 0.0, '006260': 0.0, '006400': 0.0, '006800': 0.0, '007070': 0.0, '008770': 0.0, '009150': 0.0, '009830': 0.0, '010120': 0.0, '010130': 0.0, '010620': 0.0, '010950': 0.0, '011070': 0.0, '011170': 0.0, '011780': 0.0, '012330': 0.0, '012450': 0.14285714285714285, '015760': 0.0, '016360': 0.0, '020150': 0.0, '021240': 0.0, '024110': 0.0, '029780': 0.0, '030200': 0.0, '032640': 0.0, '032830': 0.0, '033780': 0.0, '034020': 0.14285714285714285, '034220': 0.0, '034730': 0.0, '035250': 0.0, '036460': 0.0, '036570': 0.14285714285714285, '039490': 0.0, '047050': 0.14285714285714285, '051900': 0.0, '051910': 0.0, '052690': 0.14285714285714285, '055550': 0.0, '066570': 0.0, '068270': 0.0, '071050': 0.14285714285714285, '078930': 0.0, '086280': 0.0, '086790': 0.0, '096770': 0.0, '097950': 0.0, '105560': 0.0, '111770': 0.0, '128940': 0.0, '138040': 0.0, '138930': 0.0, '139480': 0.0, '161390': 0.0}\n",
      "Portfolio: {'000270': 0.0, '000660': 0.0, '000720': 0.0, '000810': 0.0, '000880': 0.0, '000990': 0.0, '001450': 0.0, '001570': 0.14285714285714285, '004020': 0.0, '004370': 0.0, '005380': 0.0, '005490': 0.0, '005830': 0.0, '005940': 0.0, '006260': 0.0, '006400': 0.0, '006800': 0.0, '007070': 0.0, '008770': 0.0, '009150': 0.0, '009830': 0.0, '010120': 0.0, '010130': 0.0, '010620': 0.0, '010950': 0.0, '011070': 0.0, '011170': 0.0, '011780': 0.0, '012330': 0.0, '012450': 0.0, '015760': 0.0, '016360': 0.0, '020150': 0.14285714285714285, '021240': 0.0, '024110': 0.0, '029780': 0.0, '030200': 0.0, '032640': 0.0, '032830': 0.0, '033780': 0.0, '034020': 0.0, '034220': 0.0, '034730': 0.0, '035250': 0.0, '036460': 0.14285714285714285, '036570': 0.14285714285714285, '039490': 0.0, '047050': 0.14285714285714285, '051900': 0.0, '051910': 0.0, '052690': 0.14285714285714285, '055550': 0.0, '066570': 0.0, '068270': 0.0, '071050': 0.0, '078930': 0.0, '086280': 0.0, '086790': 0.0, '096770': 0.0, '097950': 0.0, '105560': 0.0, '111770': 0.0, '128940': 0.0, '138040': 0.14285714285714285, '138930': 0.0, '139480': 0.0, '161390': 0.0}\n",
      "Portfolio: {'000270': 0.0, '000660': 0.0, '000720': 0.0, '000810': 0.0, '000880': 0.0, '000990': 0.0, '001450': 0.0, '001570': 0.14285714285714285, '004020': 0.0, '004370': 0.0, '005380': 0.0, '005490': 0.0, '005830': 0.0, '005940': 0.0, '006260': 0.0, '006400': 0.0, '006800': 0.0, '007070': 0.0, '008770': 0.0, '009150': 0.0, '009830': 0.0, '010120': 0.0, '010130': 0.0, '010620': 0.14285714285714285, '010950': 0.0, '011070': 0.0, '011170': 0.0, '011780': 0.0, '012330': 0.0, '012450': 0.0, '015760': 0.0, '016360': 0.0, '020150': 0.14285714285714285, '021240': 0.0, '024110': 0.0, '029780': 0.0, '030200': 0.0, '032640': 0.0, '032830': 0.0, '033780': 0.0, '034020': 0.14285714285714285, '034220': 0.0, '034730': 0.0, '035250': 0.0, '036460': 0.0, '036570': 0.14285714285714285, '039490': 0.0, '047050': 0.0, '051900': 0.0, '051910': 0.0, '052690': 0.14285714285714285, '055550': 0.0, '066570': 0.0, '068270': 0.14285714285714285, '071050': 0.0, '078930': 0.0, '086280': 0.0, '086790': 0.0, '096770': 0.0, '097950': 0.0, '105560': 0.0, '111770': 0.0, '128940': 0.0, '138040': 0.0, '138930': 0.0, '139480': 0.0, '161390': 0.0}\n",
      "Portfolio: {'000270': 0.0, '000660': 0.0, '000720': 0.0, '000810': 0.0, '000880': 0.0, '000990': 0.0, '001450': 0.0, '001570': 0.14285714285714285, '004020': 0.0, '004370': 0.0, '005380': 0.0, '005490': 0.0, '005830': 0.0, '005940': 0.0, '006260': 0.0, '006400': 0.0, '006800': 0.0, '007070': 0.0, '008770': 0.0, '009150': 0.0, '009830': 0.0, '010120': 0.0, '010130': 0.0, '010620': 0.14285714285714285, '010950': 0.0, '011070': 0.0, '011170': 0.0, '011780': 0.0, '012330': 0.0, '012450': 0.0, '015760': 0.0, '016360': 0.0, '020150': 0.14285714285714285, '021240': 0.0, '024110': 0.0, '029780': 0.0, '030200': 0.0, '032640': 0.0, '032830': 0.0, '033780': 0.0, '034020': 0.14285714285714285, '034220': 0.0, '034730': 0.0, '035250': 0.0, '036460': 0.0, '036570': 0.14285714285714285, '039490': 0.0, '047050': 0.0, '051900': 0.0, '051910': 0.0, '052690': 0.14285714285714285, '055550': 0.0, '066570': 0.0, '068270': 0.14285714285714285, '071050': 0.0, '078930': 0.0, '086280': 0.0, '086790': 0.0, '096770': 0.0, '097950': 0.0, '105560': 0.0, '111770': 0.0, '128940': 0.0, '138040': 0.0, '138930': 0.0, '139480': 0.0, '161390': 0.0}\n",
      "Portfolio: {'000270': 0.0, '000660': 0.0, '000720': 0.0, '000810': 0.0, '000880': 0.0, '000990': 0.0, '001450': 0.0, '001570': 0.0, '004020': 0.0, '004370': 0.0, '005380': 0.0, '005490': 0.0, '005830': 0.0, '005940': 0.0, '006260': 0.0, '006400': 0.0, '006800': 0.0, '007070': 0.0, '008770': 0.0, '009150': 0.0, '009830': 0.0, '010120': 0.0, '010130': 0.0, '010620': 0.14285714285714285, '010950': 0.0, '011070': 0.14285714285714285, '011170': 0.0, '011780': 0.0, '012330': 0.0, '012450': 0.0, '015760': 0.0, '016360': 0.0, '020150': 0.14285714285714285, '021240': 0.0, '024110': 0.0, '029780': 0.0, '030200': 0.0, '032640': 0.0, '032830': 0.0, '033780': 0.0, '034020': 0.14285714285714285, '034220': 0.0, '034730': 0.0, '035250': 0.0, '036460': 0.0, '036570': 0.14285714285714285, '039490': 0.0, '047050': 0.0, '051900': 0.0, '051910': 0.0, '052690': 0.14285714285714285, '055550': 0.0, '066570': 0.0, '068270': 0.14285714285714285, '071050': 0.0, '078930': 0.0, '086280': 0.0, '086790': 0.0, '096770': 0.0, '097950': 0.0, '105560': 0.0, '111770': 0.0, '128940': 0.0, '138040': 0.0, '138930': 0.0, '139480': 0.0, '161390': 0.0}\n"
     ]
    }
   ],
   "source": [
    "# 룩백 기간, 생략 기간 정의\n",
    "lookback = 60\n",
    "offset = 0\n",
    "total_lookback = get_lookback_fromdate(fromdate=simulation_fromdate,\n",
    "                                       lookback=lookback + offset, freq='d')\n",
    "\n",
    "# 매수 비율 정의\n",
    "ratio = 0.1\n",
    "\n",
    "# 전략 정의\n",
    "strategy = 'lowvol'\n",
    "\n",
    "# 로우볼 전략 실행하기\n",
    "account_lowvol = simulate_factor(\n",
    "    ohlcv_data=df_slicer(df=ohlcv_data_day, fromdate=total_lookback),\n",
    "    market_cap_data=None,\n",
    "    fundamental_data=None,\n",
    "    trader_data=None,\n",
    "    lookback_period=lookback,\n",
    "    skip_period=offset,\n",
    "    strategy_name=strategy,\n",
    "    buying_ratio=ratio)"
   ],
   "metadata": {
    "collapsed": false,
    "ExecuteTime": {
     "end_time": "2023-12-07T05:12:27.948538Z",
     "start_time": "2023-12-07T05:12:26.018090Z"
    }
   }
  },
  {
   "cell_type": "markdown",
   "source": [
    "#### 1.6.7. 개인 매수 따른 투자 전략 실행하기"
   ],
   "metadata": {
    "collapsed": false
   }
  },
  {
   "cell_type": "code",
   "execution_count": 24,
   "outputs": [
    {
     "name": "stderr",
     "output_type": "stream",
     "text": [
      "/var/folders/j2/p6vmvrcs1kg7j9c8811510sc0000gn/T/ipykernel_87974/888467401.py:44: FutureWarning: In a future version of pandas, a length 1 tuple will be returned when iterating over a groupby with a grouper equal to a list of length 1. Don't supply a list with a single grouper to avoid this warning.\n",
      "  for date, ohlcv in ohlcv_data.groupby(['date']):\n"
     ]
    },
    {
     "name": "stdout",
     "output_type": "stream",
     "text": [
      "Portfolio: {'000270': 0.0, '000660': 0.14285714285714285, '000720': 0.0, '000810': 0.0, '000880': 0.0, '000990': 0.0, '001450': 0.0, '001570': 0.0, '004020': 0.0, '004370': 0.14285714285714285, '005380': 0.0, '005490': 0.0, '005830': 0.0, '005940': 0.0, '006260': 0.0, '006400': 0.0, '006800': 0.0, '007070': 0.0, '008770': 0.0, '009150': 0.0, '009830': 0.14285714285714285, '010120': 0.0, '010130': 0.14285714285714285, '010620': 0.0, '010950': 0.0, '011070': 0.0, '011170': 0.0, '011780': 0.0, '012330': 0.0, '012450': 0.0, '015760': 0.0, '016360': 0.0, '020150': 0.0, '021240': 0.0, '024110': 0.0, '029780': 0.0, '030200': 0.0, '032640': 0.0, '032830': 0.0, '033780': 0.0, '034020': 0.14285714285714285, '034220': 0.14285714285714285, '034730': 0.0, '035250': 0.0, '036460': 0.0, '036570': 0.14285714285714285, '039490': 0.0, '047050': 0.0, '051900': 0.0, '051910': 0.0, '052690': 0.0, '055550': 0.0, '066570': 0.0, '068270': 0.0, '071050': 0.0, '078930': 0.0, '086280': 0.0, '086790': 0.0, '096770': 0.0, '097950': 0.0, '105560': 0.0, '111770': 0.0, '128940': 0.0, '138040': 0.0, '138930': 0.0, '139480': 0.0, '161390': 0.0}\n",
      "Portfolio: {'000270': 0.0, '000660': 0.0, '000720': 0.0, '000810': 0.0, '000880': 0.0, '000990': 0.0, '001450': 0.0, '001570': 0.0, '004020': 0.0, '004370': 0.14285714285714285, '005380': 0.0, '005490': 0.0, '005830': 0.0, '005940': 0.0, '006260': 0.0, '006400': 0.0, '006800': 0.0, '007070': 0.0, '008770': 0.14285714285714285, '009150': 0.0, '009830': 0.0, '010120': 0.0, '010130': 0.0, '010620': 0.0, '010950': 0.0, '011070': 0.0, '011170': 0.0, '011780': 0.0, '012330': 0.0, '012450': 0.0, '015760': 0.0, '016360': 0.0, '020150': 0.0, '021240': 0.0, '024110': 0.14285714285714285, '029780': 0.0, '030200': 0.0, '032640': 0.0, '032830': 0.0, '033780': 0.14285714285714285, '034020': 0.14285714285714285, '034220': 0.0, '034730': 0.0, '035250': 0.0, '036460': 0.0, '036570': 0.0, '039490': 0.0, '047050': 0.0, '051900': 0.0, '051910': 0.0, '052690': 0.0, '055550': 0.0, '066570': 0.0, '068270': 0.14285714285714285, '071050': 0.0, '078930': 0.0, '086280': 0.14285714285714285, '086790': 0.0, '096770': 0.0, '097950': 0.0, '105560': 0.0, '111770': 0.0, '128940': 0.0, '138040': 0.0, '138930': 0.0, '139480': 0.0, '161390': 0.0}\n",
      "Portfolio: {'000270': 0.14285714285714285, '000660': 0.0, '000720': 0.0, '000810': 0.0, '000880': 0.0, '000990': 0.14285714285714285, '001450': 0.0, '001570': 0.0, '004020': 0.14285714285714285, '004370': 0.0, '005380': 0.0, '005490': 0.0, '005830': 0.0, '005940': 0.0, '006260': 0.0, '006400': 0.0, '006800': 0.14285714285714285, '007070': 0.0, '008770': 0.0, '009150': 0.0, '009830': 0.0, '010120': 0.0, '010130': 0.0, '010620': 0.0, '010950': 0.0, '011070': 0.0, '011170': 0.14285714285714285, '011780': 0.0, '012330': 0.0, '012450': 0.0, '015760': 0.0, '016360': 0.0, '020150': 0.0, '021240': 0.0, '024110': 0.0, '029780': 0.0, '030200': 0.0, '032640': 0.0, '032830': 0.0, '033780': 0.0, '034020': 0.0, '034220': 0.14285714285714285, '034730': 0.0, '035250': 0.0, '036460': 0.0, '036570': 0.0, '039490': 0.0, '047050': 0.0, '051900': 0.0, '051910': 0.0, '052690': 0.14285714285714285, '055550': 0.0, '066570': 0.0, '068270': 0.0, '071050': 0.0, '078930': 0.0, '086280': 0.0, '086790': 0.0, '096770': 0.0, '097950': 0.0, '105560': 0.0, '111770': 0.0, '128940': 0.0, '138040': 0.0, '138930': 0.0, '139480': 0.0, '161390': 0.0}\n",
      "Portfolio: {'000270': 0.0, '000660': 0.0, '000720': 0.14285714285714285, '000810': 0.0, '000880': 0.0, '000990': 0.14285714285714285, '001450': 0.0, '001570': 0.0, '004020': 0.0, '004370': 0.0, '005380': 0.0, '005490': 0.0, '005830': 0.0, '005940': 0.0, '006260': 0.0, '006400': 0.0, '006800': 0.0, '007070': 0.0, '008770': 0.0, '009150': 0.0, '009830': 0.0, '010120': 0.0, '010130': 0.0, '010620': 0.0, '010950': 0.0, '011070': 0.0, '011170': 0.0, '011780': 0.0, '012330': 0.0, '012450': 0.0, '015760': 0.14285714285714285, '016360': 0.0, '020150': 0.0, '021240': 0.0, '024110': 0.0, '029780': 0.0, '030200': 0.0, '032640': 0.0, '032830': 0.0, '033780': 0.0, '034020': 0.14285714285714285, '034220': 0.0, '034730': 0.0, '035250': 0.0, '036460': 0.0, '036570': 0.14285714285714285, '039490': 0.0, '047050': 0.0, '051900': 0.0, '051910': 0.0, '052690': 0.14285714285714285, '055550': 0.0, '066570': 0.0, '068270': 0.0, '071050': 0.0, '078930': 0.0, '086280': 0.0, '086790': 0.0, '096770': 0.14285714285714285, '097950': 0.0, '105560': 0.0, '111770': 0.0, '128940': 0.0, '138040': 0.0, '138930': 0.0, '139480': 0.0, '161390': 0.0}\n",
      "Portfolio: {'000270': 0.0, '000660': 0.0, '000720': 0.0, '000810': 0.0, '000880': 0.0, '000990': 0.0, '001450': 0.0, '001570': 0.0, '004020': 0.0, '004370': 0.0, '005380': 0.0, '005490': 0.0, '005830': 0.0, '005940': 0.0, '006260': 0.0, '006400': 0.0, '006800': 0.0, '007070': 0.0, '008770': 0.0, '009150': 0.0, '009830': 0.0, '010120': 0.0, '010130': 0.0, '010620': 0.14285714285714285, '010950': 0.14285714285714285, '011070': 0.0, '011170': 0.14285714285714285, '011780': 0.0, '012330': 0.0, '012450': 0.14285714285714285, '015760': 0.0, '016360': 0.0, '020150': 0.14285714285714285, '021240': 0.0, '024110': 0.0, '029780': 0.0, '030200': 0.0, '032640': 0.0, '032830': 0.0, '033780': 0.0, '034020': 0.0, '034220': 0.0, '034730': 0.0, '035250': 0.0, '036460': 0.0, '036570': 0.14285714285714285, '039490': 0.0, '047050': 0.0, '051900': 0.0, '051910': 0.0, '052690': 0.0, '055550': 0.0, '066570': 0.0, '068270': 0.0, '071050': 0.0, '078930': 0.0, '086280': 0.0, '086790': 0.0, '096770': 0.14285714285714285, '097950': 0.0, '105560': 0.0, '111770': 0.0, '128940': 0.0, '138040': 0.0, '138930': 0.0, '139480': 0.0, '161390': 0.0}\n",
      "Portfolio: {'000270': 0.0, '000660': 0.14285714285714285, '000720': 0.0, '000810': 0.0, '000880': 0.0, '000990': 0.14285714285714285, '001450': 0.0, '001570': 0.0, '004020': 0.0, '004370': 0.0, '005380': 0.0, '005490': 0.0, '005830': 0.0, '005940': 0.0, '006260': 0.0, '006400': 0.0, '006800': 0.0, '007070': 0.0, '008770': 0.0, '009150': 0.14285714285714285, '009830': 0.0, '010120': 0.0, '010130': 0.0, '010620': 0.0, '010950': 0.0, '011070': 0.0, '011170': 0.0, '011780': 0.0, '012330': 0.0, '012450': 0.14285714285714285, '015760': 0.0, '016360': 0.0, '020150': 0.14285714285714285, '021240': 0.0, '024110': 0.0, '029780': 0.0, '030200': 0.0, '032640': 0.0, '032830': 0.0, '033780': 0.0, '034020': 0.0, '034220': 0.14285714285714285, '034730': 0.0, '035250': 0.0, '036460': 0.0, '036570': 0.0, '039490': 0.0, '047050': 0.0, '051900': 0.0, '051910': 0.0, '052690': 0.0, '055550': 0.0, '066570': 0.14285714285714285, '068270': 0.0, '071050': 0.0, '078930': 0.0, '086280': 0.0, '086790': 0.0, '096770': 0.0, '097950': 0.0, '105560': 0.0, '111770': 0.0, '128940': 0.0, '138040': 0.0, '138930': 0.0, '139480': 0.0, '161390': 0.0}\n",
      "Portfolio: {'000270': 0.0, '000660': 0.0, '000720': 0.14285714285714285, '000810': 0.0, '000880': 0.0, '000990': 0.14285714285714285, '001450': 0.0, '001570': 0.0, '004020': 0.0, '004370': 0.0, '005380': 0.0, '005490': 0.0, '005830': 0.0, '005940': 0.0, '006260': 0.0, '006400': 0.0, '006800': 0.0, '007070': 0.14285714285714285, '008770': 0.0, '009150': 0.0, '009830': 0.0, '010120': 0.0, '010130': 0.0, '010620': 0.0, '010950': 0.0, '011070': 0.0, '011170': 0.0, '011780': 0.0, '012330': 0.0, '012450': 0.14285714285714285, '015760': 0.0, '016360': 0.0, '020150': 0.0, '021240': 0.0, '024110': 0.0, '029780': 0.0, '030200': 0.0, '032640': 0.0, '032830': 0.0, '033780': 0.0, '034020': 0.14285714285714285, '034220': 0.14285714285714285, '034730': 0.0, '035250': 0.0, '036460': 0.14285714285714285, '036570': 0.0, '039490': 0.0, '047050': 0.0, '051900': 0.0, '051910': 0.0, '052690': 0.0, '055550': 0.0, '066570': 0.0, '068270': 0.0, '071050': 0.0, '078930': 0.0, '086280': 0.0, '086790': 0.0, '096770': 0.0, '097950': 0.0, '105560': 0.0, '111770': 0.0, '128940': 0.0, '138040': 0.0, '138930': 0.0, '139480': 0.0, '161390': 0.0}\n",
      "Portfolio: {'000270': 0.0, '000660': 0.0, '000720': 0.0, '000810': 0.0, '000880': 0.0, '000990': 0.14285714285714285, '001450': 0.0, '001570': 0.0, '004020': 0.0, '004370': 0.0, '005380': 0.0, '005490': 0.0, '005830': 0.0, '005940': 0.0, '006260': 0.0, '006400': 0.0, '006800': 0.0, '007070': 0.0, '008770': 0.0, '009150': 0.0, '009830': 0.0, '010120': 0.0, '010130': 0.0, '010620': 0.0, '010950': 0.0, '011070': 0.14285714285714285, '011170': 0.0, '011780': 0.0, '012330': 0.0, '012450': 0.14285714285714285, '015760': 0.0, '016360': 0.0, '020150': 0.14285714285714285, '021240': 0.0, '024110': 0.0, '029780': 0.0, '030200': 0.14285714285714285, '032640': 0.0, '032830': 0.0, '033780': 0.0, '034020': 0.14285714285714285, '034220': 0.14285714285714285, '034730': 0.0, '035250': 0.0, '036460': 0.0, '036570': 0.0, '039490': 0.0, '047050': 0.0, '051900': 0.0, '051910': 0.0, '052690': 0.0, '055550': 0.0, '066570': 0.0, '068270': 0.0, '071050': 0.0, '078930': 0.0, '086280': 0.0, '086790': 0.0, '096770': 0.0, '097950': 0.0, '105560': 0.0, '111770': 0.0, '128940': 0.0, '138040': 0.0, '138930': 0.0, '139480': 0.0, '161390': 0.0}\n",
      "Portfolio: {'000270': 0.0, '000660': 0.14285714285714285, '000720': 0.0, '000810': 0.0, '000880': 0.0, '000990': 0.0, '001450': 0.0, '001570': 0.0, '004020': 0.0, '004370': 0.0, '005380': 0.0, '005490': 0.0, '005830': 0.0, '005940': 0.0, '006260': 0.0, '006400': 0.0, '006800': 0.0, '007070': 0.0, '008770': 0.0, '009150': 0.14285714285714285, '009830': 0.0, '010120': 0.0, '010130': 0.0, '010620': 0.0, '010950': 0.0, '011070': 0.0, '011170': 0.0, '011780': 0.14285714285714285, '012330': 0.0, '012450': 0.0, '015760': 0.0, '016360': 0.0, '020150': 0.0, '021240': 0.0, '024110': 0.0, '029780': 0.0, '030200': 0.0, '032640': 0.0, '032830': 0.0, '033780': 0.0, '034020': 0.14285714285714285, '034220': 0.14285714285714285, '034730': 0.0, '035250': 0.0, '036460': 0.0, '036570': 0.14285714285714285, '039490': 0.0, '047050': 0.14285714285714285, '051900': 0.0, '051910': 0.0, '052690': 0.0, '055550': 0.0, '066570': 0.0, '068270': 0.0, '071050': 0.0, '078930': 0.0, '086280': 0.0, '086790': 0.0, '096770': 0.0, '097950': 0.0, '105560': 0.0, '111770': 0.0, '128940': 0.0, '138040': 0.0, '138930': 0.0, '139480': 0.0, '161390': 0.0}\n",
      "Portfolio: {'000270': 0.0, '000660': 0.0, '000720': 0.14285714285714285, '000810': 0.0, '000880': 0.0, '000990': 0.0, '001450': 0.0, '001570': 0.0, '004020': 0.0, '004370': 0.0, '005380': 0.0, '005490': 0.0, '005830': 0.0, '005940': 0.0, '006260': 0.14285714285714285, '006400': 0.0, '006800': 0.0, '007070': 0.0, '008770': 0.0, '009150': 0.0, '009830': 0.0, '010120': 0.0, '010130': 0.0, '010620': 0.14285714285714285, '010950': 0.0, '011070': 0.14285714285714285, '011170': 0.0, '011780': 0.0, '012330': 0.0, '012450': 0.14285714285714285, '015760': 0.0, '016360': 0.0, '020150': 0.0, '021240': 0.0, '024110': 0.0, '029780': 0.0, '030200': 0.0, '032640': 0.0, '032830': 0.0, '033780': 0.0, '034020': 0.14285714285714285, '034220': 0.0, '034730': 0.0, '035250': 0.0, '036460': 0.0, '036570': 0.0, '039490': 0.0, '047050': 0.14285714285714285, '051900': 0.0, '051910': 0.0, '052690': 0.0, '055550': 0.0, '066570': 0.0, '068270': 0.0, '071050': 0.0, '078930': 0.0, '086280': 0.0, '086790': 0.0, '096770': 0.0, '097950': 0.0, '105560': 0.0, '111770': 0.0, '128940': 0.0, '138040': 0.0, '138930': 0.0, '139480': 0.0, '161390': 0.0}\n",
      "Portfolio: {'000270': 0.0, '000660': 0.0, '000720': 0.0, '000810': 0.0, '000880': 0.0, '000990': 0.14285714285714285, '001450': 0.0, '001570': 0.0, '004020': 0.0, '004370': 0.0, '005380': 0.0, '005490': 0.0, '005830': 0.0, '005940': 0.0, '006260': 0.0, '006400': 0.0, '006800': 0.0, '007070': 0.0, '008770': 0.0, '009150': 0.0, '009830': 0.0, '010120': 0.0, '010130': 0.0, '010620': 0.0, '010950': 0.14285714285714285, '011070': 0.14285714285714285, '011170': 0.0, '011780': 0.0, '012330': 0.0, '012450': 0.14285714285714285, '015760': 0.0, '016360': 0.0, '020150': 0.0, '021240': 0.0, '024110': 0.0, '029780': 0.0, '030200': 0.0, '032640': 0.0, '032830': 0.0, '033780': 0.0, '034020': 0.14285714285714285, '034220': 0.0, '034730': 0.0, '035250': 0.0, '036460': 0.0, '036570': 0.0, '039490': 0.0, '047050': 0.14285714285714285, '051900': 0.0, '051910': 0.0, '052690': 0.0, '055550': 0.0, '066570': 0.0, '068270': 0.0, '071050': 0.0, '078930': 0.0, '086280': 0.14285714285714285, '086790': 0.0, '096770': 0.0, '097950': 0.0, '105560': 0.0, '111770': 0.0, '128940': 0.0, '138040': 0.0, '138930': 0.0, '139480': 0.0, '161390': 0.0}\n",
      "Portfolio: {'000270': 0.0, '000660': 0.0, '000720': 0.0, '000810': 0.0, '000880': 0.0, '000990': 0.0, '001450': 0.0, '001570': 0.0, '004020': 0.0, '004370': 0.14285714285714285, '005380': 0.0, '005490': 0.0, '005830': 0.0, '005940': 0.0, '006260': 0.0, '006400': 0.14285714285714285, '006800': 0.0, '007070': 0.0, '008770': 0.0, '009150': 0.0, '009830': 0.0, '010120': 0.0, '010130': 0.0, '010620': 0.0, '010950': 0.0, '011070': 0.14285714285714285, '011170': 0.0, '011780': 0.0, '012330': 0.0, '012450': 0.14285714285714285, '015760': 0.14285714285714285, '016360': 0.0, '020150': 0.0, '021240': 0.0, '024110': 0.0, '029780': 0.0, '030200': 0.14285714285714285, '032640': 0.0, '032830': 0.0, '033780': 0.0, '034020': 0.0, '034220': 0.0, '034730': 0.0, '035250': 0.0, '036460': 0.0, '036570': 0.0, '039490': 0.0, '047050': 0.0, '051900': 0.0, '051910': 0.0, '052690': 0.0, '055550': 0.0, '066570': 0.0, '068270': 0.0, '071050': 0.0, '078930': 0.0, '086280': 0.0, '086790': 0.0, '096770': 0.0, '097950': 0.14285714285714285, '105560': 0.0, '111770': 0.0, '128940': 0.0, '138040': 0.0, '138930': 0.0, '139480': 0.0, '161390': 0.0}\n",
      "Portfolio: {'000270': 0.0, '000660': 0.0, '000720': 0.0, '000810': 0.0, '000880': 0.0, '000990': 0.0, '001450': 0.0, '001570': 0.0, '004020': 0.0, '004370': 0.0, '005380': 0.0, '005490': 0.0, '005830': 0.0, '005940': 0.0, '006260': 0.0, '006400': 0.14285714285714285, '006800': 0.0, '007070': 0.0, '008770': 0.0, '009150': 0.14285714285714285, '009830': 0.0, '010120': 0.14285714285714285, '010130': 0.0, '010620': 0.0, '010950': 0.0, '011070': 0.0, '011170': 0.0, '011780': 0.0, '012330': 0.0, '012450': 0.14285714285714285, '015760': 0.0, '016360': 0.0, '020150': 0.0, '021240': 0.0, '024110': 0.0, '029780': 0.0, '030200': 0.14285714285714285, '032640': 0.0, '032830': 0.0, '033780': 0.0, '034020': 0.0, '034220': 0.0, '034730': 0.0, '035250': 0.0, '036460': 0.0, '036570': 0.0, '039490': 0.0, '047050': 0.0, '051900': 0.0, '051910': 0.0, '052690': 0.0, '055550': 0.0, '066570': 0.0, '068270': 0.14285714285714285, '071050': 0.0, '078930': 0.0, '086280': 0.0, '086790': 0.0, '096770': 0.0, '097950': 0.0, '105560': 0.0, '111770': 0.0, '128940': 0.14285714285714285, '138040': 0.0, '138930': 0.0, '139480': 0.0, '161390': 0.0}\n",
      "Portfolio: {'000270': 0.0, '000660': 0.0, '000720': 0.0, '000810': 0.0, '000880': 0.14285714285714285, '000990': 0.0, '001450': 0.0, '001570': 0.0, '004020': 0.0, '004370': 0.0, '005380': 0.0, '005490': 0.0, '005830': 0.0, '005940': 0.0, '006260': 0.0, '006400': 0.0, '006800': 0.0, '007070': 0.0, '008770': 0.0, '009150': 0.0, '009830': 0.14285714285714285, '010120': 0.0, '010130': 0.0, '010620': 0.14285714285714285, '010950': 0.0, '011070': 0.0, '011170': 0.0, '011780': 0.0, '012330': 0.0, '012450': 0.0, '015760': 0.0, '016360': 0.0, '020150': 0.0, '021240': 0.0, '024110': 0.0, '029780': 0.0, '030200': 0.14285714285714285, '032640': 0.0, '032830': 0.0, '033780': 0.0, '034020': 0.0, '034220': 0.14285714285714285, '034730': 0.0, '035250': 0.0, '036460': 0.0, '036570': 0.0, '039490': 0.0, '047050': 0.0, '051900': 0.0, '051910': 0.0, '052690': 0.0, '055550': 0.0, '066570': 0.0, '068270': 0.14285714285714285, '071050': 0.0, '078930': 0.0, '086280': 0.0, '086790': 0.0, '096770': 0.0, '097950': 0.14285714285714285, '105560': 0.0, '111770': 0.0, '128940': 0.0, '138040': 0.0, '138930': 0.0, '139480': 0.0, '161390': 0.0}\n",
      "Portfolio: {'000270': 0.0, '000660': 0.0, '000720': 0.14285714285714285, '000810': 0.0, '000880': 0.0, '000990': 0.14285714285714285, '001450': 0.0, '001570': 0.0, '004020': 0.0, '004370': 0.0, '005380': 0.0, '005490': 0.0, '005830': 0.0, '005940': 0.0, '006260': 0.0, '006400': 0.0, '006800': 0.0, '007070': 0.0, '008770': 0.0, '009150': 0.0, '009830': 0.0, '010120': 0.0, '010130': 0.0, '010620': 0.14285714285714285, '010950': 0.0, '011070': 0.0, '011170': 0.0, '011780': 0.0, '012330': 0.0, '012450': 0.14285714285714285, '015760': 0.0, '016360': 0.14285714285714285, '020150': 0.0, '021240': 0.0, '024110': 0.0, '029780': 0.0, '030200': 0.0, '032640': 0.0, '032830': 0.0, '033780': 0.0, '034020': 0.0, '034220': 0.14285714285714285, '034730': 0.0, '035250': 0.0, '036460': 0.0, '036570': 0.0, '039490': 0.0, '047050': 0.0, '051900': 0.0, '051910': 0.14285714285714285, '052690': 0.0, '055550': 0.0, '066570': 0.0, '068270': 0.0, '071050': 0.0, '078930': 0.0, '086280': 0.0, '086790': 0.0, '096770': 0.0, '097950': 0.0, '105560': 0.0, '111770': 0.0, '128940': 0.0, '138040': 0.0, '138930': 0.0, '139480': 0.0, '161390': 0.0}\n",
      "Portfolio: {'000270': 0.0, '000660': 0.0, '000720': 0.14285714285714285, '000810': 0.0, '000880': 0.14285714285714285, '000990': 0.0, '001450': 0.0, '001570': 0.0, '004020': 0.0, '004370': 0.0, '005380': 0.14285714285714285, '005490': 0.0, '005830': 0.0, '005940': 0.0, '006260': 0.0, '006400': 0.0, '006800': 0.0, '007070': 0.0, '008770': 0.0, '009150': 0.0, '009830': 0.14285714285714285, '010120': 0.0, '010130': 0.0, '010620': 0.0, '010950': 0.0, '011070': 0.0, '011170': 0.0, '011780': 0.0, '012330': 0.0, '012450': 0.0, '015760': 0.0, '016360': 0.0, '020150': 0.0, '021240': 0.0, '024110': 0.0, '029780': 0.0, '030200': 0.0, '032640': 0.0, '032830': 0.0, '033780': 0.0, '034020': 0.0, '034220': 0.14285714285714285, '034730': 0.0, '035250': 0.0, '036460': 0.0, '036570': 0.0, '039490': 0.0, '047050': 0.0, '051900': 0.0, '051910': 0.0, '052690': 0.14285714285714285, '055550': 0.0, '066570': 0.0, '068270': 0.0, '071050': 0.0, '078930': 0.0, '086280': 0.14285714285714285, '086790': 0.0, '096770': 0.0, '097950': 0.0, '105560': 0.0, '111770': 0.0, '128940': 0.0, '138040': 0.0, '138930': 0.0, '139480': 0.0, '161390': 0.0}\n",
      "Portfolio: {'000270': 0.0, '000660': 0.0, '000720': 0.14285714285714285, '000810': 0.0, '000880': 0.14285714285714285, '000990': 0.0, '001450': 0.0, '001570': 0.0, '004020': 0.14285714285714285, '004370': 0.0, '005380': 0.0, '005490': 0.0, '005830': 0.0, '005940': 0.0, '006260': 0.0, '006400': 0.0, '006800': 0.0, '007070': 0.0, '008770': 0.0, '009150': 0.0, '009830': 0.14285714285714285, '010120': 0.0, '010130': 0.0, '010620': 0.14285714285714285, '010950': 0.0, '011070': 0.0, '011170': 0.0, '011780': 0.0, '012330': 0.0, '012450': 0.0, '015760': 0.0, '016360': 0.0, '020150': 0.0, '021240': 0.0, '024110': 0.0, '029780': 0.0, '030200': 0.0, '032640': 0.0, '032830': 0.0, '033780': 0.0, '034020': 0.0, '034220': 0.14285714285714285, '034730': 0.0, '035250': 0.0, '036460': 0.0, '036570': 0.0, '039490': 0.0, '047050': 0.0, '051900': 0.0, '051910': 0.0, '052690': 0.0, '055550': 0.0, '066570': 0.0, '068270': 0.0, '071050': 0.0, '078930': 0.0, '086280': 0.0, '086790': 0.0, '096770': 0.0, '097950': 0.0, '105560': 0.0, '111770': 0.0, '128940': 0.14285714285714285, '138040': 0.0, '138930': 0.0, '139480': 0.0, '161390': 0.0}\n",
      "Portfolio: {'000270': 0.0, '000660': 0.0, '000720': 0.0, '000810': 0.0, '000880': 0.0, '000990': 0.0, '001450': 0.0, '001570': 0.0, '004020': 0.0, '004370': 0.14285714285714285, '005380': 0.0, '005490': 0.0, '005830': 0.0, '005940': 0.0, '006260': 0.0, '006400': 0.0, '006800': 0.0, '007070': 0.14285714285714285, '008770': 0.14285714285714285, '009150': 0.0, '009830': 0.14285714285714285, '010120': 0.0, '010130': 0.0, '010620': 0.0, '010950': 0.0, '011070': 0.0, '011170': 0.0, '011780': 0.0, '012330': 0.0, '012450': 0.14285714285714285, '015760': 0.0, '016360': 0.0, '020150': 0.0, '021240': 0.0, '024110': 0.0, '029780': 0.0, '030200': 0.0, '032640': 0.0, '032830': 0.0, '033780': 0.0, '034020': 0.0, '034220': 0.0, '034730': 0.0, '035250': 0.0, '036460': 0.0, '036570': 0.0, '039490': 0.0, '047050': 0.14285714285714285, '051900': 0.0, '051910': 0.0, '052690': 0.0, '055550': 0.0, '066570': 0.14285714285714285, '068270': 0.0, '071050': 0.0, '078930': 0.0, '086280': 0.0, '086790': 0.0, '096770': 0.0, '097950': 0.0, '105560': 0.0, '111770': 0.0, '128940': 0.0, '138040': 0.0, '138930': 0.0, '139480': 0.0, '161390': 0.0}\n",
      "Portfolio: {'000270': 0.0, '000660': 0.0, '000720': 0.0, '000810': 0.0, '000880': 0.0, '000990': 0.0, '001450': 0.0, '001570': 0.0, '004020': 0.0, '004370': 0.14285714285714285, '005380': 0.0, '005490': 0.0, '005830': 0.0, '005940': 0.0, '006260': 0.14285714285714285, '006400': 0.0, '006800': 0.0, '007070': 0.0, '008770': 0.0, '009150': 0.0, '009830': 0.14285714285714285, '010120': 0.0, '010130': 0.0, '010620': 0.0, '010950': 0.0, '011070': 0.14285714285714285, '011170': 0.14285714285714285, '011780': 0.0, '012330': 0.0, '012450': 0.0, '015760': 0.0, '016360': 0.0, '020150': 0.0, '021240': 0.0, '024110': 0.0, '029780': 0.0, '030200': 0.0, '032640': 0.0, '032830': 0.0, '033780': 0.0, '034020': 0.0, '034220': 0.0, '034730': 0.0, '035250': 0.0, '036460': 0.0, '036570': 0.0, '039490': 0.0, '047050': 0.14285714285714285, '051900': 0.0, '051910': 0.0, '052690': 0.0, '055550': 0.0, '066570': 0.0, '068270': 0.0, '071050': 0.0, '078930': 0.0, '086280': 0.0, '086790': 0.0, '096770': 0.0, '097950': 0.0, '105560': 0.0, '111770': 0.0, '128940': 0.0, '138040': 0.0, '138930': 0.14285714285714285, '139480': 0.0, '161390': 0.0}\n",
      "Portfolio: {'000270': 0.0, '000660': 0.0, '000720': 0.0, '000810': 0.0, '000880': 0.0, '000990': 0.0, '001450': 0.0, '001570': 0.0, '004020': 0.0, '004370': 0.0, '005380': 0.0, '005490': 0.14285714285714285, '005830': 0.0, '005940': 0.0, '006260': 0.0, '006400': 0.0, '006800': 0.0, '007070': 0.0, '008770': 0.0, '009150': 0.14285714285714285, '009830': 0.14285714285714285, '010120': 0.0, '010130': 0.0, '010620': 0.0, '010950': 0.0, '011070': 0.14285714285714285, '011170': 0.14285714285714285, '011780': 0.0, '012330': 0.0, '012450': 0.0, '015760': 0.0, '016360': 0.0, '020150': 0.0, '021240': 0.0, '024110': 0.0, '029780': 0.0, '030200': 0.0, '032640': 0.0, '032830': 0.0, '033780': 0.0, '034020': 0.0, '034220': 0.14285714285714285, '034730': 0.0, '035250': 0.0, '036460': 0.0, '036570': 0.0, '039490': 0.0, '047050': 0.0, '051900': 0.0, '051910': 0.0, '052690': 0.0, '055550': 0.0, '066570': 0.14285714285714285, '068270': 0.0, '071050': 0.0, '078930': 0.0, '086280': 0.0, '086790': 0.0, '096770': 0.0, '097950': 0.0, '105560': 0.0, '111770': 0.0, '128940': 0.0, '138040': 0.0, '138930': 0.0, '139480': 0.0, '161390': 0.0}\n",
      "Portfolio: {'000270': 0.0, '000660': 0.0, '000720': 0.0, '000810': 0.0, '000880': 0.0, '000990': 0.14285714285714285, '001450': 0.0, '001570': 0.0, '004020': 0.14285714285714285, '004370': 0.0, '005380': 0.0, '005490': 0.0, '005830': 0.0, '005940': 0.0, '006260': 0.14285714285714285, '006400': 0.0, '006800': 0.0, '007070': 0.0, '008770': 0.14285714285714285, '009150': 0.14285714285714285, '009830': 0.0, '010120': 0.14285714285714285, '010130': 0.0, '010620': 0.0, '010950': 0.0, '011070': 0.0, '011170': 0.0, '011780': 0.0, '012330': 0.0, '012450': 0.0, '015760': 0.0, '016360': 0.0, '020150': 0.0, '021240': 0.0, '024110': 0.0, '029780': 0.0, '030200': 0.0, '032640': 0.0, '032830': 0.0, '033780': 0.0, '034020': 0.0, '034220': 0.0, '034730': 0.0, '035250': 0.0, '036460': 0.0, '036570': 0.0, '039490': 0.14285714285714285, '047050': 0.0, '051900': 0.0, '051910': 0.0, '052690': 0.0, '055550': 0.0, '066570': 0.0, '068270': 0.0, '071050': 0.0, '078930': 0.0, '086280': 0.0, '086790': 0.0, '096770': 0.0, '097950': 0.0, '105560': 0.0, '111770': 0.0, '128940': 0.0, '138040': 0.0, '138930': 0.0, '139480': 0.0, '161390': 0.0}\n",
      "Portfolio: {'000270': 0.0, '000660': 0.0, '000720': 0.0, '000810': 0.0, '000880': 0.0, '000990': 0.0, '001450': 0.0, '001570': 0.0, '004020': 0.0, '004370': 0.0, '005380': 0.0, '005490': 0.14285714285714285, '005830': 0.0, '005940': 0.0, '006260': 0.0, '006400': 0.14285714285714285, '006800': 0.0, '007070': 0.0, '008770': 0.14285714285714285, '009150': 0.14285714285714285, '009830': 0.0, '010120': 0.14285714285714285, '010130': 0.0, '010620': 0.0, '010950': 0.0, '011070': 0.14285714285714285, '011170': 0.0, '011780': 0.0, '012330': 0.0, '012450': 0.0, '015760': 0.0, '016360': 0.0, '020150': 0.14285714285714285, '021240': 0.0, '024110': 0.0, '029780': 0.0, '030200': 0.0, '032640': 0.0, '032830': 0.0, '033780': 0.0, '034020': 0.0, '034220': 0.0, '034730': 0.0, '035250': 0.0, '036460': 0.0, '036570': 0.0, '039490': 0.0, '047050': 0.0, '051900': 0.0, '051910': 0.0, '052690': 0.0, '055550': 0.0, '066570': 0.0, '068270': 0.0, '071050': 0.0, '078930': 0.0, '086280': 0.0, '086790': 0.0, '096770': 0.0, '097950': 0.0, '105560': 0.0, '111770': 0.0, '128940': 0.0, '138040': 0.0, '138930': 0.0, '139480': 0.0, '161390': 0.0}\n",
      "Portfolio: {'000270': 0.0, '000660': 0.0, '000720': 0.0, '000810': 0.0, '000880': 0.0, '000990': 0.0, '001450': 0.0, '001570': 0.0, '004020': 0.0, '004370': 0.0, '005380': 0.0, '005490': 0.0, '005830': 0.0, '005940': 0.0, '006260': 0.14285714285714285, '006400': 0.0, '006800': 0.0, '007070': 0.0, '008770': 0.14285714285714285, '009150': 0.14285714285714285, '009830': 0.0, '010120': 0.0, '010130': 0.0, '010620': 0.0, '010950': 0.0, '011070': 0.14285714285714285, '011170': 0.0, '011780': 0.0, '012330': 0.0, '012450': 0.0, '015760': 0.0, '016360': 0.0, '020150': 0.0, '021240': 0.0, '024110': 0.0, '029780': 0.0, '030200': 0.0, '032640': 0.0, '032830': 0.0, '033780': 0.0, '034020': 0.14285714285714285, '034220': 0.0, '034730': 0.0, '035250': 0.0, '036460': 0.0, '036570': 0.0, '039490': 0.14285714285714285, '047050': 0.0, '051900': 0.0, '051910': 0.0, '052690': 0.0, '055550': 0.0, '066570': 0.14285714285714285, '068270': 0.0, '071050': 0.0, '078930': 0.0, '086280': 0.0, '086790': 0.0, '096770': 0.0, '097950': 0.0, '105560': 0.0, '111770': 0.0, '128940': 0.0, '138040': 0.0, '138930': 0.0, '139480': 0.0, '161390': 0.0}\n",
      "Portfolio: {'000270': 0.0, '000660': 0.0, '000720': 0.0, '000810': 0.0, '000880': 0.0, '000990': 0.0, '001450': 0.14285714285714285, '001570': 0.0, '004020': 0.0, '004370': 0.0, '005380': 0.0, '005490': 0.0, '005830': 0.0, '005940': 0.0, '006260': 0.0, '006400': 0.0, '006800': 0.0, '007070': 0.14285714285714285, '008770': 0.14285714285714285, '009150': 0.0, '009830': 0.0, '010120': 0.0, '010130': 0.0, '010620': 0.0, '010950': 0.0, '011070': 0.0, '011170': 0.0, '011780': 0.0, '012330': 0.0, '012450': 0.0, '015760': 0.0, '016360': 0.0, '020150': 0.0, '021240': 0.0, '024110': 0.0, '029780': 0.0, '030200': 0.14285714285714285, '032640': 0.14285714285714285, '032830': 0.0, '033780': 0.0, '034020': 0.0, '034220': 0.0, '034730': 0.0, '035250': 0.0, '036460': 0.0, '036570': 0.0, '039490': 0.0, '047050': 0.0, '051900': 0.0, '051910': 0.0, '052690': 0.0, '055550': 0.0, '066570': 0.0, '068270': 0.0, '071050': 0.0, '078930': 0.0, '086280': 0.0, '086790': 0.0, '096770': 0.0, '097950': 0.0, '105560': 0.0, '111770': 0.14285714285714285, '128940': 0.14285714285714285, '138040': 0.0, '138930': 0.0, '139480': 0.0, '161390': 0.0}\n",
      "Portfolio: {'000270': 0.0, '000660': 0.0, '000720': 0.0, '000810': 0.0, '000880': 0.0, '000990': 0.14285714285714285, '001450': 0.0, '001570': 0.0, '004020': 0.0, '004370': 0.0, '005380': 0.0, '005490': 0.0, '005830': 0.0, '005940': 0.0, '006260': 0.0, '006400': 0.0, '006800': 0.0, '007070': 0.0, '008770': 0.0, '009150': 0.14285714285714285, '009830': 0.0, '010120': 0.0, '010130': 0.0, '010620': 0.0, '010950': 0.0, '011070': 0.0, '011170': 0.0, '011780': 0.0, '012330': 0.0, '012450': 0.0, '015760': 0.0, '016360': 0.0, '020150': 0.0, '021240': 0.0, '024110': 0.0, '029780': 0.0, '030200': 0.0, '032640': 0.0, '032830': 0.0, '033780': 0.0, '034020': 0.14285714285714285, '034220': 0.0, '034730': 0.0, '035250': 0.0, '036460': 0.0, '036570': 0.0, '039490': 0.14285714285714285, '047050': 0.0, '051900': 0.0, '051910': 0.0, '052690': 0.0, '055550': 0.0, '066570': 0.0, '068270': 0.0, '071050': 0.0, '078930': 0.0, '086280': 0.0, '086790': 0.0, '096770': 0.0, '097950': 0.14285714285714285, '105560': 0.14285714285714285, '111770': 0.0, '128940': 0.0, '138040': 0.0, '138930': 0.0, '139480': 0.14285714285714285, '161390': 0.0}\n",
      "Portfolio: {'000270': 0.0, '000660': 0.0, '000720': 0.0, '000810': 0.0, '000880': 0.0, '000990': 0.0, '001450': 0.0, '001570': 0.0, '004020': 0.0, '004370': 0.0, '005380': 0.0, '005490': 0.0, '005830': 0.0, '005940': 0.0, '006260': 0.0, '006400': 0.14285714285714285, '006800': 0.0, '007070': 0.0, '008770': 0.0, '009150': 0.14285714285714285, '009830': 0.0, '010120': 0.14285714285714285, '010130': 0.0, '010620': 0.14285714285714285, '010950': 0.14285714285714285, '011070': 0.0, '011170': 0.0, '011780': 0.0, '012330': 0.0, '012450': 0.0, '015760': 0.0, '016360': 0.0, '020150': 0.14285714285714285, '021240': 0.0, '024110': 0.0, '029780': 0.0, '030200': 0.0, '032640': 0.0, '032830': 0.0, '033780': 0.0, '034020': 0.14285714285714285, '034220': 0.0, '034730': 0.0, '035250': 0.0, '036460': 0.0, '036570': 0.0, '039490': 0.0, '047050': 0.0, '051900': 0.0, '051910': 0.0, '052690': 0.0, '055550': 0.0, '066570': 0.0, '068270': 0.0, '071050': 0.0, '078930': 0.0, '086280': 0.0, '086790': 0.0, '096770': 0.0, '097950': 0.0, '105560': 0.0, '111770': 0.0, '128940': 0.0, '138040': 0.0, '138930': 0.0, '139480': 0.0, '161390': 0.0}\n",
      "Portfolio: {'000270': 0.0, '000660': 0.0, '000720': 0.0, '000810': 0.0, '000880': 0.0, '000990': 0.0, '001450': 0.0, '001570': 0.0, '004020': 0.0, '004370': 0.0, '005380': 0.0, '005490': 0.0, '005830': 0.0, '005940': 0.0, '006260': 0.14285714285714285, '006400': 0.0, '006800': 0.0, '007070': 0.0, '008770': 0.0, '009150': 0.0, '009830': 0.0, '010120': 0.0, '010130': 0.0, '010620': 0.0, '010950': 0.0, '011070': 0.0, '011170': 0.14285714285714285, '011780': 0.0, '012330': 0.0, '012450': 0.14285714285714285, '015760': 0.0, '016360': 0.0, '020150': 0.0, '021240': 0.0, '024110': 0.0, '029780': 0.0, '030200': 0.14285714285714285, '032640': 0.14285714285714285, '032830': 0.0, '033780': 0.0, '034020': 0.14285714285714285, '034220': 0.0, '034730': 0.0, '035250': 0.0, '036460': 0.0, '036570': 0.0, '039490': 0.0, '047050': 0.0, '051900': 0.0, '051910': 0.0, '052690': 0.0, '055550': 0.0, '066570': 0.0, '068270': 0.0, '071050': 0.0, '078930': 0.0, '086280': 0.0, '086790': 0.0, '096770': 0.0, '097950': 0.0, '105560': 0.0, '111770': 0.0, '128940': 0.14285714285714285, '138040': 0.0, '138930': 0.0, '139480': 0.0, '161390': 0.0}\n",
      "Portfolio: {'000270': 0.0, '000660': 0.0, '000720': 0.0, '000810': 0.0, '000880': 0.14285714285714285, '000990': 0.0, '001450': 0.14285714285714285, '001570': 0.0, '004020': 0.0, '004370': 0.0, '005380': 0.0, '005490': 0.0, '005830': 0.0, '005940': 0.0, '006260': 0.0, '006400': 0.0, '006800': 0.0, '007070': 0.0, '008770': 0.0, '009150': 0.14285714285714285, '009830': 0.0, '010120': 0.0, '010130': 0.0, '010620': 0.0, '010950': 0.0, '011070': 0.0, '011170': 0.0, '011780': 0.0, '012330': 0.0, '012450': 0.0, '015760': 0.0, '016360': 0.0, '020150': 0.0, '021240': 0.0, '024110': 0.0, '029780': 0.0, '030200': 0.0, '032640': 0.0, '032830': 0.0, '033780': 0.0, '034020': 0.14285714285714285, '034220': 0.14285714285714285, '034730': 0.0, '035250': 0.0, '036460': 0.14285714285714285, '036570': 0.0, '039490': 0.0, '047050': 0.0, '051900': 0.0, '051910': 0.0, '052690': 0.0, '055550': 0.0, '066570': 0.0, '068270': 0.0, '071050': 0.0, '078930': 0.0, '086280': 0.0, '086790': 0.0, '096770': 0.0, '097950': 0.0, '105560': 0.0, '111770': 0.0, '128940': 0.0, '138040': 0.0, '138930': 0.0, '139480': 0.14285714285714285, '161390': 0.0}\n",
      "Portfolio: {'000270': 0.0, '000660': 0.0, '000720': 0.0, '000810': 0.0, '000880': 0.0, '000990': 0.14285714285714285, '001450': 0.14285714285714285, '001570': 0.0, '004020': 0.0, '004370': 0.0, '005380': 0.0, '005490': 0.0, '005830': 0.0, '005940': 0.0, '006260': 0.0, '006400': 0.0, '006800': 0.0, '007070': 0.0, '008770': 0.14285714285714285, '009150': 0.14285714285714285, '009830': 0.0, '010120': 0.0, '010130': 0.0, '010620': 0.0, '010950': 0.0, '011070': 0.0, '011170': 0.0, '011780': 0.0, '012330': 0.0, '012450': 0.0, '015760': 0.14285714285714285, '016360': 0.0, '020150': 0.0, '021240': 0.0, '024110': 0.0, '029780': 0.0, '030200': 0.0, '032640': 0.0, '032830': 0.0, '033780': 0.0, '034020': 0.0, '034220': 0.0, '034730': 0.0, '035250': 0.0, '036460': 0.0, '036570': 0.0, '039490': 0.0, '047050': 0.0, '051900': 0.0, '051910': 0.0, '052690': 0.0, '055550': 0.0, '066570': 0.0, '068270': 0.0, '071050': 0.0, '078930': 0.0, '086280': 0.0, '086790': 0.0, '096770': 0.14285714285714285, '097950': 0.0, '105560': 0.0, '111770': 0.0, '128940': 0.0, '138040': 0.0, '138930': 0.0, '139480': 0.14285714285714285, '161390': 0.0}\n",
      "Portfolio: {'000270': 0.0, '000660': 0.0, '000720': 0.14285714285714285, '000810': 0.0, '000880': 0.0, '000990': 0.0, '001450': 0.0, '001570': 0.0, '004020': 0.0, '004370': 0.0, '005380': 0.0, '005490': 0.0, '005830': 0.0, '005940': 0.0, '006260': 0.0, '006400': 0.0, '006800': 0.0, '007070': 0.0, '008770': 0.14285714285714285, '009150': 0.0, '009830': 0.0, '010120': 0.0, '010130': 0.0, '010620': 0.14285714285714285, '010950': 0.0, '011070': 0.0, '011170': 0.0, '011780': 0.14285714285714285, '012330': 0.0, '012450': 0.0, '015760': 0.0, '016360': 0.0, '020150': 0.0, '021240': 0.0, '024110': 0.0, '029780': 0.0, '030200': 0.0, '032640': 0.0, '032830': 0.0, '033780': 0.0, '034020': 0.0, '034220': 0.14285714285714285, '034730': 0.0, '035250': 0.0, '036460': 0.0, '036570': 0.0, '039490': 0.0, '047050': 0.0, '051900': 0.0, '051910': 0.0, '052690': 0.0, '055550': 0.0, '066570': 0.14285714285714285, '068270': 0.0, '071050': 0.0, '078930': 0.0, '086280': 0.0, '086790': 0.0, '096770': 0.0, '097950': 0.0, '105560': 0.0, '111770': 0.0, '128940': 0.14285714285714285, '138040': 0.0, '138930': 0.0, '139480': 0.0, '161390': 0.0}\n",
      "Portfolio: {'000270': 0.0, '000660': 0.0, '000720': 0.0, '000810': 0.0, '000880': 0.0, '000990': 0.0, '001450': 0.0, '001570': 0.0, '004020': 0.0, '004370': 0.0, '005380': 0.0, '005490': 0.0, '005830': 0.0, '005940': 0.0, '006260': 0.0, '006400': 0.0, '006800': 0.0, '007070': 0.0, '008770': 0.0, '009150': 0.0, '009830': 0.14285714285714285, '010120': 0.0, '010130': 0.0, '010620': 0.0, '010950': 0.0, '011070': 0.14285714285714285, '011170': 0.0, '011780': 0.14285714285714285, '012330': 0.0, '012450': 0.0, '015760': 0.0, '016360': 0.0, '020150': 0.0, '021240': 0.0, '024110': 0.0, '029780': 0.0, '030200': 0.0, '032640': 0.0, '032830': 0.0, '033780': 0.0, '034020': 0.0, '034220': 0.14285714285714285, '034730': 0.0, '035250': 0.0, '036460': 0.14285714285714285, '036570': 0.0, '039490': 0.14285714285714285, '047050': 0.0, '051900': 0.0, '051910': 0.0, '052690': 0.0, '055550': 0.0, '066570': 0.0, '068270': 0.0, '071050': 0.0, '078930': 0.0, '086280': 0.0, '086790': 0.0, '096770': 0.0, '097950': 0.14285714285714285, '105560': 0.0, '111770': 0.0, '128940': 0.0, '138040': 0.0, '138930': 0.0, '139480': 0.0, '161390': 0.0}\n",
      "Portfolio: {'000270': 0.0, '000660': 0.0, '000720': 0.0, '000810': 0.0, '000880': 0.0, '000990': 0.0, '001450': 0.0, '001570': 0.0, '004020': 0.0, '004370': 0.0, '005380': 0.0, '005490': 0.0, '005830': 0.0, '005940': 0.0, '006260': 0.0, '006400': 0.14285714285714285, '006800': 0.0, '007070': 0.0, '008770': 0.0, '009150': 0.0, '009830': 0.0, '010120': 0.0, '010130': 0.0, '010620': 0.0, '010950': 0.0, '011070': 0.0, '011170': 0.0, '011780': 0.14285714285714285, '012330': 0.0, '012450': 0.0, '015760': 0.0, '016360': 0.0, '020150': 0.14285714285714285, '021240': 0.0, '024110': 0.0, '029780': 0.0, '030200': 0.0, '032640': 0.0, '032830': 0.0, '033780': 0.0, '034020': 0.14285714285714285, '034220': 0.14285714285714285, '034730': 0.0, '035250': 0.0, '036460': 0.0, '036570': 0.0, '039490': 0.0, '047050': 0.0, '051900': 0.0, '051910': 0.14285714285714285, '052690': 0.0, '055550': 0.0, '066570': 0.0, '068270': 0.0, '071050': 0.0, '078930': 0.0, '086280': 0.0, '086790': 0.0, '096770': 0.0, '097950': 0.0, '105560': 0.0, '111770': 0.0, '128940': 0.0, '138040': 0.0, '138930': 0.0, '139480': 0.14285714285714285, '161390': 0.0}\n",
      "Portfolio: {'000270': 0.0, '000660': 0.0, '000720': 0.0, '000810': 0.0, '000880': 0.0, '000990': 0.0, '001450': 0.0, '001570': 0.14285714285714285, '004020': 0.14285714285714285, '004370': 0.0, '005380': 0.14285714285714285, '005490': 0.0, '005830': 0.0, '005940': 0.0, '006260': 0.0, '006400': 0.0, '006800': 0.0, '007070': 0.0, '008770': 0.14285714285714285, '009150': 0.0, '009830': 0.14285714285714285, '010120': 0.0, '010130': 0.0, '010620': 0.0, '010950': 0.0, '011070': 0.0, '011170': 0.0, '011780': 0.0, '012330': 0.0, '012450': 0.0, '015760': 0.0, '016360': 0.0, '020150': 0.0, '021240': 0.0, '024110': 0.14285714285714285, '029780': 0.0, '030200': 0.14285714285714285, '032640': 0.0, '032830': 0.0, '033780': 0.0, '034020': 0.0, '034220': 0.0, '034730': 0.0, '035250': 0.0, '036460': 0.0, '036570': 0.0, '039490': 0.0, '047050': 0.0, '051900': 0.0, '051910': 0.0, '052690': 0.0, '055550': 0.0, '066570': 0.0, '068270': 0.0, '071050': 0.0, '078930': 0.0, '086280': 0.0, '086790': 0.0, '096770': 0.0, '097950': 0.0, '105560': 0.0, '111770': 0.0, '128940': 0.0, '138040': 0.0, '138930': 0.0, '139480': 0.0, '161390': 0.0}\n",
      "Portfolio: {'000270': 0.0, '000660': 0.0, '000720': 0.0, '000810': 0.0, '000880': 0.0, '000990': 0.0, '001450': 0.0, '001570': 0.0, '004020': 0.14285714285714285, '004370': 0.0, '005380': 0.0, '005490': 0.0, '005830': 0.0, '005940': 0.0, '006260': 0.14285714285714285, '006400': 0.0, '006800': 0.0, '007070': 0.0, '008770': 0.0, '009150': 0.0, '009830': 0.0, '010120': 0.0, '010130': 0.0, '010620': 0.0, '010950': 0.0, '011070': 0.0, '011170': 0.0, '011780': 0.0, '012330': 0.0, '012450': 0.0, '015760': 0.0, '016360': 0.0, '020150': 0.0, '021240': 0.0, '024110': 0.14285714285714285, '029780': 0.0, '030200': 0.0, '032640': 0.0, '032830': 0.0, '033780': 0.14285714285714285, '034020': 0.14285714285714285, '034220': 0.0, '034730': 0.0, '035250': 0.0, '036460': 0.0, '036570': 0.0, '039490': 0.0, '047050': 0.0, '051900': 0.0, '051910': 0.0, '052690': 0.0, '055550': 0.0, '066570': 0.0, '068270': 0.14285714285714285, '071050': 0.0, '078930': 0.0, '086280': 0.0, '086790': 0.0, '096770': 0.14285714285714285, '097950': 0.0, '105560': 0.0, '111770': 0.0, '128940': 0.0, '138040': 0.0, '138930': 0.0, '139480': 0.0, '161390': 0.0}\n",
      "Portfolio: {'000270': 0.0, '000660': 0.0, '000720': 0.0, '000810': 0.0, '000880': 0.0, '000990': 0.0, '001450': 0.0, '001570': 0.0, '004020': 0.0, '004370': 0.0, '005380': 0.0, '005490': 0.0, '005830': 0.0, '005940': 0.0, '006260': 0.0, '006400': 0.0, '006800': 0.0, '007070': 0.0, '008770': 0.0, '009150': 0.0, '009830': 0.0, '010120': 0.0, '010130': 0.0, '010620': 0.0, '010950': 0.0, '011070': 0.0, '011170': 0.0, '011780': 0.0, '012330': 0.0, '012450': 0.14285714285714285, '015760': 0.0, '016360': 0.0, '020150': 0.0, '021240': 0.0, '024110': 0.14285714285714285, '029780': 0.0, '030200': 0.14285714285714285, '032640': 0.0, '032830': 0.0, '033780': 0.14285714285714285, '034020': 0.14285714285714285, '034220': 0.0, '034730': 0.0, '035250': 0.0, '036460': 0.14285714285714285, '036570': 0.0, '039490': 0.0, '047050': 0.0, '051900': 0.0, '051910': 0.0, '052690': 0.0, '055550': 0.0, '066570': 0.0, '068270': 0.0, '071050': 0.0, '078930': 0.0, '086280': 0.0, '086790': 0.0, '096770': 0.0, '097950': 0.0, '105560': 0.0, '111770': 0.0, '128940': 0.14285714285714285, '138040': 0.0, '138930': 0.0, '139480': 0.0, '161390': 0.0}\n",
      "Portfolio: {'000270': 0.0, '000660': 0.0, '000720': 0.14285714285714285, '000810': 0.0, '000880': 0.0, '000990': 0.0, '001450': 0.0, '001570': 0.0, '004020': 0.0, '004370': 0.0, '005380': 0.0, '005490': 0.0, '005830': 0.0, '005940': 0.14285714285714285, '006260': 0.14285714285714285, '006400': 0.0, '006800': 0.0, '007070': 0.0, '008770': 0.0, '009150': 0.0, '009830': 0.0, '010120': 0.0, '010130': 0.0, '010620': 0.0, '010950': 0.14285714285714285, '011070': 0.0, '011170': 0.0, '011780': 0.0, '012330': 0.0, '012450': 0.0, '015760': 0.0, '016360': 0.0, '020150': 0.0, '021240': 0.0, '024110': 0.0, '029780': 0.0, '030200': 0.0, '032640': 0.0, '032830': 0.0, '033780': 0.0, '034020': 0.0, '034220': 0.0, '034730': 0.0, '035250': 0.0, '036460': 0.14285714285714285, '036570': 0.0, '039490': 0.0, '047050': 0.0, '051900': 0.0, '051910': 0.0, '052690': 0.0, '055550': 0.0, '066570': 0.0, '068270': 0.0, '071050': 0.0, '078930': 0.0, '086280': 0.0, '086790': 0.0, '096770': 0.14285714285714285, '097950': 0.0, '105560': 0.0, '111770': 0.0, '128940': 0.0, '138040': 0.0, '138930': 0.0, '139480': 0.14285714285714285, '161390': 0.0}\n",
      "Portfolio: {'000270': 0.0, '000660': 0.0, '000720': 0.14285714285714285, '000810': 0.0, '000880': 0.0, '000990': 0.0, '001450': 0.0, '001570': 0.0, '004020': 0.0, '004370': 0.0, '005380': 0.0, '005490': 0.0, '005830': 0.0, '005940': 0.0, '006260': 0.14285714285714285, '006400': 0.0, '006800': 0.0, '007070': 0.0, '008770': 0.14285714285714285, '009150': 0.0, '009830': 0.0, '010120': 0.0, '010130': 0.0, '010620': 0.14285714285714285, '010950': 0.0, '011070': 0.0, '011170': 0.0, '011780': 0.0, '012330': 0.0, '012450': 0.0, '015760': 0.14285714285714285, '016360': 0.0, '020150': 0.0, '021240': 0.0, '024110': 0.0, '029780': 0.0, '030200': 0.0, '032640': 0.0, '032830': 0.0, '033780': 0.0, '034020': 0.14285714285714285, '034220': 0.0, '034730': 0.0, '035250': 0.0, '036460': 0.0, '036570': 0.0, '039490': 0.0, '047050': 0.0, '051900': 0.0, '051910': 0.0, '052690': 0.0, '055550': 0.14285714285714285, '066570': 0.0, '068270': 0.0, '071050': 0.0, '078930': 0.0, '086280': 0.0, '086790': 0.0, '096770': 0.0, '097950': 0.0, '105560': 0.0, '111770': 0.0, '128940': 0.0, '138040': 0.0, '138930': 0.0, '139480': 0.0, '161390': 0.0}\n",
      "Portfolio: {'000270': 0.0, '000660': 0.0, '000720': 0.0, '000810': 0.0, '000880': 0.0, '000990': 0.14285714285714285, '001450': 0.0, '001570': 0.0, '004020': 0.0, '004370': 0.0, '005380': 0.14285714285714285, '005490': 0.0, '005830': 0.0, '005940': 0.0, '006260': 0.14285714285714285, '006400': 0.14285714285714285, '006800': 0.0, '007070': 0.0, '008770': 0.0, '009150': 0.0, '009830': 0.0, '010120': 0.0, '010130': 0.0, '010620': 0.0, '010950': 0.0, '011070': 0.14285714285714285, '011170': 0.0, '011780': 0.0, '012330': 0.0, '012450': 0.0, '015760': 0.0, '016360': 0.0, '020150': 0.14285714285714285, '021240': 0.0, '024110': 0.0, '029780': 0.0, '030200': 0.0, '032640': 0.0, '032830': 0.0, '033780': 0.0, '034020': 0.0, '034220': 0.0, '034730': 0.0, '035250': 0.0, '036460': 0.0, '036570': 0.0, '039490': 0.0, '047050': 0.0, '051900': 0.0, '051910': 0.0, '052690': 0.0, '055550': 0.0, '066570': 0.0, '068270': 0.0, '071050': 0.0, '078930': 0.0, '086280': 0.0, '086790': 0.0, '096770': 0.14285714285714285, '097950': 0.0, '105560': 0.0, '111770': 0.0, '128940': 0.0, '138040': 0.0, '138930': 0.0, '139480': 0.0, '161390': 0.0}\n",
      "Portfolio: {'000270': 0.0, '000660': 0.0, '000720': 0.0, '000810': 0.0, '000880': 0.0, '000990': 0.0, '001450': 0.0, '001570': 0.0, '004020': 0.14285714285714285, '004370': 0.0, '005380': 0.14285714285714285, '005490': 0.0, '005830': 0.0, '005940': 0.0, '006260': 0.0, '006400': 0.0, '006800': 0.0, '007070': 0.0, '008770': 0.0, '009150': 0.0, '009830': 0.0, '010120': 0.0, '010130': 0.0, '010620': 0.0, '010950': 0.0, '011070': 0.0, '011170': 0.0, '011780': 0.0, '012330': 0.0, '012450': 0.14285714285714285, '015760': 0.0, '016360': 0.0, '020150': 0.14285714285714285, '021240': 0.0, '024110': 0.14285714285714285, '029780': 0.0, '030200': 0.0, '032640': 0.0, '032830': 0.0, '033780': 0.0, '034020': 0.0, '034220': 0.14285714285714285, '034730': 0.0, '035250': 0.0, '036460': 0.0, '036570': 0.0, '039490': 0.0, '047050': 0.0, '051900': 0.0, '051910': 0.0, '052690': 0.0, '055550': 0.0, '066570': 0.0, '068270': 0.0, '071050': 0.0, '078930': 0.0, '086280': 0.0, '086790': 0.0, '096770': 0.0, '097950': 0.0, '105560': 0.14285714285714285, '111770': 0.0, '128940': 0.0, '138040': 0.0, '138930': 0.0, '139480': 0.0, '161390': 0.0}\n",
      "Portfolio: {'000270': 0.0, '000660': 0.0, '000720': 0.0, '000810': 0.0, '000880': 0.0, '000990': 0.14285714285714285, '001450': 0.0, '001570': 0.0, '004020': 0.0, '004370': 0.0, '005380': 0.0, '005490': 0.0, '005830': 0.0, '005940': 0.0, '006260': 0.0, '006400': 0.0, '006800': 0.0, '007070': 0.0, '008770': 0.14285714285714285, '009150': 0.0, '009830': 0.0, '010120': 0.0, '010130': 0.0, '010620': 0.0, '010950': 0.0, '011070': 0.0, '011170': 0.14285714285714285, '011780': 0.0, '012330': 0.0, '012450': 0.0, '015760': 0.0, '016360': 0.14285714285714285, '020150': 0.0, '021240': 0.0, '024110': 0.0, '029780': 0.0, '030200': 0.0, '032640': 0.0, '032830': 0.0, '033780': 0.0, '034020': 0.0, '034220': 0.14285714285714285, '034730': 0.0, '035250': 0.0, '036460': 0.0, '036570': 0.0, '039490': 0.0, '047050': 0.0, '051900': 0.0, '051910': 0.0, '052690': 0.0, '055550': 0.0, '066570': 0.0, '068270': 0.0, '071050': 0.0, '078930': 0.0, '086280': 0.0, '086790': 0.0, '096770': 0.0, '097950': 0.0, '105560': 0.0, '111770': 0.0, '128940': 0.14285714285714285, '138040': 0.0, '138930': 0.0, '139480': 0.14285714285714285, '161390': 0.0}\n",
      "Portfolio: {'000270': 0.0, '000660': 0.0, '000720': 0.0, '000810': 0.0, '000880': 0.0, '000990': 0.0, '001450': 0.0, '001570': 0.0, '004020': 0.0, '004370': 0.0, '005380': 0.0, '005490': 0.0, '005830': 0.0, '005940': 0.14285714285714285, '006260': 0.0, '006400': 0.0, '006800': 0.0, '007070': 0.0, '008770': 0.14285714285714285, '009150': 0.0, '009830': 0.0, '010120': 0.0, '010130': 0.0, '010620': 0.0, '010950': 0.0, '011070': 0.0, '011170': 0.14285714285714285, '011780': 0.0, '012330': 0.0, '012450': 0.0, '015760': 0.0, '016360': 0.14285714285714285, '020150': 0.0, '021240': 0.0, '024110': 0.0, '029780': 0.0, '030200': 0.0, '032640': 0.0, '032830': 0.0, '033780': 0.0, '034020': 0.0, '034220': 0.0, '034730': 0.14285714285714285, '035250': 0.0, '036460': 0.0, '036570': 0.0, '039490': 0.0, '047050': 0.0, '051900': 0.0, '051910': 0.0, '052690': 0.0, '055550': 0.0, '066570': 0.0, '068270': 0.0, '071050': 0.14285714285714285, '078930': 0.0, '086280': 0.0, '086790': 0.0, '096770': 0.0, '097950': 0.0, '105560': 0.0, '111770': 0.0, '128940': 0.0, '138040': 0.0, '138930': 0.0, '139480': 0.14285714285714285, '161390': 0.0}\n",
      "Portfolio: {'000270': 0.0, '000660': 0.0, '000720': 0.0, '000810': 0.0, '000880': 0.0, '000990': 0.0, '001450': 0.0, '001570': 0.14285714285714285, '004020': 0.0, '004370': 0.0, '005380': 0.0, '005490': 0.0, '005830': 0.0, '005940': 0.0, '006260': 0.0, '006400': 0.0, '006800': 0.0, '007070': 0.0, '008770': 0.14285714285714285, '009150': 0.0, '009830': 0.0, '010120': 0.0, '010130': 0.0, '010620': 0.0, '010950': 0.0, '011070': 0.14285714285714285, '011170': 0.0, '011780': 0.0, '012330': 0.0, '012450': 0.14285714285714285, '015760': 0.14285714285714285, '016360': 0.0, '020150': 0.0, '021240': 0.0, '024110': 0.0, '029780': 0.0, '030200': 0.0, '032640': 0.0, '032830': 0.0, '033780': 0.0, '034020': 0.0, '034220': 0.0, '034730': 0.0, '035250': 0.0, '036460': 0.0, '036570': 0.14285714285714285, '039490': 0.0, '047050': 0.0, '051900': 0.0, '051910': 0.0, '052690': 0.0, '055550': 0.0, '066570': 0.0, '068270': 0.0, '071050': 0.0, '078930': 0.0, '086280': 0.0, '086790': 0.0, '096770': 0.0, '097950': 0.0, '105560': 0.0, '111770': 0.14285714285714285, '128940': 0.0, '138040': 0.0, '138930': 0.0, '139480': 0.0, '161390': 0.0}\n",
      "Portfolio: {'000270': 0.0, '000660': 0.14285714285714285, '000720': 0.0, '000810': 0.0, '000880': 0.0, '000990': 0.0, '001450': 0.0, '001570': 0.14285714285714285, '004020': 0.0, '004370': 0.0, '005380': 0.14285714285714285, '005490': 0.0, '005830': 0.0, '005940': 0.0, '006260': 0.0, '006400': 0.0, '006800': 0.0, '007070': 0.14285714285714285, '008770': 0.0, '009150': 0.14285714285714285, '009830': 0.0, '010120': 0.0, '010130': 0.0, '010620': 0.0, '010950': 0.0, '011070': 0.0, '011170': 0.0, '011780': 0.0, '012330': 0.0, '012450': 0.0, '015760': 0.0, '016360': 0.0, '020150': 0.0, '021240': 0.0, '024110': 0.0, '029780': 0.0, '030200': 0.0, '032640': 0.0, '032830': 0.0, '033780': 0.0, '034020': 0.0, '034220': 0.0, '034730': 0.0, '035250': 0.0, '036460': 0.0, '036570': 0.0, '039490': 0.0, '047050': 0.0, '051900': 0.0, '051910': 0.14285714285714285, '052690': 0.0, '055550': 0.0, '066570': 0.0, '068270': 0.0, '071050': 0.0, '078930': 0.14285714285714285, '086280': 0.0, '086790': 0.0, '096770': 0.0, '097950': 0.0, '105560': 0.0, '111770': 0.0, '128940': 0.0, '138040': 0.0, '138930': 0.0, '139480': 0.0, '161390': 0.0}\n",
      "Portfolio: {'000270': 0.0, '000660': 0.0, '000720': 0.14285714285714285, '000810': 0.0, '000880': 0.14285714285714285, '000990': 0.0, '001450': 0.0, '001570': 0.0, '004020': 0.0, '004370': 0.14285714285714285, '005380': 0.0, '005490': 0.0, '005830': 0.0, '005940': 0.0, '006260': 0.0, '006400': 0.0, '006800': 0.0, '007070': 0.0, '008770': 0.0, '009150': 0.0, '009830': 0.14285714285714285, '010120': 0.0, '010130': 0.0, '010620': 0.0, '010950': 0.0, '011070': 0.0, '011170': 0.0, '011780': 0.0, '012330': 0.0, '012450': 0.0, '015760': 0.0, '016360': 0.0, '020150': 0.0, '021240': 0.0, '024110': 0.0, '029780': 0.0, '030200': 0.0, '032640': 0.0, '032830': 0.0, '033780': 0.0, '034020': 0.0, '034220': 0.0, '034730': 0.0, '035250': 0.0, '036460': 0.0, '036570': 0.0, '039490': 0.0, '047050': 0.0, '051900': 0.0, '051910': 0.0, '052690': 0.0, '055550': 0.14285714285714285, '066570': 0.0, '068270': 0.0, '071050': 0.14285714285714285, '078930': 0.0, '086280': 0.0, '086790': 0.0, '096770': 0.0, '097950': 0.0, '105560': 0.0, '111770': 0.0, '128940': 0.14285714285714285, '138040': 0.0, '138930': 0.0, '139480': 0.0, '161390': 0.0}\n",
      "Portfolio: {'000270': 0.0, '000660': 0.0, '000720': 0.14285714285714285, '000810': 0.0, '000880': 0.0, '000990': 0.14285714285714285, '001450': 0.0, '001570': 0.0, '004020': 0.0, '004370': 0.14285714285714285, '005380': 0.14285714285714285, '005490': 0.0, '005830': 0.0, '005940': 0.0, '006260': 0.0, '006400': 0.0, '006800': 0.0, '007070': 0.0, '008770': 0.0, '009150': 0.0, '009830': 0.0, '010120': 0.14285714285714285, '010130': 0.0, '010620': 0.0, '010950': 0.0, '011070': 0.0, '011170': 0.0, '011780': 0.0, '012330': 0.0, '012450': 0.0, '015760': 0.0, '016360': 0.0, '020150': 0.14285714285714285, '021240': 0.0, '024110': 0.0, '029780': 0.0, '030200': 0.0, '032640': 0.0, '032830': 0.0, '033780': 0.0, '034020': 0.0, '034220': 0.0, '034730': 0.0, '035250': 0.0, '036460': 0.0, '036570': 0.0, '039490': 0.0, '047050': 0.0, '051900': 0.0, '051910': 0.0, '052690': 0.0, '055550': 0.0, '066570': 0.0, '068270': 0.0, '071050': 0.0, '078930': 0.0, '086280': 0.14285714285714285, '086790': 0.0, '096770': 0.0, '097950': 0.0, '105560': 0.0, '111770': 0.0, '128940': 0.0, '138040': 0.0, '138930': 0.0, '139480': 0.0, '161390': 0.0}\n",
      "Portfolio: {'000270': 0.0, '000660': 0.0, '000720': 0.0, '000810': 0.0, '000880': 0.0, '000990': 0.0, '001450': 0.14285714285714285, '001570': 0.0, '004020': 0.0, '004370': 0.14285714285714285, '005380': 0.0, '005490': 0.0, '005830': 0.0, '005940': 0.0, '006260': 0.0, '006400': 0.0, '006800': 0.0, '007070': 0.14285714285714285, '008770': 0.0, '009150': 0.0, '009830': 0.0, '010120': 0.0, '010130': 0.0, '010620': 0.0, '010950': 0.0, '011070': 0.0, '011170': 0.0, '011780': 0.14285714285714285, '012330': 0.0, '012450': 0.0, '015760': 0.0, '016360': 0.0, '020150': 0.0, '021240': 0.0, '024110': 0.0, '029780': 0.0, '030200': 0.0, '032640': 0.0, '032830': 0.0, '033780': 0.0, '034020': 0.0, '034220': 0.0, '034730': 0.0, '035250': 0.0, '036460': 0.0, '036570': 0.0, '039490': 0.0, '047050': 0.14285714285714285, '051900': 0.0, '051910': 0.0, '052690': 0.0, '055550': 0.0, '066570': 0.0, '068270': 0.0, '071050': 0.0, '078930': 0.0, '086280': 0.0, '086790': 0.0, '096770': 0.0, '097950': 0.14285714285714285, '105560': 0.0, '111770': 0.0, '128940': 0.0, '138040': 0.0, '138930': 0.14285714285714285, '139480': 0.0, '161390': 0.0}\n",
      "Portfolio: {'000270': 0.0, '000660': 0.0, '000720': 0.0, '000810': 0.0, '000880': 0.0, '000990': 0.0, '001450': 0.14285714285714285, '001570': 0.0, '004020': 0.0, '004370': 0.14285714285714285, '005380': 0.0, '005490': 0.0, '005830': 0.0, '005940': 0.0, '006260': 0.0, '006400': 0.0, '006800': 0.0, '007070': 0.0, '008770': 0.0, '009150': 0.0, '009830': 0.0, '010120': 0.0, '010130': 0.0, '010620': 0.0, '010950': 0.0, '011070': 0.0, '011170': 0.14285714285714285, '011780': 0.0, '012330': 0.0, '012450': 0.0, '015760': 0.0, '016360': 0.0, '020150': 0.0, '021240': 0.0, '024110': 0.0, '029780': 0.0, '030200': 0.0, '032640': 0.14285714285714285, '032830': 0.0, '033780': 0.14285714285714285, '034020': 0.0, '034220': 0.0, '034730': 0.0, '035250': 0.0, '036460': 0.0, '036570': 0.0, '039490': 0.14285714285714285, '047050': 0.0, '051900': 0.0, '051910': 0.0, '052690': 0.0, '055550': 0.0, '066570': 0.0, '068270': 0.0, '071050': 0.0, '078930': 0.0, '086280': 0.0, '086790': 0.0, '096770': 0.0, '097950': 0.0, '105560': 0.0, '111770': 0.0, '128940': 0.0, '138040': 0.0, '138930': 0.14285714285714285, '139480': 0.0, '161390': 0.0}\n",
      "Portfolio: {'000270': 0.0, '000660': 0.0, '000720': 0.0, '000810': 0.0, '000880': 0.0, '000990': 0.14285714285714285, '001450': 0.14285714285714285, '001570': 0.0, '004020': 0.0, '004370': 0.14285714285714285, '005380': 0.0, '005490': 0.0, '005830': 0.0, '005940': 0.0, '006260': 0.0, '006400': 0.0, '006800': 0.0, '007070': 0.0, '008770': 0.14285714285714285, '009150': 0.0, '009830': 0.0, '010120': 0.0, '010130': 0.0, '010620': 0.0, '010950': 0.0, '011070': 0.0, '011170': 0.0, '011780': 0.0, '012330': 0.14285714285714285, '012450': 0.0, '015760': 0.0, '016360': 0.0, '020150': 0.0, '021240': 0.0, '024110': 0.0, '029780': 0.0, '030200': 0.0, '032640': 0.0, '032830': 0.0, '033780': 0.14285714285714285, '034020': 0.0, '034220': 0.0, '034730': 0.0, '035250': 0.0, '036460': 0.0, '036570': 0.0, '039490': 0.0, '047050': 0.0, '051900': 0.0, '051910': 0.0, '052690': 0.0, '055550': 0.0, '066570': 0.14285714285714285, '068270': 0.0, '071050': 0.0, '078930': 0.0, '086280': 0.0, '086790': 0.0, '096770': 0.0, '097950': 0.0, '105560': 0.0, '111770': 0.0, '128940': 0.0, '138040': 0.0, '138930': 0.0, '139480': 0.0, '161390': 0.0}\n",
      "Portfolio: {'000270': 0.14285714285714285, '000660': 0.0, '000720': 0.0, '000810': 0.0, '000880': 0.0, '000990': 0.14285714285714285, '001450': 0.0, '001570': 0.0, '004020': 0.0, '004370': 0.0, '005380': 0.0, '005490': 0.0, '005830': 0.0, '005940': 0.0, '006260': 0.0, '006400': 0.0, '006800': 0.0, '007070': 0.0, '008770': 0.14285714285714285, '009150': 0.0, '009830': 0.0, '010120': 0.0, '010130': 0.0, '010620': 0.0, '010950': 0.0, '011070': 0.0, '011170': 0.0, '011780': 0.14285714285714285, '012330': 0.0, '012450': 0.0, '015760': 0.0, '016360': 0.0, '020150': 0.0, '021240': 0.0, '024110': 0.0, '029780': 0.0, '030200': 0.0, '032640': 0.0, '032830': 0.0, '033780': 0.14285714285714285, '034020': 0.0, '034220': 0.0, '034730': 0.0, '035250': 0.0, '036460': 0.0, '036570': 0.0, '039490': 0.0, '047050': 0.0, '051900': 0.0, '051910': 0.0, '052690': 0.0, '055550': 0.0, '066570': 0.14285714285714285, '068270': 0.0, '071050': 0.0, '078930': 0.0, '086280': 0.14285714285714285, '086790': 0.0, '096770': 0.0, '097950': 0.0, '105560': 0.0, '111770': 0.0, '128940': 0.0, '138040': 0.0, '138930': 0.0, '139480': 0.0, '161390': 0.0}\n",
      "Portfolio: {'000270': 0.0, '000660': 0.0, '000720': 0.0, '000810': 0.0, '000880': 0.0, '000990': 0.14285714285714285, '001450': 0.0, '001570': 0.14285714285714285, '004020': 0.0, '004370': 0.0, '005380': 0.0, '005490': 0.0, '005830': 0.0, '005940': 0.0, '006260': 0.0, '006400': 0.0, '006800': 0.0, '007070': 0.0, '008770': 0.0, '009150': 0.0, '009830': 0.0, '010120': 0.0, '010130': 0.0, '010620': 0.0, '010950': 0.0, '011070': 0.0, '011170': 0.14285714285714285, '011780': 0.14285714285714285, '012330': 0.0, '012450': 0.0, '015760': 0.0, '016360': 0.0, '020150': 0.0, '021240': 0.0, '024110': 0.0, '029780': 0.0, '030200': 0.0, '032640': 0.0, '032830': 0.0, '033780': 0.0, '034020': 0.0, '034220': 0.0, '034730': 0.0, '035250': 0.0, '036460': 0.0, '036570': 0.0, '039490': 0.14285714285714285, '047050': 0.0, '051900': 0.0, '051910': 0.0, '052690': 0.0, '055550': 0.0, '066570': 0.0, '068270': 0.0, '071050': 0.0, '078930': 0.0, '086280': 0.0, '086790': 0.0, '096770': 0.14285714285714285, '097950': 0.0, '105560': 0.0, '111770': 0.0, '128940': 0.0, '138040': 0.0, '138930': 0.0, '139480': 0.14285714285714285, '161390': 0.0}\n",
      "Portfolio: {'000270': 0.14285714285714285, '000660': 0.0, '000720': 0.0, '000810': 0.0, '000880': 0.0, '000990': 0.0, '001450': 0.0, '001570': 0.0, '004020': 0.0, '004370': 0.0, '005380': 0.0, '005490': 0.0, '005830': 0.0, '005940': 0.0, '006260': 0.0, '006400': 0.0, '006800': 0.0, '007070': 0.14285714285714285, '008770': 0.0, '009150': 0.14285714285714285, '009830': 0.0, '010120': 0.0, '010130': 0.0, '010620': 0.0, '010950': 0.0, '011070': 0.0, '011170': 0.14285714285714285, '011780': 0.0, '012330': 0.14285714285714285, '012450': 0.14285714285714285, '015760': 0.0, '016360': 0.0, '020150': 0.0, '021240': 0.0, '024110': 0.0, '029780': 0.0, '030200': 0.0, '032640': 0.0, '032830': 0.0, '033780': 0.0, '034020': 0.0, '034220': 0.0, '034730': 0.0, '035250': 0.0, '036460': 0.0, '036570': 0.0, '039490': 0.0, '047050': 0.0, '051900': 0.0, '051910': 0.0, '052690': 0.0, '055550': 0.0, '066570': 0.0, '068270': 0.0, '071050': 0.0, '078930': 0.0, '086280': 0.0, '086790': 0.0, '096770': 0.0, '097950': 0.0, '105560': 0.0, '111770': 0.0, '128940': 0.0, '138040': 0.0, '138930': 0.0, '139480': 0.14285714285714285, '161390': 0.0}\n",
      "Portfolio: {'000270': 0.0, '000660': 0.0, '000720': 0.0, '000810': 0.0, '000880': 0.0, '000990': 0.14285714285714285, '001450': 0.14285714285714285, '001570': 0.0, '004020': 0.0, '004370': 0.0, '005380': 0.0, '005490': 0.0, '005830': 0.0, '005940': 0.0, '006260': 0.0, '006400': 0.0, '006800': 0.0, '007070': 0.0, '008770': 0.0, '009150': 0.14285714285714285, '009830': 0.0, '010120': 0.0, '010130': 0.0, '010620': 0.14285714285714285, '010950': 0.0, '011070': 0.0, '011170': 0.0, '011780': 0.14285714285714285, '012330': 0.0, '012450': 0.0, '015760': 0.0, '016360': 0.0, '020150': 0.0, '021240': 0.0, '024110': 0.0, '029780': 0.0, '030200': 0.0, '032640': 0.0, '032830': 0.0, '033780': 0.0, '034020': 0.0, '034220': 0.14285714285714285, '034730': 0.0, '035250': 0.0, '036460': 0.0, '036570': 0.0, '039490': 0.0, '047050': 0.0, '051900': 0.0, '051910': 0.0, '052690': 0.0, '055550': 0.0, '066570': 0.0, '068270': 0.0, '071050': 0.0, '078930': 0.0, '086280': 0.0, '086790': 0.0, '096770': 0.0, '097950': 0.0, '105560': 0.0, '111770': 0.0, '128940': 0.0, '138040': 0.0, '138930': 0.0, '139480': 0.14285714285714285, '161390': 0.0}\n",
      "Portfolio: {'000270': 0.0, '000660': 0.0, '000720': 0.0, '000810': 0.0, '000880': 0.0, '000990': 0.0, '001450': 0.14285714285714285, '001570': 0.0, '004020': 0.0, '004370': 0.0, '005380': 0.0, '005490': 0.14285714285714285, '005830': 0.0, '005940': 0.0, '006260': 0.0, '006400': 0.0, '006800': 0.0, '007070': 0.0, '008770': 0.0, '009150': 0.0, '009830': 0.0, '010120': 0.0, '010130': 0.0, '010620': 0.0, '010950': 0.0, '011070': 0.0, '011170': 0.14285714285714285, '011780': 0.14285714285714285, '012330': 0.0, '012450': 0.0, '015760': 0.0, '016360': 0.0, '020150': 0.0, '021240': 0.0, '024110': 0.0, '029780': 0.0, '030200': 0.0, '032640': 0.0, '032830': 0.0, '033780': 0.0, '034020': 0.14285714285714285, '034220': 0.14285714285714285, '034730': 0.0, '035250': 0.0, '036460': 0.0, '036570': 0.0, '039490': 0.0, '047050': 0.0, '051900': 0.0, '051910': 0.0, '052690': 0.0, '055550': 0.0, '066570': 0.0, '068270': 0.0, '071050': 0.14285714285714285, '078930': 0.0, '086280': 0.0, '086790': 0.0, '096770': 0.0, '097950': 0.0, '105560': 0.0, '111770': 0.0, '128940': 0.0, '138040': 0.0, '138930': 0.0, '139480': 0.0, '161390': 0.0}\n",
      "Portfolio: {'000270': 0.0, '000660': 0.14285714285714285, '000720': 0.0, '000810': 0.0, '000880': 0.0, '000990': 0.0, '001450': 0.0, '001570': 0.0, '004020': 0.0, '004370': 0.0, '005380': 0.14285714285714285, '005490': 0.0, '005830': 0.0, '005940': 0.0, '006260': 0.0, '006400': 0.0, '006800': 0.0, '007070': 0.0, '008770': 0.0, '009150': 0.0, '009830': 0.14285714285714285, '010120': 0.0, '010130': 0.0, '010620': 0.0, '010950': 0.0, '011070': 0.0, '011170': 0.0, '011780': 0.14285714285714285, '012330': 0.14285714285714285, '012450': 0.0, '015760': 0.0, '016360': 0.0, '020150': 0.0, '021240': 0.0, '024110': 0.0, '029780': 0.0, '030200': 0.0, '032640': 0.0, '032830': 0.0, '033780': 0.0, '034020': 0.0, '034220': 0.14285714285714285, '034730': 0.0, '035250': 0.0, '036460': 0.0, '036570': 0.0, '039490': 0.0, '047050': 0.0, '051900': 0.0, '051910': 0.0, '052690': 0.0, '055550': 0.0, '066570': 0.0, '068270': 0.0, '071050': 0.0, '078930': 0.0, '086280': 0.0, '086790': 0.0, '096770': 0.14285714285714285, '097950': 0.0, '105560': 0.0, '111770': 0.0, '128940': 0.0, '138040': 0.0, '138930': 0.0, '139480': 0.0, '161390': 0.0}\n",
      "Portfolio: {'000270': 0.0, '000660': 0.14285714285714285, '000720': 0.0, '000810': 0.0, '000880': 0.0, '000990': 0.0, '001450': 0.0, '001570': 0.0, '004020': 0.0, '004370': 0.0, '005380': 0.0, '005490': 0.0, '005830': 0.0, '005940': 0.0, '006260': 0.0, '006400': 0.0, '006800': 0.0, '007070': 0.0, '008770': 0.14285714285714285, '009150': 0.0, '009830': 0.0, '010120': 0.0, '010130': 0.0, '010620': 0.0, '010950': 0.0, '011070': 0.14285714285714285, '011170': 0.0, '011780': 0.14285714285714285, '012330': 0.0, '012450': 0.0, '015760': 0.0, '016360': 0.0, '020150': 0.0, '021240': 0.0, '024110': 0.0, '029780': 0.0, '030200': 0.0, '032640': 0.0, '032830': 0.0, '033780': 0.0, '034020': 0.0, '034220': 0.14285714285714285, '034730': 0.0, '035250': 0.0, '036460': 0.0, '036570': 0.14285714285714285, '039490': 0.0, '047050': 0.14285714285714285, '051900': 0.0, '051910': 0.0, '052690': 0.0, '055550': 0.0, '066570': 0.0, '068270': 0.0, '071050': 0.0, '078930': 0.0, '086280': 0.0, '086790': 0.0, '096770': 0.0, '097950': 0.0, '105560': 0.0, '111770': 0.0, '128940': 0.0, '138040': 0.0, '138930': 0.0, '139480': 0.0, '161390': 0.0}\n",
      "Portfolio: {'000270': 0.0, '000660': 0.0, '000720': 0.0, '000810': 0.0, '000880': 0.0, '000990': 0.14285714285714285, '001450': 0.0, '001570': 0.0, '004020': 0.0, '004370': 0.0, '005380': 0.0, '005490': 0.0, '005830': 0.0, '005940': 0.0, '006260': 0.0, '006400': 0.0, '006800': 0.0, '007070': 0.0, '008770': 0.14285714285714285, '009150': 0.0, '009830': 0.0, '010120': 0.0, '010130': 0.0, '010620': 0.14285714285714285, '010950': 0.0, '011070': 0.14285714285714285, '011170': 0.0, '011780': 0.0, '012330': 0.0, '012450': 0.0, '015760': 0.0, '016360': 0.0, '020150': 0.0, '021240': 0.0, '024110': 0.0, '029780': 0.0, '030200': 0.0, '032640': 0.0, '032830': 0.0, '033780': 0.0, '034020': 0.0, '034220': 0.14285714285714285, '034730': 0.0, '035250': 0.0, '036460': 0.0, '036570': 0.14285714285714285, '039490': 0.0, '047050': 0.0, '051900': 0.0, '051910': 0.0, '052690': 0.0, '055550': 0.0, '066570': 0.14285714285714285, '068270': 0.0, '071050': 0.0, '078930': 0.0, '086280': 0.0, '086790': 0.0, '096770': 0.0, '097950': 0.0, '105560': 0.0, '111770': 0.0, '128940': 0.0, '138040': 0.0, '138930': 0.0, '139480': 0.0, '161390': 0.0}\n",
      "Portfolio: {'000270': 0.0, '000660': 0.0, '000720': 0.0, '000810': 0.0, '000880': 0.0, '000990': 0.0, '001450': 0.0, '001570': 0.0, '004020': 0.0, '004370': 0.0, '005380': 0.0, '005490': 0.14285714285714285, '005830': 0.0, '005940': 0.0, '006260': 0.0, '006400': 0.0, '006800': 0.0, '007070': 0.0, '008770': 0.0, '009150': 0.14285714285714285, '009830': 0.0, '010120': 0.0, '010130': 0.0, '010620': 0.0, '010950': 0.0, '011070': 0.0, '011170': 0.0, '011780': 0.14285714285714285, '012330': 0.0, '012450': 0.14285714285714285, '015760': 0.0, '016360': 0.0, '020150': 0.0, '021240': 0.0, '024110': 0.0, '029780': 0.0, '030200': 0.0, '032640': 0.0, '032830': 0.0, '033780': 0.0, '034020': 0.0, '034220': 0.0, '034730': 0.0, '035250': 0.0, '036460': 0.0, '036570': 0.0, '039490': 0.0, '047050': 0.14285714285714285, '051900': 0.14285714285714285, '051910': 0.0, '052690': 0.0, '055550': 0.0, '066570': 0.0, '068270': 0.0, '071050': 0.0, '078930': 0.0, '086280': 0.0, '086790': 0.0, '096770': 0.0, '097950': 0.14285714285714285, '105560': 0.0, '111770': 0.0, '128940': 0.0, '138040': 0.0, '138930': 0.0, '139480': 0.0, '161390': 0.0}\n",
      "Portfolio: {'000270': 0.0, '000660': 0.0, '000720': 0.0, '000810': 0.0, '000880': 0.14285714285714285, '000990': 0.0, '001450': 0.14285714285714285, '001570': 0.0, '004020': 0.0, '004370': 0.0, '005380': 0.0, '005490': 0.0, '005830': 0.0, '005940': 0.0, '006260': 0.14285714285714285, '006400': 0.0, '006800': 0.0, '007070': 0.0, '008770': 0.14285714285714285, '009150': 0.0, '009830': 0.14285714285714285, '010120': 0.0, '010130': 0.0, '010620': 0.0, '010950': 0.0, '011070': 0.0, '011170': 0.0, '011780': 0.0, '012330': 0.0, '012450': 0.14285714285714285, '015760': 0.0, '016360': 0.0, '020150': 0.0, '021240': 0.0, '024110': 0.0, '029780': 0.0, '030200': 0.0, '032640': 0.0, '032830': 0.0, '033780': 0.0, '034020': 0.0, '034220': 0.0, '034730': 0.0, '035250': 0.14285714285714285, '036460': 0.0, '036570': 0.0, '039490': 0.0, '047050': 0.0, '051900': 0.0, '051910': 0.0, '052690': 0.0, '055550': 0.0, '066570': 0.0, '068270': 0.0, '071050': 0.0, '078930': 0.0, '086280': 0.0, '086790': 0.0, '096770': 0.0, '097950': 0.0, '105560': 0.0, '111770': 0.0, '128940': 0.0, '138040': 0.0, '138930': 0.0, '139480': 0.0, '161390': 0.0}\n",
      "Portfolio: {'000270': 0.0, '000660': 0.0, '000720': 0.14285714285714285, '000810': 0.0, '000880': 0.14285714285714285, '000990': 0.0, '001450': 0.14285714285714285, '001570': 0.0, '004020': 0.0, '004370': 0.0, '005380': 0.0, '005490': 0.0, '005830': 0.0, '005940': 0.0, '006260': 0.0, '006400': 0.14285714285714285, '006800': 0.0, '007070': 0.0, '008770': 0.0, '009150': 0.0, '009830': 0.0, '010120': 0.14285714285714285, '010130': 0.0, '010620': 0.0, '010950': 0.0, '011070': 0.0, '011170': 0.0, '011780': 0.0, '012330': 0.0, '012450': 0.0, '015760': 0.0, '016360': 0.14285714285714285, '020150': 0.0, '021240': 0.0, '024110': 0.0, '029780': 0.0, '030200': 0.0, '032640': 0.0, '032830': 0.0, '033780': 0.0, '034020': 0.0, '034220': 0.0, '034730': 0.0, '035250': 0.0, '036460': 0.0, '036570': 0.0, '039490': 0.0, '047050': 0.0, '051900': 0.0, '051910': 0.14285714285714285, '052690': 0.0, '055550': 0.0, '066570': 0.0, '068270': 0.0, '071050': 0.0, '078930': 0.0, '086280': 0.0, '086790': 0.0, '096770': 0.0, '097950': 0.0, '105560': 0.0, '111770': 0.0, '128940': 0.0, '138040': 0.0, '138930': 0.0, '139480': 0.0, '161390': 0.0}\n"
     ]
    }
   ],
   "source": [
    "# 룩백 기간, 생략 기간 정의\n",
    "lookback = 1\n",
    "offset = 0\n",
    "total_lookback = get_lookback_fromdate(fromdate=simulation_fromdate,\n",
    "                                       lookback=lookback + offset, freq='m')\n",
    "\n",
    "# 매수 비율 정의\n",
    "ratio = 0.1\n",
    "\n",
    "# 전략 정의\n",
    "strategy = 'individual'\n",
    "\n",
    "# 수급 주체(개인) 전략 실행하기\n",
    "account_individual = simulate_factor(\n",
    "    ohlcv_data=df_slicer(df=ohlcv_data_day, fromdate=total_lookback),\n",
    "    market_cap_data=df_slicer(df=market_cap_data, fromdate=total_lookback),\n",
    "    fundamental_data=None,\n",
    "    trader_data=df_slicer(df=trader_data, fromdate=total_lookback),\n",
    "    lookback_period=lookback * 21,\n",
    "    skip_period=offset * 21,\n",
    "    strategy_name=strategy,\n",
    "    buying_ratio=ratio)"
   ],
   "metadata": {
    "collapsed": false,
    "ExecuteTime": {
     "end_time": "2023-12-07T04:52:55.390599Z",
     "start_time": "2023-12-07T04:52:53.564328Z"
    }
   }
  },
  {
   "cell_type": "markdown",
   "source": [
    "#### 1.6.8. 기관 매수에 따른 투자 전략 실행하기"
   ],
   "metadata": {
    "collapsed": false
   }
  },
  {
   "cell_type": "code",
   "execution_count": 25,
   "outputs": [
    {
     "name": "stderr",
     "output_type": "stream",
     "text": [
      "/var/folders/j2/p6vmvrcs1kg7j9c8811510sc0000gn/T/ipykernel_87974/888467401.py:44: FutureWarning: In a future version of pandas, a length 1 tuple will be returned when iterating over a groupby with a grouper equal to a list of length 1. Don't supply a list with a single grouper to avoid this warning.\n",
      "  for date, ohlcv in ohlcv_data.groupby(['date']):\n"
     ]
    },
    {
     "name": "stdout",
     "output_type": "stream",
     "text": [
      "Portfolio: {'000270': 0.0, '000660': 0.0, '000720': 0.14285714285714285, '000810': 0.0, '000880': 0.0, '000990': 0.0, '001450': 0.0, '001570': 0.0, '004020': 0.0, '004370': 0.0, '005380': 0.0, '005490': 0.0, '005830': 0.0, '005940': 0.0, '006260': 0.0, '006400': 0.0, '006800': 0.0, '007070': 0.0, '008770': 0.14285714285714285, '009150': 0.0, '009830': 0.0, '010120': 0.14285714285714285, '010130': 0.0, '010620': 0.14285714285714285, '010950': 0.0, '011070': 0.0, '011170': 0.0, '011780': 0.0, '012330': 0.0, '012450': 0.0, '015760': 0.0, '016360': 0.0, '020150': 0.0, '021240': 0.0, '024110': 0.0, '029780': 0.0, '030200': 0.0, '032640': 0.0, '032830': 0.0, '033780': 0.0, '034020': 0.0, '034220': 0.0, '034730': 0.0, '035250': 0.0, '036460': 0.0, '036570': 0.0, '039490': 0.0, '047050': 0.0, '051900': 0.0, '051910': 0.0, '052690': 0.0, '055550': 0.0, '066570': 0.0, '068270': 0.0, '071050': 0.0, '078930': 0.0, '086280': 0.0, '086790': 0.0, '096770': 0.0, '097950': 0.0, '105560': 0.0, '111770': 0.14285714285714285, '128940': 0.14285714285714285, '138040': 0.0, '138930': 0.0, '139480': 0.0, '161390': 0.14285714285714285}\n",
      "Portfolio: {'000270': 0.0, '000660': 0.0, '000720': 0.0, '000810': 0.0, '000880': 0.0, '000990': 0.0, '001450': 0.14285714285714285, '001570': 0.0, '004020': 0.0, '004370': 0.0, '005380': 0.0, '005490': 0.0, '005830': 0.0, '005940': 0.0, '006260': 0.0, '006400': 0.0, '006800': 0.0, '007070': 0.0, '008770': 0.0, '009150': 0.14285714285714285, '009830': 0.0, '010120': 0.0, '010130': 0.0, '010620': 0.14285714285714285, '010950': 0.0, '011070': 0.0, '011170': 0.0, '011780': 0.0, '012330': 0.0, '012450': 0.0, '015760': 0.0, '016360': 0.0, '020150': 0.0, '021240': 0.0, '024110': 0.0, '029780': 0.0, '030200': 0.14285714285714285, '032640': 0.0, '032830': 0.0, '033780': 0.0, '034020': 0.0, '034220': 0.0, '034730': 0.0, '035250': 0.0, '036460': 0.0, '036570': 0.0, '039490': 0.14285714285714285, '047050': 0.0, '051900': 0.0, '051910': 0.0, '052690': 0.14285714285714285, '055550': 0.0, '066570': 0.0, '068270': 0.0, '071050': 0.0, '078930': 0.0, '086280': 0.0, '086790': 0.0, '096770': 0.0, '097950': 0.0, '105560': 0.0, '111770': 0.14285714285714285, '128940': 0.0, '138040': 0.0, '138930': 0.0, '139480': 0.0, '161390': 0.0}\n",
      "Portfolio: {'000270': 0.0, '000660': 0.0, '000720': 0.0, '000810': 0.0, '000880': 0.14285714285714285, '000990': 0.14285714285714285, '001450': 0.0, '001570': 0.0, '004020': 0.0, '004370': 0.0, '005380': 0.0, '005490': 0.0, '005830': 0.0, '005940': 0.0, '006260': 0.14285714285714285, '006400': 0.0, '006800': 0.0, '007070': 0.0, '008770': 0.14285714285714285, '009150': 0.14285714285714285, '009830': 0.0, '010120': 0.0, '010130': 0.0, '010620': 0.0, '010950': 0.0, '011070': 0.0, '011170': 0.0, '011780': 0.0, '012330': 0.0, '012450': 0.0, '015760': 0.0, '016360': 0.0, '020150': 0.14285714285714285, '021240': 0.0, '024110': 0.0, '029780': 0.0, '030200': 0.0, '032640': 0.0, '032830': 0.0, '033780': 0.0, '034020': 0.0, '034220': 0.0, '034730': 0.0, '035250': 0.0, '036460': 0.0, '036570': 0.0, '039490': 0.14285714285714285, '047050': 0.0, '051900': 0.0, '051910': 0.0, '052690': 0.0, '055550': 0.0, '066570': 0.0, '068270': 0.0, '071050': 0.0, '078930': 0.0, '086280': 0.0, '086790': 0.0, '096770': 0.0, '097950': 0.0, '105560': 0.0, '111770': 0.0, '128940': 0.0, '138040': 0.0, '138930': 0.0, '139480': 0.0, '161390': 0.0}\n",
      "Portfolio: {'000270': 0.0, '000660': 0.0, '000720': 0.0, '000810': 0.0, '000880': 0.0, '000990': 0.0, '001450': 0.0, '001570': 0.0, '004020': 0.0, '004370': 0.0, '005380': 0.0, '005490': 0.0, '005830': 0.0, '005940': 0.0, '006260': 0.0, '006400': 0.14285714285714285, '006800': 0.0, '007070': 0.0, '008770': 0.14285714285714285, '009150': 0.0, '009830': 0.14285714285714285, '010120': 0.0, '010130': 0.0, '010620': 0.14285714285714285, '010950': 0.0, '011070': 0.0, '011170': 0.0, '011780': 0.0, '012330': 0.0, '012450': 0.0, '015760': 0.0, '016360': 0.0, '020150': 0.14285714285714285, '021240': 0.0, '024110': 0.0, '029780': 0.0, '030200': 0.0, '032640': 0.0, '032830': 0.0, '033780': 0.0, '034020': 0.0, '034220': 0.0, '034730': 0.0, '035250': 0.0, '036460': 0.0, '036570': 0.14285714285714285, '039490': 0.0, '047050': 0.0, '051900': 0.0, '051910': 0.0, '052690': 0.0, '055550': 0.0, '066570': 0.0, '068270': 0.0, '071050': 0.0, '078930': 0.0, '086280': 0.0, '086790': 0.0, '096770': 0.0, '097950': 0.0, '105560': 0.0, '111770': 0.0, '128940': 0.14285714285714285, '138040': 0.0, '138930': 0.0, '139480': 0.0, '161390': 0.0}\n",
      "Portfolio: {'000270': 0.0, '000660': 0.0, '000720': 0.0, '000810': 0.0, '000880': 0.0, '000990': 0.0, '001450': 0.0, '001570': 0.0, '004020': 0.14285714285714285, '004370': 0.0, '005380': 0.0, '005490': 0.0, '005830': 0.0, '005940': 0.0, '006260': 0.0, '006400': 0.0, '006800': 0.0, '007070': 0.0, '008770': 0.0, '009150': 0.14285714285714285, '009830': 0.0, '010120': 0.0, '010130': 0.0, '010620': 0.0, '010950': 0.0, '011070': 0.14285714285714285, '011170': 0.0, '011780': 0.0, '012330': 0.0, '012450': 0.0, '015760': 0.0, '016360': 0.0, '020150': 0.0, '021240': 0.0, '024110': 0.0, '029780': 0.0, '030200': 0.14285714285714285, '032640': 0.0, '032830': 0.0, '033780': 0.0, '034020': 0.0, '034220': 0.14285714285714285, '034730': 0.0, '035250': 0.0, '036460': 0.0, '036570': 0.0, '039490': 0.14285714285714285, '047050': 0.0, '051900': 0.0, '051910': 0.0, '052690': 0.0, '055550': 0.0, '066570': 0.0, '068270': 0.14285714285714285, '071050': 0.0, '078930': 0.0, '086280': 0.0, '086790': 0.0, '096770': 0.0, '097950': 0.0, '105560': 0.0, '111770': 0.0, '128940': 0.0, '138040': 0.0, '138930': 0.0, '139480': 0.0, '161390': 0.0}\n",
      "Portfolio: {'000270': 0.0, '000660': 0.0, '000720': 0.0, '000810': 0.0, '000880': 0.0, '000990': 0.0, '001450': 0.0, '001570': 0.0, '004020': 0.0, '004370': 0.0, '005380': 0.0, '005490': 0.0, '005830': 0.0, '005940': 0.0, '006260': 0.14285714285714285, '006400': 0.0, '006800': 0.0, '007070': 0.0, '008770': 0.14285714285714285, '009150': 0.0, '009830': 0.0, '010120': 0.0, '010130': 0.0, '010620': 0.14285714285714285, '010950': 0.14285714285714285, '011070': 0.0, '011170': 0.14285714285714285, '011780': 0.0, '012330': 0.0, '012450': 0.0, '015760': 0.0, '016360': 0.0, '020150': 0.0, '021240': 0.0, '024110': 0.0, '029780': 0.0, '030200': 0.14285714285714285, '032640': 0.0, '032830': 0.0, '033780': 0.0, '034020': 0.0, '034220': 0.0, '034730': 0.0, '035250': 0.0, '036460': 0.0, '036570': 0.0, '039490': 0.0, '047050': 0.0, '051900': 0.0, '051910': 0.0, '052690': 0.0, '055550': 0.0, '066570': 0.0, '068270': 0.0, '071050': 0.0, '078930': 0.0, '086280': 0.0, '086790': 0.0, '096770': 0.14285714285714285, '097950': 0.0, '105560': 0.0, '111770': 0.0, '128940': 0.0, '138040': 0.0, '138930': 0.0, '139480': 0.0, '161390': 0.0}\n",
      "Portfolio: {'000270': 0.0, '000660': 0.0, '000720': 0.0, '000810': 0.0, '000880': 0.0, '000990': 0.0, '001450': 0.0, '001570': 0.0, '004020': 0.0, '004370': 0.14285714285714285, '005380': 0.0, '005490': 0.0, '005830': 0.0, '005940': 0.0, '006260': 0.0, '006400': 0.14285714285714285, '006800': 0.0, '007070': 0.0, '008770': 0.14285714285714285, '009150': 0.0, '009830': 0.0, '010120': 0.0, '010130': 0.0, '010620': 0.0, '010950': 0.0, '011070': 0.14285714285714285, '011170': 0.0, '011780': 0.0, '012330': 0.0, '012450': 0.0, '015760': 0.0, '016360': 0.0, '020150': 0.0, '021240': 0.0, '024110': 0.0, '029780': 0.0, '030200': 0.0, '032640': 0.14285714285714285, '032830': 0.0, '033780': 0.0, '034020': 0.0, '034220': 0.0, '034730': 0.0, '035250': 0.0, '036460': 0.0, '036570': 0.14285714285714285, '039490': 0.0, '047050': 0.0, '051900': 0.0, '051910': 0.0, '052690': 0.0, '055550': 0.0, '066570': 0.14285714285714285, '068270': 0.0, '071050': 0.0, '078930': 0.0, '086280': 0.0, '086790': 0.0, '096770': 0.0, '097950': 0.0, '105560': 0.0, '111770': 0.0, '128940': 0.0, '138040': 0.0, '138930': 0.0, '139480': 0.0, '161390': 0.0}\n",
      "Portfolio: {'000270': 0.0, '000660': 0.0, '000720': 0.0, '000810': 0.0, '000880': 0.0, '000990': 0.0, '001450': 0.0, '001570': 0.0, '004020': 0.0, '004370': 0.14285714285714285, '005380': 0.0, '005490': 0.0, '005830': 0.0, '005940': 0.0, '006260': 0.0, '006400': 0.0, '006800': 0.0, '007070': 0.0, '008770': 0.14285714285714285, '009150': 0.0, '009830': 0.0, '010120': 0.0, '010130': 0.0, '010620': 0.0, '010950': 0.0, '011070': 0.0, '011170': 0.0, '011780': 0.0, '012330': 0.0, '012450': 0.0, '015760': 0.0, '016360': 0.0, '020150': 0.0, '021240': 0.0, '024110': 0.0, '029780': 0.0, '030200': 0.0, '032640': 0.0, '032830': 0.0, '033780': 0.0, '034020': 0.0, '034220': 0.0, '034730': 0.0, '035250': 0.0, '036460': 0.0, '036570': 0.0, '039490': 0.0, '047050': 0.14285714285714285, '051900': 0.0, '051910': 0.0, '052690': 0.0, '055550': 0.0, '066570': 0.14285714285714285, '068270': 0.0, '071050': 0.14285714285714285, '078930': 0.0, '086280': 0.0, '086790': 0.14285714285714285, '096770': 0.0, '097950': 0.0, '105560': 0.0, '111770': 0.0, '128940': 0.14285714285714285, '138040': 0.0, '138930': 0.0, '139480': 0.0, '161390': 0.0}\n",
      "Portfolio: {'000270': 0.0, '000660': 0.0, '000720': 0.0, '000810': 0.0, '000880': 0.0, '000990': 0.0, '001450': 0.0, '001570': 0.0, '004020': 0.14285714285714285, '004370': 0.0, '005380': 0.0, '005490': 0.0, '005830': 0.0, '005940': 0.0, '006260': 0.14285714285714285, '006400': 0.0, '006800': 0.0, '007070': 0.0, '008770': 0.14285714285714285, '009150': 0.0, '009830': 0.0, '010120': 0.0, '010130': 0.0, '010620': 0.14285714285714285, '010950': 0.0, '011070': 0.14285714285714285, '011170': 0.0, '011780': 0.0, '012330': 0.0, '012450': 0.0, '015760': 0.0, '016360': 0.0, '020150': 0.0, '021240': 0.0, '024110': 0.0, '029780': 0.0, '030200': 0.0, '032640': 0.0, '032830': 0.14285714285714285, '033780': 0.0, '034020': 0.0, '034220': 0.0, '034730': 0.0, '035250': 0.0, '036460': 0.0, '036570': 0.0, '039490': 0.0, '047050': 0.0, '051900': 0.0, '051910': 0.0, '052690': 0.0, '055550': 0.0, '066570': 0.0, '068270': 0.0, '071050': 0.0, '078930': 0.0, '086280': 0.0, '086790': 0.0, '096770': 0.0, '097950': 0.0, '105560': 0.0, '111770': 0.0, '128940': 0.0, '138040': 0.0, '138930': 0.0, '139480': 0.14285714285714285, '161390': 0.0}\n",
      "Portfolio: {'000270': 0.0, '000660': 0.0, '000720': 0.0, '000810': 0.0, '000880': 0.0, '000990': 0.0, '001450': 0.0, '001570': 0.0, '004020': 0.0, '004370': 0.0, '005380': 0.0, '005490': 0.0, '005830': 0.0, '005940': 0.0, '006260': 0.0, '006400': 0.0, '006800': 0.0, '007070': 0.0, '008770': 0.0, '009150': 0.14285714285714285, '009830': 0.0, '010120': 0.0, '010130': 0.0, '010620': 0.0, '010950': 0.0, '011070': 0.0, '011170': 0.0, '011780': 0.14285714285714285, '012330': 0.0, '012450': 0.0, '015760': 0.0, '016360': 0.0, '020150': 0.14285714285714285, '021240': 0.0, '024110': 0.0, '029780': 0.0, '030200': 0.0, '032640': 0.14285714285714285, '032830': 0.0, '033780': 0.0, '034020': 0.0, '034220': 0.0, '034730': 0.0, '035250': 0.0, '036460': 0.0, '036570': 0.0, '039490': 0.14285714285714285, '047050': 0.0, '051900': 0.0, '051910': 0.0, '052690': 0.0, '055550': 0.0, '066570': 0.0, '068270': 0.0, '071050': 0.0, '078930': 0.0, '086280': 0.0, '086790': 0.0, '096770': 0.0, '097950': 0.0, '105560': 0.0, '111770': 0.0, '128940': 0.14285714285714285, '138040': 0.0, '138930': 0.0, '139480': 0.14285714285714285, '161390': 0.0}\n",
      "Portfolio: {'000270': 0.0, '000660': 0.0, '000720': 0.14285714285714285, '000810': 0.0, '000880': 0.0, '000990': 0.0, '001450': 0.0, '001570': 0.0, '004020': 0.0, '004370': 0.0, '005380': 0.0, '005490': 0.0, '005830': 0.0, '005940': 0.0, '006260': 0.14285714285714285, '006400': 0.0, '006800': 0.0, '007070': 0.0, '008770': 0.0, '009150': 0.0, '009830': 0.0, '010120': 0.0, '010130': 0.0, '010620': 0.0, '010950': 0.0, '011070': 0.0, '011170': 0.0, '011780': 0.14285714285714285, '012330': 0.0, '012450': 0.0, '015760': 0.0, '016360': 0.0, '020150': 0.0, '021240': 0.0, '024110': 0.0, '029780': 0.0, '030200': 0.0, '032640': 0.14285714285714285, '032830': 0.0, '033780': 0.0, '034020': 0.0, '034220': 0.0, '034730': 0.0, '035250': 0.0, '036460': 0.0, '036570': 0.0, '039490': 0.0, '047050': 0.0, '051900': 0.0, '051910': 0.0, '052690': 0.14285714285714285, '055550': 0.0, '066570': 0.14285714285714285, '068270': 0.14285714285714285, '071050': 0.0, '078930': 0.0, '086280': 0.0, '086790': 0.0, '096770': 0.0, '097950': 0.0, '105560': 0.0, '111770': 0.0, '128940': 0.0, '138040': 0.0, '138930': 0.0, '139480': 0.0, '161390': 0.0}\n",
      "Portfolio: {'000270': 0.0, '000660': 0.0, '000720': 0.14285714285714285, '000810': 0.0, '000880': 0.0, '000990': 0.0, '001450': 0.0, '001570': 0.0, '004020': 0.0, '004370': 0.0, '005380': 0.0, '005490': 0.0, '005830': 0.0, '005940': 0.0, '006260': 0.14285714285714285, '006400': 0.0, '006800': 0.0, '007070': 0.0, '008770': 0.0, '009150': 0.0, '009830': 0.14285714285714285, '010120': 0.0, '010130': 0.0, '010620': 0.14285714285714285, '010950': 0.0, '011070': 0.0, '011170': 0.0, '011780': 0.0, '012330': 0.0, '012450': 0.0, '015760': 0.0, '016360': 0.14285714285714285, '020150': 0.0, '021240': 0.0, '024110': 0.0, '029780': 0.0, '030200': 0.0, '032640': 0.0, '032830': 0.0, '033780': 0.0, '034020': 0.0, '034220': 0.0, '034730': 0.0, '035250': 0.0, '036460': 0.14285714285714285, '036570': 0.0, '039490': 0.0, '047050': 0.14285714285714285, '051900': 0.0, '051910': 0.0, '052690': 0.0, '055550': 0.0, '066570': 0.0, '068270': 0.0, '071050': 0.0, '078930': 0.0, '086280': 0.0, '086790': 0.0, '096770': 0.0, '097950': 0.0, '105560': 0.0, '111770': 0.0, '128940': 0.0, '138040': 0.0, '138930': 0.0, '139480': 0.0, '161390': 0.0}\n",
      "Portfolio: {'000270': 0.0, '000660': 0.0, '000720': 0.14285714285714285, '000810': 0.0, '000880': 0.0, '000990': 0.14285714285714285, '001450': 0.0, '001570': 0.0, '004020': 0.0, '004370': 0.0, '005380': 0.0, '005490': 0.0, '005830': 0.0, '005940': 0.0, '006260': 0.0, '006400': 0.0, '006800': 0.0, '007070': 0.0, '008770': 0.0, '009150': 0.0, '009830': 0.0, '010120': 0.0, '010130': 0.14285714285714285, '010620': 0.14285714285714285, '010950': 0.0, '011070': 0.14285714285714285, '011170': 0.0, '011780': 0.14285714285714285, '012330': 0.0, '012450': 0.0, '015760': 0.0, '016360': 0.0, '020150': 0.0, '021240': 0.0, '024110': 0.0, '029780': 0.0, '030200': 0.0, '032640': 0.0, '032830': 0.0, '033780': 0.0, '034020': 0.0, '034220': 0.0, '034730': 0.0, '035250': 0.0, '036460': 0.0, '036570': 0.0, '039490': 0.0, '047050': 0.0, '051900': 0.0, '051910': 0.0, '052690': 0.0, '055550': 0.0, '066570': 0.0, '068270': 0.0, '071050': 0.14285714285714285, '078930': 0.0, '086280': 0.0, '086790': 0.0, '096770': 0.0, '097950': 0.0, '105560': 0.0, '111770': 0.0, '128940': 0.0, '138040': 0.0, '138930': 0.0, '139480': 0.0, '161390': 0.0}\n",
      "Portfolio: {'000270': 0.0, '000660': 0.0, '000720': 0.14285714285714285, '000810': 0.0, '000880': 0.0, '000990': 0.14285714285714285, '001450': 0.0, '001570': 0.0, '004020': 0.0, '004370': 0.0, '005380': 0.0, '005490': 0.0, '005830': 0.0, '005940': 0.0, '006260': 0.0, '006400': 0.0, '006800': 0.0, '007070': 0.0, '008770': 0.14285714285714285, '009150': 0.0, '009830': 0.0, '010120': 0.0, '010130': 0.0, '010620': 0.0, '010950': 0.0, '011070': 0.0, '011170': 0.0, '011780': 0.0, '012330': 0.0, '012450': 0.0, '015760': 0.0, '016360': 0.0, '020150': 0.14285714285714285, '021240': 0.0, '024110': 0.0, '029780': 0.0, '030200': 0.0, '032640': 0.0, '032830': 0.0, '033780': 0.0, '034020': 0.0, '034220': 0.0, '034730': 0.0, '035250': 0.0, '036460': 0.0, '036570': 0.0, '039490': 0.0, '047050': 0.14285714285714285, '051900': 0.0, '051910': 0.0, '052690': 0.0, '055550': 0.0, '066570': 0.0, '068270': 0.14285714285714285, '071050': 0.0, '078930': 0.0, '086280': 0.0, '086790': 0.0, '096770': 0.0, '097950': 0.0, '105560': 0.0, '111770': 0.0, '128940': 0.14285714285714285, '138040': 0.0, '138930': 0.0, '139480': 0.0, '161390': 0.0}\n",
      "Portfolio: {'000270': 0.0, '000660': 0.0, '000720': 0.0, '000810': 0.0, '000880': 0.0, '000990': 0.0, '001450': 0.0, '001570': 0.0, '004020': 0.14285714285714285, '004370': 0.0, '005380': 0.0, '005490': 0.0, '005830': 0.0, '005940': 0.14285714285714285, '006260': 0.0, '006400': 0.0, '006800': 0.0, '007070': 0.14285714285714285, '008770': 0.14285714285714285, '009150': 0.14285714285714285, '009830': 0.0, '010120': 0.0, '010130': 0.0, '010620': 0.0, '010950': 0.0, '011070': 0.0, '011170': 0.0, '011780': 0.0, '012330': 0.0, '012450': 0.0, '015760': 0.14285714285714285, '016360': 0.0, '020150': 0.0, '021240': 0.0, '024110': 0.0, '029780': 0.0, '030200': 0.0, '032640': 0.0, '032830': 0.0, '033780': 0.0, '034020': 0.0, '034220': 0.0, '034730': 0.0, '035250': 0.0, '036460': 0.0, '036570': 0.0, '039490': 0.0, '047050': 0.0, '051900': 0.0, '051910': 0.0, '052690': 0.0, '055550': 0.0, '066570': 0.0, '068270': 0.0, '071050': 0.0, '078930': 0.0, '086280': 0.0, '086790': 0.0, '096770': 0.0, '097950': 0.0, '105560': 0.0, '111770': 0.14285714285714285, '128940': 0.0, '138040': 0.0, '138930': 0.0, '139480': 0.0, '161390': 0.0}\n",
      "Portfolio: {'000270': 0.0, '000660': 0.0, '000720': 0.0, '000810': 0.0, '000880': 0.0, '000990': 0.14285714285714285, '001450': 0.0, '001570': 0.0, '004020': 0.14285714285714285, '004370': 0.0, '005380': 0.0, '005490': 0.0, '005830': 0.0, '005940': 0.0, '006260': 0.0, '006400': 0.14285714285714285, '006800': 0.0, '007070': 0.14285714285714285, '008770': 0.0, '009150': 0.0, '009830': 0.0, '010120': 0.14285714285714285, '010130': 0.0, '010620': 0.14285714285714285, '010950': 0.0, '011070': 0.0, '011170': 0.0, '011780': 0.0, '012330': 0.0, '012450': 0.14285714285714285, '015760': 0.0, '016360': 0.0, '020150': 0.0, '021240': 0.0, '024110': 0.0, '029780': 0.0, '030200': 0.0, '032640': 0.0, '032830': 0.0, '033780': 0.0, '034020': 0.0, '034220': 0.0, '034730': 0.0, '035250': 0.0, '036460': 0.0, '036570': 0.0, '039490': 0.0, '047050': 0.0, '051900': 0.0, '051910': 0.0, '052690': 0.0, '055550': 0.0, '066570': 0.0, '068270': 0.0, '071050': 0.0, '078930': 0.0, '086280': 0.0, '086790': 0.0, '096770': 0.0, '097950': 0.0, '105560': 0.0, '111770': 0.0, '128940': 0.0, '138040': 0.0, '138930': 0.0, '139480': 0.0, '161390': 0.0}\n",
      "Portfolio: {'000270': 0.0, '000660': 0.0, '000720': 0.0, '000810': 0.0, '000880': 0.0, '000990': 0.14285714285714285, '001450': 0.0, '001570': 0.0, '004020': 0.0, '004370': 0.14285714285714285, '005380': 0.0, '005490': 0.0, '005830': 0.0, '005940': 0.0, '006260': 0.0, '006400': 0.14285714285714285, '006800': 0.0, '007070': 0.14285714285714285, '008770': 0.0, '009150': 0.0, '009830': 0.0, '010120': 0.0, '010130': 0.0, '010620': 0.0, '010950': 0.0, '011070': 0.0, '011170': 0.0, '011780': 0.0, '012330': 0.0, '012450': 0.0, '015760': 0.0, '016360': 0.0, '020150': 0.14285714285714285, '021240': 0.0, '024110': 0.0, '029780': 0.0, '030200': 0.0, '032640': 0.14285714285714285, '032830': 0.0, '033780': 0.0, '034020': 0.0, '034220': 0.0, '034730': 0.0, '035250': 0.0, '036460': 0.0, '036570': 0.0, '039490': 0.0, '047050': 0.0, '051900': 0.0, '051910': 0.14285714285714285, '052690': 0.0, '055550': 0.0, '066570': 0.0, '068270': 0.0, '071050': 0.0, '078930': 0.0, '086280': 0.0, '086790': 0.0, '096770': 0.0, '097950': 0.0, '105560': 0.0, '111770': 0.0, '128940': 0.0, '138040': 0.0, '138930': 0.0, '139480': 0.0, '161390': 0.0}\n",
      "Portfolio: {'000270': 0.0, '000660': 0.0, '000720': 0.0, '000810': 0.0, '000880': 0.0, '000990': 0.0, '001450': 0.14285714285714285, '001570': 0.0, '004020': 0.0, '004370': 0.0, '005380': 0.0, '005490': 0.0, '005830': 0.14285714285714285, '005940': 0.0, '006260': 0.0, '006400': 0.14285714285714285, '006800': 0.0, '007070': 0.0, '008770': 0.0, '009150': 0.0, '009830': 0.0, '010120': 0.0, '010130': 0.14285714285714285, '010620': 0.0, '010950': 0.0, '011070': 0.0, '011170': 0.0, '011780': 0.0, '012330': 0.0, '012450': 0.0, '015760': 0.0, '016360': 0.0, '020150': 0.14285714285714285, '021240': 0.0, '024110': 0.0, '029780': 0.0, '030200': 0.0, '032640': 0.0, '032830': 0.0, '033780': 0.0, '034020': 0.0, '034220': 0.0, '034730': 0.0, '035250': 0.0, '036460': 0.0, '036570': 0.0, '039490': 0.0, '047050': 0.0, '051900': 0.0, '051910': 0.14285714285714285, '052690': 0.0, '055550': 0.0, '066570': 0.0, '068270': 0.0, '071050': 0.0, '078930': 0.0, '086280': 0.14285714285714285, '086790': 0.0, '096770': 0.0, '097950': 0.0, '105560': 0.0, '111770': 0.0, '128940': 0.0, '138040': 0.0, '138930': 0.0, '139480': 0.0, '161390': 0.0}\n",
      "Portfolio: {'000270': 0.0, '000660': 0.0, '000720': 0.14285714285714285, '000810': 0.0, '000880': 0.0, '000990': 0.0, '001450': 0.0, '001570': 0.0, '004020': 0.0, '004370': 0.0, '005380': 0.0, '005490': 0.0, '005830': 0.0, '005940': 0.0, '006260': 0.0, '006400': 0.0, '006800': 0.0, '007070': 0.0, '008770': 0.14285714285714285, '009150': 0.0, '009830': 0.0, '010120': 0.0, '010130': 0.14285714285714285, '010620': 0.14285714285714285, '010950': 0.0, '011070': 0.0, '011170': 0.0, '011780': 0.0, '012330': 0.0, '012450': 0.0, '015760': 0.0, '016360': 0.0, '020150': 0.0, '021240': 0.0, '024110': 0.0, '029780': 0.0, '030200': 0.14285714285714285, '032640': 0.0, '032830': 0.0, '033780': 0.0, '034020': 0.0, '034220': 0.0, '034730': 0.0, '035250': 0.0, '036460': 0.0, '036570': 0.0, '039490': 0.0, '047050': 0.0, '051900': 0.0, '051910': 0.0, '052690': 0.0, '055550': 0.0, '066570': 0.14285714285714285, '068270': 0.0, '071050': 0.14285714285714285, '078930': 0.0, '086280': 0.0, '086790': 0.0, '096770': 0.0, '097950': 0.0, '105560': 0.0, '111770': 0.0, '128940': 0.0, '138040': 0.0, '138930': 0.0, '139480': 0.0, '161390': 0.0}\n",
      "Portfolio: {'000270': 0.0, '000660': 0.0, '000720': 0.0, '000810': 0.0, '000880': 0.0, '000990': 0.0, '001450': 0.0, '001570': 0.0, '004020': 0.0, '004370': 0.0, '005380': 0.0, '005490': 0.0, '005830': 0.14285714285714285, '005940': 0.0, '006260': 0.0, '006400': 0.0, '006800': 0.0, '007070': 0.0, '008770': 0.0, '009150': 0.0, '009830': 0.0, '010120': 0.0, '010130': 0.14285714285714285, '010620': 0.14285714285714285, '010950': 0.0, '011070': 0.0, '011170': 0.0, '011780': 0.0, '012330': 0.0, '012450': 0.14285714285714285, '015760': 0.0, '016360': 0.0, '020150': 0.14285714285714285, '021240': 0.0, '024110': 0.0, '029780': 0.0, '030200': 0.14285714285714285, '032640': 0.0, '032830': 0.0, '033780': 0.0, '034020': 0.0, '034220': 0.0, '034730': 0.0, '035250': 0.0, '036460': 0.0, '036570': 0.0, '039490': 0.0, '047050': 0.14285714285714285, '051900': 0.0, '051910': 0.0, '052690': 0.0, '055550': 0.0, '066570': 0.0, '068270': 0.0, '071050': 0.0, '078930': 0.0, '086280': 0.0, '086790': 0.0, '096770': 0.0, '097950': 0.0, '105560': 0.0, '111770': 0.0, '128940': 0.0, '138040': 0.0, '138930': 0.0, '139480': 0.0, '161390': 0.0}\n",
      "Portfolio: {'000270': 0.0, '000660': 0.0, '000720': 0.0, '000810': 0.0, '000880': 0.0, '000990': 0.0, '001450': 0.14285714285714285, '001570': 0.0, '004020': 0.0, '004370': 0.0, '005380': 0.0, '005490': 0.0, '005830': 0.0, '005940': 0.0, '006260': 0.0, '006400': 0.0, '006800': 0.0, '007070': 0.0, '008770': 0.0, '009150': 0.14285714285714285, '009830': 0.0, '010120': 0.0, '010130': 0.0, '010620': 0.14285714285714285, '010950': 0.0, '011070': 0.0, '011170': 0.0, '011780': 0.0, '012330': 0.0, '012450': 0.14285714285714285, '015760': 0.0, '016360': 0.0, '020150': 0.0, '021240': 0.0, '024110': 0.0, '029780': 0.0, '030200': 0.14285714285714285, '032640': 0.0, '032830': 0.0, '033780': 0.0, '034020': 0.0, '034220': 0.0, '034730': 0.0, '035250': 0.0, '036460': 0.0, '036570': 0.0, '039490': 0.0, '047050': 0.0, '051900': 0.0, '051910': 0.0, '052690': 0.0, '055550': 0.0, '066570': 0.0, '068270': 0.14285714285714285, '071050': 0.0, '078930': 0.0, '086280': 0.0, '086790': 0.0, '096770': 0.0, '097950': 0.14285714285714285, '105560': 0.0, '111770': 0.0, '128940': 0.0, '138040': 0.0, '138930': 0.0, '139480': 0.0, '161390': 0.0}\n",
      "Portfolio: {'000270': 0.0, '000660': 0.0, '000720': 0.0, '000810': 0.0, '000880': 0.0, '000990': 0.0, '001450': 0.0, '001570': 0.0, '004020': 0.0, '004370': 0.14285714285714285, '005380': 0.0, '005490': 0.0, '005830': 0.0, '005940': 0.0, '006260': 0.0, '006400': 0.0, '006800': 0.0, '007070': 0.0, '008770': 0.14285714285714285, '009150': 0.0, '009830': 0.14285714285714285, '010120': 0.0, '010130': 0.0, '010620': 0.0, '010950': 0.0, '011070': 0.0, '011170': 0.0, '011780': 0.0, '012330': 0.0, '012450': 0.0, '015760': 0.0, '016360': 0.14285714285714285, '020150': 0.0, '021240': 0.0, '024110': 0.0, '029780': 0.0, '030200': 0.0, '032640': 0.14285714285714285, '032830': 0.0, '033780': 0.0, '034020': 0.0, '034220': 0.0, '034730': 0.0, '035250': 0.0, '036460': 0.0, '036570': 0.0, '039490': 0.0, '047050': 0.0, '051900': 0.0, '051910': 0.0, '052690': 0.0, '055550': 0.0, '066570': 0.14285714285714285, '068270': 0.0, '071050': 0.0, '078930': 0.0, '086280': 0.14285714285714285, '086790': 0.0, '096770': 0.0, '097950': 0.0, '105560': 0.0, '111770': 0.0, '128940': 0.0, '138040': 0.0, '138930': 0.0, '139480': 0.0, '161390': 0.0}\n",
      "Portfolio: {'000270': 0.0, '000660': 0.0, '000720': 0.0, '000810': 0.0, '000880': 0.14285714285714285, '000990': 0.0, '001450': 0.0, '001570': 0.0, '004020': 0.0, '004370': 0.14285714285714285, '005380': 0.0, '005490': 0.0, '005830': 0.0, '005940': 0.0, '006260': 0.0, '006400': 0.0, '006800': 0.0, '007070': 0.0, '008770': 0.0, '009150': 0.0, '009830': 0.14285714285714285, '010120': 0.0, '010130': 0.0, '010620': 0.0, '010950': 0.0, '011070': 0.0, '011170': 0.0, '011780': 0.0, '012330': 0.0, '012450': 0.0, '015760': 0.0, '016360': 0.14285714285714285, '020150': 0.14285714285714285, '021240': 0.14285714285714285, '024110': 0.0, '029780': 0.0, '030200': 0.14285714285714285, '032640': 0.0, '032830': 0.0, '033780': 0.0, '034020': 0.0, '034220': 0.0, '034730': 0.0, '035250': 0.0, '036460': 0.0, '036570': 0.0, '039490': 0.0, '047050': 0.0, '051900': 0.0, '051910': 0.0, '052690': 0.0, '055550': 0.0, '066570': 0.0, '068270': 0.0, '071050': 0.0, '078930': 0.0, '086280': 0.0, '086790': 0.0, '096770': 0.0, '097950': 0.0, '105560': 0.0, '111770': 0.0, '128940': 0.0, '138040': 0.0, '138930': 0.0, '139480': 0.0, '161390': 0.0}\n",
      "Portfolio: {'000270': 0.0, '000660': 0.0, '000720': 0.0, '000810': 0.0, '000880': 0.0, '000990': 0.0, '001450': 0.0, '001570': 0.0, '004020': 0.0, '004370': 0.14285714285714285, '005380': 0.0, '005490': 0.0, '005830': 0.0, '005940': 0.0, '006260': 0.14285714285714285, '006400': 0.0, '006800': 0.0, '007070': 0.0, '008770': 0.14285714285714285, '009150': 0.0, '009830': 0.14285714285714285, '010120': 0.0, '010130': 0.0, '010620': 0.0, '010950': 0.0, '011070': 0.0, '011170': 0.0, '011780': 0.14285714285714285, '012330': 0.14285714285714285, '012450': 0.0, '015760': 0.0, '016360': 0.0, '020150': 0.0, '021240': 0.0, '024110': 0.0, '029780': 0.0, '030200': 0.0, '032640': 0.0, '032830': 0.0, '033780': 0.0, '034020': 0.0, '034220': 0.0, '034730': 0.0, '035250': 0.0, '036460': 0.0, '036570': 0.14285714285714285, '039490': 0.0, '047050': 0.0, '051900': 0.0, '051910': 0.0, '052690': 0.0, '055550': 0.0, '066570': 0.0, '068270': 0.0, '071050': 0.0, '078930': 0.0, '086280': 0.0, '086790': 0.0, '096770': 0.0, '097950': 0.0, '105560': 0.0, '111770': 0.0, '128940': 0.0, '138040': 0.0, '138930': 0.0, '139480': 0.0, '161390': 0.0}\n",
      "Portfolio: {'000270': 0.0, '000660': 0.0, '000720': 0.0, '000810': 0.0, '000880': 0.0, '000990': 0.0, '001450': 0.0, '001570': 0.0, '004020': 0.0, '004370': 0.0, '005380': 0.0, '005490': 0.0, '005830': 0.0, '005940': 0.0, '006260': 0.14285714285714285, '006400': 0.0, '006800': 0.0, '007070': 0.0, '008770': 0.14285714285714285, '009150': 0.0, '009830': 0.0, '010120': 0.0, '010130': 0.0, '010620': 0.0, '010950': 0.0, '011070': 0.14285714285714285, '011170': 0.0, '011780': 0.14285714285714285, '012330': 0.0, '012450': 0.14285714285714285, '015760': 0.0, '016360': 0.0, '020150': 0.0, '021240': 0.0, '024110': 0.0, '029780': 0.0, '030200': 0.0, '032640': 0.0, '032830': 0.0, '033780': 0.0, '034020': 0.0, '034220': 0.0, '034730': 0.0, '035250': 0.0, '036460': 0.0, '036570': 0.0, '039490': 0.0, '047050': 0.0, '051900': 0.0, '051910': 0.0, '052690': 0.0, '055550': 0.0, '066570': 0.14285714285714285, '068270': 0.0, '071050': 0.0, '078930': 0.0, '086280': 0.0, '086790': 0.0, '096770': 0.0, '097950': 0.0, '105560': 0.0, '111770': 0.0, '128940': 0.14285714285714285, '138040': 0.0, '138930': 0.0, '139480': 0.0, '161390': 0.0}\n",
      "Portfolio: {'000270': 0.0, '000660': 0.0, '000720': 0.0, '000810': 0.0, '000880': 0.0, '000990': 0.0, '001450': 0.0, '001570': 0.0, '004020': 0.0, '004370': 0.14285714285714285, '005380': 0.0, '005490': 0.0, '005830': 0.0, '005940': 0.0, '006260': 0.0, '006400': 0.0, '006800': 0.0, '007070': 0.0, '008770': 0.14285714285714285, '009150': 0.0, '009830': 0.0, '010120': 0.0, '010130': 0.0, '010620': 0.0, '010950': 0.0, '011070': 0.14285714285714285, '011170': 0.0, '011780': 0.14285714285714285, '012330': 0.0, '012450': 0.14285714285714285, '015760': 0.0, '016360': 0.0, '020150': 0.0, '021240': 0.0, '024110': 0.0, '029780': 0.0, '030200': 0.0, '032640': 0.14285714285714285, '032830': 0.0, '033780': 0.0, '034020': 0.0, '034220': 0.0, '034730': 0.0, '035250': 0.0, '036460': 0.0, '036570': 0.0, '039490': 0.0, '047050': 0.0, '051900': 0.0, '051910': 0.0, '052690': 0.0, '055550': 0.0, '066570': 0.14285714285714285, '068270': 0.0, '071050': 0.0, '078930': 0.0, '086280': 0.0, '086790': 0.0, '096770': 0.0, '097950': 0.0, '105560': 0.0, '111770': 0.0, '128940': 0.0, '138040': 0.0, '138930': 0.0, '139480': 0.0, '161390': 0.0}\n",
      "Portfolio: {'000270': 0.0, '000660': 0.0, '000720': 0.14285714285714285, '000810': 0.0, '000880': 0.0, '000990': 0.14285714285714285, '001450': 0.0, '001570': 0.0, '004020': 0.0, '004370': 0.0, '005380': 0.0, '005490': 0.0, '005830': 0.0, '005940': 0.0, '006260': 0.0, '006400': 0.0, '006800': 0.0, '007070': 0.0, '008770': 0.0, '009150': 0.14285714285714285, '009830': 0.0, '010120': 0.0, '010130': 0.0, '010620': 0.0, '010950': 0.0, '011070': 0.0, '011170': 0.0, '011780': 0.0, '012330': 0.0, '012450': 0.0, '015760': 0.0, '016360': 0.14285714285714285, '020150': 0.0, '021240': 0.0, '024110': 0.0, '029780': 0.0, '030200': 0.0, '032640': 0.0, '032830': 0.0, '033780': 0.0, '034020': 0.0, '034220': 0.0, '034730': 0.0, '035250': 0.0, '036460': 0.14285714285714285, '036570': 0.0, '039490': 0.0, '047050': 0.0, '051900': 0.0, '051910': 0.0, '052690': 0.0, '055550': 0.0, '066570': 0.0, '068270': 0.14285714285714285, '071050': 0.0, '078930': 0.0, '086280': 0.0, '086790': 0.0, '096770': 0.0, '097950': 0.0, '105560': 0.0, '111770': 0.14285714285714285, '128940': 0.0, '138040': 0.0, '138930': 0.0, '139480': 0.0, '161390': 0.0}\n",
      "Portfolio: {'000270': 0.0, '000660': 0.0, '000720': 0.14285714285714285, '000810': 0.0, '000880': 0.0, '000990': 0.14285714285714285, '001450': 0.0, '001570': 0.0, '004020': 0.0, '004370': 0.0, '005380': 0.0, '005490': 0.0, '005830': 0.0, '005940': 0.0, '006260': 0.0, '006400': 0.0, '006800': 0.0, '007070': 0.0, '008770': 0.0, '009150': 0.0, '009830': 0.14285714285714285, '010120': 0.14285714285714285, '010130': 0.0, '010620': 0.0, '010950': 0.0, '011070': 0.0, '011170': 0.0, '011780': 0.0, '012330': 0.0, '012450': 0.14285714285714285, '015760': 0.0, '016360': 0.0, '020150': 0.0, '021240': 0.0, '024110': 0.0, '029780': 0.0, '030200': 0.0, '032640': 0.14285714285714285, '032830': 0.0, '033780': 0.0, '034020': 0.0, '034220': 0.0, '034730': 0.0, '035250': 0.0, '036460': 0.0, '036570': 0.0, '039490': 0.0, '047050': 0.0, '051900': 0.0, '051910': 0.0, '052690': 0.0, '055550': 0.0, '066570': 0.0, '068270': 0.0, '071050': 0.0, '078930': 0.0, '086280': 0.0, '086790': 0.0, '096770': 0.0, '097950': 0.0, '105560': 0.0, '111770': 0.14285714285714285, '128940': 0.0, '138040': 0.0, '138930': 0.0, '139480': 0.0, '161390': 0.0}\n",
      "Portfolio: {'000270': 0.0, '000660': 0.0, '000720': 0.14285714285714285, '000810': 0.0, '000880': 0.0, '000990': 0.14285714285714285, '001450': 0.0, '001570': 0.0, '004020': 0.0, '004370': 0.0, '005380': 0.0, '005490': 0.0, '005830': 0.0, '005940': 0.0, '006260': 0.0, '006400': 0.0, '006800': 0.0, '007070': 0.0, '008770': 0.0, '009150': 0.0, '009830': 0.14285714285714285, '010120': 0.0, '010130': 0.0, '010620': 0.0, '010950': 0.0, '011070': 0.14285714285714285, '011170': 0.0, '011780': 0.0, '012330': 0.0, '012450': 0.0, '015760': 0.0, '016360': 0.0, '020150': 0.14285714285714285, '021240': 0.0, '024110': 0.0, '029780': 0.0, '030200': 0.0, '032640': 0.0, '032830': 0.0, '033780': 0.0, '034020': 0.0, '034220': 0.0, '034730': 0.0, '035250': 0.0, '036460': 0.0, '036570': 0.0, '039490': 0.0, '047050': 0.0, '051900': 0.0, '051910': 0.0, '052690': 0.0, '055550': 0.0, '066570': 0.0, '068270': 0.0, '071050': 0.0, '078930': 0.0, '086280': 0.0, '086790': 0.14285714285714285, '096770': 0.0, '097950': 0.0, '105560': 0.0, '111770': 0.14285714285714285, '128940': 0.0, '138040': 0.0, '138930': 0.0, '139480': 0.0, '161390': 0.0}\n",
      "Portfolio: {'000270': 0.0, '000660': 0.0, '000720': 0.0, '000810': 0.0, '000880': 0.0, '000990': 0.14285714285714285, '001450': 0.0, '001570': 0.0, '004020': 0.0, '004370': 0.0, '005380': 0.0, '005490': 0.0, '005830': 0.0, '005940': 0.0, '006260': 0.0, '006400': 0.0, '006800': 0.0, '007070': 0.0, '008770': 0.0, '009150': 0.0, '009830': 0.0, '010120': 0.0, '010130': 0.0, '010620': 0.0, '010950': 0.14285714285714285, '011070': 0.0, '011170': 0.0, '011780': 0.0, '012330': 0.0, '012450': 0.0, '015760': 0.0, '016360': 0.0, '020150': 0.14285714285714285, '021240': 0.0, '024110': 0.0, '029780': 0.0, '030200': 0.0, '032640': 0.0, '032830': 0.0, '033780': 0.0, '034020': 0.0, '034220': 0.0, '034730': 0.0, '035250': 0.0, '036460': 0.14285714285714285, '036570': 0.0, '039490': 0.0, '047050': 0.0, '051900': 0.0, '051910': 0.0, '052690': 0.0, '055550': 0.14285714285714285, '066570': 0.0, '068270': 0.0, '071050': 0.0, '078930': 0.0, '086280': 0.0, '086790': 0.14285714285714285, '096770': 0.14285714285714285, '097950': 0.0, '105560': 0.0, '111770': 0.0, '128940': 0.0, '138040': 0.0, '138930': 0.0, '139480': 0.0, '161390': 0.0}\n",
      "Portfolio: {'000270': 0.0, '000660': 0.0, '000720': 0.0, '000810': 0.0, '000880': 0.0, '000990': 0.14285714285714285, '001450': 0.0, '001570': 0.0, '004020': 0.0, '004370': 0.0, '005380': 0.0, '005490': 0.0, '005830': 0.0, '005940': 0.0, '006260': 0.0, '006400': 0.0, '006800': 0.0, '007070': 0.0, '008770': 0.0, '009150': 0.0, '009830': 0.0, '010120': 0.0, '010130': 0.0, '010620': 0.0, '010950': 0.0, '011070': 0.0, '011170': 0.0, '011780': 0.0, '012330': 0.0, '012450': 0.14285714285714285, '015760': 0.0, '016360': 0.0, '020150': 0.14285714285714285, '021240': 0.0, '024110': 0.0, '029780': 0.0, '030200': 0.0, '032640': 0.0, '032830': 0.0, '033780': 0.0, '034020': 0.0, '034220': 0.0, '034730': 0.0, '035250': 0.0, '036460': 0.0, '036570': 0.0, '039490': 0.0, '047050': 0.0, '051900': 0.0, '051910': 0.0, '052690': 0.0, '055550': 0.0, '066570': 0.0, '068270': 0.14285714285714285, '071050': 0.0, '078930': 0.0, '086280': 0.0, '086790': 0.14285714285714285, '096770': 0.0, '097950': 0.0, '105560': 0.0, '111770': 0.14285714285714285, '128940': 0.0, '138040': 0.0, '138930': 0.0, '139480': 0.14285714285714285, '161390': 0.0}\n",
      "Portfolio: {'000270': 0.0, '000660': 0.0, '000720': 0.14285714285714285, '000810': 0.0, '000880': 0.0, '000990': 0.0, '001450': 0.0, '001570': 0.0, '004020': 0.0, '004370': 0.14285714285714285, '005380': 0.0, '005490': 0.0, '005830': 0.14285714285714285, '005940': 0.0, '006260': 0.0, '006400': 0.0, '006800': 0.0, '007070': 0.0, '008770': 0.14285714285714285, '009150': 0.14285714285714285, '009830': 0.0, '010120': 0.0, '010130': 0.0, '010620': 0.14285714285714285, '010950': 0.0, '011070': 0.0, '011170': 0.0, '011780': 0.0, '012330': 0.0, '012450': 0.0, '015760': 0.0, '016360': 0.0, '020150': 0.0, '021240': 0.0, '024110': 0.0, '029780': 0.0, '030200': 0.0, '032640': 0.0, '032830': 0.0, '033780': 0.0, '034020': 0.0, '034220': 0.14285714285714285, '034730': 0.0, '035250': 0.0, '036460': 0.0, '036570': 0.0, '039490': 0.0, '047050': 0.0, '051900': 0.0, '051910': 0.0, '052690': 0.0, '055550': 0.0, '066570': 0.0, '068270': 0.0, '071050': 0.0, '078930': 0.0, '086280': 0.0, '086790': 0.0, '096770': 0.0, '097950': 0.0, '105560': 0.0, '111770': 0.0, '128940': 0.0, '138040': 0.0, '138930': 0.0, '139480': 0.0, '161390': 0.0}\n",
      "Portfolio: {'000270': 0.0, '000660': 0.0, '000720': 0.0, '000810': 0.0, '000880': 0.0, '000990': 0.0, '001450': 0.14285714285714285, '001570': 0.0, '004020': 0.0, '004370': 0.0, '005380': 0.0, '005490': 0.0, '005830': 0.14285714285714285, '005940': 0.0, '006260': 0.0, '006400': 0.0, '006800': 0.0, '007070': 0.0, '008770': 0.0, '009150': 0.0, '009830': 0.0, '010120': 0.0, '010130': 0.0, '010620': 0.0, '010950': 0.0, '011070': 0.0, '011170': 0.0, '011780': 0.0, '012330': 0.0, '012450': 0.0, '015760': 0.0, '016360': 0.0, '020150': 0.0, '021240': 0.0, '024110': 0.0, '029780': 0.0, '030200': 0.0, '032640': 0.0, '032830': 0.0, '033780': 0.0, '034020': 0.0, '034220': 0.14285714285714285, '034730': 0.0, '035250': 0.0, '036460': 0.0, '036570': 0.0, '039490': 0.14285714285714285, '047050': 0.0, '051900': 0.0, '051910': 0.0, '052690': 0.0, '055550': 0.0, '066570': 0.0, '068270': 0.14285714285714285, '071050': 0.0, '078930': 0.0, '086280': 0.0, '086790': 0.0, '096770': 0.0, '097950': 0.0, '105560': 0.0, '111770': 0.0, '128940': 0.14285714285714285, '138040': 0.0, '138930': 0.0, '139480': 0.14285714285714285, '161390': 0.0}\n",
      "Portfolio: {'000270': 0.0, '000660': 0.0, '000720': 0.0, '000810': 0.0, '000880': 0.0, '000990': 0.0, '001450': 0.0, '001570': 0.0, '004020': 0.0, '004370': 0.0, '005380': 0.0, '005490': 0.0, '005830': 0.14285714285714285, '005940': 0.0, '006260': 0.0, '006400': 0.0, '006800': 0.0, '007070': 0.0, '008770': 0.14285714285714285, '009150': 0.0, '009830': 0.0, '010120': 0.0, '010130': 0.0, '010620': 0.0, '010950': 0.0, '011070': 0.0, '011170': 0.0, '011780': 0.14285714285714285, '012330': 0.0, '012450': 0.0, '015760': 0.14285714285714285, '016360': 0.0, '020150': 0.14285714285714285, '021240': 0.0, '024110': 0.0, '029780': 0.0, '030200': 0.0, '032640': 0.0, '032830': 0.0, '033780': 0.0, '034020': 0.0, '034220': 0.0, '034730': 0.0, '035250': 0.0, '036460': 0.0, '036570': 0.0, '039490': 0.0, '047050': 0.0, '051900': 0.0, '051910': 0.0, '052690': 0.0, '055550': 0.0, '066570': 0.0, '068270': 0.0, '071050': 0.0, '078930': 0.0, '086280': 0.0, '086790': 0.0, '096770': 0.0, '097950': 0.14285714285714285, '105560': 0.0, '111770': 0.0, '128940': 0.0, '138040': 0.0, '138930': 0.0, '139480': 0.14285714285714285, '161390': 0.0}\n",
      "Portfolio: {'000270': 0.0, '000660': 0.0, '000720': 0.0, '000810': 0.0, '000880': 0.0, '000990': 0.0, '001450': 0.0, '001570': 0.0, '004020': 0.0, '004370': 0.0, '005380': 0.0, '005490': 0.0, '005830': 0.0, '005940': 0.14285714285714285, '006260': 0.0, '006400': 0.0, '006800': 0.0, '007070': 0.0, '008770': 0.14285714285714285, '009150': 0.0, '009830': 0.0, '010120': 0.0, '010130': 0.0, '010620': 0.0, '010950': 0.0, '011070': 0.0, '011170': 0.0, '011780': 0.14285714285714285, '012330': 0.0, '012450': 0.0, '015760': 0.0, '016360': 0.14285714285714285, '020150': 0.0, '021240': 0.0, '024110': 0.0, '029780': 0.0, '030200': 0.0, '032640': 0.0, '032830': 0.0, '033780': 0.14285714285714285, '034020': 0.0, '034220': 0.14285714285714285, '034730': 0.0, '035250': 0.0, '036460': 0.0, '036570': 0.0, '039490': 0.0, '047050': 0.0, '051900': 0.0, '051910': 0.0, '052690': 0.0, '055550': 0.0, '066570': 0.0, '068270': 0.0, '071050': 0.0, '078930': 0.0, '086280': 0.0, '086790': 0.0, '096770': 0.0, '097950': 0.0, '105560': 0.0, '111770': 0.0, '128940': 0.0, '138040': 0.0, '138930': 0.14285714285714285, '139480': 0.0, '161390': 0.0}\n",
      "Portfolio: {'000270': 0.0, '000660': 0.0, '000720': 0.0, '000810': 0.0, '000880': 0.0, '000990': 0.0, '001450': 0.0, '001570': 0.0, '004020': 0.0, '004370': 0.0, '005380': 0.0, '005490': 0.0, '005830': 0.0, '005940': 0.0, '006260': 0.0, '006400': 0.0, '006800': 0.0, '007070': 0.14285714285714285, '008770': 0.0, '009150': 0.0, '009830': 0.14285714285714285, '010120': 0.0, '010130': 0.0, '010620': 0.0, '010950': 0.0, '011070': 0.14285714285714285, '011170': 0.0, '011780': 0.0, '012330': 0.0, '012450': 0.0, '015760': 0.0, '016360': 0.0, '020150': 0.0, '021240': 0.0, '024110': 0.0, '029780': 0.0, '030200': 0.0, '032640': 0.14285714285714285, '032830': 0.0, '033780': 0.0, '034020': 0.0, '034220': 0.0, '034730': 0.0, '035250': 0.0, '036460': 0.0, '036570': 0.0, '039490': 0.0, '047050': 0.0, '051900': 0.0, '051910': 0.14285714285714285, '052690': 0.0, '055550': 0.0, '066570': 0.0, '068270': 0.0, '071050': 0.0, '078930': 0.0, '086280': 0.14285714285714285, '086790': 0.0, '096770': 0.0, '097950': 0.14285714285714285, '105560': 0.0, '111770': 0.0, '128940': 0.0, '138040': 0.0, '138930': 0.0, '139480': 0.0, '161390': 0.0}\n",
      "Portfolio: {'000270': 0.0, '000660': 0.0, '000720': 0.0, '000810': 0.0, '000880': 0.0, '000990': 0.0, '001450': 0.14285714285714285, '001570': 0.0, '004020': 0.0, '004370': 0.14285714285714285, '005380': 0.0, '005490': 0.0, '005830': 0.14285714285714285, '005940': 0.0, '006260': 0.0, '006400': 0.0, '006800': 0.0, '007070': 0.0, '008770': 0.0, '009150': 0.0, '009830': 0.14285714285714285, '010120': 0.0, '010130': 0.14285714285714285, '010620': 0.0, '010950': 0.0, '011070': 0.0, '011170': 0.0, '011780': 0.0, '012330': 0.0, '012450': 0.0, '015760': 0.0, '016360': 0.0, '020150': 0.0, '021240': 0.0, '024110': 0.0, '029780': 0.0, '030200': 0.0, '032640': 0.0, '032830': 0.0, '033780': 0.0, '034020': 0.0, '034220': 0.0, '034730': 0.0, '035250': 0.0, '036460': 0.0, '036570': 0.0, '039490': 0.0, '047050': 0.0, '051900': 0.0, '051910': 0.0, '052690': 0.0, '055550': 0.0, '066570': 0.0, '068270': 0.0, '071050': 0.0, '078930': 0.0, '086280': 0.0, '086790': 0.0, '096770': 0.0, '097950': 0.14285714285714285, '105560': 0.0, '111770': 0.14285714285714285, '128940': 0.0, '138040': 0.0, '138930': 0.0, '139480': 0.0, '161390': 0.0}\n",
      "Portfolio: {'000270': 0.0, '000660': 0.0, '000720': 0.0, '000810': 0.0, '000880': 0.0, '000990': 0.14285714285714285, '001450': 0.0, '001570': 0.0, '004020': 0.0, '004370': 0.14285714285714285, '005380': 0.0, '005490': 0.0, '005830': 0.14285714285714285, '005940': 0.0, '006260': 0.0, '006400': 0.0, '006800': 0.0, '007070': 0.0, '008770': 0.0, '009150': 0.0, '009830': 0.0, '010120': 0.0, '010130': 0.0, '010620': 0.0, '010950': 0.0, '011070': 0.14285714285714285, '011170': 0.14285714285714285, '011780': 0.14285714285714285, '012330': 0.0, '012450': 0.0, '015760': 0.0, '016360': 0.0, '020150': 0.0, '021240': 0.0, '024110': 0.0, '029780': 0.0, '030200': 0.0, '032640': 0.0, '032830': 0.0, '033780': 0.0, '034020': 0.0, '034220': 0.0, '034730': 0.0, '035250': 0.0, '036460': 0.0, '036570': 0.0, '039490': 0.0, '047050': 0.0, '051900': 0.0, '051910': 0.0, '052690': 0.0, '055550': 0.0, '066570': 0.0, '068270': 0.0, '071050': 0.0, '078930': 0.0, '086280': 0.0, '086790': 0.0, '096770': 0.0, '097950': 0.0, '105560': 0.0, '111770': 0.0, '128940': 0.0, '138040': 0.0, '138930': 0.0, '139480': 0.14285714285714285, '161390': 0.0}\n",
      "Portfolio: {'000270': 0.0, '000660': 0.0, '000720': 0.0, '000810': 0.0, '000880': 0.0, '000990': 0.14285714285714285, '001450': 0.14285714285714285, '001570': 0.0, '004020': 0.0, '004370': 0.0, '005380': 0.0, '005490': 0.0, '005830': 0.14285714285714285, '005940': 0.0, '006260': 0.0, '006400': 0.0, '006800': 0.0, '007070': 0.0, '008770': 0.0, '009150': 0.0, '009830': 0.0, '010120': 0.0, '010130': 0.0, '010620': 0.0, '010950': 0.14285714285714285, '011070': 0.0, '011170': 0.14285714285714285, '011780': 0.14285714285714285, '012330': 0.0, '012450': 0.0, '015760': 0.0, '016360': 0.0, '020150': 0.0, '021240': 0.0, '024110': 0.0, '029780': 0.0, '030200': 0.0, '032640': 0.0, '032830': 0.0, '033780': 0.14285714285714285, '034020': 0.0, '034220': 0.0, '034730': 0.0, '035250': 0.0, '036460': 0.0, '036570': 0.0, '039490': 0.0, '047050': 0.0, '051900': 0.0, '051910': 0.0, '052690': 0.0, '055550': 0.0, '066570': 0.0, '068270': 0.0, '071050': 0.0, '078930': 0.0, '086280': 0.0, '086790': 0.0, '096770': 0.0, '097950': 0.0, '105560': 0.0, '111770': 0.0, '128940': 0.0, '138040': 0.0, '138930': 0.0, '139480': 0.0, '161390': 0.0}\n",
      "Portfolio: {'000270': 0.0, '000660': 0.0, '000720': 0.0, '000810': 0.0, '000880': 0.0, '000990': 0.0, '001450': 0.0, '001570': 0.0, '004020': 0.0, '004370': 0.0, '005380': 0.0, '005490': 0.0, '005830': 0.0, '005940': 0.0, '006260': 0.0, '006400': 0.0, '006800': 0.14285714285714285, '007070': 0.0, '008770': 0.0, '009150': 0.0, '009830': 0.0, '010120': 0.14285714285714285, '010130': 0.0, '010620': 0.0, '010950': 0.0, '011070': 0.0, '011170': 0.0, '011780': 0.0, '012330': 0.0, '012450': 0.0, '015760': 0.0, '016360': 0.0, '020150': 0.0, '021240': 0.0, '024110': 0.0, '029780': 0.0, '030200': 0.0, '032640': 0.0, '032830': 0.0, '033780': 0.14285714285714285, '034020': 0.0, '034220': 0.0, '034730': 0.0, '035250': 0.0, '036460': 0.0, '036570': 0.0, '039490': 0.14285714285714285, '047050': 0.0, '051900': 0.0, '051910': 0.0, '052690': 0.0, '055550': 0.0, '066570': 0.0, '068270': 0.0, '071050': 0.14285714285714285, '078930': 0.0, '086280': 0.0, '086790': 0.0, '096770': 0.0, '097950': 0.0, '105560': 0.0, '111770': 0.14285714285714285, '128940': 0.0, '138040': 0.0, '138930': 0.0, '139480': 0.0, '161390': 0.14285714285714285}\n",
      "Portfolio: {'000270': 0.0, '000660': 0.0, '000720': 0.0, '000810': 0.0, '000880': 0.0, '000990': 0.0, '001450': 0.0, '001570': 0.0, '004020': 0.0, '004370': 0.14285714285714285, '005380': 0.0, '005490': 0.0, '005830': 0.0, '005940': 0.0, '006260': 0.0, '006400': 0.0, '006800': 0.14285714285714285, '007070': 0.0, '008770': 0.0, '009150': 0.0, '009830': 0.0, '010120': 0.14285714285714285, '010130': 0.0, '010620': 0.0, '010950': 0.0, '011070': 0.14285714285714285, '011170': 0.0, '011780': 0.0, '012330': 0.0, '012450': 0.0, '015760': 0.0, '016360': 0.0, '020150': 0.0, '021240': 0.0, '024110': 0.0, '029780': 0.0, '030200': 0.0, '032640': 0.0, '032830': 0.0, '033780': 0.0, '034020': 0.0, '034220': 0.0, '034730': 0.0, '035250': 0.0, '036460': 0.0, '036570': 0.0, '039490': 0.14285714285714285, '047050': 0.0, '051900': 0.0, '051910': 0.0, '052690': 0.0, '055550': 0.0, '066570': 0.14285714285714285, '068270': 0.0, '071050': 0.0, '078930': 0.0, '086280': 0.0, '086790': 0.0, '096770': 0.0, '097950': 0.14285714285714285, '105560': 0.0, '111770': 0.0, '128940': 0.0, '138040': 0.0, '138930': 0.0, '139480': 0.0, '161390': 0.0}\n",
      "Portfolio: {'000270': 0.0, '000660': 0.0, '000720': 0.0, '000810': 0.0, '000880': 0.0, '000990': 0.0, '001450': 0.0, '001570': 0.14285714285714285, '004020': 0.14285714285714285, '004370': 0.0, '005380': 0.0, '005490': 0.0, '005830': 0.0, '005940': 0.0, '006260': 0.14285714285714285, '006400': 0.0, '006800': 0.14285714285714285, '007070': 0.0, '008770': 0.0, '009150': 0.0, '009830': 0.14285714285714285, '010120': 0.0, '010130': 0.14285714285714285, '010620': 0.0, '010950': 0.0, '011070': 0.0, '011170': 0.0, '011780': 0.0, '012330': 0.0, '012450': 0.0, '015760': 0.0, '016360': 0.0, '020150': 0.0, '021240': 0.0, '024110': 0.0, '029780': 0.0, '030200': 0.0, '032640': 0.0, '032830': 0.0, '033780': 0.0, '034020': 0.0, '034220': 0.0, '034730': 0.0, '035250': 0.0, '036460': 0.0, '036570': 0.0, '039490': 0.0, '047050': 0.0, '051900': 0.0, '051910': 0.0, '052690': 0.0, '055550': 0.0, '066570': 0.0, '068270': 0.0, '071050': 0.0, '078930': 0.0, '086280': 0.14285714285714285, '086790': 0.0, '096770': 0.0, '097950': 0.0, '105560': 0.0, '111770': 0.0, '128940': 0.0, '138040': 0.0, '138930': 0.0, '139480': 0.0, '161390': 0.0}\n",
      "Portfolio: {'000270': 0.0, '000660': 0.0, '000720': 0.0, '000810': 0.0, '000880': 0.0, '000990': 0.14285714285714285, '001450': 0.0, '001570': 0.0, '004020': 0.0, '004370': 0.0, '005380': 0.0, '005490': 0.0, '005830': 0.0, '005940': 0.0, '006260': 0.0, '006400': 0.0, '006800': 0.0, '007070': 0.0, '008770': 0.0, '009150': 0.0, '009830': 0.14285714285714285, '010120': 0.0, '010130': 0.0, '010620': 0.0, '010950': 0.0, '011070': 0.0, '011170': 0.0, '011780': 0.0, '012330': 0.0, '012450': 0.0, '015760': 0.0, '016360': 0.0, '020150': 0.0, '021240': 0.0, '024110': 0.0, '029780': 0.0, '030200': 0.0, '032640': 0.0, '032830': 0.0, '033780': 0.0, '034020': 0.14285714285714285, '034220': 0.0, '034730': 0.0, '035250': 0.0, '036460': 0.0, '036570': 0.14285714285714285, '039490': 0.0, '047050': 0.0, '051900': 0.0, '051910': 0.0, '052690': 0.0, '055550': 0.0, '066570': 0.14285714285714285, '068270': 0.0, '071050': 0.0, '078930': 0.0, '086280': 0.14285714285714285, '086790': 0.0, '096770': 0.0, '097950': 0.0, '105560': 0.0, '111770': 0.14285714285714285, '128940': 0.0, '138040': 0.0, '138930': 0.0, '139480': 0.0, '161390': 0.0}\n",
      "Portfolio: {'000270': 0.0, '000660': 0.0, '000720': 0.0, '000810': 0.0, '000880': 0.0, '000990': 0.0, '001450': 0.0, '001570': 0.0, '004020': 0.0, '004370': 0.0, '005380': 0.0, '005490': 0.14285714285714285, '005830': 0.0, '005940': 0.0, '006260': 0.0, '006400': 0.0, '006800': 0.0, '007070': 0.0, '008770': 0.14285714285714285, '009150': 0.14285714285714285, '009830': 0.0, '010120': 0.14285714285714285, '010130': 0.0, '010620': 0.0, '010950': 0.0, '011070': 0.0, '011170': 0.0, '011780': 0.14285714285714285, '012330': 0.0, '012450': 0.0, '015760': 0.0, '016360': 0.0, '020150': 0.0, '021240': 0.0, '024110': 0.0, '029780': 0.0, '030200': 0.0, '032640': 0.0, '032830': 0.0, '033780': 0.0, '034020': 0.0, '034220': 0.0, '034730': 0.0, '035250': 0.0, '036460': 0.0, '036570': 0.0, '039490': 0.0, '047050': 0.0, '051900': 0.0, '051910': 0.0, '052690': 0.0, '055550': 0.0, '066570': 0.0, '068270': 0.0, '071050': 0.0, '078930': 0.0, '086280': 0.0, '086790': 0.0, '096770': 0.0, '097950': 0.0, '105560': 0.0, '111770': 0.14285714285714285, '128940': 0.0, '138040': 0.0, '138930': 0.0, '139480': 0.14285714285714285, '161390': 0.0}\n",
      "Portfolio: {'000270': 0.0, '000660': 0.0, '000720': 0.0, '000810': 0.0, '000880': 0.0, '000990': 0.0, '001450': 0.0, '001570': 0.0, '004020': 0.14285714285714285, '004370': 0.0, '005380': 0.0, '005490': 0.14285714285714285, '005830': 0.0, '005940': 0.0, '006260': 0.0, '006400': 0.0, '006800': 0.0, '007070': 0.14285714285714285, '008770': 0.0, '009150': 0.0, '009830': 0.14285714285714285, '010120': 0.0, '010130': 0.0, '010620': 0.0, '010950': 0.0, '011070': 0.0, '011170': 0.14285714285714285, '011780': 0.14285714285714285, '012330': 0.0, '012450': 0.0, '015760': 0.0, '016360': 0.0, '020150': 0.0, '021240': 0.0, '024110': 0.0, '029780': 0.0, '030200': 0.0, '032640': 0.0, '032830': 0.0, '033780': 0.0, '034020': 0.0, '034220': 0.0, '034730': 0.0, '035250': 0.0, '036460': 0.0, '036570': 0.0, '039490': 0.0, '047050': 0.0, '051900': 0.0, '051910': 0.0, '052690': 0.0, '055550': 0.14285714285714285, '066570': 0.0, '068270': 0.0, '071050': 0.0, '078930': 0.0, '086280': 0.0, '086790': 0.0, '096770': 0.0, '097950': 0.0, '105560': 0.0, '111770': 0.0, '128940': 0.0, '138040': 0.0, '138930': 0.0, '139480': 0.0, '161390': 0.0}\n",
      "Portfolio: {'000270': 0.0, '000660': 0.0, '000720': 0.14285714285714285, '000810': 0.14285714285714285, '000880': 0.0, '000990': 0.0, '001450': 0.0, '001570': 0.0, '004020': 0.0, '004370': 0.0, '005380': 0.0, '005490': 0.0, '005830': 0.0, '005940': 0.0, '006260': 0.0, '006400': 0.0, '006800': 0.0, '007070': 0.0, '008770': 0.0, '009150': 0.0, '009830': 0.0, '010120': 0.0, '010130': 0.0, '010620': 0.0, '010950': 0.14285714285714285, '011070': 0.0, '011170': 0.14285714285714285, '011780': 0.0, '012330': 0.0, '012450': 0.0, '015760': 0.0, '016360': 0.14285714285714285, '020150': 0.0, '021240': 0.0, '024110': 0.0, '029780': 0.0, '030200': 0.0, '032640': 0.0, '032830': 0.0, '033780': 0.0, '034020': 0.0, '034220': 0.0, '034730': 0.0, '035250': 0.0, '036460': 0.0, '036570': 0.0, '039490': 0.0, '047050': 0.0, '051900': 0.0, '051910': 0.0, '052690': 0.0, '055550': 0.0, '066570': 0.0, '068270': 0.0, '071050': 0.0, '078930': 0.0, '086280': 0.0, '086790': 0.0, '096770': 0.14285714285714285, '097950': 0.0, '105560': 0.0, '111770': 0.0, '128940': 0.14285714285714285, '138040': 0.0, '138930': 0.0, '139480': 0.0, '161390': 0.0}\n",
      "Portfolio: {'000270': 0.0, '000660': 0.0, '000720': 0.14285714285714285, '000810': 0.0, '000880': 0.0, '000990': 0.14285714285714285, '001450': 0.0, '001570': 0.0, '004020': 0.0, '004370': 0.0, '005380': 0.0, '005490': 0.0, '005830': 0.0, '005940': 0.0, '006260': 0.0, '006400': 0.0, '006800': 0.0, '007070': 0.0, '008770': 0.0, '009150': 0.0, '009830': 0.0, '010120': 0.0, '010130': 0.0, '010620': 0.0, '010950': 0.0, '011070': 0.14285714285714285, '011170': 0.0, '011780': 0.0, '012330': 0.0, '012450': 0.0, '015760': 0.14285714285714285, '016360': 0.0, '020150': 0.14285714285714285, '021240': 0.0, '024110': 0.0, '029780': 0.0, '030200': 0.0, '032640': 0.0, '032830': 0.0, '033780': 0.0, '034020': 0.0, '034220': 0.0, '034730': 0.0, '035250': 0.0, '036460': 0.0, '036570': 0.14285714285714285, '039490': 0.0, '047050': 0.0, '051900': 0.0, '051910': 0.0, '052690': 0.0, '055550': 0.0, '066570': 0.0, '068270': 0.0, '071050': 0.0, '078930': 0.0, '086280': 0.0, '086790': 0.0, '096770': 0.0, '097950': 0.0, '105560': 0.0, '111770': 0.0, '128940': 0.14285714285714285, '138040': 0.0, '138930': 0.0, '139480': 0.0, '161390': 0.0}\n",
      "Portfolio: {'000270': 0.0, '000660': 0.0, '000720': 0.0, '000810': 0.0, '000880': 0.0, '000990': 0.0, '001450': 0.0, '001570': 0.0, '004020': 0.0, '004370': 0.0, '005380': 0.0, '005490': 0.0, '005830': 0.0, '005940': 0.0, '006260': 0.0, '006400': 0.0, '006800': 0.0, '007070': 0.0, '008770': 0.0, '009150': 0.0, '009830': 0.0, '010120': 0.0, '010130': 0.14285714285714285, '010620': 0.0, '010950': 0.0, '011070': 0.14285714285714285, '011170': 0.0, '011780': 0.0, '012330': 0.0, '012450': 0.14285714285714285, '015760': 0.0, '016360': 0.0, '020150': 0.14285714285714285, '021240': 0.0, '024110': 0.0, '029780': 0.0, '030200': 0.0, '032640': 0.0, '032830': 0.0, '033780': 0.0, '034020': 0.0, '034220': 0.0, '034730': 0.14285714285714285, '035250': 0.0, '036460': 0.0, '036570': 0.0, '039490': 0.0, '047050': 0.0, '051900': 0.0, '051910': 0.0, '052690': 0.0, '055550': 0.0, '066570': 0.0, '068270': 0.0, '071050': 0.0, '078930': 0.0, '086280': 0.0, '086790': 0.0, '096770': 0.0, '097950': 0.14285714285714285, '105560': 0.0, '111770': 0.0, '128940': 0.0, '138040': 0.0, '138930': 0.0, '139480': 0.14285714285714285, '161390': 0.0}\n",
      "Portfolio: {'000270': 0.0, '000660': 0.0, '000720': 0.0, '000810': 0.0, '000880': 0.0, '000990': 0.0, '001450': 0.0, '001570': 0.0, '004020': 0.0, '004370': 0.0, '005380': 0.0, '005490': 0.0, '005830': 0.0, '005940': 0.0, '006260': 0.0, '006400': 0.0, '006800': 0.14285714285714285, '007070': 0.0, '008770': 0.0, '009150': 0.0, '009830': 0.0, '010120': 0.0, '010130': 0.0, '010620': 0.14285714285714285, '010950': 0.14285714285714285, '011070': 0.0, '011170': 0.14285714285714285, '011780': 0.0, '012330': 0.0, '012450': 0.0, '015760': 0.0, '016360': 0.0, '020150': 0.0, '021240': 0.0, '024110': 0.0, '029780': 0.0, '030200': 0.14285714285714285, '032640': 0.0, '032830': 0.0, '033780': 0.0, '034020': 0.0, '034220': 0.0, '034730': 0.0, '035250': 0.0, '036460': 0.0, '036570': 0.0, '039490': 0.0, '047050': 0.14285714285714285, '051900': 0.0, '051910': 0.0, '052690': 0.0, '055550': 0.0, '066570': 0.0, '068270': 0.0, '071050': 0.0, '078930': 0.0, '086280': 0.0, '086790': 0.0, '096770': 0.0, '097950': 0.0, '105560': 0.0, '111770': 0.14285714285714285, '128940': 0.0, '138040': 0.0, '138930': 0.0, '139480': 0.0, '161390': 0.0}\n",
      "Portfolio: {'000270': 0.0, '000660': 0.0, '000720': 0.0, '000810': 0.0, '000880': 0.0, '000990': 0.0, '001450': 0.14285714285714285, '001570': 0.0, '004020': 0.14285714285714285, '004370': 0.0, '005380': 0.0, '005490': 0.0, '005830': 0.0, '005940': 0.0, '006260': 0.0, '006400': 0.0, '006800': 0.0, '007070': 0.0, '008770': 0.14285714285714285, '009150': 0.0, '009830': 0.0, '010120': 0.0, '010130': 0.0, '010620': 0.14285714285714285, '010950': 0.0, '011070': 0.0, '011170': 0.0, '011780': 0.0, '012330': 0.0, '012450': 0.14285714285714285, '015760': 0.0, '016360': 0.0, '020150': 0.0, '021240': 0.0, '024110': 0.0, '029780': 0.0, '030200': 0.14285714285714285, '032640': 0.0, '032830': 0.0, '033780': 0.0, '034020': 0.0, '034220': 0.0, '034730': 0.0, '035250': 0.0, '036460': 0.0, '036570': 0.0, '039490': 0.0, '047050': 0.0, '051900': 0.0, '051910': 0.0, '052690': 0.0, '055550': 0.0, '066570': 0.0, '068270': 0.0, '071050': 0.0, '078930': 0.0, '086280': 0.0, '086790': 0.0, '096770': 0.0, '097950': 0.0, '105560': 0.0, '111770': 0.0, '128940': 0.0, '138040': 0.0, '138930': 0.14285714285714285, '139480': 0.0, '161390': 0.0}\n",
      "Portfolio: {'000270': 0.0, '000660': 0.0, '000720': 0.14285714285714285, '000810': 0.0, '000880': 0.0, '000990': 0.0, '001450': 0.14285714285714285, '001570': 0.0, '004020': 0.14285714285714285, '004370': 0.0, '005380': 0.0, '005490': 0.0, '005830': 0.0, '005940': 0.0, '006260': 0.0, '006400': 0.0, '006800': 0.0, '007070': 0.0, '008770': 0.14285714285714285, '009150': 0.0, '009830': 0.0, '010120': 0.0, '010130': 0.14285714285714285, '010620': 0.0, '010950': 0.0, '011070': 0.0, '011170': 0.0, '011780': 0.0, '012330': 0.0, '012450': 0.0, '015760': 0.0, '016360': 0.0, '020150': 0.0, '021240': 0.0, '024110': 0.0, '029780': 0.0, '030200': 0.0, '032640': 0.0, '032830': 0.0, '033780': 0.0, '034020': 0.0, '034220': 0.14285714285714285, '034730': 0.0, '035250': 0.0, '036460': 0.0, '036570': 0.0, '039490': 0.0, '047050': 0.0, '051900': 0.0, '051910': 0.0, '052690': 0.0, '055550': 0.0, '066570': 0.0, '068270': 0.0, '071050': 0.0, '078930': 0.14285714285714285, '086280': 0.0, '086790': 0.0, '096770': 0.0, '097950': 0.0, '105560': 0.0, '111770': 0.0, '128940': 0.0, '138040': 0.0, '138930': 0.0, '139480': 0.0, '161390': 0.0}\n",
      "Portfolio: {'000270': 0.0, '000660': 0.0, '000720': 0.0, '000810': 0.0, '000880': 0.0, '000990': 0.0, '001450': 0.14285714285714285, '001570': 0.0, '004020': 0.0, '004370': 0.14285714285714285, '005380': 0.0, '005490': 0.0, '005830': 0.0, '005940': 0.0, '006260': 0.0, '006400': 0.0, '006800': 0.0, '007070': 0.0, '008770': 0.14285714285714285, '009150': 0.0, '009830': 0.0, '010120': 0.0, '010130': 0.0, '010620': 0.0, '010950': 0.0, '011070': 0.0, '011170': 0.0, '011780': 0.0, '012330': 0.0, '012450': 0.14285714285714285, '015760': 0.0, '016360': 0.0, '020150': 0.0, '021240': 0.14285714285714285, '024110': 0.0, '029780': 0.0, '030200': 0.0, '032640': 0.0, '032830': 0.0, '033780': 0.0, '034020': 0.0, '034220': 0.0, '034730': 0.0, '035250': 0.14285714285714285, '036460': 0.0, '036570': 0.0, '039490': 0.0, '047050': 0.0, '051900': 0.0, '051910': 0.0, '052690': 0.0, '055550': 0.0, '066570': 0.0, '068270': 0.0, '071050': 0.0, '078930': 0.0, '086280': 0.0, '086790': 0.0, '096770': 0.0, '097950': 0.14285714285714285, '105560': 0.0, '111770': 0.0, '128940': 0.0, '138040': 0.0, '138930': 0.0, '139480': 0.0, '161390': 0.0}\n",
      "Portfolio: {'000270': 0.0, '000660': 0.0, '000720': 0.0, '000810': 0.0, '000880': 0.0, '000990': 0.14285714285714285, '001450': 0.14285714285714285, '001570': 0.0, '004020': 0.0, '004370': 0.14285714285714285, '005380': 0.0, '005490': 0.0, '005830': 0.0, '005940': 0.0, '006260': 0.0, '006400': 0.0, '006800': 0.0, '007070': 0.0, '008770': 0.0, '009150': 0.0, '009830': 0.0, '010120': 0.0, '010130': 0.0, '010620': 0.0, '010950': 0.0, '011070': 0.14285714285714285, '011170': 0.0, '011780': 0.0, '012330': 0.0, '012450': 0.0, '015760': 0.0, '016360': 0.0, '020150': 0.0, '021240': 0.0, '024110': 0.0, '029780': 0.0, '030200': 0.0, '032640': 0.0, '032830': 0.0, '033780': 0.0, '034020': 0.0, '034220': 0.0, '034730': 0.0, '035250': 0.0, '036460': 0.14285714285714285, '036570': 0.0, '039490': 0.0, '047050': 0.14285714285714285, '051900': 0.0, '051910': 0.0, '052690': 0.0, '055550': 0.0, '066570': 0.0, '068270': 0.0, '071050': 0.0, '078930': 0.0, '086280': 0.14285714285714285, '086790': 0.0, '096770': 0.0, '097950': 0.0, '105560': 0.0, '111770': 0.0, '128940': 0.0, '138040': 0.0, '138930': 0.0, '139480': 0.0, '161390': 0.0}\n",
      "Portfolio: {'000270': 0.0, '000660': 0.0, '000720': 0.0, '000810': 0.0, '000880': 0.0, '000990': 0.14285714285714285, '001450': 0.0, '001570': 0.0, '004020': 0.0, '004370': 0.14285714285714285, '005380': 0.0, '005490': 0.0, '005830': 0.0, '005940': 0.0, '006260': 0.14285714285714285, '006400': 0.0, '006800': 0.0, '007070': 0.0, '008770': 0.0, '009150': 0.14285714285714285, '009830': 0.0, '010120': 0.14285714285714285, '010130': 0.14285714285714285, '010620': 0.0, '010950': 0.0, '011070': 0.0, '011170': 0.0, '011780': 0.0, '012330': 0.0, '012450': 0.0, '015760': 0.0, '016360': 0.0, '020150': 0.0, '021240': 0.0, '024110': 0.0, '029780': 0.0, '030200': 0.14285714285714285, '032640': 0.0, '032830': 0.0, '033780': 0.0, '034020': 0.0, '034220': 0.0, '034730': 0.0, '035250': 0.0, '036460': 0.0, '036570': 0.0, '039490': 0.0, '047050': 0.0, '051900': 0.0, '051910': 0.0, '052690': 0.0, '055550': 0.0, '066570': 0.0, '068270': 0.0, '071050': 0.0, '078930': 0.0, '086280': 0.0, '086790': 0.0, '096770': 0.0, '097950': 0.0, '105560': 0.0, '111770': 0.0, '128940': 0.0, '138040': 0.0, '138930': 0.0, '139480': 0.0, '161390': 0.0}\n",
      "Portfolio: {'000270': 0.0, '000660': 0.0, '000720': 0.0, '000810': 0.0, '000880': 0.14285714285714285, '000990': 0.0, '001450': 0.14285714285714285, '001570': 0.0, '004020': 0.0, '004370': 0.0, '005380': 0.0, '005490': 0.0, '005830': 0.14285714285714285, '005940': 0.0, '006260': 0.0, '006400': 0.0, '006800': 0.0, '007070': 0.14285714285714285, '008770': 0.0, '009150': 0.0, '009830': 0.0, '010120': 0.0, '010130': 0.0, '010620': 0.0, '010950': 0.0, '011070': 0.0, '011170': 0.0, '011780': 0.0, '012330': 0.0, '012450': 0.0, '015760': 0.0, '016360': 0.14285714285714285, '020150': 0.0, '021240': 0.0, '024110': 0.0, '029780': 0.0, '030200': 0.0, '032640': 0.0, '032830': 0.0, '033780': 0.0, '034020': 0.0, '034220': 0.0, '034730': 0.0, '035250': 0.0, '036460': 0.0, '036570': 0.0, '039490': 0.0, '047050': 0.0, '051900': 0.0, '051910': 0.0, '052690': 0.0, '055550': 0.0, '066570': 0.0, '068270': 0.14285714285714285, '071050': 0.0, '078930': 0.0, '086280': 0.0, '086790': 0.0, '096770': 0.0, '097950': 0.0, '105560': 0.0, '111770': 0.0, '128940': 0.0, '138040': 0.0, '138930': 0.0, '139480': 0.14285714285714285, '161390': 0.0}\n",
      "Portfolio: {'000270': 0.0, '000660': 0.0, '000720': 0.0, '000810': 0.0, '000880': 0.0, '000990': 0.0, '001450': 0.0, '001570': 0.0, '004020': 0.0, '004370': 0.0, '005380': 0.0, '005490': 0.0, '005830': 0.0, '005940': 0.0, '006260': 0.0, '006400': 0.0, '006800': 0.0, '007070': 0.0, '008770': 0.0, '009150': 0.0, '009830': 0.14285714285714285, '010120': 0.0, '010130': 0.0, '010620': 0.0, '010950': 0.14285714285714285, '011070': 0.0, '011170': 0.0, '011780': 0.0, '012330': 0.0, '012450': 0.0, '015760': 0.0, '016360': 0.0, '020150': 0.14285714285714285, '021240': 0.0, '024110': 0.0, '029780': 0.0, '030200': 0.0, '032640': 0.0, '032830': 0.0, '033780': 0.0, '034020': 0.0, '034220': 0.0, '034730': 0.0, '035250': 0.0, '036460': 0.14285714285714285, '036570': 0.0, '039490': 0.0, '047050': 0.14285714285714285, '051900': 0.0, '051910': 0.0, '052690': 0.14285714285714285, '055550': 0.0, '066570': 0.0, '068270': 0.0, '071050': 0.0, '078930': 0.0, '086280': 0.0, '086790': 0.0, '096770': 0.0, '097950': 0.0, '105560': 0.0, '111770': 0.14285714285714285, '128940': 0.0, '138040': 0.0, '138930': 0.0, '139480': 0.0, '161390': 0.0}\n",
      "Portfolio: {'000270': 0.0, '000660': 0.0, '000720': 0.0, '000810': 0.0, '000880': 0.0, '000990': 0.0, '001450': 0.14285714285714285, '001570': 0.0, '004020': 0.0, '004370': 0.0, '005380': 0.0, '005490': 0.0, '005830': 0.0, '005940': 0.0, '006260': 0.0, '006400': 0.0, '006800': 0.14285714285714285, '007070': 0.0, '008770': 0.0, '009150': 0.0, '009830': 0.0, '010120': 0.0, '010130': 0.0, '010620': 0.0, '010950': 0.0, '011070': 0.0, '011170': 0.0, '011780': 0.0, '012330': 0.0, '012450': 0.0, '015760': 0.0, '016360': 0.0, '020150': 0.0, '021240': 0.0, '024110': 0.0, '029780': 0.0, '030200': 0.0, '032640': 0.0, '032830': 0.0, '033780': 0.0, '034020': 0.14285714285714285, '034220': 0.14285714285714285, '034730': 0.0, '035250': 0.0, '036460': 0.0, '036570': 0.0, '039490': 0.0, '047050': 0.0, '051900': 0.0, '051910': 0.0, '052690': 0.14285714285714285, '055550': 0.0, '066570': 0.0, '068270': 0.0, '071050': 0.0, '078930': 0.0, '086280': 0.14285714285714285, '086790': 0.0, '096770': 0.0, '097950': 0.0, '105560': 0.0, '111770': 0.0, '128940': 0.0, '138040': 0.0, '138930': 0.0, '139480': 0.14285714285714285, '161390': 0.0}\n",
      "Portfolio: {'000270': 0.0, '000660': 0.0, '000720': 0.0, '000810': 0.0, '000880': 0.0, '000990': 0.14285714285714285, '001450': 0.0, '001570': 0.0, '004020': 0.0, '004370': 0.0, '005380': 0.0, '005490': 0.0, '005830': 0.0, '005940': 0.0, '006260': 0.0, '006400': 0.0, '006800': 0.14285714285714285, '007070': 0.0, '008770': 0.0, '009150': 0.0, '009830': 0.0, '010120': 0.0, '010130': 0.0, '010620': 0.0, '010950': 0.0, '011070': 0.14285714285714285, '011170': 0.0, '011780': 0.0, '012330': 0.0, '012450': 0.0, '015760': 0.0, '016360': 0.0, '020150': 0.0, '021240': 0.0, '024110': 0.0, '029780': 0.0, '030200': 0.0, '032640': 0.0, '032830': 0.0, '033780': 0.0, '034020': 0.14285714285714285, '034220': 0.14285714285714285, '034730': 0.0, '035250': 0.0, '036460': 0.0, '036570': 0.14285714285714285, '039490': 0.0, '047050': 0.0, '051900': 0.0, '051910': 0.0, '052690': 0.14285714285714285, '055550': 0.0, '066570': 0.0, '068270': 0.0, '071050': 0.0, '078930': 0.0, '086280': 0.0, '086790': 0.0, '096770': 0.0, '097950': 0.0, '105560': 0.0, '111770': 0.0, '128940': 0.0, '138040': 0.0, '138930': 0.0, '139480': 0.0, '161390': 0.0}\n",
      "Portfolio: {'000270': 0.0, '000660': 0.0, '000720': 0.0, '000810': 0.0, '000880': 0.0, '000990': 0.0, '001450': 0.0, '001570': 0.0, '004020': 0.0, '004370': 0.14285714285714285, '005380': 0.0, '005490': 0.0, '005830': 0.0, '005940': 0.0, '006260': 0.0, '006400': 0.0, '006800': 0.0, '007070': 0.0, '008770': 0.0, '009150': 0.14285714285714285, '009830': 0.0, '010120': 0.0, '010130': 0.0, '010620': 0.0, '010950': 0.0, '011070': 0.0, '011170': 0.0, '011780': 0.14285714285714285, '012330': 0.0, '012450': 0.14285714285714285, '015760': 0.0, '016360': 0.0, '020150': 0.0, '021240': 0.0, '024110': 0.0, '029780': 0.0, '030200': 0.0, '032640': 0.0, '032830': 0.0, '033780': 0.0, '034020': 0.0, '034220': 0.14285714285714285, '034730': 0.0, '035250': 0.0, '036460': 0.0, '036570': 0.0, '039490': 0.0, '047050': 0.0, '051900': 0.0, '051910': 0.0, '052690': 0.0, '055550': 0.0, '066570': 0.14285714285714285, '068270': 0.0, '071050': 0.0, '078930': 0.0, '086280': 0.0, '086790': 0.0, '096770': 0.14285714285714285, '097950': 0.0, '105560': 0.0, '111770': 0.0, '128940': 0.0, '138040': 0.0, '138930': 0.0, '139480': 0.0, '161390': 0.0}\n"
     ]
    }
   ],
   "source": [
    "# 룩백 기간, 생략 기간 정의\n",
    "lookback = 1\n",
    "offset = 0\n",
    "total_lookback = get_lookback_fromdate(fromdate=simulation_fromdate,\n",
    "                                       lookback=lookback + offset, freq='m')\n",
    "\n",
    "# 매수 비율 정의\n",
    "ratio = 0.1\n",
    "\n",
    "# 전략 정의\n",
    "strategy = 'institutional'\n",
    "\n",
    "# 수급 주체(기관) 전략 실행하기\n",
    "account_institutional = simulate_factor(\n",
    "    ohlcv_data=df_slicer(df=ohlcv_data_day, fromdate=total_lookback),\n",
    "    market_cap_data=df_slicer(df=market_cap_data, fromdate=total_lookback),\n",
    "    fundamental_data=None,\n",
    "    trader_data=df_slicer(df=trader_data, fromdate=total_lookback),\n",
    "    lookback_period=lookback * 21,\n",
    "    skip_period=offset * 21,\n",
    "    strategy_name=strategy,\n",
    "    buying_ratio=ratio)"
   ],
   "metadata": {
    "collapsed": false,
    "ExecuteTime": {
     "end_time": "2023-12-07T04:52:57.918285Z",
     "start_time": "2023-12-07T04:52:56.337833Z"
    }
   }
  },
  {
   "cell_type": "markdown",
   "source": [
    "#### 1.6.9. 외국 매수에 따른 투자 전략 실행하기"
   ],
   "metadata": {
    "collapsed": false
   }
  },
  {
   "cell_type": "code",
   "execution_count": 26,
   "outputs": [
    {
     "name": "stderr",
     "output_type": "stream",
     "text": [
      "/var/folders/j2/p6vmvrcs1kg7j9c8811510sc0000gn/T/ipykernel_87974/888467401.py:44: FutureWarning: In a future version of pandas, a length 1 tuple will be returned when iterating over a groupby with a grouper equal to a list of length 1. Don't supply a list with a single grouper to avoid this warning.\n",
      "  for date, ohlcv in ohlcv_data.groupby(['date']):\n"
     ]
    },
    {
     "name": "stdout",
     "output_type": "stream",
     "text": [
      "Portfolio: {'000270': 0.0, '000660': 0.0, '000720': 0.0, '000810': 0.0, '000880': 0.0, '000990': 0.14285714285714285, '001450': 0.0, '001570': 0.0, '004020': 0.14285714285714285, '004370': 0.0, '005380': 0.0, '005490': 0.0, '005830': 0.0, '005940': 0.0, '006260': 0.0, '006400': 0.14285714285714285, '006800': 0.0, '007070': 0.0, '008770': 0.0, '009150': 0.0, '009830': 0.0, '010120': 0.0, '010130': 0.0, '010620': 0.0, '010950': 0.0, '011070': 0.14285714285714285, '011170': 0.0, '011780': 0.0, '012330': 0.0, '012450': 0.0, '015760': 0.0, '016360': 0.0, '020150': 0.0, '021240': 0.0, '024110': 0.0, '029780': 0.0, '030200': 0.0, '032640': 0.0, '032830': 0.0, '033780': 0.0, '034020': 0.0, '034220': 0.0, '034730': 0.0, '035250': 0.0, '036460': 0.0, '036570': 0.0, '039490': 0.0, '047050': 0.0, '051900': 0.0, '051910': 0.0, '052690': 0.0, '055550': 0.0, '066570': 0.14285714285714285, '068270': 0.0, '071050': 0.0, '078930': 0.0, '086280': 0.0, '086790': 0.0, '096770': 0.0, '097950': 0.0, '105560': 0.0, '111770': 0.0, '128940': 0.14285714285714285, '138040': 0.0, '138930': 0.0, '139480': 0.14285714285714285, '161390': 0.0}\n",
      "Portfolio: {'000270': 0.0, '000660': 0.0, '000720': 0.0, '000810': 0.0, '000880': 0.0, '000990': 0.14285714285714285, '001450': 0.0, '001570': 0.0, '004020': 0.0, '004370': 0.0, '005380': 0.0, '005490': 0.0, '005830': 0.0, '005940': 0.0, '006260': 0.0, '006400': 0.0, '006800': 0.0, '007070': 0.0, '008770': 0.0, '009150': 0.14285714285714285, '009830': 0.0, '010120': 0.0, '010130': 0.0, '010620': 0.14285714285714285, '010950': 0.0, '011070': 0.14285714285714285, '011170': 0.0, '011780': 0.14285714285714285, '012330': 0.0, '012450': 0.0, '015760': 0.0, '016360': 0.0, '020150': 0.0, '021240': 0.0, '024110': 0.0, '029780': 0.0, '030200': 0.0, '032640': 0.0, '032830': 0.0, '033780': 0.0, '034020': 0.0, '034220': 0.0, '034730': 0.0, '035250': 0.0, '036460': 0.0, '036570': 0.14285714285714285, '039490': 0.0, '047050': 0.0, '051900': 0.0, '051910': 0.0, '052690': 0.0, '055550': 0.0, '066570': 0.14285714285714285, '068270': 0.0, '071050': 0.0, '078930': 0.0, '086280': 0.0, '086790': 0.0, '096770': 0.0, '097950': 0.0, '105560': 0.0, '111770': 0.0, '128940': 0.0, '138040': 0.0, '138930': 0.0, '139480': 0.0, '161390': 0.0}\n",
      "Portfolio: {'000270': 0.0, '000660': 0.0, '000720': 0.0, '000810': 0.0, '000880': 0.0, '000990': 0.14285714285714285, '001450': 0.0, '001570': 0.0, '004020': 0.0, '004370': 0.14285714285714285, '005380': 0.0, '005490': 0.0, '005830': 0.0, '005940': 0.0, '006260': 0.0, '006400': 0.0, '006800': 0.0, '007070': 0.0, '008770': 0.14285714285714285, '009150': 0.0, '009830': 0.0, '010120': 0.14285714285714285, '010130': 0.0, '010620': 0.14285714285714285, '010950': 0.0, '011070': 0.14285714285714285, '011170': 0.0, '011780': 0.0, '012330': 0.0, '012450': 0.14285714285714285, '015760': 0.0, '016360': 0.0, '020150': 0.0, '021240': 0.0, '024110': 0.0, '029780': 0.0, '030200': 0.0, '032640': 0.0, '032830': 0.0, '033780': 0.0, '034020': 0.0, '034220': 0.0, '034730': 0.0, '035250': 0.0, '036460': 0.0, '036570': 0.0, '039490': 0.0, '047050': 0.0, '051900': 0.0, '051910': 0.0, '052690': 0.0, '055550': 0.0, '066570': 0.0, '068270': 0.0, '071050': 0.0, '078930': 0.0, '086280': 0.0, '086790': 0.0, '096770': 0.0, '097950': 0.0, '105560': 0.0, '111770': 0.0, '128940': 0.0, '138040': 0.0, '138930': 0.0, '139480': 0.0, '161390': 0.0}\n",
      "Portfolio: {'000270': 0.0, '000660': 0.0, '000720': 0.0, '000810': 0.0, '000880': 0.0, '000990': 0.14285714285714285, '001450': 0.0, '001570': 0.0, '004020': 0.0, '004370': 0.0, '005380': 0.0, '005490': 0.0, '005830': 0.0, '005940': 0.0, '006260': 0.0, '006400': 0.0, '006800': 0.0, '007070': 0.0, '008770': 0.14285714285714285, '009150': 0.0, '009830': 0.0, '010120': 0.0, '010130': 0.0, '010620': 0.0, '010950': 0.0, '011070': 0.0, '011170': 0.0, '011780': 0.0, '012330': 0.0, '012450': 0.0, '015760': 0.0, '016360': 0.14285714285714285, '020150': 0.14285714285714285, '021240': 0.14285714285714285, '024110': 0.0, '029780': 0.0, '030200': 0.0, '032640': 0.0, '032830': 0.0, '033780': 0.0, '034020': 0.0, '034220': 0.0, '034730': 0.0, '035250': 0.0, '036460': 0.0, '036570': 0.0, '039490': 0.0, '047050': 0.0, '051900': 0.0, '051910': 0.0, '052690': 0.0, '055550': 0.0, '066570': 0.14285714285714285, '068270': 0.0, '071050': 0.0, '078930': 0.0, '086280': 0.0, '086790': 0.0, '096770': 0.0, '097950': 0.14285714285714285, '105560': 0.0, '111770': 0.0, '128940': 0.0, '138040': 0.0, '138930': 0.0, '139480': 0.0, '161390': 0.0}\n",
      "Portfolio: {'000270': 0.0, '000660': 0.0, '000720': 0.0, '000810': 0.14285714285714285, '000880': 0.0, '000990': 0.0, '001450': 0.0, '001570': 0.0, '004020': 0.0, '004370': 0.0, '005380': 0.0, '005490': 0.0, '005830': 0.0, '005940': 0.0, '006260': 0.0, '006400': 0.14285714285714285, '006800': 0.0, '007070': 0.0, '008770': 0.14285714285714285, '009150': 0.0, '009830': 0.14285714285714285, '010120': 0.0, '010130': 0.14285714285714285, '010620': 0.0, '010950': 0.0, '011070': 0.0, '011170': 0.0, '011780': 0.0, '012330': 0.0, '012450': 0.0, '015760': 0.0, '016360': 0.0, '020150': 0.0, '021240': 0.0, '024110': 0.0, '029780': 0.0, '030200': 0.0, '032640': 0.14285714285714285, '032830': 0.0, '033780': 0.0, '034020': 0.0, '034220': 0.0, '034730': 0.0, '035250': 0.0, '036460': 0.0, '036570': 0.0, '039490': 0.0, '047050': 0.0, '051900': 0.0, '051910': 0.0, '052690': 0.0, '055550': 0.0, '066570': 0.0, '068270': 0.14285714285714285, '071050': 0.0, '078930': 0.0, '086280': 0.0, '086790': 0.0, '096770': 0.0, '097950': 0.0, '105560': 0.0, '111770': 0.0, '128940': 0.0, '138040': 0.0, '138930': 0.0, '139480': 0.0, '161390': 0.0}\n",
      "Portfolio: {'000270': 0.0, '000660': 0.0, '000720': 0.0, '000810': 0.0, '000880': 0.0, '000990': 0.0, '001450': 0.0, '001570': 0.0, '004020': 0.0, '004370': 0.0, '005380': 0.0, '005490': 0.14285714285714285, '005830': 0.0, '005940': 0.0, '006260': 0.0, '006400': 0.0, '006800': 0.0, '007070': 0.14285714285714285, '008770': 0.14285714285714285, '009150': 0.0, '009830': 0.0, '010120': 0.14285714285714285, '010130': 0.0, '010620': 0.0, '010950': 0.0, '011070': 0.0, '011170': 0.0, '011780': 0.0, '012330': 0.0, '012450': 0.0, '015760': 0.14285714285714285, '016360': 0.0, '020150': 0.0, '021240': 0.0, '024110': 0.0, '029780': 0.0, '030200': 0.0, '032640': 0.0, '032830': 0.0, '033780': 0.0, '034020': 0.0, '034220': 0.0, '034730': 0.0, '035250': 0.0, '036460': 0.0, '036570': 0.14285714285714285, '039490': 0.0, '047050': 0.0, '051900': 0.0, '051910': 0.0, '052690': 0.0, '055550': 0.0, '066570': 0.0, '068270': 0.0, '071050': 0.0, '078930': 0.0, '086280': 0.0, '086790': 0.0, '096770': 0.0, '097950': 0.0, '105560': 0.14285714285714285, '111770': 0.0, '128940': 0.0, '138040': 0.0, '138930': 0.0, '139480': 0.0, '161390': 0.0}\n",
      "Portfolio: {'000270': 0.0, '000660': 0.0, '000720': 0.0, '000810': 0.0, '000880': 0.0, '000990': 0.0, '001450': 0.0, '001570': 0.0, '004020': 0.0, '004370': 0.0, '005380': 0.0, '005490': 0.0, '005830': 0.0, '005940': 0.0, '006260': 0.0, '006400': 0.0, '006800': 0.0, '007070': 0.0, '008770': 0.0, '009150': 0.0, '009830': 0.14285714285714285, '010120': 0.14285714285714285, '010130': 0.14285714285714285, '010620': 0.0, '010950': 0.0, '011070': 0.0, '011170': 0.0, '011780': 0.14285714285714285, '012330': 0.0, '012450': 0.0, '015760': 0.0, '016360': 0.0, '020150': 0.0, '021240': 0.0, '024110': 0.14285714285714285, '029780': 0.0, '030200': 0.0, '032640': 0.0, '032830': 0.0, '033780': 0.0, '034020': 0.0, '034220': 0.0, '034730': 0.0, '035250': 0.0, '036460': 0.0, '036570': 0.14285714285714285, '039490': 0.0, '047050': 0.0, '051900': 0.0, '051910': 0.0, '052690': 0.0, '055550': 0.0, '066570': 0.0, '068270': 0.0, '071050': 0.0, '078930': 0.14285714285714285, '086280': 0.0, '086790': 0.0, '096770': 0.0, '097950': 0.0, '105560': 0.0, '111770': 0.0, '128940': 0.0, '138040': 0.0, '138930': 0.0, '139480': 0.0, '161390': 0.0}\n",
      "Portfolio: {'000270': 0.0, '000660': 0.0, '000720': 0.0, '000810': 0.0, '000880': 0.14285714285714285, '000990': 0.0, '001450': 0.0, '001570': 0.0, '004020': 0.0, '004370': 0.0, '005380': 0.0, '005490': 0.0, '005830': 0.0, '005940': 0.0, '006260': 0.0, '006400': 0.0, '006800': 0.0, '007070': 0.0, '008770': 0.0, '009150': 0.0, '009830': 0.14285714285714285, '010120': 0.14285714285714285, '010130': 0.0, '010620': 0.0, '010950': 0.0, '011070': 0.0, '011170': 0.0, '011780': 0.14285714285714285, '012330': 0.0, '012450': 0.0, '015760': 0.0, '016360': 0.0, '020150': 0.0, '021240': 0.0, '024110': 0.0, '029780': 0.0, '030200': 0.0, '032640': 0.0, '032830': 0.0, '033780': 0.0, '034020': 0.0, '034220': 0.0, '034730': 0.0, '035250': 0.0, '036460': 0.0, '036570': 0.14285714285714285, '039490': 0.0, '047050': 0.0, '051900': 0.0, '051910': 0.0, '052690': 0.0, '055550': 0.0, '066570': 0.0, '068270': 0.14285714285714285, '071050': 0.0, '078930': 0.0, '086280': 0.0, '086790': 0.0, '096770': 0.0, '097950': 0.0, '105560': 0.0, '111770': 0.0, '128940': 0.14285714285714285, '138040': 0.0, '138930': 0.0, '139480': 0.0, '161390': 0.0}\n",
      "Portfolio: {'000270': 0.0, '000660': 0.0, '000720': 0.0, '000810': 0.0, '000880': 0.0, '000990': 0.0, '001450': 0.0, '001570': 0.0, '004020': 0.0, '004370': 0.0, '005380': 0.0, '005490': 0.0, '005830': 0.0, '005940': 0.0, '006260': 0.0, '006400': 0.0, '006800': 0.0, '007070': 0.0, '008770': 0.14285714285714285, '009150': 0.14285714285714285, '009830': 0.0, '010120': 0.0, '010130': 0.14285714285714285, '010620': 0.0, '010950': 0.0, '011070': 0.0, '011170': 0.0, '011780': 0.0, '012330': 0.0, '012450': 0.0, '015760': 0.0, '016360': 0.0, '020150': 0.14285714285714285, '021240': 0.0, '024110': 0.0, '029780': 0.0, '030200': 0.0, '032640': 0.0, '032830': 0.0, '033780': 0.0, '034020': 0.0, '034220': 0.0, '034730': 0.0, '035250': 0.0, '036460': 0.0, '036570': 0.0, '039490': 0.0, '047050': 0.0, '051900': 0.0, '051910': 0.14285714285714285, '052690': 0.0, '055550': 0.0, '066570': 0.14285714285714285, '068270': 0.0, '071050': 0.0, '078930': 0.0, '086280': 0.0, '086790': 0.0, '096770': 0.0, '097950': 0.0, '105560': 0.0, '111770': 0.0, '128940': 0.14285714285714285, '138040': 0.0, '138930': 0.0, '139480': 0.0, '161390': 0.0}\n",
      "Portfolio: {'000270': 0.0, '000660': 0.0, '000720': 0.0, '000810': 0.0, '000880': 0.0, '000990': 0.0, '001450': 0.0, '001570': 0.0, '004020': 0.0, '004370': 0.0, '005380': 0.0, '005490': 0.0, '005830': 0.0, '005940': 0.0, '006260': 0.0, '006400': 0.14285714285714285, '006800': 0.0, '007070': 0.0, '008770': 0.14285714285714285, '009150': 0.0, '009830': 0.0, '010120': 0.0, '010130': 0.0, '010620': 0.0, '010950': 0.0, '011070': 0.0, '011170': 0.0, '011780': 0.14285714285714285, '012330': 0.0, '012450': 0.0, '015760': 0.0, '016360': 0.0, '020150': 0.0, '021240': 0.0, '024110': 0.0, '029780': 0.0, '030200': 0.0, '032640': 0.0, '032830': 0.0, '033780': 0.0, '034020': 0.0, '034220': 0.0, '034730': 0.0, '035250': 0.0, '036460': 0.0, '036570': 0.0, '039490': 0.0, '047050': 0.0, '051900': 0.0, '051910': 0.14285714285714285, '052690': 0.0, '055550': 0.0, '066570': 0.14285714285714285, '068270': 0.14285714285714285, '071050': 0.0, '078930': 0.0, '086280': 0.0, '086790': 0.0, '096770': 0.0, '097950': 0.14285714285714285, '105560': 0.0, '111770': 0.0, '128940': 0.0, '138040': 0.0, '138930': 0.0, '139480': 0.0, '161390': 0.0}\n",
      "Portfolio: {'000270': 0.0, '000660': 0.0, '000720': 0.0, '000810': 0.0, '000880': 0.0, '000990': 0.0, '001450': 0.0, '001570': 0.0, '004020': 0.0, '004370': 0.0, '005380': 0.0, '005490': 0.0, '005830': 0.0, '005940': 0.0, '006260': 0.0, '006400': 0.0, '006800': 0.0, '007070': 0.14285714285714285, '008770': 0.14285714285714285, '009150': 0.0, '009830': 0.0, '010120': 0.0, '010130': 0.0, '010620': 0.0, '010950': 0.0, '011070': 0.0, '011170': 0.0, '011780': 0.0, '012330': 0.0, '012450': 0.0, '015760': 0.0, '016360': 0.0, '020150': 0.0, '021240': 0.0, '024110': 0.14285714285714285, '029780': 0.0, '030200': 0.0, '032640': 0.0, '032830': 0.0, '033780': 0.0, '034020': 0.0, '034220': 0.0, '034730': 0.0, '035250': 0.0, '036460': 0.0, '036570': 0.14285714285714285, '039490': 0.0, '047050': 0.0, '051900': 0.0, '051910': 0.0, '052690': 0.14285714285714285, '055550': 0.0, '066570': 0.14285714285714285, '068270': 0.0, '071050': 0.0, '078930': 0.0, '086280': 0.0, '086790': 0.0, '096770': 0.0, '097950': 0.0, '105560': 0.0, '111770': 0.0, '128940': 0.14285714285714285, '138040': 0.0, '138930': 0.0, '139480': 0.0, '161390': 0.0}\n",
      "Portfolio: {'000270': 0.0, '000660': 0.0, '000720': 0.0, '000810': 0.0, '000880': 0.0, '000990': 0.0, '001450': 0.0, '001570': 0.0, '004020': 0.0, '004370': 0.0, '005380': 0.0, '005490': 0.14285714285714285, '005830': 0.0, '005940': 0.0, '006260': 0.0, '006400': 0.0, '006800': 0.0, '007070': 0.0, '008770': 0.14285714285714285, '009150': 0.0, '009830': 0.0, '010120': 0.0, '010130': 0.0, '010620': 0.14285714285714285, '010950': 0.0, '011070': 0.0, '011170': 0.0, '011780': 0.0, '012330': 0.0, '012450': 0.0, '015760': 0.0, '016360': 0.0, '020150': 0.0, '021240': 0.0, '024110': 0.14285714285714285, '029780': 0.0, '030200': 0.0, '032640': 0.0, '032830': 0.0, '033780': 0.0, '034020': 0.14285714285714285, '034220': 0.14285714285714285, '034730': 0.0, '035250': 0.0, '036460': 0.0, '036570': 0.0, '039490': 0.0, '047050': 0.0, '051900': 0.0, '051910': 0.0, '052690': 0.0, '055550': 0.0, '066570': 0.0, '068270': 0.0, '071050': 0.0, '078930': 0.0, '086280': 0.0, '086790': 0.0, '096770': 0.0, '097950': 0.0, '105560': 0.0, '111770': 0.0, '128940': 0.0, '138040': 0.0, '138930': 0.14285714285714285, '139480': 0.0, '161390': 0.0}\n",
      "Portfolio: {'000270': 0.0, '000660': 0.14285714285714285, '000720': 0.0, '000810': 0.14285714285714285, '000880': 0.0, '000990': 0.0, '001450': 0.0, '001570': 0.0, '004020': 0.0, '004370': 0.0, '005380': 0.0, '005490': 0.0, '005830': 0.0, '005940': 0.0, '006260': 0.0, '006400': 0.0, '006800': 0.0, '007070': 0.0, '008770': 0.14285714285714285, '009150': 0.0, '009830': 0.0, '010120': 0.0, '010130': 0.0, '010620': 0.0, '010950': 0.0, '011070': 0.0, '011170': 0.0, '011780': 0.0, '012330': 0.0, '012450': 0.0, '015760': 0.0, '016360': 0.0, '020150': 0.0, '021240': 0.0, '024110': 0.14285714285714285, '029780': 0.0, '030200': 0.0, '032640': 0.0, '032830': 0.0, '033780': 0.0, '034020': 0.0, '034220': 0.0, '034730': 0.0, '035250': 0.0, '036460': 0.0, '036570': 0.14285714285714285, '039490': 0.0, '047050': 0.0, '051900': 0.0, '051910': 0.0, '052690': 0.0, '055550': 0.0, '066570': 0.0, '068270': 0.0, '071050': 0.0, '078930': 0.0, '086280': 0.14285714285714285, '086790': 0.0, '096770': 0.0, '097950': 0.0, '105560': 0.0, '111770': 0.0, '128940': 0.0, '138040': 0.0, '138930': 0.14285714285714285, '139480': 0.0, '161390': 0.0}\n",
      "Portfolio: {'000270': 0.0, '000660': 0.14285714285714285, '000720': 0.0, '000810': 0.0, '000880': 0.0, '000990': 0.0, '001450': 0.0, '001570': 0.0, '004020': 0.0, '004370': 0.0, '005380': 0.0, '005490': 0.0, '005830': 0.0, '005940': 0.0, '006260': 0.0, '006400': 0.14285714285714285, '006800': 0.0, '007070': 0.0, '008770': 0.14285714285714285, '009150': 0.14285714285714285, '009830': 0.0, '010120': 0.0, '010130': 0.0, '010620': 0.0, '010950': 0.0, '011070': 0.0, '011170': 0.0, '011780': 0.0, '012330': 0.0, '012450': 0.0, '015760': 0.0, '016360': 0.0, '020150': 0.0, '021240': 0.0, '024110': 0.14285714285714285, '029780': 0.0, '030200': 0.0, '032640': 0.0, '032830': 0.0, '033780': 0.0, '034020': 0.14285714285714285, '034220': 0.0, '034730': 0.0, '035250': 0.0, '036460': 0.0, '036570': 0.14285714285714285, '039490': 0.0, '047050': 0.0, '051900': 0.0, '051910': 0.0, '052690': 0.0, '055550': 0.0, '066570': 0.0, '068270': 0.0, '071050': 0.0, '078930': 0.0, '086280': 0.0, '086790': 0.0, '096770': 0.0, '097950': 0.0, '105560': 0.0, '111770': 0.0, '128940': 0.0, '138040': 0.0, '138930': 0.0, '139480': 0.0, '161390': 0.0}\n",
      "Portfolio: {'000270': 0.0, '000660': 0.0, '000720': 0.0, '000810': 0.0, '000880': 0.0, '000990': 0.0, '001450': 0.0, '001570': 0.0, '004020': 0.0, '004370': 0.14285714285714285, '005380': 0.0, '005490': 0.0, '005830': 0.0, '005940': 0.0, '006260': 0.0, '006400': 0.0, '006800': 0.0, '007070': 0.0, '008770': 0.0, '009150': 0.14285714285714285, '009830': 0.0, '010120': 0.0, '010130': 0.14285714285714285, '010620': 0.0, '010950': 0.0, '011070': 0.0, '011170': 0.0, '011780': 0.0, '012330': 0.0, '012450': 0.0, '015760': 0.0, '016360': 0.0, '020150': 0.0, '021240': 0.0, '024110': 0.0, '029780': 0.0, '030200': 0.0, '032640': 0.0, '032830': 0.0, '033780': 0.0, '034020': 0.14285714285714285, '034220': 0.0, '034730': 0.0, '035250': 0.0, '036460': 0.0, '036570': 0.0, '039490': 0.0, '047050': 0.14285714285714285, '051900': 0.0, '051910': 0.0, '052690': 0.0, '055550': 0.14285714285714285, '066570': 0.0, '068270': 0.0, '071050': 0.0, '078930': 0.0, '086280': 0.0, '086790': 0.0, '096770': 0.0, '097950': 0.0, '105560': 0.0, '111770': 0.0, '128940': 0.0, '138040': 0.0, '138930': 0.14285714285714285, '139480': 0.0, '161390': 0.0}\n",
      "Portfolio: {'000270': 0.0, '000660': 0.0, '000720': 0.0, '000810': 0.0, '000880': 0.0, '000990': 0.14285714285714285, '001450': 0.0, '001570': 0.0, '004020': 0.0, '004370': 0.0, '005380': 0.0, '005490': 0.0, '005830': 0.0, '005940': 0.0, '006260': 0.0, '006400': 0.0, '006800': 0.0, '007070': 0.0, '008770': 0.14285714285714285, '009150': 0.14285714285714285, '009830': 0.0, '010120': 0.0, '010130': 0.0, '010620': 0.0, '010950': 0.0, '011070': 0.14285714285714285, '011170': 0.0, '011780': 0.14285714285714285, '012330': 0.0, '012450': 0.0, '015760': 0.0, '016360': 0.0, '020150': 0.0, '021240': 0.0, '024110': 0.0, '029780': 0.0, '030200': 0.0, '032640': 0.0, '032830': 0.0, '033780': 0.0, '034020': 0.14285714285714285, '034220': 0.0, '034730': 0.0, '035250': 0.0, '036460': 0.14285714285714285, '036570': 0.0, '039490': 0.0, '047050': 0.0, '051900': 0.0, '051910': 0.0, '052690': 0.0, '055550': 0.0, '066570': 0.0, '068270': 0.0, '071050': 0.0, '078930': 0.0, '086280': 0.0, '086790': 0.0, '096770': 0.0, '097950': 0.0, '105560': 0.0, '111770': 0.0, '128940': 0.0, '138040': 0.0, '138930': 0.0, '139480': 0.0, '161390': 0.0}\n",
      "Portfolio: {'000270': 0.0, '000660': 0.0, '000720': 0.14285714285714285, '000810': 0.0, '000880': 0.0, '000990': 0.14285714285714285, '001450': 0.0, '001570': 0.0, '004020': 0.14285714285714285, '004370': 0.0, '005380': 0.0, '005490': 0.0, '005830': 0.0, '005940': 0.0, '006260': 0.0, '006400': 0.0, '006800': 0.0, '007070': 0.0, '008770': 0.14285714285714285, '009150': 0.14285714285714285, '009830': 0.0, '010120': 0.0, '010130': 0.0, '010620': 0.0, '010950': 0.0, '011070': 0.14285714285714285, '011170': 0.0, '011780': 0.0, '012330': 0.0, '012450': 0.0, '015760': 0.0, '016360': 0.0, '020150': 0.0, '021240': 0.0, '024110': 0.0, '029780': 0.0, '030200': 0.0, '032640': 0.0, '032830': 0.0, '033780': 0.0, '034020': 0.0, '034220': 0.0, '034730': 0.0, '035250': 0.0, '036460': 0.14285714285714285, '036570': 0.0, '039490': 0.0, '047050': 0.0, '051900': 0.0, '051910': 0.0, '052690': 0.0, '055550': 0.0, '066570': 0.0, '068270': 0.0, '071050': 0.0, '078930': 0.0, '086280': 0.0, '086790': 0.0, '096770': 0.0, '097950': 0.0, '105560': 0.0, '111770': 0.0, '128940': 0.0, '138040': 0.0, '138930': 0.0, '139480': 0.0, '161390': 0.0}\n",
      "Portfolio: {'000270': 0.0, '000660': 0.0, '000720': 0.0, '000810': 0.0, '000880': 0.0, '000990': 0.14285714285714285, '001450': 0.0, '001570': 0.0, '004020': 0.0, '004370': 0.0, '005380': 0.0, '005490': 0.0, '005830': 0.0, '005940': 0.0, '006260': 0.0, '006400': 0.0, '006800': 0.0, '007070': 0.0, '008770': 0.0, '009150': 0.14285714285714285, '009830': 0.0, '010120': 0.0, '010130': 0.0, '010620': 0.14285714285714285, '010950': 0.0, '011070': 0.14285714285714285, '011170': 0.0, '011780': 0.0, '012330': 0.0, '012450': 0.0, '015760': 0.0, '016360': 0.0, '020150': 0.0, '021240': 0.0, '024110': 0.0, '029780': 0.0, '030200': 0.0, '032640': 0.0, '032830': 0.0, '033780': 0.0, '034020': 0.0, '034220': 0.0, '034730': 0.0, '035250': 0.0, '036460': 0.14285714285714285, '036570': 0.14285714285714285, '039490': 0.0, '047050': 0.0, '051900': 0.0, '051910': 0.0, '052690': 0.0, '055550': 0.0, '066570': 0.0, '068270': 0.0, '071050': 0.14285714285714285, '078930': 0.0, '086280': 0.0, '086790': 0.0, '096770': 0.0, '097950': 0.0, '105560': 0.0, '111770': 0.0, '128940': 0.0, '138040': 0.0, '138930': 0.0, '139480': 0.0, '161390': 0.0}\n",
      "Portfolio: {'000270': 0.0, '000660': 0.0, '000720': 0.0, '000810': 0.0, '000880': 0.0, '000990': 0.0, '001450': 0.0, '001570': 0.0, '004020': 0.0, '004370': 0.0, '005380': 0.0, '005490': 0.0, '005830': 0.0, '005940': 0.0, '006260': 0.0, '006400': 0.0, '006800': 0.0, '007070': 0.14285714285714285, '008770': 0.0, '009150': 0.0, '009830': 0.0, '010120': 0.0, '010130': 0.0, '010620': 0.0, '010950': 0.14285714285714285, '011070': 0.14285714285714285, '011170': 0.0, '011780': 0.14285714285714285, '012330': 0.0, '012450': 0.0, '015760': 0.0, '016360': 0.0, '020150': 0.14285714285714285, '021240': 0.0, '024110': 0.0, '029780': 0.0, '030200': 0.0, '032640': 0.14285714285714285, '032830': 0.0, '033780': 0.0, '034020': 0.0, '034220': 0.0, '034730': 0.0, '035250': 0.0, '036460': 0.0, '036570': 0.0, '039490': 0.0, '047050': 0.0, '051900': 0.0, '051910': 0.0, '052690': 0.0, '055550': 0.0, '066570': 0.0, '068270': 0.0, '071050': 0.0, '078930': 0.0, '086280': 0.0, '086790': 0.0, '096770': 0.0, '097950': 0.0, '105560': 0.0, '111770': 0.0, '128940': 0.14285714285714285, '138040': 0.0, '138930': 0.0, '139480': 0.0, '161390': 0.0}\n",
      "Portfolio: {'000270': 0.0, '000660': 0.0, '000720': 0.14285714285714285, '000810': 0.0, '000880': 0.0, '000990': 0.0, '001450': 0.0, '001570': 0.0, '004020': 0.0, '004370': 0.0, '005380': 0.0, '005490': 0.0, '005830': 0.0, '005940': 0.0, '006260': 0.0, '006400': 0.0, '006800': 0.0, '007070': 0.14285714285714285, '008770': 0.0, '009150': 0.0, '009830': 0.0, '010120': 0.0, '010130': 0.0, '010620': 0.0, '010950': 0.14285714285714285, '011070': 0.0, '011170': 0.0, '011780': 0.14285714285714285, '012330': 0.0, '012450': 0.0, '015760': 0.0, '016360': 0.0, '020150': 0.0, '021240': 0.14285714285714285, '024110': 0.0, '029780': 0.0, '030200': 0.0, '032640': 0.14285714285714285, '032830': 0.0, '033780': 0.0, '034020': 0.0, '034220': 0.0, '034730': 0.0, '035250': 0.0, '036460': 0.0, '036570': 0.0, '039490': 0.0, '047050': 0.0, '051900': 0.0, '051910': 0.0, '052690': 0.0, '055550': 0.0, '066570': 0.0, '068270': 0.14285714285714285, '071050': 0.0, '078930': 0.0, '086280': 0.0, '086790': 0.0, '096770': 0.0, '097950': 0.0, '105560': 0.0, '111770': 0.0, '128940': 0.0, '138040': 0.0, '138930': 0.0, '139480': 0.0, '161390': 0.0}\n",
      "Portfolio: {'000270': 0.0, '000660': 0.0, '000720': 0.14285714285714285, '000810': 0.0, '000880': 0.0, '000990': 0.14285714285714285, '001450': 0.0, '001570': 0.0, '004020': 0.0, '004370': 0.0, '005380': 0.0, '005490': 0.0, '005830': 0.0, '005940': 0.0, '006260': 0.14285714285714285, '006400': 0.0, '006800': 0.0, '007070': 0.14285714285714285, '008770': 0.0, '009150': 0.0, '009830': 0.0, '010120': 0.0, '010130': 0.0, '010620': 0.0, '010950': 0.0, '011070': 0.0, '011170': 0.0, '011780': 0.14285714285714285, '012330': 0.0, '012450': 0.14285714285714285, '015760': 0.0, '016360': 0.0, '020150': 0.0, '021240': 0.0, '024110': 0.0, '029780': 0.0, '030200': 0.0, '032640': 0.0, '032830': 0.0, '033780': 0.0, '034020': 0.0, '034220': 0.0, '034730': 0.0, '035250': 0.0, '036460': 0.0, '036570': 0.0, '039490': 0.0, '047050': 0.0, '051900': 0.0, '051910': 0.0, '052690': 0.0, '055550': 0.0, '066570': 0.0, '068270': 0.0, '071050': 0.0, '078930': 0.0, '086280': 0.0, '086790': 0.0, '096770': 0.0, '097950': 0.0, '105560': 0.0, '111770': 0.14285714285714285, '128940': 0.0, '138040': 0.0, '138930': 0.0, '139480': 0.0, '161390': 0.0}\n",
      "Portfolio: {'000270': 0.0, '000660': 0.0, '000720': 0.0, '000810': 0.0, '000880': 0.0, '000990': 0.0, '001450': 0.0, '001570': 0.0, '004020': 0.0, '004370': 0.0, '005380': 0.0, '005490': 0.0, '005830': 0.0, '005940': 0.0, '006260': 0.0, '006400': 0.0, '006800': 0.0, '007070': 0.14285714285714285, '008770': 0.0, '009150': 0.14285714285714285, '009830': 0.0, '010120': 0.0, '010130': 0.0, '010620': 0.14285714285714285, '010950': 0.0, '011070': 0.0, '011170': 0.0, '011780': 0.0, '012330': 0.0, '012450': 0.14285714285714285, '015760': 0.0, '016360': 0.0, '020150': 0.0, '021240': 0.0, '024110': 0.0, '029780': 0.0, '030200': 0.0, '032640': 0.0, '032830': 0.0, '033780': 0.0, '034020': 0.0, '034220': 0.0, '034730': 0.0, '035250': 0.0, '036460': 0.0, '036570': 0.14285714285714285, '039490': 0.14285714285714285, '047050': 0.0, '051900': 0.0, '051910': 0.0, '052690': 0.0, '055550': 0.0, '066570': 0.0, '068270': 0.0, '071050': 0.0, '078930': 0.0, '086280': 0.0, '086790': 0.0, '096770': 0.0, '097950': 0.0, '105560': 0.0, '111770': 0.14285714285714285, '128940': 0.0, '138040': 0.0, '138930': 0.0, '139480': 0.0, '161390': 0.0}\n",
      "Portfolio: {'000270': 0.14285714285714285, '000660': 0.0, '000720': 0.14285714285714285, '000810': 0.0, '000880': 0.0, '000990': 0.14285714285714285, '001450': 0.0, '001570': 0.0, '004020': 0.0, '004370': 0.0, '005380': 0.0, '005490': 0.0, '005830': 0.14285714285714285, '005940': 0.0, '006260': 0.0, '006400': 0.0, '006800': 0.0, '007070': 0.0, '008770': 0.0, '009150': 0.0, '009830': 0.0, '010120': 0.0, '010130': 0.0, '010620': 0.14285714285714285, '010950': 0.0, '011070': 0.0, '011170': 0.0, '011780': 0.0, '012330': 0.0, '012450': 0.0, '015760': 0.0, '016360': 0.0, '020150': 0.0, '021240': 0.0, '024110': 0.0, '029780': 0.0, '030200': 0.0, '032640': 0.0, '032830': 0.0, '033780': 0.0, '034020': 0.0, '034220': 0.0, '034730': 0.0, '035250': 0.0, '036460': 0.0, '036570': 0.0, '039490': 0.0, '047050': 0.0, '051900': 0.0, '051910': 0.0, '052690': 0.0, '055550': 0.0, '066570': 0.0, '068270': 0.0, '071050': 0.14285714285714285, '078930': 0.0, '086280': 0.0, '086790': 0.0, '096770': 0.0, '097950': 0.0, '105560': 0.0, '111770': 0.14285714285714285, '128940': 0.0, '138040': 0.0, '138930': 0.0, '139480': 0.0, '161390': 0.0}\n",
      "Portfolio: {'000270': 0.0, '000660': 0.14285714285714285, '000720': 0.14285714285714285, '000810': 0.0, '000880': 0.0, '000990': 0.0, '001450': 0.0, '001570': 0.0, '004020': 0.0, '004370': 0.0, '005380': 0.0, '005490': 0.0, '005830': 0.0, '005940': 0.0, '006260': 0.0, '006400': 0.14285714285714285, '006800': 0.0, '007070': 0.0, '008770': 0.0, '009150': 0.0, '009830': 0.0, '010120': 0.0, '010130': 0.0, '010620': 0.14285714285714285, '010950': 0.0, '011070': 0.0, '011170': 0.0, '011780': 0.0, '012330': 0.0, '012450': 0.14285714285714285, '015760': 0.14285714285714285, '016360': 0.0, '020150': 0.0, '021240': 0.0, '024110': 0.0, '029780': 0.0, '030200': 0.0, '032640': 0.0, '032830': 0.0, '033780': 0.0, '034020': 0.0, '034220': 0.14285714285714285, '034730': 0.0, '035250': 0.0, '036460': 0.0, '036570': 0.0, '039490': 0.0, '047050': 0.0, '051900': 0.0, '051910': 0.0, '052690': 0.0, '055550': 0.0, '066570': 0.0, '068270': 0.0, '071050': 0.0, '078930': 0.0, '086280': 0.0, '086790': 0.0, '096770': 0.0, '097950': 0.0, '105560': 0.0, '111770': 0.0, '128940': 0.0, '138040': 0.0, '138930': 0.0, '139480': 0.0, '161390': 0.0}\n",
      "Portfolio: {'000270': 0.0, '000660': 0.0, '000720': 0.0, '000810': 0.0, '000880': 0.0, '000990': 0.0, '001450': 0.0, '001570': 0.0, '004020': 0.0, '004370': 0.0, '005380': 0.0, '005490': 0.0, '005830': 0.0, '005940': 0.0, '006260': 0.0, '006400': 0.14285714285714285, '006800': 0.0, '007070': 0.0, '008770': 0.0, '009150': 0.0, '009830': 0.14285714285714285, '010120': 0.0, '010130': 0.0, '010620': 0.14285714285714285, '010950': 0.0, '011070': 0.14285714285714285, '011170': 0.14285714285714285, '011780': 0.0, '012330': 0.0, '012450': 0.0, '015760': 0.0, '016360': 0.0, '020150': 0.0, '021240': 0.0, '024110': 0.0, '029780': 0.0, '030200': 0.0, '032640': 0.0, '032830': 0.0, '033780': 0.0, '034020': 0.0, '034220': 0.14285714285714285, '034730': 0.0, '035250': 0.14285714285714285, '036460': 0.0, '036570': 0.0, '039490': 0.0, '047050': 0.0, '051900': 0.0, '051910': 0.0, '052690': 0.0, '055550': 0.0, '066570': 0.0, '068270': 0.0, '071050': 0.0, '078930': 0.0, '086280': 0.0, '086790': 0.0, '096770': 0.0, '097950': 0.0, '105560': 0.0, '111770': 0.0, '128940': 0.0, '138040': 0.0, '138930': 0.0, '139480': 0.0, '161390': 0.0}\n",
      "Portfolio: {'000270': 0.0, '000660': 0.0, '000720': 0.0, '000810': 0.0, '000880': 0.0, '000990': 0.14285714285714285, '001450': 0.0, '001570': 0.0, '004020': 0.0, '004370': 0.0, '005380': 0.0, '005490': 0.0, '005830': 0.0, '005940': 0.0, '006260': 0.0, '006400': 0.0, '006800': 0.14285714285714285, '007070': 0.0, '008770': 0.14285714285714285, '009150': 0.0, '009830': 0.0, '010120': 0.0, '010130': 0.0, '010620': 0.0, '010950': 0.0, '011070': 0.14285714285714285, '011170': 0.0, '011780': 0.0, '012330': 0.0, '012450': 0.0, '015760': 0.0, '016360': 0.14285714285714285, '020150': 0.0, '021240': 0.0, '024110': 0.0, '029780': 0.0, '030200': 0.0, '032640': 0.0, '032830': 0.0, '033780': 0.0, '034020': 0.0, '034220': 0.0, '034730': 0.0, '035250': 0.0, '036460': 0.0, '036570': 0.0, '039490': 0.14285714285714285, '047050': 0.0, '051900': 0.0, '051910': 0.0, '052690': 0.0, '055550': 0.0, '066570': 0.0, '068270': 0.0, '071050': 0.0, '078930': 0.0, '086280': 0.0, '086790': 0.0, '096770': 0.0, '097950': 0.0, '105560': 0.0, '111770': 0.0, '128940': 0.14285714285714285, '138040': 0.0, '138930': 0.0, '139480': 0.0, '161390': 0.0}\n",
      "Portfolio: {'000270': 0.14285714285714285, '000660': 0.0, '000720': 0.0, '000810': 0.0, '000880': 0.0, '000990': 0.0, '001450': 0.0, '001570': 0.0, '004020': 0.0, '004370': 0.0, '005380': 0.0, '005490': 0.0, '005830': 0.0, '005940': 0.0, '006260': 0.0, '006400': 0.14285714285714285, '006800': 0.0, '007070': 0.0, '008770': 0.14285714285714285, '009150': 0.14285714285714285, '009830': 0.0, '010120': 0.0, '010130': 0.0, '010620': 0.0, '010950': 0.0, '011070': 0.0, '011170': 0.0, '011780': 0.0, '012330': 0.0, '012450': 0.0, '015760': 0.0, '016360': 0.0, '020150': 0.0, '021240': 0.0, '024110': 0.0, '029780': 0.0, '030200': 0.0, '032640': 0.0, '032830': 0.0, '033780': 0.0, '034020': 0.14285714285714285, '034220': 0.0, '034730': 0.0, '035250': 0.0, '036460': 0.0, '036570': 0.0, '039490': 0.0, '047050': 0.0, '051900': 0.0, '051910': 0.0, '052690': 0.0, '055550': 0.0, '066570': 0.14285714285714285, '068270': 0.0, '071050': 0.0, '078930': 0.0, '086280': 0.0, '086790': 0.0, '096770': 0.0, '097950': 0.0, '105560': 0.14285714285714285, '111770': 0.0, '128940': 0.0, '138040': 0.0, '138930': 0.0, '139480': 0.0, '161390': 0.0}\n",
      "Portfolio: {'000270': 0.14285714285714285, '000660': 0.0, '000720': 0.0, '000810': 0.0, '000880': 0.0, '000990': 0.0, '001450': 0.0, '001570': 0.0, '004020': 0.0, '004370': 0.0, '005380': 0.0, '005490': 0.0, '005830': 0.0, '005940': 0.0, '006260': 0.0, '006400': 0.14285714285714285, '006800': 0.0, '007070': 0.0, '008770': 0.0, '009150': 0.0, '009830': 0.0, '010120': 0.0, '010130': 0.0, '010620': 0.0, '010950': 0.0, '011070': 0.0, '011170': 0.0, '011780': 0.14285714285714285, '012330': 0.0, '012450': 0.0, '015760': 0.0, '016360': 0.14285714285714285, '020150': 0.0, '021240': 0.0, '024110': 0.0, '029780': 0.0, '030200': 0.0, '032640': 0.14285714285714285, '032830': 0.0, '033780': 0.0, '034020': 0.0, '034220': 0.0, '034730': 0.0, '035250': 0.0, '036460': 0.0, '036570': 0.0, '039490': 0.0, '047050': 0.0, '051900': 0.0, '051910': 0.0, '052690': 0.0, '055550': 0.0, '066570': 0.14285714285714285, '068270': 0.0, '071050': 0.0, '078930': 0.0, '086280': 0.14285714285714285, '086790': 0.0, '096770': 0.0, '097950': 0.0, '105560': 0.0, '111770': 0.0, '128940': 0.0, '138040': 0.0, '138930': 0.0, '139480': 0.0, '161390': 0.0}\n",
      "Portfolio: {'000270': 0.0, '000660': 0.0, '000720': 0.0, '000810': 0.0, '000880': 0.0, '000990': 0.0, '001450': 0.0, '001570': 0.0, '004020': 0.0, '004370': 0.0, '005380': 0.0, '005490': 0.0, '005830': 0.0, '005940': 0.0, '006260': 0.0, '006400': 0.0, '006800': 0.0, '007070': 0.0, '008770': 0.0, '009150': 0.0, '009830': 0.0, '010120': 0.0, '010130': 0.14285714285714285, '010620': 0.0, '010950': 0.0, '011070': 0.0, '011170': 0.0, '011780': 0.14285714285714285, '012330': 0.0, '012450': 0.0, '015760': 0.0, '016360': 0.14285714285714285, '020150': 0.0, '021240': 0.0, '024110': 0.0, '029780': 0.0, '030200': 0.0, '032640': 0.0, '032830': 0.0, '033780': 0.0, '034020': 0.0, '034220': 0.0, '034730': 0.0, '035250': 0.0, '036460': 0.0, '036570': 0.0, '039490': 0.14285714285714285, '047050': 0.0, '051900': 0.0, '051910': 0.0, '052690': 0.0, '055550': 0.0, '066570': 0.14285714285714285, '068270': 0.14285714285714285, '071050': 0.14285714285714285, '078930': 0.0, '086280': 0.0, '086790': 0.0, '096770': 0.0, '097950': 0.0, '105560': 0.0, '111770': 0.0, '128940': 0.0, '138040': 0.0, '138930': 0.0, '139480': 0.0, '161390': 0.0}\n",
      "Portfolio: {'000270': 0.0, '000660': 0.14285714285714285, '000720': 0.0, '000810': 0.0, '000880': 0.0, '000990': 0.0, '001450': 0.0, '001570': 0.0, '004020': 0.0, '004370': 0.0, '005380': 0.0, '005490': 0.0, '005830': 0.0, '005940': 0.14285714285714285, '006260': 0.0, '006400': 0.0, '006800': 0.0, '007070': 0.0, '008770': 0.0, '009150': 0.14285714285714285, '009830': 0.0, '010120': 0.0, '010130': 0.14285714285714285, '010620': 0.0, '010950': 0.0, '011070': 0.0, '011170': 0.0, '011780': 0.14285714285714285, '012330': 0.0, '012450': 0.0, '015760': 0.0, '016360': 0.14285714285714285, '020150': 0.0, '021240': 0.0, '024110': 0.0, '029780': 0.0, '030200': 0.0, '032640': 0.0, '032830': 0.0, '033780': 0.0, '034020': 0.0, '034220': 0.0, '034730': 0.0, '035250': 0.0, '036460': 0.0, '036570': 0.0, '039490': 0.0, '047050': 0.0, '051900': 0.0, '051910': 0.0, '052690': 0.0, '055550': 0.0, '066570': 0.0, '068270': 0.0, '071050': 0.14285714285714285, '078930': 0.0, '086280': 0.0, '086790': 0.0, '096770': 0.0, '097950': 0.0, '105560': 0.0, '111770': 0.0, '128940': 0.0, '138040': 0.0, '138930': 0.0, '139480': 0.0, '161390': 0.0}\n",
      "Portfolio: {'000270': 0.0, '000660': 0.0, '000720': 0.0, '000810': 0.0, '000880': 0.0, '000990': 0.14285714285714285, '001450': 0.0, '001570': 0.0, '004020': 0.0, '004370': 0.0, '005380': 0.0, '005490': 0.0, '005830': 0.0, '005940': 0.0, '006260': 0.0, '006400': 0.0, '006800': 0.0, '007070': 0.0, '008770': 0.14285714285714285, '009150': 0.14285714285714285, '009830': 0.0, '010120': 0.0, '010130': 0.0, '010620': 0.14285714285714285, '010950': 0.14285714285714285, '011070': 0.0, '011170': 0.0, '011780': 0.0, '012330': 0.0, '012450': 0.14285714285714285, '015760': 0.0, '016360': 0.0, '020150': 0.0, '021240': 0.0, '024110': 0.0, '029780': 0.0, '030200': 0.0, '032640': 0.0, '032830': 0.0, '033780': 0.0, '034020': 0.0, '034220': 0.0, '034730': 0.0, '035250': 0.0, '036460': 0.0, '036570': 0.14285714285714285, '039490': 0.0, '047050': 0.0, '051900': 0.0, '051910': 0.0, '052690': 0.0, '055550': 0.0, '066570': 0.0, '068270': 0.0, '071050': 0.0, '078930': 0.0, '086280': 0.0, '086790': 0.0, '096770': 0.0, '097950': 0.0, '105560': 0.0, '111770': 0.0, '128940': 0.0, '138040': 0.0, '138930': 0.0, '139480': 0.0, '161390': 0.0}\n",
      "Portfolio: {'000270': 0.0, '000660': 0.0, '000720': 0.0, '000810': 0.0, '000880': 0.0, '000990': 0.14285714285714285, '001450': 0.0, '001570': 0.0, '004020': 0.0, '004370': 0.0, '005380': 0.0, '005490': 0.0, '005830': 0.0, '005940': 0.0, '006260': 0.0, '006400': 0.0, '006800': 0.0, '007070': 0.0, '008770': 0.0, '009150': 0.14285714285714285, '009830': 0.0, '010120': 0.0, '010130': 0.0, '010620': 0.0, '010950': 0.14285714285714285, '011070': 0.14285714285714285, '011170': 0.0, '011780': 0.0, '012330': 0.0, '012450': 0.14285714285714285, '015760': 0.0, '016360': 0.0, '020150': 0.0, '021240': 0.0, '024110': 0.0, '029780': 0.0, '030200': 0.0, '032640': 0.0, '032830': 0.0, '033780': 0.0, '034020': 0.0, '034220': 0.0, '034730': 0.0, '035250': 0.0, '036460': 0.0, '036570': 0.0, '039490': 0.0, '047050': 0.14285714285714285, '051900': 0.0, '051910': 0.0, '052690': 0.0, '055550': 0.0, '066570': 0.0, '068270': 0.0, '071050': 0.14285714285714285, '078930': 0.0, '086280': 0.0, '086790': 0.0, '096770': 0.0, '097950': 0.0, '105560': 0.0, '111770': 0.0, '128940': 0.0, '138040': 0.0, '138930': 0.0, '139480': 0.0, '161390': 0.0}\n",
      "Portfolio: {'000270': 0.0, '000660': 0.0, '000720': 0.0, '000810': 0.0, '000880': 0.0, '000990': 0.14285714285714285, '001450': 0.0, '001570': 0.0, '004020': 0.0, '004370': 0.0, '005380': 0.0, '005490': 0.0, '005830': 0.0, '005940': 0.0, '006260': 0.0, '006400': 0.0, '006800': 0.0, '007070': 0.0, '008770': 0.0, '009150': 0.14285714285714285, '009830': 0.0, '010120': 0.0, '010130': 0.0, '010620': 0.0, '010950': 0.0, '011070': 0.14285714285714285, '011170': 0.0, '011780': 0.0, '012330': 0.0, '012450': 0.14285714285714285, '015760': 0.0, '016360': 0.0, '020150': 0.0, '021240': 0.14285714285714285, '024110': 0.0, '029780': 0.0, '030200': 0.0, '032640': 0.0, '032830': 0.0, '033780': 0.0, '034020': 0.0, '034220': 0.0, '034730': 0.0, '035250': 0.0, '036460': 0.0, '036570': 0.0, '039490': 0.0, '047050': 0.0, '051900': 0.0, '051910': 0.0, '052690': 0.0, '055550': 0.0, '066570': 0.0, '068270': 0.14285714285714285, '071050': 0.14285714285714285, '078930': 0.0, '086280': 0.0, '086790': 0.0, '096770': 0.0, '097950': 0.0, '105560': 0.0, '111770': 0.0, '128940': 0.0, '138040': 0.0, '138930': 0.0, '139480': 0.0, '161390': 0.0}\n",
      "Portfolio: {'000270': 0.0, '000660': 0.0, '000720': 0.0, '000810': 0.0, '000880': 0.0, '000990': 0.14285714285714285, '001450': 0.0, '001570': 0.0, '004020': 0.0, '004370': 0.0, '005380': 0.0, '005490': 0.0, '005830': 0.0, '005940': 0.0, '006260': 0.0, '006400': 0.0, '006800': 0.0, '007070': 0.0, '008770': 0.14285714285714285, '009150': 0.14285714285714285, '009830': 0.14285714285714285, '010120': 0.14285714285714285, '010130': 0.0, '010620': 0.0, '010950': 0.0, '011070': 0.14285714285714285, '011170': 0.0, '011780': 0.0, '012330': 0.0, '012450': 0.0, '015760': 0.0, '016360': 0.0, '020150': 0.0, '021240': 0.0, '024110': 0.0, '029780': 0.0, '030200': 0.0, '032640': 0.0, '032830': 0.0, '033780': 0.0, '034020': 0.0, '034220': 0.0, '034730': 0.0, '035250': 0.0, '036460': 0.0, '036570': 0.0, '039490': 0.14285714285714285, '047050': 0.0, '051900': 0.0, '051910': 0.0, '052690': 0.0, '055550': 0.0, '066570': 0.0, '068270': 0.0, '071050': 0.0, '078930': 0.0, '086280': 0.0, '086790': 0.0, '096770': 0.0, '097950': 0.0, '105560': 0.0, '111770': 0.0, '128940': 0.0, '138040': 0.0, '138930': 0.0, '139480': 0.0, '161390': 0.0}\n",
      "Portfolio: {'000270': 0.0, '000660': 0.0, '000720': 0.0, '000810': 0.0, '000880': 0.0, '000990': 0.14285714285714285, '001450': 0.0, '001570': 0.0, '004020': 0.0, '004370': 0.0, '005380': 0.0, '005490': 0.0, '005830': 0.0, '005940': 0.0, '006260': 0.0, '006400': 0.0, '006800': 0.0, '007070': 0.0, '008770': 0.14285714285714285, '009150': 0.14285714285714285, '009830': 0.0, '010120': 0.14285714285714285, '010130': 0.0, '010620': 0.0, '010950': 0.0, '011070': 0.14285714285714285, '011170': 0.0, '011780': 0.0, '012330': 0.0, '012450': 0.0, '015760': 0.0, '016360': 0.0, '020150': 0.14285714285714285, '021240': 0.0, '024110': 0.0, '029780': 0.0, '030200': 0.0, '032640': 0.0, '032830': 0.0, '033780': 0.0, '034020': 0.0, '034220': 0.0, '034730': 0.0, '035250': 0.0, '036460': 0.0, '036570': 0.14285714285714285, '039490': 0.0, '047050': 0.0, '051900': 0.0, '051910': 0.0, '052690': 0.0, '055550': 0.0, '066570': 0.0, '068270': 0.0, '071050': 0.0, '078930': 0.0, '086280': 0.0, '086790': 0.0, '096770': 0.0, '097950': 0.0, '105560': 0.0, '111770': 0.0, '128940': 0.0, '138040': 0.0, '138930': 0.0, '139480': 0.0, '161390': 0.0}\n",
      "Portfolio: {'000270': 0.0, '000660': 0.0, '000720': 0.0, '000810': 0.0, '000880': 0.0, '000990': 0.0, '001450': 0.0, '001570': 0.0, '004020': 0.0, '004370': 0.0, '005380': 0.0, '005490': 0.0, '005830': 0.0, '005940': 0.0, '006260': 0.0, '006400': 0.14285714285714285, '006800': 0.0, '007070': 0.0, '008770': 0.14285714285714285, '009150': 0.14285714285714285, '009830': 0.0, '010120': 0.0, '010130': 0.0, '010620': 0.0, '010950': 0.0, '011070': 0.0, '011170': 0.0, '011780': 0.0, '012330': 0.0, '012450': 0.0, '015760': 0.0, '016360': 0.14285714285714285, '020150': 0.14285714285714285, '021240': 0.0, '024110': 0.0, '029780': 0.0, '030200': 0.0, '032640': 0.0, '032830': 0.0, '033780': 0.0, '034020': 0.0, '034220': 0.0, '034730': 0.0, '035250': 0.0, '036460': 0.0, '036570': 0.14285714285714285, '039490': 0.0, '047050': 0.0, '051900': 0.0, '051910': 0.0, '052690': 0.0, '055550': 0.0, '066570': 0.0, '068270': 0.0, '071050': 0.0, '078930': 0.0, '086280': 0.0, '086790': 0.0, '096770': 0.0, '097950': 0.0, '105560': 0.0, '111770': 0.0, '128940': 0.0, '138040': 0.0, '138930': 0.0, '139480': 0.14285714285714285, '161390': 0.0}\n",
      "Portfolio: {'000270': 0.0, '000660': 0.0, '000720': 0.0, '000810': 0.0, '000880': 0.0, '000990': 0.0, '001450': 0.0, '001570': 0.0, '004020': 0.0, '004370': 0.0, '005380': 0.0, '005490': 0.0, '005830': 0.0, '005940': 0.0, '006260': 0.0, '006400': 0.0, '006800': 0.0, '007070': 0.0, '008770': 0.0, '009150': 0.14285714285714285, '009830': 0.0, '010120': 0.0, '010130': 0.0, '010620': 0.0, '010950': 0.0, '011070': 0.0, '011170': 0.14285714285714285, '011780': 0.0, '012330': 0.0, '012450': 0.0, '015760': 0.0, '016360': 0.0, '020150': 0.14285714285714285, '021240': 0.0, '024110': 0.0, '029780': 0.0, '030200': 0.0, '032640': 0.14285714285714285, '032830': 0.0, '033780': 0.0, '034020': 0.0, '034220': 0.0, '034730': 0.0, '035250': 0.0, '036460': 0.0, '036570': 0.14285714285714285, '039490': 0.14285714285714285, '047050': 0.0, '051900': 0.0, '051910': 0.14285714285714285, '052690': 0.0, '055550': 0.0, '066570': 0.0, '068270': 0.0, '071050': 0.0, '078930': 0.0, '086280': 0.0, '086790': 0.0, '096770': 0.0, '097950': 0.0, '105560': 0.0, '111770': 0.0, '128940': 0.0, '138040': 0.0, '138930': 0.0, '139480': 0.0, '161390': 0.0}\n",
      "Portfolio: {'000270': 0.0, '000660': 0.0, '000720': 0.0, '000810': 0.0, '000880': 0.0, '000990': 0.0, '001450': 0.0, '001570': 0.0, '004020': 0.0, '004370': 0.0, '005380': 0.0, '005490': 0.0, '005830': 0.0, '005940': 0.14285714285714285, '006260': 0.0, '006400': 0.0, '006800': 0.0, '007070': 0.0, '008770': 0.0, '009150': 0.0, '009830': 0.0, '010120': 0.0, '010130': 0.0, '010620': 0.0, '010950': 0.0, '011070': 0.0, '011170': 0.0, '011780': 0.0, '012330': 0.0, '012450': 0.0, '015760': 0.0, '016360': 0.0, '020150': 0.0, '021240': 0.0, '024110': 0.0, '029780': 0.0, '030200': 0.0, '032640': 0.0, '032830': 0.0, '033780': 0.14285714285714285, '034020': 0.0, '034220': 0.14285714285714285, '034730': 0.0, '035250': 0.0, '036460': 0.0, '036570': 0.0, '039490': 0.0, '047050': 0.14285714285714285, '051900': 0.0, '051910': 0.0, '052690': 0.0, '055550': 0.0, '066570': 0.0, '068270': 0.14285714285714285, '071050': 0.0, '078930': 0.0, '086280': 0.0, '086790': 0.0, '096770': 0.0, '097950': 0.0, '105560': 0.0, '111770': 0.14285714285714285, '128940': 0.14285714285714285, '138040': 0.0, '138930': 0.0, '139480': 0.0, '161390': 0.0}\n",
      "Portfolio: {'000270': 0.0, '000660': 0.0, '000720': 0.0, '000810': 0.0, '000880': 0.0, '000990': 0.0, '001450': 0.0, '001570': 0.14285714285714285, '004020': 0.0, '004370': 0.0, '005380': 0.0, '005490': 0.0, '005830': 0.0, '005940': 0.0, '006260': 0.0, '006400': 0.14285714285714285, '006800': 0.0, '007070': 0.0, '008770': 0.14285714285714285, '009150': 0.0, '009830': 0.0, '010120': 0.0, '010130': 0.0, '010620': 0.0, '010950': 0.0, '011070': 0.0, '011170': 0.0, '011780': 0.0, '012330': 0.0, '012450': 0.0, '015760': 0.0, '016360': 0.0, '020150': 0.0, '021240': 0.0, '024110': 0.0, '029780': 0.0, '030200': 0.0, '032640': 0.0, '032830': 0.0, '033780': 0.0, '034020': 0.0, '034220': 0.0, '034730': 0.0, '035250': 0.0, '036460': 0.0, '036570': 0.0, '039490': 0.14285714285714285, '047050': 0.0, '051900': 0.14285714285714285, '051910': 0.14285714285714285, '052690': 0.14285714285714285, '055550': 0.0, '066570': 0.0, '068270': 0.0, '071050': 0.0, '078930': 0.0, '086280': 0.0, '086790': 0.0, '096770': 0.0, '097950': 0.0, '105560': 0.0, '111770': 0.0, '128940': 0.0, '138040': 0.0, '138930': 0.0, '139480': 0.0, '161390': 0.0}\n",
      "Portfolio: {'000270': 0.0, '000660': 0.0, '000720': 0.14285714285714285, '000810': 0.0, '000880': 0.0, '000990': 0.0, '001450': 0.0, '001570': 0.0, '004020': 0.0, '004370': 0.14285714285714285, '005380': 0.0, '005490': 0.0, '005830': 0.0, '005940': 0.0, '006260': 0.0, '006400': 0.0, '006800': 0.0, '007070': 0.0, '008770': 0.0, '009150': 0.0, '009830': 0.0, '010120': 0.0, '010130': 0.0, '010620': 0.0, '010950': 0.0, '011070': 0.14285714285714285, '011170': 0.0, '011780': 0.0, '012330': 0.0, '012450': 0.0, '015760': 0.0, '016360': 0.0, '020150': 0.0, '021240': 0.0, '024110': 0.0, '029780': 0.0, '030200': 0.0, '032640': 0.0, '032830': 0.0, '033780': 0.0, '034020': 0.0, '034220': 0.0, '034730': 0.0, '035250': 0.0, '036460': 0.0, '036570': 0.14285714285714285, '039490': 0.0, '047050': 0.14285714285714285, '051900': 0.0, '051910': 0.0, '052690': 0.0, '055550': 0.0, '066570': 0.14285714285714285, '068270': 0.0, '071050': 0.0, '078930': 0.0, '086280': 0.0, '086790': 0.0, '096770': 0.0, '097950': 0.14285714285714285, '105560': 0.0, '111770': 0.0, '128940': 0.0, '138040': 0.0, '138930': 0.0, '139480': 0.0, '161390': 0.0}\n",
      "Portfolio: {'000270': 0.0, '000660': 0.0, '000720': 0.14285714285714285, '000810': 0.0, '000880': 0.0, '000990': 0.14285714285714285, '001450': 0.0, '001570': 0.0, '004020': 0.0, '004370': 0.0, '005380': 0.0, '005490': 0.0, '005830': 0.0, '005940': 0.0, '006260': 0.0, '006400': 0.0, '006800': 0.0, '007070': 0.0, '008770': 0.0, '009150': 0.14285714285714285, '009830': 0.0, '010120': 0.0, '010130': 0.0, '010620': 0.14285714285714285, '010950': 0.0, '011070': 0.14285714285714285, '011170': 0.0, '011780': 0.0, '012330': 0.0, '012450': 0.0, '015760': 0.0, '016360': 0.0, '020150': 0.14285714285714285, '021240': 0.0, '024110': 0.0, '029780': 0.0, '030200': 0.0, '032640': 0.0, '032830': 0.0, '033780': 0.0, '034020': 0.0, '034220': 0.0, '034730': 0.0, '035250': 0.0, '036460': 0.0, '036570': 0.0, '039490': 0.0, '047050': 0.0, '051900': 0.0, '051910': 0.0, '052690': 0.0, '055550': 0.0, '066570': 0.0, '068270': 0.14285714285714285, '071050': 0.0, '078930': 0.0, '086280': 0.0, '086790': 0.0, '096770': 0.0, '097950': 0.0, '105560': 0.0, '111770': 0.0, '128940': 0.0, '138040': 0.0, '138930': 0.0, '139480': 0.0, '161390': 0.0}\n",
      "Portfolio: {'000270': 0.0, '000660': 0.0, '000720': 0.0, '000810': 0.0, '000880': 0.0, '000990': 0.14285714285714285, '001450': 0.0, '001570': 0.14285714285714285, '004020': 0.0, '004370': 0.0, '005380': 0.0, '005490': 0.14285714285714285, '005830': 0.0, '005940': 0.0, '006260': 0.0, '006400': 0.0, '006800': 0.0, '007070': 0.0, '008770': 0.0, '009150': 0.0, '009830': 0.0, '010120': 0.0, '010130': 0.0, '010620': 0.0, '010950': 0.0, '011070': 0.0, '011170': 0.0, '011780': 0.14285714285714285, '012330': 0.0, '012450': 0.0, '015760': 0.0, '016360': 0.0, '020150': 0.0, '021240': 0.0, '024110': 0.0, '029780': 0.0, '030200': 0.0, '032640': 0.0, '032830': 0.0, '033780': 0.0, '034020': 0.0, '034220': 0.0, '034730': 0.0, '035250': 0.0, '036460': 0.0, '036570': 0.0, '039490': 0.0, '047050': 0.0, '051900': 0.0, '051910': 0.0, '052690': 0.0, '055550': 0.0, '066570': 0.14285714285714285, '068270': 0.0, '071050': 0.0, '078930': 0.0, '086280': 0.0, '086790': 0.14285714285714285, '096770': 0.0, '097950': 0.14285714285714285, '105560': 0.0, '111770': 0.0, '128940': 0.0, '138040': 0.0, '138930': 0.0, '139480': 0.0, '161390': 0.0}\n",
      "Portfolio: {'000270': 0.0, '000660': 0.0, '000720': 0.0, '000810': 0.0, '000880': 0.0, '000990': 0.0, '001450': 0.0, '001570': 0.0, '004020': 0.0, '004370': 0.0, '005380': 0.0, '005490': 0.0, '005830': 0.0, '005940': 0.0, '006260': 0.0, '006400': 0.0, '006800': 0.0, '007070': 0.0, '008770': 0.0, '009150': 0.0, '009830': 0.0, '010120': 0.0, '010130': 0.0, '010620': 0.14285714285714285, '010950': 0.0, '011070': 0.0, '011170': 0.14285714285714285, '011780': 0.14285714285714285, '012330': 0.0, '012450': 0.0, '015760': 0.0, '016360': 0.0, '020150': 0.0, '021240': 0.0, '024110': 0.0, '029780': 0.0, '030200': 0.0, '032640': 0.0, '032830': 0.0, '033780': 0.0, '034020': 0.0, '034220': 0.0, '034730': 0.0, '035250': 0.0, '036460': 0.0, '036570': 0.0, '039490': 0.0, '047050': 0.0, '051900': 0.0, '051910': 0.0, '052690': 0.0, '055550': 0.0, '066570': 0.14285714285714285, '068270': 0.0, '071050': 0.0, '078930': 0.0, '086280': 0.0, '086790': 0.0, '096770': 0.0, '097950': 0.14285714285714285, '105560': 0.14285714285714285, '111770': 0.0, '128940': 0.0, '138040': 0.0, '138930': 0.0, '139480': 0.14285714285714285, '161390': 0.0}\n",
      "Portfolio: {'000270': 0.0, '000660': 0.14285714285714285, '000720': 0.0, '000810': 0.0, '000880': 0.0, '000990': 0.0, '001450': 0.0, '001570': 0.0, '004020': 0.0, '004370': 0.0, '005380': 0.0, '005490': 0.0, '005830': 0.0, '005940': 0.0, '006260': 0.0, '006400': 0.0, '006800': 0.0, '007070': 0.0, '008770': 0.0, '009150': 0.0, '009830': 0.0, '010120': 0.0, '010130': 0.0, '010620': 0.0, '010950': 0.0, '011070': 0.14285714285714285, '011170': 0.0, '011780': 0.0, '012330': 0.0, '012450': 0.0, '015760': 0.0, '016360': 0.0, '020150': 0.0, '021240': 0.0, '024110': 0.0, '029780': 0.0, '030200': 0.0, '032640': 0.0, '032830': 0.0, '033780': 0.0, '034020': 0.0, '034220': 0.14285714285714285, '034730': 0.0, '035250': 0.0, '036460': 0.0, '036570': 0.0, '039490': 0.14285714285714285, '047050': 0.0, '051900': 0.0, '051910': 0.14285714285714285, '052690': 0.0, '055550': 0.0, '066570': 0.0, '068270': 0.0, '071050': 0.0, '078930': 0.0, '086280': 0.14285714285714285, '086790': 0.0, '096770': 0.0, '097950': 0.14285714285714285, '105560': 0.0, '111770': 0.0, '128940': 0.0, '138040': 0.0, '138930': 0.0, '139480': 0.0, '161390': 0.0}\n",
      "Portfolio: {'000270': 0.0, '000660': 0.0, '000720': 0.0, '000810': 0.0, '000880': 0.0, '000990': 0.0, '001450': 0.0, '001570': 0.0, '004020': 0.0, '004370': 0.0, '005380': 0.0, '005490': 0.0, '005830': 0.0, '005940': 0.14285714285714285, '006260': 0.0, '006400': 0.14285714285714285, '006800': 0.0, '007070': 0.0, '008770': 0.0, '009150': 0.0, '009830': 0.0, '010120': 0.0, '010130': 0.0, '010620': 0.0, '010950': 0.0, '011070': 0.0, '011170': 0.0, '011780': 0.0, '012330': 0.0, '012450': 0.0, '015760': 0.0, '016360': 0.14285714285714285, '020150': 0.0, '021240': 0.0, '024110': 0.0, '029780': 0.0, '030200': 0.0, '032640': 0.0, '032830': 0.0, '033780': 0.0, '034020': 0.14285714285714285, '034220': 0.0, '034730': 0.0, '035250': 0.0, '036460': 0.0, '036570': 0.0, '039490': 0.0, '047050': 0.0, '051900': 0.0, '051910': 0.14285714285714285, '052690': 0.0, '055550': 0.0, '066570': 0.14285714285714285, '068270': 0.0, '071050': 0.0, '078930': 0.0, '086280': 0.14285714285714285, '086790': 0.0, '096770': 0.0, '097950': 0.0, '105560': 0.0, '111770': 0.0, '128940': 0.0, '138040': 0.0, '138930': 0.0, '139480': 0.0, '161390': 0.0}\n",
      "Portfolio: {'000270': 0.0, '000660': 0.14285714285714285, '000720': 0.0, '000810': 0.0, '000880': 0.0, '000990': 0.0, '001450': 0.0, '001570': 0.0, '004020': 0.0, '004370': 0.0, '005380': 0.0, '005490': 0.0, '005830': 0.0, '005940': 0.0, '006260': 0.0, '006400': 0.0, '006800': 0.0, '007070': 0.0, '008770': 0.14285714285714285, '009150': 0.14285714285714285, '009830': 0.0, '010120': 0.0, '010130': 0.0, '010620': 0.0, '010950': 0.14285714285714285, '011070': 0.0, '011170': 0.0, '011780': 0.0, '012330': 0.0, '012450': 0.0, '015760': 0.0, '016360': 0.0, '020150': 0.0, '021240': 0.0, '024110': 0.0, '029780': 0.0, '030200': 0.0, '032640': 0.0, '032830': 0.0, '033780': 0.0, '034020': 0.14285714285714285, '034220': 0.0, '034730': 0.0, '035250': 0.0, '036460': 0.0, '036570': 0.0, '039490': 0.0, '047050': 0.0, '051900': 0.0, '051910': 0.14285714285714285, '052690': 0.0, '055550': 0.0, '066570': 0.0, '068270': 0.0, '071050': 0.0, '078930': 0.0, '086280': 0.0, '086790': 0.14285714285714285, '096770': 0.0, '097950': 0.0, '105560': 0.0, '111770': 0.0, '128940': 0.0, '138040': 0.0, '138930': 0.0, '139480': 0.0, '161390': 0.0}\n",
      "Portfolio: {'000270': 0.0, '000660': 0.0, '000720': 0.0, '000810': 0.0, '000880': 0.0, '000990': 0.0, '001450': 0.0, '001570': 0.0, '004020': 0.0, '004370': 0.0, '005380': 0.0, '005490': 0.0, '005830': 0.0, '005940': 0.0, '006260': 0.0, '006400': 0.14285714285714285, '006800': 0.0, '007070': 0.0, '008770': 0.0, '009150': 0.0, '009830': 0.0, '010120': 0.0, '010130': 0.0, '010620': 0.0, '010950': 0.14285714285714285, '011070': 0.0, '011170': 0.0, '011780': 0.14285714285714285, '012330': 0.0, '012450': 0.14285714285714285, '015760': 0.0, '016360': 0.0, '020150': 0.0, '021240': 0.0, '024110': 0.0, '029780': 0.0, '030200': 0.0, '032640': 0.0, '032830': 0.0, '033780': 0.0, '034020': 0.0, '034220': 0.0, '034730': 0.0, '035250': 0.0, '036460': 0.0, '036570': 0.14285714285714285, '039490': 0.0, '047050': 0.0, '051900': 0.0, '051910': 0.0, '052690': 0.0, '055550': 0.0, '066570': 0.0, '068270': 0.0, '071050': 0.0, '078930': 0.0, '086280': 0.0, '086790': 0.0, '096770': 0.0, '097950': 0.14285714285714285, '105560': 0.0, '111770': 0.0, '128940': 0.0, '138040': 0.0, '138930': 0.0, '139480': 0.0, '161390': 0.14285714285714285}\n",
      "Portfolio: {'000270': 0.0, '000660': 0.0, '000720': 0.0, '000810': 0.0, '000880': 0.0, '000990': 0.0, '001450': 0.0, '001570': 0.0, '004020': 0.0, '004370': 0.0, '005380': 0.0, '005490': 0.0, '005830': 0.0, '005940': 0.0, '006260': 0.14285714285714285, '006400': 0.0, '006800': 0.0, '007070': 0.0, '008770': 0.0, '009150': 0.0, '009830': 0.0, '010120': 0.0, '010130': 0.0, '010620': 0.0, '010950': 0.0, '011070': 0.0, '011170': 0.0, '011780': 0.0, '012330': 0.0, '012450': 0.0, '015760': 0.0, '016360': 0.0, '020150': 0.0, '021240': 0.0, '024110': 0.0, '029780': 0.0, '030200': 0.0, '032640': 0.0, '032830': 0.0, '033780': 0.0, '034020': 0.0, '034220': 0.0, '034730': 0.0, '035250': 0.0, '036460': 0.0, '036570': 0.14285714285714285, '039490': 0.14285714285714285, '047050': 0.0, '051900': 0.0, '051910': 0.0, '052690': 0.0, '055550': 0.14285714285714285, '066570': 0.0, '068270': 0.0, '071050': 0.0, '078930': 0.0, '086280': 0.0, '086790': 0.14285714285714285, '096770': 0.0, '097950': 0.0, '105560': 0.0, '111770': 0.0, '128940': 0.0, '138040': 0.0, '138930': 0.14285714285714285, '139480': 0.0, '161390': 0.14285714285714285}\n",
      "Portfolio: {'000270': 0.0, '000660': 0.0, '000720': 0.0, '000810': 0.0, '000880': 0.0, '000990': 0.0, '001450': 0.0, '001570': 0.0, '004020': 0.0, '004370': 0.0, '005380': 0.0, '005490': 0.14285714285714285, '005830': 0.0, '005940': 0.14285714285714285, '006260': 0.0, '006400': 0.0, '006800': 0.0, '007070': 0.0, '008770': 0.0, '009150': 0.0, '009830': 0.0, '010120': 0.0, '010130': 0.0, '010620': 0.0, '010950': 0.0, '011070': 0.0, '011170': 0.0, '011780': 0.0, '012330': 0.0, '012450': 0.0, '015760': 0.0, '016360': 0.0, '020150': 0.0, '021240': 0.0, '024110': 0.0, '029780': 0.0, '030200': 0.0, '032640': 0.0, '032830': 0.0, '033780': 0.0, '034020': 0.0, '034220': 0.0, '034730': 0.0, '035250': 0.0, '036460': 0.0, '036570': 0.0, '039490': 0.14285714285714285, '047050': 0.0, '051900': 0.0, '051910': 0.14285714285714285, '052690': 0.0, '055550': 0.0, '066570': 0.0, '068270': 0.14285714285714285, '071050': 0.14285714285714285, '078930': 0.0, '086280': 0.0, '086790': 0.0, '096770': 0.0, '097950': 0.0, '105560': 0.0, '111770': 0.0, '128940': 0.0, '138040': 0.0, '138930': 0.14285714285714285, '139480': 0.0, '161390': 0.0}\n",
      "Portfolio: {'000270': 0.0, '000660': 0.0, '000720': 0.0, '000810': 0.14285714285714285, '000880': 0.0, '000990': 0.0, '001450': 0.14285714285714285, '001570': 0.0, '004020': 0.0, '004370': 0.0, '005380': 0.0, '005490': 0.14285714285714285, '005830': 0.14285714285714285, '005940': 0.0, '006260': 0.0, '006400': 0.0, '006800': 0.0, '007070': 0.0, '008770': 0.0, '009150': 0.0, '009830': 0.0, '010120': 0.0, '010130': 0.0, '010620': 0.0, '010950': 0.0, '011070': 0.0, '011170': 0.0, '011780': 0.0, '012330': 0.0, '012450': 0.0, '015760': 0.0, '016360': 0.0, '020150': 0.0, '021240': 0.0, '024110': 0.14285714285714285, '029780': 0.0, '030200': 0.0, '032640': 0.0, '032830': 0.0, '033780': 0.0, '034020': 0.0, '034220': 0.0, '034730': 0.0, '035250': 0.0, '036460': 0.0, '036570': 0.0, '039490': 0.0, '047050': 0.0, '051900': 0.0, '051910': 0.0, '052690': 0.0, '055550': 0.0, '066570': 0.0, '068270': 0.0, '071050': 0.0, '078930': 0.0, '086280': 0.0, '086790': 0.14285714285714285, '096770': 0.0, '097950': 0.0, '105560': 0.14285714285714285, '111770': 0.0, '128940': 0.0, '138040': 0.0, '138930': 0.0, '139480': 0.0, '161390': 0.0}\n",
      "Portfolio: {'000270': 0.0, '000660': 0.0, '000720': 0.14285714285714285, '000810': 0.0, '000880': 0.0, '000990': 0.0, '001450': 0.0, '001570': 0.0, '004020': 0.0, '004370': 0.0, '005380': 0.0, '005490': 0.0, '005830': 0.0, '005940': 0.0, '006260': 0.0, '006400': 0.0, '006800': 0.0, '007070': 0.0, '008770': 0.0, '009150': 0.0, '009830': 0.0, '010120': 0.0, '010130': 0.0, '010620': 0.0, '010950': 0.0, '011070': 0.0, '011170': 0.0, '011780': 0.0, '012330': 0.0, '012450': 0.0, '015760': 0.0, '016360': 0.0, '020150': 0.0, '021240': 0.0, '024110': 0.0, '029780': 0.0, '030200': 0.0, '032640': 0.14285714285714285, '032830': 0.0, '033780': 0.0, '034020': 0.0, '034220': 0.0, '034730': 0.0, '035250': 0.0, '036460': 0.0, '036570': 0.0, '039490': 0.0, '047050': 0.14285714285714285, '051900': 0.0, '051910': 0.14285714285714285, '052690': 0.0, '055550': 0.0, '066570': 0.0, '068270': 0.0, '071050': 0.14285714285714285, '078930': 0.0, '086280': 0.0, '086790': 0.0, '096770': 0.0, '097950': 0.0, '105560': 0.0, '111770': 0.14285714285714285, '128940': 0.0, '138040': 0.0, '138930': 0.0, '139480': 0.14285714285714285, '161390': 0.0}\n",
      "Portfolio: {'000270': 0.0, '000660': 0.0, '000720': 0.0, '000810': 0.0, '000880': 0.0, '000990': 0.0, '001450': 0.0, '001570': 0.0, '004020': 0.0, '004370': 0.0, '005380': 0.0, '005490': 0.0, '005830': 0.0, '005940': 0.0, '006260': 0.0, '006400': 0.0, '006800': 0.0, '007070': 0.0, '008770': 0.14285714285714285, '009150': 0.0, '009830': 0.0, '010120': 0.0, '010130': 0.0, '010620': 0.0, '010950': 0.14285714285714285, '011070': 0.0, '011170': 0.0, '011780': 0.0, '012330': 0.0, '012450': 0.14285714285714285, '015760': 0.0, '016360': 0.14285714285714285, '020150': 0.0, '021240': 0.0, '024110': 0.0, '029780': 0.0, '030200': 0.14285714285714285, '032640': 0.14285714285714285, '032830': 0.0, '033780': 0.0, '034020': 0.0, '034220': 0.0, '034730': 0.0, '035250': 0.0, '036460': 0.0, '036570': 0.0, '039490': 0.0, '047050': 0.0, '051900': 0.0, '051910': 0.0, '052690': 0.0, '055550': 0.0, '066570': 0.0, '068270': 0.0, '071050': 0.0, '078930': 0.0, '086280': 0.14285714285714285, '086790': 0.0, '096770': 0.0, '097950': 0.0, '105560': 0.0, '111770': 0.0, '128940': 0.0, '138040': 0.0, '138930': 0.0, '139480': 0.0, '161390': 0.0}\n",
      "Portfolio: {'000270': 0.0, '000660': 0.0, '000720': 0.0, '000810': 0.0, '000880': 0.0, '000990': 0.14285714285714285, '001450': 0.0, '001570': 0.0, '004020': 0.0, '004370': 0.0, '005380': 0.0, '005490': 0.0, '005830': 0.0, '005940': 0.0, '006260': 0.0, '006400': 0.0, '006800': 0.0, '007070': 0.0, '008770': 0.0, '009150': 0.0, '009830': 0.0, '010120': 0.0, '010130': 0.0, '010620': 0.0, '010950': 0.0, '011070': 0.14285714285714285, '011170': 0.0, '011780': 0.0, '012330': 0.0, '012450': 0.0, '015760': 0.0, '016360': 0.0, '020150': 0.0, '021240': 0.0, '024110': 0.0, '029780': 0.0, '030200': 0.0, '032640': 0.0, '032830': 0.0, '033780': 0.0, '034020': 0.0, '034220': 0.0, '034730': 0.0, '035250': 0.0, '036460': 0.0, '036570': 0.0, '039490': 0.14285714285714285, '047050': 0.0, '051900': 0.14285714285714285, '051910': 0.14285714285714285, '052690': 0.0, '055550': 0.0, '066570': 0.0, '068270': 0.0, '071050': 0.0, '078930': 0.14285714285714285, '086280': 0.0, '086790': 0.0, '096770': 0.14285714285714285, '097950': 0.0, '105560': 0.0, '111770': 0.0, '128940': 0.0, '138040': 0.0, '138930': 0.0, '139480': 0.0, '161390': 0.0}\n",
      "Portfolio: {'000270': 0.0, '000660': 0.0, '000720': 0.0, '000810': 0.0, '000880': 0.0, '000990': 0.14285714285714285, '001450': 0.0, '001570': 0.0, '004020': 0.14285714285714285, '004370': 0.0, '005380': 0.0, '005490': 0.0, '005830': 0.0, '005940': 0.0, '006260': 0.0, '006400': 0.0, '006800': 0.0, '007070': 0.0, '008770': 0.0, '009150': 0.14285714285714285, '009830': 0.0, '010120': 0.0, '010130': 0.0, '010620': 0.0, '010950': 0.0, '011070': 0.0, '011170': 0.0, '011780': 0.0, '012330': 0.0, '012450': 0.0, '015760': 0.0, '016360': 0.0, '020150': 0.14285714285714285, '021240': 0.0, '024110': 0.0, '029780': 0.0, '030200': 0.0, '032640': 0.0, '032830': 0.0, '033780': 0.0, '034020': 0.0, '034220': 0.0, '034730': 0.0, '035250': 0.0, '036460': 0.0, '036570': 0.0, '039490': 0.0, '047050': 0.14285714285714285, '051900': 0.0, '051910': 0.0, '052690': 0.0, '055550': 0.0, '066570': 0.0, '068270': 0.0, '071050': 0.14285714285714285, '078930': 0.0, '086280': 0.0, '086790': 0.0, '096770': 0.0, '097950': 0.0, '105560': 0.0, '111770': 0.0, '128940': 0.0, '138040': 0.0, '138930': 0.0, '139480': 0.14285714285714285, '161390': 0.0}\n",
      "Portfolio: {'000270': 0.0, '000660': 0.0, '000720': 0.0, '000810': 0.0, '000880': 0.14285714285714285, '000990': 0.0, '001450': 0.0, '001570': 0.0, '004020': 0.0, '004370': 0.0, '005380': 0.0, '005490': 0.0, '005830': 0.0, '005940': 0.0, '006260': 0.0, '006400': 0.14285714285714285, '006800': 0.0, '007070': 0.0, '008770': 0.0, '009150': 0.0, '009830': 0.0, '010120': 0.14285714285714285, '010130': 0.0, '010620': 0.0, '010950': 0.0, '011070': 0.0, '011170': 0.0, '011780': 0.0, '012330': 0.0, '012450': 0.0, '015760': 0.0, '016360': 0.14285714285714285, '020150': 0.0, '021240': 0.0, '024110': 0.0, '029780': 0.0, '030200': 0.0, '032640': 0.0, '032830': 0.0, '033780': 0.0, '034020': 0.14285714285714285, '034220': 0.0, '034730': 0.0, '035250': 0.0, '036460': 0.0, '036570': 0.0, '039490': 0.0, '047050': 0.0, '051900': 0.0, '051910': 0.0, '052690': 0.14285714285714285, '055550': 0.0, '066570': 0.0, '068270': 0.0, '071050': 0.0, '078930': 0.0, '086280': 0.0, '086790': 0.0, '096770': 0.0, '097950': 0.0, '105560': 0.0, '111770': 0.0, '128940': 0.0, '138040': 0.0, '138930': 0.0, '139480': 0.14285714285714285, '161390': 0.0}\n",
      "Portfolio: {'000270': 0.0, '000660': 0.0, '000720': 0.0, '000810': 0.0, '000880': 0.0, '000990': 0.0, '001450': 0.0, '001570': 0.0, '004020': 0.0, '004370': 0.0, '005380': 0.0, '005490': 0.14285714285714285, '005830': 0.0, '005940': 0.0, '006260': 0.0, '006400': 0.0, '006800': 0.0, '007070': 0.0, '008770': 0.0, '009150': 0.0, '009830': 0.14285714285714285, '010120': 0.0, '010130': 0.0, '010620': 0.0, '010950': 0.0, '011070': 0.0, '011170': 0.0, '011780': 0.0, '012330': 0.0, '012450': 0.0, '015760': 0.0, '016360': 0.0, '020150': 0.14285714285714285, '021240': 0.0, '024110': 0.0, '029780': 0.0, '030200': 0.0, '032640': 0.14285714285714285, '032830': 0.0, '033780': 0.0, '034020': 0.0, '034220': 0.0, '034730': 0.0, '035250': 0.0, '036460': 0.14285714285714285, '036570': 0.0, '039490': 0.0, '047050': 0.0, '051900': 0.0, '051910': 0.0, '052690': 0.0, '055550': 0.0, '066570': 0.0, '068270': 0.0, '071050': 0.0, '078930': 0.0, '086280': 0.0, '086790': 0.0, '096770': 0.14285714285714285, '097950': 0.0, '105560': 0.0, '111770': 0.0, '128940': 0.0, '138040': 0.0, '138930': 0.14285714285714285, '139480': 0.0, '161390': 0.0}\n",
      "Portfolio: {'000270': 0.0, '000660': 0.0, '000720': 0.0, '000810': 0.0, '000880': 0.0, '000990': 0.0, '001450': 0.14285714285714285, '001570': 0.0, '004020': 0.0, '004370': 0.0, '005380': 0.0, '005490': 0.0, '005830': 0.0, '005940': 0.0, '006260': 0.0, '006400': 0.0, '006800': 0.0, '007070': 0.0, '008770': 0.0, '009150': 0.0, '009830': 0.14285714285714285, '010120': 0.0, '010130': 0.0, '010620': 0.0, '010950': 0.0, '011070': 0.0, '011170': 0.0, '011780': 0.0, '012330': 0.0, '012450': 0.0, '015760': 0.0, '016360': 0.0, '020150': 0.0, '021240': 0.0, '024110': 0.0, '029780': 0.0, '030200': 0.0, '032640': 0.0, '032830': 0.0, '033780': 0.0, '034020': 0.0, '034220': 0.0, '034730': 0.0, '035250': 0.0, '036460': 0.14285714285714285, '036570': 0.0, '039490': 0.0, '047050': 0.0, '051900': 0.0, '051910': 0.14285714285714285, '052690': 0.14285714285714285, '055550': 0.0, '066570': 0.0, '068270': 0.0, '071050': 0.0, '078930': 0.0, '086280': 0.0, '086790': 0.0, '096770': 0.14285714285714285, '097950': 0.0, '105560': 0.14285714285714285, '111770': 0.0, '128940': 0.0, '138040': 0.0, '138930': 0.0, '139480': 0.0, '161390': 0.0}\n",
      "Portfolio: {'000270': 0.0, '000660': 0.14285714285714285, '000720': 0.0, '000810': 0.0, '000880': 0.0, '000990': 0.14285714285714285, '001450': 0.0, '001570': 0.0, '004020': 0.0, '004370': 0.0, '005380': 0.0, '005490': 0.0, '005830': 0.0, '005940': 0.0, '006260': 0.0, '006400': 0.14285714285714285, '006800': 0.0, '007070': 0.0, '008770': 0.0, '009150': 0.0, '009830': 0.0, '010120': 0.0, '010130': 0.0, '010620': 0.0, '010950': 0.0, '011070': 0.14285714285714285, '011170': 0.0, '011780': 0.0, '012330': 0.0, '012450': 0.0, '015760': 0.0, '016360': 0.0, '020150': 0.0, '021240': 0.0, '024110': 0.0, '029780': 0.0, '030200': 0.0, '032640': 0.0, '032830': 0.0, '033780': 0.0, '034020': 0.0, '034220': 0.14285714285714285, '034730': 0.0, '035250': 0.0, '036460': 0.14285714285714285, '036570': 0.14285714285714285, '039490': 0.0, '047050': 0.0, '051900': 0.0, '051910': 0.0, '052690': 0.0, '055550': 0.0, '066570': 0.0, '068270': 0.0, '071050': 0.0, '078930': 0.0, '086280': 0.0, '086790': 0.0, '096770': 0.0, '097950': 0.0, '105560': 0.0, '111770': 0.0, '128940': 0.0, '138040': 0.0, '138930': 0.0, '139480': 0.0, '161390': 0.0}\n",
      "Portfolio: {'000270': 0.0, '000660': 0.14285714285714285, '000720': 0.14285714285714285, '000810': 0.0, '000880': 0.0, '000990': 0.14285714285714285, '001450': 0.0, '001570': 0.0, '004020': 0.0, '004370': 0.0, '005380': 0.0, '005490': 0.0, '005830': 0.0, '005940': 0.0, '006260': 0.0, '006400': 0.0, '006800': 0.0, '007070': 0.0, '008770': 0.0, '009150': 0.0, '009830': 0.0, '010120': 0.0, '010130': 0.0, '010620': 0.0, '010950': 0.0, '011070': 0.0, '011170': 0.0, '011780': 0.0, '012330': 0.0, '012450': 0.0, '015760': 0.0, '016360': 0.0, '020150': 0.0, '021240': 0.14285714285714285, '024110': 0.0, '029780': 0.0, '030200': 0.0, '032640': 0.14285714285714285, '032830': 0.0, '033780': 0.0, '034020': 0.0, '034220': 0.14285714285714285, '034730': 0.0, '035250': 0.0, '036460': 0.0, '036570': 0.0, '039490': 0.0, '047050': 0.14285714285714285, '051900': 0.0, '051910': 0.0, '052690': 0.0, '055550': 0.0, '066570': 0.0, '068270': 0.0, '071050': 0.0, '078930': 0.0, '086280': 0.0, '086790': 0.0, '096770': 0.0, '097950': 0.0, '105560': 0.0, '111770': 0.0, '128940': 0.0, '138040': 0.0, '138930': 0.0, '139480': 0.0, '161390': 0.0}\n"
     ]
    }
   ],
   "source": [
    "# 룩백 기간, 생략 기간 정의\n",
    "lookback = 1\n",
    "offset = 0\n",
    "total_lookback = get_lookback_fromdate(fromdate=simulation_fromdate,\n",
    "                                       lookback=lookback + offset, freq='m')\n",
    "\n",
    "# 매수 비율 정의\n",
    "ratio = 0.1\n",
    "\n",
    "# 전략 정의\n",
    "strategy = 'foreign'\n",
    "\n",
    "# 수급 주체(외국인) 전략 실행하기\n",
    "account_foreign = simulate_factor(\n",
    "    ohlcv_data=df_slicer(df=ohlcv_data_day, fromdate=total_lookback),\n",
    "    market_cap_data=df_slicer(df=market_cap_data, fromdate=total_lookback),\n",
    "    fundamental_data=None,\n",
    "    trader_data=df_slicer(df=trader_data, fromdate=total_lookback),\n",
    "    lookback_period=lookback * 21,\n",
    "    skip_period=offset * 21,\n",
    "    strategy_name=strategy,\n",
    "    buying_ratio=ratio)"
   ],
   "metadata": {
    "collapsed": false,
    "ExecuteTime": {
     "end_time": "2023-12-07T04:53:00.516408Z",
     "start_time": "2023-12-07T04:52:58.815219Z"
    }
   }
  },
  {
   "cell_type": "markdown",
   "source": [
    "#### 1.6.10. 멀티 팩터 투자 전략 실행하기"
   ],
   "metadata": {
    "collapsed": false
   }
  },
  {
   "cell_type": "code",
   "execution_count": 27,
   "outputs": [
    {
     "name": "stderr",
     "output_type": "stream",
     "text": [
      "/var/folders/j2/p6vmvrcs1kg7j9c8811510sc0000gn/T/ipykernel_87974/888467401.py:44: FutureWarning: In a future version of pandas, a length 1 tuple will be returned when iterating over a groupby with a grouper equal to a list of length 1. Don't supply a list with a single grouper to avoid this warning.\n",
      "  for date, ohlcv in ohlcv_data.groupby(['date']):\n"
     ]
    },
    {
     "name": "stdout",
     "output_type": "stream",
     "text": [
      "Portfolio: {'000270': 0.0, '000660': 0.0, '000720': 0.0, '000810': 0.0, '000880': 0.0, '000990': 0.0, '001450': 0.0, '001570': 0.14285714285714285, '004020': 0.0, '004370': 0.0, '005380': 0.0, '005490': 0.0, '005830': 0.0, '005940': 0.0, '006260': 0.0, '006400': 0.0, '006800': 0.0, '007070': 0.0, '008770': 0.0, '009150': 0.0, '009830': 0.0, '010120': 0.0, '010130': 0.0, '010620': 0.0, '010950': 0.0, '011070': 0.0, '011170': 0.0, '011780': 0.14285714285714285, '012330': 0.0, '012450': 0.14285714285714285, '015760': 0.0, '016360': 0.0, '020150': 0.14285714285714285, '021240': 0.0, '024110': 0.0, '029780': 0.0, '030200': 0.0, '032640': 0.0, '032830': 0.0, '033780': 0.0, '034020': 0.0, '034220': 0.0, '034730': 0.0, '035250': 0.0, '036460': 0.0, '036570': 0.14285714285714285, '039490': 0.0, '047050': 0.0, '051900': 0.0, '051910': 0.0, '052690': 0.0, '055550': 0.0, '066570': 0.0, '068270': 0.0, '071050': 0.0, '078930': 0.0, '086280': 0.0, '086790': 0.0, '096770': 0.0, '097950': 0.0, '105560': 0.0, '111770': 0.14285714285714285, '128940': 0.14285714285714285, '138040': 0.0, '138930': 0.0, '139480': 0.0, '161390': 0.0}\n",
      "Portfolio: {'000270': 0.0, '000660': 0.0, '000720': 0.0, '000810': 0.0, '000880': 0.0, '000990': 0.14285714285714285, '001450': 0.0, '001570': 0.14285714285714285, '004020': 0.0, '004370': 0.0, '005380': 0.0, '005490': 0.0, '005830': 0.0, '005940': 0.0, '006260': 0.0, '006400': 0.0, '006800': 0.14285714285714285, '007070': 0.0, '008770': 0.0, '009150': 0.0, '009830': 0.0, '010120': 0.0, '010130': 0.0, '010620': 0.14285714285714285, '010950': 0.0, '011070': 0.0, '011170': 0.0, '011780': 0.0, '012330': 0.0, '012450': 0.0, '015760': 0.0, '016360': 0.0, '020150': 0.14285714285714285, '021240': 0.0, '024110': 0.0, '029780': 0.0, '030200': 0.0, '032640': 0.0, '032830': 0.0, '033780': 0.0, '034020': 0.0, '034220': 0.0, '034730': 0.0, '035250': 0.0, '036460': 0.0, '036570': 0.0, '039490': 0.0, '047050': 0.0, '051900': 0.0, '051910': 0.0, '052690': 0.14285714285714285, '055550': 0.0, '066570': 0.0, '068270': 0.0, '071050': 0.0, '078930': 0.0, '086280': 0.0, '086790': 0.0, '096770': 0.0, '097950': 0.0, '105560': 0.0, '111770': 0.14285714285714285, '128940': 0.0, '138040': 0.0, '138930': 0.0, '139480': 0.0, '161390': 0.0}\n",
      "Portfolio: {'000270': 0.125, '000660': 0.0, '000720': 0.0, '000810': 0.0, '000880': 0.0, '000990': 0.125, '001450': 0.0, '001570': 0.0, '004020': 0.0, '004370': 0.0, '005380': 0.0, '005490': 0.0, '005830': 0.0, '005940': 0.0, '006260': 0.0, '006400': 0.0, '006800': 0.0, '007070': 0.0, '008770': 0.125, '009150': 0.0, '009830': 0.0, '010120': 0.125, '010130': 0.0, '010620': 0.125, '010950': 0.0, '011070': 0.125, '011170': 0.0, '011780': 0.0, '012330': 0.0, '012450': 0.0, '015760': 0.125, '016360': 0.0, '020150': 0.0, '021240': 0.0, '024110': 0.0, '029780': 0.0, '030200': 0.0, '032640': 0.0, '032830': 0.0, '033780': 0.0, '034020': 0.0, '034220': 0.0, '034730': 0.0, '035250': 0.0, '036460': 0.0, '036570': 0.0, '039490': 0.0, '047050': 0.0, '051900': 0.0, '051910': 0.0, '052690': 0.125, '055550': 0.0, '066570': 0.0, '068270': 0.0, '071050': 0.0, '078930': 0.0, '086280': 0.0, '086790': 0.0, '096770': 0.0, '097950': 0.0, '105560': 0.0, '111770': 0.0, '128940': 0.0, '138040': 0.0, '138930': 0.0, '139480': 0.0, '161390': 0.0}\n",
      "Portfolio: {'000270': 0.0, '000660': 0.0, '000720': 0.0, '000810': 0.0, '000880': 0.0, '000990': 0.14285714285714285, '001450': 0.0, '001570': 0.0, '004020': 0.0, '004370': 0.0, '005380': 0.0, '005490': 0.0, '005830': 0.0, '005940': 0.0, '006260': 0.0, '006400': 0.0, '006800': 0.0, '007070': 0.0, '008770': 0.0, '009150': 0.0, '009830': 0.0, '010120': 0.14285714285714285, '010130': 0.0, '010620': 0.14285714285714285, '010950': 0.0, '011070': 0.0, '011170': 0.0, '011780': 0.0, '012330': 0.0, '012450': 0.0, '015760': 0.14285714285714285, '016360': 0.0, '020150': 0.14285714285714285, '021240': 0.0, '024110': 0.0, '029780': 0.0, '030200': 0.0, '032640': 0.0, '032830': 0.0, '033780': 0.0, '034020': 0.0, '034220': 0.0, '034730': 0.0, '035250': 0.0, '036460': 0.0, '036570': 0.0, '039490': 0.0, '047050': 0.0, '051900': 0.0, '051910': 0.0, '052690': 0.14285714285714285, '055550': 0.0, '066570': 0.0, '068270': 0.0, '071050': 0.0, '078930': 0.0, '086280': 0.0, '086790': 0.0, '096770': 0.0, '097950': 0.0, '105560': 0.0, '111770': 0.14285714285714285, '128940': 0.0, '138040': 0.0, '138930': 0.0, '139480': 0.0, '161390': 0.0}\n",
      "Portfolio: {'000270': 0.14285714285714285, '000660': 0.0, '000720': 0.0, '000810': 0.0, '000880': 0.0, '000990': 0.14285714285714285, '001450': 0.0, '001570': 0.0, '004020': 0.0, '004370': 0.0, '005380': 0.0, '005490': 0.0, '005830': 0.0, '005940': 0.0, '006260': 0.0, '006400': 0.0, '006800': 0.0, '007070': 0.0, '008770': 0.0, '009150': 0.0, '009830': 0.0, '010120': 0.0, '010130': 0.0, '010620': 0.14285714285714285, '010950': 0.0, '011070': 0.0, '011170': 0.0, '011780': 0.0, '012330': 0.0, '012450': 0.0, '015760': 0.14285714285714285, '016360': 0.0, '020150': 0.14285714285714285, '021240': 0.0, '024110': 0.0, '029780': 0.0, '030200': 0.0, '032640': 0.0, '032830': 0.0, '033780': 0.0, '034020': 0.0, '034220': 0.0, '034730': 0.0, '035250': 0.0, '036460': 0.0, '036570': 0.14285714285714285, '039490': 0.0, '047050': 0.0, '051900': 0.0, '051910': 0.0, '052690': 0.0, '055550': 0.0, '066570': 0.0, '068270': 0.0, '071050': 0.0, '078930': 0.0, '086280': 0.0, '086790': 0.0, '096770': 0.0, '097950': 0.0, '105560': 0.0, '111770': 0.0, '128940': 0.0, '138040': 0.0, '138930': 0.14285714285714285, '139480': 0.0, '161390': 0.0}\n",
      "Portfolio: {'000270': 0.0, '000660': 0.0, '000720': 0.0, '000810': 0.0, '000880': 0.0, '000990': 0.0, '001450': 0.0, '001570': 0.0, '004020': 0.0, '004370': 0.0, '005380': 0.0, '005490': 0.0, '005830': 0.0, '005940': 0.0, '006260': 0.0, '006400': 0.1, '006800': 0.0, '007070': 0.0, '008770': 0.1, '009150': 0.1, '009830': 0.0, '010120': 0.1, '010130': 0.0, '010620': 0.0, '010950': 0.0, '011070': 0.1, '011170': 0.0, '011780': 0.0, '012330': 0.0, '012450': 0.0, '015760': 0.1, '016360': 0.0, '020150': 0.1, '021240': 0.0, '024110': 0.0, '029780': 0.0, '030200': 0.0, '032640': 0.0, '032830': 0.0, '033780': 0.0, '034020': 0.0, '034220': 0.1, '034730': 0.0, '035250': 0.0, '036460': 0.0, '036570': 0.1, '039490': 0.0, '047050': 0.0, '051900': 0.0, '051910': 0.0, '052690': 0.0, '055550': 0.0, '066570': 0.0, '068270': 0.0, '071050': 0.0, '078930': 0.0, '086280': 0.0, '086790': 0.0, '096770': 0.0, '097950': 0.0, '105560': 0.0, '111770': 0.0, '128940': 0.1, '138040': 0.0, '138930': 0.0, '139480': 0.0, '161390': 0.0}\n",
      "Portfolio: {'000270': 0.0, '000660': 0.0, '000720': 0.0, '000810': 0.0, '000880': 0.0, '000990': 0.1111111111111111, '001450': 0.0, '001570': 0.0, '004020': 0.0, '004370': 0.0, '005380': 0.0, '005490': 0.0, '005830': 0.0, '005940': 0.0, '006260': 0.0, '006400': 0.1111111111111111, '006800': 0.0, '007070': 0.0, '008770': 0.0, '009150': 0.1111111111111111, '009830': 0.1111111111111111, '010120': 0.0, '010130': 0.0, '010620': 0.1111111111111111, '010950': 0.0, '011070': 0.1111111111111111, '011170': 0.0, '011780': 0.0, '012330': 0.0, '012450': 0.0, '015760': 0.0, '016360': 0.0, '020150': 0.1111111111111111, '021240': 0.0, '024110': 0.0, '029780': 0.0, '030200': 0.0, '032640': 0.0, '032830': 0.0, '033780': 0.0, '034020': 0.0, '034220': 0.0, '034730': 0.0, '035250': 0.0, '036460': 0.0, '036570': 0.1111111111111111, '039490': 0.0, '047050': 0.0, '051900': 0.0, '051910': 0.0, '052690': 0.0, '055550': 0.0, '066570': 0.0, '068270': 0.0, '071050': 0.0, '078930': 0.1111111111111111, '086280': 0.0, '086790': 0.0, '096770': 0.0, '097950': 0.0, '105560': 0.0, '111770': 0.0, '128940': 0.0, '138040': 0.0, '138930': 0.0, '139480': 0.0, '161390': 0.0}\n",
      "Portfolio: {'000270': 0.0, '000660': 0.0, '000720': 0.0, '000810': 0.0, '000880': 0.0, '000990': 0.14285714285714285, '001450': 0.0, '001570': 0.0, '004020': 0.0, '004370': 0.0, '005380': 0.0, '005490': 0.0, '005830': 0.0, '005940': 0.0, '006260': 0.0, '006400': 0.14285714285714285, '006800': 0.0, '007070': 0.14285714285714285, '008770': 0.0, '009150': 0.0, '009830': 0.0, '010120': 0.0, '010130': 0.0, '010620': 0.14285714285714285, '010950': 0.0, '011070': 0.14285714285714285, '011170': 0.0, '011780': 0.0, '012330': 0.0, '012450': 0.0, '015760': 0.0, '016360': 0.0, '020150': 0.14285714285714285, '021240': 0.0, '024110': 0.0, '029780': 0.0, '030200': 0.0, '032640': 0.0, '032830': 0.0, '033780': 0.0, '034020': 0.0, '034220': 0.0, '034730': 0.0, '035250': 0.0, '036460': 0.0, '036570': 0.0, '039490': 0.0, '047050': 0.0, '051900': 0.0, '051910': 0.0, '052690': 0.0, '055550': 0.0, '066570': 0.0, '068270': 0.14285714285714285, '071050': 0.0, '078930': 0.0, '086280': 0.0, '086790': 0.0, '096770': 0.0, '097950': 0.0, '105560': 0.0, '111770': 0.0, '128940': 0.0, '138040': 0.0, '138930': 0.0, '139480': 0.0, '161390': 0.0}\n",
      "Portfolio: {'000270': 0.0, '000660': 0.0, '000720': 0.0, '000810': 0.0, '000880': 0.0, '000990': 0.125, '001450': 0.0, '001570': 0.0, '004020': 0.0, '004370': 0.0, '005380': 0.0, '005490': 0.0, '005830': 0.0, '005940': 0.0, '006260': 0.0, '006400': 0.0, '006800': 0.0, '007070': 0.0, '008770': 0.0, '009150': 0.0, '009830': 0.0, '010120': 0.0, '010130': 0.0, '010620': 0.125, '010950': 0.0, '011070': 0.125, '011170': 0.0, '011780': 0.0, '012330': 0.0, '012450': 0.125, '015760': 0.0, '016360': 0.0, '020150': 0.125, '021240': 0.0, '024110': 0.0, '029780': 0.0, '030200': 0.0, '032640': 0.0, '032830': 0.0, '033780': 0.0, '034020': 0.0, '034220': 0.0, '034730': 0.0, '035250': 0.0, '036460': 0.0, '036570': 0.0, '039490': 0.0, '047050': 0.0, '051900': 0.0, '051910': 0.125, '052690': 0.0, '055550': 0.0, '066570': 0.125, '068270': 0.125, '071050': 0.0, '078930': 0.0, '086280': 0.0, '086790': 0.0, '096770': 0.0, '097950': 0.0, '105560': 0.0, '111770': 0.0, '128940': 0.0, '138040': 0.0, '138930': 0.0, '139480': 0.0, '161390': 0.0}\n",
      "Portfolio: {'000270': 0.0, '000660': 0.0, '000720': 0.0, '000810': 0.0, '000880': 0.0, '000990': 0.14285714285714285, '001450': 0.0, '001570': 0.0, '004020': 0.0, '004370': 0.0, '005380': 0.0, '005490': 0.0, '005830': 0.0, '005940': 0.0, '006260': 0.0, '006400': 0.0, '006800': 0.0, '007070': 0.0, '008770': 0.0, '009150': 0.0, '009830': 0.0, '010120': 0.0, '010130': 0.0, '010620': 0.14285714285714285, '010950': 0.0, '011070': 0.0, '011170': 0.0, '011780': 0.0, '012330': 0.0, '012450': 0.0, '015760': 0.0, '016360': 0.0, '020150': 0.14285714285714285, '021240': 0.0, '024110': 0.0, '029780': 0.0, '030200': 0.0, '032640': 0.0, '032830': 0.0, '033780': 0.0, '034020': 0.0, '034220': 0.0, '034730': 0.0, '035250': 0.0, '036460': 0.0, '036570': 0.14285714285714285, '039490': 0.0, '047050': 0.0, '051900': 0.0, '051910': 0.0, '052690': 0.14285714285714285, '055550': 0.0, '066570': 0.0, '068270': 0.14285714285714285, '071050': 0.0, '078930': 0.0, '086280': 0.0, '086790': 0.0, '096770': 0.0, '097950': 0.0, '105560': 0.0, '111770': 0.0, '128940': 0.14285714285714285, '138040': 0.0, '138930': 0.0, '139480': 0.0, '161390': 0.0}\n",
      "Portfolio: {'000270': 0.0, '000660': 0.0, '000720': 0.0, '000810': 0.0, '000880': 0.0, '000990': 0.14285714285714285, '001450': 0.0, '001570': 0.0, '004020': 0.0, '004370': 0.0, '005380': 0.0, '005490': 0.0, '005830': 0.0, '005940': 0.0, '006260': 0.0, '006400': 0.0, '006800': 0.0, '007070': 0.0, '008770': 0.14285714285714285, '009150': 0.0, '009830': 0.0, '010120': 0.0, '010130': 0.0, '010620': 0.14285714285714285, '010950': 0.0, '011070': 0.0, '011170': 0.0, '011780': 0.0, '012330': 0.0, '012450': 0.0, '015760': 0.0, '016360': 0.0, '020150': 0.14285714285714285, '021240': 0.0, '024110': 0.0, '029780': 0.0, '030200': 0.0, '032640': 0.0, '032830': 0.0, '033780': 0.0, '034020': 0.14285714285714285, '034220': 0.0, '034730': 0.0, '035250': 0.0, '036460': 0.0, '036570': 0.0, '039490': 0.0, '047050': 0.0, '051900': 0.0, '051910': 0.0, '052690': 0.14285714285714285, '055550': 0.0, '066570': 0.0, '068270': 0.0, '071050': 0.0, '078930': 0.0, '086280': 0.0, '086790': 0.0, '096770': 0.0, '097950': 0.0, '105560': 0.0, '111770': 0.0, '128940': 0.14285714285714285, '138040': 0.0, '138930': 0.0, '139480': 0.0, '161390': 0.0}\n",
      "Portfolio: {'000270': 0.14285714285714285, '000660': 0.0, '000720': 0.0, '000810': 0.0, '000880': 0.0, '000990': 0.14285714285714285, '001450': 0.0, '001570': 0.0, '004020': 0.0, '004370': 0.0, '005380': 0.0, '005490': 0.0, '005830': 0.0, '005940': 0.0, '006260': 0.0, '006400': 0.0, '006800': 0.0, '007070': 0.0, '008770': 0.0, '009150': 0.0, '009830': 0.0, '010120': 0.0, '010130': 0.0, '010620': 0.14285714285714285, '010950': 0.0, '011070': 0.0, '011170': 0.0, '011780': 0.0, '012330': 0.0, '012450': 0.14285714285714285, '015760': 0.14285714285714285, '016360': 0.0, '020150': 0.0, '021240': 0.0, '024110': 0.0, '029780': 0.0, '030200': 0.0, '032640': 0.0, '032830': 0.0, '033780': 0.0, '034020': 0.14285714285714285, '034220': 0.0, '034730': 0.0, '035250': 0.0, '036460': 0.0, '036570': 0.0, '039490': 0.0, '047050': 0.0, '051900': 0.0, '051910': 0.0, '052690': 0.14285714285714285, '055550': 0.0, '066570': 0.0, '068270': 0.0, '071050': 0.0, '078930': 0.0, '086280': 0.0, '086790': 0.0, '096770': 0.0, '097950': 0.0, '105560': 0.0, '111770': 0.0, '128940': 0.0, '138040': 0.0, '138930': 0.0, '139480': 0.0, '161390': 0.0}\n",
      "Portfolio: {'000270': 0.0, '000660': 0.0, '000720': 0.0, '000810': 0.0, '000880': 0.0, '000990': 0.125, '001450': 0.0, '001570': 0.0, '004020': 0.0, '004370': 0.0, '005380': 0.0, '005490': 0.0, '005830': 0.0, '005940': 0.0, '006260': 0.0, '006400': 0.0, '006800': 0.0, '007070': 0.0, '008770': 0.0, '009150': 0.0, '009830': 0.0, '010120': 0.0, '010130': 0.0, '010620': 0.125, '010950': 0.0, '011070': 0.0, '011170': 0.0, '011780': 0.0, '012330': 0.0, '012450': 0.0, '015760': 0.125, '016360': 0.0, '020150': 0.0, '021240': 0.0, '024110': 0.0, '029780': 0.0, '030200': 0.125, '032640': 0.0, '032830': 0.0, '033780': 0.0, '034020': 0.0, '034220': 0.0, '034730': 0.0, '035250': 0.0, '036460': 0.0, '036570': 0.0, '039490': 0.125, '047050': 0.0, '051900': 0.0, '051910': 0.0, '052690': 0.125, '055550': 0.0, '066570': 0.0, '068270': 0.125, '071050': 0.0, '078930': 0.0, '086280': 0.0, '086790': 0.0, '096770': 0.0, '097950': 0.0, '105560': 0.0, '111770': 0.0, '128940': 0.0, '138040': 0.0, '138930': 0.125, '139480': 0.0, '161390': 0.0}\n",
      "Portfolio: {'000270': 0.0, '000660': 0.0, '000720': 0.0, '000810': 0.0, '000880': 0.0, '000990': 0.14285714285714285, '001450': 0.0, '001570': 0.14285714285714285, '004020': 0.0, '004370': 0.0, '005380': 0.0, '005490': 0.0, '005830': 0.0, '005940': 0.0, '006260': 0.0, '006400': 0.0, '006800': 0.0, '007070': 0.0, '008770': 0.0, '009150': 0.0, '009830': 0.0, '010120': 0.0, '010130': 0.0, '010620': 0.14285714285714285, '010950': 0.0, '011070': 0.0, '011170': 0.0, '011780': 0.0, '012330': 0.0, '012450': 0.0, '015760': 0.0, '016360': 0.0, '020150': 0.0, '021240': 0.0, '024110': 0.0, '029780': 0.0, '030200': 0.0, '032640': 0.0, '032830': 0.0, '033780': 0.0, '034020': 0.14285714285714285, '034220': 0.0, '034730': 0.0, '035250': 0.0, '036460': 0.0, '036570': 0.0, '039490': 0.14285714285714285, '047050': 0.0, '051900': 0.0, '051910': 0.0, '052690': 0.14285714285714285, '055550': 0.0, '066570': 0.0, '068270': 0.14285714285714285, '071050': 0.0, '078930': 0.0, '086280': 0.0, '086790': 0.0, '096770': 0.0, '097950': 0.0, '105560': 0.0, '111770': 0.0, '128940': 0.0, '138040': 0.0, '138930': 0.0, '139480': 0.0, '161390': 0.0}\n",
      "Portfolio: {'000270': 0.0, '000660': 0.0, '000720': 0.0, '000810': 0.0, '000880': 0.0, '000990': 0.14285714285714285, '001450': 0.0, '001570': 0.0, '004020': 0.0, '004370': 0.0, '005380': 0.0, '005490': 0.0, '005830': 0.0, '005940': 0.0, '006260': 0.0, '006400': 0.0, '006800': 0.0, '007070': 0.0, '008770': 0.0, '009150': 0.0, '009830': 0.0, '010120': 0.0, '010130': 0.0, '010620': 0.14285714285714285, '010950': 0.0, '011070': 0.0, '011170': 0.0, '011780': 0.0, '012330': 0.0, '012450': 0.14285714285714285, '015760': 0.0, '016360': 0.0, '020150': 0.0, '021240': 0.0, '024110': 0.0, '029780': 0.0, '030200': 0.0, '032640': 0.0, '032830': 0.0, '033780': 0.0, '034020': 0.0, '034220': 0.0, '034730': 0.0, '035250': 0.0, '036460': 0.0, '036570': 0.0, '039490': 0.0, '047050': 0.0, '051900': 0.0, '051910': 0.0, '052690': 0.14285714285714285, '055550': 0.0, '066570': 0.0, '068270': 0.14285714285714285, '071050': 0.0, '078930': 0.0, '086280': 0.14285714285714285, '086790': 0.0, '096770': 0.0, '097950': 0.0, '105560': 0.0, '111770': 0.14285714285714285, '128940': 0.0, '138040': 0.0, '138930': 0.0, '139480': 0.0, '161390': 0.0}\n",
      "Portfolio: {'000270': 0.0, '000660': 0.0, '000720': 0.0, '000810': 0.0, '000880': 0.0, '000990': 0.14285714285714285, '001450': 0.0, '001570': 0.0, '004020': 0.0, '004370': 0.0, '005380': 0.0, '005490': 0.0, '005830': 0.0, '005940': 0.0, '006260': 0.0, '006400': 0.0, '006800': 0.0, '007070': 0.0, '008770': 0.14285714285714285, '009150': 0.14285714285714285, '009830': 0.0, '010120': 0.0, '010130': 0.0, '010620': 0.0, '010950': 0.0, '011070': 0.14285714285714285, '011170': 0.0, '011780': 0.14285714285714285, '012330': 0.0, '012450': 0.0, '015760': 0.0, '016360': 0.0, '020150': 0.0, '021240': 0.0, '024110': 0.0, '029780': 0.0, '030200': 0.0, '032640': 0.0, '032830': 0.0, '033780': 0.0, '034020': 0.14285714285714285, '034220': 0.0, '034730': 0.0, '035250': 0.0, '036460': 0.14285714285714285, '036570': 0.0, '039490': 0.0, '047050': 0.0, '051900': 0.0, '051910': 0.0, '052690': 0.0, '055550': 0.0, '066570': 0.0, '068270': 0.0, '071050': 0.0, '078930': 0.0, '086280': 0.0, '086790': 0.0, '096770': 0.0, '097950': 0.0, '105560': 0.0, '111770': 0.0, '128940': 0.0, '138040': 0.0, '138930': 0.0, '139480': 0.0, '161390': 0.0}\n",
      "Portfolio: {'000270': 0.0, '000660': 0.0, '000720': 0.09090909090909091, '000810': 0.0, '000880': 0.0, '000990': 0.09090909090909091, '001450': 0.0, '001570': 0.0, '004020': 0.09090909090909091, '004370': 0.0, '005380': 0.0, '005490': 0.0, '005830': 0.0, '005940': 0.0, '006260': 0.0, '006400': 0.0, '006800': 0.0, '007070': 0.0, '008770': 0.09090909090909091, '009150': 0.09090909090909091, '009830': 0.0, '010120': 0.09090909090909091, '010130': 0.0, '010620': 0.0, '010950': 0.0, '011070': 0.0, '011170': 0.0, '011780': 0.0, '012330': 0.0, '012450': 0.09090909090909091, '015760': 0.0, '016360': 0.0, '020150': 0.0, '021240': 0.0, '024110': 0.0, '029780': 0.0, '030200': 0.0, '032640': 0.0, '032830': 0.0, '033780': 0.0, '034020': 0.0, '034220': 0.0, '034730': 0.0, '035250': 0.0, '036460': 0.09090909090909091, '036570': 0.0, '039490': 0.0, '047050': 0.09090909090909091, '051900': 0.0, '051910': 0.0, '052690': 0.09090909090909091, '055550': 0.0, '066570': 0.0, '068270': 0.09090909090909091, '071050': 0.0, '078930': 0.0, '086280': 0.0, '086790': 0.0, '096770': 0.0, '097950': 0.0, '105560': 0.0, '111770': 0.0, '128940': 0.0, '138040': 0.0, '138930': 0.0, '139480': 0.0, '161390': 0.0}\n",
      "Portfolio: {'000270': 0.14285714285714285, '000660': 0.0, '000720': 0.0, '000810': 0.0, '000880': 0.0, '000990': 0.14285714285714285, '001450': 0.14285714285714285, '001570': 0.0, '004020': 0.0, '004370': 0.0, '005380': 0.0, '005490': 0.0, '005830': 0.0, '005940': 0.0, '006260': 0.0, '006400': 0.0, '006800': 0.0, '007070': 0.0, '008770': 0.0, '009150': 0.0, '009830': 0.14285714285714285, '010120': 0.0, '010130': 0.0, '010620': 0.0, '010950': 0.0, '011070': 0.0, '011170': 0.0, '011780': 0.0, '012330': 0.0, '012450': 0.14285714285714285, '015760': 0.14285714285714285, '016360': 0.0, '020150': 0.0, '021240': 0.0, '024110': 0.0, '029780': 0.0, '030200': 0.0, '032640': 0.0, '032830': 0.0, '033780': 0.0, '034020': 0.0, '034220': 0.0, '034730': 0.0, '035250': 0.0, '036460': 0.0, '036570': 0.0, '039490': 0.0, '047050': 0.0, '051900': 0.0, '051910': 0.0, '052690': 0.0, '055550': 0.0, '066570': 0.0, '068270': 0.0, '071050': 0.0, '078930': 0.0, '086280': 0.0, '086790': 0.0, '096770': 0.0, '097950': 0.0, '105560': 0.0, '111770': 0.0, '128940': 0.0, '138040': 0.14285714285714285, '138930': 0.0, '139480': 0.0, '161390': 0.0}\n",
      "Portfolio: {'000270': 0.0, '000660': 0.0, '000720': 0.14285714285714285, '000810': 0.0, '000880': 0.0, '000990': 0.14285714285714285, '001450': 0.0, '001570': 0.0, '004020': 0.0, '004370': 0.0, '005380': 0.0, '005490': 0.0, '005830': 0.0, '005940': 0.0, '006260': 0.0, '006400': 0.0, '006800': 0.0, '007070': 0.14285714285714285, '008770': 0.14285714285714285, '009150': 0.14285714285714285, '009830': 0.0, '010120': 0.0, '010130': 0.0, '010620': 0.0, '010950': 0.0, '011070': 0.0, '011170': 0.0, '011780': 0.0, '012330': 0.0, '012450': 0.0, '015760': 0.0, '016360': 0.0, '020150': 0.14285714285714285, '021240': 0.0, '024110': 0.0, '029780': 0.0, '030200': 0.0, '032640': 0.0, '032830': 0.0, '033780': 0.0, '034020': 0.0, '034220': 0.0, '034730': 0.0, '035250': 0.0, '036460': 0.0, '036570': 0.0, '039490': 0.0, '047050': 0.0, '051900': 0.0, '051910': 0.0, '052690': 0.14285714285714285, '055550': 0.0, '066570': 0.0, '068270': 0.0, '071050': 0.0, '078930': 0.0, '086280': 0.0, '086790': 0.0, '096770': 0.0, '097950': 0.0, '105560': 0.0, '111770': 0.0, '128940': 0.0, '138040': 0.0, '138930': 0.0, '139480': 0.0, '161390': 0.0}\n",
      "Portfolio: {'000270': 0.0, '000660': 0.0, '000720': 0.14285714285714285, '000810': 0.0, '000880': 0.0, '000990': 0.14285714285714285, '001450': 0.0, '001570': 0.0, '004020': 0.0, '004370': 0.0, '005380': 0.0, '005490': 0.0, '005830': 0.0, '005940': 0.0, '006260': 0.0, '006400': 0.0, '006800': 0.0, '007070': 0.14285714285714285, '008770': 0.0, '009150': 0.14285714285714285, '009830': 0.0, '010120': 0.0, '010130': 0.0, '010620': 0.0, '010950': 0.14285714285714285, '011070': 0.0, '011170': 0.0, '011780': 0.0, '012330': 0.0, '012450': 0.14285714285714285, '015760': 0.0, '016360': 0.0, '020150': 0.14285714285714285, '021240': 0.0, '024110': 0.0, '029780': 0.0, '030200': 0.0, '032640': 0.0, '032830': 0.0, '033780': 0.0, '034020': 0.0, '034220': 0.0, '034730': 0.0, '035250': 0.0, '036460': 0.0, '036570': 0.0, '039490': 0.0, '047050': 0.0, '051900': 0.0, '051910': 0.0, '052690': 0.0, '055550': 0.0, '066570': 0.0, '068270': 0.0, '071050': 0.0, '078930': 0.0, '086280': 0.0, '086790': 0.0, '096770': 0.0, '097950': 0.0, '105560': 0.0, '111770': 0.0, '128940': 0.0, '138040': 0.0, '138930': 0.0, '139480': 0.0, '161390': 0.0}\n",
      "Portfolio: {'000270': 0.0, '000660': 0.0, '000720': 0.0, '000810': 0.0, '000880': 0.0, '000990': 0.125, '001450': 0.125, '001570': 0.0, '004020': 0.0, '004370': 0.0, '005380': 0.0, '005490': 0.0, '005830': 0.0, '005940': 0.0, '006260': 0.0, '006400': 0.0, '006800': 0.0, '007070': 0.0, '008770': 0.0, '009150': 0.125, '009830': 0.0, '010120': 0.0, '010130': 0.0, '010620': 0.125, '010950': 0.0, '011070': 0.0, '011170': 0.125, '011780': 0.0, '012330': 0.0, '012450': 0.125, '015760': 0.0, '016360': 0.0, '020150': 0.0, '021240': 0.0, '024110': 0.0, '029780': 0.0, '030200': 0.0, '032640': 0.0, '032830': 0.0, '033780': 0.0, '034020': 0.0, '034220': 0.0, '034730': 0.0, '035250': 0.0, '036460': 0.0, '036570': 0.0, '039490': 0.0, '047050': 0.0, '051900': 0.0, '051910': 0.0, '052690': 0.0, '055550': 0.0, '066570': 0.0, '068270': 0.0, '071050': 0.0, '078930': 0.0, '086280': 0.0, '086790': 0.125, '096770': 0.0, '097950': 0.0, '105560': 0.0, '111770': 0.0, '128940': 0.0, '138040': 0.125, '138930': 0.0, '139480': 0.0, '161390': 0.0}\n",
      "Portfolio: {'000270': 0.0, '000660': 0.0, '000720': 0.0, '000810': 0.0, '000880': 0.0, '000990': 0.0, '001450': 0.0, '001570': 0.0, '004020': 0.0, '004370': 0.0, '005380': 0.0, '005490': 0.0, '005830': 0.0, '005940': 0.0, '006260': 0.0, '006400': 0.0, '006800': 0.0, '007070': 0.14285714285714285, '008770': 0.0, '009150': 0.14285714285714285, '009830': 0.0, '010120': 0.0, '010130': 0.0, '010620': 0.14285714285714285, '010950': 0.0, '011070': 0.0, '011170': 0.0, '011780': 0.0, '012330': 0.0, '012450': 0.14285714285714285, '015760': 0.0, '016360': 0.0, '020150': 0.0, '021240': 0.14285714285714285, '024110': 0.0, '029780': 0.0, '030200': 0.0, '032640': 0.0, '032830': 0.0, '033780': 0.0, '034020': 0.0, '034220': 0.0, '034730': 0.0, '035250': 0.0, '036460': 0.0, '036570': 0.14285714285714285, '039490': 0.0, '047050': 0.0, '051900': 0.0, '051910': 0.0, '052690': 0.0, '055550': 0.0, '066570': 0.0, '068270': 0.0, '071050': 0.0, '078930': 0.0, '086280': 0.0, '086790': 0.0, '096770': 0.0, '097950': 0.0, '105560': 0.0, '111770': 0.14285714285714285, '128940': 0.0, '138040': 0.0, '138930': 0.0, '139480': 0.0, '161390': 0.0}\n",
      "Portfolio: {'000270': 0.0, '000660': 0.0, '000720': 0.0, '000810': 0.0, '000880': 0.0, '000990': 0.125, '001450': 0.0, '001570': 0.125, '004020': 0.0, '004370': 0.125, '005380': 0.0, '005490': 0.0, '005830': 0.0, '005940': 0.0, '006260': 0.125, '006400': 0.0, '006800': 0.0, '007070': 0.0, '008770': 0.125, '009150': 0.125, '009830': 0.0, '010120': 0.0, '010130': 0.0, '010620': 0.0, '010950': 0.0, '011070': 0.0, '011170': 0.0, '011780': 0.0, '012330': 0.0, '012450': 0.0, '015760': 0.0, '016360': 0.0, '020150': 0.0, '021240': 0.125, '024110': 0.0, '029780': 0.0, '030200': 0.0, '032640': 0.0, '032830': 0.0, '033780': 0.0, '034020': 0.125, '034220': 0.0, '034730': 0.0, '035250': 0.0, '036460': 0.0, '036570': 0.0, '039490': 0.0, '047050': 0.0, '051900': 0.0, '051910': 0.0, '052690': 0.0, '055550': 0.0, '066570': 0.0, '068270': 0.0, '071050': 0.0, '078930': 0.0, '086280': 0.0, '086790': 0.0, '096770': 0.0, '097950': 0.0, '105560': 0.0, '111770': 0.0, '128940': 0.0, '138040': 0.0, '138930': 0.0, '139480': 0.0, '161390': 0.0}\n",
      "Portfolio: {'000270': 0.0, '000660': 0.0, '000720': 0.0, '000810': 0.0, '000880': 0.0, '000990': 0.14285714285714285, '001450': 0.0, '001570': 0.0, '004020': 0.0, '004370': 0.0, '005380': 0.0, '005490': 0.0, '005830': 0.0, '005940': 0.0, '006260': 0.0, '006400': 0.0, '006800': 0.0, '007070': 0.0, '008770': 0.14285714285714285, '009150': 0.0, '009830': 0.14285714285714285, '010120': 0.0, '010130': 0.0, '010620': 0.0, '010950': 0.0, '011070': 0.0, '011170': 0.0, '011780': 0.0, '012330': 0.0, '012450': 0.14285714285714285, '015760': 0.0, '016360': 0.0, '020150': 0.0, '021240': 0.0, '024110': 0.0, '029780': 0.0, '030200': 0.0, '032640': 0.0, '032830': 0.0, '033780': 0.0, '034020': 0.0, '034220': 0.14285714285714285, '034730': 0.0, '035250': 0.0, '036460': 0.0, '036570': 0.0, '039490': 0.0, '047050': 0.0, '051900': 0.0, '051910': 0.0, '052690': 0.14285714285714285, '055550': 0.0, '066570': 0.0, '068270': 0.0, '071050': 0.0, '078930': 0.0, '086280': 0.0, '086790': 0.0, '096770': 0.0, '097950': 0.0, '105560': 0.0, '111770': 0.14285714285714285, '128940': 0.0, '138040': 0.0, '138930': 0.0, '139480': 0.0, '161390': 0.0}\n",
      "Portfolio: {'000270': 0.0, '000660': 0.14285714285714285, '000720': 0.0, '000810': 0.0, '000880': 0.0, '000990': 0.14285714285714285, '001450': 0.0, '001570': 0.0, '004020': 0.0, '004370': 0.0, '005380': 0.0, '005490': 0.0, '005830': 0.0, '005940': 0.0, '006260': 0.0, '006400': 0.0, '006800': 0.0, '007070': 0.0, '008770': 0.0, '009150': 0.14285714285714285, '009830': 0.0, '010120': 0.0, '010130': 0.0, '010620': 0.0, '010950': 0.0, '011070': 0.0, '011170': 0.0, '011780': 0.0, '012330': 0.0, '012450': 0.0, '015760': 0.0, '016360': 0.0, '020150': 0.14285714285714285, '021240': 0.0, '024110': 0.0, '029780': 0.0, '030200': 0.0, '032640': 0.0, '032830': 0.0, '033780': 0.0, '034020': 0.14285714285714285, '034220': 0.0, '034730': 0.0, '035250': 0.0, '036460': 0.0, '036570': 0.0, '039490': 0.14285714285714285, '047050': 0.0, '051900': 0.0, '051910': 0.0, '052690': 0.14285714285714285, '055550': 0.0, '066570': 0.0, '068270': 0.0, '071050': 0.0, '078930': 0.0, '086280': 0.0, '086790': 0.0, '096770': 0.0, '097950': 0.0, '105560': 0.0, '111770': 0.0, '128940': 0.0, '138040': 0.0, '138930': 0.0, '139480': 0.0, '161390': 0.0}\n",
      "Portfolio: {'000270': 0.0, '000660': 0.14285714285714285, '000720': 0.0, '000810': 0.0, '000880': 0.0, '000990': 0.14285714285714285, '001450': 0.0, '001570': 0.0, '004020': 0.0, '004370': 0.0, '005380': 0.0, '005490': 0.0, '005830': 0.0, '005940': 0.0, '006260': 0.0, '006400': 0.0, '006800': 0.0, '007070': 0.0, '008770': 0.0, '009150': 0.14285714285714285, '009830': 0.0, '010120': 0.0, '010130': 0.0, '010620': 0.0, '010950': 0.0, '011070': 0.14285714285714285, '011170': 0.0, '011780': 0.0, '012330': 0.0, '012450': 0.0, '015760': 0.0, '016360': 0.0, '020150': 0.14285714285714285, '021240': 0.0, '024110': 0.0, '029780': 0.0, '030200': 0.0, '032640': 0.0, '032830': 0.0, '033780': 0.0, '034020': 0.0, '034220': 0.0, '034730': 0.0, '035250': 0.0, '036460': 0.0, '036570': 0.0, '039490': 0.0, '047050': 0.0, '051900': 0.0, '051910': 0.0, '052690': 0.14285714285714285, '055550': 0.0, '066570': 0.0, '068270': 0.0, '071050': 0.0, '078930': 0.0, '086280': 0.0, '086790': 0.0, '096770': 0.0, '097950': 0.0, '105560': 0.0, '111770': 0.14285714285714285, '128940': 0.0, '138040': 0.0, '138930': 0.0, '139480': 0.0, '161390': 0.0}\n",
      "Portfolio: {'000270': 0.0, '000660': 0.14285714285714285, '000720': 0.0, '000810': 0.0, '000880': 0.0, '000990': 0.14285714285714285, '001450': 0.0, '001570': 0.0, '004020': 0.0, '004370': 0.0, '005380': 0.0, '005490': 0.0, '005830': 0.0, '005940': 0.0, '006260': 0.0, '006400': 0.0, '006800': 0.0, '007070': 0.0, '008770': 0.14285714285714285, '009150': 0.0, '009830': 0.0, '010120': 0.0, '010130': 0.0, '010620': 0.0, '010950': 0.0, '011070': 0.14285714285714285, '011170': 0.0, '011780': 0.0, '012330': 0.0, '012450': 0.0, '015760': 0.0, '016360': 0.0, '020150': 0.0, '021240': 0.0, '024110': 0.0, '029780': 0.0, '030200': 0.0, '032640': 0.0, '032830': 0.0, '033780': 0.0, '034020': 0.14285714285714285, '034220': 0.0, '034730': 0.0, '035250': 0.0, '036460': 0.0, '036570': 0.0, '039490': 0.0, '047050': 0.0, '051900': 0.0, '051910': 0.0, '052690': 0.14285714285714285, '055550': 0.0, '066570': 0.14285714285714285, '068270': 0.0, '071050': 0.0, '078930': 0.0, '086280': 0.0, '086790': 0.0, '096770': 0.0, '097950': 0.0, '105560': 0.0, '111770': 0.0, '128940': 0.0, '138040': 0.0, '138930': 0.0, '139480': 0.0, '161390': 0.0}\n",
      "Portfolio: {'000270': 0.0, '000660': 0.0, '000720': 0.0, '000810': 0.0, '000880': 0.0, '000990': 0.125, '001450': 0.0, '001570': 0.125, '004020': 0.0, '004370': 0.0, '005380': 0.0, '005490': 0.0, '005830': 0.0, '005940': 0.0, '006260': 0.125, '006400': 0.0, '006800': 0.0, '007070': 0.0, '008770': 0.0, '009150': 0.0, '009830': 0.0, '010120': 0.125, '010130': 0.0, '010620': 0.0, '010950': 0.0, '011070': 0.0, '011170': 0.0, '011780': 0.0, '012330': 0.0, '012450': 0.0, '015760': 0.0, '016360': 0.0, '020150': 0.0, '021240': 0.0, '024110': 0.0, '029780': 0.0, '030200': 0.0, '032640': 0.0, '032830': 0.0, '033780': 0.0, '034020': 0.125, '034220': 0.125, '034730': 0.0, '035250': 0.0, '036460': 0.125, '036570': 0.0, '039490': 0.0, '047050': 0.0, '051900': 0.0, '051910': 0.0, '052690': 0.0, '055550': 0.0, '066570': 0.0, '068270': 0.0, '071050': 0.0, '078930': 0.0, '086280': 0.0, '086790': 0.0, '096770': 0.0, '097950': 0.0, '105560': 0.0, '111770': 0.125, '128940': 0.0, '138040': 0.0, '138930': 0.0, '139480': 0.0, '161390': 0.0}\n",
      "Portfolio: {'000270': 0.0, '000660': 0.0, '000720': 0.0, '000810': 0.0, '000880': 0.0, '000990': 0.125, '001450': 0.0, '001570': 0.0, '004020': 0.0, '004370': 0.0, '005380': 0.0, '005490': 0.0, '005830': 0.0, '005940': 0.0, '006260': 0.0, '006400': 0.0, '006800': 0.0, '007070': 0.0, '008770': 0.0, '009150': 0.0, '009830': 0.0, '010120': 0.0, '010130': 0.0, '010620': 0.0, '010950': 0.0, '011070': 0.125, '011170': 0.125, '011780': 0.0, '012330': 0.0, '012450': 0.0, '015760': 0.0, '016360': 0.0, '020150': 0.125, '021240': 0.0, '024110': 0.0, '029780': 0.0, '030200': 0.0, '032640': 0.0, '032830': 0.0, '033780': 0.0, '034020': 0.0, '034220': 0.125, '034730': 0.0, '035250': 0.0, '036460': 0.0, '036570': 0.0, '039490': 0.0, '047050': 0.0, '051900': 0.0, '051910': 0.0, '052690': 0.0, '055550': 0.0, '066570': 0.0, '068270': 0.0, '071050': 0.0, '078930': 0.0, '086280': 0.0, '086790': 0.125, '096770': 0.125, '097950': 0.0, '105560': 0.0, '111770': 0.125, '128940': 0.0, '138040': 0.0, '138930': 0.0, '139480': 0.0, '161390': 0.0}\n",
      "Portfolio: {'000270': 0.0, '000660': 0.0, '000720': 0.0, '000810': 0.0, '000880': 0.0, '000990': 0.14285714285714285, '001450': 0.0, '001570': 0.0, '004020': 0.0, '004370': 0.0, '005380': 0.0, '005490': 0.0, '005830': 0.0, '005940': 0.0, '006260': 0.14285714285714285, '006400': 0.0, '006800': 0.0, '007070': 0.0, '008770': 0.0, '009150': 0.0, '009830': 0.0, '010120': 0.0, '010130': 0.0, '010620': 0.0, '010950': 0.0, '011070': 0.0, '011170': 0.14285714285714285, '011780': 0.0, '012330': 0.0, '012450': 0.0, '015760': 0.0, '016360': 0.0, '020150': 0.14285714285714285, '021240': 0.0, '024110': 0.0, '029780': 0.0, '030200': 0.0, '032640': 0.0, '032830': 0.0, '033780': 0.0, '034020': 0.0, '034220': 0.14285714285714285, '034730': 0.0, '035250': 0.0, '036460': 0.0, '036570': 0.0, '039490': 0.0, '047050': 0.0, '051900': 0.0, '051910': 0.0, '052690': 0.0, '055550': 0.0, '066570': 0.0, '068270': 0.0, '071050': 0.0, '078930': 0.0, '086280': 0.0, '086790': 0.14285714285714285, '096770': 0.14285714285714285, '097950': 0.0, '105560': 0.0, '111770': 0.0, '128940': 0.0, '138040': 0.0, '138930': 0.0, '139480': 0.0, '161390': 0.0}\n",
      "Portfolio: {'000270': 0.0, '000660': 0.0, '000720': 0.0, '000810': 0.0, '000880': 0.0, '000990': 0.14285714285714285, '001450': 0.14285714285714285, '001570': 0.0, '004020': 0.0, '004370': 0.0, '005380': 0.0, '005490': 0.14285714285714285, '005830': 0.0, '005940': 0.0, '006260': 0.0, '006400': 0.0, '006800': 0.0, '007070': 0.0, '008770': 0.0, '009150': 0.0, '009830': 0.0, '010120': 0.0, '010130': 0.0, '010620': 0.0, '010950': 0.0, '011070': 0.0, '011170': 0.0, '011780': 0.0, '012330': 0.0, '012450': 0.14285714285714285, '015760': 0.0, '016360': 0.0, '020150': 0.0, '021240': 0.0, '024110': 0.0, '029780': 0.0, '030200': 0.0, '032640': 0.0, '032830': 0.0, '033780': 0.0, '034020': 0.0, '034220': 0.14285714285714285, '034730': 0.0, '035250': 0.0, '036460': 0.0, '036570': 0.0, '039490': 0.0, '047050': 0.0, '051900': 0.0, '051910': 0.0, '052690': 0.0, '055550': 0.0, '066570': 0.0, '068270': 0.0, '071050': 0.0, '078930': 0.0, '086280': 0.0, '086790': 0.14285714285714285, '096770': 0.0, '097950': 0.0, '105560': 0.0, '111770': 0.0, '128940': 0.0, '138040': 0.0, '138930': 0.0, '139480': 0.14285714285714285, '161390': 0.0}\n",
      "Portfolio: {'000270': 0.0, '000660': 0.0, '000720': 0.0, '000810': 0.0, '000880': 0.0, '000990': 0.14285714285714285, '001450': 0.0, '001570': 0.14285714285714285, '004020': 0.0, '004370': 0.14285714285714285, '005380': 0.0, '005490': 0.0, '005830': 0.0, '005940': 0.0, '006260': 0.0, '006400': 0.0, '006800': 0.0, '007070': 0.0, '008770': 0.0, '009150': 0.0, '009830': 0.0, '010120': 0.0, '010130': 0.0, '010620': 0.0, '010950': 0.0, '011070': 0.0, '011170': 0.0, '011780': 0.0, '012330': 0.0, '012450': 0.14285714285714285, '015760': 0.0, '016360': 0.0, '020150': 0.0, '021240': 0.0, '024110': 0.0, '029780': 0.0, '030200': 0.0, '032640': 0.0, '032830': 0.0, '033780': 0.0, '034020': 0.14285714285714285, '034220': 0.14285714285714285, '034730': 0.0, '035250': 0.0, '036460': 0.0, '036570': 0.0, '039490': 0.0, '047050': 0.0, '051900': 0.0, '051910': 0.0, '052690': 0.14285714285714285, '055550': 0.0, '066570': 0.0, '068270': 0.0, '071050': 0.0, '078930': 0.0, '086280': 0.0, '086790': 0.0, '096770': 0.0, '097950': 0.0, '105560': 0.0, '111770': 0.0, '128940': 0.0, '138040': 0.0, '138930': 0.0, '139480': 0.0, '161390': 0.0}\n",
      "Portfolio: {'000270': 0.0, '000660': 0.0, '000720': 0.0, '000810': 0.0, '000880': 0.0, '000990': 0.0, '001450': 0.0, '001570': 0.14285714285714285, '004020': 0.0, '004370': 0.0, '005380': 0.0, '005490': 0.0, '005830': 0.0, '005940': 0.0, '006260': 0.0, '006400': 0.0, '006800': 0.0, '007070': 0.0, '008770': 0.0, '009150': 0.0, '009830': 0.0, '010120': 0.0, '010130': 0.0, '010620': 0.0, '010950': 0.0, '011070': 0.14285714285714285, '011170': 0.0, '011780': 0.0, '012330': 0.0, '012450': 0.14285714285714285, '015760': 0.0, '016360': 0.0, '020150': 0.0, '021240': 0.0, '024110': 0.0, '029780': 0.0, '030200': 0.0, '032640': 0.0, '032830': 0.0, '033780': 0.0, '034020': 0.14285714285714285, '034220': 0.0, '034730': 0.0, '035250': 0.0, '036460': 0.0, '036570': 0.0, '039490': 0.0, '047050': 0.0, '051900': 0.0, '051910': 0.0, '052690': 0.14285714285714285, '055550': 0.0, '066570': 0.0, '068270': 0.14285714285714285, '071050': 0.0, '078930': 0.0, '086280': 0.0, '086790': 0.0, '096770': 0.0, '097950': 0.0, '105560': 0.0, '111770': 0.0, '128940': 0.14285714285714285, '138040': 0.0, '138930': 0.0, '139480': 0.0, '161390': 0.0}\n",
      "Portfolio: {'000270': 0.0, '000660': 0.0, '000720': 0.0, '000810': 0.0, '000880': 0.0, '000990': 0.0, '001450': 0.0, '001570': 0.14285714285714285, '004020': 0.0, '004370': 0.0, '005380': 0.0, '005490': 0.0, '005830': 0.14285714285714285, '005940': 0.0, '006260': 0.0, '006400': 0.0, '006800': 0.0, '007070': 0.0, '008770': 0.0, '009150': 0.0, '009830': 0.0, '010120': 0.0, '010130': 0.0, '010620': 0.0, '010950': 0.0, '011070': 0.14285714285714285, '011170': 0.0, '011780': 0.0, '012330': 0.0, '012450': 0.0, '015760': 0.0, '016360': 0.0, '020150': 0.14285714285714285, '021240': 0.0, '024110': 0.0, '029780': 0.0, '030200': 0.0, '032640': 0.0, '032830': 0.0, '033780': 0.0, '034020': 0.0, '034220': 0.0, '034730': 0.0, '035250': 0.0, '036460': 0.0, '036570': 0.0, '039490': 0.0, '047050': 0.0, '051900': 0.0, '051910': 0.0, '052690': 0.14285714285714285, '055550': 0.0, '066570': 0.0, '068270': 0.0, '071050': 0.0, '078930': 0.0, '086280': 0.0, '086790': 0.0, '096770': 0.0, '097950': 0.0, '105560': 0.0, '111770': 0.0, '128940': 0.0, '138040': 0.0, '138930': 0.0, '139480': 0.14285714285714285, '161390': 0.14285714285714285}\n",
      "Portfolio: {'000270': 0.0, '000660': 0.0, '000720': 0.0, '000810': 0.0, '000880': 0.0, '000990': 0.14285714285714285, '001450': 0.0, '001570': 0.14285714285714285, '004020': 0.0, '004370': 0.0, '005380': 0.0, '005490': 0.0, '005830': 0.14285714285714285, '005940': 0.0, '006260': 0.0, '006400': 0.0, '006800': 0.0, '007070': 0.0, '008770': 0.0, '009150': 0.0, '009830': 0.0, '010120': 0.0, '010130': 0.0, '010620': 0.0, '010950': 0.0, '011070': 0.0, '011170': 0.0, '011780': 0.0, '012330': 0.0, '012450': 0.0, '015760': 0.0, '016360': 0.0, '020150': 0.14285714285714285, '021240': 0.0, '024110': 0.0, '029780': 0.0, '030200': 0.0, '032640': 0.0, '032830': 0.0, '033780': 0.0, '034020': 0.0, '034220': 0.14285714285714285, '034730': 0.0, '035250': 0.0, '036460': 0.0, '036570': 0.0, '039490': 0.0, '047050': 0.0, '051900': 0.0, '051910': 0.0, '052690': 0.0, '055550': 0.0, '066570': 0.0, '068270': 0.0, '071050': 0.0, '078930': 0.0, '086280': 0.0, '086790': 0.0, '096770': 0.0, '097950': 0.0, '105560': 0.0, '111770': 0.0, '128940': 0.14285714285714285, '138040': 0.0, '138930': 0.0, '139480': 0.14285714285714285, '161390': 0.0}\n",
      "Portfolio: {'000270': 0.0, '000660': 0.0, '000720': 0.0, '000810': 0.0, '000880': 0.0, '000990': 0.1, '001450': 0.0, '001570': 0.0, '004020': 0.0, '004370': 0.0, '005380': 0.0, '005490': 0.0, '005830': 0.1, '005940': 0.0, '006260': 0.1, '006400': 0.0, '006800': 0.0, '007070': 0.0, '008770': 0.1, '009150': 0.0, '009830': 0.1, '010120': 0.0, '010130': 0.0, '010620': 0.0, '010950': 0.0, '011070': 0.0, '011170': 0.0, '011780': 0.1, '012330': 0.0, '012450': 0.0, '015760': 0.0, '016360': 0.0, '020150': 0.1, '021240': 0.0, '024110': 0.0, '029780': 0.0, '030200': 0.0, '032640': 0.0, '032830': 0.0, '033780': 0.0, '034020': 0.0, '034220': 0.1, '034730': 0.0, '035250': 0.0, '036460': 0.1, '036570': 0.0, '039490': 0.0, '047050': 0.0, '051900': 0.0, '051910': 0.0, '052690': 0.0, '055550': 0.0, '066570': 0.0, '068270': 0.0, '071050': 0.0, '078930': 0.0, '086280': 0.0, '086790': 0.0, '096770': 0.0, '097950': 0.0, '105560': 0.0, '111770': 0.0, '128940': 0.0, '138040': 0.0, '138930': 0.0, '139480': 0.1, '161390': 0.0}\n",
      "Portfolio: {'000270': 0.0, '000660': 0.0, '000720': 0.0, '000810': 0.0, '000880': 0.0, '000990': 0.14285714285714285, '001450': 0.0, '001570': 0.14285714285714285, '004020': 0.0, '004370': 0.0, '005380': 0.0, '005490': 0.0, '005830': 0.0, '005940': 0.0, '006260': 0.14285714285714285, '006400': 0.0, '006800': 0.0, '007070': 0.0, '008770': 0.14285714285714285, '009150': 0.0, '009830': 0.0, '010120': 0.0, '010130': 0.0, '010620': 0.14285714285714285, '010950': 0.0, '011070': 0.0, '011170': 0.0, '011780': 0.0, '012330': 0.0, '012450': 0.0, '015760': 0.0, '016360': 0.0, '020150': 0.0, '021240': 0.0, '024110': 0.0, '029780': 0.0, '030200': 0.0, '032640': 0.0, '032830': 0.0, '033780': 0.0, '034020': 0.14285714285714285, '034220': 0.0, '034730': 0.0, '035250': 0.0, '036460': 0.0, '036570': 0.0, '039490': 0.0, '047050': 0.0, '051900': 0.0, '051910': 0.0, '052690': 0.0, '055550': 0.0, '066570': 0.0, '068270': 0.0, '071050': 0.0, '078930': 0.0, '086280': 0.0, '086790': 0.0, '096770': 0.0, '097950': 0.0, '105560': 0.0, '111770': 0.14285714285714285, '128940': 0.0, '138040': 0.0, '138930': 0.0, '139480': 0.0, '161390': 0.0}\n",
      "Portfolio: {'000270': 0.0, '000660': 0.0, '000720': 0.0, '000810': 0.0, '000880': 0.0, '000990': 0.1111111111111111, '001450': 0.0, '001570': 0.1111111111111111, '004020': 0.0, '004370': 0.0, '005380': 0.0, '005490': 0.0, '005830': 0.0, '005940': 0.0, '006260': 0.1111111111111111, '006400': 0.0, '006800': 0.0, '007070': 0.0, '008770': 0.0, '009150': 0.0, '009830': 0.0, '010120': 0.0, '010130': 0.0, '010620': 0.0, '010950': 0.0, '011070': 0.1111111111111111, '011170': 0.0, '011780': 0.1111111111111111, '012330': 0.0, '012450': 0.0, '015760': 0.0, '016360': 0.0, '020150': 0.0, '021240': 0.0, '024110': 0.0, '029780': 0.0, '030200': 0.0, '032640': 0.0, '032830': 0.0, '033780': 0.0, '034020': 0.0, '034220': 0.0, '034730': 0.0, '035250': 0.0, '036460': 0.0, '036570': 0.0, '039490': 0.0, '047050': 0.0, '051900': 0.0, '051910': 0.0, '052690': 0.0, '055550': 0.0, '066570': 0.0, '068270': 0.0, '071050': 0.0, '078930': 0.0, '086280': 0.0, '086790': 0.1111111111111111, '096770': 0.1111111111111111, '097950': 0.0, '105560': 0.0, '111770': 0.1111111111111111, '128940': 0.0, '138040': 0.0, '138930': 0.1111111111111111, '139480': 0.0, '161390': 0.0}\n",
      "Portfolio: {'000270': 0.0, '000660': 0.0, '000720': 0.0, '000810': 0.0, '000880': 0.0, '000990': 0.14285714285714285, '001450': 0.0, '001570': 0.14285714285714285, '004020': 0.0, '004370': 0.0, '005380': 0.0, '005490': 0.0, '005830': 0.0, '005940': 0.0, '006260': 0.14285714285714285, '006400': 0.0, '006800': 0.0, '007070': 0.0, '008770': 0.0, '009150': 0.0, '009830': 0.0, '010120': 0.0, '010130': 0.0, '010620': 0.0, '010950': 0.0, '011070': 0.0, '011170': 0.0, '011780': 0.0, '012330': 0.0, '012450': 0.0, '015760': 0.0, '016360': 0.0, '020150': 0.0, '021240': 0.0, '024110': 0.14285714285714285, '029780': 0.0, '030200': 0.0, '032640': 0.0, '032830': 0.0, '033780': 0.0, '034020': 0.0, '034220': 0.0, '034730': 0.0, '035250': 0.0, '036460': 0.0, '036570': 0.0, '039490': 0.0, '047050': 0.0, '051900': 0.0, '051910': 0.0, '052690': 0.14285714285714285, '055550': 0.0, '066570': 0.0, '068270': 0.0, '071050': 0.0, '078930': 0.0, '086280': 0.0, '086790': 0.14285714285714285, '096770': 0.0, '097950': 0.0, '105560': 0.0, '111770': 0.0, '128940': 0.0, '138040': 0.0, '138930': 0.14285714285714285, '139480': 0.0, '161390': 0.0}\n",
      "Portfolio: {'000270': 0.0, '000660': 0.0, '000720': 0.0, '000810': 0.0, '000880': 0.0, '000990': 0.125, '001450': 0.0, '001570': 0.0, '004020': 0.0, '004370': 0.0, '005380': 0.0, '005490': 0.0, '005830': 0.0, '005940': 0.0, '006260': 0.125, '006400': 0.0, '006800': 0.125, '007070': 0.0, '008770': 0.0, '009150': 0.0, '009830': 0.0, '010120': 0.0, '010130': 0.0, '010620': 0.0, '010950': 0.0, '011070': 0.0, '011170': 0.0, '011780': 0.0, '012330': 0.0, '012450': 0.0, '015760': 0.0, '016360': 0.0, '020150': 0.0, '021240': 0.0, '024110': 0.0, '029780': 0.0, '030200': 0.0, '032640': 0.0, '032830': 0.0, '033780': 0.0, '034020': 0.125, '034220': 0.125, '034730': 0.0, '035250': 0.0, '036460': 0.0, '036570': 0.0, '039490': 0.0, '047050': 0.0, '051900': 0.0, '051910': 0.0, '052690': 0.0, '055550': 0.0, '066570': 0.0, '068270': 0.0, '071050': 0.125, '078930': 0.0, '086280': 0.0, '086790': 0.125, '096770': 0.0, '097950': 0.0, '105560': 0.0, '111770': 0.0, '128940': 0.0, '138040': 0.0, '138930': 0.125, '139480': 0.0, '161390': 0.0}\n",
      "Portfolio: {'000270': 0.0, '000660': 0.0, '000720': 0.0, '000810': 0.0, '000880': 0.14285714285714285, '000990': 0.14285714285714285, '001450': 0.0, '001570': 0.14285714285714285, '004020': 0.14285714285714285, '004370': 0.0, '005380': 0.0, '005490': 0.0, '005830': 0.0, '005940': 0.0, '006260': 0.0, '006400': 0.0, '006800': 0.0, '007070': 0.0, '008770': 0.0, '009150': 0.0, '009830': 0.0, '010120': 0.0, '010130': 0.0, '010620': 0.0, '010950': 0.14285714285714285, '011070': 0.0, '011170': 0.0, '011780': 0.0, '012330': 0.0, '012450': 0.14285714285714285, '015760': 0.0, '016360': 0.0, '020150': 0.0, '021240': 0.0, '024110': 0.0, '029780': 0.0, '030200': 0.0, '032640': 0.0, '032830': 0.0, '033780': 0.0, '034020': 0.14285714285714285, '034220': 0.0, '034730': 0.0, '035250': 0.0, '036460': 0.0, '036570': 0.0, '039490': 0.0, '047050': 0.0, '051900': 0.0, '051910': 0.0, '052690': 0.0, '055550': 0.0, '066570': 0.0, '068270': 0.0, '071050': 0.0, '078930': 0.0, '086280': 0.0, '086790': 0.0, '096770': 0.0, '097950': 0.0, '105560': 0.0, '111770': 0.0, '128940': 0.0, '138040': 0.0, '138930': 0.0, '139480': 0.0, '161390': 0.0}\n",
      "Portfolio: {'000270': 0.0, '000660': 0.0, '000720': 0.0, '000810': 0.0, '000880': 0.0, '000990': 0.0, '001450': 0.0, '001570': 0.14285714285714285, '004020': 0.14285714285714285, '004370': 0.0, '005380': 0.0, '005490': 0.0, '005830': 0.0, '005940': 0.0, '006260': 0.14285714285714285, '006400': 0.0, '006800': 0.0, '007070': 0.0, '008770': 0.0, '009150': 0.0, '009830': 0.0, '010120': 0.0, '010130': 0.0, '010620': 0.0, '010950': 0.0, '011070': 0.0, '011170': 0.0, '011780': 0.0, '012330': 0.0, '012450': 0.14285714285714285, '015760': 0.0, '016360': 0.0, '020150': 0.0, '021240': 0.0, '024110': 0.0, '029780': 0.0, '030200': 0.0, '032640': 0.0, '032830': 0.0, '033780': 0.0, '034020': 0.0, '034220': 0.0, '034730': 0.0, '035250': 0.0, '036460': 0.0, '036570': 0.0, '039490': 0.0, '047050': 0.0, '051900': 0.0, '051910': 0.0, '052690': 0.0, '055550': 0.0, '066570': 0.0, '068270': 0.0, '071050': 0.0, '078930': 0.0, '086280': 0.0, '086790': 0.14285714285714285, '096770': 0.0, '097950': 0.0, '105560': 0.0, '111770': 0.14285714285714285, '128940': 0.0, '138040': 0.14285714285714285, '138930': 0.0, '139480': 0.0, '161390': 0.0}\n",
      "Portfolio: {'000270': 0.0, '000660': 0.0, '000720': 0.0, '000810': 0.0, '000880': 0.14285714285714285, '000990': 0.0, '001450': 0.0, '001570': 0.14285714285714285, '004020': 0.0, '004370': 0.0, '005380': 0.0, '005490': 0.0, '005830': 0.0, '005940': 0.0, '006260': 0.0, '006400': 0.0, '006800': 0.0, '007070': 0.0, '008770': 0.0, '009150': 0.0, '009830': 0.0, '010120': 0.0, '010130': 0.0, '010620': 0.0, '010950': 0.0, '011070': 0.0, '011170': 0.0, '011780': 0.0, '012330': 0.0, '012450': 0.0, '015760': 0.0, '016360': 0.0, '020150': 0.0, '021240': 0.0, '024110': 0.0, '029780': 0.0, '030200': 0.0, '032640': 0.0, '032830': 0.14285714285714285, '033780': 0.0, '034020': 0.14285714285714285, '034220': 0.0, '034730': 0.0, '035250': 0.0, '036460': 0.0, '036570': 0.0, '039490': 0.0, '047050': 0.0, '051900': 0.0, '051910': 0.0, '052690': 0.0, '055550': 0.0, '066570': 0.0, '068270': 0.0, '071050': 0.0, '078930': 0.0, '086280': 0.0, '086790': 0.0, '096770': 0.14285714285714285, '097950': 0.0, '105560': 0.0, '111770': 0.0, '128940': 0.14285714285714285, '138040': 0.0, '138930': 0.0, '139480': 0.0, '161390': 0.14285714285714285}\n",
      "Portfolio: {'000270': 0.0, '000660': 0.0, '000720': 0.0, '000810': 0.0, '000880': 0.0, '000990': 0.0, '001450': 0.0, '001570': 0.14285714285714285, '004020': 0.0, '004370': 0.0, '005380': 0.0, '005490': 0.0, '005830': 0.0, '005940': 0.0, '006260': 0.14285714285714285, '006400': 0.0, '006800': 0.0, '007070': 0.0, '008770': 0.0, '009150': 0.0, '009830': 0.14285714285714285, '010120': 0.0, '010130': 0.0, '010620': 0.0, '010950': 0.0, '011070': 0.0, '011170': 0.0, '011780': 0.0, '012330': 0.0, '012450': 0.0, '015760': 0.0, '016360': 0.0, '020150': 0.0, '021240': 0.0, '024110': 0.0, '029780': 0.0, '030200': 0.0, '032640': 0.0, '032830': 0.14285714285714285, '033780': 0.0, '034020': 0.14285714285714285, '034220': 0.0, '034730': 0.0, '035250': 0.0, '036460': 0.0, '036570': 0.0, '039490': 0.0, '047050': 0.0, '051900': 0.0, '051910': 0.0, '052690': 0.0, '055550': 0.0, '066570': 0.0, '068270': 0.0, '071050': 0.0, '078930': 0.0, '086280': 0.0, '086790': 0.0, '096770': 0.14285714285714285, '097950': 0.0, '105560': 0.0, '111770': 0.0, '128940': 0.14285714285714285, '138040': 0.0, '138930': 0.0, '139480': 0.0, '161390': 0.0}\n",
      "Portfolio: {'000270': 0.0, '000660': 0.0, '000720': 0.0, '000810': 0.0, '000880': 0.0, '000990': 0.0, '001450': 0.0, '001570': 0.125, '004020': 0.0, '004370': 0.0, '005380': 0.0, '005490': 0.0, '005830': 0.0, '005940': 0.0, '006260': 0.0, '006400': 0.0, '006800': 0.0, '007070': 0.0, '008770': 0.0, '009150': 0.0, '009830': 0.125, '010120': 0.0, '010130': 0.0, '010620': 0.0, '010950': 0.0, '011070': 0.0, '011170': 0.0, '011780': 0.0, '012330': 0.0, '012450': 0.0, '015760': 0.0, '016360': 0.0, '020150': 0.0, '021240': 0.0, '024110': 0.125, '029780': 0.0, '030200': 0.0, '032640': 0.0, '032830': 0.0, '033780': 0.0, '034020': 0.0, '034220': 0.0, '034730': 0.0, '035250': 0.0, '036460': 0.0, '036570': 0.0, '039490': 0.0, '047050': 0.0, '051900': 0.0, '051910': 0.0, '052690': 0.0, '055550': 0.125, '066570': 0.0, '068270': 0.0, '071050': 0.0, '078930': 0.125, '086280': 0.0, '086790': 0.125, '096770': 0.0, '097950': 0.0, '105560': 0.0, '111770': 0.0, '128940': 0.0, '138040': 0.125, '138930': 0.125, '139480': 0.0, '161390': 0.0}\n",
      "Portfolio: {'000270': 0.0, '000660': 0.0, '000720': 0.0, '000810': 0.0, '000880': 0.0, '000990': 0.0, '001450': 0.0, '001570': 0.14285714285714285, '004020': 0.0, '004370': 0.0, '005380': 0.0, '005490': 0.0, '005830': 0.0, '005940': 0.0, '006260': 0.14285714285714285, '006400': 0.0, '006800': 0.0, '007070': 0.0, '008770': 0.0, '009150': 0.0, '009830': 0.14285714285714285, '010120': 0.14285714285714285, '010130': 0.0, '010620': 0.0, '010950': 0.0, '011070': 0.0, '011170': 0.14285714285714285, '011780': 0.14285714285714285, '012330': 0.0, '012450': 0.0, '015760': 0.0, '016360': 0.0, '020150': 0.0, '021240': 0.0, '024110': 0.0, '029780': 0.0, '030200': 0.0, '032640': 0.0, '032830': 0.0, '033780': 0.0, '034020': 0.0, '034220': 0.0, '034730': 0.0, '035250': 0.0, '036460': 0.0, '036570': 0.0, '039490': 0.0, '047050': 0.0, '051900': 0.0, '051910': 0.0, '052690': 0.0, '055550': 0.0, '066570': 0.0, '068270': 0.0, '071050': 0.14285714285714285, '078930': 0.0, '086280': 0.0, '086790': 0.0, '096770': 0.0, '097950': 0.0, '105560': 0.0, '111770': 0.0, '128940': 0.0, '138040': 0.0, '138930': 0.0, '139480': 0.0, '161390': 0.0}\n",
      "Portfolio: {'000270': 0.0, '000660': 0.0, '000720': 0.0, '000810': 0.0, '000880': 0.0, '000990': 0.0, '001450': 0.0, '001570': 0.14285714285714285, '004020': 0.0, '004370': 0.14285714285714285, '005380': 0.0, '005490': 0.0, '005830': 0.0, '005940': 0.0, '006260': 0.0, '006400': 0.0, '006800': 0.0, '007070': 0.0, '008770': 0.0, '009150': 0.0, '009830': 0.0, '010120': 0.0, '010130': 0.0, '010620': 0.0, '010950': 0.0, '011070': 0.0, '011170': 0.0, '011780': 0.14285714285714285, '012330': 0.0, '012450': 0.0, '015760': 0.0, '016360': 0.0, '020150': 0.0, '021240': 0.0, '024110': 0.14285714285714285, '029780': 0.0, '030200': 0.0, '032640': 0.0, '032830': 0.0, '033780': 0.0, '034020': 0.0, '034220': 0.0, '034730': 0.0, '035250': 0.0, '036460': 0.0, '036570': 0.0, '039490': 0.0, '047050': 0.0, '051900': 0.0, '051910': 0.0, '052690': 0.0, '055550': 0.0, '066570': 0.0, '068270': 0.0, '071050': 0.0, '078930': 0.0, '086280': 0.0, '086790': 0.14285714285714285, '096770': 0.0, '097950': 0.0, '105560': 0.0, '111770': 0.0, '128940': 0.0, '138040': 0.14285714285714285, '138930': 0.14285714285714285, '139480': 0.0, '161390': 0.0}\n",
      "Portfolio: {'000270': 0.0, '000660': 0.0, '000720': 0.0, '000810': 0.0, '000880': 0.0, '000990': 0.0, '001450': 0.0, '001570': 0.14285714285714285, '004020': 0.0, '004370': 0.0, '005380': 0.0, '005490': 0.0, '005830': 0.0, '005940': 0.0, '006260': 0.0, '006400': 0.0, '006800': 0.0, '007070': 0.0, '008770': 0.0, '009150': 0.0, '009830': 0.0, '010120': 0.0, '010130': 0.0, '010620': 0.0, '010950': 0.0, '011070': 0.0, '011170': 0.0, '011780': 0.0, '012330': 0.0, '012450': 0.0, '015760': 0.0, '016360': 0.0, '020150': 0.0, '021240': 0.0, '024110': 0.14285714285714285, '029780': 0.0, '030200': 0.0, '032640': 0.0, '032830': 0.0, '033780': 0.0, '034020': 0.0, '034220': 0.0, '034730': 0.0, '035250': 0.0, '036460': 0.0, '036570': 0.0, '039490': 0.0, '047050': 0.0, '051900': 0.0, '051910': 0.0, '052690': 0.0, '055550': 0.14285714285714285, '066570': 0.14285714285714285, '068270': 0.0, '071050': 0.0, '078930': 0.0, '086280': 0.0, '086790': 0.14285714285714285, '096770': 0.0, '097950': 0.0, '105560': 0.0, '111770': 0.0, '128940': 0.0, '138040': 0.14285714285714285, '138930': 0.14285714285714285, '139480': 0.0, '161390': 0.0}\n",
      "Portfolio: {'000270': 0.09090909090909091, '000660': 0.0, '000720': 0.0, '000810': 0.0, '000880': 0.0, '000990': 0.0, '001450': 0.0, '001570': 0.09090909090909091, '004020': 0.0, '004370': 0.0, '005380': 0.0, '005490': 0.0, '005830': 0.0, '005940': 0.0, '006260': 0.0, '006400': 0.0, '006800': 0.0, '007070': 0.0, '008770': 0.0, '009150': 0.0, '009830': 0.0, '010120': 0.0, '010130': 0.0, '010620': 0.0, '010950': 0.0, '011070': 0.0, '011170': 0.0, '011780': 0.0, '012330': 0.0, '012450': 0.09090909090909091, '015760': 0.0, '016360': 0.0, '020150': 0.0, '021240': 0.0, '024110': 0.09090909090909091, '029780': 0.0, '030200': 0.0, '032640': 0.0, '032830': 0.0, '033780': 0.0, '034020': 0.0, '034220': 0.0, '034730': 0.0, '035250': 0.0, '036460': 0.0, '036570': 0.0, '039490': 0.0, '047050': 0.09090909090909091, '051900': 0.0, '051910': 0.0, '052690': 0.0, '055550': 0.09090909090909091, '066570': 0.09090909090909091, '068270': 0.0, '071050': 0.0, '078930': 0.0, '086280': 0.0, '086790': 0.09090909090909091, '096770': 0.0, '097950': 0.0, '105560': 0.0, '111770': 0.09090909090909091, '128940': 0.0, '138040': 0.09090909090909091, '138930': 0.09090909090909091, '139480': 0.0, '161390': 0.0}\n",
      "Portfolio: {'000270': 0.0, '000660': 0.0, '000720': 0.0, '000810': 0.0, '000880': 0.0, '000990': 0.0, '001450': 0.125, '001570': 0.125, '004020': 0.0, '004370': 0.0, '005380': 0.0, '005490': 0.0, '005830': 0.0, '005940': 0.0, '006260': 0.0, '006400': 0.0, '006800': 0.0, '007070': 0.0, '008770': 0.0, '009150': 0.0, '009830': 0.0, '010120': 0.0, '010130': 0.0, '010620': 0.0, '010950': 0.0, '011070': 0.0, '011170': 0.0, '011780': 0.125, '012330': 0.0, '012450': 0.125, '015760': 0.0, '016360': 0.0, '020150': 0.0, '021240': 0.0, '024110': 0.125, '029780': 0.0, '030200': 0.0, '032640': 0.0, '032830': 0.0, '033780': 0.0, '034020': 0.0, '034220': 0.0, '034730': 0.0, '035250': 0.0, '036460': 0.0, '036570': 0.0, '039490': 0.0, '047050': 0.0, '051900': 0.0, '051910': 0.0, '052690': 0.0, '055550': 0.0, '066570': 0.0, '068270': 0.0, '071050': 0.0, '078930': 0.125, '086280': 0.0, '086790': 0.0, '096770': 0.125, '097950': 0.0, '105560': 0.0, '111770': 0.0, '128940': 0.0, '138040': 0.0, '138930': 0.125, '139480': 0.0, '161390': 0.0}\n",
      "Portfolio: {'000270': 0.125, '000660': 0.0, '000720': 0.0, '000810': 0.0, '000880': 0.0, '000990': 0.0, '001450': 0.0, '001570': 0.125, '004020': 0.0, '004370': 0.0, '005380': 0.0, '005490': 0.0, '005830': 0.0, '005940': 0.0, '006260': 0.0, '006400': 0.0, '006800': 0.0, '007070': 0.0, '008770': 0.0, '009150': 0.0, '009830': 0.0, '010120': 0.0, '010130': 0.0, '010620': 0.0, '010950': 0.0, '011070': 0.0, '011170': 0.0, '011780': 0.0, '012330': 0.0, '012450': 0.125, '015760': 0.0, '016360': 0.0, '020150': 0.0, '021240': 0.0, '024110': 0.125, '029780': 0.0, '030200': 0.0, '032640': 0.0, '032830': 0.0, '033780': 0.0, '034020': 0.0, '034220': 0.0, '034730': 0.0, '035250': 0.0, '036460': 0.0, '036570': 0.0, '039490': 0.0, '047050': 0.125, '051900': 0.0, '051910': 0.0, '052690': 0.125, '055550': 0.0, '066570': 0.0, '068270': 0.0, '071050': 0.0, '078930': 0.125, '086280': 0.0, '086790': 0.0, '096770': 0.0, '097950': 0.0, '105560': 0.0, '111770': 0.0, '128940': 0.0, '138040': 0.0, '138930': 0.125, '139480': 0.0, '161390': 0.0}\n",
      "Portfolio: {'000270': 0.0, '000660': 0.0, '000720': 0.0, '000810': 0.0, '000880': 0.0, '000990': 0.0, '001450': 0.14285714285714285, '001570': 0.0, '004020': 0.0, '004370': 0.14285714285714285, '005380': 0.0, '005490': 0.0, '005830': 0.0, '005940': 0.0, '006260': 0.0, '006400': 0.0, '006800': 0.0, '007070': 0.0, '008770': 0.0, '009150': 0.0, '009830': 0.0, '010120': 0.0, '010130': 0.0, '010620': 0.14285714285714285, '010950': 0.0, '011070': 0.0, '011170': 0.0, '011780': 0.14285714285714285, '012330': 0.0, '012450': 0.0, '015760': 0.0, '016360': 0.0, '020150': 0.0, '021240': 0.0, '024110': 0.14285714285714285, '029780': 0.0, '030200': 0.0, '032640': 0.0, '032830': 0.0, '033780': 0.0, '034020': 0.0, '034220': 0.0, '034730': 0.0, '035250': 0.0, '036460': 0.0, '036570': 0.0, '039490': 0.0, '047050': 0.0, '051900': 0.0, '051910': 0.0, '052690': 0.14285714285714285, '055550': 0.0, '066570': 0.0, '068270': 0.0, '071050': 0.0, '078930': 0.0, '086280': 0.0, '086790': 0.0, '096770': 0.0, '097950': 0.0, '105560': 0.0, '111770': 0.0, '128940': 0.0, '138040': 0.14285714285714285, '138930': 0.0, '139480': 0.0, '161390': 0.0}\n",
      "Portfolio: {'000270': 0.0, '000660': 0.0, '000720': 0.0, '000810': 0.0, '000880': 0.0, '000990': 0.0, '001450': 0.1111111111111111, '001570': 0.0, '004020': 0.0, '004370': 0.1111111111111111, '005380': 0.0, '005490': 0.0, '005830': 0.0, '005940': 0.0, '006260': 0.0, '006400': 0.0, '006800': 0.0, '007070': 0.0, '008770': 0.0, '009150': 0.0, '009830': 0.0, '010120': 0.0, '010130': 0.0, '010620': 0.1111111111111111, '010950': 0.0, '011070': 0.0, '011170': 0.0, '011780': 0.1111111111111111, '012330': 0.0, '012450': 0.0, '015760': 0.0, '016360': 0.0, '020150': 0.0, '021240': 0.0, '024110': 0.1111111111111111, '029780': 0.0, '030200': 0.0, '032640': 0.0, '032830': 0.0, '033780': 0.0, '034020': 0.1111111111111111, '034220': 0.0, '034730': 0.0, '035250': 0.0, '036460': 0.0, '036570': 0.0, '039490': 0.0, '047050': 0.0, '051900': 0.0, '051910': 0.0, '052690': 0.1111111111111111, '055550': 0.0, '066570': 0.0, '068270': 0.0, '071050': 0.0, '078930': 0.0, '086280': 0.0, '086790': 0.0, '096770': 0.1111111111111111, '097950': 0.0, '105560': 0.0, '111770': 0.0, '128940': 0.0, '138040': 0.1111111111111111, '138930': 0.0, '139480': 0.0, '161390': 0.0}\n",
      "Portfolio: {'000270': 0.0, '000660': 0.0, '000720': 0.0, '000810': 0.0, '000880': 0.0, '000990': 0.0, '001450': 0.0, '001570': 0.14285714285714285, '004020': 0.0, '004370': 0.14285714285714285, '005380': 0.0, '005490': 0.0, '005830': 0.0, '005940': 0.0, '006260': 0.0, '006400': 0.0, '006800': 0.0, '007070': 0.0, '008770': 0.0, '009150': 0.0, '009830': 0.0, '010120': 0.14285714285714285, '010130': 0.0, '010620': 0.0, '010950': 0.0, '011070': 0.0, '011170': 0.0, '011780': 0.14285714285714285, '012330': 0.0, '012450': 0.0, '015760': 0.0, '016360': 0.0, '020150': 0.0, '021240': 0.0, '024110': 0.14285714285714285, '029780': 0.0, '030200': 0.0, '032640': 0.0, '032830': 0.0, '033780': 0.0, '034020': 0.0, '034220': 0.0, '034730': 0.0, '035250': 0.0, '036460': 0.0, '036570': 0.0, '039490': 0.0, '047050': 0.0, '051900': 0.0, '051910': 0.0, '052690': 0.14285714285714285, '055550': 0.0, '066570': 0.0, '068270': 0.0, '071050': 0.14285714285714285, '078930': 0.0, '086280': 0.0, '086790': 0.0, '096770': 0.0, '097950': 0.0, '105560': 0.0, '111770': 0.0, '128940': 0.0, '138040': 0.0, '138930': 0.0, '139480': 0.0, '161390': 0.0}\n",
      "Portfolio: {'000270': 0.0, '000660': 0.0, '000720': 0.0, '000810': 0.0, '000880': 0.14285714285714285, '000990': 0.0, '001450': 0.0, '001570': 0.0, '004020': 0.0, '004370': 0.0, '005380': 0.0, '005490': 0.0, '005830': 0.0, '005940': 0.0, '006260': 0.0, '006400': 0.0, '006800': 0.0, '007070': 0.0, '008770': 0.0, '009150': 0.0, '009830': 0.0, '010120': 0.0, '010130': 0.0, '010620': 0.0, '010950': 0.0, '011070': 0.0, '011170': 0.0, '011780': 0.0, '012330': 0.0, '012450': 0.0, '015760': 0.0, '016360': 0.14285714285714285, '020150': 0.0, '021240': 0.0, '024110': 0.14285714285714285, '029780': 0.0, '030200': 0.0, '032640': 0.0, '032830': 0.0, '033780': 0.0, '034020': 0.14285714285714285, '034220': 0.0, '034730': 0.0, '035250': 0.0, '036460': 0.0, '036570': 0.0, '039490': 0.0, '047050': 0.14285714285714285, '051900': 0.0, '051910': 0.0, '052690': 0.14285714285714285, '055550': 0.0, '066570': 0.0, '068270': 0.0, '071050': 0.0, '078930': 0.0, '086280': 0.0, '086790': 0.0, '096770': 0.0, '097950': 0.0, '105560': 0.0, '111770': 0.0, '128940': 0.0, '138040': 0.0, '138930': 0.0, '139480': 0.14285714285714285, '161390': 0.0}\n",
      "Portfolio: {'000270': 0.0, '000660': 0.0, '000720': 0.0, '000810': 0.0, '000880': 0.0, '000990': 0.0, '001450': 0.0, '001570': 0.14285714285714285, '004020': 0.0, '004370': 0.0, '005380': 0.0, '005490': 0.0, '005830': 0.0, '005940': 0.0, '006260': 0.0, '006400': 0.0, '006800': 0.0, '007070': 0.0, '008770': 0.0, '009150': 0.0, '009830': 0.0, '010120': 0.0, '010130': 0.0, '010620': 0.0, '010950': 0.0, '011070': 0.0, '011170': 0.0, '011780': 0.0, '012330': 0.0, '012450': 0.0, '015760': 0.0, '016360': 0.0, '020150': 0.14285714285714285, '021240': 0.0, '024110': 0.0, '029780': 0.0, '030200': 0.0, '032640': 0.0, '032830': 0.0, '033780': 0.0, '034020': 0.0, '034220': 0.0, '034730': 0.0, '035250': 0.0, '036460': 0.14285714285714285, '036570': 0.14285714285714285, '039490': 0.0, '047050': 0.14285714285714285, '051900': 0.0, '051910': 0.0, '052690': 0.14285714285714285, '055550': 0.0, '066570': 0.0, '068270': 0.0, '071050': 0.0, '078930': 0.0, '086280': 0.0, '086790': 0.0, '096770': 0.0, '097950': 0.0, '105560': 0.0, '111770': 0.0, '128940': 0.0, '138040': 0.14285714285714285, '138930': 0.0, '139480': 0.0, '161390': 0.0}\n",
      "Portfolio: {'000270': 0.0, '000660': 0.0, '000720': 0.0, '000810': 0.0, '000880': 0.0, '000990': 0.0, '001450': 0.0, '001570': 0.14285714285714285, '004020': 0.0, '004370': 0.0, '005380': 0.0, '005490': 0.0, '005830': 0.0, '005940': 0.0, '006260': 0.0, '006400': 0.0, '006800': 0.0, '007070': 0.0, '008770': 0.0, '009150': 0.0, '009830': 0.0, '010120': 0.0, '010130': 0.0, '010620': 0.14285714285714285, '010950': 0.0, '011070': 0.0, '011170': 0.0, '011780': 0.0, '012330': 0.0, '012450': 0.0, '015760': 0.0, '016360': 0.0, '020150': 0.14285714285714285, '021240': 0.0, '024110': 0.0, '029780': 0.0, '030200': 0.0, '032640': 0.0, '032830': 0.0, '033780': 0.0, '034020': 0.14285714285714285, '034220': 0.0, '034730': 0.0, '035250': 0.0, '036460': 0.0, '036570': 0.14285714285714285, '039490': 0.0, '047050': 0.0, '051900': 0.0, '051910': 0.0, '052690': 0.14285714285714285, '055550': 0.0, '066570': 0.0, '068270': 0.14285714285714285, '071050': 0.0, '078930': 0.0, '086280': 0.0, '086790': 0.0, '096770': 0.0, '097950': 0.0, '105560': 0.0, '111770': 0.0, '128940': 0.0, '138040': 0.0, '138930': 0.0, '139480': 0.0, '161390': 0.0}\n",
      "Portfolio: None\n",
      "Portfolio: None\n"
     ]
    }
   ],
   "source": [
    "# 매수 비율 정의\n",
    "ratio = 0.1\n",
    "\n",
    "# 전략 정의\n",
    "strategy = 'multifactor'\n",
    "\n",
    "# 상대모멘텀 전략 실행하기\n",
    "account_multifactor = simulate_factor(\n",
    "    ohlcv_data=df_slicer(df=ohlcv_data_day, fromdate=simulation_fromdate),\n",
    "    market_cap_data=None,\n",
    "    fundamental_data=None,\n",
    "    trader_data=None,\n",
    "    lookback_period=None,\n",
    "    skip_period=None,\n",
    "    strategy_name=strategy,\n",
    "    buying_ratio=ratio)"
   ],
   "metadata": {
    "collapsed": false,
    "ExecuteTime": {
     "end_time": "2023-12-07T04:53:03.350719Z",
     "start_time": "2023-12-07T04:53:01.782996Z"
    }
   }
  },
  {
   "cell_type": "markdown",
   "source": [
    "### 1.7. 투자 결과 시각화하기"
   ],
   "metadata": {
    "collapsed": false
   }
  },
  {
   "cell_type": "code",
   "execution_count": 52,
   "outputs": [],
   "source": [
    "kospi = data_loader.load_index_data(ticker_list=['1001'], freq='m', delay=1)\n",
    "kospi_returns = kospi.loc[simulation_fromdate:]\n",
    "kospi_returns = kospi_returns['close'] * (100000000 / kospi_returns['close'][0])\n",
    "kospi_returns = date_adjust(index_df=ohlcv_data_day, df=kospi_returns)\n",
    "kospi_returns.name = 'kospi_return'\n",
    "kospi_returns.index.name = 'date'"
   ],
   "metadata": {
    "collapsed": false,
    "ExecuteTime": {
     "end_time": "2023-12-07T05:13:46.160150Z",
     "start_time": "2023-12-07T05:13:39.928383Z"
    }
   }
  },
  {
   "cell_type": "code",
   "execution_count": 53,
   "outputs": [],
   "source": [
    "def metric_calculate(df: pd.DataFrame, fromdate: str):\n",
    "    df = df.squeeze().loc[fromdate:]\n",
    "    df_pct = df.pct_change()\n",
    "    df_pct.iloc[0] = 0.0\n",
    "    return f\"CAGR: {cagr(returns=df_pct, freq='m')}, \" \\\n",
    "           f\"MDD: {mdd(returns=df_pct)}, \" \\\n",
    "           f\"Sharpe Ratio: {sharpe_ratio(returns=df_pct, freq='m')}, \" \\\n",
    "           f\"Sortino Ratio: {sortino_ratio(returns=df_pct, freq='m')}\""
   ],
   "metadata": {
    "collapsed": false,
    "ExecuteTime": {
     "end_time": "2023-12-07T05:13:46.163563Z",
     "start_time": "2023-12-07T05:13:46.161423Z"
    }
   }
  },
  {
   "cell_type": "code",
   "execution_count": 62,
   "outputs": [
    {
     "data": {
      "application/vnd.plotly.v1+json": {
       "data": [
        {
         "hovertemplate": "variable=코스피<br>date=%{x}<br>value=%{y}<extra></extra>",
         "legendgroup": "코스피",
         "line": {
          "color": "#EF553B",
          "dash": "solid"
         },
         "marker": {
          "symbol": "circle"
         },
         "mode": "lines",
         "name": "코스피",
         "orientation": "v",
         "showlegend": true,
         "x": [
          "2017-02-28T00:00:00",
          "2017-03-31T00:00:00",
          "2017-04-28T00:00:00",
          "2017-05-31T00:00:00",
          "2017-06-30T00:00:00",
          "2017-07-31T00:00:00",
          "2017-08-31T00:00:00",
          "2017-09-29T00:00:00",
          "2017-10-31T00:00:00",
          "2017-11-30T00:00:00",
          "2017-12-28T00:00:00",
          "2018-01-31T00:00:00",
          "2018-02-28T00:00:00",
          "2018-03-30T00:00:00",
          "2018-04-30T00:00:00",
          "2018-05-31T00:00:00",
          "2018-06-29T00:00:00",
          "2018-07-31T00:00:00",
          "2018-08-31T00:00:00",
          "2018-09-28T00:00:00",
          "2018-10-31T00:00:00",
          "2018-11-30T00:00:00",
          "2018-12-28T00:00:00",
          "2019-01-31T00:00:00",
          "2019-02-28T00:00:00",
          "2019-03-29T00:00:00",
          "2019-04-30T00:00:00",
          "2019-05-31T00:00:00",
          "2019-06-28T00:00:00",
          "2019-07-31T00:00:00",
          "2019-08-30T00:00:00",
          "2019-09-30T00:00:00",
          "2019-10-31T00:00:00",
          "2019-11-29T00:00:00",
          "2019-12-30T00:00:00",
          "2020-01-31T00:00:00",
          "2020-02-28T00:00:00",
          "2020-03-31T00:00:00",
          "2020-04-29T00:00:00",
          "2020-05-29T00:00:00",
          "2020-06-30T00:00:00",
          "2020-07-31T00:00:00",
          "2020-08-31T00:00:00",
          "2020-09-29T00:00:00",
          "2020-10-30T00:00:00",
          "2020-11-30T00:00:00",
          "2020-12-30T00:00:00",
          "2021-01-29T00:00:00",
          "2021-02-26T00:00:00",
          "2021-03-31T00:00:00",
          "2021-04-30T00:00:00",
          "2021-05-31T00:00:00",
          "2021-06-30T00:00:00",
          "2021-07-30T00:00:00",
          "2021-08-31T00:00:00",
          "2021-09-30T00:00:00",
          "2021-10-29T00:00:00",
          "2021-11-30T00:00:00",
          "2021-12-30T00:00:00"
         ],
         "xaxis": "x",
         "y": [
          1.0E8,
          1.032792449943585E8,
          1.0544070681379205E8,
          1.1222676942494884E8,
          1.1434998374481268E8,
          1.148720621139393E8,
          1.1298263563519534E8,
          1.1447811286837122E8,
          1.2064360979900938E8,
          1.1839370063682087E8,
          1.1796915339159702E8,
          1.2270084718211547E8,
          1.1605056319443117E8,
          1.1693455852823621E8,
          1.2025874433458912E8,
          1.1584259241552085E8,
          1.1121082021762827E8,
          1.0973494482798187E8,
          1.1105543975062631E8,
          1.12020711021017E8,
          9.703820925207014E7,
          1.002495649346924E8,
          9.758084565221548E7,
          1.0541249928285937E8,
          1.0496261306917061E8,
          1.0234409362987895E8,
          1.0535225947103709E8,
          9.761431221433899E7,
          1.018636094165344E8,
          9.679246906733473E7,
          9.407880897286339E7,
          9.86331299841273E7,
          9.96098755043889E7,
          9.98240615019793E7,
          1.0506922797422118E8,
          1.013085425790289E8,
          9.499770515002581E7,
          8.38882408062573E7,
          9.31116253274942E7,
          9.703390640836854E7,
          1.0079793845977318E8,
          1.0754097263391405E8,
          1.1121273259260675E8,
          1.1129496471668164E8,
          1.08391023311851E8,
          1.2389034441873363E8,
          1.3737880323573846E8,
          1.422907383679792E8,
          1.4404725478571838E8,
          1.4636457516589853E8,
          1.504972174944063E8,
          1.5317741102675414E8,
          1.5761220860186264E8,
          1.531009160276147E8,
          1.5295509743550515E8,
          1.467183645369184E8,
          1.4202635252720353E8,
          1.3573129219177297E8,
          1.423595838672047E8
         ],
         "yaxis": "y",
         "type": "scatter"
        },
        {
         "hovertemplate": "variable=상대모멘텀<br>date=%{x}<br>value=%{y}<extra></extra>",
         "legendgroup": "상대모멘텀",
         "line": {
          "color": "#00cc96",
          "dash": "solid"
         },
         "marker": {
          "symbol": "circle"
         },
         "mode": "lines",
         "name": "상대모멘텀",
         "orientation": "v",
         "showlegend": true,
         "x": [
          "2017-02-28T00:00:00",
          "2017-03-31T00:00:00",
          "2017-04-28T00:00:00",
          "2017-05-31T00:00:00",
          "2017-06-30T00:00:00",
          "2017-07-31T00:00:00",
          "2017-08-31T00:00:00",
          "2017-09-29T00:00:00",
          "2017-10-31T00:00:00",
          "2017-11-30T00:00:00",
          "2017-12-28T00:00:00",
          "2018-01-31T00:00:00",
          "2018-02-28T00:00:00",
          "2018-03-30T00:00:00",
          "2018-04-30T00:00:00",
          "2018-05-31T00:00:00",
          "2018-06-29T00:00:00",
          "2018-07-31T00:00:00",
          "2018-08-31T00:00:00",
          "2018-09-28T00:00:00",
          "2018-10-31T00:00:00",
          "2018-11-30T00:00:00",
          "2018-12-28T00:00:00",
          "2019-01-31T00:00:00",
          "2019-02-28T00:00:00",
          "2019-03-29T00:00:00",
          "2019-04-30T00:00:00",
          "2019-05-31T00:00:00",
          "2019-06-28T00:00:00",
          "2019-07-31T00:00:00",
          "2019-08-30T00:00:00",
          "2019-09-30T00:00:00",
          "2019-10-31T00:00:00",
          "2019-11-29T00:00:00",
          "2019-12-30T00:00:00",
          "2020-01-31T00:00:00",
          "2020-02-28T00:00:00",
          "2020-03-31T00:00:00",
          "2020-04-29T00:00:00",
          "2020-05-29T00:00:00",
          "2020-06-30T00:00:00",
          "2020-07-31T00:00:00",
          "2020-08-31T00:00:00",
          "2020-09-29T00:00:00",
          "2020-10-30T00:00:00",
          "2020-11-30T00:00:00",
          "2020-12-30T00:00:00",
          "2021-01-29T00:00:00",
          "2021-02-26T00:00:00",
          "2021-03-31T00:00:00",
          "2021-04-30T00:00:00",
          "2021-05-31T00:00:00",
          "2021-06-30T00:00:00",
          "2021-07-30T00:00:00",
          "2021-08-31T00:00:00",
          "2021-09-30T00:00:00",
          "2021-10-29T00:00:00",
          "2021-11-30T00:00:00",
          "2021-12-30T00:00:00"
         ],
         "xaxis": "x",
         "y": [
          1.0E8,
          1.0E8,
          9.66915160415936E7,
          1.08058357234495E8,
          1.151127472190418E8,
          1.1560553139461339E8,
          1.1836701561472338E8,
          1.102696977158434E8,
          1.126857467972534E8,
          1.1357851917306459E8,
          1.177052943475518E8,
          1.25039131063493E8,
          1.1715416244668739E8,
          1.2579232003208E8,
          1.2478383658968219E8,
          1.2513379342880619E8,
          1.1703134954317558E8,
          1.1068480840245557E8,
          1.1653059260709557E8,
          1.1420922053819557E8,
          9.917176830925557E7,
          1.0174396166800557E8,
          1.0066699148480657E8,
          9.554541592685656E7,
          9.476961868505657E7,
          8.946398512635657E7,
          9.944798874846657E7,
          8.686570489681937E7,
          9.110581013127938E7,
          8.416540939957938E7,
          8.566551756378938E7,
          8.773578262166938E7,
          8.672626476998937E7,
          8.250100946862617E7,
          8.977921252025418E7,
          8.397202499612017E7,
          7.609038790921617E7,
          6.536032503013617E7,
          7.655942755114217E7,
          8.227455841031997E7,
          9.127722054319997E7,
          9.122102139376338E7,
          9.480952211928998E7,
          9.220008217920257E7,
          9.441767904021518E7,
          1.0474250419685818E8,
          1.0444745824437217E8,
          1.1526911806890738E8,
          1.1267147330150738E8,
          1.1299720687060739E8,
          1.1898318641495737E8,
          1.2160747287926736E8,
          1.2327976912650737E8,
          1.2353259751083837E8,
          1.2307805211707458E8,
          1.2661536140682198E8,
          1.2549278517533837E8,
          1.2033297393870838E8,
          1.3177338098391837E8
         ],
         "yaxis": "y",
         "type": "scatter"
        },
        {
         "hovertemplate": "variable=PER(가치)<br>date=%{x}<br>value=%{y}<extra></extra>",
         "legendgroup": "PER(가치)",
         "line": {
          "color": "#ab63fa",
          "dash": "solid"
         },
         "marker": {
          "symbol": "circle"
         },
         "mode": "lines",
         "name": "PER(가치)",
         "orientation": "v",
         "showlegend": true,
         "x": [
          "2017-02-28T00:00:00",
          "2017-03-31T00:00:00",
          "2017-04-28T00:00:00",
          "2017-05-31T00:00:00",
          "2017-06-30T00:00:00",
          "2017-07-31T00:00:00",
          "2017-08-31T00:00:00",
          "2017-09-29T00:00:00",
          "2017-10-31T00:00:00",
          "2017-11-30T00:00:00",
          "2017-12-28T00:00:00",
          "2018-01-31T00:00:00",
          "2018-02-28T00:00:00",
          "2018-03-30T00:00:00",
          "2018-04-30T00:00:00",
          "2018-05-31T00:00:00",
          "2018-06-29T00:00:00",
          "2018-07-31T00:00:00",
          "2018-08-31T00:00:00",
          "2018-09-28T00:00:00",
          "2018-10-31T00:00:00",
          "2018-11-30T00:00:00",
          "2018-12-28T00:00:00",
          "2019-01-31T00:00:00",
          "2019-02-28T00:00:00",
          "2019-03-29T00:00:00",
          "2019-04-30T00:00:00",
          "2019-05-31T00:00:00",
          "2019-06-28T00:00:00",
          "2019-07-31T00:00:00",
          "2019-08-30T00:00:00",
          "2019-09-30T00:00:00",
          "2019-10-31T00:00:00",
          "2019-11-29T00:00:00",
          "2019-12-30T00:00:00",
          "2020-01-31T00:00:00",
          "2020-02-28T00:00:00",
          "2020-03-31T00:00:00",
          "2020-04-29T00:00:00",
          "2020-05-29T00:00:00",
          "2020-06-30T00:00:00",
          "2020-07-31T00:00:00",
          "2020-08-31T00:00:00",
          "2020-09-29T00:00:00",
          "2020-10-30T00:00:00",
          "2020-11-30T00:00:00",
          "2020-12-30T00:00:00",
          "2021-01-29T00:00:00",
          "2021-02-26T00:00:00",
          "2021-03-31T00:00:00",
          "2021-04-30T00:00:00",
          "2021-05-31T00:00:00",
          "2021-06-30T00:00:00",
          "2021-07-30T00:00:00",
          "2021-08-31T00:00:00",
          "2021-09-30T00:00:00",
          "2021-10-29T00:00:00",
          "2021-11-30T00:00:00",
          "2021-12-30T00:00:00"
         ],
         "xaxis": "x",
         "y": [
          1.0E8,
          1.0263069323720999E8,
          1.0112768054983799E8,
          1.0907509821063799E8,
          1.0998483440139198E8,
          1.0688852409765199E8,
          1.0003387916401199E8,
          9.914756791641799E7,
          1.0247217986093798E8,
          1.0032814903212999E8,
          9.784119969672999E7,
          1.0374613228210598E8,
          1.0047047517819598E8,
          9.673307576594599E7,
          9.7679162877106E7,
          9.954357640650599E7,
          9.012715665682398E7,
          9.052933591275598E7,
          8.984389317377599E7,
          8.849716361002599E7,
          7.754149653610599E7,
          8.370277089137599E7,
          8.615786981647599E7,
          9.456079860282598E7,
          9.7008075642926E7,
          9.665575533860159E7,
          9.90716474664836E7,
          9.421549211603819E7,
          9.70490370061889E7,
          9.16251863353539E7,
          9.07824202029219E7,
          9.499137987210749E7,
          9.36772578302922E7,
          9.436561181450619E7,
          1.0044890813304219E8,
          9.13703620968602E7,
          8.62519137239822E7,
          7.70319877705642E7,
          9.04131740401302E7,
          9.07803251373062E7,
          9.04831932822062E7,
          9.502455138719419E7,
          9.69726845021582E7,
          9.838678559906419E7,
          1.055373754039262E8,
          1.1426307930908819E8,
          1.1413031448529819E8,
          1.080170991937702E8,
          1.2020533480949219E8,
          1.413272781971922E8,
          1.5647655426058418E8,
          1.652000908252822E8,
          1.643571207263702E8,
          1.626360085066002E8,
          1.640291676455902E8,
          1.6666303380667418E8,
          1.6554348178587818E8,
          1.502261590907322E8,
          1.5852175096770218E8
         ],
         "yaxis": "y",
         "type": "scatter"
        },
        {
         "hovertemplate": "variable=PBR(가치)<br>date=%{x}<br>value=%{y}<extra></extra>",
         "legendgroup": "PBR(가치)",
         "line": {
          "color": "#FFA15A",
          "dash": "solid"
         },
         "marker": {
          "symbol": "circle"
         },
         "mode": "lines",
         "name": "PBR(가치)",
         "orientation": "v",
         "showlegend": true,
         "x": [
          "2017-02-28T00:00:00",
          "2017-03-31T00:00:00",
          "2017-04-28T00:00:00",
          "2017-05-31T00:00:00",
          "2017-06-30T00:00:00",
          "2017-07-31T00:00:00",
          "2017-08-31T00:00:00",
          "2017-09-29T00:00:00",
          "2017-10-31T00:00:00",
          "2017-11-30T00:00:00",
          "2017-12-28T00:00:00",
          "2018-01-31T00:00:00",
          "2018-02-28T00:00:00",
          "2018-03-30T00:00:00",
          "2018-04-30T00:00:00",
          "2018-05-31T00:00:00",
          "2018-06-29T00:00:00",
          "2018-07-31T00:00:00",
          "2018-08-31T00:00:00",
          "2018-09-28T00:00:00",
          "2018-10-31T00:00:00",
          "2018-11-30T00:00:00",
          "2018-12-28T00:00:00",
          "2019-01-31T00:00:00",
          "2019-02-28T00:00:00",
          "2019-03-29T00:00:00",
          "2019-04-30T00:00:00",
          "2019-05-31T00:00:00",
          "2019-06-28T00:00:00",
          "2019-07-31T00:00:00",
          "2019-08-30T00:00:00",
          "2019-09-30T00:00:00",
          "2019-10-31T00:00:00",
          "2019-11-29T00:00:00",
          "2019-12-30T00:00:00",
          "2020-01-31T00:00:00",
          "2020-02-28T00:00:00",
          "2020-03-31T00:00:00",
          "2020-04-29T00:00:00",
          "2020-05-29T00:00:00",
          "2020-06-30T00:00:00",
          "2020-07-31T00:00:00",
          "2020-08-31T00:00:00",
          "2020-09-29T00:00:00",
          "2020-10-30T00:00:00",
          "2020-11-30T00:00:00",
          "2020-12-30T00:00:00",
          "2021-01-29T00:00:00",
          "2021-02-26T00:00:00",
          "2021-03-31T00:00:00",
          "2021-04-30T00:00:00",
          "2021-05-31T00:00:00",
          "2021-06-30T00:00:00",
          "2021-07-30T00:00:00",
          "2021-08-31T00:00:00",
          "2021-09-30T00:00:00",
          "2021-10-29T00:00:00",
          "2021-11-30T00:00:00",
          "2021-12-30T00:00:00"
         ],
         "xaxis": "x",
         "y": [
          1.0E8,
          9.884950312889999E7,
          9.8837242515072E7,
          1.04148029620492E8,
          1.07794822156034E8,
          1.1264891283249399E8,
          1.05513900358174E8,
          1.01205621673482E8,
          1.04319019793262E8,
          1.0449435492358E8,
          1.0506167229800999E8,
          1.1228835738495399E8,
          1.0870375973490399E8,
          1.05329697974824E8,
          1.15435968109604E8,
          1.19164367959384E8,
          1.12095448638716E8,
          1.1671307662146999E8,
          1.1529694065559E8,
          1.1737611042478E8,
          9.896560234952E7,
          1.0268163716976999E8,
          1.0743419673407999E8,
          1.15539941338486E8,
          1.15239638054756E8,
          1.0640235573310599E8,
          1.09872862587026E8,
          1.01379111663066E8,
          1.04650034716536E8,
          9.8477716332984E7,
          9.4333000618422E7,
          9.725760047702E7,
          9.248181045225199E7,
          9.9016704200326E7,
          1.0190323156004599E8,
          9.1276331049598E7,
          8.133701211314799E7,
          6.632422575863999E7,
          7.8797732899327E7,
          7.948667777638899E7,
          7.7173926007561E7,
          8.1243589226743E7,
          8.4072412847023E7,
          8.4041440632653E7,
          9.0255777837019E7,
          9.7368868393385E7,
          1.0657440394300899E8,
          1.0030033226617499E8,
          1.0597117372889899E8,
          1.18408695833209E8,
          1.27406938681531E8,
          1.31800816560627E8,
          1.32344267056257E8,
          1.2958084867507699E8,
          1.28468065828631E8,
          1.3631624737667498E8,
          1.3362874591661699E8,
          1.19519918581499E8,
          1.26653311123399E8
         ],
         "yaxis": "y",
         "type": "scatter"
        },
        {
         "hovertemplate": "variable=배당<br>date=%{x}<br>value=%{y}<extra></extra>",
         "legendgroup": "배당",
         "line": {
          "color": "#19d3f3",
          "dash": "solid"
         },
         "marker": {
          "symbol": "circle"
         },
         "mode": "lines",
         "name": "배당",
         "orientation": "v",
         "showlegend": true,
         "x": [
          "2017-02-28T00:00:00",
          "2017-03-31T00:00:00",
          "2017-04-28T00:00:00",
          "2017-05-31T00:00:00",
          "2017-06-30T00:00:00",
          "2017-07-31T00:00:00",
          "2017-08-31T00:00:00",
          "2017-09-29T00:00:00",
          "2017-10-31T00:00:00",
          "2017-11-30T00:00:00",
          "2017-12-28T00:00:00",
          "2018-01-31T00:00:00",
          "2018-02-28T00:00:00",
          "2018-03-30T00:00:00",
          "2018-04-30T00:00:00",
          "2018-05-31T00:00:00",
          "2018-06-29T00:00:00",
          "2018-07-31T00:00:00",
          "2018-08-31T00:00:00",
          "2018-09-28T00:00:00",
          "2018-10-31T00:00:00",
          "2018-11-30T00:00:00",
          "2018-12-28T00:00:00",
          "2019-01-31T00:00:00",
          "2019-02-28T00:00:00",
          "2019-03-29T00:00:00",
          "2019-04-30T00:00:00",
          "2019-05-31T00:00:00",
          "2019-06-28T00:00:00",
          "2019-07-31T00:00:00",
          "2019-08-30T00:00:00",
          "2019-09-30T00:00:00",
          "2019-10-31T00:00:00",
          "2019-11-29T00:00:00",
          "2019-12-30T00:00:00",
          "2020-01-31T00:00:00",
          "2020-02-28T00:00:00",
          "2020-03-31T00:00:00",
          "2020-04-29T00:00:00",
          "2020-05-29T00:00:00",
          "2020-06-30T00:00:00",
          "2020-07-31T00:00:00",
          "2020-08-31T00:00:00",
          "2020-09-29T00:00:00",
          "2020-10-30T00:00:00",
          "2020-11-30T00:00:00",
          "2020-12-30T00:00:00",
          "2021-01-29T00:00:00",
          "2021-02-26T00:00:00",
          "2021-03-31T00:00:00",
          "2021-04-30T00:00:00",
          "2021-05-31T00:00:00",
          "2021-06-30T00:00:00",
          "2021-07-30T00:00:00",
          "2021-08-31T00:00:00",
          "2021-09-30T00:00:00",
          "2021-10-29T00:00:00",
          "2021-11-30T00:00:00",
          "2021-12-30T00:00:00"
         ],
         "xaxis": "x",
         "y": [
          1.0E8,
          1.0191857301384999E8,
          1.0372830516391079E8,
          1.0861964754091679E8,
          1.0656370444562918E8,
          1.1462741031237918E8,
          1.147037337764192E8,
          1.1045497577687919E8,
          1.1355289174218918E8,
          1.1391751182712919E8,
          1.1569516929559919E8,
          1.1398927990209918E8,
          1.0917754157411918E8,
          1.0690585862151918E8,
          1.0900179803471918E8,
          1.0519231609601918E8,
          1.0805525910124919E8,
          1.0990017485158919E8,
          1.1095293324235918E8,
          1.1967470926234917E8,
          1.0870146697752917E8,
          1.0928182213490917E8,
          1.0583046276274917E8,
          1.1207865002907917E8,
          1.1221983939949916E8,
          1.1017704965224916E8,
          1.1375036218361917E8,
          1.0794376819272916E8,
          1.0939973077042916E8,
          1.0745108870702317E8,
          1.0036306049953316E8,
          1.0453953136380316E8,
          1.0043515730526316E8,
          1.0490884770557317E8,
          1.0773398796342316E8,
          9.755672261307317E7,
          9.268226918647316E7,
          7.635835452561516E7,
          8.779231327838616E7,
          9.251831089108416E7,
          8.960444762216015E7,
          9.463059386611216E7,
          9.953843914412616E7,
          9.784982987149416E7,
          1.0422888138658416E8,
          1.1285304275613216E8,
          1.1337973867387816E8,
          1.0741950390898016E8,
          1.1801737359117617E8,
          1.3391384918094017E8,
          1.4228890068464017E8,
          1.4813856048439416E8,
          1.4796968760018417E8,
          1.5153352970952415E8,
          1.5319216032349417E8,
          1.5278158788233414E8,
          1.5227347513799414E8,
          1.4432708463884416E8,
          1.4664212231935415E8
         ],
         "yaxis": "y",
         "type": "scatter"
        },
        {
         "hovertemplate": "variable=소형주<br>date=%{x}<br>value=%{y}<extra></extra>",
         "legendgroup": "소형주",
         "line": {
          "color": "#FF6692",
          "dash": "solid"
         },
         "marker": {
          "symbol": "circle"
         },
         "mode": "lines",
         "name": "소형주",
         "orientation": "v",
         "showlegend": true,
         "x": [
          "2017-02-28T00:00:00",
          "2017-03-31T00:00:00",
          "2017-04-28T00:00:00",
          "2017-05-31T00:00:00",
          "2017-06-30T00:00:00",
          "2017-07-31T00:00:00",
          "2017-08-31T00:00:00",
          "2017-09-29T00:00:00",
          "2017-10-31T00:00:00",
          "2017-11-30T00:00:00",
          "2017-12-28T00:00:00",
          "2018-01-31T00:00:00",
          "2018-02-28T00:00:00",
          "2018-03-30T00:00:00",
          "2018-04-30T00:00:00",
          "2018-05-31T00:00:00",
          "2018-06-29T00:00:00",
          "2018-07-31T00:00:00",
          "2018-08-31T00:00:00",
          "2018-09-28T00:00:00",
          "2018-10-31T00:00:00",
          "2018-11-30T00:00:00",
          "2018-12-28T00:00:00",
          "2019-01-31T00:00:00",
          "2019-02-28T00:00:00",
          "2019-03-29T00:00:00",
          "2019-04-30T00:00:00",
          "2019-05-31T00:00:00",
          "2019-06-28T00:00:00",
          "2019-07-31T00:00:00",
          "2019-08-30T00:00:00",
          "2019-09-30T00:00:00",
          "2019-10-31T00:00:00",
          "2019-11-29T00:00:00",
          "2019-12-30T00:00:00",
          "2020-01-31T00:00:00",
          "2020-02-28T00:00:00",
          "2020-03-31T00:00:00",
          "2020-04-29T00:00:00",
          "2020-05-29T00:00:00",
          "2020-06-30T00:00:00",
          "2020-07-31T00:00:00",
          "2020-08-31T00:00:00",
          "2020-09-29T00:00:00",
          "2020-10-30T00:00:00",
          "2020-11-30T00:00:00",
          "2020-12-30T00:00:00",
          "2021-01-29T00:00:00",
          "2021-02-26T00:00:00",
          "2021-03-31T00:00:00",
          "2021-04-30T00:00:00",
          "2021-05-31T00:00:00",
          "2021-06-30T00:00:00",
          "2021-07-30T00:00:00",
          "2021-08-31T00:00:00",
          "2021-09-30T00:00:00",
          "2021-10-29T00:00:00",
          "2021-11-30T00:00:00",
          "2021-12-30T00:00:00"
         ],
         "xaxis": "x",
         "y": [
          1.0E8,
          1.0784737103018999E8,
          1.0002073653515999E8,
          1.061575478657492E8,
          1.117983253126102E8,
          1.107269647251546E8,
          1.087435463270998E8,
          1.028644460177168E8,
          1.0646204987224878E8,
          1.0907047993091299E8,
          1.088904122513842E8,
          1.240575439500604E8,
          1.1627633355953579E8,
          1.216703583465046E8,
          1.205059887477606E8,
          1.3228373242424159E8,
          1.2985074819291659E8,
          1.2089796677062939E8,
          1.2736934003930598E8,
          1.2639060337902479E8,
          1.1378479373135479E8,
          1.246289599309384E8,
          1.204790915733642E8,
          1.360506460471262E8,
          1.315712943076682E8,
          1.2818951155980259E8,
          1.343344962527566E8,
          1.2585304699040559E8,
          1.2800856474653459E8,
          1.1975563372328658E8,
          1.2068666627907099E8,
          1.30699981636733E8,
          1.3015725791380899E8,
          1.2997194636991239E8,
          1.446648886129944E8,
          1.375174454228468E8,
          1.3342086187126479E8,
          1.0572203692168759E8,
          1.2576157084551999E8,
          1.383911589899464E8,
          1.4065977672472578E8,
          1.7224614281681538E8,
          1.8523305621705058E8,
          1.893084163551186E8,
          1.897610441376006E8,
          2.196005376743446E8,
          2.5148502692668658E8,
          2.691357814700706E8,
          2.916193779601126E8,
          3.205142628695246E8,
          3.607852149385946E8,
          4.053898661317066E8,
          4.058678998366146E8,
          4.113848820202406E8,
          4.200413158919506E8,
          4.152322834324306E8,
          4.338438946793866E8,
          3.861805515322166E8,
          4.241200706826946E8
         ],
         "yaxis": "y",
         "type": "scatter"
        },
        {
         "hovertemplate": "variable=로우볼<br>date=%{x}<br>value=%{y}<extra></extra>",
         "legendgroup": "로우볼",
         "line": {
          "color": "#B6E880",
          "dash": "solid"
         },
         "marker": {
          "symbol": "circle"
         },
         "mode": "lines",
         "name": "로우볼",
         "orientation": "v",
         "showlegend": true,
         "x": [
          "2017-02-28T00:00:00",
          "2017-03-31T00:00:00",
          "2017-04-28T00:00:00",
          "2017-05-31T00:00:00",
          "2017-06-30T00:00:00",
          "2017-07-31T00:00:00",
          "2017-08-31T00:00:00",
          "2017-09-29T00:00:00",
          "2017-10-31T00:00:00",
          "2017-11-30T00:00:00",
          "2017-12-28T00:00:00",
          "2018-01-31T00:00:00",
          "2018-02-28T00:00:00",
          "2018-03-30T00:00:00",
          "2018-04-30T00:00:00",
          "2018-05-31T00:00:00",
          "2018-06-29T00:00:00",
          "2018-07-31T00:00:00",
          "2018-08-31T00:00:00",
          "2018-09-28T00:00:00",
          "2018-10-31T00:00:00",
          "2018-11-30T00:00:00",
          "2018-12-28T00:00:00",
          "2019-01-31T00:00:00",
          "2019-02-28T00:00:00",
          "2019-03-29T00:00:00",
          "2019-04-30T00:00:00",
          "2019-05-31T00:00:00",
          "2019-06-28T00:00:00",
          "2019-07-31T00:00:00",
          "2019-08-30T00:00:00",
          "2019-09-30T00:00:00",
          "2019-10-31T00:00:00",
          "2019-11-29T00:00:00",
          "2019-12-30T00:00:00",
          "2020-01-31T00:00:00",
          "2020-02-28T00:00:00",
          "2020-03-31T00:00:00",
          "2020-04-29T00:00:00",
          "2020-05-29T00:00:00",
          "2020-06-30T00:00:00",
          "2020-07-31T00:00:00",
          "2020-08-31T00:00:00",
          "2020-09-29T00:00:00",
          "2020-10-30T00:00:00",
          "2020-11-30T00:00:00",
          "2020-12-30T00:00:00",
          "2021-01-29T00:00:00",
          "2021-02-26T00:00:00",
          "2021-03-31T00:00:00",
          "2021-04-30T00:00:00",
          "2021-05-31T00:00:00",
          "2021-06-30T00:00:00",
          "2021-07-30T00:00:00",
          "2021-08-31T00:00:00",
          "2021-09-30T00:00:00",
          "2021-10-29T00:00:00",
          "2021-11-30T00:00:00",
          "2021-12-30T00:00:00"
         ],
         "xaxis": "x",
         "y": [
          1.0E8,
          1.0505839741291E8,
          1.05032284816522E8,
          1.0953210291143179E8,
          1.179282881400712E8,
          1.143865866935644E8,
          1.25623665309779E8,
          1.220894562115002E8,
          1.2778965497296861E8,
          1.289707906421214E8,
          1.3285830696285182E8,
          1.4822729083280382E8,
          1.4446766611547583E8,
          1.50082319790237E8,
          1.513896799034104E8,
          1.490183345134924E8,
          1.2878597159616221E8,
          1.2164304367067823E8,
          1.2345897730408603E8,
          1.2093857544153602E8,
          1.0022790048145603E8,
          1.0958417448641601E8,
          1.0436210688928522E8,
          1.1130160908032522E8,
          1.1019502461185522E8,
          1.0709632757602343E8,
          1.1511913090592141E8,
          1.0172640863190243E8,
          1.0597357198880962E8,
          9.805772858910762E7,
          9.857876622032681E7,
          1.0515203638541782E8,
          1.0928689622217782E8,
          1.0360101001067941E8,
          1.0726467218048121E8,
          1.0230111619697602E8,
          9.624383613296002E7,
          7.895661268049602E7,
          8.74520099283224E7,
          9.401067367796461E7,
          1.0358428441612202E8,
          1.3082772817824923E8,
          1.530507470487526E8,
          1.4976576127146584E8,
          1.5096717154232702E8,
          1.8293772022914E8,
          1.994689676839318E8,
          2.186998292966042E8,
          1.994860921691602E8,
          2.015242217377842E8,
          2.063005081751382E8,
          2.214544935038662E8,
          2.340627227149404E8,
          2.3431181053015938E8,
          2.2699151763021138E8,
          2.199661133153216E8,
          2.263536227903504E8,
          2.3104095438096878E8,
          2.3689741106327718E8
         ],
         "yaxis": "y",
         "type": "scatter"
        },
        {
         "hovertemplate": "variable=개인<br>date=%{x}<br>value=%{y}<extra></extra>",
         "legendgroup": "개인",
         "line": {
          "color": "#FF97FF",
          "dash": "solid"
         },
         "marker": {
          "symbol": "circle"
         },
         "mode": "lines",
         "name": "개인",
         "orientation": "v",
         "showlegend": true,
         "x": [
          "2017-02-28T00:00:00",
          "2017-03-31T00:00:00",
          "2017-04-28T00:00:00",
          "2017-05-31T00:00:00",
          "2017-06-30T00:00:00",
          "2017-07-31T00:00:00",
          "2017-08-31T00:00:00",
          "2017-09-29T00:00:00",
          "2017-10-31T00:00:00",
          "2017-11-30T00:00:00",
          "2017-12-28T00:00:00",
          "2018-01-31T00:00:00",
          "2018-02-28T00:00:00",
          "2018-03-30T00:00:00",
          "2018-04-30T00:00:00",
          "2018-05-31T00:00:00",
          "2018-06-29T00:00:00",
          "2018-07-31T00:00:00",
          "2018-08-31T00:00:00",
          "2018-09-28T00:00:00",
          "2018-10-31T00:00:00",
          "2018-11-30T00:00:00",
          "2018-12-28T00:00:00",
          "2019-01-31T00:00:00",
          "2019-02-28T00:00:00",
          "2019-03-29T00:00:00",
          "2019-04-30T00:00:00",
          "2019-05-31T00:00:00",
          "2019-06-28T00:00:00",
          "2019-07-31T00:00:00",
          "2019-08-30T00:00:00",
          "2019-09-30T00:00:00",
          "2019-10-31T00:00:00",
          "2019-11-29T00:00:00",
          "2019-12-30T00:00:00",
          "2020-01-31T00:00:00",
          "2020-02-28T00:00:00",
          "2020-03-31T00:00:00",
          "2020-04-29T00:00:00",
          "2020-05-29T00:00:00",
          "2020-06-30T00:00:00",
          "2020-07-31T00:00:00",
          "2020-08-31T00:00:00",
          "2020-09-29T00:00:00",
          "2020-10-30T00:00:00",
          "2020-11-30T00:00:00",
          "2020-12-30T00:00:00",
          "2021-01-29T00:00:00",
          "2021-02-26T00:00:00",
          "2021-03-31T00:00:00",
          "2021-04-30T00:00:00",
          "2021-05-31T00:00:00",
          "2021-06-30T00:00:00",
          "2021-07-30T00:00:00",
          "2021-08-31T00:00:00",
          "2021-09-30T00:00:00",
          "2021-10-29T00:00:00",
          "2021-11-30T00:00:00",
          "2021-12-30T00:00:00"
         ],
         "xaxis": "x",
         "y": [
          1.0E8,
          1.0352306939991E8,
          1.0433360825216281E8,
          1.08807873759007E8,
          1.0443404348977542E8,
          1.1034099913371982E8,
          1.1410051784424223E8,
          1.0597571994102722E8,
          1.0784304921567944E8,
          1.0926312347010463E8,
          1.0575062735041423E8,
          1.1395451739041263E8,
          1.0660731704975463E8,
          1.1166250832830943E8,
          1.0719319416479503E8,
          1.1855779109542044E8,
          1.0026731792996544E8,
          1.0444048976624124E8,
          1.0559068445156184E8,
          1.0404514003305183E8,
          9.238096772645584E7,
          9.929850901683584E7,
          9.398590867302583E7,
          1.0280836144135705E8,
          1.0722912686960824E8,
          1.0399954280657244E8,
          1.0548519645576045E8,
          1.0017852751067244E8,
          1.0022884916859445E8,
          9.528275121573845E7,
          9.004443848136126E7,
          9.359417889305764E7,
          9.248999457262525E7,
          9.413711695786865E7,
          9.624445279315925E7,
          9.004130344955364E7,
          8.100474838114463E7,
          6.5765975864344224E7,
          7.801419167487302E7,
          7.934127401325303E7,
          7.667843359769943E7,
          7.797940172378942E7,
          8.159256475553742E7,
          8.407435273074442E7,
          8.384558247444323E7,
          9.063193384630483E7,
          9.389317470328283E7,
          9.157093225364283E7,
          9.011036649345882E7,
          9.428094465137883E7,
          9.933314428320283E7,
          1.0340801546872483E8,
          1.0757634959901482E8,
          1.0337042456920744E8,
          1.0141911700838044E8,
          9.796729607746044E7,
          1.0065100745208043E8,
          9.199272244668043E7,
          1.0063062583359043E8
         ],
         "yaxis": "y",
         "type": "scatter"
        },
        {
         "hovertemplate": "variable=기관<br>date=%{x}<br>value=%{y}<extra></extra>",
         "legendgroup": "기관",
         "line": {
          "color": "#FECB52",
          "dash": "solid"
         },
         "marker": {
          "symbol": "circle"
         },
         "mode": "lines",
         "name": "기관",
         "orientation": "v",
         "showlegend": true,
         "x": [
          "2017-02-28T00:00:00",
          "2017-03-31T00:00:00",
          "2017-04-28T00:00:00",
          "2017-05-31T00:00:00",
          "2017-06-30T00:00:00",
          "2017-07-31T00:00:00",
          "2017-08-31T00:00:00",
          "2017-09-29T00:00:00",
          "2017-10-31T00:00:00",
          "2017-11-30T00:00:00",
          "2017-12-28T00:00:00",
          "2018-01-31T00:00:00",
          "2018-02-28T00:00:00",
          "2018-03-30T00:00:00",
          "2018-04-30T00:00:00",
          "2018-05-31T00:00:00",
          "2018-06-29T00:00:00",
          "2018-07-31T00:00:00",
          "2018-08-31T00:00:00",
          "2018-09-28T00:00:00",
          "2018-10-31T00:00:00",
          "2018-11-30T00:00:00",
          "2018-12-28T00:00:00",
          "2019-01-31T00:00:00",
          "2019-02-28T00:00:00",
          "2019-03-29T00:00:00",
          "2019-04-30T00:00:00",
          "2019-05-31T00:00:00",
          "2019-06-28T00:00:00",
          "2019-07-31T00:00:00",
          "2019-08-30T00:00:00",
          "2019-09-30T00:00:00",
          "2019-10-31T00:00:00",
          "2019-11-29T00:00:00",
          "2019-12-30T00:00:00",
          "2020-01-31T00:00:00",
          "2020-02-28T00:00:00",
          "2020-03-31T00:00:00",
          "2020-04-29T00:00:00",
          "2020-05-29T00:00:00",
          "2020-06-30T00:00:00",
          "2020-07-31T00:00:00",
          "2020-08-31T00:00:00",
          "2020-09-29T00:00:00",
          "2020-10-30T00:00:00",
          "2020-11-30T00:00:00",
          "2020-12-30T00:00:00",
          "2021-01-29T00:00:00",
          "2021-02-26T00:00:00",
          "2021-03-31T00:00:00",
          "2021-04-30T00:00:00",
          "2021-05-31T00:00:00",
          "2021-06-30T00:00:00",
          "2021-07-30T00:00:00",
          "2021-08-31T00:00:00",
          "2021-09-30T00:00:00",
          "2021-10-29T00:00:00",
          "2021-11-30T00:00:00",
          "2021-12-30T00:00:00"
         ],
         "xaxis": "x",
         "y": [
          1.0E8,
          1.0102943730955002E8,
          9.214802671912362E7,
          1.05376905461372E8,
          1.117398033675728E8,
          1.062065601460736E8,
          1.0596486272670141E8,
          1.0557647001340841E8,
          1.12867469264058E8,
          1.1219138671744E8,
          1.156171354616044E8,
          1.278635134451066E8,
          1.1754769644600499E8,
          1.1796904842838839E8,
          1.2086487168727179E8,
          1.2318436385657918E8,
          1.1873667858884919E8,
          1.206187690238012E8,
          1.1913200864137119E8,
          1.234040378112392E8,
          1.148813345503532E8,
          1.220976228993134E8,
          1.194758838428034E8,
          1.2747458202959341E8,
          1.3042761155142342E8,
          1.3205691224062343E8,
          1.3092821952619343E8,
          1.2398283186314103E8,
          1.2963941022698542E8,
          1.1765282493001102E8,
          1.1768780858235341E8,
          1.205515121421318E8,
          1.1750246647514382E8,
          1.2384289116284901E8,
          1.2638484807194081E8,
          1.163535088377988E8,
          1.1178195074504581E8,
          9.65719181225808E7,
          1.1187741851571558E8,
          1.0866286165579559E8,
          1.0704905718920559E8,
          1.165656590210536E8,
          1.347879394203388E8,
          1.2985634996744081E8,
          1.3237201286851642E8,
          1.451286852791076E8,
          1.4945867984605002E8,
          1.635165429673E8,
          1.5574541912659E8,
          1.59360595426674E8,
          1.7054173358544E8,
          1.786354560587248E8,
          1.752622923382504E8,
          1.769546053985604E8,
          1.707278980078704E8,
          1.657794287384572E8,
          1.668570977693668E8,
          1.544378653519148E8,
          1.65762042411305E8
         ],
         "yaxis": "y",
         "type": "scatter"
        },
        {
         "hovertemplate": "variable=외국인<br>date=%{x}<br>value=%{y}<extra></extra>",
         "legendgroup": "외국인",
         "line": {
          "color": "#636efa",
          "dash": "solid"
         },
         "marker": {
          "symbol": "circle"
         },
         "mode": "lines",
         "name": "외국인",
         "orientation": "v",
         "showlegend": true,
         "x": [
          "2017-02-28T00:00:00",
          "2017-03-31T00:00:00",
          "2017-04-28T00:00:00",
          "2017-05-31T00:00:00",
          "2017-06-30T00:00:00",
          "2017-07-31T00:00:00",
          "2017-08-31T00:00:00",
          "2017-09-29T00:00:00",
          "2017-10-31T00:00:00",
          "2017-11-30T00:00:00",
          "2017-12-28T00:00:00",
          "2018-01-31T00:00:00",
          "2018-02-28T00:00:00",
          "2018-03-30T00:00:00",
          "2018-04-30T00:00:00",
          "2018-05-31T00:00:00",
          "2018-06-29T00:00:00",
          "2018-07-31T00:00:00",
          "2018-08-31T00:00:00",
          "2018-09-28T00:00:00",
          "2018-10-31T00:00:00",
          "2018-11-30T00:00:00",
          "2018-12-28T00:00:00",
          "2019-01-31T00:00:00",
          "2019-02-28T00:00:00",
          "2019-03-29T00:00:00",
          "2019-04-30T00:00:00",
          "2019-05-31T00:00:00",
          "2019-06-28T00:00:00",
          "2019-07-31T00:00:00",
          "2019-08-30T00:00:00",
          "2019-09-30T00:00:00",
          "2019-10-31T00:00:00",
          "2019-11-29T00:00:00",
          "2019-12-30T00:00:00",
          "2020-01-31T00:00:00",
          "2020-02-28T00:00:00",
          "2020-03-31T00:00:00",
          "2020-04-29T00:00:00",
          "2020-05-29T00:00:00",
          "2020-06-30T00:00:00",
          "2020-07-31T00:00:00",
          "2020-08-31T00:00:00",
          "2020-09-29T00:00:00",
          "2020-10-30T00:00:00",
          "2020-11-30T00:00:00",
          "2020-12-30T00:00:00",
          "2021-01-29T00:00:00",
          "2021-02-26T00:00:00",
          "2021-03-31T00:00:00",
          "2021-04-30T00:00:00",
          "2021-05-31T00:00:00",
          "2021-06-30T00:00:00",
          "2021-07-30T00:00:00",
          "2021-08-31T00:00:00",
          "2021-09-30T00:00:00",
          "2021-10-29T00:00:00",
          "2021-11-30T00:00:00",
          "2021-12-30T00:00:00"
         ],
         "xaxis": "x",
         "y": [
          1.0E8,
          1.0189759347392999E8,
          1.0554891430539438E8,
          1.1201358573643838E8,
          1.1947252588869378E8,
          1.2583091151576817E8,
          1.2202114965383078E8,
          1.1851534215200077E8,
          1.2142585524757159E8,
          1.2936161325313099E8,
          1.340228033665312E8,
          1.358307168018506E8,
          1.2975083259431319E8,
          1.3522313641587618E8,
          1.4241210876271757E8,
          1.4153472686901158E8,
          1.459237719692944E8,
          1.410995373692588E8,
          1.406477593074888E8,
          1.440751259618418E8,
          1.197547877816712E8,
          1.3026240431491719E8,
          1.268742377743512E8,
          1.336578591356012E8,
          1.351991396252512E8,
          1.2865966438085121E8,
          1.4031546433177722E8,
          1.282555650764922E8,
          1.346319239536332E8,
          1.1861221914350721E8,
          1.133486568369004E8,
          1.210115960669704E8,
          1.202222732309704E8,
          1.2052879027086599E8,
          1.377314763241622E8,
          1.4316752193721738E8,
          1.407631246095174E8,
          1.2512601491080737E8,
          1.34243095507487E8,
          1.448007401608466E8,
          1.5528946770880258E8,
          1.5985951693734118E8,
          1.669686340075698E8,
          1.7516729165556175E8,
          1.7148482951741177E8,
          1.9935377748368776E8,
          2.0634948104977775E8,
          2.4995186689077777E8,
          2.6485695118745774E8,
          2.7776272149828374E8,
          2.9187880307621574E8,
          2.9727359002970576E8,
          2.9899472290674573E8,
          2.758414149465858E8,
          2.6591525273244572E8,
          2.5740444753257394E8,
          2.3861447551477516E8,
          2.1062875147320116E8,
          2.2855471065168115E8
         ],
         "yaxis": "y",
         "type": "scatter"
        },
        {
         "hovertemplate": "variable=멀티팩터<br>date=%{x}<br>value=%{y}<extra></extra>",
         "legendgroup": "멀티팩터",
         "line": {
          "color": "black",
          "dash": "solid"
         },
         "marker": {
          "symbol": "circle"
         },
         "mode": "lines",
         "name": "멀티팩터",
         "orientation": "v",
         "showlegend": true,
         "x": [
          "2017-02-28T00:00:00",
          "2017-03-31T00:00:00",
          "2017-04-28T00:00:00",
          "2017-05-31T00:00:00",
          "2017-06-30T00:00:00",
          "2017-07-31T00:00:00",
          "2017-08-31T00:00:00",
          "2017-09-29T00:00:00",
          "2017-10-31T00:00:00",
          "2017-11-30T00:00:00",
          "2017-12-28T00:00:00",
          "2018-01-31T00:00:00",
          "2018-02-28T00:00:00",
          "2018-03-30T00:00:00",
          "2018-04-30T00:00:00",
          "2018-05-31T00:00:00",
          "2018-06-29T00:00:00",
          "2018-07-31T00:00:00",
          "2018-08-31T00:00:00",
          "2018-09-28T00:00:00",
          "2018-10-31T00:00:00",
          "2018-11-30T00:00:00",
          "2018-12-28T00:00:00",
          "2019-01-31T00:00:00",
          "2019-02-28T00:00:00",
          "2019-03-29T00:00:00",
          "2019-04-30T00:00:00",
          "2019-05-31T00:00:00",
          "2019-06-28T00:00:00",
          "2019-07-31T00:00:00",
          "2019-08-30T00:00:00",
          "2019-09-30T00:00:00",
          "2019-10-31T00:00:00",
          "2019-11-29T00:00:00",
          "2019-12-30T00:00:00",
          "2020-01-31T00:00:00",
          "2020-02-28T00:00:00",
          "2020-03-31T00:00:00",
          "2020-04-29T00:00:00",
          "2020-05-29T00:00:00",
          "2020-06-30T00:00:00",
          "2020-07-31T00:00:00",
          "2020-08-31T00:00:00",
          "2020-09-29T00:00:00",
          "2020-10-30T00:00:00",
          "2020-11-30T00:00:00",
          "2020-12-30T00:00:00",
          "2021-01-29T00:00:00",
          "2021-02-26T00:00:00",
          "2021-03-31T00:00:00",
          "2021-04-30T00:00:00",
          "2021-05-31T00:00:00",
          "2021-06-30T00:00:00",
          "2021-07-30T00:00:00",
          "2021-08-31T00:00:00",
          "2021-09-30T00:00:00",
          "2021-10-29T00:00:00",
          "2021-11-30T00:00:00",
          "2021-12-30T00:00:00"
         ],
         "xaxis": "x",
         "y": [
          1.0E8,
          1.0505839741291E8,
          1.0436101616392E8,
          1.087132641067018E8,
          1.139875768148984E8,
          1.152738329139774E8,
          1.224642568263886E8,
          1.1757121858906901E8,
          1.230728542629818E8,
          1.246443164744922E8,
          1.2809229202444741E8,
          1.439969268896696E8,
          1.3697977646547842E8,
          1.3827676350559363E8,
          1.3809901299263942E8,
          1.466678211904518E8,
          1.507602199532876E8,
          1.39744461013359E8,
          1.4132086330225003E8,
          1.3773830474533E8,
          1.189671327449E8,
          1.2537182931655501E8,
          1.237512120342122E8,
          1.344045606537818E8,
          1.399833188741414E8,
          1.354331509951826E8,
          1.455794843451206E8,
          1.2837417300133862E8,
          1.3043523939045072E8,
          1.228558701406279E8,
          1.240813396733979E8,
          1.286208308138679E8,
          1.247284546644301E8,
          1.182130505400259E8,
          1.223875537396275E8,
          1.167026618411035E8,
          1.0856986783937949E8,
          8.578555662481049E7,
          1.017758522351315E8,
          1.0851966353997649E8,
          1.077225926370727E8,
          1.360786430224073E8,
          1.459463583016183E8,
          1.411178866662587E8,
          1.422429462903333E8,
          1.529830264229351E8,
          1.670491894486115E8,
          1.7586371548028833E8,
          1.850137819611183E8,
          1.9857729990364033E8,
          2.1314338974939832E8,
          2.418431018517983E8,
          2.422328185865903E8,
          2.404107422870985E8,
          2.371562639328935E8,
          2.3721189598030013E8,
          2.4334023998383173E8,
          2.4838198377984333E8,
          2.5374870777984333E8
         ],
         "yaxis": "y",
         "type": "scatter"
        }
       ],
       "layout": {
        "template": {
         "data": {
          "histogram2dcontour": [
           {
            "type": "histogram2dcontour",
            "colorbar": {
             "outlinewidth": 0,
             "ticks": ""
            },
            "colorscale": [
             [
              0.0,
              "#0d0887"
             ],
             [
              0.1111111111111111,
              "#46039f"
             ],
             [
              0.2222222222222222,
              "#7201a8"
             ],
             [
              0.3333333333333333,
              "#9c179e"
             ],
             [
              0.4444444444444444,
              "#bd3786"
             ],
             [
              0.5555555555555556,
              "#d8576b"
             ],
             [
              0.6666666666666666,
              "#ed7953"
             ],
             [
              0.7777777777777778,
              "#fb9f3a"
             ],
             [
              0.8888888888888888,
              "#fdca26"
             ],
             [
              1.0,
              "#f0f921"
             ]
            ]
           }
          ],
          "choropleth": [
           {
            "type": "choropleth",
            "colorbar": {
             "outlinewidth": 0,
             "ticks": ""
            }
           }
          ],
          "histogram2d": [
           {
            "type": "histogram2d",
            "colorbar": {
             "outlinewidth": 0,
             "ticks": ""
            },
            "colorscale": [
             [
              0.0,
              "#0d0887"
             ],
             [
              0.1111111111111111,
              "#46039f"
             ],
             [
              0.2222222222222222,
              "#7201a8"
             ],
             [
              0.3333333333333333,
              "#9c179e"
             ],
             [
              0.4444444444444444,
              "#bd3786"
             ],
             [
              0.5555555555555556,
              "#d8576b"
             ],
             [
              0.6666666666666666,
              "#ed7953"
             ],
             [
              0.7777777777777778,
              "#fb9f3a"
             ],
             [
              0.8888888888888888,
              "#fdca26"
             ],
             [
              1.0,
              "#f0f921"
             ]
            ]
           }
          ],
          "heatmap": [
           {
            "type": "heatmap",
            "colorbar": {
             "outlinewidth": 0,
             "ticks": ""
            },
            "colorscale": [
             [
              0.0,
              "#0d0887"
             ],
             [
              0.1111111111111111,
              "#46039f"
             ],
             [
              0.2222222222222222,
              "#7201a8"
             ],
             [
              0.3333333333333333,
              "#9c179e"
             ],
             [
              0.4444444444444444,
              "#bd3786"
             ],
             [
              0.5555555555555556,
              "#d8576b"
             ],
             [
              0.6666666666666666,
              "#ed7953"
             ],
             [
              0.7777777777777778,
              "#fb9f3a"
             ],
             [
              0.8888888888888888,
              "#fdca26"
             ],
             [
              1.0,
              "#f0f921"
             ]
            ]
           }
          ],
          "heatmapgl": [
           {
            "type": "heatmapgl",
            "colorbar": {
             "outlinewidth": 0,
             "ticks": ""
            },
            "colorscale": [
             [
              0.0,
              "#0d0887"
             ],
             [
              0.1111111111111111,
              "#46039f"
             ],
             [
              0.2222222222222222,
              "#7201a8"
             ],
             [
              0.3333333333333333,
              "#9c179e"
             ],
             [
              0.4444444444444444,
              "#bd3786"
             ],
             [
              0.5555555555555556,
              "#d8576b"
             ],
             [
              0.6666666666666666,
              "#ed7953"
             ],
             [
              0.7777777777777778,
              "#fb9f3a"
             ],
             [
              0.8888888888888888,
              "#fdca26"
             ],
             [
              1.0,
              "#f0f921"
             ]
            ]
           }
          ],
          "contourcarpet": [
           {
            "type": "contourcarpet",
            "colorbar": {
             "outlinewidth": 0,
             "ticks": ""
            }
           }
          ],
          "contour": [
           {
            "type": "contour",
            "colorbar": {
             "outlinewidth": 0,
             "ticks": ""
            },
            "colorscale": [
             [
              0.0,
              "#0d0887"
             ],
             [
              0.1111111111111111,
              "#46039f"
             ],
             [
              0.2222222222222222,
              "#7201a8"
             ],
             [
              0.3333333333333333,
              "#9c179e"
             ],
             [
              0.4444444444444444,
              "#bd3786"
             ],
             [
              0.5555555555555556,
              "#d8576b"
             ],
             [
              0.6666666666666666,
              "#ed7953"
             ],
             [
              0.7777777777777778,
              "#fb9f3a"
             ],
             [
              0.8888888888888888,
              "#fdca26"
             ],
             [
              1.0,
              "#f0f921"
             ]
            ]
           }
          ],
          "surface": [
           {
            "type": "surface",
            "colorbar": {
             "outlinewidth": 0,
             "ticks": ""
            },
            "colorscale": [
             [
              0.0,
              "#0d0887"
             ],
             [
              0.1111111111111111,
              "#46039f"
             ],
             [
              0.2222222222222222,
              "#7201a8"
             ],
             [
              0.3333333333333333,
              "#9c179e"
             ],
             [
              0.4444444444444444,
              "#bd3786"
             ],
             [
              0.5555555555555556,
              "#d8576b"
             ],
             [
              0.6666666666666666,
              "#ed7953"
             ],
             [
              0.7777777777777778,
              "#fb9f3a"
             ],
             [
              0.8888888888888888,
              "#fdca26"
             ],
             [
              1.0,
              "#f0f921"
             ]
            ]
           }
          ],
          "mesh3d": [
           {
            "type": "mesh3d",
            "colorbar": {
             "outlinewidth": 0,
             "ticks": ""
            }
           }
          ],
          "scatter": [
           {
            "fillpattern": {
             "fillmode": "overlay",
             "size": 10,
             "solidity": 0.2
            },
            "type": "scatter"
           }
          ],
          "parcoords": [
           {
            "type": "parcoords",
            "line": {
             "colorbar": {
              "outlinewidth": 0,
              "ticks": ""
             }
            }
           }
          ],
          "scatterpolargl": [
           {
            "type": "scatterpolargl",
            "marker": {
             "colorbar": {
              "outlinewidth": 0,
              "ticks": ""
             }
            }
           }
          ],
          "bar": [
           {
            "error_x": {
             "color": "#2a3f5f"
            },
            "error_y": {
             "color": "#2a3f5f"
            },
            "marker": {
             "line": {
              "color": "#E5ECF6",
              "width": 0.5
             },
             "pattern": {
              "fillmode": "overlay",
              "size": 10,
              "solidity": 0.2
             }
            },
            "type": "bar"
           }
          ],
          "scattergeo": [
           {
            "type": "scattergeo",
            "marker": {
             "colorbar": {
              "outlinewidth": 0,
              "ticks": ""
             }
            }
           }
          ],
          "scatterpolar": [
           {
            "type": "scatterpolar",
            "marker": {
             "colorbar": {
              "outlinewidth": 0,
              "ticks": ""
             }
            }
           }
          ],
          "histogram": [
           {
            "marker": {
             "pattern": {
              "fillmode": "overlay",
              "size": 10,
              "solidity": 0.2
             }
            },
            "type": "histogram"
           }
          ],
          "scattergl": [
           {
            "type": "scattergl",
            "marker": {
             "colorbar": {
              "outlinewidth": 0,
              "ticks": ""
             }
            }
           }
          ],
          "scatter3d": [
           {
            "type": "scatter3d",
            "line": {
             "colorbar": {
              "outlinewidth": 0,
              "ticks": ""
             }
            },
            "marker": {
             "colorbar": {
              "outlinewidth": 0,
              "ticks": ""
             }
            }
           }
          ],
          "scattermapbox": [
           {
            "type": "scattermapbox",
            "marker": {
             "colorbar": {
              "outlinewidth": 0,
              "ticks": ""
             }
            }
           }
          ],
          "scatterternary": [
           {
            "type": "scatterternary",
            "marker": {
             "colorbar": {
              "outlinewidth": 0,
              "ticks": ""
             }
            }
           }
          ],
          "scattercarpet": [
           {
            "type": "scattercarpet",
            "marker": {
             "colorbar": {
              "outlinewidth": 0,
              "ticks": ""
             }
            }
           }
          ],
          "carpet": [
           {
            "aaxis": {
             "endlinecolor": "#2a3f5f",
             "gridcolor": "white",
             "linecolor": "white",
             "minorgridcolor": "white",
             "startlinecolor": "#2a3f5f"
            },
            "baxis": {
             "endlinecolor": "#2a3f5f",
             "gridcolor": "white",
             "linecolor": "white",
             "minorgridcolor": "white",
             "startlinecolor": "#2a3f5f"
            },
            "type": "carpet"
           }
          ],
          "table": [
           {
            "cells": {
             "fill": {
              "color": "#EBF0F8"
             },
             "line": {
              "color": "white"
             }
            },
            "header": {
             "fill": {
              "color": "#C8D4E3"
             },
             "line": {
              "color": "white"
             }
            },
            "type": "table"
           }
          ],
          "barpolar": [
           {
            "marker": {
             "line": {
              "color": "#E5ECF6",
              "width": 0.5
             },
             "pattern": {
              "fillmode": "overlay",
              "size": 10,
              "solidity": 0.2
             }
            },
            "type": "barpolar"
           }
          ],
          "pie": [
           {
            "automargin": true,
            "type": "pie"
           }
          ]
         },
         "layout": {
          "autotypenumbers": "strict",
          "colorway": [
           "#636efa",
           "#EF553B",
           "#00cc96",
           "#ab63fa",
           "#FFA15A",
           "#19d3f3",
           "#FF6692",
           "#B6E880",
           "#FF97FF",
           "#FECB52"
          ],
          "font": {
           "color": "#2a3f5f"
          },
          "hovermode": "closest",
          "hoverlabel": {
           "align": "left"
          },
          "paper_bgcolor": "white",
          "plot_bgcolor": "#E5ECF6",
          "polar": {
           "bgcolor": "#E5ECF6",
           "angularaxis": {
            "gridcolor": "white",
            "linecolor": "white",
            "ticks": ""
           },
           "radialaxis": {
            "gridcolor": "white",
            "linecolor": "white",
            "ticks": ""
           }
          },
          "ternary": {
           "bgcolor": "#E5ECF6",
           "aaxis": {
            "gridcolor": "white",
            "linecolor": "white",
            "ticks": ""
           },
           "baxis": {
            "gridcolor": "white",
            "linecolor": "white",
            "ticks": ""
           },
           "caxis": {
            "gridcolor": "white",
            "linecolor": "white",
            "ticks": ""
           }
          },
          "coloraxis": {
           "colorbar": {
            "outlinewidth": 0,
            "ticks": ""
           }
          },
          "colorscale": {
           "sequential": [
            [
             0.0,
             "#0d0887"
            ],
            [
             0.1111111111111111,
             "#46039f"
            ],
            [
             0.2222222222222222,
             "#7201a8"
            ],
            [
             0.3333333333333333,
             "#9c179e"
            ],
            [
             0.4444444444444444,
             "#bd3786"
            ],
            [
             0.5555555555555556,
             "#d8576b"
            ],
            [
             0.6666666666666666,
             "#ed7953"
            ],
            [
             0.7777777777777778,
             "#fb9f3a"
            ],
            [
             0.8888888888888888,
             "#fdca26"
            ],
            [
             1.0,
             "#f0f921"
            ]
           ],
           "sequentialminus": [
            [
             0.0,
             "#0d0887"
            ],
            [
             0.1111111111111111,
             "#46039f"
            ],
            [
             0.2222222222222222,
             "#7201a8"
            ],
            [
             0.3333333333333333,
             "#9c179e"
            ],
            [
             0.4444444444444444,
             "#bd3786"
            ],
            [
             0.5555555555555556,
             "#d8576b"
            ],
            [
             0.6666666666666666,
             "#ed7953"
            ],
            [
             0.7777777777777778,
             "#fb9f3a"
            ],
            [
             0.8888888888888888,
             "#fdca26"
            ],
            [
             1.0,
             "#f0f921"
            ]
           ],
           "diverging": [
            [
             0,
             "#8e0152"
            ],
            [
             0.1,
             "#c51b7d"
            ],
            [
             0.2,
             "#de77ae"
            ],
            [
             0.3,
             "#f1b6da"
            ],
            [
             0.4,
             "#fde0ef"
            ],
            [
             0.5,
             "#f7f7f7"
            ],
            [
             0.6,
             "#e6f5d0"
            ],
            [
             0.7,
             "#b8e186"
            ],
            [
             0.8,
             "#7fbc41"
            ],
            [
             0.9,
             "#4d9221"
            ],
            [
             1,
             "#276419"
            ]
           ]
          },
          "xaxis": {
           "gridcolor": "white",
           "linecolor": "white",
           "ticks": "",
           "title": {
            "standoff": 15
           },
           "zerolinecolor": "white",
           "automargin": true,
           "zerolinewidth": 2
          },
          "yaxis": {
           "gridcolor": "white",
           "linecolor": "white",
           "ticks": "",
           "title": {
            "standoff": 15
           },
           "zerolinecolor": "white",
           "automargin": true,
           "zerolinewidth": 2
          },
          "scene": {
           "xaxis": {
            "backgroundcolor": "#E5ECF6",
            "gridcolor": "white",
            "linecolor": "white",
            "showbackground": true,
            "ticks": "",
            "zerolinecolor": "white",
            "gridwidth": 2
           },
           "yaxis": {
            "backgroundcolor": "#E5ECF6",
            "gridcolor": "white",
            "linecolor": "white",
            "showbackground": true,
            "ticks": "",
            "zerolinecolor": "white",
            "gridwidth": 2
           },
           "zaxis": {
            "backgroundcolor": "#E5ECF6",
            "gridcolor": "white",
            "linecolor": "white",
            "showbackground": true,
            "ticks": "",
            "zerolinecolor": "white",
            "gridwidth": 2
           }
          },
          "shapedefaults": {
           "line": {
            "color": "#2a3f5f"
           }
          },
          "annotationdefaults": {
           "arrowcolor": "#2a3f5f",
           "arrowhead": 0,
           "arrowwidth": 1
          },
          "geo": {
           "bgcolor": "white",
           "landcolor": "#E5ECF6",
           "subunitcolor": "white",
           "showland": true,
           "showlakes": true,
           "lakecolor": "white"
          },
          "title": {
           "x": 0.05
          },
          "mapbox": {
           "style": "light"
          }
         }
        },
        "xaxis": {
         "anchor": "y",
         "domain": [
          0.0,
          1.0
         ],
         "title": {
          "text": "date"
         }
        },
        "yaxis": {
         "anchor": "x",
         "domain": [
          0.0,
          1.0
         ],
         "title": {
          "text": "value"
         }
        },
        "legend": {
         "title": {
          "text": "variable"
         },
         "tracegroupgap": 0
        },
        "margin": {
         "t": 60
        }
       },
       "config": {
        "plotlyServerURL": "https://plot.ly"
       }
      },
      "text/html": "<div>                            <div id=\"bb708246-895a-4cd7-981d-64f140aadf82\" class=\"plotly-graph-div\" style=\"height:525px; width:100%;\"></div>            <script type=\"text/javascript\">                require([\"plotly\"], function(Plotly) {                    window.PLOTLYENV=window.PLOTLYENV || {};                                    if (document.getElementById(\"bb708246-895a-4cd7-981d-64f140aadf82\")) {                    Plotly.newPlot(                        \"bb708246-895a-4cd7-981d-64f140aadf82\",                        [{\"hovertemplate\":\"variable=\\ucf54\\uc2a4\\ud53c\\u003cbr\\u003edate=%{x}\\u003cbr\\u003evalue=%{y}\\u003cextra\\u003e\\u003c\\u002fextra\\u003e\",\"legendgroup\":\"\\ucf54\\uc2a4\\ud53c\",\"line\":{\"color\":\"#EF553B\",\"dash\":\"solid\"},\"marker\":{\"symbol\":\"circle\"},\"mode\":\"lines\",\"name\":\"\\ucf54\\uc2a4\\ud53c\",\"orientation\":\"v\",\"showlegend\":true,\"x\":[\"2017-02-28T00:00:00\",\"2017-03-31T00:00:00\",\"2017-04-28T00:00:00\",\"2017-05-31T00:00:00\",\"2017-06-30T00:00:00\",\"2017-07-31T00:00:00\",\"2017-08-31T00:00:00\",\"2017-09-29T00:00:00\",\"2017-10-31T00:00:00\",\"2017-11-30T00:00:00\",\"2017-12-28T00:00:00\",\"2018-01-31T00:00:00\",\"2018-02-28T00:00:00\",\"2018-03-30T00:00:00\",\"2018-04-30T00:00:00\",\"2018-05-31T00:00:00\",\"2018-06-29T00:00:00\",\"2018-07-31T00:00:00\",\"2018-08-31T00:00:00\",\"2018-09-28T00:00:00\",\"2018-10-31T00:00:00\",\"2018-11-30T00:00:00\",\"2018-12-28T00:00:00\",\"2019-01-31T00:00:00\",\"2019-02-28T00:00:00\",\"2019-03-29T00:00:00\",\"2019-04-30T00:00:00\",\"2019-05-31T00:00:00\",\"2019-06-28T00:00:00\",\"2019-07-31T00:00:00\",\"2019-08-30T00:00:00\",\"2019-09-30T00:00:00\",\"2019-10-31T00:00:00\",\"2019-11-29T00:00:00\",\"2019-12-30T00:00:00\",\"2020-01-31T00:00:00\",\"2020-02-28T00:00:00\",\"2020-03-31T00:00:00\",\"2020-04-29T00:00:00\",\"2020-05-29T00:00:00\",\"2020-06-30T00:00:00\",\"2020-07-31T00:00:00\",\"2020-08-31T00:00:00\",\"2020-09-29T00:00:00\",\"2020-10-30T00:00:00\",\"2020-11-30T00:00:00\",\"2020-12-30T00:00:00\",\"2021-01-29T00:00:00\",\"2021-02-26T00:00:00\",\"2021-03-31T00:00:00\",\"2021-04-30T00:00:00\",\"2021-05-31T00:00:00\",\"2021-06-30T00:00:00\",\"2021-07-30T00:00:00\",\"2021-08-31T00:00:00\",\"2021-09-30T00:00:00\",\"2021-10-29T00:00:00\",\"2021-11-30T00:00:00\",\"2021-12-30T00:00:00\"],\"xaxis\":\"x\",\"y\":[100000000.0,103279244.9943585,105440706.81379205,112226769.42494884,114349983.74481268,114872062.1139393,112982635.63519534,114478112.86837122,120643609.79900938,118393700.63682087,117969153.39159702,122700847.18211547,116050563.19443117,116934558.52823621,120258744.33458912,115842592.41552085,111210820.21762827,109734944.82798187,111055439.75062631,112020711.021017,97038209.25207014,100249564.9346924,97580845.65221548,105412499.28285937,104962613.06917061,102344093.62987895,105352259.47103709,97614312.21433899,101863609.4165344,96792469.06733473,94078808.97286339,98633129.9841273,99609875.5043889,99824061.5019793,105069227.97422118,101308542.5790289,94997705.15002581,83888240.8062573,93111625.3274942,97033906.40836854,100797938.45977318,107540972.63391405,111212732.59260675,111294964.71668164,108391023.311851,123890344.41873363,137378803.23573846,142290738.3679792,144047254.78571838,146364575.16589853,150497217.4944063,153177411.02675414,157612208.60186264,153100916.0276147,152955097.43550515,146718364.5369184,142026352.52720353,135731292.19177297,142359583.8672047],\"yaxis\":\"y\",\"type\":\"scatter\"},{\"hovertemplate\":\"variable=\\uc0c1\\ub300\\ubaa8\\uba58\\ud140\\u003cbr\\u003edate=%{x}\\u003cbr\\u003evalue=%{y}\\u003cextra\\u003e\\u003c\\u002fextra\\u003e\",\"legendgroup\":\"\\uc0c1\\ub300\\ubaa8\\uba58\\ud140\",\"line\":{\"color\":\"#00cc96\",\"dash\":\"solid\"},\"marker\":{\"symbol\":\"circle\"},\"mode\":\"lines\",\"name\":\"\\uc0c1\\ub300\\ubaa8\\uba58\\ud140\",\"orientation\":\"v\",\"showlegend\":true,\"x\":[\"2017-02-28T00:00:00\",\"2017-03-31T00:00:00\",\"2017-04-28T00:00:00\",\"2017-05-31T00:00:00\",\"2017-06-30T00:00:00\",\"2017-07-31T00:00:00\",\"2017-08-31T00:00:00\",\"2017-09-29T00:00:00\",\"2017-10-31T00:00:00\",\"2017-11-30T00:00:00\",\"2017-12-28T00:00:00\",\"2018-01-31T00:00:00\",\"2018-02-28T00:00:00\",\"2018-03-30T00:00:00\",\"2018-04-30T00:00:00\",\"2018-05-31T00:00:00\",\"2018-06-29T00:00:00\",\"2018-07-31T00:00:00\",\"2018-08-31T00:00:00\",\"2018-09-28T00:00:00\",\"2018-10-31T00:00:00\",\"2018-11-30T00:00:00\",\"2018-12-28T00:00:00\",\"2019-01-31T00:00:00\",\"2019-02-28T00:00:00\",\"2019-03-29T00:00:00\",\"2019-04-30T00:00:00\",\"2019-05-31T00:00:00\",\"2019-06-28T00:00:00\",\"2019-07-31T00:00:00\",\"2019-08-30T00:00:00\",\"2019-09-30T00:00:00\",\"2019-10-31T00:00:00\",\"2019-11-29T00:00:00\",\"2019-12-30T00:00:00\",\"2020-01-31T00:00:00\",\"2020-02-28T00:00:00\",\"2020-03-31T00:00:00\",\"2020-04-29T00:00:00\",\"2020-05-29T00:00:00\",\"2020-06-30T00:00:00\",\"2020-07-31T00:00:00\",\"2020-08-31T00:00:00\",\"2020-09-29T00:00:00\",\"2020-10-30T00:00:00\",\"2020-11-30T00:00:00\",\"2020-12-30T00:00:00\",\"2021-01-29T00:00:00\",\"2021-02-26T00:00:00\",\"2021-03-31T00:00:00\",\"2021-04-30T00:00:00\",\"2021-05-31T00:00:00\",\"2021-06-30T00:00:00\",\"2021-07-30T00:00:00\",\"2021-08-31T00:00:00\",\"2021-09-30T00:00:00\",\"2021-10-29T00:00:00\",\"2021-11-30T00:00:00\",\"2021-12-30T00:00:00\"],\"xaxis\":\"x\",\"y\":[100000000.0,100000000.0,96691516.0415936,108058357.234495,115112747.2190418,115605531.39461339,118367015.61472338,110269697.7158434,112685746.7972534,113578519.17306459,117705294.3475518,125039131.063493,117154162.44668739,125792320.03208,124783836.58968219,125133793.42880619,117031349.54317558,110684808.40245557,116530592.60709557,114209220.53819557,99171768.30925557,101743961.66800557,100666991.48480657,95545415.92685656,94769618.68505657,89463985.12635657,99447988.74846657,86865704.89681937,91105810.13127938,84165409.39957938,85665517.56378938,87735782.62166938,86726264.76998937,82501009.46862617,89779212.52025418,83972024.99612017,76090387.90921617,65360325.03013617,76559427.55114217,82274558.41031997,91277220.54319997,91221021.39376338,94809522.11928998,92200082.17920257,94417679.04021518,104742504.19685818,104447458.24437217,115269118.06890738,112671473.30150738,112997206.87060739,118983186.41495737,121607472.87926736,123279769.12650737,123532597.51083837,123078052.11707458,126615361.40682198,125492785.17533837,120332973.93870838,131773380.98391837],\"yaxis\":\"y\",\"type\":\"scatter\"},{\"hovertemplate\":\"variable=PER(\\uac00\\uce58)\\u003cbr\\u003edate=%{x}\\u003cbr\\u003evalue=%{y}\\u003cextra\\u003e\\u003c\\u002fextra\\u003e\",\"legendgroup\":\"PER(\\uac00\\uce58)\",\"line\":{\"color\":\"#ab63fa\",\"dash\":\"solid\"},\"marker\":{\"symbol\":\"circle\"},\"mode\":\"lines\",\"name\":\"PER(\\uac00\\uce58)\",\"orientation\":\"v\",\"showlegend\":true,\"x\":[\"2017-02-28T00:00:00\",\"2017-03-31T00:00:00\",\"2017-04-28T00:00:00\",\"2017-05-31T00:00:00\",\"2017-06-30T00:00:00\",\"2017-07-31T00:00:00\",\"2017-08-31T00:00:00\",\"2017-09-29T00:00:00\",\"2017-10-31T00:00:00\",\"2017-11-30T00:00:00\",\"2017-12-28T00:00:00\",\"2018-01-31T00:00:00\",\"2018-02-28T00:00:00\",\"2018-03-30T00:00:00\",\"2018-04-30T00:00:00\",\"2018-05-31T00:00:00\",\"2018-06-29T00:00:00\",\"2018-07-31T00:00:00\",\"2018-08-31T00:00:00\",\"2018-09-28T00:00:00\",\"2018-10-31T00:00:00\",\"2018-11-30T00:00:00\",\"2018-12-28T00:00:00\",\"2019-01-31T00:00:00\",\"2019-02-28T00:00:00\",\"2019-03-29T00:00:00\",\"2019-04-30T00:00:00\",\"2019-05-31T00:00:00\",\"2019-06-28T00:00:00\",\"2019-07-31T00:00:00\",\"2019-08-30T00:00:00\",\"2019-09-30T00:00:00\",\"2019-10-31T00:00:00\",\"2019-11-29T00:00:00\",\"2019-12-30T00:00:00\",\"2020-01-31T00:00:00\",\"2020-02-28T00:00:00\",\"2020-03-31T00:00:00\",\"2020-04-29T00:00:00\",\"2020-05-29T00:00:00\",\"2020-06-30T00:00:00\",\"2020-07-31T00:00:00\",\"2020-08-31T00:00:00\",\"2020-09-29T00:00:00\",\"2020-10-30T00:00:00\",\"2020-11-30T00:00:00\",\"2020-12-30T00:00:00\",\"2021-01-29T00:00:00\",\"2021-02-26T00:00:00\",\"2021-03-31T00:00:00\",\"2021-04-30T00:00:00\",\"2021-05-31T00:00:00\",\"2021-06-30T00:00:00\",\"2021-07-30T00:00:00\",\"2021-08-31T00:00:00\",\"2021-09-30T00:00:00\",\"2021-10-29T00:00:00\",\"2021-11-30T00:00:00\",\"2021-12-30T00:00:00\"],\"xaxis\":\"x\",\"y\":[100000000.0,102630693.23720999,101127680.54983799,109075098.21063799,109984834.40139198,106888524.09765199,100033879.16401199,99147567.91641799,102472179.86093798,100328149.03212999,97841199.69672999,103746132.28210598,100470475.17819598,96733075.76594599,97679162.877106,99543576.40650599,90127156.65682398,90529335.91275598,89843893.17377599,88497163.61002599,77541496.53610599,83702770.89137599,86157869.81647599,94560798.60282598,97008075.642926,96655755.33860159,99071647.4664836,94215492.11603819,97049037.0061889,91625186.3353539,90782420.2029219,94991379.87210749,93677257.8302922,94365611.81450619,100448908.13304219,91370362.0968602,86251913.7239822,77031987.7705642,90413174.0401302,90780325.1373062,90483193.2822062,95024551.38719419,96972684.5021582,98386785.59906419,105537375.4039262,114263079.30908819,114130314.48529819,108017099.1937702,120205334.80949219,141327278.1971922,156476554.26058418,165200090.8252822,164357120.7263702,162636008.5066002,164029167.6455902,166663033.80667418,165543481.78587818,150226159.0907322,158521750.96770218],\"yaxis\":\"y\",\"type\":\"scatter\"},{\"hovertemplate\":\"variable=PBR(\\uac00\\uce58)\\u003cbr\\u003edate=%{x}\\u003cbr\\u003evalue=%{y}\\u003cextra\\u003e\\u003c\\u002fextra\\u003e\",\"legendgroup\":\"PBR(\\uac00\\uce58)\",\"line\":{\"color\":\"#FFA15A\",\"dash\":\"solid\"},\"marker\":{\"symbol\":\"circle\"},\"mode\":\"lines\",\"name\":\"PBR(\\uac00\\uce58)\",\"orientation\":\"v\",\"showlegend\":true,\"x\":[\"2017-02-28T00:00:00\",\"2017-03-31T00:00:00\",\"2017-04-28T00:00:00\",\"2017-05-31T00:00:00\",\"2017-06-30T00:00:00\",\"2017-07-31T00:00:00\",\"2017-08-31T00:00:00\",\"2017-09-29T00:00:00\",\"2017-10-31T00:00:00\",\"2017-11-30T00:00:00\",\"2017-12-28T00:00:00\",\"2018-01-31T00:00:00\",\"2018-02-28T00:00:00\",\"2018-03-30T00:00:00\",\"2018-04-30T00:00:00\",\"2018-05-31T00:00:00\",\"2018-06-29T00:00:00\",\"2018-07-31T00:00:00\",\"2018-08-31T00:00:00\",\"2018-09-28T00:00:00\",\"2018-10-31T00:00:00\",\"2018-11-30T00:00:00\",\"2018-12-28T00:00:00\",\"2019-01-31T00:00:00\",\"2019-02-28T00:00:00\",\"2019-03-29T00:00:00\",\"2019-04-30T00:00:00\",\"2019-05-31T00:00:00\",\"2019-06-28T00:00:00\",\"2019-07-31T00:00:00\",\"2019-08-30T00:00:00\",\"2019-09-30T00:00:00\",\"2019-10-31T00:00:00\",\"2019-11-29T00:00:00\",\"2019-12-30T00:00:00\",\"2020-01-31T00:00:00\",\"2020-02-28T00:00:00\",\"2020-03-31T00:00:00\",\"2020-04-29T00:00:00\",\"2020-05-29T00:00:00\",\"2020-06-30T00:00:00\",\"2020-07-31T00:00:00\",\"2020-08-31T00:00:00\",\"2020-09-29T00:00:00\",\"2020-10-30T00:00:00\",\"2020-11-30T00:00:00\",\"2020-12-30T00:00:00\",\"2021-01-29T00:00:00\",\"2021-02-26T00:00:00\",\"2021-03-31T00:00:00\",\"2021-04-30T00:00:00\",\"2021-05-31T00:00:00\",\"2021-06-30T00:00:00\",\"2021-07-30T00:00:00\",\"2021-08-31T00:00:00\",\"2021-09-30T00:00:00\",\"2021-10-29T00:00:00\",\"2021-11-30T00:00:00\",\"2021-12-30T00:00:00\"],\"xaxis\":\"x\",\"y\":[100000000.0,98849503.12889999,98837242.515072,104148029.620492,107794822.156034,112648912.83249399,105513900.358174,101205621.673482,104319019.793262,104494354.92358,105061672.29800999,112288357.38495399,108703759.73490399,105329697.974824,115435968.109604,119164367.959384,112095448.638716,116713076.62146999,115296940.65559,117376110.42478,98965602.34952,102681637.16976999,107434196.73407999,115539941.338486,115239638.054756,106402355.73310599,109872862.587026,101379111.663066,104650034.716536,98477716.332984,94333000.618422,97257600.47702,92481810.45225199,99016704.200326,101903231.56004599,91276331.049598,81337012.11314799,66324225.75863999,78797732.899327,79486677.77638899,77173926.007561,81243589.226743,84072412.847023,84041440.632653,90255777.837019,97368868.393385,106574403.94300899,100300332.26617499,105971173.72889899,118408695.833209,127406938.681531,131800816.560627,132344267.056257,129580848.67507699,128468065.828631,136316247.37667498,133628745.91661699,119519918.581499,126653311.123399],\"yaxis\":\"y\",\"type\":\"scatter\"},{\"hovertemplate\":\"variable=\\ubc30\\ub2f9\\u003cbr\\u003edate=%{x}\\u003cbr\\u003evalue=%{y}\\u003cextra\\u003e\\u003c\\u002fextra\\u003e\",\"legendgroup\":\"\\ubc30\\ub2f9\",\"line\":{\"color\":\"#19d3f3\",\"dash\":\"solid\"},\"marker\":{\"symbol\":\"circle\"},\"mode\":\"lines\",\"name\":\"\\ubc30\\ub2f9\",\"orientation\":\"v\",\"showlegend\":true,\"x\":[\"2017-02-28T00:00:00\",\"2017-03-31T00:00:00\",\"2017-04-28T00:00:00\",\"2017-05-31T00:00:00\",\"2017-06-30T00:00:00\",\"2017-07-31T00:00:00\",\"2017-08-31T00:00:00\",\"2017-09-29T00:00:00\",\"2017-10-31T00:00:00\",\"2017-11-30T00:00:00\",\"2017-12-28T00:00:00\",\"2018-01-31T00:00:00\",\"2018-02-28T00:00:00\",\"2018-03-30T00:00:00\",\"2018-04-30T00:00:00\",\"2018-05-31T00:00:00\",\"2018-06-29T00:00:00\",\"2018-07-31T00:00:00\",\"2018-08-31T00:00:00\",\"2018-09-28T00:00:00\",\"2018-10-31T00:00:00\",\"2018-11-30T00:00:00\",\"2018-12-28T00:00:00\",\"2019-01-31T00:00:00\",\"2019-02-28T00:00:00\",\"2019-03-29T00:00:00\",\"2019-04-30T00:00:00\",\"2019-05-31T00:00:00\",\"2019-06-28T00:00:00\",\"2019-07-31T00:00:00\",\"2019-08-30T00:00:00\",\"2019-09-30T00:00:00\",\"2019-10-31T00:00:00\",\"2019-11-29T00:00:00\",\"2019-12-30T00:00:00\",\"2020-01-31T00:00:00\",\"2020-02-28T00:00:00\",\"2020-03-31T00:00:00\",\"2020-04-29T00:00:00\",\"2020-05-29T00:00:00\",\"2020-06-30T00:00:00\",\"2020-07-31T00:00:00\",\"2020-08-31T00:00:00\",\"2020-09-29T00:00:00\",\"2020-10-30T00:00:00\",\"2020-11-30T00:00:00\",\"2020-12-30T00:00:00\",\"2021-01-29T00:00:00\",\"2021-02-26T00:00:00\",\"2021-03-31T00:00:00\",\"2021-04-30T00:00:00\",\"2021-05-31T00:00:00\",\"2021-06-30T00:00:00\",\"2021-07-30T00:00:00\",\"2021-08-31T00:00:00\",\"2021-09-30T00:00:00\",\"2021-10-29T00:00:00\",\"2021-11-30T00:00:00\",\"2021-12-30T00:00:00\"],\"xaxis\":\"x\",\"y\":[100000000.0,101918573.01384999,103728305.16391079,108619647.54091679,106563704.44562918,114627410.31237918,114703733.7764192,110454975.77687919,113552891.74218918,113917511.82712919,115695169.29559919,113989279.90209918,109177541.57411918,106905858.62151918,109001798.03471918,105192316.09601918,108055259.10124919,109900174.85158919,110952933.24235918,119674709.26234917,108701466.97752917,109281822.13490917,105830462.76274917,112078650.02907917,112219839.39949916,110177049.65224916,113750362.18361917,107943768.19272916,109399730.77042916,107451088.70702317,100363060.49953316,104539531.36380316,100435157.30526316,104908847.70557317,107733987.96342316,97556722.61307317,92682269.18647316,76358354.52561516,87792313.27838616,92518310.89108416,89604447.62216015,94630593.86611216,99538439.14412616,97849829.87149416,104228881.38658416,112853042.75613216,113379738.67387816,107419503.90898016,118017373.59117617,133913849.18094017,142288900.68464017,148138560.48439416,147969687.60018417,151533529.70952415,153192160.32349417,152781587.88233414,152273475.13799414,144327084.63884416,146642122.31935415],\"yaxis\":\"y\",\"type\":\"scatter\"},{\"hovertemplate\":\"variable=\\uc18c\\ud615\\uc8fc\\u003cbr\\u003edate=%{x}\\u003cbr\\u003evalue=%{y}\\u003cextra\\u003e\\u003c\\u002fextra\\u003e\",\"legendgroup\":\"\\uc18c\\ud615\\uc8fc\",\"line\":{\"color\":\"#FF6692\",\"dash\":\"solid\"},\"marker\":{\"symbol\":\"circle\"},\"mode\":\"lines\",\"name\":\"\\uc18c\\ud615\\uc8fc\",\"orientation\":\"v\",\"showlegend\":true,\"x\":[\"2017-02-28T00:00:00\",\"2017-03-31T00:00:00\",\"2017-04-28T00:00:00\",\"2017-05-31T00:00:00\",\"2017-06-30T00:00:00\",\"2017-07-31T00:00:00\",\"2017-08-31T00:00:00\",\"2017-09-29T00:00:00\",\"2017-10-31T00:00:00\",\"2017-11-30T00:00:00\",\"2017-12-28T00:00:00\",\"2018-01-31T00:00:00\",\"2018-02-28T00:00:00\",\"2018-03-30T00:00:00\",\"2018-04-30T00:00:00\",\"2018-05-31T00:00:00\",\"2018-06-29T00:00:00\",\"2018-07-31T00:00:00\",\"2018-08-31T00:00:00\",\"2018-09-28T00:00:00\",\"2018-10-31T00:00:00\",\"2018-11-30T00:00:00\",\"2018-12-28T00:00:00\",\"2019-01-31T00:00:00\",\"2019-02-28T00:00:00\",\"2019-03-29T00:00:00\",\"2019-04-30T00:00:00\",\"2019-05-31T00:00:00\",\"2019-06-28T00:00:00\",\"2019-07-31T00:00:00\",\"2019-08-30T00:00:00\",\"2019-09-30T00:00:00\",\"2019-10-31T00:00:00\",\"2019-11-29T00:00:00\",\"2019-12-30T00:00:00\",\"2020-01-31T00:00:00\",\"2020-02-28T00:00:00\",\"2020-03-31T00:00:00\",\"2020-04-29T00:00:00\",\"2020-05-29T00:00:00\",\"2020-06-30T00:00:00\",\"2020-07-31T00:00:00\",\"2020-08-31T00:00:00\",\"2020-09-29T00:00:00\",\"2020-10-30T00:00:00\",\"2020-11-30T00:00:00\",\"2020-12-30T00:00:00\",\"2021-01-29T00:00:00\",\"2021-02-26T00:00:00\",\"2021-03-31T00:00:00\",\"2021-04-30T00:00:00\",\"2021-05-31T00:00:00\",\"2021-06-30T00:00:00\",\"2021-07-30T00:00:00\",\"2021-08-31T00:00:00\",\"2021-09-30T00:00:00\",\"2021-10-29T00:00:00\",\"2021-11-30T00:00:00\",\"2021-12-30T00:00:00\"],\"xaxis\":\"x\",\"y\":[100000000.0,107847371.03018999,100020736.53515999,106157547.8657492,111798325.3126102,110726964.7251546,108743546.3270998,102864446.0177168,106462049.87224878,109070479.93091299,108890412.2513842,124057543.9500604,116276333.55953579,121670358.3465046,120505988.7477606,132283732.42424159,129850748.19291659,120897966.77062939,127369340.03930598,126390603.37902479,113784793.73135479,124628959.9309384,120479091.5733642,136050646.0471262,131571294.3076682,128189511.55980259,134334496.2527566,125853046.99040559,128008564.74653459,119755633.72328658,120686666.27907099,130699981.636733,130157257.91380899,129971946.36991239,144664888.6129944,137517445.4228468,133420861.87126479,105722036.92168759,125761570.84551999,138391158.9899464,140659776.72472578,172246142.81681538,185233056.21705058,189308416.3551186,189761044.1376006,219600537.6743446,251485026.92668658,269135781.4700706,291619377.9601126,320514262.8695246,360785214.9385946,405389866.1317066,405867899.8366146,411384882.0202406,420041315.8919506,415232283.4324306,433843894.6793866,386180551.5322166,424120070.6826946],\"yaxis\":\"y\",\"type\":\"scatter\"},{\"hovertemplate\":\"variable=\\ub85c\\uc6b0\\ubcfc\\u003cbr\\u003edate=%{x}\\u003cbr\\u003evalue=%{y}\\u003cextra\\u003e\\u003c\\u002fextra\\u003e\",\"legendgroup\":\"\\ub85c\\uc6b0\\ubcfc\",\"line\":{\"color\":\"#B6E880\",\"dash\":\"solid\"},\"marker\":{\"symbol\":\"circle\"},\"mode\":\"lines\",\"name\":\"\\ub85c\\uc6b0\\ubcfc\",\"orientation\":\"v\",\"showlegend\":true,\"x\":[\"2017-02-28T00:00:00\",\"2017-03-31T00:00:00\",\"2017-04-28T00:00:00\",\"2017-05-31T00:00:00\",\"2017-06-30T00:00:00\",\"2017-07-31T00:00:00\",\"2017-08-31T00:00:00\",\"2017-09-29T00:00:00\",\"2017-10-31T00:00:00\",\"2017-11-30T00:00:00\",\"2017-12-28T00:00:00\",\"2018-01-31T00:00:00\",\"2018-02-28T00:00:00\",\"2018-03-30T00:00:00\",\"2018-04-30T00:00:00\",\"2018-05-31T00:00:00\",\"2018-06-29T00:00:00\",\"2018-07-31T00:00:00\",\"2018-08-31T00:00:00\",\"2018-09-28T00:00:00\",\"2018-10-31T00:00:00\",\"2018-11-30T00:00:00\",\"2018-12-28T00:00:00\",\"2019-01-31T00:00:00\",\"2019-02-28T00:00:00\",\"2019-03-29T00:00:00\",\"2019-04-30T00:00:00\",\"2019-05-31T00:00:00\",\"2019-06-28T00:00:00\",\"2019-07-31T00:00:00\",\"2019-08-30T00:00:00\",\"2019-09-30T00:00:00\",\"2019-10-31T00:00:00\",\"2019-11-29T00:00:00\",\"2019-12-30T00:00:00\",\"2020-01-31T00:00:00\",\"2020-02-28T00:00:00\",\"2020-03-31T00:00:00\",\"2020-04-29T00:00:00\",\"2020-05-29T00:00:00\",\"2020-06-30T00:00:00\",\"2020-07-31T00:00:00\",\"2020-08-31T00:00:00\",\"2020-09-29T00:00:00\",\"2020-10-30T00:00:00\",\"2020-11-30T00:00:00\",\"2020-12-30T00:00:00\",\"2021-01-29T00:00:00\",\"2021-02-26T00:00:00\",\"2021-03-31T00:00:00\",\"2021-04-30T00:00:00\",\"2021-05-31T00:00:00\",\"2021-06-30T00:00:00\",\"2021-07-30T00:00:00\",\"2021-08-31T00:00:00\",\"2021-09-30T00:00:00\",\"2021-10-29T00:00:00\",\"2021-11-30T00:00:00\",\"2021-12-30T00:00:00\"],\"xaxis\":\"x\",\"y\":[100000000.0,105058397.41291,105032284.816522,109532102.91143179,117928288.1400712,114386586.6935644,125623665.309779,122089456.2115002,127789654.97296861,128970790.6421214,132858306.96285182,148227290.83280382,144467666.11547583,150082319.790237,151389679.9034104,149018334.5134924,128785971.59616221,121643043.67067823,123458977.30408603,120938575.44153602,100227900.48145603,109584174.48641601,104362106.88928522,111301609.08032522,110195024.61185522,107096327.57602343,115119130.90592141,101726408.63190243,105973571.98880962,98057728.58910762,98578766.22032681,105152036.38541782,109286896.22217782,103601010.01067941,107264672.18048121,102301116.19697602,96243836.13296002,78956612.68049602,87452009.9283224,94010673.67796461,103584284.41612202,130827728.17824923,153050747.0487526,149765761.27146584,150967171.54232702,182937720.22914,199468967.6839318,218699829.2966042,199486092.1691602,201524221.7377842,206300508.1751382,221454493.5038662,234062722.7149404,234311810.53015938,226991517.63021138,219966113.3153216,226353622.7903504,231040954.38096878,236897411.06327718],\"yaxis\":\"y\",\"type\":\"scatter\"},{\"hovertemplate\":\"variable=\\uac1c\\uc778\\u003cbr\\u003edate=%{x}\\u003cbr\\u003evalue=%{y}\\u003cextra\\u003e\\u003c\\u002fextra\\u003e\",\"legendgroup\":\"\\uac1c\\uc778\",\"line\":{\"color\":\"#FF97FF\",\"dash\":\"solid\"},\"marker\":{\"symbol\":\"circle\"},\"mode\":\"lines\",\"name\":\"\\uac1c\\uc778\",\"orientation\":\"v\",\"showlegend\":true,\"x\":[\"2017-02-28T00:00:00\",\"2017-03-31T00:00:00\",\"2017-04-28T00:00:00\",\"2017-05-31T00:00:00\",\"2017-06-30T00:00:00\",\"2017-07-31T00:00:00\",\"2017-08-31T00:00:00\",\"2017-09-29T00:00:00\",\"2017-10-31T00:00:00\",\"2017-11-30T00:00:00\",\"2017-12-28T00:00:00\",\"2018-01-31T00:00:00\",\"2018-02-28T00:00:00\",\"2018-03-30T00:00:00\",\"2018-04-30T00:00:00\",\"2018-05-31T00:00:00\",\"2018-06-29T00:00:00\",\"2018-07-31T00:00:00\",\"2018-08-31T00:00:00\",\"2018-09-28T00:00:00\",\"2018-10-31T00:00:00\",\"2018-11-30T00:00:00\",\"2018-12-28T00:00:00\",\"2019-01-31T00:00:00\",\"2019-02-28T00:00:00\",\"2019-03-29T00:00:00\",\"2019-04-30T00:00:00\",\"2019-05-31T00:00:00\",\"2019-06-28T00:00:00\",\"2019-07-31T00:00:00\",\"2019-08-30T00:00:00\",\"2019-09-30T00:00:00\",\"2019-10-31T00:00:00\",\"2019-11-29T00:00:00\",\"2019-12-30T00:00:00\",\"2020-01-31T00:00:00\",\"2020-02-28T00:00:00\",\"2020-03-31T00:00:00\",\"2020-04-29T00:00:00\",\"2020-05-29T00:00:00\",\"2020-06-30T00:00:00\",\"2020-07-31T00:00:00\",\"2020-08-31T00:00:00\",\"2020-09-29T00:00:00\",\"2020-10-30T00:00:00\",\"2020-11-30T00:00:00\",\"2020-12-30T00:00:00\",\"2021-01-29T00:00:00\",\"2021-02-26T00:00:00\",\"2021-03-31T00:00:00\",\"2021-04-30T00:00:00\",\"2021-05-31T00:00:00\",\"2021-06-30T00:00:00\",\"2021-07-30T00:00:00\",\"2021-08-31T00:00:00\",\"2021-09-30T00:00:00\",\"2021-10-29T00:00:00\",\"2021-11-30T00:00:00\",\"2021-12-30T00:00:00\"],\"xaxis\":\"x\",\"y\":[100000000.0,103523069.39991,104333608.25216281,108807873.759007,104434043.48977542,110340999.13371982,114100517.84424223,105975719.94102722,107843049.21567944,109263123.47010463,105750627.35041423,113954517.39041263,106607317.04975463,111662508.32830943,107193194.16479503,118557791.09542044,100267317.92996544,104440489.76624124,105590684.45156184,104045140.03305183,92380967.72645584,99298509.01683584,93985908.67302583,102808361.44135705,107229126.86960824,103999542.80657244,105485196.45576045,100178527.51067244,100228849.16859445,95282751.21573845,90044438.48136126,93594178.89305764,92489994.57262525,94137116.95786865,96244452.79315925,90041303.44955364,81004748.38114463,65765975.864344224,78014191.67487302,79341274.01325303,76678433.59769943,77979401.72378942,81592564.75553742,84074352.73074442,83845582.47444323,90631933.84630483,93893174.70328283,91570932.25364283,90110366.49345882,94280944.65137883,99333144.28320283,103408015.46872483,107576349.59901482,103370424.56920744,101419117.00838044,97967296.07746044,100651007.45208043,91992722.44668043,100630625.83359043],\"yaxis\":\"y\",\"type\":\"scatter\"},{\"hovertemplate\":\"variable=\\uae30\\uad00\\u003cbr\\u003edate=%{x}\\u003cbr\\u003evalue=%{y}\\u003cextra\\u003e\\u003c\\u002fextra\\u003e\",\"legendgroup\":\"\\uae30\\uad00\",\"line\":{\"color\":\"#FECB52\",\"dash\":\"solid\"},\"marker\":{\"symbol\":\"circle\"},\"mode\":\"lines\",\"name\":\"\\uae30\\uad00\",\"orientation\":\"v\",\"showlegend\":true,\"x\":[\"2017-02-28T00:00:00\",\"2017-03-31T00:00:00\",\"2017-04-28T00:00:00\",\"2017-05-31T00:00:00\",\"2017-06-30T00:00:00\",\"2017-07-31T00:00:00\",\"2017-08-31T00:00:00\",\"2017-09-29T00:00:00\",\"2017-10-31T00:00:00\",\"2017-11-30T00:00:00\",\"2017-12-28T00:00:00\",\"2018-01-31T00:00:00\",\"2018-02-28T00:00:00\",\"2018-03-30T00:00:00\",\"2018-04-30T00:00:00\",\"2018-05-31T00:00:00\",\"2018-06-29T00:00:00\",\"2018-07-31T00:00:00\",\"2018-08-31T00:00:00\",\"2018-09-28T00:00:00\",\"2018-10-31T00:00:00\",\"2018-11-30T00:00:00\",\"2018-12-28T00:00:00\",\"2019-01-31T00:00:00\",\"2019-02-28T00:00:00\",\"2019-03-29T00:00:00\",\"2019-04-30T00:00:00\",\"2019-05-31T00:00:00\",\"2019-06-28T00:00:00\",\"2019-07-31T00:00:00\",\"2019-08-30T00:00:00\",\"2019-09-30T00:00:00\",\"2019-10-31T00:00:00\",\"2019-11-29T00:00:00\",\"2019-12-30T00:00:00\",\"2020-01-31T00:00:00\",\"2020-02-28T00:00:00\",\"2020-03-31T00:00:00\",\"2020-04-29T00:00:00\",\"2020-05-29T00:00:00\",\"2020-06-30T00:00:00\",\"2020-07-31T00:00:00\",\"2020-08-31T00:00:00\",\"2020-09-29T00:00:00\",\"2020-10-30T00:00:00\",\"2020-11-30T00:00:00\",\"2020-12-30T00:00:00\",\"2021-01-29T00:00:00\",\"2021-02-26T00:00:00\",\"2021-03-31T00:00:00\",\"2021-04-30T00:00:00\",\"2021-05-31T00:00:00\",\"2021-06-30T00:00:00\",\"2021-07-30T00:00:00\",\"2021-08-31T00:00:00\",\"2021-09-30T00:00:00\",\"2021-10-29T00:00:00\",\"2021-11-30T00:00:00\",\"2021-12-30T00:00:00\"],\"xaxis\":\"x\",\"y\":[100000000.0,101029437.30955002,92148026.71912362,105376905.461372,111739803.3675728,106206560.1460736,105964862.72670141,105576470.01340841,112867469.264058,112191386.71744,115617135.4616044,127863513.4451066,117547696.44600499,117969048.42838839,120864871.68727179,123184363.85657918,118736678.58884919,120618769.0238012,119132008.64137119,123404037.8112392,114881334.5503532,122097622.8993134,119475883.8428034,127474582.02959341,130427611.55142342,132056912.24062343,130928219.52619343,123982831.86314103,129639410.22698542,117652824.93001102,117687808.58235341,120551512.1421318,117502466.47514382,123842891.16284901,126384848.07194081,116353508.8377988,111781950.74504581,96571918.1225808,111877418.51571558,108662861.65579559,107049057.18920559,116565659.0210536,134787939.4203388,129856349.96744081,132372012.86851642,145128685.2791076,149458679.84605002,163516542.9673,155745419.12659,159360595.426674,170541733.58544,178635456.0587248,175262292.3382504,176954605.3985604,170727898.0078704,165779428.7384572,166857097.7693668,154437865.3519148,165762042.411305],\"yaxis\":\"y\",\"type\":\"scatter\"},{\"hovertemplate\":\"variable=\\uc678\\uad6d\\uc778\\u003cbr\\u003edate=%{x}\\u003cbr\\u003evalue=%{y}\\u003cextra\\u003e\\u003c\\u002fextra\\u003e\",\"legendgroup\":\"\\uc678\\uad6d\\uc778\",\"line\":{\"color\":\"#636efa\",\"dash\":\"solid\"},\"marker\":{\"symbol\":\"circle\"},\"mode\":\"lines\",\"name\":\"\\uc678\\uad6d\\uc778\",\"orientation\":\"v\",\"showlegend\":true,\"x\":[\"2017-02-28T00:00:00\",\"2017-03-31T00:00:00\",\"2017-04-28T00:00:00\",\"2017-05-31T00:00:00\",\"2017-06-30T00:00:00\",\"2017-07-31T00:00:00\",\"2017-08-31T00:00:00\",\"2017-09-29T00:00:00\",\"2017-10-31T00:00:00\",\"2017-11-30T00:00:00\",\"2017-12-28T00:00:00\",\"2018-01-31T00:00:00\",\"2018-02-28T00:00:00\",\"2018-03-30T00:00:00\",\"2018-04-30T00:00:00\",\"2018-05-31T00:00:00\",\"2018-06-29T00:00:00\",\"2018-07-31T00:00:00\",\"2018-08-31T00:00:00\",\"2018-09-28T00:00:00\",\"2018-10-31T00:00:00\",\"2018-11-30T00:00:00\",\"2018-12-28T00:00:00\",\"2019-01-31T00:00:00\",\"2019-02-28T00:00:00\",\"2019-03-29T00:00:00\",\"2019-04-30T00:00:00\",\"2019-05-31T00:00:00\",\"2019-06-28T00:00:00\",\"2019-07-31T00:00:00\",\"2019-08-30T00:00:00\",\"2019-09-30T00:00:00\",\"2019-10-31T00:00:00\",\"2019-11-29T00:00:00\",\"2019-12-30T00:00:00\",\"2020-01-31T00:00:00\",\"2020-02-28T00:00:00\",\"2020-03-31T00:00:00\",\"2020-04-29T00:00:00\",\"2020-05-29T00:00:00\",\"2020-06-30T00:00:00\",\"2020-07-31T00:00:00\",\"2020-08-31T00:00:00\",\"2020-09-29T00:00:00\",\"2020-10-30T00:00:00\",\"2020-11-30T00:00:00\",\"2020-12-30T00:00:00\",\"2021-01-29T00:00:00\",\"2021-02-26T00:00:00\",\"2021-03-31T00:00:00\",\"2021-04-30T00:00:00\",\"2021-05-31T00:00:00\",\"2021-06-30T00:00:00\",\"2021-07-30T00:00:00\",\"2021-08-31T00:00:00\",\"2021-09-30T00:00:00\",\"2021-10-29T00:00:00\",\"2021-11-30T00:00:00\",\"2021-12-30T00:00:00\"],\"xaxis\":\"x\",\"y\":[100000000.0,101897593.47392999,105548914.30539438,112013585.73643838,119472525.88869378,125830911.51576817,122021149.65383078,118515342.15200077,121425855.24757159,129361613.25313099,134022803.3665312,135830716.8018506,129750832.59431319,135223136.41587618,142412108.76271757,141534726.86901158,145923771.9692944,141099537.3692588,140647759.3074888,144075125.9618418,119754787.7816712,130262404.31491719,126874237.7743512,133657859.1356012,135199139.6252512,128659664.38085121,140315464.33177722,128255565.0764922,134631923.9536332,118612219.14350721,113348656.8369004,121011596.0669704,120222273.2309704,120528790.27086599,137731476.3241622,143167521.93721738,140763124.6095174,125126014.91080737,134243095.507487,144800740.1608466,155289467.70880258,159859516.93734118,166968634.0075698,175167291.65556175,171484829.51741177,199353777.48368776,206349481.04977775,249951866.89077777,264856951.18745774,277762721.49828374,291878803.07621574,297273590.02970576,298994722.90674573,275841414.9465858,265915252.73244572,257404447.53257394,238614475.51477516,210628751.47320116,228554710.65168115],\"yaxis\":\"y\",\"type\":\"scatter\"},{\"hovertemplate\":\"variable=\\uba40\\ud2f0\\ud329\\ud130\\u003cbr\\u003edate=%{x}\\u003cbr\\u003evalue=%{y}\\u003cextra\\u003e\\u003c\\u002fextra\\u003e\",\"legendgroup\":\"\\uba40\\ud2f0\\ud329\\ud130\",\"line\":{\"color\":\"black\",\"dash\":\"solid\"},\"marker\":{\"symbol\":\"circle\"},\"mode\":\"lines\",\"name\":\"\\uba40\\ud2f0\\ud329\\ud130\",\"orientation\":\"v\",\"showlegend\":true,\"x\":[\"2017-02-28T00:00:00\",\"2017-03-31T00:00:00\",\"2017-04-28T00:00:00\",\"2017-05-31T00:00:00\",\"2017-06-30T00:00:00\",\"2017-07-31T00:00:00\",\"2017-08-31T00:00:00\",\"2017-09-29T00:00:00\",\"2017-10-31T00:00:00\",\"2017-11-30T00:00:00\",\"2017-12-28T00:00:00\",\"2018-01-31T00:00:00\",\"2018-02-28T00:00:00\",\"2018-03-30T00:00:00\",\"2018-04-30T00:00:00\",\"2018-05-31T00:00:00\",\"2018-06-29T00:00:00\",\"2018-07-31T00:00:00\",\"2018-08-31T00:00:00\",\"2018-09-28T00:00:00\",\"2018-10-31T00:00:00\",\"2018-11-30T00:00:00\",\"2018-12-28T00:00:00\",\"2019-01-31T00:00:00\",\"2019-02-28T00:00:00\",\"2019-03-29T00:00:00\",\"2019-04-30T00:00:00\",\"2019-05-31T00:00:00\",\"2019-06-28T00:00:00\",\"2019-07-31T00:00:00\",\"2019-08-30T00:00:00\",\"2019-09-30T00:00:00\",\"2019-10-31T00:00:00\",\"2019-11-29T00:00:00\",\"2019-12-30T00:00:00\",\"2020-01-31T00:00:00\",\"2020-02-28T00:00:00\",\"2020-03-31T00:00:00\",\"2020-04-29T00:00:00\",\"2020-05-29T00:00:00\",\"2020-06-30T00:00:00\",\"2020-07-31T00:00:00\",\"2020-08-31T00:00:00\",\"2020-09-29T00:00:00\",\"2020-10-30T00:00:00\",\"2020-11-30T00:00:00\",\"2020-12-30T00:00:00\",\"2021-01-29T00:00:00\",\"2021-02-26T00:00:00\",\"2021-03-31T00:00:00\",\"2021-04-30T00:00:00\",\"2021-05-31T00:00:00\",\"2021-06-30T00:00:00\",\"2021-07-30T00:00:00\",\"2021-08-31T00:00:00\",\"2021-09-30T00:00:00\",\"2021-10-29T00:00:00\",\"2021-11-30T00:00:00\",\"2021-12-30T00:00:00\"],\"xaxis\":\"x\",\"y\":[100000000.0,105058397.41291,104361016.16392,108713264.1067018,113987576.8148984,115273832.9139774,122464256.8263886,117571218.58906901,123072854.2629818,124644316.4744922,128092292.02444741,143996926.8896696,136979776.46547842,138276763.50559363,138099012.99263942,146667821.1904518,150760219.9532876,139744461.013359,141320863.30225003,137738304.74533,118967132.7449,125371829.31655501,123751212.0342122,134404560.6537818,139983318.8741414,135433150.9951826,145579484.3451206,128374173.00133862,130435239.39045072,122855870.1406279,124081339.6733979,128620830.8138679,124728454.6644301,118213050.5400259,122387553.7396275,116702661.8411035,108569867.83937949,85785556.62481049,101775852.2351315,108519663.53997649,107722592.6370727,136078643.0224073,145946358.3016183,141117886.6662587,142242946.2903333,152983026.4229351,167049189.4486115,175863715.48028833,185013781.9611183,198577299.90364033,213143389.74939832,241843101.8517983,242232818.5865903,240410742.2870985,237156263.9328935,237211895.98030013,243340239.98383173,248381983.77984333,253748707.77984333],\"yaxis\":\"y\",\"type\":\"scatter\"}],                        {\"template\":{\"data\":{\"histogram2dcontour\":[{\"type\":\"histogram2dcontour\",\"colorbar\":{\"outlinewidth\":0,\"ticks\":\"\"},\"colorscale\":[[0.0,\"#0d0887\"],[0.1111111111111111,\"#46039f\"],[0.2222222222222222,\"#7201a8\"],[0.3333333333333333,\"#9c179e\"],[0.4444444444444444,\"#bd3786\"],[0.5555555555555556,\"#d8576b\"],[0.6666666666666666,\"#ed7953\"],[0.7777777777777778,\"#fb9f3a\"],[0.8888888888888888,\"#fdca26\"],[1.0,\"#f0f921\"]]}],\"choropleth\":[{\"type\":\"choropleth\",\"colorbar\":{\"outlinewidth\":0,\"ticks\":\"\"}}],\"histogram2d\":[{\"type\":\"histogram2d\",\"colorbar\":{\"outlinewidth\":0,\"ticks\":\"\"},\"colorscale\":[[0.0,\"#0d0887\"],[0.1111111111111111,\"#46039f\"],[0.2222222222222222,\"#7201a8\"],[0.3333333333333333,\"#9c179e\"],[0.4444444444444444,\"#bd3786\"],[0.5555555555555556,\"#d8576b\"],[0.6666666666666666,\"#ed7953\"],[0.7777777777777778,\"#fb9f3a\"],[0.8888888888888888,\"#fdca26\"],[1.0,\"#f0f921\"]]}],\"heatmap\":[{\"type\":\"heatmap\",\"colorbar\":{\"outlinewidth\":0,\"ticks\":\"\"},\"colorscale\":[[0.0,\"#0d0887\"],[0.1111111111111111,\"#46039f\"],[0.2222222222222222,\"#7201a8\"],[0.3333333333333333,\"#9c179e\"],[0.4444444444444444,\"#bd3786\"],[0.5555555555555556,\"#d8576b\"],[0.6666666666666666,\"#ed7953\"],[0.7777777777777778,\"#fb9f3a\"],[0.8888888888888888,\"#fdca26\"],[1.0,\"#f0f921\"]]}],\"heatmapgl\":[{\"type\":\"heatmapgl\",\"colorbar\":{\"outlinewidth\":0,\"ticks\":\"\"},\"colorscale\":[[0.0,\"#0d0887\"],[0.1111111111111111,\"#46039f\"],[0.2222222222222222,\"#7201a8\"],[0.3333333333333333,\"#9c179e\"],[0.4444444444444444,\"#bd3786\"],[0.5555555555555556,\"#d8576b\"],[0.6666666666666666,\"#ed7953\"],[0.7777777777777778,\"#fb9f3a\"],[0.8888888888888888,\"#fdca26\"],[1.0,\"#f0f921\"]]}],\"contourcarpet\":[{\"type\":\"contourcarpet\",\"colorbar\":{\"outlinewidth\":0,\"ticks\":\"\"}}],\"contour\":[{\"type\":\"contour\",\"colorbar\":{\"outlinewidth\":0,\"ticks\":\"\"},\"colorscale\":[[0.0,\"#0d0887\"],[0.1111111111111111,\"#46039f\"],[0.2222222222222222,\"#7201a8\"],[0.3333333333333333,\"#9c179e\"],[0.4444444444444444,\"#bd3786\"],[0.5555555555555556,\"#d8576b\"],[0.6666666666666666,\"#ed7953\"],[0.7777777777777778,\"#fb9f3a\"],[0.8888888888888888,\"#fdca26\"],[1.0,\"#f0f921\"]]}],\"surface\":[{\"type\":\"surface\",\"colorbar\":{\"outlinewidth\":0,\"ticks\":\"\"},\"colorscale\":[[0.0,\"#0d0887\"],[0.1111111111111111,\"#46039f\"],[0.2222222222222222,\"#7201a8\"],[0.3333333333333333,\"#9c179e\"],[0.4444444444444444,\"#bd3786\"],[0.5555555555555556,\"#d8576b\"],[0.6666666666666666,\"#ed7953\"],[0.7777777777777778,\"#fb9f3a\"],[0.8888888888888888,\"#fdca26\"],[1.0,\"#f0f921\"]]}],\"mesh3d\":[{\"type\":\"mesh3d\",\"colorbar\":{\"outlinewidth\":0,\"ticks\":\"\"}}],\"scatter\":[{\"fillpattern\":{\"fillmode\":\"overlay\",\"size\":10,\"solidity\":0.2},\"type\":\"scatter\"}],\"parcoords\":[{\"type\":\"parcoords\",\"line\":{\"colorbar\":{\"outlinewidth\":0,\"ticks\":\"\"}}}],\"scatterpolargl\":[{\"type\":\"scatterpolargl\",\"marker\":{\"colorbar\":{\"outlinewidth\":0,\"ticks\":\"\"}}}],\"bar\":[{\"error_x\":{\"color\":\"#2a3f5f\"},\"error_y\":{\"color\":\"#2a3f5f\"},\"marker\":{\"line\":{\"color\":\"#E5ECF6\",\"width\":0.5},\"pattern\":{\"fillmode\":\"overlay\",\"size\":10,\"solidity\":0.2}},\"type\":\"bar\"}],\"scattergeo\":[{\"type\":\"scattergeo\",\"marker\":{\"colorbar\":{\"outlinewidth\":0,\"ticks\":\"\"}}}],\"scatterpolar\":[{\"type\":\"scatterpolar\",\"marker\":{\"colorbar\":{\"outlinewidth\":0,\"ticks\":\"\"}}}],\"histogram\":[{\"marker\":{\"pattern\":{\"fillmode\":\"overlay\",\"size\":10,\"solidity\":0.2}},\"type\":\"histogram\"}],\"scattergl\":[{\"type\":\"scattergl\",\"marker\":{\"colorbar\":{\"outlinewidth\":0,\"ticks\":\"\"}}}],\"scatter3d\":[{\"type\":\"scatter3d\",\"line\":{\"colorbar\":{\"outlinewidth\":0,\"ticks\":\"\"}},\"marker\":{\"colorbar\":{\"outlinewidth\":0,\"ticks\":\"\"}}}],\"scattermapbox\":[{\"type\":\"scattermapbox\",\"marker\":{\"colorbar\":{\"outlinewidth\":0,\"ticks\":\"\"}}}],\"scatterternary\":[{\"type\":\"scatterternary\",\"marker\":{\"colorbar\":{\"outlinewidth\":0,\"ticks\":\"\"}}}],\"scattercarpet\":[{\"type\":\"scattercarpet\",\"marker\":{\"colorbar\":{\"outlinewidth\":0,\"ticks\":\"\"}}}],\"carpet\":[{\"aaxis\":{\"endlinecolor\":\"#2a3f5f\",\"gridcolor\":\"white\",\"linecolor\":\"white\",\"minorgridcolor\":\"white\",\"startlinecolor\":\"#2a3f5f\"},\"baxis\":{\"endlinecolor\":\"#2a3f5f\",\"gridcolor\":\"white\",\"linecolor\":\"white\",\"minorgridcolor\":\"white\",\"startlinecolor\":\"#2a3f5f\"},\"type\":\"carpet\"}],\"table\":[{\"cells\":{\"fill\":{\"color\":\"#EBF0F8\"},\"line\":{\"color\":\"white\"}},\"header\":{\"fill\":{\"color\":\"#C8D4E3\"},\"line\":{\"color\":\"white\"}},\"type\":\"table\"}],\"barpolar\":[{\"marker\":{\"line\":{\"color\":\"#E5ECF6\",\"width\":0.5},\"pattern\":{\"fillmode\":\"overlay\",\"size\":10,\"solidity\":0.2}},\"type\":\"barpolar\"}],\"pie\":[{\"automargin\":true,\"type\":\"pie\"}]},\"layout\":{\"autotypenumbers\":\"strict\",\"colorway\":[\"#636efa\",\"#EF553B\",\"#00cc96\",\"#ab63fa\",\"#FFA15A\",\"#19d3f3\",\"#FF6692\",\"#B6E880\",\"#FF97FF\",\"#FECB52\"],\"font\":{\"color\":\"#2a3f5f\"},\"hovermode\":\"closest\",\"hoverlabel\":{\"align\":\"left\"},\"paper_bgcolor\":\"white\",\"plot_bgcolor\":\"#E5ECF6\",\"polar\":{\"bgcolor\":\"#E5ECF6\",\"angularaxis\":{\"gridcolor\":\"white\",\"linecolor\":\"white\",\"ticks\":\"\"},\"radialaxis\":{\"gridcolor\":\"white\",\"linecolor\":\"white\",\"ticks\":\"\"}},\"ternary\":{\"bgcolor\":\"#E5ECF6\",\"aaxis\":{\"gridcolor\":\"white\",\"linecolor\":\"white\",\"ticks\":\"\"},\"baxis\":{\"gridcolor\":\"white\",\"linecolor\":\"white\",\"ticks\":\"\"},\"caxis\":{\"gridcolor\":\"white\",\"linecolor\":\"white\",\"ticks\":\"\"}},\"coloraxis\":{\"colorbar\":{\"outlinewidth\":0,\"ticks\":\"\"}},\"colorscale\":{\"sequential\":[[0.0,\"#0d0887\"],[0.1111111111111111,\"#46039f\"],[0.2222222222222222,\"#7201a8\"],[0.3333333333333333,\"#9c179e\"],[0.4444444444444444,\"#bd3786\"],[0.5555555555555556,\"#d8576b\"],[0.6666666666666666,\"#ed7953\"],[0.7777777777777778,\"#fb9f3a\"],[0.8888888888888888,\"#fdca26\"],[1.0,\"#f0f921\"]],\"sequentialminus\":[[0.0,\"#0d0887\"],[0.1111111111111111,\"#46039f\"],[0.2222222222222222,\"#7201a8\"],[0.3333333333333333,\"#9c179e\"],[0.4444444444444444,\"#bd3786\"],[0.5555555555555556,\"#d8576b\"],[0.6666666666666666,\"#ed7953\"],[0.7777777777777778,\"#fb9f3a\"],[0.8888888888888888,\"#fdca26\"],[1.0,\"#f0f921\"]],\"diverging\":[[0,\"#8e0152\"],[0.1,\"#c51b7d\"],[0.2,\"#de77ae\"],[0.3,\"#f1b6da\"],[0.4,\"#fde0ef\"],[0.5,\"#f7f7f7\"],[0.6,\"#e6f5d0\"],[0.7,\"#b8e186\"],[0.8,\"#7fbc41\"],[0.9,\"#4d9221\"],[1,\"#276419\"]]},\"xaxis\":{\"gridcolor\":\"white\",\"linecolor\":\"white\",\"ticks\":\"\",\"title\":{\"standoff\":15},\"zerolinecolor\":\"white\",\"automargin\":true,\"zerolinewidth\":2},\"yaxis\":{\"gridcolor\":\"white\",\"linecolor\":\"white\",\"ticks\":\"\",\"title\":{\"standoff\":15},\"zerolinecolor\":\"white\",\"automargin\":true,\"zerolinewidth\":2},\"scene\":{\"xaxis\":{\"backgroundcolor\":\"#E5ECF6\",\"gridcolor\":\"white\",\"linecolor\":\"white\",\"showbackground\":true,\"ticks\":\"\",\"zerolinecolor\":\"white\",\"gridwidth\":2},\"yaxis\":{\"backgroundcolor\":\"#E5ECF6\",\"gridcolor\":\"white\",\"linecolor\":\"white\",\"showbackground\":true,\"ticks\":\"\",\"zerolinecolor\":\"white\",\"gridwidth\":2},\"zaxis\":{\"backgroundcolor\":\"#E5ECF6\",\"gridcolor\":\"white\",\"linecolor\":\"white\",\"showbackground\":true,\"ticks\":\"\",\"zerolinecolor\":\"white\",\"gridwidth\":2}},\"shapedefaults\":{\"line\":{\"color\":\"#2a3f5f\"}},\"annotationdefaults\":{\"arrowcolor\":\"#2a3f5f\",\"arrowhead\":0,\"arrowwidth\":1},\"geo\":{\"bgcolor\":\"white\",\"landcolor\":\"#E5ECF6\",\"subunitcolor\":\"white\",\"showland\":true,\"showlakes\":true,\"lakecolor\":\"white\"},\"title\":{\"x\":0.05},\"mapbox\":{\"style\":\"light\"}}},\"xaxis\":{\"anchor\":\"y\",\"domain\":[0.0,1.0],\"title\":{\"text\":\"date\"}},\"yaxis\":{\"anchor\":\"x\",\"domain\":[0.0,1.0],\"title\":{\"text\":\"value\"}},\"legend\":{\"title\":{\"text\":\"variable\"},\"tracegroupgap\":0},\"margin\":{\"t\":60}},                        {\"responsive\": true}                    ).then(function(){\n                            \nvar gd = document.getElementById('bb708246-895a-4cd7-981d-64f140aadf82');\nvar x = new MutationObserver(function (mutations, observer) {{\n        var display = window.getComputedStyle(gd).display;\n        if (!display || display === 'none') {{\n            console.log([gd, 'removed!']);\n            Plotly.purge(gd);\n            observer.disconnect();\n        }}\n}});\n\n// Listen for the removal of the full notebook cells\nvar notebookContainer = gd.closest('#notebook-container');\nif (notebookContainer) {{\n    x.observe(notebookContainer, {childList: true});\n}}\n\n// Listen for the clearing of the current output cell\nvar outputEl = gd.closest('.output');\nif (outputEl) {{\n    x.observe(outputEl, {childList: true});\n}}\n\n                        })                };                });            </script>        </div>"
     },
     "metadata": {},
     "output_type": "display_data"
    }
   ],
   "source": [
    "# 총자산 정보 가져오기\n",
    "total_asset1 = pd.DataFrame(account_relative.account_history)[\n",
    "                   ['date', 'total_asset']].set_index('date')[\n",
    "               simulation_fromdate:]\n",
    "total_asset2 = pd.DataFrame(account_per.account_history)[\n",
    "                   ['date', 'total_asset']].set_index('date')[\n",
    "               simulation_fromdate:]\n",
    "total_asset3 = pd.DataFrame(account_pbr.account_history)[\n",
    "                   ['date', 'total_asset']].set_index('date')[\n",
    "               simulation_fromdate:]\n",
    "total_asset4 = pd.DataFrame(account_dividend.account_history)[\n",
    "                   ['date', 'total_asset']].set_index('date')[\n",
    "               simulation_fromdate:]\n",
    "total_asset5 = pd.DataFrame(account_small.account_history)[\n",
    "                   ['date', 'total_asset']].set_index('date')[\n",
    "               simulation_fromdate:]\n",
    "total_asset6 = pd.DataFrame(account_lowvol.account_history)[\n",
    "                   ['date', 'total_asset']].set_index('date')[\n",
    "               simulation_fromdate:]\n",
    "total_asset7 = pd.DataFrame(account_individual.account_history)[\n",
    "                   ['date', 'total_asset']].set_index('date')[\n",
    "               simulation_fromdate:]\n",
    "total_asset8 = pd.DataFrame(account_institutional.account_history)[\n",
    "                   ['date', 'total_asset']].set_index('date')[\n",
    "               simulation_fromdate:]\n",
    "total_asset9 = pd.DataFrame(account_foreign.account_history)[\n",
    "                   ['date', 'total_asset']].set_index('date')[\n",
    "               simulation_fromdate:]\n",
    "total_asset10 = pd.DataFrame(account_multifactor.account_history)[\n",
    "    ['date', 'total_asset']].set_index('date')\n",
    "\n",
    "# 자산 정보 결합하기\n",
    "total_assets = pd.concat(\n",
    "    [kospi_returns, total_asset1, total_asset2, total_asset3, total_asset4,\n",
    "     total_asset5, total_asset6, total_asset7, total_asset8, total_asset9,\n",
    "     total_asset10\n",
    "     ],\n",
    "    axis=1)\n",
    "total_assets.columns = [\"코스피\", \"상대모멘텀\", \"PER(가치)\", \"PBR(가치)\", \"배당\",\n",
    "                        \"소형주\", \"로우볼\", \"개인\", \"기관\", \"외국인\", '멀티팩터'\n",
    "                        ]\n",
    "\n",
    "# 자산 변화 시각화하기\n",
    "color_map = {\"멀티팩터\": \"black\"}\n",
    "fig = px.line(data_frame=total_assets, color_discrete_map=color_map)\n",
    "fig.show()"
   ],
   "metadata": {
    "collapsed": false,
    "ExecuteTime": {
     "end_time": "2023-12-07T05:19:37.770481Z",
     "start_time": "2023-12-07T05:19:37.726764Z"
    }
   }
  },
  {
   "cell_type": "code",
   "execution_count": 56,
   "outputs": [
    {
     "data": {
      "text/plain": "'CAGR: 0.07447742899224363, MDD: -0.31631897633315964, Sharpe Ratio: 0.5033032236063941, Sortino Ratio: 0.49128436907510104'"
     },
     "execution_count": 56,
     "metadata": {},
     "output_type": "execute_result"
    }
   ],
   "source": [
    "metric_calculate(df=kospi_returns, fromdate=simulation_fromdate)"
   ],
   "metadata": {
    "collapsed": false,
    "ExecuteTime": {
     "end_time": "2023-12-07T05:14:16.077285Z",
     "start_time": "2023-12-07T05:14:16.055415Z"
    }
   }
  },
  {
   "cell_type": "code",
   "execution_count": null,
   "outputs": [],
   "source": [],
   "metadata": {
    "collapsed": false
   }
  }
 ],
 "metadata": {
  "kernelspec": {
   "display_name": "Python 3",
   "language": "python",
   "name": "python3"
  },
  "language_info": {
   "codemirror_mode": {
    "name": "ipython",
    "version": 2
   },
   "file_extension": ".py",
   "mimetype": "text/x-python",
   "name": "python",
   "nbconvert_exporter": "python",
   "pygments_lexer": "ipython2",
   "version": "2.7.6"
  }
 },
 "nbformat": 4,
 "nbformat_minor": 0
}
